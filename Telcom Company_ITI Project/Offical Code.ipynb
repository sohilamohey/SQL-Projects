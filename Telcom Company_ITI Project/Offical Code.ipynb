{
    "metadata": {
        "kernelspec": {
            "name": "SQL",
            "display_name": "SQL",
            "language": "sql"
        },
        "language_info": {
            "name": "sql",
            "version": ""
        }
    },
    "nbformat_minor": 2,
    "nbformat": 4,
    "cells": [
        {
            "cell_type": "markdown",
            "source": [
                "## **Used Stored Procedures**"
            ],
            "metadata": {
                "azdata_cell_guid": "57da53fd-2ca1-4538-a423-4f8f749c2367"
            },
            "attachments": {}
        },
        {
            "cell_type": "code",
            "source": [
                "--TO ANSWER QUESTION NMBER 6, 7, 14\r\n",
                "CREATE OR ALTER PROCEDURE Average_OF_Column_And_GroupBy \r\n",
                "    @FirstCol NVARCHAR(20), \r\n",
                "    @AvgColumn NVARCHAR(20), \r\n",
                "    @GroupByColumn NVARCHAR(20), \r\n",
                "    @tableName NVARCHAR(20)\r\n",
                "AS\r\n",
                "BEGIN\r\n",
                "    DECLARE @SqlQuery NVARCHAR(MAX);\r\n",
                "\r\n",
                "    SET @SqlQuery = \r\n",
                "        'SELECT ' + QUOTENAME(@FirstCol) + ' AS ' + QUOTENAME(@FirstCol) + ',' +\r\n",
                "        'FORMAT(AVG(' + QUOTENAME(@AvgColumn) + '), ''N2'') AS [Average of ' + @AvgColumn + ']' +\r\n",
                "        ' FROM ' +@tableName +\r\n",
                "        ' GROUP BY ' + QUOTENAME(@GroupByColumn) +\r\n",
                "        ' ORDER BY 2;';\r\n",
                "\r\n",
                "    EXEC sp_executesql @SqlQuery;\r\n",
                "END;"
            ],
            "metadata": {
                "language": "sql",
                "azdata_cell_guid": "a2829992-9682-4a86-b13c-68ba0f7af66f"
            },
            "outputs": [
                {
                    "output_type": "display_data",
                    "data": {
                        "text/html": "Commands completed successfully."
                    },
                    "metadata": {}
                },
                {
                    "output_type": "display_data",
                    "data": {
                        "text/html": "Total execution time: 00:00:00.016"
                    },
                    "metadata": {}
                }
            ],
            "execution_count": 1
        },
        {
            "cell_type": "code",
            "source": [
                "--TO ANSWER QUESTION NMBER 9\r\n",
                "CREATE OR ALTER PROC GET_CORR_DEMOavg_CHURN__(@attr VARCHAR(20))\r\n",
                "AS\r\n",
                "BEGIN\r\n",
                "\tDECLARE @sql2 NVARCHAR(MAX)\r\n",
                "\tSET @sql2 = N'\r\n",
                "    SELECT AVG(' + QUOTENAME(@attr) + ') AS '+QUOTENAME(@attr)+', s.Customer_Status\r\n",
                "    FROM Demographics d\r\n",
                "    JOIN Status s ON d.CustomerID = s.CustomerID\r\n",
                "\tGROUP BY s.Customer_Status';\r\n",
                "\tEXEC sp_executesql @sql2;\r\n",
                "\tRETURN\r\n",
                "END"
            ],
            "metadata": {
                "language": "sql",
                "azdata_cell_guid": "64c67236-0c5c-4917-abdb-51dd0a330138"
            },
            "outputs": [
                {
                    "output_type": "display_data",
                    "data": {
                        "text/html": "Commands completed successfully."
                    },
                    "metadata": {}
                },
                {
                    "output_type": "display_data",
                    "data": {
                        "text/html": "Total execution time: 00:00:00.002"
                    },
                    "metadata": {}
                }
            ],
            "execution_count": 2
        },
        {
            "cell_type": "code",
            "source": [
                "--TO ANSWER QUESTION NMBER 21_1, 21_2\r\n",
                "CREATE OR ALTER PROCEDURE GetChurnStatistics\r\n",
                "    @GroupByColumn NVARCHAR(100)\r\n",
                "AS\r\n",
                "BEGIN\r\n",
                "    DECLARE @sql NVARCHAR(MAX);\r\n",
                "\r\n",
                "    SET @sql = \r\n",
                "    N'SELECT ' + QUOTENAME(@GroupByColumn) + ' AS ' + QUOTENAME(@GroupByColumn) + ',\r\n",
                "       COUNT(*) AS [Total NYMBER of Churned],\r\n",
                "       AVG(age) AS [Average of Churned Age]\r\n",
                "    FROM \r\n",
                "        status st\r\n",
                "    JOIN \r\n",
                "        Demographics demo ON demo.CustomerID = st.CustomerID\r\n",
                "    WHERE \r\n",
                "        Customer_Status = ''Churned''\r\n",
                "    GROUP BY ' \r\n",
                "        + QUOTENAME(@GroupByColumn) + '\r\n",
                "    ORDER BY \r\n",
                "        2 DESC'\r\n",
                "\r\n",
                "    EXEC sp_executesql @sql;\r\n",
                "END;\r\n",
                ""
            ],
            "metadata": {
                "language": "sql",
                "azdata_cell_guid": "fbc4c994-8553-484c-87cd-4d9b0b971ba2"
            },
            "outputs": [
                {
                    "output_type": "display_data",
                    "data": {
                        "text/html": "Commands completed successfully."
                    },
                    "metadata": {}
                },
                {
                    "output_type": "display_data",
                    "data": {
                        "text/html": "Total execution time: 00:00:00.002"
                    },
                    "metadata": {}
                }
            ],
            "execution_count": 3
        },
        {
            "cell_type": "markdown",
            "source": [
                "# **Used Functions**"
            ],
            "metadata": {
                "azdata_cell_guid": "d18c12e8-96fc-4acd-9c50-3800725bf42b"
            },
            "attachments": {}
        },
        {
            "cell_type": "code",
            "source": [
                "--To answer Question 3\r\n",
                "CREATE OR ALTER FUNCTION GetAverageDownloadByGender()\r\n",
                "RETURNS TABLE\r\n",
                "AS\r\n",
                "RETURN\r\n",
                "(\r\n",
                "    SELECT\r\n",
                "        Gender AS Gender,\r\n",
                "        FORMAT(AVG(Avg_Monthly_GB_Download), 'N2') AS [Average Monthly GB Download for all Gender]\r\n",
                "    FROM\r\n",
                "        Demographics d\r\n",
                "    JOIN\r\n",
                "        Service s ON d.CustomerID = s.CustomerID\r\n",
                "    GROUP BY\r\n",
                "        Gender\r\n",
                ");"
            ],
            "metadata": {
                "azdata_cell_guid": "97c9ad89-5d87-4f50-8772-3f37e082bb66",
                "language": "sql"
            },
            "outputs": [
                {
                    "output_type": "display_data",
                    "data": {
                        "text/html": "Commands completed successfully."
                    },
                    "metadata": {}
                },
                {
                    "output_type": "display_data",
                    "data": {
                        "text/html": "Total execution time: 00:00:00.007"
                    },
                    "metadata": {}
                }
            ],
            "execution_count": 4
        },
        {
            "cell_type": "code",
            "source": [
                "--To answer question number 13\r\n",
                "CREATE OR ALTER FUNCTION HighestStateRateFunc()\r\n",
                "RETURNS @T TABLE\r\n",
                "(\r\n",
                "  Customer_Status NVARCHAR(50),\r\n",
                "  Number_of_Customers INT,\r\n",
                "  Rate DECIMAL(10, 2)\r\n",
                ")\r\n",
                "AS\r\n",
                "BEGIN\r\n",
                "  INSERT INTO @T (Customer_Status, \r\n",
                "                  Number_of_Customers, \r\n",
                "                  Rate)\r\n",
                "  SELECT \r\n",
                "     s.Customer_Status,\r\n",
                "    count(*) AS [Number oF Customers],\r\n",
                "    (CAST(\r\n",
                "        COUNT(*) AS DECIMAL(10, 2)) \r\n",
                "        / (SELECT COUNT(*) FROM Status)\r\n",
                "        ) * 100 AS [Rate]\r\n",
                "  FROM\r\n",
                "    Status s\r\n",
                "  JOIN\r\n",
                "    Demographics d \r\n",
                "    ON s.CustomerID = d.CustomerID\r\n",
                "  JOIN\r\n",
                "    Location l \r\n",
                "    ON d.Zip_Code = l.Zip_Code\r\n",
                "  GROUP BY\r\n",
                "    s.Customer_Status;\r\n",
                "  ORDER BY\r\n",
                "    2 DESC\r\n",
                "  RETURN;\r\n",
                "END;"
            ],
            "metadata": {
                "language": "sql",
                "azdata_cell_guid": "a1a71ddd-dbfb-4acf-9bbb-11ca40271763"
            },
            "outputs": [
{
    "output_type": "error",
    "evalue": "Msg 156, Level 15, State 1, Procedure HighestStateRateFunc, Line 31\r\nIncorrect syntax near the keyword 'ORDER'.",
    "ename": "",
    "traceback": []
}, {
    "output_type": "display_data",
    "data": {
        "text/html": "Total execution time: 00:00:00.005"
    },
    "metadata": {}
}
],
            "execution_count": 5
        },
        {
            "cell_type": "code",
            "source": [
                "-- To answer question Number 16\r\n",
                "CREATE OR ALTER FUNCTION dbo.GetAverageDownloadFunction()\r\n",
                "RETURNS TABLE\r\n",
                "AS\r\n",
                "RETURN\r\n",
                "(\r\n",
                "SELECT DISTINCT\r\n",
                "        Internet_Service,\r\n",
                "        FORMAT(AVG(Avg_Monthly_GB_Download) OVER (PARTITION BY Internet_Service), 'N2') AS Avg_Monthly_GB_Download\r\n",
                "    FROM\r\n",
                "        service\r\n",
                ");"
            ],
            "metadata": {
                "azdata_cell_guid": "1e39eeec-69d0-4501-b1e3-47ec3d675bf1",
                "language": "sql"
            },
            "outputs": [],
            "execution_count": null
        },
        {
            "cell_type": "markdown",
            "source": [
                "# **Used Views**"
            ],
            "metadata": {
                "language": "sql",
                "azdata_cell_guid": "8fb7461e-5e93-4048-80e9-6e5abfe7b818"
            },
            "attachments": {}
        },
        {
            "cell_type": "code",
            "source": [
                "CREATE OR ALTER VIEW city_tenure_consumption(city, state, country, average_tenure, average_consumption)\r\n",
                "AS\r\n",
                "\tSELECT l.city, l.state, l.country, \r\n",
                "           AVG(s.Tenure_in_Months) AS 'Average Tenure in Month', \r\n",
                "           AVG(s.Avg_Monthly_GB_Download) AS 'Average OF Consumption' \r\n",
                "\tFROM \r\n",
                "        Location l, Demographics d, Service s\r\n",
                "\tWHERE \r\n",
                "        l.Zip_Code = d.Zip_Code AND d.CustomerID = s.CustomerID\r\n",
                "\tGROUP BY \r\n",
                "        l.city, l.state, l.country\r\n",
                "\r\n",
                "GO"
            ],
            "metadata": {
                "language": "sql",
                "azdata_cell_guid": "bdf8724c-256f-4a8b-8803-8d72ad807453"
            },
            "outputs": [
                {
                    "output_type": "display_data",
                    "data": {
                        "text/html": "Commands completed successfully."
                    },
                    "metadata": {}
                },
                {
                    "output_type": "display_data",
                    "data": {
                        "text/html": "Total execution time: 00:00:00.006"
                    },
                    "metadata": {}
                }
            ],
            "execution_count": 36
        },
        {
            "cell_type": "markdown",
            "source": [
                "## **Questions & Answers**"
            ],
            "metadata": {
                "language": "sql",
                "azdata_cell_guid": "69c6c739-6910-432e-a437-0c82c89e279e"
            },
            "attachments": {}
        },
        {
            "cell_type": "markdown",
            "source": [
                "### **Q1)Is there a relatuion between Gender and Churned Customers?**"
            ],
            "metadata": {
                "language": "sql",
                "azdata_cell_guid": "8994ceef-0b44-4bbc-89a2-18fd8f24dda7"
            },
            "attachments": {}
        },
        {
            "cell_type": "code",
            "source": [
                "EXEC GET_CORR_DEMO_CHURN__'Gender'"
            ],
            "metadata": {
                "language": "sql",
                "azdata_cell_guid": "0602db37-725c-496a-a183-dc3f85fa3e56",
                "tags": []
            },
            "outputs": [
                {
                    "output_type": "display_data",
                    "data": {
                        "text/html": "Warning: Null value is eliminated by an aggregate or other SET operation."
                    },
                    "metadata": {}
                },
                {
                    "output_type": "display_data",
                    "data": {
                        "text/html": "(2 rows affected)"
                    },
                    "metadata": {}
                },
                {
                    "output_type": "display_data",
                    "data": {
                        "text/html": "Total execution time: 00:00:00.020"
                    },
                    "metadata": {}
                },
                {
                    "output_type": "execute_result",
                    "execution_count": 21,
                    "data": {
                        "application/vnd.dataresource+json": {
                            "schema": {
                                "fields": [
                                    {
                                        "name": "Gender"
                                    },
                                    {
                                        "name": "Churned"
                                    },
                                    {
                                        "name": "Stayed"
                                    }
                                ]
                            },
                            "data": [
                                {
                                    "Gender": "Female",
                                    "Churned": "6",
                                    "Stayed": "10"
                                },
                                {
                                    "Gender": "Male",
                                    "Churned": "7",
                                    "Stayed": "7"
                                }
                            ]
                        },
                        "text/html": "<table><tr><th>Gender</th><th>Churned</th><th>Stayed</th></tr><tr><td>Female</td><td>6</td><td>10</td></tr><tr><td>Male</td><td>7</td><td>7</td></tr></table>"
                    },
                    "metadata": {}
                }
            ],
            "execution_count": 21
        },
        {
            "cell_type": "markdown",
            "source": [
                "### **Q2)  Which Martial Status has the highest Churn rate?**"
            ],
            "metadata": {
                "language": "sql",
                "azdata_cell_guid": "b46f0751-b261-4124-a675-f8c12552a006"
            },
            "attachments": {}
        },
        {
            "cell_type": "code",
            "source": [
                "EXEC GET_CORR_DEMO_CHURN__'Married'"
            ],
            "metadata": {
                "language": "sql",
                "azdata_cell_guid": "22f4783c-a375-42c9-b456-24b3695e921d"
            },
            "outputs": [
                {
                    "output_type": "display_data",
                    "data": {
                        "text/html": "Warning: Null value is eliminated by an aggregate or other SET operation."
                    },
                    "metadata": {}
                },
                {
                    "output_type": "display_data",
                    "data": {
                        "text/html": "(2 rows affected)"
                    },
                    "metadata": {}
                },
                {
                    "output_type": "display_data",
                    "data": {
                        "text/html": "Total execution time: 00:00:00.124"
                    },
                    "metadata": {}
                },
                {
                    "output_type": "execute_result",
                    "execution_count": 22,
                    "data": {
                        "application/vnd.dataresource+json": {
                            "schema": {
                                "fields": [
                                    {
                                        "name": "Married"
                                    },
                                    {
                                        "name": "Churned"
                                    },
                                    {
                                        "name": "Stayed"
                                    }
                                ]
                            },
                            "data": [
                                {
                                    "Married": "No",
                                    "Churned": "6",
                                    "Stayed": "8"
                                },
                                {
                                    "Married": "Yes",
                                    "Churned": "7",
                                    "Stayed": "9"
                                }
                            ]
                        },
                        "text/html": "<table><tr><th>Married</th><th>Churned</th><th>Stayed</th></tr><tr><td>No</td><td>6</td><td>8</td></tr><tr><td>Yes</td><td>7</td><td>9</td></tr></table>"
                    },
                    "metadata": {}
                }
            ],
            "execution_count": 22
        },
        {
            "cell_type": "markdown",
            "source": [
                "### **Q2\\_1) Is there a relation between Age and Churned?**"
            ],
            "metadata": {
                "language": "sql",
                "azdata_cell_guid": "5028700c-a06e-468d-bdeb-0b563ea21d1a"
            },
            "attachments": {}
        },
        {
            "cell_type": "code",
            "source": [
                "EXEC GET_CORR_DEMO_CHURN__'Senior_Citizen'"
            ],
            "metadata": {
                "language": "sql",
                "azdata_cell_guid": "fb5358ba-6d4d-43e4-8117-ad03b135f4c9"
            },
            "outputs": [
                {
                    "output_type": "display_data",
                    "data": {
                        "text/html": "Warning: Null value is eliminated by an aggregate or other SET operation."
                    },
                    "metadata": {}
                },
                {
                    "output_type": "display_data",
                    "data": {
                        "text/html": "(2 rows affected)"
                    },
                    "metadata": {}
                },
                {
                    "output_type": "display_data",
                    "data": {
                        "text/html": "Total execution time: 00:00:00.023"
                    },
                    "metadata": {}
                },
                {
                    "output_type": "execute_result",
                    "execution_count": 34,
                    "data": {
                        "application/vnd.dataresource+json": {
                            "schema": {
                                "fields": [
                                    {
                                        "name": "Senior_Citizen"
                                    },
                                    {
                                        "name": "Churned"
                                    },
                                    {
                                        "name": "Stayed"
                                    }
                                ]
                            },
                            "data": [
                                {
                                    "Senior_Citizen": "No",
                                    "Churned": "9",
                                    "Stayed": "15"
                                },
                                {
                                    "Senior_Citizen": "Yes",
                                    "Churned": "4",
                                    "Stayed": "2"
                                }
                            ]
                        },
                        "text/html": "<table><tr><th>Senior_Citizen</th><th>Churned</th><th>Stayed</th></tr><tr><td>No</td><td>9</td><td>15</td></tr><tr><td>Yes</td><td>4</td><td>2</td></tr></table>"
                    },
                    "metadata": {}
                }
            ],
            "execution_count": 34
        },
        {
            "cell_type": "markdown",
            "source": [
                "### **Q3) Which Gender has more consumption?**"
            ],
            "metadata": {
                "language": "sql",
                "azdata_cell_guid": "8e76a142-5ab9-4b32-8d0e-c0e32852c140"
            },
            "attachments": {}
        },
        {
            "cell_type": "code",
            "source": [
                "-- Call function GetAverageDownloadByGender\r\n",
                "SELECT * FROM GetAverageDownloadByGender();"
            ],
            "metadata": {
                "language": "sql",
                "azdata_cell_guid": "976bc0cb-c68e-4a67-8146-8b3557fb220f"
            },
            "outputs": [
                {
                    "output_type": "display_data",
                    "data": {
                        "text/html": "(2 rows affected)"
                    },
                    "metadata": {}
                },
                {
                    "output_type": "display_data",
                    "data": {
                        "text/html": "Total execution time: 00:00:00.017"
                    },
                    "metadata": {}
                },
                {
                    "output_type": "execute_result",
                    "execution_count": 35,
                    "data": {
                        "application/vnd.dataresource+json": {
                            "schema": {
                                "fields": [
                                    {
                                        "name": "Gender"
                                    },
                                    {
                                        "name": "Average Monthly GB Download for all Gender"
                                    }
                                ]
                            },
                            "data": [
                                {
                                    "Gender": "Female",
                                    "Average Monthly GB Download for all Gender": "165.00"
                                },
                                {
                                    "Gender": "Male",
                                    "Average Monthly GB Download for all Gender": "131.43"
                                }
                            ]
                        },
                        "text/html": "<table><tr><th>Gender</th><th>Average Monthly GB Download for all Gender</th></tr><tr><td>Female</td><td>165.00</td></tr><tr><td>Male</td><td>131.43</td></tr></table>"
                    },
                    "metadata": {}
                }
            ],
            "execution_count": 35
        },
        {
            "cell_type": "markdown",
            "source": [
                "**<u>Observation</u>**<span style=\"white-space-collapse: preserve; color: rgb(255, 255, 255); font-family: Arial, sans-serif; font-size: 14.6667px;\">:</span>\n",
                "**Female** is higher with average in Monthly GB Dawnload  than Males."
            ],
            "metadata": {
                "language": "sql",
                "azdata_cell_guid": "49497f8a-4886-4f50-acf5-6feddfd01b8d"
            }
        },
        {
            "cell_type": "markdown",
            "source": [
                "### **Q4) Which city has higher tenure and consumption?**"
            ],
            "metadata": {
                "azdata_cell_guid": "e63078d3-4d4e-4f7a-a858-a54f72e99052"
            },
            "attachments": {}
        },
        {
            "cell_type": "code",
            "source": [
                "--Use view named city_tenure_consumption\r\n",
                "SELECT \r\n",
                "    TOP(5) city as City, \r\n",
                "    average_tenure [Average Tenure], \r\n",
                "    FORMAT(average_consumption, 'N2') [Average Consumption]\r\n",
                "FROM\r\n",
                "    city_tenure_consumption\r\n",
                "ORDER BY \r\n",
                "    average_tenure DESC, \r\n",
                "    average_consumption DESC"
            ],
            "metadata": {
                "azdata_cell_guid": "8f8967e5-90b3-4346-bfae-a6fc33670d8c",
                "language": "sql",
                "tags": []
            },
            "outputs": [
                {
                    "output_type": "display_data",
                    "data": {
                        "text/html": "(5 rows affected)"
                    },
                    "metadata": {}
                },
                {
                    "output_type": "display_data",
                    "data": {
                        "text/html": "Total execution time: 00:00:00.017"
                    },
                    "metadata": {}
                },
                {
                    "output_type": "execute_result",
                    "execution_count": 37,
                    "data": {
                        "application/vnd.dataresource+json": {
                            "schema": {
                                "fields": [
                                    {
                                        "name": "City"
                                    },
                                    {
                                        "name": "Average Tenure"
                                    },
                                    {
                                        "name": "Average Consumption"
                                    }
                                ]
                            },
                            "data": [
                                {
                                    "City": "Paris",
                                    "Average Tenure": "21",
                                    "Average Consumption": "177.50"
                                },
                                {
                                    "City": "Munich",
                                    "Average Tenure": "19",
                                    "Average Consumption": "170.00"
                                },
                                {
                                    "City": "Sydney",
                                    "Average Tenure": "18",
                                    "Average Consumption": "166.67"
                                },
                                {
                                    "City": "Tokyo",
                                    "Average Tenure": "18",
                                    "Average Consumption": "150.00"
                                },
                                {
                                    "City": "Los Angeles",
                                    "Average Tenure": "18",
                                    "Average Consumption": "150.00"
                                }
                            ]
                        },
                        "text/html": "<table><tr><th>City</th><th>Average Tenure</th><th>Average Consumption</th></tr><tr><td>Paris</td><td>21</td><td>177.50</td></tr><tr><td>Munich</td><td>19</td><td>170.00</td></tr><tr><td>Sydney</td><td>18</td><td>166.67</td></tr><tr><td>Tokyo</td><td>18</td><td>150.00</td></tr><tr><td>Los Angeles</td><td>18</td><td>150.00</td></tr></table>"
                    },
                    "metadata": {}
                }
            ],
            "execution_count": 37
        },
        {
            "cell_type": "markdown",
            "source": [
                "**<u>Observation</u>**<span style=\"white-space-collapse: preserve; color: rgb(255, 255, 255); font-family: Arial, sans-serif; font-size: 14.6667px;\">:</span>  \n",
                "\n",
                " From the 5 exists Cities, Paris is the hifhest city with the average of Tenure and Consumption."
            ],
            "metadata": {
                "azdata_cell_guid": "46e8f565-8624-41f1-9f22-cbdab420d69c"
            },
            "attachments": {}
        },
        {
            "cell_type": "markdown",
            "source": [
                "### **Q5: Does Customer with High SatisfactionScore have high consumption?**\n",
                "\n",
                "<span style=\"color: var(--vscode-foreground);\"><br></span>"
            ],
            "metadata": {
                "azdata_cell_guid": "f5dab52f-2d04-40c0-ac0d-8c19e5dbd4cb"
            },
            "attachments": {}
        },
        {
            "cell_type": "code",
            "source": [
                "WITH RankedData AS (\r\n",
                "    SELECT \r\n",
                "        st.Satisfaction_Score,\r\n",
                "        demo.CustomerID, \r\n",
                "        DENSE_RANK() OVER (ORDER BY ser.Avg_Monthly_GB_Download DESC) AS Gigabyte_Downloads_Dense_Rank,\r\n",
                "        ser.Avg_Monthly_GB_Download\r\n",
                "    FROM \r\n",
                "        Status st\r\n",
                "    JOIN \r\n",
                "        Demographics demo ON demo.CustomerID = st.CustomerID\r\n",
                "    JOIN \r\n",
                "        Service ser \r\n",
                "    ON \r\n",
                "        demo.CustomerID = ser.CustomerID\r\n",
                ")\r\n",
                "SELECT Gigabyte_Downloads_Dense_Rank,\r\n",
                "       AVG(RD.Satisfaction_Score) AS[Average of Satisfaction Score]\r\n",
                "FROM\r\n",
                "       RankedData RD\r\n",
                "GROUP BY \r\n",
                "    Gigabyte_Downloads_Dense_Rank\r\n",
                "ORDER BY\r\n",
                "    2 DESC    \r\n",
                ""
            ],
            "metadata": {
                "azdata_cell_guid": "e103af31-00af-4ca6-932d-8a455df27f1d",
                "language": "sql"
            },
            "outputs": [
                {
                    "output_type": "display_data",
                    "data": {
                        "text/html": "(8 rows affected)"
                    },
                    "metadata": {}
                },
                {
                    "output_type": "display_data",
                    "data": {
                        "text/html": "Total execution time: 00:00:00.020"
                    },
                    "metadata": {}
                },
                {
                    "output_type": "execute_result",
                    "execution_count": 41,
                    "data": {
                        "application/vnd.dataresource+json": {
                            "schema": {
                                "fields": [
                                    {
                                        "name": "Gigabyte_Downloads_Dense_Rank"
                                    },
                                    {
                                        "name": "Average of Satisfaction Score"
                                    }
                                ]
                            },
                            "data": [
                                {
                                    "Gigabyte_Downloads_Dense_Rank": "8",
                                    "Average of Satisfaction Score": "5"
                                },
                                {
                                    "Gigabyte_Downloads_Dense_Rank": "6",
                                    "Average of Satisfaction Score": "4"
                                },
                                {
                                    "Gigabyte_Downloads_Dense_Rank": "7",
                                    "Average of Satisfaction Score": "4"
                                },
                                {
                                    "Gigabyte_Downloads_Dense_Rank": "1",
                                    "Average of Satisfaction Score": "4"
                                },
                                {
                                    "Gigabyte_Downloads_Dense_Rank": "2",
                                    "Average of Satisfaction Score": "3"
                                },
                                {
                                    "Gigabyte_Downloads_Dense_Rank": "5",
                                    "Average of Satisfaction Score": "3"
                                },
                                {
                                    "Gigabyte_Downloads_Dense_Rank": "4",
                                    "Average of Satisfaction Score": "2"
                                },
                                {
                                    "Gigabyte_Downloads_Dense_Rank": "3",
                                    "Average of Satisfaction Score": "1"
                                }
                            ]
                        },
                        "text/html": "<table><tr><th>Gigabyte_Downloads_Dense_Rank</th><th>Average of Satisfaction Score</th></tr><tr><td>8</td><td>5</td></tr><tr><td>6</td><td>4</td></tr><tr><td>7</td><td>4</td></tr><tr><td>1</td><td>4</td></tr><tr><td>2</td><td>3</td></tr><tr><td>5</td><td>3</td></tr><tr><td>4</td><td>2</td></tr><tr><td>3</td><td>1</td></tr></table>"
                    },
                    "metadata": {}
                }
            ],
            "execution_count": 41
        },
        {
            "cell_type": "markdown",
            "source": [
                "### **6) What is the average tenure of customers based on their contract type?**"
            ],
            "metadata": {
                "language": "sql",
                "azdata_cell_guid": "32bd916a-9076-46c2-b9e2-d70ce927b48f"
            },
            "attachments": {}
        },
        {
            "cell_type": "code",
            "source": [
                "--Call the proc named Average_OF_Column_And_GroupBy\r\n",
                "Average_OF_Column_And_GroupBy Contract, Tenure_in_Months, Contract, service\r\n",
                ""
            ],
            "metadata": {
                "language": "sql",
                "azdata_cell_guid": "e2d2c5b2-efdc-44a6-8e14-eb334d307ab2",
                "tags": []
            },
            "outputs": [
                {
                    "output_type": "display_data",
                    "data": {
                        "text/html": "(3 rows affected)"
                    },
                    "metadata": {}
                },
                {
                    "output_type": "display_data",
                    "data": {
                        "text/html": "Total execution time: 00:00:00.016"
                    },
                    "metadata": {}
                },
                {
                    "output_type": "execute_result",
                    "execution_count": 4,
                    "data": {
                        "application/vnd.dataresource+json": {
                            "schema": {
                                "fields": [
                                    {
                                        "name": "Contract"
                                    },
                                    {
                                        "name": "Average of Tenure_in_Months"
                                    }
                                ]
                            },
                            "data": [
                                {
                                    "Contract": "Month-to-Month",
                                    "Average of Tenure_in_Months": "15.00"
                                },
                                {
                                    "Contract": "One_Year",
                                    "Average of Tenure_in_Months": "17.00"
                                },
                                {
                                    "Contract": "Two_Year",
                                    "Average of Tenure_in_Months": "21.00"
                                }
                            ]
                        },
                        "text/html": "<table><tr><th>Contract</th><th>Average of Tenure_in_Months</th></tr><tr><td>Month-to-Month</td><td>15.00</td></tr><tr><td>One_Year</td><td>17.00</td></tr><tr><td>Two_Year</td><td>21.00</td></tr></table>"
                    },
                    "metadata": {}
                }
            ],
            "execution_count": 4
        },
        {
            "cell_type": "markdown",
            "source": [
                "**<u>Observation</u>**<span style=\"color: rgb(255, 255, 255); font-family: Arial, sans-serif; font-size: 14.6667px; white-space-collapse: preserve;\">:</span>\n",
                "\n",
                "<span style=\"font-size: 14.6667px; white-space-collapse: preserve;\">The max average of time that users use the service is Two years contract.</span>\n",
                "\n",
                "<span style=\"font-size: 14.6667px; white-space-collapse: preserve;\">The min&nbsp; average of time that users use the service is month to month contract.</span>"
            ],
            "metadata": {
                "language": "sql",
                "azdata_cell_guid": "7d260d78-88e8-4d5a-afc7-65c7c6b4d0fb"
            },
            "attachments": {}
        },
        {
            "cell_type": "markdown",
            "source": [
                "### **Q7) How does the average monthly charge vary among different payment methods?**"
            ],
            "metadata": {
                "language": "sql",
                "azdata_cell_guid": "64c90d7d-48cf-4666-8f4b-e2a6d0a7ceec"
            },
            "attachments": {}
        },
        {
            "cell_type": "code",
            "source": [
                "--Call the proc named Average_OF_Column_And_GroupBy\r\n",
                "Average_OF_Column_And_GroupBy Payment_Method, Monthly_Charge, Payment_Method, service"
            ],
            "metadata": {
                "language": "sql",
                "azdata_cell_guid": "2a61be9a-e5a5-43d9-9f4a-98dc14d235d6",
                "tags": []
            },
            "outputs": [
                {
                    "output_type": "display_data",
                    "data": {
                        "text/html": "(3 rows affected)"
                    },
                    "metadata": {}
                },
                {
                    "output_type": "display_data",
                    "data": {
                        "text/html": "Total execution time: 00:00:00.005"
                    },
                    "metadata": {}
                },
                {
                    "output_type": "execute_result",
                    "execution_count": 11,
                    "data": {
                        "application/vnd.dataresource+json": {
                            "schema": {
                                "fields": [
                                    {
                                        "name": "Payment_Method"
                                    },
                                    {
                                        "name": "Average of Monthly_Charge"
                                    }
                                ]
                            },
                            "data": [
                                {
                                    "Payment_Method": "Credit_Card",
                                    "Average of Monthly_Charge": "55.00"
                                },
                                {
                                    "Payment_Method": "Mailed_Check",
                                    "Average of Monthly_Charge": "77.08"
                                },
                                {
                                    "Payment_Method": "Bank_Withdrawal",
                                    "Average of Monthly_Charge": "81.11"
                                }
                            ]
                        },
                        "text/html": "<table><tr><th>Payment_Method</th><th>Average of Monthly_Charge</th></tr><tr><td>Credit_Card</td><td>55.00</td></tr><tr><td>Mailed_Check</td><td>77.08</td></tr><tr><td>Bank_Withdrawal</td><td>81.11</td></tr></table>"
                    },
                    "metadata": {}
                }
            ],
            "execution_count": 11
        },
        {
            "cell_type": "markdown",
            "source": [
                "**<u>Observation</u>**<span style=\"color: rgb(255, 255, 255); font-family: Arial, sans-serif; font-size: 14.6667px; white-space-collapse: preserve;\">:</span>\n",
                "\n",
                "<span style=\"font-size: 14.6667px; white-space-collapse: preserve;\">From the exists data about 30 customers,</span>\n",
                "\n",
                "<span style=\"font-size: 14.6667px; white-space-collapse: preserve;\">Payment by bank with drawal has the max average in each month,&nbsp; the credit card has the min, and mailes check is moderate.</span>"
            ],
            "metadata": {
                "azdata_cell_guid": "2ee40206-47d4-4b6b-aef7-7884c19f165e"
            },
            "attachments": {}
        },
        {
            "cell_type": "markdown",
            "source": [
                "### **Q8) Which quarter experienced the highest rate for churned customers?**"
            ],
            "metadata": {
                "azdata_cell_guid": "5fbb87bb-15dc-4af6-8925-8b09d495aa35"
            },
            "attachments": {}
        },
        {
            "cell_type": "code",
            "source": [
                "SELECT \r\n",
                "    --TOP(1)\r\n",
                "    serv.Quar AS Quarter, \r\n",
                "    AVG(st.Satisfaction_Score) as 'Average of Satisfaction Score for Churned Customers'\r\n",
                "FROM\r\n",
                "    Status st\r\n",
                "JOIN \r\n",
                "    Service serv\r\n",
                "ON \r\n",
                "    st.CustomerID = serv.CustomerID \r\n",
                "WHERE \r\n",
                "    st.Customer_Status = 'Churned' \r\n",
                "GROUP BY \r\n",
                "    serv.Quar\r\n",
                "ORDER BY \r\n",
                "    2 DESC"
            ],
            "metadata": {
                "azdata_cell_guid": "d7090ecc-2fc0-48f7-9f74-373b23f43aba",
                "language": "sql"
            },
            "outputs": [
                {
                    "output_type": "display_data",
                    "data": {
                        "text/html": "(4 rows affected)"
                    },
                    "metadata": {}
                },
                {
                    "output_type": "display_data",
                    "data": {
                        "text/html": "Total execution time: 00:00:00.006"
                    },
                    "metadata": {}
                },
                {
                    "output_type": "execute_result",
                    "execution_count": 24,
                    "data": {
                        "application/vnd.dataresource+json": {
                            "schema": {
                                "fields": [
                                    {
                                        "name": "Quarter"
                                    },
                                    {
                                        "name": "Average of Satisfaction Score for Churned Customers"
                                    }
                                ]
                            },
                            "data": [
                                {
                                    "Quarter": "1",
                                    "Average of Satisfaction Score for Churned Customers": "3"
                                },
                                {
                                    "Quarter": "2",
                                    "Average of Satisfaction Score for Churned Customers": "2"
                                },
                                {
                                    "Quarter": "4",
                                    "Average of Satisfaction Score for Churned Customers": "2"
                                },
                                {
                                    "Quarter": "3",
                                    "Average of Satisfaction Score for Churned Customers": "1"
                                }
                            ]
                        },
                        "text/html": "<table><tr><th>Quarter</th><th>Average of Satisfaction Score for Churned Customers</th></tr><tr><td>1</td><td>3</td></tr><tr><td>2</td><td>2</td></tr><tr><td>4</td><td>2</td></tr><tr><td>3</td><td>1</td></tr></table>"
                    },
                    "metadata": {}
                }
            ],
            "execution_count": 24
        },
        {
            "cell_type": "markdown",
            "source": [
                "**<u>Observation</u>**<span style=\"white-space-collapse: preserve; color: rgb(255, 255, 255); font-family: Arial, sans-serif; font-size: 14.6667px;\">:</span>\n",
                "\n",
                "<span style=\"font-size: 14.6667px; white-space-collapse: preserve;\">Quarter 1 has the max average for the four quarter that the churned customers rate their Satisfaction about the service.</span>"
            ],
            "metadata": {
                "language": "sql",
                "azdata_cell_guid": "649ccda6-a804-4b13-8b65-d4be91bce942"
            },
            "attachments": {}
        },
        {
            "cell_type": "markdown",
            "source": [
                "### **Q9) <span style=\"font-size: 16.38px;\">Is there a relationship between the number of dependents (or age) and churn?</span>**"
            ],
            "metadata": {
                "language": "sql",
                "azdata_cell_guid": "cab22181-3407-4c0e-bcf7-3dfade21adee"
            },
            "attachments": {}
        },
        {
            "cell_type": "code",
            "source": [
                "-- Call proc named GET_CORR_DEMOavg_CHURN__\r\n",
                "DECLARE @cont_avg TABLE\r\n",
                "(\r\n",
                "\tavg_attr INT,\r\n",
                "\tCustomer_Status VARCHAR(20)\r\n",
                ")\r\n",
                "INSERT INTO @cont_avg\r\n",
                "EXEC GET_CORR_DEMOavg_CHURN__ 'Number_of_Dependents'\r\n",
                "SELECT Customer_Status, avg_attr AS [Average Number of Dependents]\r\n",
                "FROM @cont_avg\r\n",
                ""
            ],
            "metadata": {
                "language": "sql",
                "azdata_cell_guid": "579538e3-b87f-4b48-b494-bd043fb6f36a"
            },
            "outputs": [
                {
                    "output_type": "display_data",
                    "data": {
                        "text/html": "Commands completed successfully."
                    },
                    "metadata": {}
                },
                {
                    "output_type": "display_data",
                    "data": {
                        "text/html": "(2 rows affected)"
                    },
                    "metadata": {}
                },
                {
                    "output_type": "display_data",
                    "data": {
                        "text/html": "(2 rows affected)"
                    },
                    "metadata": {}
                },
                {
                    "output_type": "display_data",
                    "data": {
                        "text/html": "Total execution time: 00:00:00.028"
                    },
                    "metadata": {}
                },
                {
                    "output_type": "execute_result",
                    "execution_count": 26,
                    "data": {
                        "application/vnd.dataresource+json": {
                            "schema": {
                                "fields": [
                                    {
                                        "name": "Customer_Status"
                                    },
                                    {
                                        "name": "Average Number of Dependents"
                                    }
                                ]
                            },
                            "data": [
                                {
                                    "Customer_Status": "Churned",
                                    "Average Number of Dependents": "4"
                                },
                                {
                                    "Customer_Status": "Stayed",
                                    "Average Number of Dependents": "3"
                                }
                            ]
                        },
                        "text/html": "<table><tr><th>Customer_Status</th><th>Average Number of Dependents</th></tr><tr><td>Churned</td><td>4</td></tr><tr><td>Stayed</td><td>3</td></tr></table>"
                    },
                    "metadata": {}
                }
            ],
            "execution_count": 26
        },
        {
            "cell_type": "markdown",
            "source": [
                "### **Q10) What is the distribution of satistifction scores acrros different contract types?**"
            ],
            "metadata": {
                "language": "sql",
                "azdata_cell_guid": "aef6b85c-3379-4efe-8293-a2d2f0fbcc79"
            },
            "attachments": {}
        },
        {
            "cell_type": "code",
            "source": [
                " SELECT\r\n",
                "    sr.Contract,\r\n",
                "    COUNT(CASE WHEN st.Satisfaction_Score >= 4 AND st.Satisfaction_Score <= 5 THEN 1 END) AS High_Score_Count,\r\n",
                "    COUNT(CASE WHEN st.Satisfaction_Score = 3 THEN 1 END) AS Moderate_Score_Count,\r\n",
                "    COUNT(CASE WHEN st.Satisfaction_Score >= 1 AND st.Satisfaction_Score < 3 THEN 1 END) AS Low_Score_Count\r\n",
                "\r\n",
                "FROM\r\n",
                "    Service sr\r\n",
                "JOIN\r\n",
                "    Status st ON sr.CustomerID = st.CustomerID\r\n",
                "GROUP BY\r\n",
                "    sr.Contract\r\n",
                "ORDER BY\r\n",
                "    2 DESC;"
            ],
            "metadata": {
                "azdata_cell_guid": "bee09b56-9825-459d-9db5-eb3aca8ef212",
                "language": "sql",
                "tags": []
            },
            "outputs": [
                {
                    "output_type": "display_data",
                    "data": {
                        "text/html": "Warning: Null value is eliminated by an aggregate or other SET operation."
                    },
                    "metadata": {}
                },
                {
                    "output_type": "display_data",
                    "data": {
                        "text/html": "(3 rows affected)"
                    },
                    "metadata": {}
                },
                {
                    "output_type": "display_data",
                    "data": {
                        "text/html": "Total execution time: 00:00:00.018"
                    },
                    "metadata": {}
                },
                {
                    "output_type": "execute_result",
                    "execution_count": 5,
                    "data": {
                        "application/vnd.dataresource+json": {
                            "schema": {
                                "fields": [
                                    {
                                        "name": "Contract"
                                    },
                                    {
                                        "name": "High_Score_Count"
                                    },
                                    {
                                        "name": "Moderate_Score_Count"
                                    },
                                    {
                                        "name": "Low_Score_Count"
                                    }
                                ]
                            },
                            "data": [
                                {
                                    "Contract": "Month-to-Month",
                                    "High_Score_Count": "8",
                                    "Moderate_Score_Count": "4",
                                    "Low_Score_Count": "1"
                                },
                                {
                                    "Contract": "Two_Year",
                                    "High_Score_Count": "6",
                                    "Moderate_Score_Count": "1",
                                    "Low_Score_Count": "2"
                                },
                                {
                                    "Contract": "One_Year",
                                    "High_Score_Count": "3",
                                    "Moderate_Score_Count": "0",
                                    "Low_Score_Count": "5"
                                }
                            ]
                        },
                        "text/html": "<table><tr><th>Contract</th><th>High_Score_Count</th><th>Moderate_Score_Count</th><th>Low_Score_Count</th></tr><tr><td>Month-to-Month</td><td>8</td><td>4</td><td>1</td></tr><tr><td>Two_Year</td><td>6</td><td>1</td><td>2</td></tr><tr><td>One_Year</td><td>3</td><td>0</td><td>5</td></tr></table>"
                    },
                    "metadata": {}
                }
            ],
            "execution_count": 5
        },
        {
            "cell_type": "markdown",
            "source": [
                "### **Q11)Do customers who stream movies have higher tenure compared to those who don't?**"
            ],
            "metadata": {
                "language": "sql",
                "azdata_cell_guid": "637a3389-f21f-4eff-847d-fcac9dd573bf"
            },
            "attachments": {}
        },
        {
            "cell_type": "code",
            "source": [
                "SELECT\r\n",
                "    AVG(CASE WHEN Streaming_Movies = 'Yes' THEN Tenure_in_Months ELSE 0 END) AS Avg_Tenure_Stream_Movies,\r\n",
                "    AVG(CASE WHEN Streaming_Movies = 'No' THEN Tenure_in_Months ELSE 0 END) AS Avg_Tenure_No_Stream_Movies\r\n",
                "FROM\r\n",
                "    Service;"
            ],
            "metadata": {
                "language": "sql",
                "azdata_cell_guid": "678128f2-98cb-4e0f-bd13-f65802ceafbf"
            },
            "outputs": [
                {
                    "output_type": "display_data",
                    "data": {
                        "text/html": "(1 row affected)"
                    },
                    "metadata": {}
                },
                {
                    "output_type": "display_data",
                    "data": {
                        "text/html": "Total execution time: 00:00:00.024"
                    },
                    "metadata": {}
                },
                {
                    "output_type": "execute_result",
                    "execution_count": 3,
                    "data": {
                        "application/vnd.dataresource+json": {
                            "schema": {
                                "fields": [
                                    {
                                        "name": "Avg_Tenure_Stream_Movies"
                                    },
                                    {
                                        "name": "Avg_Tenure_No_Stream_Movies"
                                    }
                                ]
                            },
                            "data": [
                                {
                                    "Avg_Tenure_Stream_Movies": "7",
                                    "Avg_Tenure_No_Stream_Movies": "9"
                                }
                            ]
                        },
                        "text/html": "<table><tr><th>Avg_Tenure_Stream_Movies</th><th>Avg_Tenure_No_Stream_Movies</th></tr><tr><td>7</td><td>9</td></tr></table>"
                    },
                    "metadata": {}
                }
            ],
            "execution_count": 3
        },
        {
            "cell_type": "markdown",
            "source": [
                "### **Q12) <span style=\"background-color: rgb(31, 31, 31); color: rgb(204, 204, 204); font-family: Consolas, &quot;Courier New&quot;, monospace; white-space: pre;\">Is there a difference in average monthly charges between senior citizens and non-senior citizens?</span>**"
            ],
            "metadata": {
                "language": "sql",
                "azdata_cell_guid": "1ed9073c-f99e-4c3d-9c8b-36bad63523c1"
            },
            "attachments": {}
        },
        {
            "cell_type": "code",
            "source": [
                "SELECT\r\n",
                "    FORMAT(AVG(CASE WHEN Senior_Citizen = 'Yes' THEN Monthly_Charge ELSE 0 END), 'N2') AS Avg_Monthly_Charge_Senior,\r\n",
                "    FORMAT(AVG(CASE WHEN Senior_Citizen = 'No' THEN Monthly_Charge ELSE 0 END), 'N2') AS Avg_Monthly_Charge_Non_Senior\r\n",
                "FROM\r\n",
                "    Service\r\n",
                "JOIN\r\n",
                "    Demographics \r\n",
                "ON\r\n",
                "  Service.CustomerID = Demographics.CustomerID;"
            ],
            "metadata": {
                "language": "sql",
                "azdata_cell_guid": "d0643d12-46e6-4b41-a149-e22646954053"
            },
            "outputs": [
                {
                    "output_type": "display_data",
                    "data": {
                        "text/html": "(1 row affected)"
                    },
                    "metadata": {}
                },
                {
                    "output_type": "display_data",
                    "data": {
                        "text/html": "Total execution time: 00:00:00.012"
                    },
                    "metadata": {}
                },
                {
                    "output_type": "execute_result",
                    "execution_count": 8,
                    "data": {
                        "application/vnd.dataresource+json": {
                            "schema": {
                                "fields": [
                                    {
                                        "name": "Avg_Monthly_Charge_Senior"
                                    },
                                    {
                                        "name": "Avg_Monthly_Charge_Non_Senior"
                                    }
                                ]
                            },
                            "data": [
                                {
                                    "Avg_Monthly_Charge_Senior": "16.33",
                                    "Avg_Monthly_Charge_Non_Senior": "55.33"
                                }
                            ]
                        },
                        "text/html": "<table><tr><th>Avg_Monthly_Charge_Senior</th><th>Avg_Monthly_Charge_Non_Senior</th></tr><tr><td>16.33</td><td>55.33</td></tr></table>"
                    },
                    "metadata": {}
                }
            ],
            "execution_count": 8
        },
        {
            "cell_type": "markdown",
            "source": [
                "### **Q13\\_1) Which Customer status has the highest churn rate?**"
            ],
            "metadata": {
                "language": "sql",
                "azdata_cell_guid": "f94e8027-3d19-42c4-b085-e98d52c074bd"
            },
            "attachments": {}
        },
        {
            "cell_type": "code",
            "source": [
                "SELECT * FROM HighestStateRateFunc();"
            ],
            "metadata": {
                "language": "sql",
                "azdata_cell_guid": "43b4df83-bada-4308-a0e0-9fd68c4916cc"
            },
            "outputs": [
                {
                    "output_type": "display_data",
                    "data": {
                        "text/html": "(2 rows affected)"
                    },
                    "metadata": {}
                },
                {
                    "output_type": "display_data",
                    "data": {
                        "text/html": "Total execution time: 00:00:00.022"
                    },
                    "metadata": {}
                },
                {
                    "output_type": "execute_result",
                    "execution_count": 54,
                    "data": {
                        "application/vnd.dataresource+json": {
                            "schema": {
                                "fields": [
                                    {
                                        "name": "Customer_Status"
                                    },
                                    {
                                        "name": "Number_of_Customers"
                                    },
                                    {
                                        "name": "Rate"
                                    }
                                ]
                            },
                            "data": [
                                {
                                    "Customer_Status": "Churned",
                                    "Number_of_Customers": "13",
                                    "Rate": "43.33"
                                },
                                {
                                    "Customer_Status": "Stayed",
                                    "Number_of_Customers": "17",
                                    "Rate": "56.67"
                                }
                            ]
                        },
                        "text/html": "<table><tr><th>Customer_Status</th><th>Number_of_Customers</th><th>Rate</th></tr><tr><td>Churned</td><td>13</td><td>43.33</td></tr><tr><td>Stayed</td><td>17</td><td>56.67</td></tr></table>"
                    },
                    "metadata": {}
                }
            ],
            "execution_count": 54
        },
        {
            "cell_type": "markdown",
            "source": [
                "### **Q13\\_2) Which Customer state has the highest churn rate?**"
            ],
            "metadata": {
                "azdata_cell_guid": "7f4e8424-86af-436b-a817-f2244a9e8af6"
            },
            "attachments": {}
        },
        {
            "cell_type": "code",
            "source": [
                "SELECT \r\n",
                "     TOP(1) WITH TIES state, \r\n",
                "     COUNT(Customer_Status) [Churn Count]\r\n",
                "FROM\r\n",
                "     Location l, \r\n",
                "     Demographics d, \r\n",
                "     Status s\r\n",
                "WHERE \r\n",
                "     l.Zip_Code=d.Zip_Code AND \r\n",
                "     d.CustomerID=s.CustomerID AND \r\n",
                "     Customer_Status='Churned'\r\n",
                "GROUP BY \r\n",
                "     state\r\n",
                "ORDER BY \r\n",
                "     2 DESC"
            ],
            "metadata": {
                "language": "sql",
                "azdata_cell_guid": "33915089-678f-47eb-8672-cc76dc895df6"
            },
            "outputs": [
                {
                    "output_type": "display_data",
                    "data": {
                        "text/html": "(1 row affected)"
                    },
                    "metadata": {}
                },
                {
                    "output_type": "display_data",
                    "data": {
                        "text/html": "Total execution time: 00:00:00.059"
                    },
                    "metadata": {}
                },
                {
                    "output_type": "execute_result",
                    "execution_count": 1,
                    "data": {
                        "application/vnd.dataresource+json": {
                            "schema": {
                                "fields": [
                                    {
                                        "name": "state"
                                    },
                                    {
                                        "name": "Churn Count"
                                    }
                                ]
                            },
                            "data": [
                                {
                                    "state": "California",
                                    "Churn Count": "5"
                                }
                            ]
                        },
                        "text/html": "<table><tr><th>state</th><th>Churn Count</th></tr><tr><td>California</td><td>5</td></tr></table>"
                    },
                    "metadata": {}
                }
            ],
            "execution_count": 1
        },
        {
            "cell_type": "markdown",
            "source": [
                "### **Q14)What is the average tenure for customers who use streaming TV versus those who don't?**"
            ],
            "metadata": {
                "language": "sql",
                "azdata_cell_guid": "aa3a6db7-5c79-4737-8e52-4d83f969569d"
            },
            "attachments": {}
        },
        {
            "cell_type": "code",
            "source": [
                "-- Call Proc Average_OF_Column_And_GroupBy\r\n",
                "Average_OF_Column_And_GroupBy Streaming_TV, Tenure_in_Months, Streaming_TV, Service\r\n",
                "    "
            ],
            "metadata": {
                "language": "sql",
                "azdata_cell_guid": "83cd7a23-f351-4e67-a9e2-dbb0da2a7907"
            },
            "outputs": [
                {
                    "output_type": "display_data",
                    "data": {
                        "text/html": "(2 rows affected)"
                    },
                    "metadata": {}
                },
                {
                    "output_type": "display_data",
                    "data": {
                        "text/html": "Total execution time: 00:00:00.058"
                    },
                    "metadata": {}
                },
                {
                    "output_type": "execute_result",
                    "execution_count": 1,
                    "data": {
                        "application/vnd.dataresource+json": {
                            "schema": {
                                "fields": [
                                    {
                                        "name": "Streaming_TV"
                                    },
                                    {
                                        "name": "Average of Tenure_in_Months"
                                    }
                                ]
                            },
                            "data": [
                                {
                                    "Streaming_TV": "No",
                                    "Average of Tenure_in_Months": "15.00"
                                },
                                {
                                    "Streaming_TV": "Yes",
                                    "Average of Tenure_in_Months": "19.00"
                                }
                            ]
                        },
                        "text/html": "<table><tr><th>Streaming_TV</th><th>Average of Tenure_in_Months</th></tr><tr><td>No</td><td>15.00</td></tr><tr><td>Yes</td><td>19.00</td></tr></table>"
                    },
                    "metadata": {}
                }
            ],
            "execution_count": 1
        },
        {
            "cell_type": "markdown",
            "source": [
                "### **Q15) How does the churn rate vary among different internet service types?** \n",
                "\n",
                "<span style=\"color: var(--vscode-foreground);\"><br></span>"
            ],
            "metadata": {
                "language": "sql",
                "azdata_cell_guid": "18d532dc-9fda-496c-999a-b7fa7cc016ed"
            },
            "attachments": {}
        },
        {
            "cell_type": "code",
            "source": [
                "SELECT\r\n",
                "  S.Internet_Service [Internet Service],\r\n",
                "  COUNT(*) AS [Total Customers],\r\n",
                "  SUM(CASE WHEN Status.Customer_Status = 'Churned' THEN 1 ELSE 0 END) AS [Churned Customers]\r\n",
                "FROM\r\n",
                "    Service s\r\n",
                "JOIN\r\n",
                "  Status ON s.CustomerID = Status.CustomerID\r\n",
                "GROUP BY\r\n",
                "  S.Internet_Service\r\n",
                ""
            ],
            "metadata": {
                "language": "sql",
                "azdata_cell_guid": "80008d85-6ae8-454a-8d02-d3a6dd2fc52a"
            },
            "outputs": [
                {
                    "output_type": "display_data",
                    "data": {
                        "text/html": "(3 rows affected)"
                    },
                    "metadata": {}
                },
                {
                    "output_type": "display_data",
                    "data": {
                        "text/html": "Total execution time: 00:00:00.009"
                    },
                    "metadata": {}
                },
                {
                    "output_type": "execute_result",
                    "execution_count": 6,
                    "data": {
                        "application/vnd.dataresource+json": {
                            "schema": {
                                "fields": [
                                    {
                                        "name": "Internet Service"
                                    },
                                    {
                                        "name": "Total Customers"
                                    },
                                    {
                                        "name": "Churned Customers"
                                    }
                                ]
                            },
                            "data": [
                                {
                                    "Internet Service": "Cable",
                                    "Total Customers": "12",
                                    "Churned Customers": "6"
                                },
                                {
                                    "Internet Service": "DSL",
                                    "Total Customers": "9",
                                    "Churned Customers": "3"
                                },
                                {
                                    "Internet Service": "Fiber Optic",
                                    "Total Customers": "9",
                                    "Churned Customers": "4"
                                }
                            ]
                        },
                        "text/html": "<table><tr><th>Internet Service</th><th>Total Customers</th><th>Churned Customers</th></tr><tr><td>Cable</td><td>12</td><td>6</td></tr><tr><td>DSL</td><td>9</td><td>3</td></tr><tr><td>Fiber Optic</td><td>9</td><td>4</td></tr></table>"
                    },
                    "metadata": {}
                }
            ],
            "execution_count": 6
        },
        {
            "cell_type": "markdown",
            "source": [
                "### **Q16) What is the average monthly download volume for each internet service type?**\n",
                "\n",
                "<span style=\"color: var(--vscode-foreground);\"><br></span>"
            ],
            "metadata": {
                "language": "sql",
                "azdata_cell_guid": "65886389-1573-47ae-bb07-eecfce9e9246"
            },
            "attachments": {}
        },
        {
            "cell_type": "code",
            "source": [
                "SELECT * FROM dbo.GetAverageDownloadFunction();\r\n",
                ""
            ],
            "metadata": {
                "language": "sql",
                "azdata_cell_guid": "7c558fe2-d20d-4369-9cf5-97f6a790b671"
            },
            "outputs": [
                {
                    "output_type": "display_data",
                    "data": {
                        "text/html": "(3 rows affected)"
                    },
                    "metadata": {}
                },
                {
                    "output_type": "display_data",
                    "data": {
                        "text/html": "Total execution time: 00:00:00.012"
                    },
                    "metadata": {}
                },
                {
                    "output_type": "execute_result",
                    "execution_count": 11,
                    "data": {
                        "application/vnd.dataresource+json": {
                            "schema": {
                                "fields": [
                                    {
                                        "name": "Internet_Service"
                                    },
                                    {
                                        "name": "Avg_Monthly_GB_Download"
                                    }
                                ]
                            },
                            "data": [
                                {
                                    "Internet_Service": "Cable",
                                    "Avg_Monthly_GB_Download": "168.33"
                                },
                                {
                                    "Internet_Service": "DSL",
                                    "Avg_Monthly_GB_Download": "108.89"
                                },
                                {
                                    "Internet_Service": "Fiber Optic",
                                    "Avg_Monthly_GB_Download": "164.44"
                                }
                            ]
                        },
                        "text/html": "<table><tr><th>Internet_Service</th><th>Avg_Monthly_GB_Download</th></tr><tr><td>Cable</td><td>168.33</td></tr><tr><td>DSL</td><td>108.89</td></tr><tr><td>Fiber Optic</td><td>164.44</td></tr></table>"
                    },
                    "metadata": {}
                }
            ],
            "execution_count": 11
        },
        {
            "cell_type": "markdown",
            "source": [
                "### **Q17) Is there a correlation between satisfaction scores and churn categories?**\n",
                "\n",
                "<span style=\"color: var(--vscode-foreground);\"><br></span>"
            ],
            "metadata": {
                "language": "sql",
                "azdata_cell_guid": "5b6c6c5d-2d98-4640-925d-dea97fe75600"
            },
            "attachments": {}
        },
        {
            "cell_type": "code",
            "source": [
                "DECLARE @s_score INT\r\n",
                "SET @s_score = 4\r\n",
                "\r\n",
                "SELECT Churn_Category [Churn Category], \r\n",
                "       COUNT(Satisfaction_Score) [Count Satisfaction]\r\n",
                "FROM \r\n",
                "    Status\r\n",
                "WHERE \r\n",
                "    Satisfaction_Score = @s_score\r\n",
                "GROUP BY \r\n",
                "    Churn_Category\r\n",
                "ORDER BY\r\n",
                "    2 DESC;    "
            ],
            "metadata": {
                "language": "sql",
                "azdata_cell_guid": "30644d29-4419-4883-ad23-391fc48b7a00"
            },
            "outputs": [
                {
                    "output_type": "display_data",
                    "data": {
                        "text/html": "(4 rows affected)"
                    },
                    "metadata": {}
                },
                {
                    "output_type": "display_data",
                    "data": {
                        "text/html": "Total execution time: 00:00:00.006"
                    },
                    "metadata": {}
                },
                {
                    "output_type": "execute_result",
                    "execution_count": 15,
                    "data": {
                        "application/vnd.dataresource+json": {
                            "schema": {
                                "fields": [
                                    {
                                        "name": "Churn Category"
                                    },
                                    {
                                        "name": "Count Satisfaction"
                                    }
                                ]
                            },
                            "data": [
                                {
                                    "Churn Category": "Price",
                                    "Count Satisfaction": "4"
                                },
                                {
                                    "Churn Category": "Dissatisfaction",
                                    "Count Satisfaction": "2"
                                },
                                {
                                    "Churn Category": "Attitude",
                                    "Count Satisfaction": "2"
                                },
                                {
                                    "Churn Category": "Competitor",
                                    "Count Satisfaction": "1"
                                }
                            ]
                        },
                        "text/html": "<table><tr><th>Churn Category</th><th>Count Satisfaction</th></tr><tr><td>Price</td><td>4</td></tr><tr><td>Dissatisfaction</td><td>2</td></tr><tr><td>Attitude</td><td>2</td></tr><tr><td>Competitor</td><td>1</td></tr></table>"
                    },
                    "metadata": {}
                }
            ],
            "execution_count": 15
        },
        {
            "cell_type": "markdown",
            "source": [
                "### **Q18) How does the churn rate change based on the type of offers provided?**\n",
                "\n",
                "<span style=\"color: var(--vscode-foreground);\"><br></span>"
            ],
            "metadata": {
                "language": "sql",
                "azdata_cell_guid": "810ccc7d-7fa7-46f2-858f-8667fb912f87"
            },
            "attachments": {}
        },
        {
            "cell_type": "code",
            "source": [
                "SELECT\r\n",
                "    sr.Offer,\r\n",
                "    COUNT(sr.Offer) AS [Numer of Churned Use Offer],\r\n",
                "    CAST(COUNT(sr.Offer) * 100 / (SELECT COUNT(Customer_Status) \r\n",
                "\t\t\t\tFROM Status \r\n",
                "\t\t\t\tWHERE Customer_Status = 'Churned') AS INT) \r\n",
                "\t\t\t\tAS [Percentage Of Churned]\r\n",
                "FROM\r\n",
                "    Status st\r\n",
                "JOIN\r\n",
                "    Service sr \r\n",
                "    ON \r\n",
                "    sr.CustomerID = st.CustomerID\r\n",
                "WHERE\r\n",
                "    Customer_Status = 'Churned'\r\n",
                "GROUP BY\r\n",
                "    sr.Offer;"
            ],
            "metadata": {
                "language": "sql",
                "azdata_cell_guid": "730bc9e1-c456-4679-b078-edd1a3af2b3a"
            },
            "outputs": [
                {
                    "output_type": "display_data",
                    "data": {
                        "text/html": "(5 rows affected)"
                    },
                    "metadata": {}
                },
                {
                    "output_type": "display_data",
                    "data": {
                        "text/html": "Total execution time: 00:00:00.017"
                    },
                    "metadata": {}
                },
                {
                    "output_type": "execute_result",
                    "execution_count": 55,
                    "data": {
                        "application/vnd.dataresource+json": {
                            "schema": {
                                "fields": [
                                    {
                                        "name": "Offer"
                                    },
                                    {
                                        "name": "Numer of Churned Use Offer"
                                    },
                                    {
                                        "name": "Percentage Of Churned"
                                    }
                                ]
                            },
                            "data": [
                                {
                                    "Offer": "A",
                                    "Numer of Churned Use Offer": "5",
                                    "Percentage Of Churned": "38"
                                },
                                {
                                    "Offer": "B",
                                    "Numer of Churned Use Offer": "1",
                                    "Percentage Of Churned": "7"
                                },
                                {
                                    "Offer": "C",
                                    "Numer of Churned Use Offer": "1",
                                    "Percentage Of Churned": "7"
                                },
                                {
                                    "Offer": "D",
                                    "Numer of Churned Use Offer": "4",
                                    "Percentage Of Churned": "30"
                                },
                                {
                                    "Offer": "E",
                                    "Numer of Churned Use Offer": "2",
                                    "Percentage Of Churned": "15"
                                }
                            ]
                        },
                        "text/html": "<table><tr><th>Offer</th><th>Numer of Churned Use Offer</th><th>Percentage Of Churned</th></tr><tr><td>A</td><td>5</td><td>38</td></tr><tr><td>B</td><td>1</td><td>7</td></tr><tr><td>C</td><td>1</td><td>7</td></tr><tr><td>D</td><td>4</td><td>30</td></tr><tr><td>E</td><td>2</td><td>15</td></tr></table>"
                    },
                    "metadata": {}
                }
            ],
            "execution_count": 55
        },
        {
            "cell_type": "markdown",
            "source": [
                "### **Q19) Which payment method is most preferred among customers with high satisfaction scores?**\n",
                "\n",
                "<span style=\"color: var(--vscode-foreground);\"><br></span>"
            ],
            "metadata": {
                "language": "sql",
                "azdata_cell_guid": "32014836-5b37-42ea-a74d-9026ef8eb9fc"
            },
            "attachments": {}
        },
        {
            "cell_type": "code",
            "source": [
                "SELECT\r\n",
                "    sr.Payment_Method,\r\n",
                "    COUNT(CASE WHEN st.Satisfaction_Score >= 4 AND st.Satisfaction_Score <= 5 THEN 1 END) AS High_Score_Count\r\n",
                "FROM\r\n",
                "    Service sr\r\n",
                "JOIN\r\n",
                "    Status st ON sr.CustomerID = st.CustomerID\r\n",
                "GROUP BY\r\n",
                "    sr.Payment_Method\r\n",
                "ORDER BY\r\n",
                "    2 DESC;"
            ],
            "metadata": {
                "language": "sql",
                "azdata_cell_guid": "f8987062-b3df-4525-83c5-d34db9040bc3",
                "tags": []
            },
            "outputs": [
                {
                    "output_type": "display_data",
                    "data": {
                        "text/html": "Warning: Null value is eliminated by an aggregate or other SET operation."
                    },
                    "metadata": {}
                },
                {
                    "output_type": "display_data",
                    "data": {
                        "text/html": "(3 rows affected)"
                    },
                    "metadata": {}
                },
                {
                    "output_type": "display_data",
                    "data": {
                        "text/html": "Total execution time: 00:00:00.012"
                    },
                    "metadata": {}
                },
                {
                    "output_type": "execute_result",
                    "execution_count": 59,
                    "data": {
                        "application/vnd.dataresource+json": {
                            "schema": {
                                "fields": [
                                    {
                                        "name": "Payment_Method"
                                    },
                                    {
                                        "name": "High_Score_Count"
                                    }
                                ]
                            },
                            "data": [
                                {
                                    "Payment_Method": "Mailed_Check",
                                    "High_Score_Count": "7"
                                },
                                {
                                    "Payment_Method": "Credit_Card",
                                    "High_Score_Count": "6"
                                },
                                {
                                    "Payment_Method": "Bank_Withdrawal",
                                    "High_Score_Count": "4"
                                }
                            ]
                        },
                        "text/html": "<table><tr><th>Payment_Method</th><th>High_Score_Count</th></tr><tr><td>Mailed_Check</td><td>7</td></tr><tr><td>Credit_Card</td><td>6</td></tr><tr><td>Bank_Withdrawal</td><td>4</td></tr></table>"
                    },
                    "metadata": {}
                }
            ],
            "execution_count": 59
        },
        {
            "cell_type": "markdown",
            "source": [
                "### **Q20) Is there a difference in tenure between customers who churned and those who stayed?**"
            ],
            "metadata": {
                "language": "sql",
                "azdata_cell_guid": "71289f7c-e1a5-45c5-979d-f434bfc8eeef"
            },
            "attachments": {}
        },
        {
            "cell_type": "code",
            "source": [
                "SELECT\r\n",
                "    sr.Tenure_in_Months,\r\n",
                "    COUNT(CASE WHEN st.Customer_Status = 'Stayed' THEN 1 END) AS Stayed_Customers_Count,\r\n",
                "    COUNT(CASE WHEN st.Customer_Status = 'Churned' THEN 1 END) AS Churned_Customers_Count\r\n",
                "FROM\r\n",
                "    Service sr\r\n",
                "JOIN\r\n",
                "    Status st ON sr.CustomerID = st.CustomerID\r\n",
                "GROUP BY\r\n",
                "    sr.Tenure_in_Months\r\n",
                "ORDER BY\r\n",
                "    sr.Tenure_in_Months;"
            ],
            "metadata": {
                "language": "sql",
                "azdata_cell_guid": "474703c3-c887-41f4-92bc-112cf9518d7d"
            },
            "outputs": [
                {
                    "output_type": "display_data",
                    "data": {
                        "text/html": "Warning: Null value is eliminated by an aggregate or other SET operation."
                    },
                    "metadata": {}
                },
                {
                    "output_type": "display_data",
                    "data": {
                        "text/html": "(3 rows affected)"
                    },
                    "metadata": {}
                },
                {
                    "output_type": "display_data",
                    "data": {
                        "text/html": "Total execution time: 00:00:00.003"
                    },
                    "metadata": {}
                },
                {
                    "output_type": "execute_result",
                    "execution_count": 60,
                    "data": {
                        "application/vnd.dataresource+json": {
                            "schema": {
                                "fields": [
                                    {
                                        "name": "Tenure_in_Months"
                                    },
                                    {
                                        "name": "Stayed_Customers_Count"
                                    },
                                    {
                                        "name": "Churned_Customers_Count"
                                    }
                                ]
                            },
                            "data": [
                                {
                                    "Tenure_in_Months": "12",
                                    "Stayed_Customers_Count": "7",
                                    "Churned_Customers_Count": "3"
                                },
                                {
                                    "Tenure_in_Months": "18",
                                    "Stayed_Customers_Count": "6",
                                    "Churned_Customers_Count": "6"
                                },
                                {
                                    "Tenure_in_Months": "24",
                                    "Stayed_Customers_Count": "4",
                                    "Churned_Customers_Count": "4"
                                }
                            ]
                        },
                        "text/html": "<table><tr><th>Tenure_in_Months</th><th>Stayed_Customers_Count</th><th>Churned_Customers_Count</th></tr><tr><td>12</td><td>7</td><td>3</td></tr><tr><td>18</td><td>6</td><td>6</td></tr><tr><td>24</td><td>4</td><td>4</td></tr></table>"
                    },
                    "metadata": {}
                }
            ],
            "execution_count": 60
        },
        {
            "cell_type": "markdown",
            "source": [
                "### **Q21) How does the churn rate & churn Categore differe on age?**"
            ],
            "metadata": {
                "language": "sql",
                "azdata_cell_guid": "78080962-e631-43c3-94c0-342e723784a1"
            },
            "attachments": {}
        },
        {
            "cell_type": "code",
            "source": [
                "-- Call proc called GetChurnStatistics\r\n",
                "GetChurnStatistics Satisfaction_Score"
            ],
            "metadata": {
                "azdata_cell_guid": "159b535a-9c20-4858-a0d2-6b988db562fb",
                "language": "sql",
                "tags": []
            },
            "outputs": [
                {
                    "output_type": "display_data",
                    "data": {
                        "text/html": "(3 rows affected)"
                    },
                    "metadata": {}
                },
                {
                    "output_type": "display_data",
                    "data": {
                        "text/html": "Total execution time: 00:00:00.009"
                    },
                    "metadata": {}
                },
                {
                    "output_type": "execute_result",
                    "execution_count": 52,
                    "data": {
                        "application/vnd.dataresource+json": {
                            "schema": {
                                "fields": [
                                    {
                                        "name": "Satisfaction_Score"
                                    },
                                    {
                                        "name": "Total NYMBER of Churned"
                                    },
                                    {
                                        "name": "Average of Churned Age"
                                    }
                                ]
                            },
                            "data": [
                                {
                                    "Satisfaction_Score": "2",
                                    "Total NYMBER of Churned": "6",
                                    "Average of Churned Age": "40"
                                },
                                {
                                    "Satisfaction_Score": "3",
                                    "Total NYMBER of Churned": "5",
                                    "Average of Churned Age": "38"
                                },
                                {
                                    "Satisfaction_Score": "1",
                                    "Total NYMBER of Churned": "2",
                                    "Average of Churned Age": "54"
                                }
                            ]
                        },
                        "text/html": "<table><tr><th>Satisfaction_Score</th><th>Total NYMBER of Churned</th><th>Average of Churned Age</th></tr><tr><td>2</td><td>6</td><td>40</td></tr><tr><td>3</td><td>5</td><td>38</td></tr><tr><td>1</td><td>2</td><td>54</td></tr></table>"
                    },
                    "metadata": {}
                }
            ],
            "execution_count": 52
        },
        {
            "cell_type": "code",
            "source": [
                "-- Called proc of GetChurnStatistics\r\n",
                "GetChurnStatistics Churn_Category"
            ],
            "metadata": {
                "azdata_cell_guid": "f1187c05-10b9-4362-a1e9-b1ebce90e704",
                "language": "sql"
            },
            "outputs": [
                {
                    "output_type": "display_data",
                    "data": {
                        "text/html": "(5 rows affected)"
                    },
                    "metadata": {}
                },
                {
                    "output_type": "display_data",
                    "data": {
                        "text/html": "Total execution time: 00:00:00.015"
                    },
                    "metadata": {}
                },
                {
                    "output_type": "execute_result",
                    "execution_count": 51,
                    "data": {
                        "application/vnd.dataresource+json": {
                            "schema": {
                                "fields": [
                                    {
                                        "name": "Churn_Category"
                                    },
                                    {
                                        "name": "Total NYMBER of Churned"
                                    },
                                    {
                                        "name": "Average of Churned Age"
                                    }
                                ]
                            },
                            "data": [
                                {
                                    "Churn_Category": "Dissatisfaction",
                                    "Total NYMBER of Churned": "4",
                                    "Average of Churned Age": "36"
                                },
                                {
                                    "Churn_Category": "Attitude",
                                    "Total NYMBER of Churned": "3",
                                    "Average of Churned Age": "23"
                                },
                                {
                                    "Churn_Category": "Competitor",
                                    "Total NYMBER of Churned": "3",
                                    "Average of Churned Age": "46"
                                },
                                {
                                    "Churn_Category": "Other",
                                    "Total NYMBER of Churned": "2",
                                    "Average of Churned Age": "48"
                                },
                                {
                                    "Churn_Category": "Price",
                                    "Total NYMBER of Churned": "1",
                                    "Average of Churned Age": "88"
                                }
                            ]
                        },
                        "text/html": "<table><tr><th>Churn_Category</th><th>Total NYMBER of Churned</th><th>Average of Churned Age</th></tr><tr><td>Dissatisfaction</td><td>4</td><td>36</td></tr><tr><td>Attitude</td><td>3</td><td>23</td></tr><tr><td>Competitor</td><td>3</td><td>46</td></tr><tr><td>Other</td><td>2</td><td>48</td></tr><tr><td>Price</td><td>1</td><td>88</td></tr></table>"
                    },
                    "metadata": {}
                }
            ],
            "execution_count": 51
        },
        {
            "cell_type": "markdown",
            "source": [
                "### **Q22) What is the average total charge for customers in different cities?**"
            ],
            "metadata": {
                "language": "sql",
                "azdata_cell_guid": "6ab6e999-5a1a-42e8-ab93-d375b675ee54"
            },
            "attachments": {}
        },
        {
            "cell_type": "code",
            "source": [
                "SELECT City, \r\n",
                "\tFORMAT(AVG(Total_Charges), 'N2') as [Avgerage of Total Charge]\r\n",
                "FROM \r\n",
                "     Demographics d,\r\n",
                "     location l, \r\n",
                "     Service s\r\n",
                "where \r\n",
                "\tl.Zip_Code = d.Zip_Code \r\n",
                "    and \r\n",
                "\td.CustomerID = s.CustomerID\r\n",
                "group by City\r\n",
                "ORDER BY 2"
            ],
            "metadata": {
                "language": "sql",
                "azdata_cell_guid": "c7f71933-813e-4df8-bdf9-037e537ebf99"
            },
            "outputs": [],
            "execution_count": null
        },
        {
            "cell_type": "markdown",
            "source": [
                "### **Q23) Do customers with a higher number of dependents have higher satisfaction scores?**"
            ],
            "metadata": {
                "language": "sql",
                "azdata_cell_guid": "9c12798f-7c65-4633-96b8-5c85a912c9ae"
            },
            "attachments": {}
        },
        {
            "cell_type": "code",
            "source": [
                "SELECT Number_of_Dependents AS [Number of Dependents], \r\n",
                "       AVG(satisfaction_score) as [Satisfaction Score]\r\n",
                "FROM Demographics d,\r\n",
                "     status s\r\n",
                "WHERE\r\n",
                "     d.CustomerID = s.CustomerID\r\n",
                "GROUP BY Number_of_Dependents\r\n",
                "ORDER BY 1 DESC"
            ],
            "metadata": {
                "language": "sql",
                "azdata_cell_guid": "d1d61f05-7be5-4aba-8e90-d4323ec75f1c"
            },
            "outputs": [
                {
                    "output_type": "display_data",
                    "data": {
                        "text/html": "(8 rows affected)"
                    },
                    "metadata": {}
                },
                {
                    "output_type": "display_data",
                    "data": {
                        "text/html": "Total execution time: 00:00:00.006"
                    },
                    "metadata": {}
                },
                {
                    "output_type": "execute_result",
                    "execution_count": 53,
                    "data": {
                        "application/vnd.dataresource+json": {
                            "schema": {
                                "fields": [
                                    {
                                        "name": "Number of Dependents"
                                    },
                                    {
                                        "name": "Satisfaction Score"
                                    }
                                ]
                            },
                            "data": [
                                {
                                    "Number of Dependents": "9",
                                    "Satisfaction Score": "4"
                                },
                                {
                                    "Number of Dependents": "8",
                                    "Satisfaction Score": "3"
                                },
                                {
                                    "Number of Dependents": "7",
                                    "Satisfaction Score": "3"
                                },
                                {
                                    "Number of Dependents": "4",
                                    "Satisfaction Score": "2"
                                },
                                {
                                    "Number of Dependents": "3",
                                    "Satisfaction Score": "3"
                                },
                                {
                                    "Number of Dependents": "2",
                                    "Satisfaction Score": "4"
                                },
                                {
                                    "Number of Dependents": "1",
                                    "Satisfaction Score": "3"
                                },
                                {
                                    "Number of Dependents": "0",
                                    "Satisfaction Score": "4"
                                }
                            ]
                        },
                        "text/html": "<table><tr><th>Number of Dependents</th><th>Satisfaction Score</th></tr><tr><td>9</td><td>4</td></tr><tr><td>8</td><td>3</td></tr><tr><td>7</td><td>3</td></tr><tr><td>4</td><td>2</td></tr><tr><td>3</td><td>3</td></tr><tr><td>2</td><td>4</td></tr><tr><td>1</td><td>3</td></tr><tr><td>0</td><td>4</td></tr></table>"
                    },
                    "metadata": {}
                }
            ],
            "execution_count": 53
        },
        {
            "cell_type": "markdown",
            "source": [
                "There is no relation between number of dependence and <span style=\"color: rgb(255, 255, 255); font-family: Consolas, &quot;Courier New&quot;, monospace; font-size: 13px; white-space: pre;\">satisfaction score</span>"
            ],
            "metadata": {
                "language": "sql",
                "azdata_cell_guid": "3c270fb5-f657-4fd7-b979-e432956f22da"
            },
            "attachments": {}
        },
        {
            "cell_type": "markdown",
            "source": [
                "### **Q24) <span style=\"font-size: 16.38px;\">What is the percentage distribution of churn categories among churned customers?</span>**"
            ],
            "metadata": {
                "language": "sql",
                "azdata_cell_guid": "0cd4f523-4432-4060-a9bb-f9e4306788f3"
            },
            "attachments": {}
        },
        {
            "cell_type": "code",
            "source": [
                "SELECT \r\n",
                "    Churn_Category,\r\n",
                "    COUNT(Churn_Category) AS Churn_Category_Count,\r\n",
                "\tFORMAT(100.00 * COUNT(Churn_Category) / SUM(COUNT(Churn_Category)) OVER (), 'N2') AS Percentage\r\n",
                "FROM \r\n",
                "\tStatus\r\n",
                "WHERE \r\n",
                "\tCustomer_Status = 'Churned'\r\n",
                "GROUP BY \r\n",
                "\tChurn_Category\r\n",
                "ORDER BY \r\n",
                "\tChurn_Category_Count DESC"
            ],
            "metadata": {
                "language": "sql",
                "azdata_cell_guid": "cba3bdcf-56ab-44d6-b9b4-c1a0a7ab9643"
            },
            "outputs": [
                {
                    "output_type": "display_data",
                    "data": {
                        "text/html": "(5 rows affected)"
                    },
                    "metadata": {}
                },
                {
                    "output_type": "display_data",
                    "data": {
                        "text/html": "Total execution time: 00:00:00.030"
                    },
                    "metadata": {}
                },
                {
                    "output_type": "execute_result",
                    "execution_count": 60,
                    "data": {
                        "application/vnd.dataresource+json": {
                            "schema": {
                                "fields": [
                                    {
                                        "name": "Churn_Category"
                                    },
                                    {
                                        "name": "Churn_Category_Count"
                                    },
                                    {
                                        "name": "Percentage"
                                    }
                                ]
                            },
                            "data": [
                                {
                                    "Churn_Category": "Dissatisfaction",
                                    "Churn_Category_Count": "4",
                                    "Percentage": "30.77"
                                },
                                {
                                    "Churn_Category": "Attitude",
                                    "Churn_Category_Count": "3",
                                    "Percentage": "23.08"
                                },
                                {
                                    "Churn_Category": "Competitor",
                                    "Churn_Category_Count": "3",
                                    "Percentage": "23.08"
                                },
                                {
                                    "Churn_Category": "Other",
                                    "Churn_Category_Count": "2",
                                    "Percentage": "15.38"
                                },
                                {
                                    "Churn_Category": "Price",
                                    "Churn_Category_Count": "1",
                                    "Percentage": "7.69"
                                }
                            ]
                        },
                        "text/html": "<table><tr><th>Churn_Category</th><th>Churn_Category_Count</th><th>Percentage</th></tr><tr><td>Dissatisfaction</td><td>4</td><td>30.77</td></tr><tr><td>Attitude</td><td>3</td><td>23.08</td></tr><tr><td>Competitor</td><td>3</td><td>23.08</td></tr><tr><td>Other</td><td>2</td><td>15.38</td></tr><tr><td>Price</td><td>1</td><td>7.69</td></tr></table>"
                    },
                    "metadata": {}
                }
            ],
            "execution_count": 60
        },
        {
            "cell_type": "markdown",
            "source": [
                "### Q25)"
            ],
            "metadata": {
                "azdata_cell_guid": "b348cca8-04e8-4797-92bd-985410e28436"
            },
            "attachments": {}
        },
        {
            "cell_type": "code",
            "source": [
                "SELECT\r\n",
                "    Streaming_Music,\r\n",
                "    AVG(Satisfaction_Score) AS Avg_Satisfaction,    \r\n",
                "    COUNT(*) AS Count\r\n",
                "FROM\r\n",
                "    Status s\r\n",
                "JOIN\r\n",
                "    Service se ON s.CustomerID = se.CustomerID\r\n",
                "GROUP BY\r\n",
                "    Streaming_Music;"
            ],
            "metadata": {
                "language": "sql",
                "azdata_cell_guid": "1229e0d4-94a5-4ac8-9bf7-bedfffb899bc"
            },
            "outputs": [
                {
                    "output_type": "display_data",
                    "data": {
                        "text/html": "(2 rows affected)"
                    },
                    "metadata": {}
                },
                {
                    "output_type": "display_data",
                    "data": {
                        "text/html": "Total execution time: 00:00:00.019"
                    },
                    "metadata": {}
                },
                {
                    "output_type": "execute_result",
                    "execution_count": 10,
                    "data": {
                        "application/vnd.dataresource+json": {
                            "schema": {
                                "fields": [
                                    {
                                        "name": "Streaming_Music"
                                    },
                                    {
                                        "name": "Avg_Satisfaction"
                                    },
                                    {
                                        "name": "Count"
                                    }
                                ]
                            },
                            "data": [
                                {
                                    "Streaming_Music": "No",
                                    "Avg_Satisfaction": "3",
                                    "Count": "15"
                                },
                                {
                                    "Streaming_Music": "Yes",
                                    "Avg_Satisfaction": "3",
                                    "Count": "15"
                                }
                            ]
                        },
                        "text/html": "<table><tr><th>Streaming_Music</th><th>Avg_Satisfaction</th><th>Count</th></tr><tr><td>No</td><td>3</td><td>15</td></tr><tr><td>Yes</td><td>3</td><td>15</td></tr></table>"
                    },
                    "metadata": {}
                }
            ],
            "execution_count": 10
        },
        {
            "cell_type": "markdown",
            "source": [
                "Audit Table for updates in customer location"
            ],
            "metadata": {
                "language": "sql",
                "azdata_cell_guid": "72f9f95b-9550-421f-8733-fe7c92a89055"
            },
            "attachments": {}
        },
        {
            "cell_type": "code",
            "source": [
                "--Audit Table for updating customer location\r\n",
                "CREATE TABLE loc_history\r\n",
                "(\r\n",
                "\tCustomerID INT,\r\n",
                "\tUserName VARCHAR(50),\r\n",
                "\tModifiedDate DATE,\r\n",
                "\tZip_Old INT,\r\n",
                "\tZip_New INT\r\n",
                ")\r\n",
                "GO\r\n",
                "CREATE OR ALTER TRIGGER T_loc\r\n",
                "ON Demographics\r\n",
                "AFTER UPDATE \r\n",
                "AS\r\n",
                "\tIF UPDATE(Zip_code)\r\n",
                "\tBEGIN\r\n",
                "\t\tDECLARE @old_zip INT , @new_zip INT, @cust_id INT\r\n",
                "\r\n",
                "\t\tDECLARE loc_cursor CURSOR FOR --I used cursor because multiple rows may be updated at the same time\r\n",
                "\t\tSELECT Zip_Code, CustomerID FROM deleted\r\n",
                "\r\n",
                "\t\tOPEN loc_cursor\r\n",
                "\t\tFETCH NEXT FROM loc_cursor INTO @old_zip, @cust_id\r\n",
                "\t\t\r\n",
                "\t\tWHILE @@FETCH_STATUS = 0\r\n",
                "\t\tBEGIN\r\n",
                "\t\t\tSELECT @new_zip=Zip_Code FROM inserted WHERE CustomerID=@cust_id\r\n",
                "\r\n",
                "\t\t\tINSERT INTO loc_history VALUES (@cust_id, SUSER_NAME(), GETDATE(), @old_zip, @new_zip)\r\n",
                "\t\t\t\r\n",
                "\t\t\tFETCH NEXT FROM loc_cursor INTO @old_zip, @cust_id\r\n",
                "\t\tEND\r\n",
                "\r\n",
                "\t\tCLOSE loc_cursor\r\n",
                "\t\tDEALLOCATE loc_cursor\t\t\t\t\r\n",
                "\tEND\r\n",
                ""
            ],
            "metadata": {
                "language": "sql",
                "azdata_cell_guid": "613ffd6f-b469-4e9f-b07e-41a235003f71"
            },
            "outputs": [
                {
                    "output_type": "display_data",
                    "data": {
                        "text/html": "Commands completed successfully."
                    },
                    "metadata": {}
                },
                {
                    "output_type": "display_data",
                    "data": {
                        "text/html": "Commands completed successfully."
                    },
                    "metadata": {}
                },
                {
                    "output_type": "display_data",
                    "data": {
                        "text/html": "Total execution time: 00:00:00.015"
                    },
                    "metadata": {}
                }
            ],
            "execution_count": 26
        },
        {
            "cell_type": "code",
            "source": [
                "select * FROM loc_history"
            ],
            "metadata": {
                "azdata_cell_guid": "4bab7c13-9be0-4197-bd68-31c18a0721c8",
                "language": "sql"
            },
            "outputs": [
                {
                    "output_type": "display_data",
                    "data": {
                        "text/html": "(0 rows affected)"
                    },
                    "metadata": {}
                },
                {
                    "output_type": "display_data",
                    "data": {
                        "text/html": "Total execution time: 00:00:00.005"
                    },
                    "metadata": {}
                },
                {
                    "output_type": "execute_result",
                    "execution_count": 27,
                    "data": {
                        "application/vnd.dataresource+json": {
                            "schema": {
                                "fields": [
                                    {
                                        "name": "CustomerID"
                                    },
                                    {
                                        "name": "UserName"
                                    },
                                    {
                                        "name": "ModifiedDate"
                                    },
                                    {
                                        "name": "Zip_Old"
                                    },
                                    {
                                        "name": "Zip_New"
                                    }
                                ]
                            },
                            "data": []
                        },
                        "text/html": "<table><tr><th>CustomerID</th><th>UserName</th><th>ModifiedDate</th><th>Zip_Old</th><th>Zip_New</th></tr></table>"
                    },
                    "metadata": {}
                }
            ],
            "execution_count": 27
        },
        {
            "cell_type": "code",
            "source": [
                "update Demographics\r\n",
                "set Zip_Code = 101\r\n",
                "where CustomerID = 1"
            ],
            "metadata": {
                "azdata_cell_guid": "36e5e536-ace2-4b8d-aa83-78c18656d4b8",
                "language": "sql"
            },
            "outputs": [
                {
                    "output_type": "display_data",
                    "data": {
                        "text/html": "(1 row affected)"
                    },
                    "metadata": {}
                },
                {
                    "output_type": "display_data",
                    "data": {
                        "text/html": "(1 row affected)"
                    },
                    "metadata": {}
                },
                {
                    "output_type": "display_data",
                    "data": {
                        "text/html": "(1 row affected)"
                    },
                    "metadata": {}
                },
                {
                    "output_type": "display_data",
                    "data": {
                        "text/html": "Total execution time: 00:00:00.031"
                    },
                    "metadata": {}
                },
                {
                    "output_type": "execute_result",
                    "execution_count": 31,
                    "data": {
                        "application/vnd.dataresource+json": {
                            "schema": {
                                "fields": [
                                    {
                                        "name": "Announcement"
                                    }
                                ]
                            },
                            "data": [
                                {
                                    "Announcement": "Location updated successfully, using Zip_Code column by DESKTOP-4H0R5VG\\sohila"
                                }
                            ]
                        },
                        "text/html": "<table><tr><th>Announcement</th></tr><tr><td>Location updated successfully, using Zip_Code column by DESKTOP-4H0R5VG\\sohila</td></tr></table>"
                    },
                    "metadata": {}
                }
            ],
            "execution_count": 31
        },
        {
            "cell_type": "code",
            "source": [
                "SELECT *\r\n",
                "FROM loc_history"
            ],
            "metadata": {
                "azdata_cell_guid": "825f6373-33ae-4347-8fcf-4074b08f63dd",
                "language": "sql"
            },
            "outputs": [
                {
                    "output_type": "display_data",
                    "data": {
                        "text/html": "(1 row affected)"
                    },
                    "metadata": {}
                },
                {
                    "output_type": "display_data",
                    "data": {
                        "text/html": "Total execution time: 00:00:00.010"
                    },
                    "metadata": {}
                },
                {
                    "output_type": "execute_result",
                    "execution_count": 30,
                    "data": {
                        "application/vnd.dataresource+json": {
                            "schema": {
                                "fields": [
                                    {
                                        "name": "CustomerID"
                                    },
                                    {
                                        "name": "UserName"
                                    },
                                    {
                                        "name": "ModifiedDate"
                                    },
                                    {
                                        "name": "Zip_Old"
                                    },
                                    {
                                        "name": "Zip_New"
                                    }
                                ]
                            },
                            "data": [
                                {
                                    "CustomerID": "1",
                                    "UserName": "DESKTOP-4H0R5VG\\sohila",
                                    "ModifiedDate": "2023-12-23",
                                    "Zip_Old": "100",
                                    "Zip_New": "101"
                                }
                            ]
                        },
                        "text/html": "<table><tr><th>CustomerID</th><th>UserName</th><th>ModifiedDate</th><th>Zip_Old</th><th>Zip_New</th></tr><tr><td>1</td><td>DESKTOP-4H0R5VG\\sohila</td><td>2023-12-23</td><td>100</td><td>101</td></tr></table>"
                    },
                    "metadata": {}
                }
            ],
            "execution_count": 30
        }
    ]
}