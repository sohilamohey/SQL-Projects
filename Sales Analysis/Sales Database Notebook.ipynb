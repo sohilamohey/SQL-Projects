{
    "cells": [
        {
            "cell_type": "code",
            "execution_count": 2,
            "metadata": {
                "azdata_cell_guid": "10960aac-e050-4d24-8cb1-b8bb20c356b1",
                "language": "sql"
            },
            "outputs": [
                {
                    "data": {
                        "text/html": [
                            "(10 rows affected)"
                        ]
                    },
                    "metadata": {},
                    "output_type": "display_data"
                },
                {
                    "data": {
                        "text/html": [
                            "Total execution time: 00:00:00.010"
                        ]
                    },
                    "metadata": {},
                    "output_type": "display_data"
                },
                {
                    "data": {
                        "application/vnd.dataresource+json": {
                            "data": [
                                {
                                    "City": "New York City",
                                    "Hour": "0",
                                    "Month": "12",
                                    "Order_Date": "2019-12-30 00:01:00.0000000",
                                    "Order_ID": "295665",
                                    "Price_Each": "1700",
                                    "Product": "Macbook Pro Laptop",
                                    "Purchase_Address": "136 Church St, New York City, NY 10001",
                                    "Quantity_Ordered": "1",
                                    "Sales": "1700",
                                    "column1": "0"
                                },
                                {
                                    "City": "New York City",
                                    "Hour": "7",
                                    "Month": "12",
                                    "Order_Date": "2019-12-29 07:03:00.0000000",
                                    "Order_ID": "295666",
                                    "Price_Each": "600",
                                    "Product": "LG Washing Machine",
                                    "Purchase_Address": "562 2nd St, New York City, NY 10001",
                                    "Quantity_Ordered": "1",
                                    "Sales": "600",
                                    "column1": "1"
                                },
                                {
                                    "City": "New York City",
                                    "Hour": "18",
                                    "Month": "12",
                                    "Order_Date": "2019-12-12 18:21:00.0000000",
                                    "Order_ID": "295667",
                                    "Price_Each": "11.949999809265137",
                                    "Product": "USB-C Charging Cable",
                                    "Purchase_Address": "277 Main St, New York City, NY 10001",
                                    "Quantity_Ordered": "1",
                                    "Sales": "11.949999809265137",
                                    "column1": "2"
                                },
                                {
                                    "City": "San Francisco",
                                    "Hour": "15",
                                    "Month": "12",
                                    "Order_Date": "2019-12-22 15:13:00.0000000",
                                    "Order_ID": "295668",
                                    "Price_Each": "149.99000549316406",
                                    "Product": "27in FHD Monitor",
                                    "Purchase_Address": "410 6th St, San Francisco, CA 94016",
                                    "Quantity_Ordered": "1",
                                    "Sales": "149.99000549316406",
                                    "column1": "3"
                                },
                                {
                                    "City": "Atlanta",
                                    "Hour": "12",
                                    "Month": "12",
                                    "Order_Date": "2019-12-18 12:38:00.0000000",
                                    "Order_ID": "295669",
                                    "Price_Each": "11.949999809265137",
                                    "Product": "USB-C Charging Cable",
                                    "Purchase_Address": "43 Hill St, Atlanta, GA 30301",
                                    "Quantity_Ordered": "1",
                                    "Sales": "11.949999809265137",
                                    "column1": "4"
                                },
                                {
                                    "City": "New York City",
                                    "Hour": "22",
                                    "Month": "12",
                                    "Order_Date": "2019-12-31 22:58:00.0000000",
                                    "Order_ID": "295670",
                                    "Price_Each": "3.8399999141693115",
                                    "Product": "AA Batteries (4-pack)",
                                    "Purchase_Address": "200 Jefferson St, New York City, NY 10001",
                                    "Quantity_Ordered": "1",
                                    "Sales": "3.8399999141693115",
                                    "column1": "5"
                                },
                                {
                                    "City": "Portland",
                                    "Hour": "15",
                                    "Month": "12",
                                    "Order_Date": "2019-12-16 15:10:00.0000000",
                                    "Order_ID": "295671",
                                    "Price_Each": "11.949999809265137",
                                    "Product": "USB-C Charging Cable",
                                    "Purchase_Address": "928 12th St, Portland, OR 97035",
                                    "Quantity_Ordered": "1",
                                    "Sales": "11.949999809265137",
                                    "column1": "6"
                                },
                                {
                                    "City": "Dallas",
                                    "Hour": "9",
                                    "Month": "12",
                                    "Order_Date": "2019-12-13 09:29:00.0000000",
                                    "Order_ID": "295672",
                                    "Price_Each": "11.949999809265137",
                                    "Product": "USB-C Charging Cable",
                                    "Purchase_Address": "813 Hickory St, Dallas, TX 75001",
                                    "Quantity_Ordered": "2",
                                    "Sales": "23.899999618530273",
                                    "column1": "7"
                                },
                                {
                                    "City": "Dallas",
                                    "Hour": "23",
                                    "Month": "12",
                                    "Order_Date": "2019-12-15 23:26:00.0000000",
                                    "Order_ID": "295673",
                                    "Price_Each": "99.98999786376953",
                                    "Product": "Bose SoundSport Headphones",
                                    "Purchase_Address": "718 Wilson St, Dallas, TX 75001",
                                    "Quantity_Ordered": "1",
                                    "Sales": "99.98999786376953",
                                    "column1": "8"
                                },
                                {
                                    "City": "Dallas",
                                    "Hour": "11",
                                    "Month": "12",
                                    "Order_Date": "2019-12-28 11:51:00.0000000",
                                    "Order_ID": "295674",
                                    "Price_Each": "2.990000009536743",
                                    "Product": "AAA Batteries (4-pack)",
                                    "Purchase_Address": "77 7th St, Dallas, TX 75001",
                                    "Quantity_Ordered": "4",
                                    "Sales": "11.960000038146973",
                                    "column1": "9"
                                }
                            ],
                            "schema": {
                                "fields": [
                                    {
                                        "name": "column1"
                                    },
                                    {
                                        "name": "Order_ID"
                                    },
                                    {
                                        "name": "Product"
                                    },
                                    {
                                        "name": "Quantity_Ordered"
                                    },
                                    {
                                        "name": "Price_Each"
                                    },
                                    {
                                        "name": "Order_Date"
                                    },
                                    {
                                        "name": "Purchase_Address"
                                    },
                                    {
                                        "name": "Month"
                                    },
                                    {
                                        "name": "Sales"
                                    },
                                    {
                                        "name": "City"
                                    },
                                    {
                                        "name": "Hour"
                                    }
                                ]
                            }
                        },
                        "text/html": [
                            "<table><tr><th>column1</th><th>Order_ID</th><th>Product</th><th>Quantity_Ordered</th><th>Price_Each</th><th>Order_Date</th><th>Purchase_Address</th><th>Month</th><th>Sales</th><th>City</th><th>Hour</th></tr><tr><td>0</td><td>295665</td><td>Macbook Pro Laptop</td><td>1</td><td>1700</td><td>2019-12-30 00:01:00.0000000</td><td>136 Church St, New York City, NY 10001</td><td>12</td><td>1700</td><td>New York City</td><td>0</td></tr><tr><td>1</td><td>295666</td><td>LG Washing Machine</td><td>1</td><td>600</td><td>2019-12-29 07:03:00.0000000</td><td>562 2nd St, New York City, NY 10001</td><td>12</td><td>600</td><td>New York City</td><td>7</td></tr><tr><td>2</td><td>295667</td><td>USB-C Charging Cable</td><td>1</td><td>11.949999809265137</td><td>2019-12-12 18:21:00.0000000</td><td>277 Main St, New York City, NY 10001</td><td>12</td><td>11.949999809265137</td><td>New York City</td><td>18</td></tr><tr><td>3</td><td>295668</td><td>27in FHD Monitor</td><td>1</td><td>149.99000549316406</td><td>2019-12-22 15:13:00.0000000</td><td>410 6th St, San Francisco, CA 94016</td><td>12</td><td>149.99000549316406</td><td>San Francisco</td><td>15</td></tr><tr><td>4</td><td>295669</td><td>USB-C Charging Cable</td><td>1</td><td>11.949999809265137</td><td>2019-12-18 12:38:00.0000000</td><td>43 Hill St, Atlanta, GA 30301</td><td>12</td><td>11.949999809265137</td><td>Atlanta</td><td>12</td></tr><tr><td>5</td><td>295670</td><td>AA Batteries (4-pack)</td><td>1</td><td>3.8399999141693115</td><td>2019-12-31 22:58:00.0000000</td><td>200 Jefferson St, New York City, NY 10001</td><td>12</td><td>3.8399999141693115</td><td>New York City</td><td>22</td></tr><tr><td>6</td><td>295671</td><td>USB-C Charging Cable</td><td>1</td><td>11.949999809265137</td><td>2019-12-16 15:10:00.0000000</td><td>928 12th St, Portland, OR 97035</td><td>12</td><td>11.949999809265137</td><td>Portland</td><td>15</td></tr><tr><td>7</td><td>295672</td><td>USB-C Charging Cable</td><td>2</td><td>11.949999809265137</td><td>2019-12-13 09:29:00.0000000</td><td>813 Hickory St, Dallas, TX 75001</td><td>12</td><td>23.899999618530273</td><td>Dallas</td><td>9</td></tr><tr><td>8</td><td>295673</td><td>Bose SoundSport Headphones</td><td>1</td><td>99.98999786376953</td><td>2019-12-15 23:26:00.0000000</td><td>718 Wilson St, Dallas, TX 75001</td><td>12</td><td>99.98999786376953</td><td>Dallas</td><td>23</td></tr><tr><td>9</td><td>295674</td><td>AAA Batteries (4-pack)</td><td>4</td><td>2.990000009536743</td><td>2019-12-28 11:51:00.0000000</td><td>77 7th St, Dallas, TX 75001</td><td>12</td><td>11.960000038146973</td><td>Dallas</td><td>11</td></tr></table>"
                        ]
                    },
                    "execution_count": 2,
                    "metadata": {},
                    "output_type": "execute_result"
                }
            ],
            "source": [
                "SELECT TOP(10)* FROM Sales"
            ]
        },
        {
            "attachments": {},
            "cell_type": "markdown",
            "metadata": {
                "azdata_cell_guid": "4b75168d-347c-4ffd-96e8-8cb082aa5cc0"
            },
            "source": [
                "## Data Exploration"
            ]
        },
        {
            "cell_type": "code",
            "execution_count": 32,
            "metadata": {
                "azdata_cell_guid": "1cee560c-5cb8-45f5-b646-bd1fa019f853",
                "language": "sql"
            },
            "outputs": [
                {
                    "data": {
                        "text/html": [
                            "(1 row affected)"
                        ]
                    },
                    "metadata": {},
                    "output_type": "display_data"
                },
                {
                    "data": {
                        "text/html": [
                            "Total execution time: 00:00:00.063"
                        ]
                    },
                    "metadata": {},
                    "output_type": "display_data"
                },
                {
                    "data": {
                        "application/vnd.dataresource+json": {
                            "data": [
                                {
                                    "Number of rows": "185950"
                                }
                            ],
                            "schema": {
                                "fields": [
                                    {
                                        "name": "Number of rows"
                                    }
                                ]
                            }
                        },
                        "text/html": [
                            "<table><tr><th>Number of rows</th></tr><tr><td>185950</td></tr></table>"
                        ]
                    },
                    "execution_count": 32,
                    "metadata": {},
                    "output_type": "execute_result"
                }
            ],
            "source": [
                "-- Number of rows\n",
                "select count(*) [Number of rows] \n",
                "from Sales"
            ]
        },
        {
            "cell_type": "code",
            "execution_count": 68,
            "metadata": {
                "azdata_cell_guid": "fb5c1a41-5c1f-47b8-839b-e2b1565dae89",
                "language": "sql"
            },
            "outputs": [
                {
                    "data": {
                        "text/html": [
                            "(0 rows affected)"
                        ]
                    },
                    "metadata": {},
                    "output_type": "display_data"
                },
                {
                    "data": {
                        "text/html": [
                            "Total execution time: 00:00:00.006"
                        ]
                    },
                    "metadata": {},
                    "output_type": "display_data"
                },
                {
                    "data": {
                        "application/vnd.dataresource+json": {
                            "data": [],
                            "schema": {
                                "fields": [
                                    {
                                        "name": "Order_ID"
                                    },
                                    {
                                        "name": "Product"
                                    },
                                    {
                                        "name": "Quantity_Ordered"
                                    },
                                    {
                                        "name": "Price_Each"
                                    },
                                    {
                                        "name": "Order_Date"
                                    },
                                    {
                                        "name": "Purchase_Address"
                                    },
                                    {
                                        "name": "Month"
                                    },
                                    {
                                        "name": "Sales"
                                    },
                                    {
                                        "name": "City"
                                    },
                                    {
                                        "name": "Hour"
                                    },
                                    {
                                        "name": "Year"
                                    },
                                    {
                                        "name": "Day"
                                    }
                                ]
                            }
                        },
                        "text/html": [
                            "<table><tr><th>Order_ID</th><th>Product</th><th>Quantity_Ordered</th><th>Price_Each</th><th>Order_Date</th><th>Purchase_Address</th><th>Month</th><th>Sales</th><th>City</th><th>Hour</th><th>Year</th><th>Day</th></tr></table>"
                        ]
                    },
                    "execution_count": 68,
                    "metadata": {},
                    "output_type": "execute_result"
                }
            ],
            "source": [
                "--Column Names\n",
                "select top(0)* from Sales"
            ]
        },
        {
            "cell_type": "code",
            "execution_count": 49,
            "metadata": {
                "azdata_cell_guid": "78add1ad-b103-42d5-b5ff-bac374d1ef23",
                "language": "sql",
                "tags": []
            },
            "outputs": [
                {
                    "data": {
                        "text/html": [
                            "Commands completed successfully."
                        ]
                    },
                    "metadata": {},
                    "output_type": "display_data"
                },
                {
                    "data": {
                        "text/html": [
                            "Total execution time: 00:00:00.012"
                        ]
                    },
                    "metadata": {},
                    "output_type": "display_data"
                }
            ],
            "source": [
                "--drop unwanted column: \n",
                "ALTER TABLE Sales\n",
                "drop column column1"
            ]
        },
        {
            "cell_type": "code",
            "execution_count": 51,
            "metadata": {
                "azdata_cell_guid": "7c96a139-c535-4d57-a30e-a5a5a65b0295",
                "language": "sql"
            },
            "outputs": [
                {
                    "data": {
                        "text/html": [
                            "Commands completed successfully."
                        ]
                    },
                    "metadata": {},
                    "output_type": "display_data"
                },
                {
                    "data": {
                        "text/html": [
                            "Total execution time: 00:00:01.664"
                        ]
                    },
                    "metadata": {},
                    "output_type": "display_data"
                }
            ],
            "source": [
                "-- Convert decimal of sales column\n",
                "ALTER TABLE SALES\n",
                "ALTER COLUMN Sales DECIMAL(10,2)"
            ]
        },
        {
            "cell_type": "code",
            "execution_count": 53,
            "metadata": {
                "azdata_cell_guid": "7605bf84-f4ca-4728-b1a3-29327c2dc5f9",
                "language": "sql"
            },
            "outputs": [
                {
                    "data": {
                        "text/html": [
                            "(10 rows affected)"
                        ]
                    },
                    "metadata": {},
                    "output_type": "display_data"
                },
                {
                    "data": {
                        "text/html": [
                            "Total execution time: 00:00:00.006"
                        ]
                    },
                    "metadata": {},
                    "output_type": "display_data"
                },
                {
                    "data": {
                        "application/vnd.dataresource+json": {
                            "data": [
                                {
                                    "Sales": "1700.00"
                                },
                                {
                                    "Sales": "600.00"
                                },
                                {
                                    "Sales": "11.95"
                                },
                                {
                                    "Sales": "149.99"
                                },
                                {
                                    "Sales": "11.95"
                                },
                                {
                                    "Sales": "3.84"
                                },
                                {
                                    "Sales": "11.95"
                                },
                                {
                                    "Sales": "23.90"
                                },
                                {
                                    "Sales": "99.99"
                                },
                                {
                                    "Sales": "11.96"
                                }
                            ],
                            "schema": {
                                "fields": [
                                    {
                                        "name": "Sales"
                                    }
                                ]
                            }
                        },
                        "text/html": [
                            "<table><tr><th>Sales</th></tr><tr><td>1700.00</td></tr><tr><td>600.00</td></tr><tr><td>11.95</td></tr><tr><td>149.99</td></tr><tr><td>11.95</td></tr><tr><td>3.84</td></tr><tr><td>11.95</td></tr><tr><td>23.90</td></tr><tr><td>99.99</td></tr><tr><td>11.96</td></tr></table>"
                        ]
                    },
                    "execution_count": 53,
                    "metadata": {},
                    "output_type": "execute_result"
                }
            ],
            "source": [
                "-- ensure the alter\n",
                "SELECT TOP(10)Sales FROM Sales"
            ]
        },
        {
            "cell_type": "code",
            "execution_count": 56,
            "metadata": {
                "azdata_cell_guid": "3046457c-33cf-4837-a9d3-f66eb201c5f9",
                "language": "sql"
            },
            "outputs": [
                {
                    "data": {
                        "text/html": [
                            "Commands completed successfully."
                        ]
                    },
                    "metadata": {},
                    "output_type": "display_data"
                },
                {
                    "data": {
                        "text/html": [
                            "(178437 rows affected)"
                        ]
                    },
                    "metadata": {},
                    "output_type": "display_data"
                },
                {
                    "data": {
                        "text/html": [
                            "Total execution time: 00:00:01.696"
                        ]
                    },
                    "metadata": {},
                    "output_type": "display_data"
                }
            ],
            "source": [
                "--Add Year Column\n",
                "ALTER TABLE SALES \n",
                "ADD Year INT\n",
                "GO\n",
                "UPDATE Sales\n",
                "set Year = YEAR(Order_Date)"
            ]
        },
        {
            "cell_type": "code",
            "execution_count": 58,
            "metadata": {
                "azdata_cell_guid": "df8ff674-f949-477d-a13b-d7e833ec0a5b",
                "language": "sql"
            },
            "outputs": [
                {
                    "data": {
                        "text/html": [
                            "(2 rows affected)"
                        ]
                    },
                    "metadata": {},
                    "output_type": "display_data"
                },
                {
                    "data": {
                        "text/html": [
                            "Total execution time: 00:00:00.121"
                        ]
                    },
                    "metadata": {},
                    "output_type": "display_data"
                },
                {
                    "data": {
                        "application/vnd.dataresource+json": {
                            "data": [
                                {
                                    "YEAR": "2019"
                                },
                                {
                                    "YEAR": "2020"
                                }
                            ],
                            "schema": {
                                "fields": [
                                    {
                                        "name": "YEAR"
                                    }
                                ]
                            }
                        },
                        "text/html": [
                            "<table><tr><th>YEAR</th></tr><tr><td>2019</td></tr><tr><td>2020</td></tr></table>"
                        ]
                    },
                    "execution_count": 58,
                    "metadata": {},
                    "output_type": "execute_result"
                }
            ],
            "source": [
                "SELECT distinct(YEAR) from sales"
            ]
        },
        {
            "cell_type": "code",
            "execution_count": 60,
            "metadata": {
                "azdata_cell_guid": "3e1fc60c-8374-496b-81b7-5458c244ac65",
                "language": "sql"
            },
            "outputs": [
                {
                    "data": {
                        "text/html": [
                            "Commands completed successfully."
                        ]
                    },
                    "metadata": {},
                    "output_type": "display_data"
                },
                {
                    "data": {
                        "text/html": [
                            "(178437 rows affected)"
                        ]
                    },
                    "metadata": {},
                    "output_type": "display_data"
                },
                {
                    "data": {
                        "text/html": [
                            "Total execution time: 00:00:02.121"
                        ]
                    },
                    "metadata": {},
                    "output_type": "display_data"
                }
            ],
            "source": [
                "-- Add Day Column\n",
                "ALTER TABLE SALES \n",
                "ADD Day INT\n",
                "GO\n",
                "UPDATE Sales\n",
                "set Day = DAY(Order_Date)"
            ]
        },
        {
            "cell_type": "code",
            "execution_count": 65,
            "metadata": {
                "azdata_cell_guid": "89e25ad7-7b30-49ee-8b11-c3b9c38eeacf",
                "language": "sql"
            },
            "outputs": [
                {
                    "ename": "",
                    "evalue": "Msg 2705, Level 16, State 4, Line 2\r\nColumn names in each table must be unique. Column name 'Hour' in table 'SALES' is specified more than once.",
                    "output_type": "error",
                    "traceback": []
                },
                {
                    "data": {
                        "text/html": [
                            "(178437 rows affected)"
                        ]
                    },
                    "metadata": {},
                    "output_type": "display_data"
                },
                {
                    "data": {
                        "text/html": [
                            "Total execution time: 00:00:00.444"
                        ]
                    },
                    "metadata": {},
                    "output_type": "display_data"
                }
            ],
            "source": [
                "--Add Hour column\n",
                "ALTER TABLE SALES \n",
                "ADD Hour INT\n",
                "GO\n",
                "UPDATE Sales\n",
                "set Hour = datepart(hour, Order_Date)"
            ]
        },
        {
            "cell_type": "code",
            "execution_count": 28,
            "metadata": {
                "azdata_cell_guid": "84c356b2-68c8-4800-80d7-4e66e394cd75",
                "language": "sql"
            },
            "outputs": [
                {
                    "data": {
                        "text/html": [
                            "(2 rows affected)"
                        ]
                    },
                    "metadata": {},
                    "output_type": "display_data"
                },
                {
                    "data": {
                        "text/html": [
                            "Total execution time: 00:00:00.015"
                        ]
                    },
                    "metadata": {},
                    "output_type": "display_data"
                },
                {
                    "data": {
                        "application/vnd.dataresource+json": {
                            "data": [
                                {
                                    "City": "New York City",
                                    "Day": "30",
                                    "Hour": "0",
                                    "Month": "12",
                                    "MonthName": "December",
                                    "Order_Date": "2019-12-30 00:01:00.0000000",
                                    "Order_ID": "295665",
                                    "Price_Each": "1700",
                                    "Product": "Macbook Pro Laptop",
                                    "Purchase_Address": "136 Church St, New York City, NY 10001",
                                    "Quantity_Ordered": "1",
                                    "Sales": "1700.00",
                                    "Year": "2019"
                                },
                                {
                                    "City": "New York City",
                                    "Day": "29",
                                    "Hour": "7",
                                    "Month": "12",
                                    "MonthName": "December",
                                    "Order_Date": "2019-12-29 07:03:00.0000000",
                                    "Order_ID": "295666",
                                    "Price_Each": "600",
                                    "Product": "LG Washing Machine",
                                    "Purchase_Address": "562 2nd St, New York City, NY 10001",
                                    "Quantity_Ordered": "1",
                                    "Sales": "600.00",
                                    "Year": "2019"
                                }
                            ],
                            "schema": {
                                "fields": [
                                    {
                                        "name": "Order_ID"
                                    },
                                    {
                                        "name": "Product"
                                    },
                                    {
                                        "name": "Quantity_Ordered"
                                    },
                                    {
                                        "name": "Price_Each"
                                    },
                                    {
                                        "name": "Order_Date"
                                    },
                                    {
                                        "name": "Purchase_Address"
                                    },
                                    {
                                        "name": "Month"
                                    },
                                    {
                                        "name": "Sales"
                                    },
                                    {
                                        "name": "City"
                                    },
                                    {
                                        "name": "Hour"
                                    },
                                    {
                                        "name": "Year"
                                    },
                                    {
                                        "name": "Day"
                                    },
                                    {
                                        "name": "MonthName"
                                    }
                                ]
                            }
                        },
                        "text/html": [
                            "<table>\n",
                            "<tr><th>Order_ID</th><th>Product</th><th>Quantity_Ordered</th><th>Price_Each</th><th>Order_Date</th><th>Purchase_Address</th><th>Month</th><th>Sales</th><th>City</th><th>Hour</th><th>Year</th><th>Day</th><th>MonthName</th></tr>\n",
                            "<tr><td>295665</td><td>Macbook Pro Laptop</td><td>1</td><td>1700</td><td>2019-12-30 00:01:00.0000000</td><td>136 Church St, New York City, NY 10001</td><td>12</td><td>1700.00</td><td>New York City</td><td>0</td><td>2019</td><td>30</td><td>December</td></tr>\n",
                            "<tr><td>295666</td><td>LG Washing Machine</td><td>1</td><td>600</td><td>2019-12-29 07:03:00.0000000</td><td>562 2nd St, New York City, NY 10001</td><td>12</td><td>600.00</td><td>New York City</td><td>7</td><td>2019</td><td>29</td><td>December</td></tr>\n",
                            "</table>"
                        ]
                    },
                    "execution_count": 28,
                    "metadata": {},
                    "output_type": "execute_result"
                }
            ],
            "source": [
                "select top(2)* from Sales"
            ]
        },
        {
            "cell_type": "code",
            "execution_count": 25,
            "metadata": {
                "azdata_cell_guid": "548332d9-6b94-45a5-9484-8110f29b8a77",
                "language": "sql"
            },
            "outputs": [
                {
                    "data": {
                        "text/html": [
                            "Commands completed successfully."
                        ]
                    },
                    "metadata": {},
                    "output_type": "display_data"
                },
                {
                    "data": {
                        "text/html": [
                            "Total execution time: 00:00:00.003"
                        ]
                    },
                    "metadata": {},
                    "output_type": "display_data"
                }
            ],
            "source": [
                "--Alter table Sales\n",
                "--DROP COLUMN MonthName\n",
                "Alter table Sales\n",
                "add MonthName VARCHAR(10)"
            ]
        },
        {
            "cell_type": "code",
            "execution_count": 26,
            "metadata": {
                "azdata_cell_guid": "e10f9db4-79be-4d28-bbbd-6987969810e6",
                "language": "sql"
            },
            "outputs": [
                {
                    "data": {
                        "text/html": [
                            "(178437 rows affected)"
                        ]
                    },
                    "metadata": {},
                    "output_type": "display_data"
                },
                {
                    "data": {
                        "text/html": [
                            "Total execution time: 00:00:02.723"
                        ]
                    },
                    "metadata": {},
                    "output_type": "display_data"
                }
            ],
            "source": [
                "update Sales\n",
                "set MonthName = FORMAT(Order_Date, 'MMMM')"
            ]
        },
        {
            "cell_type": "code",
            "execution_count": 27,
            "metadata": {
                "azdata_cell_guid": "2a9a40f4-32c5-44d6-9a89-79a6fcfe1ec0",
                "language": "sql"
            },
            "outputs": [
                {
                    "data": {
                        "text/html": [
                            "(12 rows affected)"
                        ]
                    },
                    "metadata": {},
                    "output_type": "display_data"
                },
                {
                    "data": {
                        "text/html": [
                            "Total execution time: 00:00:00.219"
                        ]
                    },
                    "metadata": {},
                    "output_type": "display_data"
                },
                {
                    "data": {
                        "application/vnd.dataresource+json": {
                            "data": [
                                {
                                    "MonthName": "September"
                                },
                                {
                                    "MonthName": "July"
                                },
                                {
                                    "MonthName": "August"
                                },
                                {
                                    "MonthName": "November"
                                },
                                {
                                    "MonthName": "April"
                                },
                                {
                                    "MonthName": "June"
                                },
                                {
                                    "MonthName": "March"
                                },
                                {
                                    "MonthName": "January"
                                },
                                {
                                    "MonthName": "May"
                                },
                                {
                                    "MonthName": "October"
                                },
                                {
                                    "MonthName": "December"
                                },
                                {
                                    "MonthName": "February"
                                }
                            ],
                            "schema": {
                                "fields": [
                                    {
                                        "name": "MonthName"
                                    }
                                ]
                            }
                        },
                        "text/html": [
                            "<table>\n",
                            "<tr><th>MonthName</th></tr>\n",
                            "<tr><td>September</td></tr>\n",
                            "<tr><td>July</td></tr>\n",
                            "<tr><td>August</td></tr>\n",
                            "<tr><td>November</td></tr>\n",
                            "<tr><td>April</td></tr>\n",
                            "<tr><td>June</td></tr>\n",
                            "<tr><td>March</td></tr>\n",
                            "<tr><td>January</td></tr>\n",
                            "<tr><td>May</td></tr>\n",
                            "<tr><td>October</td></tr>\n",
                            "<tr><td>December</td></tr>\n",
                            "<tr><td>February</td></tr>\n",
                            "</table>"
                        ]
                    },
                    "execution_count": 27,
                    "metadata": {},
                    "output_type": "execute_result"
                }
            ],
            "source": [
                "select distinct(MonthName)\n",
                "from Sales"
            ]
        },
        {
            "attachments": {},
            "cell_type": "markdown",
            "metadata": {
                "azdata_cell_guid": "f2879b75-911d-40be-b8ca-533a9150c8ac",
                "language": "sql"
            },
            "source": [
                "## Data Cleaning"
            ]
        },
        {
            "cell_type": "code",
            "execution_count": 34,
            "metadata": {
                "azdata_cell_guid": "854a42da-c4ce-4abd-b57b-7f1902f23509",
                "language": "sql"
            },
            "outputs": [
                {
                    "data": {
                        "text/html": [
                            "(1 row affected)"
                        ]
                    },
                    "metadata": {},
                    "output_type": "display_data"
                },
                {
                    "data": {
                        "text/html": [
                            "Total execution time: 00:00:00.168"
                        ]
                    },
                    "metadata": {},
                    "output_type": "display_data"
                },
                {
                    "data": {
                        "application/vnd.dataresource+json": {
                            "data": [
                                {
                                    "City": "0",
                                    "Order_Date": "0",
                                    "Price_Each": "0",
                                    "Product": "0",
                                    "Quantity_Ordered": "0",
                                    "Sales": "0"
                                }
                            ],
                            "schema": {
                                "fields": [
                                    {
                                        "name": "Product"
                                    },
                                    {
                                        "name": "Quantity_Ordered"
                                    },
                                    {
                                        "name": "Price_Each"
                                    },
                                    {
                                        "name": "Sales"
                                    },
                                    {
                                        "name": "Order_Date"
                                    },
                                    {
                                        "name": "City"
                                    }
                                ]
                            }
                        },
                        "text/html": [
                            "<table><tr><th>Product</th><th>Quantity_Ordered</th><th>Price_Each</th><th>Sales</th><th>Order_Date</th><th>City</th></tr><tr><td>0</td><td>0</td><td>0</td><td>0</td><td>0</td><td>0</td></tr></table>"
                        ]
                    },
                    "execution_count": 34,
                    "metadata": {},
                    "output_type": "execute_result"
                }
            ],
            "source": [
                "-- Check Null values\n",
                "select\n",
                "sum( case when Product is null then 1 else 0 end) as \"Product\",\n",
                "sum( case when Quantity_Ordered is null then 1 else 0 end) as \"Quantity_Ordered\",\n",
                "sum( case when Price_Each is null then 1 else 0 end) as \"Price_Each\",\n",
                "sum( case when Sales is null then 1 else 0 end) as \"Sales\",\n",
                "sum( case when Order_Date is null then 1 else 0 end) as \"Order_Date\",\n",
                "sum( case when City is null then 1 else 0 end) as \"City\"\n",
                " from Sales\n"
            ]
        },
        {
            "cell_type": "code",
            "execution_count": 35,
            "metadata": {
                "azdata_cell_guid": "9d6d9397-2fc3-49d3-b48e-96a4988657a9",
                "language": "sql",
                "tags": []
            },
            "outputs": [
                {
                    "data": {
                        "text/html": [
                            "(1 row affected)"
                        ]
                    },
                    "metadata": {},
                    "output_type": "display_data"
                },
                {
                    "data": {
                        "text/html": [
                            "Total execution time: 00:00:00.185"
                        ]
                    },
                    "metadata": {},
                    "output_type": "display_data"
                },
                {
                    "data": {
                        "application/vnd.dataresource+json": {
                            "data": [
                                {
                                    "(No column name)": "7513"
                                }
                            ],
                            "schema": {
                                "fields": [
                                    {
                                        "name": "(No column name)"
                                    }
                                ]
                            }
                        },
                        "text/html": [
                            "<table><tr><th>(No column name)</th></tr><tr><td>7513</td></tr></table>"
                        ]
                    },
                    "execution_count": 35,
                    "metadata": {},
                    "output_type": "execute_result"
                }
            ],
            "source": [
                "-- Check duplicates \n",
                "select count(*) - count(distinct(Order_ID))\n",
                "from Sales"
            ]
        },
        {
            "cell_type": "code",
            "execution_count": 43,
            "metadata": {
                "azdata_cell_guid": "22e42733-6bc5-42a2-acd4-18aecd7f932c",
                "language": "sql"
            },
            "outputs": [
                {
                    "data": {
                        "text/html": [
                            "(7513 rows affected)"
                        ]
                    },
                    "metadata": {},
                    "output_type": "display_data"
                },
                {
                    "data": {
                        "text/html": [
                            "Total execution time: 00:00:00.186"
                        ]
                    },
                    "metadata": {},
                    "output_type": "display_data"
                }
            ],
            "source": [
                "-- UsING a CTE with ROW_NUMBER() to identify duplicates\n",
                "WITH CTE AS (\n",
                "    SELECT\n",
                "        S.Order_ID,\n",
                "        ROW_NUMBER() OVER (PARTITION BY S.Order_ID ORDER BY Order_ID) AS RowNum\n",
                "    FROM\n",
                "        Sales S\n",
                ")\n",
                "\n",
                "-- Delete duplicates\n",
                "DELETE FROM CTE WHERE RowNum > 1;\n"
            ]
        },
        {
            "cell_type": "code",
            "execution_count": 45,
            "metadata": {
                "azdata_cell_guid": "c7579005-e906-437d-95fe-f6fd295fb821",
                "language": "sql",
                "tags": []
            },
            "outputs": [
                {
                    "data": {
                        "text/html": [
                            "(1 row affected)"
                        ]
                    },
                    "metadata": {},
                    "output_type": "display_data"
                },
                {
                    "data": {
                        "text/html": [
                            "Total execution time: 00:00:00.125"
                        ]
                    },
                    "metadata": {},
                    "output_type": "display_data"
                },
                {
                    "data": {
                        "application/vnd.dataresource+json": {
                            "data": [
                                {
                                    "NUMBER OF DUPLICATES": "0"
                                }
                            ],
                            "schema": {
                                "fields": [
                                    {
                                        "name": "NUMBER OF DUPLICATES"
                                    }
                                ]
                            }
                        },
                        "text/html": [
                            "<table><tr><th>NUMBER OF DUPLICATES</th></tr><tr><td>0</td></tr></table>"
                        ]
                    },
                    "execution_count": 45,
                    "metadata": {},
                    "output_type": "execute_result"
                }
            ],
            "source": [
                "-- Check DELECT duplicates \n",
                "select count(*) - count(distinct(Order_ID)) AS [NUMBER OF DUPLICATES]\n",
                "from Sales"
            ]
        },
        {
            "attachments": {},
            "cell_type": "markdown",
            "metadata": {
                "azdata_cell_guid": "f9dc8a9e-9e28-4587-a3dc-a8cf49671c4e",
                "language": "sql"
            },
            "source": [
                "### Data Now is cleaned"
            ]
        },
        {
            "attachments": {},
            "cell_type": "markdown",
            "metadata": {
                "azdata_cell_guid": "1afafb14-0af5-4bb6-8b1e-a3e9fe9e05f8",
                "language": "sql"
            },
            "source": [
                "## **Data Analysis**"
            ]
        },
        {
            "cell_type": "code",
            "execution_count": 106,
            "metadata": {
                "azdata_cell_guid": "91907503-3c39-4c6c-8b80-9dffdd73a11f",
                "language": "sql"
            },
            "outputs": [
                {
                    "data": {
                        "text/html": [
                            "Commands completed successfully."
                        ]
                    },
                    "metadata": {},
                    "output_type": "display_data"
                },
                {
                    "data": {
                        "text/html": [
                            "(2 rows affected)"
                        ]
                    },
                    "metadata": {},
                    "output_type": "display_data"
                },
                {
                    "data": {
                        "text/html": [
                            "Total execution time: 00:00:00.010"
                        ]
                    },
                    "metadata": {},
                    "output_type": "display_data"
                },
                {
                    "data": {
                        "application/vnd.dataresource+json": {
                            "data": [
                                {
                                    "City": "New York City",
                                    "Day": "30",
                                    "Hour": "0",
                                    "Month": "12",
                                    "MonthName": "December",
                                    "Order_Date": "2019-12-30 00:01:00.0000000",
                                    "Order_ID": "295665",
                                    "Price_Each": "1700",
                                    "Product": "Macbook Pro Laptop",
                                    "Purchase_Address": "136 Church St, New York City, NY 10001",
                                    "Quantity_Ordered": "1",
                                    "Sales": "1700.00",
                                    "Year": "2019"
                                },
                                {
                                    "City": "New York City",
                                    "Day": "29",
                                    "Hour": "7",
                                    "Month": "12",
                                    "MonthName": "December",
                                    "Order_Date": "2019-12-29 07:03:00.0000000",
                                    "Order_ID": "295666",
                                    "Price_Each": "600",
                                    "Product": "LG Washing Machine",
                                    "Purchase_Address": "562 2nd St, New York City, NY 10001",
                                    "Quantity_Ordered": "1",
                                    "Sales": "600.00",
                                    "Year": "2019"
                                }
                            ],
                            "schema": {
                                "fields": [
                                    {
                                        "name": "Order_ID"
                                    },
                                    {
                                        "name": "Product"
                                    },
                                    {
                                        "name": "Quantity_Ordered"
                                    },
                                    {
                                        "name": "Price_Each"
                                    },
                                    {
                                        "name": "Order_Date"
                                    },
                                    {
                                        "name": "Purchase_Address"
                                    },
                                    {
                                        "name": "Month"
                                    },
                                    {
                                        "name": "Sales"
                                    },
                                    {
                                        "name": "City"
                                    },
                                    {
                                        "name": "Hour"
                                    },
                                    {
                                        "name": "Year"
                                    },
                                    {
                                        "name": "Day"
                                    },
                                    {
                                        "name": "MonthName"
                                    }
                                ]
                            }
                        },
                        "text/html": [
                            "<table>\n",
                            "<tr><th>Order_ID</th><th>Product</th><th>Quantity_Ordered</th><th>Price_Each</th><th>Order_Date</th><th>Purchase_Address</th><th>Month</th><th>Sales</th><th>City</th><th>Hour</th><th>Year</th><th>Day</th><th>MonthName</th></tr>\n",
                            "<tr><td>295665</td><td>Macbook Pro Laptop</td><td>1</td><td>1700</td><td>2019-12-30 00:01:00.0000000</td><td>136 Church St, New York City, NY 10001</td><td>12</td><td>1700.00</td><td>New York City</td><td>0</td><td>2019</td><td>30</td><td>December</td></tr>\n",
                            "<tr><td>295666</td><td>LG Washing Machine</td><td>1</td><td>600</td><td>2019-12-29 07:03:00.0000000</td><td>562 2nd St, New York City, NY 10001</td><td>12</td><td>600.00</td><td>New York City</td><td>7</td><td>2019</td><td>29</td><td>December</td></tr>\n",
                            "</table>"
                        ]
                    },
                    "execution_count": 106,
                    "metadata": {},
                    "output_type": "execute_result"
                }
            ],
            "source": [
                "CREATE OR ALTER PROCEDURE print2\n",
                "AS\n",
                "BEGIN\n",
                "    SELECT TOP 2 * FROM Sales;\n",
                "END;\n",
                "GO\n",
                " EXEC dbo.print2"
            ]
        },
        {
            "cell_type": "code",
            "execution_count": 108,
            "metadata": {
                "azdata_cell_guid": "95fe8e4d-9af2-43d1-a41b-b9ecda9059e4",
                "language": "sql"
            },
            "outputs": [
                {
                    "data": {
                        "text/html": [
                            "(1 row affected)"
                        ]
                    },
                    "metadata": {},
                    "output_type": "display_data"
                },
                {
                    "data": {
                        "text/html": [
                            "Total execution time: 00:00:00.135"
                        ]
                    },
                    "metadata": {},
                    "output_type": "display_data"
                },
                {
                    "data": {
                        "application/vnd.dataresource+json": {
                            "data": [
                                {
                                    "Total Sales": "33437267.73"
                                }
                            ],
                            "schema": {
                                "fields": [
                                    {
                                        "name": "Total Sales"
                                    }
                                ]
                            }
                        },
                        "text/html": [
                            "<table>\n",
                            "<tr><th>Total Sales</th></tr>\n",
                            "<tr><td>33437267.73</td></tr>\n",
                            "</table>"
                        ]
                    },
                    "execution_count": 108,
                    "metadata": {},
                    "output_type": "execute_result"
                }
            ],
            "source": [
                "SELECT sum(Sales) as [Total Sales] \n",
                "from Sales"
            ]
        },
        {
            "cell_type": "code",
            "execution_count": 110,
            "metadata": {
                "azdata_cell_guid": "cf6563fb-29ff-41ea-b86c-87a02b400baf",
                "language": "sql"
            },
            "outputs": [
                {
                    "data": {
                        "text/html": [
                            "(9 rows affected)"
                        ]
                    },
                    "metadata": {},
                    "output_type": "display_data"
                },
                {
                    "data": {
                        "text/html": [
                            "Total execution time: 00:00:00.140"
                        ]
                    },
                    "metadata": {},
                    "output_type": "display_data"
                },
                {
                    "data": {
                        "application/vnd.dataresource+json": {
                            "data": [
                                {
                                    "city": "Boston"
                                },
                                {
                                    "city": "Seattle"
                                },
                                {
                                    "city": "Austin"
                                },
                                {
                                    "city": "Los Angeles"
                                },
                                {
                                    "city": "New York City"
                                },
                                {
                                    "city": "Atlanta"
                                },
                                {
                                    "city": "Portland"
                                },
                                {
                                    "city": "San Francisco"
                                },
                                {
                                    "city": "Dallas"
                                }
                            ],
                            "schema": {
                                "fields": [
                                    {
                                        "name": "city"
                                    }
                                ]
                            }
                        },
                        "text/html": [
                            "<table>\n",
                            "<tr><th>city</th></tr>\n",
                            "<tr><td>Boston</td></tr>\n",
                            "<tr><td>Seattle</td></tr>\n",
                            "<tr><td>Austin</td></tr>\n",
                            "<tr><td>Los Angeles</td></tr>\n",
                            "<tr><td>New York City</td></tr>\n",
                            "<tr><td>Atlanta</td></tr>\n",
                            "<tr><td>Portland</td></tr>\n",
                            "<tr><td>San Francisco</td></tr>\n",
                            "<tr><td>Dallas</td></tr>\n",
                            "</table>"
                        ]
                    },
                    "execution_count": 110,
                    "metadata": {},
                    "output_type": "execute_result"
                }
            ],
            "source": [
                "SELECT distinct(city)\n",
                "FROM Sales"
            ]
        },
        {
            "cell_type": "code",
            "execution_count": 109,
            "metadata": {
                "azdata_cell_guid": "bf80e75b-9b84-4c19-9889-8d3dd11d7432",
                "language": "sql"
            },
            "outputs": [
                {
                    "data": {
                        "text/html": [
                            "(1 row affected)"
                        ]
                    },
                    "metadata": {},
                    "output_type": "display_data"
                },
                {
                    "data": {
                        "text/html": [
                            "Total execution time: 00:00:00.123"
                        ]
                    },
                    "metadata": {},
                    "output_type": "display_data"
                },
                {
                    "data": {
                        "application/vnd.dataresource+json": {
                            "data": [
                                {
                                    "Total Number of Orders": "178437"
                                }
                            ],
                            "schema": {
                                "fields": [
                                    {
                                        "name": "Total Number of Orders"
                                    }
                                ]
                            }
                        },
                        "text/html": [
                            "<table>\n",
                            "<tr><th>Total Number of Orders</th></tr>\n",
                            "<tr><td>178437</td></tr>\n",
                            "</table>"
                        ]
                    },
                    "execution_count": 109,
                    "metadata": {},
                    "output_type": "execute_result"
                }
            ],
            "source": [
                "SELECT count(Order_ID) as [Total Number of Orders] \n",
                "from Sales"
            ]
        },
        {
            "cell_type": "code",
            "execution_count": 133,
            "metadata": {
                "azdata_cell_guid": "a5ff1451-fac3-441c-859f-0ce8a0131962",
                "language": "sql"
            },
            "outputs": [
                {
                    "data": {
                        "text/html": [
                            "Commands completed successfully."
                        ]
                    },
                    "metadata": {},
                    "output_type": "display_data"
                },
                {
                    "data": {
                        "text/html": [
                            "Total execution time: 00:00:00.003"
                        ]
                    },
                    "metadata": {},
                    "output_type": "display_data"
                }
            ],
            "source": [
                "--Storde proc to out top of count to column \n",
                "CREATE OR ALTER PROC TOop_Count_with_GroupBy (\n",
                "    @ColumnGroued NVARCHAR(20)\n",
                ")\n",
                "AS\n",
                "BEGIN\n",
                "    DECLARE @query NVARCHAR(MAX)\n",
                "    SET @query = \n",
                "    N'SELECT \n",
                "            top(1) ' + QUOTENAME(@ColumnGroued) + N'as [Top Sales Product] \n",
                "            , COUNT(' + QUOTENAME(@ColumnGroued) + N') as [Number of Orders ],\n",
                "            sum(sales) [Total Sales]\n",
                "    FROM \n",
                "        SALES \n",
                "    GROUP BY '\n",
                "            + QUOTENAME(@ColumnGroued) + \n",
                "    N' ORDER BY \n",
                "            2 DESC;';\n",
                "    EXEC sp_executesql @query;\n",
                "    RETURN;\n",
                "END \n",
                "GO"
            ]
        },
        {
            "cell_type": "code",
            "execution_count": 147,
            "metadata": {
                "azdata_cell_guid": "95360081-a7c0-4ed7-8298-fd5dfc1f7f3e",
                "language": "sql"
            },
            "outputs": [
                {
                    "data": {
                        "text/html": [
                            "Commands completed successfully."
                        ]
                    },
                    "metadata": {},
                    "output_type": "display_data"
                },
                {
                    "data": {
                        "text/html": [
                            "Total execution time: 00:00:00.003"
                        ]
                    },
                    "metadata": {},
                    "output_type": "display_data"
                }
            ],
            "source": [
                "--Storde proc to out column and count it \n",
                "CREATE OR ALTER PROC Count_with_GroupBy (\n",
                "    @ColumnGroued NVARCHAR(20)\n",
                ")\n",
                "AS\n",
                "BEGIN\n",
                "    DECLARE @query NVARCHAR(MAX)\n",
                "    SET @query = \n",
                "    N'SELECT ' + QUOTENAME(@ColumnGroued) + N' ,\n",
                "                COUNT(' + QUOTENAME(@ColumnGroued) + N') as [Number of Orders ] \n",
                "    FROM \n",
                "        SALES \n",
                "    GROUP BY '\n",
                "            + QUOTENAME(@ColumnGroued) + \n",
                "    N' ORDER BY \n",
                "            2 DESC;';\n",
                "    EXEC sp_executesql @query;\n",
                "    RETURN;\n",
                "END \n",
                "GO"
            ]
        },
        {
            "cell_type": "code",
            "execution_count": 134,
            "metadata": {
                "azdata_cell_guid": "c3ee2116-9a0d-46c6-aa23-38f5011c35b7",
                "language": "sql"
            },
            "outputs": [
                {
                    "data": {
                        "text/html": [
                            "(1 row affected)"
                        ]
                    },
                    "metadata": {},
                    "output_type": "display_data"
                },
                {
                    "data": {
                        "text/html": [
                            "Total execution time: 00:00:00.098"
                        ]
                    },
                    "metadata": {},
                    "output_type": "display_data"
                },
                {
                    "data": {
                        "application/vnd.dataresource+json": {
                            "data": [
                                {
                                    "Number of Orders ": "20351",
                                    "Top Sales Product": "Lightning Charging Cable",
                                    "Total Sales": "326223.95"
                                }
                            ],
                            "schema": {
                                "fields": [
                                    {
                                        "name": "Top Sales Product"
                                    },
                                    {
                                        "name": "Number of Orders "
                                    },
                                    {
                                        "name": "Total Sales"
                                    }
                                ]
                            }
                        },
                        "text/html": [
                            "<table>\n",
                            "<tr><th>Top Sales Product</th><th>Number of Orders </th><th>Total Sales</th></tr>\n",
                            "<tr><td>Lightning Charging Cable</td><td>20351</td><td>326223.95</td></tr>\n",
                            "</table>"
                        ]
                    },
                    "execution_count": 134,
                    "metadata": {},
                    "output_type": "execute_result"
                }
            ],
            "source": [
                "--Top product in number of sales' \n",
                "TOop_Count_with_GroupBy 'Product'"
            ]
        },
        {
            "cell_type": "code",
            "execution_count": 146,
            "metadata": {
                "azdata_cell_guid": "81edb41c-0c54-4316-a733-75e48d738d6d",
                "language": "sql"
            },
            "outputs": [
                {
                    "data": {
                        "text/html": [
                            "(19 rows affected)"
                        ]
                    },
                    "metadata": {},
                    "output_type": "display_data"
                },
                {
                    "data": {
                        "text/html": [
                            "Total execution time: 00:00:00.110"
                        ]
                    },
                    "metadata": {},
                    "output_type": "display_data"
                },
                {
                    "data": {
                        "application/vnd.dataresource+json": {
                            "data": [
                                {
                                    "Number of Orders ": "20351",
                                    "Product": "Lightning Charging Cable"
                                },
                                {
                                    "Number of Orders ": "20307",
                                    "Product": "USB-C Charging Cable"
                                },
                                {
                                    "Number of Orders ": "20233",
                                    "Product": "AAA Batteries (4-pack)"
                                },
                                {
                                    "Number of Orders ": "20182",
                                    "Product": "AA Batteries (4-pack)"
                                },
                                {
                                    "Number of Orders ": "17677",
                                    "Product": "Wired Headphones"
                                },
                                {
                                    "Number of Orders ": "14942",
                                    "Product": "Apple Airpods Headphones"
                                },
                                {
                                    "Number of Orders ": "12798",
                                    "Product": "Bose SoundSport Headphones"
                                },
                                {
                                    "Number of Orders ": "7348",
                                    "Product": "27in FHD Monitor"
                                },
                                {
                                    "Number of Orders ": "6532",
                                    "Product": "iPhone"
                                },
                                {
                                    "Number of Orders ": "6107",
                                    "Product": "27in 4K Gaming Monitor"
                                },
                                {
                                    "Number of Orders ": "6058",
                                    "Product": "34in Ultrawide Monitor"
                                },
                                {
                                    "Number of Orders ": "5256",
                                    "Product": "Google Phone"
                                },
                                {
                                    "Number of Orders ": "4706",
                                    "Product": "Flatscreen TV"
                                },
                                {
                                    "Number of Orders ": "4627",
                                    "Product": "Macbook Pro Laptop"
                                },
                                {
                                    "Number of Orders ": "4032",
                                    "Product": "ThinkPad Laptop"
                                },
                                {
                                    "Number of Orders ": "4022",
                                    "Product": "20in Monitor"
                                },
                                {
                                    "Number of Orders ": "1972",
                                    "Product": "Vareebadd Phone"
                                },
                                {
                                    "Number of Orders ": "654",
                                    "Product": "LG Washing Machine"
                                },
                                {
                                    "Number of Orders ": "633",
                                    "Product": "LG Dryer"
                                }
                            ],
                            "schema": {
                                "fields": [
                                    {
                                        "name": "Product"
                                    },
                                    {
                                        "name": "Number of Orders "
                                    }
                                ]
                            }
                        },
                        "text/html": [
                            "<table>\n",
                            "<tr><th>Product</th><th>Number of Orders </th></tr>\n",
                            "<tr><td>Lightning Charging Cable</td><td>20351</td></tr>\n",
                            "<tr><td>USB-C Charging Cable</td><td>20307</td></tr>\n",
                            "<tr><td>AAA Batteries (4-pack)</td><td>20233</td></tr>\n",
                            "<tr><td>AA Batteries (4-pack)</td><td>20182</td></tr>\n",
                            "<tr><td>Wired Headphones</td><td>17677</td></tr>\n",
                            "<tr><td>Apple Airpods Headphones</td><td>14942</td></tr>\n",
                            "<tr><td>Bose SoundSport Headphones</td><td>12798</td></tr>\n",
                            "<tr><td>27in FHD Monitor</td><td>7348</td></tr>\n",
                            "<tr><td>iPhone</td><td>6532</td></tr>\n",
                            "<tr><td>27in 4K Gaming Monitor</td><td>6107</td></tr>\n",
                            "<tr><td>34in Ultrawide Monitor</td><td>6058</td></tr>\n",
                            "<tr><td>Google Phone</td><td>5256</td></tr>\n",
                            "<tr><td>Flatscreen TV</td><td>4706</td></tr>\n",
                            "<tr><td>Macbook Pro Laptop</td><td>4627</td></tr>\n",
                            "<tr><td>ThinkPad Laptop</td><td>4032</td></tr>\n",
                            "<tr><td>20in Monitor</td><td>4022</td></tr>\n",
                            "<tr><td>Vareebadd Phone</td><td>1972</td></tr>\n",
                            "<tr><td>LG Washing Machine</td><td>654</td></tr>\n",
                            "<tr><td>LG Dryer</td><td>633</td></tr>\n",
                            "</table>"
                        ]
                    },
                    "execution_count": 146,
                    "metadata": {},
                    "output_type": "execute_result"
                }
            ],
            "source": [
                "-- products ordered by number of order \n",
                "EXEC Count_with_GroupBy 'Product';"
            ]
        },
        {
            "cell_type": "code",
            "execution_count": 135,
            "metadata": {
                "azdata_cell_guid": "d91d70f9-4804-4d90-8f31-8ce59f61c600",
                "language": "sql"
            },
            "outputs": [
                {
                    "data": {
                        "text/html": [
                            "(1 row affected)"
                        ]
                    },
                    "metadata": {},
                    "output_type": "display_data"
                },
                {
                    "data": {
                        "text/html": [
                            "Total execution time: 00:00:00.098"
                        ]
                    },
                    "metadata": {},
                    "output_type": "display_data"
                },
                {
                    "data": {
                        "application/vnd.dataresource+json": {
                            "data": [
                                {
                                    "Number of Orders ": "42898",
                                    "Top Sales Product": "San Francisco",
                                    "Total Sales": "7995047.58"
                                }
                            ],
                            "schema": {
                                "fields": [
                                    {
                                        "name": "Top Sales Product"
                                    },
                                    {
                                        "name": "Number of Orders "
                                    },
                                    {
                                        "name": "Total Sales"
                                    }
                                ]
                            }
                        },
                        "text/html": [
                            "<table>\n",
                            "<tr><th>Top Sales Product</th><th>Number of Orders </th><th>Total Sales</th></tr>\n",
                            "<tr><td>San Francisco</td><td>42898</td><td>7995047.58</td></tr>\n",
                            "</table>"
                        ]
                    },
                    "execution_count": 135,
                    "metadata": {},
                    "output_type": "execute_result"
                }
            ],
            "source": [
                "--The best city with sales\n",
                "TOop_Count_with_GroupBy 'City'"
            ]
        },
        {
            "cell_type": "code",
            "execution_count": 39,
            "metadata": {
                "azdata_cell_guid": "66d8b697-9bb3-4150-9626-91cb5a3c8def",
                "language": "sql",
                "tags": []
            },
            "outputs": [
                {
                    "data": {
                        "text/html": [
                            "(9 rows affected)"
                        ]
                    },
                    "metadata": {},
                    "output_type": "display_data"
                },
                {
                    "data": {
                        "text/html": [
                            "Total execution time: 00:00:00.065"
                        ]
                    },
                    "metadata": {},
                    "output_type": "display_data"
                },
                {
                    "data": {
                        "application/vnd.dataresource+json": {
                            "data": [
                                {
                                    "City": "San Francisco",
                                    "Number of Orders ": "44732"
                                },
                                {
                                    "City": "Los Angeles",
                                    "Number of Orders ": "29605"
                                },
                                {
                                    "City": "New York City",
                                    "Number of Orders ": "24876"
                                },
                                {
                                    "City": "Boston",
                                    "Number of Orders ": "19934"
                                },
                                {
                                    "City": "Atlanta",
                                    "Number of Orders ": "14881"
                                },
                                {
                                    "City": "Dallas",
                                    "Number of Orders ": "14820"
                                },
                                {
                                    "City": "Seattle",
                                    "Number of Orders ": "14732"
                                },
                                {
                                    "City": "Portland",
                                    "Number of Orders ": "12465"
                                },
                                {
                                    "City": "Austin",
                                    "Number of Orders ": "9905"
                                }
                            ],
                            "schema": {
                                "fields": [
                                    {
                                        "name": "City"
                                    },
                                    {
                                        "name": "Number of Orders "
                                    }
                                ]
                            }
                        },
                        "text/html": [
                            "<table><tr><th>City</th><th>Number of Orders </th></tr><tr><td>San Francisco</td><td>44732</td></tr><tr><td>Los Angeles</td><td>29605</td></tr><tr><td>New York City</td><td>24876</td></tr><tr><td>Boston</td><td>19934</td></tr><tr><td>Atlanta</td><td>14881</td></tr><tr><td>Dallas</td><td>14820</td></tr><tr><td>Seattle</td><td>14732</td></tr><tr><td>Portland</td><td>12465</td></tr><tr><td>Austin</td><td>9905</td></tr></table>"
                        ]
                    },
                    "execution_count": 39,
                    "metadata": {},
                    "output_type": "execute_result"
                }
            ],
            "source": [
                "-- Cities ordered by number of order \n",
                "EXEC Count_with_GroupBy 'City'"
            ]
        },
        {
            "cell_type": "code",
            "execution_count": 97,
            "metadata": {
                "azdata_cell_guid": "d657773b-07eb-40c9-a3cd-cfb23a498167",
                "language": "sql"
            },
            "outputs": [
                {
                    "data": {
                        "text/html": [
                            "(12 rows affected)"
                        ]
                    },
                    "metadata": {},
                    "output_type": "display_data"
                },
                {
                    "data": {
                        "text/html": [
                            "Total execution time: 00:00:00.105"
                        ]
                    },
                    "metadata": {},
                    "output_type": "display_data"
                },
                {
                    "data": {
                        "application/vnd.dataresource+json": {
                            "data": [
                                {
                                    "MonthName": "December",
                                    "Number of Orders ": "24004"
                                },
                                {
                                    "MonthName": "October",
                                    "Number of Orders ": "19436"
                                },
                                {
                                    "MonthName": "April",
                                    "Number of Orders ": "17528"
                                },
                                {
                                    "MonthName": "November",
                                    "Number of Orders ": "16859"
                                },
                                {
                                    "MonthName": "May",
                                    "Number of Orders ": "15836"
                                },
                                {
                                    "MonthName": "March",
                                    "Number of Orders ": "14549"
                                },
                                {
                                    "MonthName": "July",
                                    "Number of Orders ": "13761"
                                },
                                {
                                    "MonthName": "June",
                                    "Number of Orders ": "12989"
                                },
                                {
                                    "MonthName": "February",
                                    "Number of Orders ": "11496"
                                },
                                {
                                    "MonthName": "August",
                                    "Number of Orders ": "11484"
                                },
                                {
                                    "MonthName": "September",
                                    "Number of Orders ": "11202"
                                },
                                {
                                    "MonthName": "January",
                                    "Number of Orders ": "9293"
                                }
                            ],
                            "schema": {
                                "fields": [
                                    {
                                        "name": "MonthName"
                                    },
                                    {
                                        "name": "Number of Orders "
                                    }
                                ]
                            }
                        },
                        "text/html": [
                            "<table>\n",
                            "<tr><th>MonthName</th><th>Number of Orders </th></tr>\n",
                            "<tr><td>December</td><td>24004</td></tr>\n",
                            "<tr><td>October</td><td>19436</td></tr>\n",
                            "<tr><td>April</td><td>17528</td></tr>\n",
                            "<tr><td>November</td><td>16859</td></tr>\n",
                            "<tr><td>May</td><td>15836</td></tr>\n",
                            "<tr><td>March</td><td>14549</td></tr>\n",
                            "<tr><td>July</td><td>13761</td></tr>\n",
                            "<tr><td>June</td><td>12989</td></tr>\n",
                            "<tr><td>February</td><td>11496</td></tr>\n",
                            "<tr><td>August</td><td>11484</td></tr>\n",
                            "<tr><td>September</td><td>11202</td></tr>\n",
                            "<tr><td>January</td><td>9293</td></tr>\n",
                            "</table>"
                        ]
                    },
                    "execution_count": 97,
                    "metadata": {},
                    "output_type": "execute_result"
                }
            ],
            "source": [
                "Count_with_GroupBy MonthName;"
            ]
        },
        {
            "cell_type": "code",
            "execution_count": 49,
            "metadata": {
                "azdata_cell_guid": "9b8a67e3-1e9c-47da-a71d-9ba94c15636c",
                "language": "sql"
            },
            "outputs": [
                {
                    "data": {
                        "text/html": [
                            "(2 rows affected)"
                        ]
                    },
                    "metadata": {},
                    "output_type": "display_data"
                },
                {
                    "data": {
                        "text/html": [
                            "Total execution time: 00:00:00.012"
                        ]
                    },
                    "metadata": {},
                    "output_type": "display_data"
                },
                {
                    "data": {
                        "application/vnd.dataresource+json": {
                            "data": [
                                {
                                    "City": "New York City",
                                    "Day": "30",
                                    "Hour": "0",
                                    "Month": "12",
                                    "MonthName": "December",
                                    "Order_Date": "2019-12-30 00:01:00.0000000",
                                    "Order_ID": "295665",
                                    "Price_Each": "1700",
                                    "Product": "Macbook Pro Laptop",
                                    "Purchase_Address": "136 Church St, New York City, NY 10001",
                                    "Quantity_Ordered": "1",
                                    "Sales": "1700.00",
                                    "Year": "2019"
                                },
                                {
                                    "City": "New York City",
                                    "Day": "29",
                                    "Hour": "7",
                                    "Month": "12",
                                    "MonthName": "December",
                                    "Order_Date": "2019-12-29 07:03:00.0000000",
                                    "Order_ID": "295666",
                                    "Price_Each": "600",
                                    "Product": "LG Washing Machine",
                                    "Purchase_Address": "562 2nd St, New York City, NY 10001",
                                    "Quantity_Ordered": "1",
                                    "Sales": "600.00",
                                    "Year": "2019"
                                }
                            ],
                            "schema": {
                                "fields": [
                                    {
                                        "name": "Order_ID"
                                    },
                                    {
                                        "name": "Product"
                                    },
                                    {
                                        "name": "Quantity_Ordered"
                                    },
                                    {
                                        "name": "Price_Each"
                                    },
                                    {
                                        "name": "Order_Date"
                                    },
                                    {
                                        "name": "Purchase_Address"
                                    },
                                    {
                                        "name": "Month"
                                    },
                                    {
                                        "name": "Sales"
                                    },
                                    {
                                        "name": "City"
                                    },
                                    {
                                        "name": "Hour"
                                    },
                                    {
                                        "name": "Year"
                                    },
                                    {
                                        "name": "Day"
                                    },
                                    {
                                        "name": "MonthName"
                                    }
                                ]
                            }
                        },
                        "text/html": [
                            "<table>\n",
                            "<tr><th>Order_ID</th><th>Product</th><th>Quantity_Ordered</th><th>Price_Each</th><th>Order_Date</th><th>Purchase_Address</th><th>Month</th><th>Sales</th><th>City</th><th>Hour</th><th>Year</th><th>Day</th><th>MonthName</th></tr>\n",
                            "<tr><td>295665</td><td>Macbook Pro Laptop</td><td>1</td><td>1700</td><td>2019-12-30 00:01:00.0000000</td><td>136 Church St, New York City, NY 10001</td><td>12</td><td>1700.00</td><td>New York City</td><td>0</td><td>2019</td><td>30</td><td>December</td></tr>\n",
                            "<tr><td>295666</td><td>LG Washing Machine</td><td>1</td><td>600</td><td>2019-12-29 07:03:00.0000000</td><td>562 2nd St, New York City, NY 10001</td><td>12</td><td>600.00</td><td>New York City</td><td>7</td><td>2019</td><td>29</td><td>December</td></tr>\n",
                            "</table>"
                        ]
                    },
                    "execution_count": 49,
                    "metadata": {},
                    "output_type": "execute_result"
                }
            ],
            "source": [
                " EXEC dbo.print2"
            ]
        },
        {
            "cell_type": "code",
            "execution_count": 143,
            "metadata": {
                "azdata_cell_guid": "f44df4ea-cc21-44d6-b7f3-293832b6bb58",
                "language": "sql"
            },
            "outputs": [
                {
                    "data": {
                        "text/html": [
                            "Commands completed successfully."
                        ]
                    },
                    "metadata": {},
                    "output_type": "display_data"
                },
                {
                    "data": {
                        "text/html": [
                            "Total execution time: 00:00:00.004"
                        ]
                    },
                    "metadata": {},
                    "output_type": "display_data"
                }
            ],
            "source": [
                "CREATE OR ALTER PROC SalesNumbers (\n",
                "    @ColumnGroued NVARCHAR(20)\n",
                ")\n",
                "AS\n",
                "BEGIN\n",
                "    DECLARE @query NVARCHAR(MAX)\n",
                "    SET @query = \n",
                "        N'SELECT ' + \n",
                "        QUOTENAME(@ColumnGroued) + N' \n",
                "        , SUM( Sales ) as [Total Sales ] \n",
                "        FROM \n",
                "            SALES \n",
                "        GROUP BY '\n",
                "            + QUOTENAME(@ColumnGroued) + \n",
                "        N' ORDER BY \n",
                "                2 DESC;';\n",
                "    EXEC sp_executesql @query;\n",
                "    RETURN;\n",
                "END \n",
                "GO"
            ]
        },
        {
            "cell_type": "code",
            "execution_count": 144,
            "metadata": {
                "azdata_cell_guid": "0a2fae18-3e79-4661-adbc-082319baa444",
                "language": "sql"
            },
            "outputs": [
                {
                    "data": {
                        "text/html": [
                            "(9 rows affected)"
                        ]
                    },
                    "metadata": {},
                    "output_type": "display_data"
                },
                {
                    "data": {
                        "text/html": [
                            "Total execution time: 00:00:00.102"
                        ]
                    },
                    "metadata": {},
                    "output_type": "display_data"
                },
                {
                    "data": {
                        "application/vnd.dataresource+json": {
                            "data": [
                                {
                                    "City": "San Francisco",
                                    "Total Sales ": "7995047.58"
                                },
                                {
                                    "City": "Los Angeles",
                                    "Total Sales ": "5276437.05"
                                },
                                {
                                    "City": "New York City",
                                    "Total Sales ": "4530066.13"
                                },
                                {
                                    "City": "Boston",
                                    "Total Sales ": "3556583.12"
                                },
                                {
                                    "City": "Atlanta",
                                    "Total Sales ": "2711195.67"
                                },
                                {
                                    "City": "Dallas",
                                    "Total Sales ": "2679386.73"
                                },
                                {
                                    "City": "Seattle",
                                    "Total Sales ": "2659038.32"
                                },
                                {
                                    "City": "Portland",
                                    "Total Sales ": "2252113.55"
                                },
                                {
                                    "City": "Austin",
                                    "Total Sales ": "1777399.58"
                                }
                            ],
                            "schema": {
                                "fields": [
                                    {
                                        "name": "City"
                                    },
                                    {
                                        "name": "Total Sales "
                                    }
                                ]
                            }
                        },
                        "text/html": [
                            "<table>\n",
                            "<tr><th>City</th><th>Total Sales </th></tr>\n",
                            "<tr><td>San Francisco</td><td>7995047.58</td></tr>\n",
                            "<tr><td>Los Angeles</td><td>5276437.05</td></tr>\n",
                            "<tr><td>New York City</td><td>4530066.13</td></tr>\n",
                            "<tr><td>Boston</td><td>3556583.12</td></tr>\n",
                            "<tr><td>Atlanta</td><td>2711195.67</td></tr>\n",
                            "<tr><td>Dallas</td><td>2679386.73</td></tr>\n",
                            "<tr><td>Seattle</td><td>2659038.32</td></tr>\n",
                            "<tr><td>Portland</td><td>2252113.55</td></tr>\n",
                            "<tr><td>Austin</td><td>1777399.58</td></tr>\n",
                            "</table>"
                        ]
                    },
                    "execution_count": 144,
                    "metadata": {},
                    "output_type": "execute_result"
                }
            ],
            "source": [
                "EXEC SalesNumbers 'City'"
            ]
        },
        {
            "cell_type": "code",
            "execution_count": 105,
            "metadata": {
                "azdata_cell_guid": "701bc137-ef65-4d4a-a455-d03b1c131da2",
                "language": "sql"
            },
            "outputs": [
                {
                    "data": {
                        "text/html": [
                            "(12 rows affected)"
                        ]
                    },
                    "metadata": {},
                    "output_type": "display_data"
                },
                {
                    "data": {
                        "text/html": [
                            "Total execution time: 00:00:00.125"
                        ]
                    },
                    "metadata": {},
                    "output_type": "display_data"
                },
                {
                    "data": {
                        "application/vnd.dataresource+json": {
                            "data": [
                                {
                                    "MonthName": "December",
                                    "Total Sales ": "4487707.44"
                                },
                                {
                                    "MonthName": "October",
                                    "Total Sales ": "3617820.95"
                                },
                                {
                                    "MonthName": "April",
                                    "Total Sales ": "3284979.66"
                                },
                                {
                                    "MonthName": "November",
                                    "Total Sales ": "3101642.69"
                                },
                                {
                                    "MonthName": "May",
                                    "Total Sales ": "3054985.37"
                                },
                                {
                                    "MonthName": "March",
                                    "Total Sales ": "2722342.53"
                                },
                                {
                                    "MonthName": "July",
                                    "Total Sales ": "2568071.67"
                                },
                                {
                                    "MonthName": "June",
                                    "Total Sales ": "2497086.94"
                                },
                                {
                                    "MonthName": "August",
                                    "Total Sales ": "2175056.91"
                                },
                                {
                                    "MonthName": "February",
                                    "Total Sales ": "2136025.10"
                                },
                                {
                                    "MonthName": "September",
                                    "Total Sales ": "2032189.07"
                                },
                                {
                                    "MonthName": "January",
                                    "Total Sales ": "1759359.40"
                                }
                            ],
                            "schema": {
                                "fields": [
                                    {
                                        "name": "MonthName"
                                    },
                                    {
                                        "name": "Total Sales "
                                    }
                                ]
                            }
                        },
                        "text/html": [
                            "<table>\n",
                            "<tr><th>MonthName</th><th>Total Sales </th></tr>\n",
                            "<tr><td>December</td><td>4487707.44</td></tr>\n",
                            "<tr><td>October</td><td>3617820.95</td></tr>\n",
                            "<tr><td>April</td><td>3284979.66</td></tr>\n",
                            "<tr><td>November</td><td>3101642.69</td></tr>\n",
                            "<tr><td>May</td><td>3054985.37</td></tr>\n",
                            "<tr><td>March</td><td>2722342.53</td></tr>\n",
                            "<tr><td>July</td><td>2568071.67</td></tr>\n",
                            "<tr><td>June</td><td>2497086.94</td></tr>\n",
                            "<tr><td>August</td><td>2175056.91</td></tr>\n",
                            "<tr><td>February</td><td>2136025.10</td></tr>\n",
                            "<tr><td>September</td><td>2032189.07</td></tr>\n",
                            "<tr><td>January</td><td>1759359.40</td></tr>\n",
                            "</table>"
                        ]
                    },
                    "execution_count": 105,
                    "metadata": {},
                    "output_type": "execute_result"
                }
            ],
            "source": [
                "EXEC SalesNumbers 'MonthName'"
            ]
        },
        {
            "cell_type": "code",
            "execution_count": 55,
            "metadata": {
                "azdata_cell_guid": "8e339b09-fa1f-4ba9-b5c0-658cfcd83c41",
                "language": "sql"
            },
            "outputs": [
                {
                    "data": {
                        "text/html": [
                            "(2 rows affected)"
                        ]
                    },
                    "metadata": {},
                    "output_type": "display_data"
                },
                {
                    "data": {
                        "text/html": [
                            "Total execution time: 00:00:00.112"
                        ]
                    },
                    "metadata": {},
                    "output_type": "display_data"
                },
                {
                    "data": {
                        "application/vnd.dataresource+json": {
                            "data": [
                                {
                                    "Total Sales ": "33428792.29",
                                    "Year": "2019"
                                },
                                {
                                    "Total Sales ": "8475.44",
                                    "Year": "2020"
                                }
                            ],
                            "schema": {
                                "fields": [
                                    {
                                        "name": "Year"
                                    },
                                    {
                                        "name": "Total Sales "
                                    }
                                ]
                            }
                        },
                        "text/html": [
                            "<table>\n",
                            "<tr><th>Year</th><th>Total Sales </th></tr>\n",
                            "<tr><td>2019</td><td>33428792.29</td></tr>\n",
                            "<tr><td>2020</td><td>8475.44</td></tr>\n",
                            "</table>"
                        ]
                    },
                    "execution_count": 55,
                    "metadata": {},
                    "output_type": "execute_result"
                }
            ],
            "source": [
                "EXEC SalesNumbers 'Year'"
            ]
        },
        {
            "cell_type": "code",
            "execution_count": 56,
            "metadata": {
                "azdata_cell_guid": "ee6ec95d-a133-48dd-9e88-4db1a106a40a",
                "language": "sql"
            },
            "outputs": [
                {
                    "data": {
                        "text/html": [
                            "(19 rows affected)"
                        ]
                    },
                    "metadata": {},
                    "output_type": "display_data"
                },
                {
                    "data": {
                        "text/html": [
                            "Total execution time: 00:00:00.140"
                        ]
                    },
                    "metadata": {},
                    "output_type": "display_data"
                },
                {
                    "data": {
                        "application/vnd.dataresource+json": {
                            "data": [
                                {
                                    "Product": "Macbook Pro Laptop",
                                    "Total Sales ": "7872700.00"
                                },
                                {
                                    "Product": "iPhone",
                                    "Total Sales ": "4577300.00"
                                },
                                {
                                    "Product": "ThinkPad Laptop",
                                    "Total Sales ": "4033959.66"
                                },
                                {
                                    "Product": "Google Phone",
                                    "Total Sales ": "3157800.00"
                                },
                                {
                                    "Product": "27in 4K Gaming Monitor",
                                    "Total Sales ": "2387128.79"
                                },
                                {
                                    "Product": "34in Ultrawide Monitor",
                                    "Total Sales ": "2308439.25"
                                },
                                {
                                    "Product": "Apple Airpods Headphones",
                                    "Total Sales ": "2257050.00"
                                },
                                {
                                    "Product": "Flatscreen TV",
                                    "Total Sales ": "1417200.00"
                                },
                                {
                                    "Product": "Bose SoundSport Headphones",
                                    "Total Sales ": "1292370.75"
                                },
                                {
                                    "Product": "27in FHD Monitor",
                                    "Total Sales ": "1107976.13"
                                },
                                {
                                    "Product": "Vareebadd Phone",
                                    "Total Sales ": "790000.00"
                                },
                                {
                                    "Product": "20in Monitor",
                                    "Total Sales ": "445349.51"
                                },
                                {
                                    "Product": "LG Washing Machine",
                                    "Total Sales ": "392400.00"
                                },
                                {
                                    "Product": "LG Dryer",
                                    "Total Sales ": "379800.00"
                                },
                                {
                                    "Product": "Lightning Charging Cable",
                                    "Total Sales ": "326223.95"
                                },
                                {
                                    "Product": "USB-C Charging Cable",
                                    "Total Sales ": "265923.35"
                                },
                                {
                                    "Product": "Wired Headphones",
                                    "Total Sales ": "230699.59"
                                },
                                {
                                    "Product": "AA Batteries (4-pack)",
                                    "Total Sales ": "104071.68"
                                },
                                {
                                    "Product": "AAA Batteries (4-pack)",
                                    "Total Sales ": "90875.07"
                                }
                            ],
                            "schema": {
                                "fields": [
                                    {
                                        "name": "Product"
                                    },
                                    {
                                        "name": "Total Sales "
                                    }
                                ]
                            }
                        },
                        "text/html": [
                            "<table>\n",
                            "<tr><th>Product</th><th>Total Sales </th></tr>\n",
                            "<tr><td>Macbook Pro Laptop</td><td>7872700.00</td></tr>\n",
                            "<tr><td>iPhone</td><td>4577300.00</td></tr>\n",
                            "<tr><td>ThinkPad Laptop</td><td>4033959.66</td></tr>\n",
                            "<tr><td>Google Phone</td><td>3157800.00</td></tr>\n",
                            "<tr><td>27in 4K Gaming Monitor</td><td>2387128.79</td></tr>\n",
                            "<tr><td>34in Ultrawide Monitor</td><td>2308439.25</td></tr>\n",
                            "<tr><td>Apple Airpods Headphones</td><td>2257050.00</td></tr>\n",
                            "<tr><td>Flatscreen TV</td><td>1417200.00</td></tr>\n",
                            "<tr><td>Bose SoundSport Headphones</td><td>1292370.75</td></tr>\n",
                            "<tr><td>27in FHD Monitor</td><td>1107976.13</td></tr>\n",
                            "<tr><td>Vareebadd Phone</td><td>790000.00</td></tr>\n",
                            "<tr><td>20in Monitor</td><td>445349.51</td></tr>\n",
                            "<tr><td>LG Washing Machine</td><td>392400.00</td></tr>\n",
                            "<tr><td>LG Dryer</td><td>379800.00</td></tr>\n",
                            "<tr><td>Lightning Charging Cable</td><td>326223.95</td></tr>\n",
                            "<tr><td>USB-C Charging Cable</td><td>265923.35</td></tr>\n",
                            "<tr><td>Wired Headphones</td><td>230699.59</td></tr>\n",
                            "<tr><td>AA Batteries (4-pack)</td><td>104071.68</td></tr>\n",
                            "<tr><td>AAA Batteries (4-pack)</td><td>90875.07</td></tr>\n",
                            "</table>"
                        ]
                    },
                    "execution_count": 56,
                    "metadata": {},
                    "output_type": "execute_result"
                }
            ],
            "source": [
                "EXEC SalesNumbers 'Product'"
            ]
        },
        {
            "cell_type": "code",
            "execution_count": 67,
            "metadata": {
                "azdata_cell_guid": "07be624b-ffcd-432d-8f2d-4f5128a49327",
                "language": "sql"
            },
            "outputs": [
                {
                    "data": {
                        "text/html": [
                            "Commands completed successfully."
                        ]
                    },
                    "metadata": {},
                    "output_type": "display_data"
                },
                {
                    "data": {
                        "text/html": [
                            "Total execution time: 00:00:00.003"
                        ]
                    },
                    "metadata": {},
                    "output_type": "display_data"
                }
            ],
            "source": [
                "--\n",
                "CREATE OR ALTER PROC SalesQuantity (\n",
                "    @ColumnGroued NVARCHAR(20)\n",
                ")\n",
                "AS\n",
                "BEGIN\n",
                "    DECLARE @query NVARCHAR(MAX)\n",
                "    SET @query = \n",
                "    N'SELECT ' + QUOTENAME(@ColumnGroued) + N' , SUM( Quantity_Ordered ) as [Total Quantity Soled ]\n",
                "     , SUM( Sales ) as [Total Sales ] \n",
                "    FROM SALES \n",
                "    GROUP BY '+ QUOTENAME(@ColumnGroued) + \n",
                "    N' ORDER BY \n",
                "    2 DESC, \n",
                "    3 DESC;';\n",
                "    EXEC sp_executesql @query;\n",
                "    RETURN;\n",
                "END \n",
                "GO"
            ]
        },
        {
            "cell_type": "code",
            "execution_count": 68,
            "metadata": {
                "azdata_cell_guid": "1d2c08c9-46f9-49c2-bb04-158aff26a755",
                "language": "sql"
            },
            "outputs": [
                {
                    "data": {
                        "text/html": [
                            "(19 rows affected)"
                        ]
                    },
                    "metadata": {},
                    "output_type": "display_data"
                },
                {
                    "data": {
                        "text/html": [
                            "Total execution time: 00:00:00.135"
                        ]
                    },
                    "metadata": {},
                    "output_type": "display_data"
                },
                {
                    "data": {
                        "application/vnd.dataresource+json": {
                            "data": [
                                {
                                    "Product": "AAA Batteries (4-pack)",
                                    "Total Quantity Soled ": "30393",
                                    "Total Sales ": "90875.07"
                                },
                                {
                                    "Product": "AA Batteries (4-pack)",
                                    "Total Quantity Soled ": "27102",
                                    "Total Sales ": "104071.68"
                                },
                                {
                                    "Product": "USB-C Charging Cable",
                                    "Total Quantity Soled ": "22253",
                                    "Total Sales ": "265923.35"
                                },
                                {
                                    "Product": "Lightning Charging Cable",
                                    "Total Quantity Soled ": "21821",
                                    "Total Sales ": "326223.95"
                                },
                                {
                                    "Product": "Wired Headphones",
                                    "Total Quantity Soled ": "19241",
                                    "Total Sales ": "230699.59"
                                },
                                {
                                    "Product": "Apple Airpods Headphones",
                                    "Total Quantity Soled ": "15047",
                                    "Total Sales ": "2257050.00"
                                },
                                {
                                    "Product": "Bose SoundSport Headphones",
                                    "Total Quantity Soled ": "12925",
                                    "Total Sales ": "1292370.75"
                                },
                                {
                                    "Product": "27in FHD Monitor",
                                    "Total Quantity Soled ": "7387",
                                    "Total Sales ": "1107976.13"
                                },
                                {
                                    "Product": "iPhone",
                                    "Total Quantity Soled ": "6539",
                                    "Total Sales ": "4577300.00"
                                },
                                {
                                    "Product": "27in 4K Gaming Monitor",
                                    "Total Quantity Soled ": "6121",
                                    "Total Sales ": "2387128.79"
                                },
                                {
                                    "Product": "34in Ultrawide Monitor",
                                    "Total Quantity Soled ": "6075",
                                    "Total Sales ": "2308439.25"
                                },
                                {
                                    "Product": "Google Phone",
                                    "Total Quantity Soled ": "5263",
                                    "Total Sales ": "3157800.00"
                                },
                                {
                                    "Product": "Flatscreen TV",
                                    "Total Quantity Soled ": "4724",
                                    "Total Sales ": "1417200.00"
                                },
                                {
                                    "Product": "Macbook Pro Laptop",
                                    "Total Quantity Soled ": "4631",
                                    "Total Sales ": "7872700.00"
                                },
                                {
                                    "Product": "20in Monitor",
                                    "Total Quantity Soled ": "4049",
                                    "Total Sales ": "445349.51"
                                },
                                {
                                    "Product": "ThinkPad Laptop",
                                    "Total Quantity Soled ": "4034",
                                    "Total Sales ": "4033959.66"
                                },
                                {
                                    "Product": "Vareebadd Phone",
                                    "Total Quantity Soled ": "1975",
                                    "Total Sales ": "790000.00"
                                },
                                {
                                    "Product": "LG Washing Machine",
                                    "Total Quantity Soled ": "654",
                                    "Total Sales ": "392400.00"
                                },
                                {
                                    "Product": "LG Dryer",
                                    "Total Quantity Soled ": "633",
                                    "Total Sales ": "379800.00"
                                }
                            ],
                            "schema": {
                                "fields": [
                                    {
                                        "name": "Product"
                                    },
                                    {
                                        "name": "Total Quantity Soled "
                                    },
                                    {
                                        "name": "Total Sales "
                                    }
                                ]
                            }
                        },
                        "text/html": [
                            "<table>\n",
                            "<tr><th>Product</th><th>Total Quantity Soled </th><th>Total Sales </th></tr>\n",
                            "<tr><td>AAA Batteries (4-pack)</td><td>30393</td><td>90875.07</td></tr>\n",
                            "<tr><td>AA Batteries (4-pack)</td><td>27102</td><td>104071.68</td></tr>\n",
                            "<tr><td>USB-C Charging Cable</td><td>22253</td><td>265923.35</td></tr>\n",
                            "<tr><td>Lightning Charging Cable</td><td>21821</td><td>326223.95</td></tr>\n",
                            "<tr><td>Wired Headphones</td><td>19241</td><td>230699.59</td></tr>\n",
                            "<tr><td>Apple Airpods Headphones</td><td>15047</td><td>2257050.00</td></tr>\n",
                            "<tr><td>Bose SoundSport Headphones</td><td>12925</td><td>1292370.75</td></tr>\n",
                            "<tr><td>27in FHD Monitor</td><td>7387</td><td>1107976.13</td></tr>\n",
                            "<tr><td>iPhone</td><td>6539</td><td>4577300.00</td></tr>\n",
                            "<tr><td>27in 4K Gaming Monitor</td><td>6121</td><td>2387128.79</td></tr>\n",
                            "<tr><td>34in Ultrawide Monitor</td><td>6075</td><td>2308439.25</td></tr>\n",
                            "<tr><td>Google Phone</td><td>5263</td><td>3157800.00</td></tr>\n",
                            "<tr><td>Flatscreen TV</td><td>4724</td><td>1417200.00</td></tr>\n",
                            "<tr><td>Macbook Pro Laptop</td><td>4631</td><td>7872700.00</td></tr>\n",
                            "<tr><td>20in Monitor</td><td>4049</td><td>445349.51</td></tr>\n",
                            "<tr><td>ThinkPad Laptop</td><td>4034</td><td>4033959.66</td></tr>\n",
                            "<tr><td>Vareebadd Phone</td><td>1975</td><td>790000.00</td></tr>\n",
                            "<tr><td>LG Washing Machine</td><td>654</td><td>392400.00</td></tr>\n",
                            "<tr><td>LG Dryer</td><td>633</td><td>379800.00</td></tr>\n",
                            "</table>"
                        ]
                    },
                    "execution_count": 68,
                    "metadata": {},
                    "output_type": "execute_result"
                }
            ],
            "source": [
                "--products ordered by quantity\n",
                "EXEC SalesQuantity 'Product'"
            ]
        },
        {
            "cell_type": "code",
            "execution_count": 72,
            "metadata": {
                "azdata_cell_guid": "02f4aefc-950f-4fa3-afc4-c937db8a1ccd",
                "language": "sql"
            },
            "outputs": [
                {
                    "data": {
                        "text/html": [
                            "(19 rows affected)"
                        ]
                    },
                    "metadata": {},
                    "output_type": "display_data"
                },
                {
                    "data": {
                        "text/html": [
                            "Total execution time: 00:00:00.174"
                        ]
                    },
                    "metadata": {},
                    "output_type": "display_data"
                },
                {
                    "data": {
                        "application/vnd.dataresource+json": {
                            "data": [
                                {
                                    "Product": "AAA Batteries (4-pack)",
                                    "Total Quantity Soled ": "7270",
                                    "Total Sales ": "21737.30"
                                },
                                {
                                    "Product": "AA Batteries (4-pack)",
                                    "Total Quantity Soled ": "6418",
                                    "Total Sales ": "24645.12"
                                },
                                {
                                    "Product": "USB-C Charging Cable",
                                    "Total Quantity Soled ": "5463",
                                    "Total Sales ": "65282.85"
                                },
                                {
                                    "Product": "Lightning Charging Cable",
                                    "Total Quantity Soled ": "5221",
                                    "Total Sales ": "78053.95"
                                },
                                {
                                    "Product": "Wired Headphones",
                                    "Total Quantity Soled ": "4651",
                                    "Total Sales ": "55765.49"
                                },
                                {
                                    "Product": "Apple Airpods Headphones",
                                    "Total Quantity Soled ": "3598",
                                    "Total Sales ": "539700.00"
                                },
                                {
                                    "Product": "Bose SoundSport Headphones",
                                    "Total Quantity Soled ": "3169",
                                    "Total Sales ": "316868.31"
                                },
                                {
                                    "Product": "27in FHD Monitor",
                                    "Total Quantity Soled ": "1773",
                                    "Total Sales ": "265932.27"
                                },
                                {
                                    "Product": "iPhone",
                                    "Total Quantity Soled ": "1575",
                                    "Total Sales ": "1102500.00"
                                },
                                {
                                    "Product": "27in 4K Gaming Monitor",
                                    "Total Quantity Soled ": "1427",
                                    "Total Sales ": "556515.73"
                                },
                                {
                                    "Product": "34in Ultrawide Monitor",
                                    "Total Quantity Soled ": "1418",
                                    "Total Sales ": "538825.82"
                                },
                                {
                                    "Product": "Google Phone",
                                    "Total Quantity Soled ": "1300",
                                    "Total Sales ": "780000.00"
                                },
                                {
                                    "Product": "Flatscreen TV",
                                    "Total Quantity Soled ": "1131",
                                    "Total Sales ": "339300.00"
                                },
                                {
                                    "Product": "Macbook Pro Laptop",
                                    "Total Quantity Soled ": "1107",
                                    "Total Sales ": "1881900.00"
                                },
                                {
                                    "Product": "20in Monitor",
                                    "Total Quantity Soled ": "984",
                                    "Total Sales ": "108230.16"
                                },
                                {
                                    "Product": "ThinkPad Laptop",
                                    "Total Quantity Soled ": "942",
                                    "Total Sales ": "941990.58"
                                },
                                {
                                    "Product": "Vareebadd Phone",
                                    "Total Quantity Soled ": "469",
                                    "Total Sales ": "187600.00"
                                },
                                {
                                    "Product": "LG Washing Machine",
                                    "Total Quantity Soled ": "175",
                                    "Total Sales ": "105000.00"
                                },
                                {
                                    "Product": "LG Dryer",
                                    "Total Quantity Soled ": "142",
                                    "Total Sales ": "85200.00"
                                }
                            ],
                            "schema": {
                                "fields": [
                                    {
                                        "name": "Product"
                                    },
                                    {
                                        "name": "Total Quantity Soled "
                                    },
                                    {
                                        "name": "Total Sales "
                                    }
                                ]
                            }
                        },
                        "text/html": [
                            "<table>\n",
                            "<tr><th>Product</th><th>Total Quantity Soled </th><th>Total Sales </th></tr>\n",
                            "<tr><td>AAA Batteries (4-pack)</td><td>7270</td><td>21737.30</td></tr>\n",
                            "<tr><td>AA Batteries (4-pack)</td><td>6418</td><td>24645.12</td></tr>\n",
                            "<tr><td>USB-C Charging Cable</td><td>5463</td><td>65282.85</td></tr>\n",
                            "<tr><td>Lightning Charging Cable</td><td>5221</td><td>78053.95</td></tr>\n",
                            "<tr><td>Wired Headphones</td><td>4651</td><td>55765.49</td></tr>\n",
                            "<tr><td>Apple Airpods Headphones</td><td>3598</td><td>539700.00</td></tr>\n",
                            "<tr><td>Bose SoundSport Headphones</td><td>3169</td><td>316868.31</td></tr>\n",
                            "<tr><td>27in FHD Monitor</td><td>1773</td><td>265932.27</td></tr>\n",
                            "<tr><td>iPhone</td><td>1575</td><td>1102500.00</td></tr>\n",
                            "<tr><td>27in 4K Gaming Monitor</td><td>1427</td><td>556515.73</td></tr>\n",
                            "<tr><td>34in Ultrawide Monitor</td><td>1418</td><td>538825.82</td></tr>\n",
                            "<tr><td>Google Phone</td><td>1300</td><td>780000.00</td></tr>\n",
                            "<tr><td>Flatscreen TV</td><td>1131</td><td>339300.00</td></tr>\n",
                            "<tr><td>Macbook Pro Laptop</td><td>1107</td><td>1881900.00</td></tr>\n",
                            "<tr><td>20in Monitor</td><td>984</td><td>108230.16</td></tr>\n",
                            "<tr><td>ThinkPad Laptop</td><td>942</td><td>941990.58</td></tr>\n",
                            "<tr><td>Vareebadd Phone</td><td>469</td><td>187600.00</td></tr>\n",
                            "<tr><td>LG Washing Machine</td><td>175</td><td>105000.00</td></tr>\n",
                            "<tr><td>LG Dryer</td><td>142</td><td>85200.00</td></tr>\n",
                            "</table>"
                        ]
                    },
                    "execution_count": 72,
                    "metadata": {},
                    "output_type": "execute_result"
                }
            ],
            "source": [
                "-- products of San Francisco -Which is max city with sales--\n",
                "SELECT Product , \n",
                "       SUM( Quantity_Ordered ) as [Total Quantity Soled ],\n",
                "       SUM( Sales ) as [Total Sales ] \n",
                "FROM \n",
                "    SALES \n",
                "WHERE\n",
                "    city = 'San Francisco'\n",
                "GROUP BY \n",
                "    City, \n",
                "    Product\n",
                "ORDER BY \n",
                "    2 DESC, \n",
                "    3 DESC;"
            ]
        },
        {
            "attachments": {},
            "cell_type": "markdown",
            "metadata": {
                "azdata_cell_guid": "8898f7d3-707b-4c67-b670-f603f62b8589",
                "language": "sql"
            },
            "source": [
                "### **Each city with the product have max sales prodect**"
            ]
        },
        {
            "cell_type": "code",
            "execution_count": 139,
            "metadata": {
                "azdata_cell_guid": "f1ef2d67-befd-4001-b252-a42575a9f3f1",
                "language": "sql"
            },
            "outputs": [
                {
                    "data": {
                        "text/html": [
                            "(9 rows affected)"
                        ]
                    },
                    "metadata": {},
                    "output_type": "display_data"
                },
                {
                    "data": {
                        "text/html": [
                            "Total execution time: 00:00:00.102"
                        ]
                    },
                    "metadata": {},
                    "output_type": "display_data"
                },
                {
                    "data": {
                        "application/vnd.dataresource+json": {
                            "data": [
                                {
                                    "City": "Atlanta",
                                    "Product with Max Sales in the City": "AAA Batteries (4-pack)"
                                },
                                {
                                    "City": "Austin",
                                    "Product with Max Sales in the City": "AAA Batteries (4-pack)"
                                },
                                {
                                    "City": "Boston",
                                    "Product with Max Sales in the City": "AAA Batteries (4-pack)"
                                },
                                {
                                    "City": "Dallas",
                                    "Product with Max Sales in the City": "AAA Batteries (4-pack)"
                                },
                                {
                                    "City": "Los Angeles",
                                    "Product with Max Sales in the City": "AAA Batteries (4-pack)"
                                },
                                {
                                    "City": "New York City",
                                    "Product with Max Sales in the City": "AAA Batteries (4-pack)"
                                },
                                {
                                    "City": "Portland",
                                    "Product with Max Sales in the City": "AAA Batteries (4-pack)"
                                },
                                {
                                    "City": "San Francisco",
                                    "Product with Max Sales in the City": "AAA Batteries (4-pack)"
                                },
                                {
                                    "City": "Seattle",
                                    "Product with Max Sales in the City": "AAA Batteries (4-pack)"
                                }
                            ],
                            "schema": {
                                "fields": [
                                    {
                                        "name": "City"
                                    },
                                    {
                                        "name": "Product with Max Sales in the City"
                                    }
                                ]
                            }
                        },
                        "text/html": [
                            "<table>\n",
                            "<tr><th>City</th><th>Product with Max Sales in the City</th></tr>\n",
                            "<tr><td>Atlanta</td><td>AAA Batteries (4-pack)</td></tr>\n",
                            "<tr><td>Austin</td><td>AAA Batteries (4-pack)</td></tr>\n",
                            "<tr><td>Boston</td><td>AAA Batteries (4-pack)</td></tr>\n",
                            "<tr><td>Dallas</td><td>AAA Batteries (4-pack)</td></tr>\n",
                            "<tr><td>Los Angeles</td><td>AAA Batteries (4-pack)</td></tr>\n",
                            "<tr><td>New York City</td><td>AAA Batteries (4-pack)</td></tr>\n",
                            "<tr><td>Portland</td><td>AAA Batteries (4-pack)</td></tr>\n",
                            "<tr><td>San Francisco</td><td>AAA Batteries (4-pack)</td></tr>\n",
                            "<tr><td>Seattle</td><td>AAA Batteries (4-pack)</td></tr>\n",
                            "</table>"
                        ]
                    },
                    "execution_count": 139,
                    "metadata": {},
                    "output_type": "execute_result"
                }
            ],
            "source": [
                "-- filter by total sales\n",
                "Select City,\n",
                "       Product AS [Product with Max Sales in the City] \n",
                "FROM(\n",
                "    SELECT City,\n",
                "            Product,\n",
                "            RANK() OVER(PARTITION BY City \n",
                "                        ORDER BY sum(sales)) as Ranking\n",
                "    FROM \n",
                "        Sales\n",
                "    group by \n",
                "        City, \n",
                "        Product \n",
                ") AS Prod\n",
                "where \n",
                "    Ranking = 1\n"
            ]
        },
        {
            "attachments": {},
            "cell_type": "markdown",
            "metadata": {
                "azdata_cell_guid": "286d9c0b-d1b0-4962-be3e-3af6a234deec"
            },
            "source": [
                "### **Each city with the most ordered product**"
            ]
        },
        {
            "cell_type": "code",
            "execution_count": 138,
            "metadata": {
                "azdata_cell_guid": "44eec418-2db5-4ed8-98d3-6c165fa3b5f2",
                "language": "sql"
            },
            "outputs": [
                {
                    "data": {
                        "text/html": [
                            "(9 rows affected)"
                        ]
                    },
                    "metadata": {},
                    "output_type": "display_data"
                },
                {
                    "data": {
                        "text/html": [
                            "Total execution time: 00:00:00.132"
                        ]
                    },
                    "metadata": {},
                    "output_type": "display_data"
                },
                {
                    "data": {
                        "application/vnd.dataresource+json": {
                            "data": [
                                {
                                    "City": "Atlanta",
                                    "Max sales product in quantity": "LG Washing Machine"
                                },
                                {
                                    "City": "Austin",
                                    "Max sales product in quantity": "LG Washing Machine"
                                },
                                {
                                    "City": "Boston",
                                    "Max sales product in quantity": "LG Dryer"
                                },
                                {
                                    "City": "Dallas",
                                    "Max sales product in quantity": "LG Dryer"
                                },
                                {
                                    "City": "Los Angeles",
                                    "Max sales product in quantity": "LG Washing Machine"
                                },
                                {
                                    "City": "New York City",
                                    "Max sales product in quantity": "LG Dryer"
                                },
                                {
                                    "City": "Portland",
                                    "Max sales product in quantity": "LG Dryer"
                                },
                                {
                                    "City": "San Francisco",
                                    "Max sales product in quantity": "LG Dryer"
                                },
                                {
                                    "City": "Seattle",
                                    "Max sales product in quantity": "LG Dryer"
                                }
                            ],
                            "schema": {
                                "fields": [
                                    {
                                        "name": "City"
                                    },
                                    {
                                        "name": "Max sales product in quantity"
                                    }
                                ]
                            }
                        },
                        "text/html": [
                            "<table>\n",
                            "<tr><th>City</th><th>Max sales product in quantity</th></tr>\n",
                            "<tr><td>Atlanta</td><td>LG Washing Machine</td></tr>\n",
                            "<tr><td>Austin</td><td>LG Washing Machine</td></tr>\n",
                            "<tr><td>Boston</td><td>LG Dryer</td></tr>\n",
                            "<tr><td>Dallas</td><td>LG Dryer</td></tr>\n",
                            "<tr><td>Los Angeles</td><td>LG Washing Machine</td></tr>\n",
                            "<tr><td>New York City</td><td>LG Dryer</td></tr>\n",
                            "<tr><td>Portland</td><td>LG Dryer</td></tr>\n",
                            "<tr><td>San Francisco</td><td>LG Dryer</td></tr>\n",
                            "<tr><td>Seattle</td><td>LG Dryer</td></tr>\n",
                            "</table>"
                        ]
                    },
                    "execution_count": 138,
                    "metadata": {},
                    "output_type": "execute_result"
                }
            ],
            "source": [
                "--filter by count of quantity\n",
                "Select \n",
                "    City, \n",
                "    Product as [Max sales product in quantity]\n",
                "FROM(\n",
                "    SELECT City, Product ,\n",
                "        RANK() OVER(PARTITION BY City \n",
                "                    ORDER BY count(Quantity_Ordered)) as Ranking\n",
                "    FROM \n",
                "        Sales\n",
                "    group by \n",
                "        City, \n",
                "        Product \n",
                ") AS Prod\n",
                "where \n",
                "    Ranking = 1\n"
            ]
        },
        {
            "attachments": {},
            "cell_type": "markdown",
            "metadata": {
                "azdata_cell_guid": "63759b92-5454-4bdc-82f4-ed5887a47585"
            },
            "source": [
                "### **Each year with the Max prodect in quantity**"
            ]
        },
        {
            "cell_type": "code",
            "execution_count": 142,
            "metadata": {
                "azdata_cell_guid": "0d60f335-a421-42f6-8f1b-111e60f6eaed",
                "language": "sql"
            },
            "outputs": [
                {
                    "data": {
                        "text/html": [
                            "(7 rows affected)"
                        ]
                    },
                    "metadata": {},
                    "output_type": "display_data"
                },
                {
                    "data": {
                        "text/html": [
                            "Total execution time: 00:00:00.085"
                        ]
                    },
                    "metadata": {},
                    "output_type": "display_data"
                },
                {
                    "data": {
                        "application/vnd.dataresource+json": {
                            "data": [
                                {
                                    "Max sales product(s) in this year": "LG Dryer",
                                    "Year": "2019"
                                },
                                {
                                    "Max sales product(s) in this year": "Macbook Pro Laptop",
                                    "Year": "2020"
                                },
                                {
                                    "Max sales product(s) in this year": "27in 4K Gaming Monitor",
                                    "Year": "2020"
                                },
                                {
                                    "Max sales product(s) in this year": "Vareebadd Phone",
                                    "Year": "2020"
                                },
                                {
                                    "Max sales product(s) in this year": "Google Phone",
                                    "Year": "2020"
                                },
                                {
                                    "Max sales product(s) in this year": "Wired Headphones",
                                    "Year": "2020"
                                },
                                {
                                    "Max sales product(s) in this year": "Flatscreen TV",
                                    "Year": "2020"
                                }
                            ],
                            "schema": {
                                "fields": [
                                    {
                                        "name": "Year"
                                    },
                                    {
                                        "name": "Max sales product(s) in this year"
                                    }
                                ]
                            }
                        },
                        "text/html": [
                            "<table>\n",
                            "<tr><th>Year</th><th>Max sales product(s) in this year</th></tr>\n",
                            "<tr><td>2019</td><td>LG Dryer</td></tr>\n",
                            "<tr><td>2020</td><td>Macbook Pro Laptop</td></tr>\n",
                            "<tr><td>2020</td><td>27in 4K Gaming Monitor</td></tr>\n",
                            "<tr><td>2020</td><td>Vareebadd Phone</td></tr>\n",
                            "<tr><td>2020</td><td>Google Phone</td></tr>\n",
                            "<tr><td>2020</td><td>Wired Headphones</td></tr>\n",
                            "<tr><td>2020</td><td>Flatscreen TV</td></tr>\n",
                            "</table>"
                        ]
                    },
                    "execution_count": 142,
                    "metadata": {},
                    "output_type": "execute_result"
                }
            ],
            "source": [
                "Select \n",
                "    Year, \n",
                "    Product as [Max sales product(s) in this year]\n",
                "FROM(\n",
                "    SELECT Year,\n",
                "           Product,\n",
                "           RANK() OVER(PARTITION BY Year \n",
                "                        ORDER BY count(Quantity_Ordered)) as Ranking\n",
                "    FROM \n",
                "        Sales\n",
                "    group by \n",
                "         Year, \n",
                "         Product \n",
                ") AS Prod\n",
                "where \n",
                "Ranking = 1"
            ]
        },
        {
            "cell_type": "markdown",
            "metadata": {
                "azdata_cell_guid": "b67faca7-4a26-4193-b64f-4e1648b7911f"
            },
            "source": []
        },
        {
            "cell_type": "code",
            "execution_count": 90,
            "metadata": {
                "azdata_cell_guid": "df159790-e27e-4930-b92c-22cfaeb6457c",
                "language": "sql"
            },
            "outputs": [
                {
                    "data": {
                        "text/html": [
                            "(2 rows affected)"
                        ]
                    },
                    "metadata": {},
                    "output_type": "display_data"
                },
                {
                    "data": {
                        "text/html": [
                            "Total execution time: 00:00:00.006"
                        ]
                    },
                    "metadata": {},
                    "output_type": "display_data"
                },
                {
                    "data": {
                        "application/vnd.dataresource+json": {
                            "data": [
                                {
                                    "City": "New York City",
                                    "Day": "30",
                                    "Hour": "0",
                                    "Month": "12",
                                    "MonthName": "December",
                                    "Order_Date": "2019-12-30 00:01:00.0000000",
                                    "Order_ID": "295665",
                                    "Price_Each": "1700",
                                    "Product": "Macbook Pro Laptop",
                                    "Purchase_Address": "136 Church St, New York City, NY 10001",
                                    "Quantity_Ordered": "1",
                                    "Sales": "1700.00",
                                    "Year": "2019"
                                },
                                {
                                    "City": "New York City",
                                    "Day": "29",
                                    "Hour": "7",
                                    "Month": "12",
                                    "MonthName": "December",
                                    "Order_Date": "2019-12-29 07:03:00.0000000",
                                    "Order_ID": "295666",
                                    "Price_Each": "600",
                                    "Product": "LG Washing Machine",
                                    "Purchase_Address": "562 2nd St, New York City, NY 10001",
                                    "Quantity_Ordered": "1",
                                    "Sales": "600.00",
                                    "Year": "2019"
                                }
                            ],
                            "schema": {
                                "fields": [
                                    {
                                        "name": "Order_ID"
                                    },
                                    {
                                        "name": "Product"
                                    },
                                    {
                                        "name": "Quantity_Ordered"
                                    },
                                    {
                                        "name": "Price_Each"
                                    },
                                    {
                                        "name": "Order_Date"
                                    },
                                    {
                                        "name": "Purchase_Address"
                                    },
                                    {
                                        "name": "Month"
                                    },
                                    {
                                        "name": "Sales"
                                    },
                                    {
                                        "name": "City"
                                    },
                                    {
                                        "name": "Hour"
                                    },
                                    {
                                        "name": "Year"
                                    },
                                    {
                                        "name": "Day"
                                    },
                                    {
                                        "name": "MonthName"
                                    }
                                ]
                            }
                        },
                        "text/html": [
                            "<table>\n",
                            "<tr><th>Order_ID</th><th>Product</th><th>Quantity_Ordered</th><th>Price_Each</th><th>Order_Date</th><th>Purchase_Address</th><th>Month</th><th>Sales</th><th>City</th><th>Hour</th><th>Year</th><th>Day</th><th>MonthName</th></tr>\n",
                            "<tr><td>295665</td><td>Macbook Pro Laptop</td><td>1</td><td>1700</td><td>2019-12-30 00:01:00.0000000</td><td>136 Church St, New York City, NY 10001</td><td>12</td><td>1700.00</td><td>New York City</td><td>0</td><td>2019</td><td>30</td><td>December</td></tr>\n",
                            "<tr><td>295666</td><td>LG Washing Machine</td><td>1</td><td>600</td><td>2019-12-29 07:03:00.0000000</td><td>562 2nd St, New York City, NY 10001</td><td>12</td><td>600.00</td><td>New York City</td><td>7</td><td>2019</td><td>29</td><td>December</td></tr>\n",
                            "</table>"
                        ]
                    },
                    "execution_count": 90,
                    "metadata": {},
                    "output_type": "execute_result"
                }
            ],
            "source": [
                " EXEC dbo.print2"
            ]
        },
        {
            "attachments": {},
            "cell_type": "markdown",
            "metadata": {
                "azdata_cell_guid": "5a9f3d71-2758-4c61-b020-fc09bf9e25f0"
            },
            "source": [
                "### **Max Sold prodects in quantity with Days**"
            ]
        },
        {
            "cell_type": "code",
            "execution_count": 102,
            "metadata": {
                "azdata_cell_guid": "23343023-bc91-4d16-88a2-90024b24ba69",
                "language": "sql"
            },
            "outputs": [
                {
                    "data": {
                        "text/html": [
                            "(2 rows affected)"
                        ]
                    },
                    "metadata": {},
                    "output_type": "display_data"
                },
                {
                    "data": {
                        "text/html": [
                            "Total execution time: 00:00:00.123"
                        ]
                    },
                    "metadata": {},
                    "output_type": "display_data"
                },
                {
                    "data": {
                        "application/vnd.dataresource+json": {
                            "data": [
                                {
                                    "Max Products Sale in days": "LG Dryer"
                                },
                                {
                                    "Max Products Sale in days": "LG Washing Machine"
                                }
                            ],
                            "schema": {
                                "fields": [
                                    {
                                        "name": "Max Products Sale in days"
                                    }
                                ]
                            }
                        },
                        "text/html": [
                            "<table>\n",
                            "<tr><th>Max Products Sale in days</th></tr>\n",
                            "<tr><td>LG Dryer</td></tr>\n",
                            "<tr><td>LG Washing Machine</td></tr>\n",
                            "</table>"
                        ]
                    },
                    "execution_count": 102,
                    "metadata": {},
                    "output_type": "execute_result"
                }
            ],
            "source": [
                "Select DISTINCT(Product) [Max Products Sale in days]\n",
                "FROM(\n",
                "    SELECT Day, \n",
                "            Product,\n",
                "            RANK() OVER(PARTITION BY Day \n",
                "                        ORDER BY count(Quantity_Ordered)) as Ranking\n",
                "    FROM \n",
                "        Sales\n",
                "    group by \n",
                "        Day,\n",
                "        Product \n",
                ") AS Prod\n",
                "where \n",
                "    Ranking = 1\n"
            ]
        },
        {
            "cell_type": "code",
            "execution_count": 149,
            "metadata": {
                "azdata_cell_guid": "62a1f702-7436-49b5-9b7e-fa3e238d71b6",
                "language": "sql",
                "tags": []
            },
            "outputs": [
                {
                    "data": {
                        "text/html": [
                            "(4 rows affected)"
                        ]
                    },
                    "metadata": {},
                    "output_type": "display_data"
                },
                {
                    "data": {
                        "text/html": [
                            "Total execution time: 00:00:00.078"
                        ]
                    },
                    "metadata": {},
                    "output_type": "display_data"
                },
                {
                    "data": {
                        "application/vnd.dataresource+json": {
                            "data": [
                                {
                                    "Hour": "11",
                                    "Number of Orders": "11882"
                                },
                                {
                                    "Hour": "12",
                                    "Number of Orders": "12082"
                                },
                                {
                                    "Hour": "19",
                                    "Number of Orders": "12377"
                                },
                                {
                                    "Hour": "20",
                                    "Number of Orders": "11763"
                                }
                            ],
                            "schema": {
                                "fields": [
                                    {
                                        "name": "Hour"
                                    },
                                    {
                                        "name": "Number of Orders"
                                    }
                                ]
                            }
                        },
                        "text/html": [
                            "<table>\n",
                            "<tr><th>Hour</th><th>Number of Orders</th></tr>\n",
                            "<tr><td>11</td><td>11882</td></tr>\n",
                            "<tr><td>12</td><td>12082</td></tr>\n",
                            "<tr><td>19</td><td>12377</td></tr>\n",
                            "<tr><td>20</td><td>11763</td></tr>\n",
                            "</table>"
                        ]
                    },
                    "execution_count": 149,
                    "metadata": {},
                    "output_type": "execute_result"
                }
            ],
            "source": [
                "--max 4 hours with number of orders\n",
                "select * \n",
                "from(\n",
                "    select \n",
                "        TOP(4)hour as [Top 4 Hours in Days], \n",
                "        count(Order_ID) as [Number of Orders in]\n",
                "    from \n",
                "        sales \n",
                "    GROUP BY\n",
                "        Hour\n",
                "    ORDER BY \n",
                "        2 DESC\n",
                ") as NewTable\n",
                "order by\n",
                "    1"
            ]
        },
        {
            "cell_type": "code",
            "execution_count": 150,
            "metadata": {
                "azdata_cell_guid": "392f6b1a-88dd-4774-abd7-dd3f077aa14e",
                "language": "sql",
                "tags": []
            },
            "outputs": [
                {
                    "data": {
                        "text/html": [
                            "(4 rows affected)"
                        ]
                    },
                    "metadata": {},
                    "output_type": "display_data"
                },
                {
                    "data": {
                        "text/html": [
                            "Total execution time: 00:00:00.080"
                        ]
                    },
                    "metadata": {},
                    "output_type": "display_data"
                },
                {
                    "data": {
                        "application/vnd.dataresource+json": {
                            "data": [
                                {
                                    "Day": "13",
                                    "Number of Orders": "6067"
                                },
                                {
                                    "Day": "10",
                                    "Number of Orders": "6010"
                                },
                                {
                                    "Day": "2",
                                    "Number of Orders": "5966"
                                },
                                {
                                    "Day": "17",
                                    "Number of Orders": "5931"
                                }
                            ],
                            "schema": {
                                "fields": [
                                    {
                                        "name": "Day"
                                    },
                                    {
                                        "name": "Number of Orders"
                                    }
                                ]
                            }
                        },
                        "text/html": [
                            "<table>\n",
                            "<tr><th>Day</th><th>Number of Orders</th></tr>\n",
                            "<tr><td>13</td><td>6067</td></tr>\n",
                            "<tr><td>10</td><td>6010</td></tr>\n",
                            "<tr><td>2</td><td>5966</td></tr>\n",
                            "<tr><td>17</td><td>5931</td></tr>\n",
                            "</table>"
                        ]
                    },
                    "execution_count": 150,
                    "metadata": {},
                    "output_type": "execute_result"
                }
            ],
            "source": [
                "-- max 2 days in number of orders\n",
                "select \n",
                "    TOP(4)DAY as [Day], \n",
                "    count(Order_ID) as [Number of Orders]\n",
                "from \n",
                "    sales \n",
                "GROUP BY\n",
                "    Day\n",
                "ORDER BY \n",
                "    2 DESC\n"
            ]
        }
    ],
    "metadata": {
        "kernelspec": {
            "display_name": "SQL",
            "language": "sql",
            "name": "SQL"
        },
        "language_info": {
            "name": "sql",
            "version": ""
        }
    },
    "nbformat": 4,
    "nbformat_minor": 2
}
