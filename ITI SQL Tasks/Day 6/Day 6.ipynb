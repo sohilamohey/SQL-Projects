{
    "metadata": {
        "kernelspec": {
            "name": "SQL",
            "display_name": "SQL",
            "language": "sql"
        },
        "language_info": {
            "name": "sql",
            "version": ""
        }
    },
    "nbformat_minor": 2,
    "nbformat": 4,
    "cells": [
        {
            "cell_type": "code",
            "source": [
                "--1.Create a view that shows the project number and name along with the total number of hours worked on each project\r\n",
                "create view Project_with_Hours\r\n",
                "as \r\n",
                "select proj.Pnumber, proj.Pname, sum(wf.Hours) as TotalWorkingHours\r\n",
                "from Project proj\r\n",
                "join Works_for wf\r\n",
                "on proj.Pnumber = wf.Pno\r\n",
                "group by proj.Pnumber, proj.Pname"
            ],
            "metadata": {
                "azdata_cell_guid": "c90e0f6a-baa3-477b-a469-174fc4efce2e",
                "language": "sql"
            },
            "outputs": [
                {
                    "output_type": "error",
                    "ename": "",
                    "evalue": "Msg 2714, Level 16, State 3, Procedure Project_with_Hours, Line 1\r\nThere is already an object named 'Project_with_Hours' in the database.",
                    "traceback": []
                },
                {
                    "output_type": "display_data",
                    "data": {
                        "text/html": "Total execution time: 00:00:00.010"
                    },
                    "metadata": {}
                }
            ],
            "execution_count": 1
        },
        {
            "cell_type": "code",
            "source": [
                "select * from Project_with_Hours"
            ],
            "metadata": {
                "language": "sql",
                "azdata_cell_guid": "e16b17cb-e939-44eb-8707-8db0b4e7e73a"
            },
            "outputs": [
                {
                    "output_type": "display_data",
                    "data": {
                        "text/html": "(7 rows affected)"
                    },
                    "metadata": {}
                },
                {
                    "output_type": "display_data",
                    "data": {
                        "text/html": "Total execution time: 00:00:00.049"
                    },
                    "metadata": {}
                },
                {
                    "output_type": "execute_result",
                    "execution_count": 2,
                    "data": {
                        "application/vnd.dataresource+json": {
                            "schema": {
                                "fields": [
                                    {
                                        "name": "Pnumber"
                                    },
                                    {
                                        "name": "Pname"
                                    },
                                    {
                                        "name": "TotalWorkingHours"
                                    }
                                ]
                            },
                            "data": [
                                {
                                    "Pnumber": "100",
                                    "Pname": "AL Solimaniah",
                                    "TotalWorkingHours": "50"
                                },
                                {
                                    "Pnumber": "200",
                                    "Pname": "Al Rabwah",
                                    "TotalWorkingHours": "10"
                                },
                                {
                                    "Pnumber": "300",
                                    "Pname": "Al Rawdah2",
                                    "TotalWorkingHours": "36"
                                },
                                {
                                    "Pnumber": "400",
                                    "Pname": "Al Rowad",
                                    "TotalWorkingHours": "39"
                                },
                                {
                                    "Pnumber": "500",
                                    "Pname": "Al Rehab",
                                    "TotalWorkingHours": "30"
                                },
                                {
                                    "Pnumber": "600",
                                    "Pname": "Pitcho american",
                                    "TotalWorkingHours": "45"
                                },
                                {
                                    "Pnumber": "700",
                                    "Pname": "Ebad El Rahman",
                                    "TotalWorkingHours": "22"
                                }
                            ]
                        },
                        "text/html": "<table><tr><th>Pnumber</th><th>Pname</th><th>TotalWorkingHours</th></tr><tr><td>100</td><td>AL Solimaniah</td><td>50</td></tr><tr><td>200</td><td>Al Rabwah</td><td>10</td></tr><tr><td>300</td><td>Al Rawdah2</td><td>36</td></tr><tr><td>400</td><td>Al Rowad</td><td>39</td></tr><tr><td>500</td><td>Al Rehab</td><td>30</td></tr><tr><td>600</td><td>Pitcho american</td><td>45</td></tr><tr><td>700</td><td>Ebad El Rahman</td><td>22</td></tr></table>"
                    },
                    "metadata": {}
                }
            ],
            "execution_count": 2
        },
        {
            "cell_type": "code",
            "source": [
                "--2.Create a view that displays the project number and name along with the name of the department managing the project, \r\n",
                "--ordered by project number\r\n",
                "\r\n",
                "create view project_with_Department\r\n",
                "as(\r\n",
                "select proj.Pnumber, proj.Pname, dep.Dname\r\n",
                "from Project proj\r\n",
                "join Departments as dep\r\n",
                "on dep.Dnum = proj.Dnum\r\n",
                "order by proj.Pnumber\r\n",
                "OFFSET 0 ROWS)"
            ],
            "metadata": {
                "azdata_cell_guid": "0d5ee106-be82-4f8e-9296-ec9259e01b66",
                "language": "sql"
            },
            "outputs": [
                {
                    "output_type": "error",
                    "ename": "",
                    "evalue": "Msg 1033, Level 15, State 1, Procedure project_with_Department, Line 7\r\nThe ORDER BY clause is invalid in views, inline functions, derived tables, subqueries, and common table expressions, unless TOP, OFFSET or FOR XML is also specified.",
                    "traceback": []
                },
                {
                    "output_type": "display_data",
                    "data": {
                        "text/html": "Total execution time: 00:00:00.001"
                    },
                    "metadata": {}
                }
            ],
            "execution_count": 3
        },
        {
            "cell_type": "code",
            "source": [
                "select * from project_with_Department"
            ],
            "metadata": {
                "language": "sql",
                "azdata_cell_guid": "c3b5f859-2099-460c-bc32-7065e4348a9e"
            },
            "outputs": [
                {
                    "output_type": "display_data",
                    "data": {
                        "text/html": "(7 rows affected)"
                    },
                    "metadata": {}
                },
                {
                    "output_type": "display_data",
                    "data": {
                        "text/html": "Total execution time: 00:00:00.006"
                    },
                    "metadata": {}
                },
                {
                    "output_type": "execute_result",
                    "execution_count": 5,
                    "data": {
                        "application/vnd.dataresource+json": {
                            "schema": {
                                "fields": [
                                    {
                                        "name": "Pnumber"
                                    },
                                    {
                                        "name": "Pname"
                                    },
                                    {
                                        "name": "Dname"
                                    }
                                ]
                            },
                            "data": [
                                {
                                    "Pnumber": "100",
                                    "Pname": "AL Solimaniah",
                                    "Dname": "DP1"
                                },
                                {
                                    "Pnumber": "200",
                                    "Pname": "Al Rabwah",
                                    "Dname": "DP1"
                                },
                                {
                                    "Pnumber": "300",
                                    "Pname": "Al Rawdah2",
                                    "Dname": "DP1"
                                },
                                {
                                    "Pnumber": "400",
                                    "Pname": "Al Rowad",
                                    "Dname": "DP2"
                                },
                                {
                                    "Pnumber": "500",
                                    "Pname": "Al Rehab",
                                    "Dname": "DP3"
                                },
                                {
                                    "Pnumber": "600",
                                    "Pname": "Pitcho american",
                                    "Dname": "DP3"
                                },
                                {
                                    "Pnumber": "700",
                                    "Pname": "Ebad El Rahman",
                                    "Dname": "DP2"
                                }
                            ]
                        },
                        "text/html": "<table><tr><th>Pnumber</th><th>Pname</th><th>Dname</th></tr><tr><td>100</td><td>AL Solimaniah</td><td>DP1</td></tr><tr><td>200</td><td>Al Rabwah</td><td>DP1</td></tr><tr><td>300</td><td>Al Rawdah2</td><td>DP1</td></tr><tr><td>400</td><td>Al Rowad</td><td>DP2</td></tr><tr><td>500</td><td>Al Rehab</td><td>DP3</td></tr><tr><td>600</td><td>Pitcho american</td><td>DP3</td></tr><tr><td>700</td><td>Ebad El Rahman</td><td>DP2</td></tr></table>"
                    },
                    "metadata": {}
                }
            ],
            "execution_count": 5
        },
        {
            "cell_type": "code",
            "source": [
                "--3.Create a view that shows the project name and location along with the total number of employees working on each project.\r\n",
                "create view Prpjects_with_Number_Of_Empoyee\r\n",
                "as\r\n",
                "select proj.Pname, proj.Plocation, count(wf.ESSn) as 'Total Number of Employees'\r\n",
                "from Project proj\r\n",
                "join Works_for wf\r\n",
                "on proj.Pnumber = wf.Pno\r\n",
                "group by proj.Pname, proj.Plocation"
            ],
            "metadata": {
                "language": "sql",
                "azdata_cell_guid": "ba217d46-46bd-4211-bf3e-0fde35a5fc2c"
            },
            "outputs": [
                {
                    "output_type": "display_data",
                    "data": {
                        "text/html": "Commands completed successfully."
                    },
                    "metadata": {}
                },
                {
                    "output_type": "display_data",
                    "data": {
                        "text/html": "Total execution time: 00:00:00.006"
                    },
                    "metadata": {}
                }
            ],
            "execution_count": 6
        },
        {
            "cell_type": "code",
            "source": [
                "SELECT * from Prpjects_with_Number_Of_Empoyee"
            ],
            "metadata": {
                "language": "sql",
                "azdata_cell_guid": "fa767785-039a-4586-b822-be77dbf7fc3b"
            },
            "outputs": [
                {
                    "output_type": "display_data",
                    "data": {
                        "text/html": "(7 rows affected)"
                    },
                    "metadata": {}
                },
                {
                    "output_type": "display_data",
                    "data": {
                        "text/html": "Total execution time: 00:00:00.010"
                    },
                    "metadata": {}
                },
                {
                    "output_type": "execute_result",
                    "execution_count": 7,
                    "data": {
                        "application/vnd.dataresource+json": {
                            "schema": {
                                "fields": [
                                    {
                                        "name": "Pname"
                                    },
                                    {
                                        "name": "Plocation"
                                    },
                                    {
                                        "name": "Total Number of Employees"
                                    }
                                ]
                            },
                            "data": [
                                {
                                    "Pname": "Al Rabwah",
                                    "Plocation": "6th of October City",
                                    "Total Number of Employees": "1"
                                },
                                {
                                    "Pname": "AL Solimaniah",
                                    "Plocation": "Cairo_Alex Road",
                                    "Total Number of Employees": "2"
                                },
                                {
                                    "Pname": "Al Rowad",
                                    "Plocation": "Cairo_Faiyom Road",
                                    "Total Number of Employees": "3"
                                },
                                {
                                    "Pname": "Pitcho american",
                                    "Plocation": "Maady",
                                    "Total Number of Employees": "2"
                                },
                                {
                                    "Pname": "Al Rehab",
                                    "Plocation": "Nasr City",
                                    "Total Number of Employees": "3"
                                },
                                {
                                    "Pname": "Ebad El Rahman",
                                    "Plocation": "Ring Road",
                                    "Total Number of Employees": "2"
                                },
                                {
                                    "Pname": "Al Rawdah2",
                                    "Plocation": "Zaied City",
                                    "Total Number of Employees": "4"
                                }
                            ]
                        },
                        "text/html": "<table><tr><th>Pname</th><th>Plocation</th><th>Total Number of Employees</th></tr><tr><td>Al Rabwah</td><td>6th of October City</td><td>1</td></tr><tr><td>AL Solimaniah</td><td>Cairo_Alex Road</td><td>2</td></tr><tr><td>Al Rowad</td><td>Cairo_Faiyom Road</td><td>3</td></tr><tr><td>Pitcho american</td><td>Maady</td><td>2</td></tr><tr><td>Al Rehab</td><td>Nasr City</td><td>3</td></tr><tr><td>Ebad El Rahman</td><td>Ring Road</td><td>2</td></tr><tr><td>Al Rawdah2</td><td>Zaied City</td><td>4</td></tr></table>"
                    },
                    "metadata": {}
                }
            ],
            "execution_count": 7
        },
        {
            "cell_type": "code",
            "source": [
                "--4.Create a view that displays the department number, name, and the number of employees in each department.\r\n",
                "create view Departments_with_Number_of_Employee as\r\n",
                "select dep.Dname, dep.Dnum, COUNT(emp.ssn)as Number_of_Employees_In_Departments\r\n",
                "from Departments dep\r\n",
                "join Employee emp\r\n",
                "on dep.Dnum = emp.Dno\r\n",
                "group by dep.Dname, dep.Dnum"
            ],
            "metadata": {
                "language": "sql",
                "azdata_cell_guid": "7215f60f-c998-40a5-86f1-133ce5f9710d"
            },
            "outputs": [
                {
                    "output_type": "display_data",
                    "data": {
                        "text/html": "Commands completed successfully."
                    },
                    "metadata": {}
                },
                {
                    "output_type": "display_data",
                    "data": {
                        "text/html": "Total execution time: 00:00:00.004"
                    },
                    "metadata": {}
                }
            ],
            "execution_count": 8
        },
        {
            "cell_type": "code",
            "source": [
                "select * from Departments_with_Number_of_Employee"
            ],
            "metadata": {
                "language": "sql",
                "azdata_cell_guid": "3179e434-eff0-4b88-9c97-6942ace3bd6b"
            },
            "outputs": [
                {
                    "output_type": "display_data",
                    "data": {
                        "text/html": "(3 rows affected)"
                    },
                    "metadata": {}
                },
                {
                    "output_type": "display_data",
                    "data": {
                        "text/html": "Total execution time: 00:00:00.009"
                    },
                    "metadata": {}
                },
                {
                    "output_type": "execute_result",
                    "execution_count": 10,
                    "data": {
                        "application/vnd.dataresource+json": {
                            "schema": {
                                "fields": [
                                    {
                                        "name": "Dname"
                                    },
                                    {
                                        "name": "Dnum"
                                    },
                                    {
                                        "name": "Number_of_Employees_In_Departments"
                                    }
                                ]
                            },
                            "data": [
                                {
                                    "Dname": "DP1",
                                    "Dnum": "10",
                                    "Number_of_Employees_In_Departments": "1"
                                },
                                {
                                    "Dname": "DP2",
                                    "Dnum": "20",
                                    "Number_of_Employees_In_Departments": "2"
                                },
                                {
                                    "Dname": "DP3",
                                    "Dnum": "30",
                                    "Number_of_Employees_In_Departments": "4"
                                }
                            ]
                        },
                        "text/html": "<table><tr><th>Dname</th><th>Dnum</th><th>Number_of_Employees_In_Departments</th></tr><tr><td>DP1</td><td>10</td><td>1</td></tr><tr><td>DP2</td><td>20</td><td>2</td></tr><tr><td>DP3</td><td>30</td><td>4</td></tr></table>"
                    },
                    "metadata": {}
                }
            ],
            "execution_count": 10
        },
        {
            "cell_type": "code",
            "source": [
                "--5. Create a view that shows the names of employees who work on more than one project, along with the count of projects they work on.\r\n",
                "ALTER view Employees_IN_Many_Projects \r\n",
                "as\r\n",
                "select ESSn, emp.Fname ,count(essn) as Number_Of_Projects\r\n",
                "from Works_for wf\r\n",
                "join Employee emp\r\n",
                "on emp.SSN = wf.ESSn\r\n",
                "group by Essn, emp.Fname \r\n",
                "having count(essn) > 1"
            ],
            "metadata": {
                "language": "sql",
                "azdata_cell_guid": "6746ec75-3f21-4642-95be-2a519f79fd19"
            },
            "outputs": [
                {
                    "output_type": "display_data",
                    "data": {
                        "text/html": "Commands completed successfully."
                    },
                    "metadata": {}
                },
                {
                    "output_type": "display_data",
                    "data": {
                        "text/html": "Total execution time: 00:00:00.004"
                    },
                    "metadata": {}
                }
            ],
            "execution_count": 14
        },
        {
            "cell_type": "code",
            "source": [
                "select * from Employees_IN_Many_Projects"
            ],
            "metadata": {
                "language": "sql",
                "azdata_cell_guid": "78e3bf84-f856-427b-89a2-7e6d267de24f"
            },
            "outputs": [
                {
                    "output_type": "display_data",
                    "data": {
                        "text/html": "(5 rows affected)"
                    },
                    "metadata": {}
                },
                {
                    "output_type": "display_data",
                    "data": {
                        "text/html": "Total execution time: 00:00:00.012"
                    },
                    "metadata": {}
                },
                {
                    "output_type": "execute_result",
                    "execution_count": 15,
                    "data": {
                        "application/vnd.dataresource+json": {
                            "schema": {
                                "fields": [
                                    {
                                        "name": "ESSn"
                                    },
                                    {
                                        "name": "Fname"
                                    },
                                    {
                                        "name": "Number_Of_Projects"
                                    }
                                ]
                            },
                            "data": [
                                {
                                    "ESSn": "223344",
                                    "Fname": "Kamel",
                                    "Number_Of_Projects": "4"
                                },
                                {
                                    "ESSn": "512463",
                                    "Fname": "Edward",
                                    "Number_Of_Projects": "2"
                                },
                                {
                                    "ESSn": "521634",
                                    "Fname": "Maged",
                                    "Number_Of_Projects": "4"
                                },
                                {
                                    "ESSn": "669955",
                                    "Fname": "Mariam",
                                    "Number_Of_Projects": "3"
                                },
                                {
                                    "ESSn": "968574",
                                    "Fname": "Noha",
                                    "Number_Of_Projects": "3"
                                }
                            ]
                        },
                        "text/html": "<table><tr><th>ESSn</th><th>Fname</th><th>Number_Of_Projects</th></tr><tr><td>223344</td><td>Kamel</td><td>4</td></tr><tr><td>512463</td><td>Edward</td><td>2</td></tr><tr><td>521634</td><td>Maged</td><td>4</td></tr><tr><td>669955</td><td>Mariam</td><td>3</td></tr><tr><td>968574</td><td>Noha</td><td>3</td></tr></table>"
                    },
                    "metadata": {}
                }
            ],
            "execution_count": 15
        },
        {
            "cell_type": "code",
            "source": [
                "--6. Create a view that displays the average salary of employees in each department, along with the department name.\r\n",
                "create view Average_Of_Departments_Salarys \r\n",
                "as\r\n",
                "select dep.Dname, avg(emp.Salary) Average_Of_Salarys\r\n",
                "from Departments dep\r\n",
                "join Employee emp\r\n",
                "on dep.Dnum = emp.Dno\r\n",
                "group by dep.Dname"
            ],
            "metadata": {
                "language": "sql",
                "azdata_cell_guid": "300c90f9-b217-4c22-90cc-3e2c2a4f5727"
            },
            "outputs": [
                {
                    "output_type": "display_data",
                    "data": {
                        "text/html": "Commands completed successfully."
                    },
                    "metadata": {}
                },
                {
                    "output_type": "display_data",
                    "data": {
                        "text/html": "Total execution time: 00:00:00.007"
                    },
                    "metadata": {}
                }
            ],
            "execution_count": 16
        },
        {
            "cell_type": "code",
            "source": [
                "select * from Average_Of_Departments_Salarys"
            ],
            "metadata": {
                "language": "sql",
                "azdata_cell_guid": "81402581-62ca-465a-9176-77ce022b9263"
            },
            "outputs": [
                {
                    "output_type": "display_data",
                    "data": {
                        "text/html": "(3 rows affected)"
                    },
                    "metadata": {}
                },
                {
                    "output_type": "display_data",
                    "data": {
                        "text/html": "Total execution time: 00:00:00.006"
                    },
                    "metadata": {}
                },
                {
                    "output_type": "execute_result",
                    "execution_count": 17,
                    "data": {
                        "application/vnd.dataresource+json": {
                            "schema": {
                                "fields": [
                                    {
                                        "name": "Dname"
                                    },
                                    {
                                        "name": "Average_Of_Salarys"
                                    }
                                ]
                            },
                            "data": [
                                {
                                    "Dname": "DP1",
                                    "Average_Of_Salarys": "1800"
                                },
                                {
                                    "Dname": "DP2",
                                    "Average_Of_Salarys": "1175"
                                },
                                {
                                    "Dname": "DP3",
                                    "Average_Of_Salarys": "2300"
                                }
                            ]
                        },
                        "text/html": "<table><tr><th>Dname</th><th>Average_Of_Salarys</th></tr><tr><td>DP1</td><td>1800</td></tr><tr><td>DP2</td><td>1175</td></tr><tr><td>DP3</td><td>2300</td></tr></table>"
                    },
                    "metadata": {}
                }
            ],
            "execution_count": 17
        },
        {
            "cell_type": "code",
            "source": [
                "--7. Create a view that lists the names and age of employees and their dependents in a single result set. \r\n",
                "--The age should be calculated based on the current date.\r\n",
                "create view EMP_DEP_LIST AS\r\n",
                "select emp.Fname as Name, year(GETDATE()) - year(emp.Bdate) AS Current_Age from Employee emp\r\n",
                "union \r\n",
                "select dep.Dependent_name as Name,  year(GETDATE()) - year(dep.Bdate) AS Current_Age from Dependent dep"
            ],
            "metadata": {
                "language": "sql",
                "azdata_cell_guid": "989c42ff-de5b-4c0a-9bac-7a329a29567c"
            },
            "outputs": [
                {
                    "output_type": "display_data",
                    "data": {
                        "text/html": "Commands completed successfully."
                    },
                    "metadata": {}
                },
                {
                    "output_type": "display_data",
                    "data": {
                        "text/html": "Total execution time: 00:00:00.004"
                    },
                    "metadata": {}
                }
            ],
            "execution_count": 12
        },
        {
            "cell_type": "code",
            "source": [
                "select * from EMP_DEP_LIST"
            ],
            "metadata": {
                "language": "sql",
                "azdata_cell_guid": "b02403c4-dda6-4ae5-8bdf-f6e001d22093"
            },
            "outputs": [
                {
                    "output_type": "display_data",
                    "data": {
                        "text/html": "(18 rows affected)"
                    },
                    "metadata": {}
                },
                {
                    "output_type": "display_data",
                    "data": {
                        "text/html": "Total execution time: 00:00:00.044"
                    },
                    "metadata": {}
                },
                {
                    "output_type": "execute_result",
                    "execution_count": 1,
                    "data": {
                        "application/vnd.dataresource+json": {
                            "schema": {
                                "fields": [
                                    {
                                        "name": "Name"
                                    },
                                    {
                                        "name": "Current_Age"
                                    }
                                ]
                            },
                            "data": [
                                {
                                    "Name": "Ahmed",
                                    "Current_Age": "28"
                                },
                                {
                                    "Name": "Ahmed Kamel Shawki",
                                    "Current_Age": "25"
                                },
                                {
                                    "Name": "Amr",
                                    "Current_Age": "60"
                                },
                                {
                                    "Name": "Edward",
                                    "Current_Age": "51"
                                },
                                {
                                    "Name": "Hala Saied Ali",
                                    "Current_Age": "53"
                                },
                                {
                                    "Name": "Hanaa",
                                    "Current_Age": "50"
                                },
                                {
                                    "Name": "Kamel",
                                    "Current_Age": "53"
                                },
                                {
                                    "Name": "Maged",
                                    "Current_Age": "43"
                                },
                                {
                                    "Name": "Mariam",
                                    "Current_Age": "41"
                                },
                                {
                                    "Name": "Mona Adel Mohamed",
                                    "Current_Age": "48"
                                },
                                {
                                    "Name": "Nahe",
                                    "Current_Age": "22"
                                },
                                {
                                    "Name": "Noha",
                                    "Current_Age": "48"
                                },
                                {
                                    "Name": "Nora Ghaly",
                                    "Current_Age": "47"
                                },
                                {
                                    "Name": "Omar Amr Omran",
                                    "Current_Age": "30"
                                },
                                {
                                    "Name": "Ramy Amr Omran",
                                    "Current_Age": "33"
                                },
                                {
                                    "Name": "Sanaa Gawish",
                                    "Current_Age": "50"
                                },
                                {
                                    "Name": "Sara Edward",
                                    "Current_Age": "22"
                                },
                                {
                                    "Name": "Sohila",
                                    "Current_Age": "22"
                                }
                            ]
                        },
                        "text/html": "<table><tr><th>Name</th><th>Current_Age</th></tr><tr><td>Ahmed</td><td>28</td></tr><tr><td>Ahmed Kamel Shawki</td><td>25</td></tr><tr><td>Amr</td><td>60</td></tr><tr><td>Edward</td><td>51</td></tr><tr><td>Hala Saied Ali</td><td>53</td></tr><tr><td>Hanaa</td><td>50</td></tr><tr><td>Kamel</td><td>53</td></tr><tr><td>Maged</td><td>43</td></tr><tr><td>Mariam</td><td>41</td></tr><tr><td>Mona Adel Mohamed</td><td>48</td></tr><tr><td>Nahe</td><td>22</td></tr><tr><td>Noha</td><td>48</td></tr><tr><td>Nora Ghaly</td><td>47</td></tr><tr><td>Omar Amr Omran</td><td>30</td></tr><tr><td>Ramy Amr Omran</td><td>33</td></tr><tr><td>Sanaa Gawish</td><td>50</td></tr><tr><td>Sara Edward</td><td>22</td></tr><tr><td>Sohila</td><td>22</td></tr></table>"
                    },
                    "metadata": {}
                }
            ],
            "execution_count": 1
        },
        {
            "cell_type": "code",
            "source": [
                "--8.Create a view that displays the names of employees who have dependents, along with the number of dependents each employee has.\r\n",
                "create view Number_Of_emp_Dependents\r\n",
                "as\r\n",
                "select emp.Fname, count(dep.essn) as Number_Of_Dependents\r\n",
                "from  Employee emp\r\n",
                "join Dependent dep \r\n",
                "on emp.SSN = dep.ESSN\r\n",
                "group by emp.Fname"
            ],
            "metadata": {
                "language": "sql",
                "azdata_cell_guid": "5b514a97-f558-4977-9330-1fd16f839045"
            },
            "outputs": [
                {
                    "output_type": "display_data",
                    "data": {
                        "text/html": "Commands completed successfully."
                    },
                    "metadata": {}
                },
                {
                    "output_type": "display_data",
                    "data": {
                        "text/html": "Total execution time: 00:00:00.003"
                    },
                    "metadata": {}
                }
            ],
            "execution_count": 18
        },
        {
            "cell_type": "code",
            "source": [
                "select * from Number_Of_emp_Dependents"
            ],
            "metadata": {
                "language": "sql",
                "azdata_cell_guid": "52b3753a-b2fb-4073-a322-5c58f33abb8a"
            },
            "outputs": [
                {
                    "output_type": "display_data",
                    "data": {
                        "text/html": "(4 rows affected)"
                    },
                    "metadata": {}
                },
                {
                    "output_type": "display_data",
                    "data": {
                        "text/html": "Total execution time: 00:00:00.010"
                    },
                    "metadata": {}
                },
                {
                    "output_type": "execute_result",
                    "execution_count": 19,
                    "data": {
                        "application/vnd.dataresource+json": {
                            "schema": {
                                "fields": [
                                    {
                                        "name": "Fname"
                                    },
                                    {
                                        "name": "Number_Of_Dependents"
                                    }
                                ]
                            },
                            "data": [
                                {
                                    "Fname": "Ahmed",
                                    "Number_Of_Dependents": "1"
                                },
                                {
                                    "Fname": "Amr",
                                    "Number_Of_Dependents": "3"
                                },
                                {
                                    "Fname": "Edward",
                                    "Number_Of_Dependents": "2"
                                },
                                {
                                    "Fname": "Kamel",
                                    "Number_Of_Dependents": "2"
                                }
                            ]
                        },
                        "text/html": "<table><tr><th>Fname</th><th>Number_Of_Dependents</th></tr><tr><td>Ahmed</td><td>1</td></tr><tr><td>Amr</td><td>3</td></tr><tr><td>Edward</td><td>2</td></tr><tr><td>Kamel</td><td>2</td></tr></table>"
                    },
                    "metadata": {}
                }
            ],
            "execution_count": 19
        },
        {
            "cell_type": "code",
            "source": [
                "/*9.Create a new user defined data type named loc with the following Criteria:\r\n",
                "•nchar(2)\r\n",
                "•default: NY \r\n",
                "•create a rule for this data type : values in (NY,DS,KW)) and associate it to the location column \r\n",
                "\tin new table named project2 with (name ,location)\r\n",
                "*/\r\n",
                "CREATE RULE loc11 AS @name IN ('NY', 'DS', 'KW');\r\n",
                "-- Create the user-defined data type 'loc' based on nchar(2)\r\n",
                "CREATE TYPE loc11 FROM nchar(2) not null;\r\n",
                "-- Create a rule named 'vals' for the 'name' column\r\n",
                "\r\n",
                "-- Create the 'Project2' table with columns 'name' and 'location'\r\n",
                "CREATE TABLE Project22\r\n",
                "(\r\n",
                "    name varchar(10) not null,\r\n",
                "    location loc11 DEFAULT 'NY'\r\n",
                "    \r\n",
                ");\r\n",
                "--CONSTRAINT Ck_location check (location IN ('NY', 'DS', 'KW') )"
            ],
            "metadata": {
                "azdata_cell_guid": "a664a6bd-3e5d-4acc-b8f0-ed16b9ea4910",
                "language": "sql"
            },
            "outputs": [
                {
                    "output_type": "error",
                    "ename": "",
                    "evalue": "Msg 156, Level 15, State 1, Procedure loc1, Line 3\r\nIncorrect syntax near the keyword 'CREATE'.",
                    "traceback": []
                },
                {
                    "output_type": "display_data",
                    "data": {
                        "text/html": "Total execution time: 00:00:00"
                    },
                    "metadata": {}
                }
            ],
            "execution_count": 9
        },
        {
            "cell_type": "code",
            "source": [
                "select * from Project22"
            ],
            "metadata": {
                "azdata_cell_guid": "977c8d22-8dbd-4871-abdd-821d3875a2c0",
                "language": "sql"
            },
            "outputs": [
                {
                    "output_type": "display_data",
                    "data": {
                        "text/html": "(1 row affected)"
                    },
                    "metadata": {}
                },
                {
                    "output_type": "display_data",
                    "data": {
                        "text/html": "Total execution time: 00:00:00.006"
                    },
                    "metadata": {}
                },
                {
                    "output_type": "execute_result",
                    "execution_count": 10,
                    "data": {
                        "application/vnd.dataresource+json": {
                            "schema": {
                                "fields": [
                                    {
                                        "name": "name"
                                    },
                                    {
                                        "name": "location"
                                    }
                                ]
                            },
                            "data": [
                                {
                                    "name": "NY",
                                    "location": "NY"
                                }
                            ]
                        },
                        "text/html": "<table><tr><th>name</th><th>location</th></tr><tr><td>NY</td><td>NY</td></tr></table>"
                    },
                    "metadata": {}
                }
            ],
            "execution_count": 10
        },
        {
            "cell_type": "code",
            "source": [
                "create view high_salary_emp_in_dep as\r\n",
                "SELECT emp.Fname + ' ' + emp.Lname AS Full_Name,\r\n",
                "       emp.Salary,\r\n",
                "       dep.Dname AS Department_Name\r\n",
                "FROM Employee emp\r\n",
                "JOIN Departments dep ON emp.Dno = dep.Dnum\r\n",
                "WHERE emp.Salary > (\r\n",
                "    SELECT AVG(Salary)\r\n",
                "    FROM Employee e\r\n",
                "    WHERE e.Dno = dep.Dnum\r\n",
                ");"
            ],
            "metadata": {
                "language": "sql",
                "azdata_cell_guid": "5fb29a9f-eae9-42b7-8fe9-e3bba9f4e2b6"
            },
            "outputs": [
                {
                    "output_type": "display_data",
                    "data": {
                        "text/html": "Commands completed successfully."
                    },
                    "metadata": {}
                },
                {
                    "output_type": "display_data",
                    "data": {
                        "text/html": "Total execution time: 00:00:00.005"
                    },
                    "metadata": {}
                }
            ],
            "execution_count": 16
        },
        {
            "cell_type": "code",
            "source": [
                "select * from high_salary_emp_in_dep"
            ],
            "metadata": {
                "language": "sql",
                "azdata_cell_guid": "f589c049-3f56-454f-a86b-7529ac1202fe"
            },
            "outputs": [
                {
                    "output_type": "display_data",
                    "data": {
                        "text/html": "(3 rows affected)"
                    },
                    "metadata": {}
                },
                {
                    "output_type": "display_data",
                    "data": {
                        "text/html": "Total execution time: 00:00:00.003"
                    },
                    "metadata": {}
                },
                {
                    "output_type": "execute_result",
                    "execution_count": 18,
                    "data": {
                        "application/vnd.dataresource+json": {
                            "schema": {
                                "fields": [
                                    {
                                        "name": "Full_Name"
                                    },
                                    {
                                        "name": "Salary"
                                    },
                                    {
                                        "name": "Department_Name"
                                    }
                                ]
                            },
                            "data": [
                                {
                                    "Full_Name": "Noha Mohamed",
                                    "Salary": "1600",
                                    "Department_Name": "DP2"
                                },
                                {
                                    "Full_Name": "Sohila Mohey",
                                    "Salary": "3600",
                                    "Department_Name": "DP3"
                                },
                                {
                                    "Full_Name": "Nahe Ahmed",
                                    "Salary": "3100",
                                    "Department_Name": "DP3"
                                }
                            ]
                        },
                        "text/html": "<table><tr><th>Full_Name</th><th>Salary</th><th>Department_Name</th></tr><tr><td>Noha Mohamed</td><td>1600</td><td>DP2</td></tr><tr><td>Sohila Mohey</td><td>3600</td><td>DP3</td></tr><tr><td>Nahe Ahmed</td><td>3100</td><td>DP3</td></tr></table>"
                    },
                    "metadata": {}
                }
            ],
            "execution_count": 18
        },
        {
            "cell_type": "code",
            "source": [
                "--11.\tCreate a view that displays the names and salaries of employees who earn more than the average \r\n",
                "--salary of their department.\r\n",
                "CREATE VIEW high_earning_employees AS\r\n",
                "\r\n",
                "SELECT emp.Fname + ' '+ emp.Lname AS Name, emp.Salary\r\n",
                "FROM Employee emp\r\n",
                "WHERE emp.Salary > (\r\n",
                "    SELECT AVG(Salary)\r\n",
                "    FROM Employee e\r\n",
                "    WHERE e.Dno = emp.Dno\r\n",
                ");"
            ],
            "metadata": {
                "language": "sql",
                "azdata_cell_guid": "02f4452d-6747-4ef7-94ad-863f0673e03b"
            },
            "outputs": [
                {
                    "output_type": "display_data",
                    "data": {
                        "text/html": "Commands completed successfully."
                    },
                    "metadata": {}
                },
                {
                    "output_type": "display_data",
                    "data": {
                        "text/html": "Total execution time: 00:00:00.002"
                    },
                    "metadata": {}
                }
            ],
            "execution_count": 14
        },
        {
            "cell_type": "code",
            "source": [
                "select * from high_earning_employees"
            ],
            "metadata": {
                "language": "sql",
                "azdata_cell_guid": "02931e46-e273-4321-9833-ad9f007b92a3"
            },
            "outputs": [
                {
                    "output_type": "display_data",
                    "data": {
                        "text/html": "(3 rows affected)"
                    },
                    "metadata": {}
                },
                {
                    "output_type": "display_data",
                    "data": {
                        "text/html": "Total execution time: 00:00:00.006"
                    },
                    "metadata": {}
                },
                {
                    "output_type": "execute_result",
                    "execution_count": 15,
                    "data": {
                        "application/vnd.dataresource+json": {
                            "schema": {
                                "fields": [
                                    {
                                        "name": "Name"
                                    },
                                    {
                                        "name": "Salary"
                                    }
                                ]
                            },
                            "data": [
                                {
                                    "Name": "Noha Mohamed",
                                    "Salary": "1600"
                                },
                                {
                                    "Name": "Sohila Mohey",
                                    "Salary": "3600"
                                },
                                {
                                    "Name": "Nahe Ahmed",
                                    "Salary": "3100"
                                }
                            ]
                        },
                        "text/html": "<table><tr><th>Name</th><th>Salary</th></tr><tr><td>Noha Mohamed</td><td>1600</td></tr><tr><td>Sohila Mohey</td><td>3600</td></tr><tr><td>Nahe Ahmed</td><td>3100</td></tr></table>"
                    },
                    "metadata": {}
                }
            ],
            "execution_count": 15
        }
    ]
}