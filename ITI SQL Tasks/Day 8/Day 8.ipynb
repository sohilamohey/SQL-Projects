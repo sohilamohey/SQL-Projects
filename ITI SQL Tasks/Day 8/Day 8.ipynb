{
    "metadata": {
        "kernelspec": {
            "name": "SQL",
            "display_name": "SQL",
            "language": "sql"
        },
        "language_info": {
            "name": "sql",
            "version": ""
        }
    },
    "nbformat_minor": 2,
    "nbformat": 4,
    "cells": [
        {
            "cell_type": "code",
            "source": [
                "--1. Create a stored procedure to show the number of students per department.[use ITI DB]\r\n",
                "create or alter proc Number_of_Student_in_department @dep_num int\r\n",
                "as\r\n",
                "select isnull(cast(s.Dept_Id as varchar(10)), 'No department') as Department, count(s.st_id) as 'Number of Student'\r\n",
                "from Student s\r\n",
                "where s.Dept_Id = @dep_num\r\n",
                "group by s.Dept_Id"
            ],
            "metadata": {
                "azdata_cell_guid": "12c80f12-4b0b-4323-a145-9169d9c1dba5",
                "language": "sql"
            },
            "outputs": [
                {
                    "output_type": "display_data",
                    "data": {
                        "text/html": "Commands completed successfully."
                    },
                    "metadata": {}
                },
                {
                    "output_type": "display_data",
                    "data": {
                        "text/html": "Total execution time: 00:00:00.014"
                    },
                    "metadata": {}
                }
            ],
            "execution_count": 1
        },
        {
            "cell_type": "code",
            "source": [
                "exec Number_of_Student_in_department 10"
            ],
            "metadata": {
                "azdata_cell_guid": "79d6ca18-5d2b-4956-83a8-1aa6c55c3f85",
                "language": "sql"
            },
            "outputs": [
                {
                    "output_type": "display_data",
                    "data": {
                        "text/html": "(1 row affected)"
                    },
                    "metadata": {}
                },
                {
                    "output_type": "display_data",
                    "data": {
                        "text/html": "Total execution time: 00:00:00.040"
                    },
                    "metadata": {}
                },
                {
                    "output_type": "execute_result",
                    "execution_count": 2,
                    "data": {
                        "application/vnd.dataresource+json": {
                            "schema": {
                                "fields": [
                                    {
                                        "name": "Department"
                                    },
                                    {
                                        "name": "Number of Student"
                                    }
                                ]
                            },
                            "data": [
                                {
                                    "Department": "10",
                                    "Number of Student": "5"
                                }
                            ]
                        },
                        "text/html": "<table><tr><th>Department</th><th>Number of Student</th></tr><tr><td>10</td><td>5</td></tr></table>"
                    },
                    "metadata": {}
                }
            ],
            "execution_count": 2
        },
        {
            "cell_type": "code",
            "source": [
                "/*2.Create a stored procedure that will check for the number of employees in the project 100 if they are more than 3 print a message to the user\r\n",
                "“'The number of employees in the project 100 is 3 or more'” if they are less display a message to the user “'The following employees work for\r\n",
                "the project p1'” in addition to the first name and last name of each one. [Company DB] */\r\n",
                "CREATE OR ALTER PROCEDURE Emp_In_Proj_100 \r\n",
                "AS\r\n",
                "BEGIN\r\n",
                "    DECLARE @emp_count INT, @message VARCHAR(90)\r\n",
                "\r\n",
                "    SELECT @emp_count = COUNT(*)\r\n",
                "    FROM Works_for\r\n",
                "    WHERE Pno = 100\r\n",
                "\r\n",
                "    IF @emp_count > 3\r\n",
                "    BEGIN\r\n",
                "        SET @message = 'The number of employees in project 100 is 3 or more'\r\n",
                "        SELECT @message AS 'MESSAGE'\r\n",
                "    END\r\n",
                "    ELSE\r\n",
                "    BEGIN\r\n",
                "        SET @message = 'The following employees work for project p1:'\r\n",
                "        SELECT @message AS 'MESSAGE', e.Fname, e.LName\r\n",
                "        FROM Employee e\r\n",
                "        JOIN Works_for wf ON e.SSN = wf.ESSn\r\n",
                "        WHERE wf.Pno = 100\r\n",
                "    END\r\n",
                "END"
            ],
            "metadata": {
                "language": "sql",
                "azdata_cell_guid": "283f4bb5-d876-433e-b5cb-33bb75bc5274"
            },
            "outputs": [
                {
                    "output_type": "display_data",
                    "data": {
                        "text/html": "Commands completed successfully."
                    },
                    "metadata": {}
                },
                {
                    "output_type": "display_data",
                    "data": {
                        "text/html": "Total execution time: 00:00:00.005"
                    },
                    "metadata": {}
                }
            ],
            "execution_count": 8
        },
        {
            "cell_type": "code",
            "source": [
                "Emp_In_Proj_100"
            ],
            "metadata": {
                "azdata_cell_guid": "b3fdcbb8-158e-44b2-9a14-547e7000dacb",
                "language": "sql"
            },
            "outputs": [
                {
                    "output_type": "display_data",
                    "data": {
                        "text/html": "(1 row affected)"
                    },
                    "metadata": {}
                },
                {
                    "output_type": "display_data",
                    "data": {
                        "text/html": "Total execution time: 00:00:00.017"
                    },
                    "metadata": {}
                },
                {
                    "output_type": "execute_result",
                    "metadata": {},
                    "execution_count": 9,
                    "data": {
                        "application/vnd.dataresource+json": {
                            "schema": {
                                "fields": [
                                    {
                                        "name": "MESSAGE"
                                    }
                                ]
                            },
                            "data": [
                                {
                                    "MESSAGE": "The number of employees in project 100 is 3 or more"
                                }
                            ]
                        },
                        "text/html": [
                            "<table>",
                            "<tr><th>MESSAGE</th></tr>",
                            "<tr><td>The number of employees in project 100 is 3 or more</td></tr>",
                            "</table>"
                        ]
                    }
                }
            ],
            "execution_count": 9
        },
        {
            "cell_type": "code",
            "source": [
                "/*Create a trigger to prevent anyone from inserting a new record in the Department table [ITI DB]\r\n",
                "Print a message for the user to tell him that he ‘can’t insert a new record in that table’*/\r\n",
                "create or alter trigger Prevent_Insert\r\n",
                "on department\r\n",
                "after insert\r\n",
                "as \r\n",
                "begin\r\n",
                "select 'You can not insert'\r\n",
                "declare @depid int\r\n",
                "select @depid = Dept_Id from inserted\r\n",
                "delete from Department \r\n",
                "where Dept_Id = @depid\r\n",
                "\r\n",
                "end"
            ],
            "metadata": {
                "language": "sql",
                "azdata_cell_guid": "bb835f5e-17b1-4b9e-a0d2-be304c05aeb3"
            },
            "outputs": [
                {
                    "output_type": "display_data",
                    "data": {
                        "text/html": "Commands completed successfully."
                    },
                    "metadata": {}
                },
                {
                    "output_type": "display_data",
                    "data": {
                        "text/html": "Total execution time: 00:00:00.005"
                    },
                    "metadata": {}
                }
            ],
            "execution_count": 5
        },
        {
            "cell_type": "code",
            "source": [
                "insert into Department (Dept_Id) values(100)"
            ],
            "metadata": {
                "azdata_cell_guid": "b0bee843-7d8f-4f3d-9406-92ce5afcf7aa",
                "language": "sql"
            },
            "outputs": [
                {
                    "output_type": "display_data",
                    "data": {
                        "text/html": "(1 row affected)"
                    },
                    "metadata": {}
                },
                {
                    "output_type": "display_data",
                    "data": {
                        "text/html": "(1 row affected)"
                    },
                    "metadata": {}
                },
                {
                    "output_type": "display_data",
                    "data": {
                        "text/html": "(1 row affected)"
                    },
                    "metadata": {}
                },
                {
                    "output_type": "display_data",
                    "data": {
                        "text/html": "Total execution time: 00:00:00.014"
                    },
                    "metadata": {}
                },
                {
                    "output_type": "execute_result",
                    "execution_count": 6,
                    "data": {
                        "application/vnd.dataresource+json": {
                            "schema": {
                                "fields": [
                                    {
                                        "name": "(No column name)"
                                    }
                                ]
                            },
                            "data": [
                                {
                                    "(No column name)": "You can not insert"
                                }
                            ]
                        },
                        "text/html": "<table><tr><th>(No column name)</th></tr><tr><td>You can not insert</td></tr></table>"
                    },
                    "metadata": {}
                }
            ],
            "execution_count": 6
        },
        {
            "cell_type": "code",
            "source": [
                "select * from Department d where d.Dept_Id = 100"
            ],
            "metadata": {
                "azdata_cell_guid": "18326a8f-c159-4625-95b1-1357e77c7e73",
                "language": "sql"
            },
            "outputs": [
                {
                    "output_type": "display_data",
                    "data": {
                        "text/html": "(0 rows affected)"
                    },
                    "metadata": {}
                },
                {
                    "output_type": "display_data",
                    "data": {
                        "text/html": "Total execution time: 00:00:00.005"
                    },
                    "metadata": {}
                },
                {
                    "output_type": "execute_result",
                    "execution_count": 7,
                    "data": {
                        "application/vnd.dataresource+json": {
                            "schema": {
                                "fields": [
                                    {
                                        "name": "Dept_Id"
                                    },
                                    {
                                        "name": "Dept_Name"
                                    },
                                    {
                                        "name": "Dept_Desc"
                                    },
                                    {
                                        "name": "Dept_Location"
                                    },
                                    {
                                        "name": "Dept_Manager"
                                    },
                                    {
                                        "name": "Manager_hiredate"
                                    }
                                ]
                            },
                            "data": []
                        },
                        "text/html": "<table><tr><th>Dept_Id</th><th>Dept_Name</th><th>Dept_Desc</th><th>Dept_Location</th><th>Dept_Manager</th><th>Manager_hiredate</th></tr></table>"
                    },
                    "metadata": {}
                }
            ],
            "execution_count": 7
        },
        {
            "cell_type": "code",
            "source": [
                "use ITI_Company_SD; "
            ],
            "metadata": {
                "language": "sql",
                "azdata_cell_guid": "d2bda053-05f7-446b-b468-bd4674ba7639"
            },
            "outputs": [
                {
                    "output_type": "display_data",
                    "data": {
                        "text/html": "Commands completed successfully."
                    },
                    "metadata": {}
                },
                {
                    "output_type": "display_data",
                    "data": {
                        "text/html": "Total execution time: 00:00:00.001"
                    },
                    "metadata": {}
                }
            ],
            "execution_count": 8
        },
        {
            "cell_type": "code",
            "source": [
                "drop TABLE history"
            ],
            "metadata": {
                "language": "sql",
                "azdata_cell_guid": "98eaf993-e354-47c3-ac6c-c3d7e9837116"
            },
            "outputs": [
                {
                    "output_type": "display_data",
                    "data": {
                        "text/html": "Commands completed successfully."
                    },
                    "metadata": {}
                },
                {
                    "output_type": "display_data",
                    "data": {
                        "text/html": "Total execution time: 00:00:00.002"
                    },
                    "metadata": {}
                }
            ],
            "execution_count": 15
        },
        {
            "cell_type": "code",
            "source": [
                "/*4. This table will be used to audit the update trials on the Hours column (works_for table, Company DB)\r\n",
                "Example:\r\n",
                "If a user updated the Hours column then the project number, the user name that made that update, \r\n",
                "the date of the modification and the value of the old and the new Hours will be inserted into the Audit table\r\n",
                "Note: This process will take place only if the user updated the Hours column\r\n",
                "*/\r\n",
                "\r\n",
                "CREATE TABLE history\r\n",
                "(\r\n",
                "Proj_Number INT , \r\n",
                "User_Name varchar(50) , \r\n",
                "Update_Date DATE , \r\n",
                "Old_Hours int,\r\n",
                "New_Hours int\r\n",
                ")"
            ],
            "metadata": {
                "language": "sql",
                "azdata_cell_guid": "7593d040-8d29-4b18-b829-b0f581f34170"
            },
            "outputs": [
                {
                    "output_type": "display_data",
                    "data": {
                        "text/html": "Commands completed successfully."
                    },
                    "metadata": {}
                },
                {
                    "output_type": "display_data",
                    "data": {
                        "text/html": "Total execution time: 00:00:00.002"
                    },
                    "metadata": {}
                }
            ],
            "execution_count": 16
        },
        {
            "cell_type": "code",
            "source": [
                "CREATE OR ALTER TRIGGER Updated_Hours\r\n",
                "ON [dbo].[Works_for]\r\n",
                "AFTER UPDATE\r\n",
                "AS\r\n",
                "BEGIN\r\n",
                "    IF UPDATE(hours)\r\n",
                "    BEGIN\r\n",
                "        DECLARE @oldhour INT, @newhour INT, @ProNum int\r\n",
                "        SELECT @oldhour = Hours FROM deleted\r\n",
                "        SELECT @newhour = Hours FROM inserted\r\n",
                "        select @ProNum = pno from inserted\r\n",
                "        INSERT INTO HISTORY VALUES(@ProNum, SUSER_NAME(), GETDATE(), @oldhour, @newhour)\r\n",
                "        /*SELECT wf.Pno, SUSER_NAME(), GETDATE(), @oldhour as 'Old Hours', @newhour as 'New Hours'\r\n",
                "        FROM Works_for wf*/\r\n",
                "    END\r\n",
                "END"
            ],
            "metadata": {
                "language": "sql",
                "azdata_cell_guid": "74d45cd6-e1ae-4f1f-955e-a747ecbb1f19"
            },
            "outputs": [
                {
                    "output_type": "display_data",
                    "data": {
                        "text/html": "Commands completed successfully."
                    },
                    "metadata": {}
                },
                {
                    "output_type": "display_data",
                    "data": {
                        "text/html": "Total execution time: 00:00:00.003"
                    },
                    "metadata": {}
                }
            ],
            "execution_count": 17
        },
        {
            "cell_type": "code",
            "source": [
                "select * from HISTORY"
            ],
            "metadata": {
                "language": "sql",
                "azdata_cell_guid": "d8019c40-c13c-4794-93f3-d2f4b047ad4d"
            },
            "outputs": [
                {
                    "output_type": "display_data",
                    "data": {
                        "text/html": "(0 rows affected)"
                    },
                    "metadata": {}
                },
                {
                    "output_type": "display_data",
                    "data": {
                        "text/html": "Total execution time: 00:00:00.003"
                    },
                    "metadata": {}
                },
                {
                    "output_type": "execute_result",
                    "execution_count": 18,
                    "data": {
                        "application/vnd.dataresource+json": {
                            "schema": {
                                "fields": [
                                    {
                                        "name": "Proj_Number"
                                    },
                                    {
                                        "name": "User_Name"
                                    },
                                    {
                                        "name": "Update_Date"
                                    },
                                    {
                                        "name": "Old_Hours"
                                    },
                                    {
                                        "name": "New_Hours"
                                    }
                                ]
                            },
                            "data": []
                        },
                        "text/html": "<table><tr><th>Proj_Number</th><th>User_Name</th><th>Update_Date</th><th>Old_Hours</th><th>New_Hours</th></tr></table>"
                    },
                    "metadata": {}
                }
            ],
            "execution_count": 18
        },
        {
            "cell_type": "code",
            "source": [
                "update Works_for set Hours = 60 where ESSn = 223344"
            ],
            "metadata": {
                "language": "sql",
                "azdata_cell_guid": "6c938467-d74f-4e52-824e-747336a732b8"
            },
            "outputs": [
                {
                    "output_type": "display_data",
                    "data": {
                        "text/html": "(1 row affected)"
                    },
                    "metadata": {}
                },
                {
                    "output_type": "display_data",
                    "data": {
                        "text/html": "(4 rows affected)"
                    },
                    "metadata": {}
                },
                {
                    "output_type": "display_data",
                    "data": {
                        "text/html": "Total execution time: 00:00:00.007"
                    },
                    "metadata": {}
                }
            ],
            "execution_count": 19
        },
        {
            "cell_type": "code",
            "source": [
                "select * from Works_for where ESSn = 223344"
            ],
            "metadata": {
                "language": "sql",
                "azdata_cell_guid": "96fa2a41-4701-4990-bb22-add53fb90ae6"
            },
            "outputs": [
                {
                    "output_type": "display_data",
                    "data": {
                        "text/html": "(4 rows affected)"
                    },
                    "metadata": {}
                },
                {
                    "output_type": "display_data",
                    "data": {
                        "text/html": "Total execution time: 00:00:00.004"
                    },
                    "metadata": {}
                },
                {
                    "output_type": "execute_result",
                    "execution_count": 20,
                    "data": {
                        "application/vnd.dataresource+json": {
                            "schema": {
                                "fields": [
                                    {
                                        "name": "ESSn"
                                    },
                                    {
                                        "name": "Pno"
                                    },
                                    {
                                        "name": "Hours"
                                    }
                                ]
                            },
                            "data": [
                                {
                                    "ESSn": "223344",
                                    "Pno": "100",
                                    "Hours": "60"
                                },
                                {
                                    "ESSn": "223344",
                                    "Pno": "200",
                                    "Hours": "60"
                                },
                                {
                                    "ESSn": "223344",
                                    "Pno": "300",
                                    "Hours": "60"
                                },
                                {
                                    "ESSn": "223344",
                                    "Pno": "500",
                                    "Hours": "60"
                                }
                            ]
                        },
                        "text/html": "<table><tr><th>ESSn</th><th>Pno</th><th>Hours</th></tr><tr><td>223344</td><td>100</td><td>60</td></tr><tr><td>223344</td><td>200</td><td>60</td></tr><tr><td>223344</td><td>300</td><td>60</td></tr><tr><td>223344</td><td>500</td><td>60</td></tr></table>"
                    },
                    "metadata": {}
                }
            ],
            "execution_count": 20
        },
        {
            "cell_type": "code",
            "source": [
                "select * from HISTORY"
            ],
            "metadata": {
                "language": "sql",
                "azdata_cell_guid": "93994fe6-22ce-41bc-95c6-c2ad4b1de0d6"
            },
            "outputs": [
                {
                    "output_type": "display_data",
                    "data": {
                        "text/html": "(1 row affected)"
                    },
                    "metadata": {}
                },
                {
                    "output_type": "display_data",
                    "data": {
                        "text/html": "Total execution time: 00:00:00.004"
                    },
                    "metadata": {}
                },
                {
                    "output_type": "execute_result",
                    "execution_count": 21,
                    "data": {
                        "application/vnd.dataresource+json": {
                            "schema": {
                                "fields": [
                                    {
                                        "name": "Proj_Number"
                                    },
                                    {
                                        "name": "User_Name"
                                    },
                                    {
                                        "name": "Update_Date"
                                    },
                                    {
                                        "name": "Old_Hours"
                                    },
                                    {
                                        "name": "New_Hours"
                                    }
                                ]
                            },
                            "data": [
                                {
                                    "Proj_Number": "100",
                                    "User_Name": "DESKTOP-4H0R5VG\\sohila",
                                    "Update_Date": "2023-12-12",
                                    "Old_Hours": "60",
                                    "New_Hours": "60"
                                }
                            ]
                        },
                        "text/html": "<table><tr><th>Proj_Number</th><th>User_Name</th><th>Update_Date</th><th>Old_Hours</th><th>New_Hours</th></tr><tr><td>100</td><td>DESKTOP-4H0R5VG\\sohila</td><td>2023-12-12</td><td>60</td><td>60</td></tr></table>"
                    },
                    "metadata": {}
                }
            ],
            "execution_count": 21
        },
        {
            "cell_type": "code",
            "source": [
                "/*3.Create a stored procedure that will be used in case there is an old employee has left the project and a new one become instead of him.\r\n",
                "The procedure should take 3 parameters (old Emp. number, new Emp. number and the project number) and it will be used to update works_for table.[Company DB]*/\r\n",
                "select *\r\n",
                "from Works_for wf\r\n",
                "where ESSn = 11"
            ],
            "metadata": {
                "azdata_cell_guid": "64d8d016-d6fd-413a-93c7-92058ca1918e",
                "language": "sql"
            },
            "outputs": [
                {
                    "output_type": "display_data",
                    "data": {
                        "text/html": "(1 row affected)"
                    },
                    "metadata": {}
                },
                {
                    "output_type": "display_data",
                    "data": {
                        "text/html": "Total execution time: 00:00:00.017"
                    },
                    "metadata": {}
                },
                {
                    "output_type": "execute_result",
                    "execution_count": 23,
                    "data": {
                        "application/vnd.dataresource+json": {
                            "schema": {
                                "fields": [
                                    {
                                        "name": "ESSn"
                                    },
                                    {
                                        "name": "Pno"
                                    },
                                    {
                                        "name": "Hours"
                                    }
                                ]
                            },
                            "data": [
                                {
                                    "ESSn": "11",
                                    "Pno": "200",
                                    "Hours": "NULL"
                                }
                            ]
                        },
                        "text/html": "<table><tr><th>ESSn</th><th>Pno</th><th>Hours</th></tr><tr><td>11</td><td>200</td><td>NULL</td></tr></table>"
                    },
                    "metadata": {}
                }
            ],
            "execution_count": 23
        },
        {
            "cell_type": "code",
            "source": [
                "CREATE or ALTER PROCEDURE UpdateWorksFor\r\n",
                "    @oldEmpNumber INT,\r\n",
                "    @newEmpNumber INT,\r\n",
                "    @projectNumber INT\r\n",
                "AS\r\n",
                "BEGIN\r\n",
                "    UPDATE works_for\r\n",
                "    SET ESSn = @newEmpNumber\r\n",
                "    WHERE essn = @oldEmpNumber\r\n",
                "        AND Pno = @projectNumber;\r\n",
                "END"
            ],
            "metadata": {
                "language": "sql",
                "azdata_cell_guid": "8ed55a9b-724e-423a-b36c-4be9f975ebb7"
            },
            "outputs": [
                {
                    "output_type": "display_data",
                    "data": {
                        "text/html": "Commands completed successfully."
                    },
                    "metadata": {}
                },
                {
                    "output_type": "display_data",
                    "data": {
                        "text/html": "Total execution time: 00:00:00.003"
                    },
                    "metadata": {}
                }
            ],
            "execution_count": 32
        },
        {
            "cell_type": "code",
            "source": [
                "EXEC UpdateWorksFor @oldEmpNumber = 2, @newEmpNumber = 3, @projectNumber = 700;"
            ],
            "metadata": {
                "language": "sql",
                "azdata_cell_guid": "78fad44c-3d77-47f9-adec-9aa2a125732e"
            },
            "outputs": [
                {
                    "output_type": "display_data",
                    "data": {
                        "text/html": "(0 rows affected)"
                    },
                    "metadata": {}
                },
                {
                    "output_type": "display_data",
                    "data": {
                        "text/html": "Total execution time: 00:00:00.010"
                    },
                    "metadata": {}
                }
            ],
            "execution_count": 33
        },
        {
            "cell_type": "code",
            "source": [
                "select *\r\n",
                "from Works_for wf\r\n",
                "where ESSn = 2 and wf.Pno = 700\r\n",
                ""
            ],
            "metadata": {
                "language": "sql",
                "azdata_cell_guid": "a1c91f8b-a386-4c54-8472-679f2985ef3b"
            },
            "outputs": [
                {
                    "output_type": "display_data",
                    "data": {
                        "text/html": "(0 rows affected)"
                    },
                    "metadata": {}
                },
                {
                    "output_type": "display_data",
                    "data": {
                        "text/html": "Total execution time: 00:00:00.003"
                    },
                    "metadata": {}
                },
                {
                    "output_type": "execute_result",
                    "execution_count": 35,
                    "data": {
                        "application/vnd.dataresource+json": {
                            "schema": {
                                "fields": [
                                    {
                                        "name": "ESSn"
                                    },
                                    {
                                        "name": "Pno"
                                    },
                                    {
                                        "name": "Hours"
                                    }
                                ]
                            },
                            "data": []
                        },
                        "text/html": "<table><tr><th>ESSn</th><th>Pno</th><th>Hours</th></tr></table>"
                    },
                    "metadata": {}
                }
            ],
            "execution_count": 35
        },
        {
            "cell_type": "markdown",
            "source": [
                "# **Bons**\n",
                "\n",
                "## **Last Lab tasks**"
            ],
            "metadata": {
                "azdata_cell_guid": "706a355c-b6c9-4182-ae00-20edb8ee4eea"
            },
            "attachments": {}
        },
        {
            "cell_type": "code",
            "source": [
                "--1. Create a scalar function that takes a date and returns the Month name of that date. test (‘1/12/2009’)\r\n",
                "CREATE PROCEDURE GetMonthName\r\n",
                "    @inputDate DATE\r\n",
                "AS\r\n",
                "BEGIN\r\n",
                "    SELECT DATENAME(MONTH, @inputDate) AS MonthName;\r\n",
                "END"
            ],
            "metadata": {
                "azdata_cell_guid": "20b8bc51-8d35-4e66-bcba-f93296cbea73",
                "language": "sql"
            },
            "outputs": [],
            "execution_count": null
        },
        {
            "cell_type": "code",
            "source": [
                "GetMonthName '1-10-2020'"
            ],
            "metadata": {
                "language": "sql",
                "azdata_cell_guid": "d5d7905e-63cb-4d6a-b74b-f4627514b725"
            },
            "outputs": [
                {
                    "output_type": "display_data",
                    "data": {
                        "text/html": "(1 row affected)"
                    },
                    "metadata": {}
                },
                {
                    "output_type": "display_data",
                    "data": {
                        "text/html": "Total execution time: 00:00:00.006"
                    },
                    "metadata": {}
                },
                {
                    "output_type": "execute_result",
                    "metadata": {},
                    "execution_count": 10,
                    "data": {
                        "application/vnd.dataresource+json": {
                            "schema": {
                                "fields": [
                                    {
                                        "name": "MonthName"
                                    }
                                ]
                            },
                            "data": [
                                {
                                    "MonthName": "January"
                                }
                            ]
                        },
                        "text/html": [
                            "<table>",
                            "<tr><th>MonthName</th></tr>",
                            "<tr><td>January</td></tr>",
                            "</table>"
                        ]
                    }
                }
            ],
            "execution_count": 10
        },
        {
            "cell_type": "code",
            "source": [
                "--2. Create a multi-statements table-valued function that takes 2 integers and returns the values between them.\r\n",
                "--just between a and b\r\n",
                "CREATE OR ALTER PROCEDURE InsertNumbers \r\n",
                "    @start INT,\r\n",
                "    @end INT   \r\n",
                "AS\r\n",
                "BEGIN\r\n",
                "\tDECLARE @result TABLE (Numbers INT)\r\n",
                "    DECLARE @current INT = @start + 1\r\n",
                "\r\n",
                "    WHILE @current < @end\r\n",
                "    BEGIN\r\n",
                "        INSERT INTO @result (Numbers) VALUES (@current)\r\n",
                "        SET @current += 1\r\n",
                "    END\r\n",
                "    select * from @result\r\n",
                "END\r\n",
                "GO"
            ],
            "metadata": {
                "language": "sql",
                "azdata_cell_guid": "ca89602b-5dea-472c-8719-0a405e83e555"
            },
            "outputs": [
                {
                    "output_type": "display_data",
                    "data": {
                        "text/html": "Commands completed successfully."
                    },
                    "metadata": {}
                },
                {
                    "output_type": "display_data",
                    "data": {
                        "text/html": "Total execution time: 00:00:00.006"
                    },
                    "metadata": {}
                }
            ],
            "execution_count": 11
        },
        {
            "cell_type": "code",
            "source": [
                "EXEC InsertNumbers @start = 1, @end = 10"
            ],
            "metadata": {
                "language": "sql",
                "azdata_cell_guid": "9f76b90a-c8ad-4ee4-824c-93e3834d7faa"
            },
            "outputs": [
                {
                    "output_type": "display_data",
                    "data": {
                        "text/html": "(1 row affected)"
                    },
                    "metadata": {}
                },
                {
                    "output_type": "display_data",
                    "data": {
                        "text/html": "(1 row affected)"
                    },
                    "metadata": {}
                },
                {
                    "output_type": "display_data",
                    "data": {
                        "text/html": "(1 row affected)"
                    },
                    "metadata": {}
                },
                {
                    "output_type": "display_data",
                    "data": {
                        "text/html": "(1 row affected)"
                    },
                    "metadata": {}
                },
                {
                    "output_type": "display_data",
                    "data": {
                        "text/html": "(1 row affected)"
                    },
                    "metadata": {}
                },
                {
                    "output_type": "display_data",
                    "data": {
                        "text/html": "(1 row affected)"
                    },
                    "metadata": {}
                },
                {
                    "output_type": "display_data",
                    "data": {
                        "text/html": "(1 row affected)"
                    },
                    "metadata": {}
                },
                {
                    "output_type": "display_data",
                    "data": {
                        "text/html": "(1 row affected)"
                    },
                    "metadata": {}
                },
                {
                    "output_type": "display_data",
                    "data": {
                        "text/html": "(8 rows affected)"
                    },
                    "metadata": {}
                },
                {
                    "output_type": "display_data",
                    "data": {
                        "text/html": "Total execution time: 00:00:00.009"
                    },
                    "metadata": {}
                },
                {
                    "output_type": "execute_result",
                    "metadata": {},
                    "execution_count": 12,
                    "data": {
                        "application/vnd.dataresource+json": {
                            "schema": {
                                "fields": [
                                    {
                                        "name": "Numbers"
                                    }
                                ]
                            },
                            "data": [
                                {
                                    "Numbers": "2"
                                },
                                {
                                    "Numbers": "3"
                                },
                                {
                                    "Numbers": "4"
                                },
                                {
                                    "Numbers": "5"
                                },
                                {
                                    "Numbers": "6"
                                },
                                {
                                    "Numbers": "7"
                                },
                                {
                                    "Numbers": "8"
                                },
                                {
                                    "Numbers": "9"
                                }
                            ]
                        },
                        "text/html": [
                            "<table>",
                            "<tr><th>Numbers</th></tr>",
                            "<tr><td>2</td></tr>",
                            "<tr><td>3</td></tr>",
                            "<tr><td>4</td></tr>",
                            "<tr><td>5</td></tr>",
                            "<tr><td>6</td></tr>",
                            "<tr><td>7</td></tr>",
                            "<tr><td>8</td></tr>",
                            "<tr><td>9</td></tr>",
                            "</table>"
                        ]
                    }
                }
            ],
            "execution_count": 12
        },
        {
            "cell_type": "code",
            "source": [
                "------3. Create a tabled valued function that takes Student No and returns Department Name with Student full name.\r\n",
                "CREATE OR ALTER PROCEDURE dbo.StudentName_Department \r\n",
                "    @id INT\r\n",
                "AS\r\n",
                "BEGIN\r\n",
                "    SELECT std.St_Id, std.St_Fname + ' ' + std.St_Lname AS 'Full Name', dep.Dept_Name\r\n",
                "    FROM Student std\r\n",
                "    JOIN Department dep ON dep.Dept_Id = std.Dept_Id\r\n",
                "    WHERE std.St_Id = @id\r\n",
                "END"
            ],
            "metadata": {
                "azdata_cell_guid": "cf18b49f-3143-4789-9342-3dddb4bbe0f0",
                "language": "sql"
            },
            "outputs": [
                {
                    "output_type": "display_data",
                    "data": {
                        "text/html": "Commands completed successfully."
                    },
                    "metadata": {}
                },
                {
                    "output_type": "display_data",
                    "data": {
                        "text/html": "Total execution time: 00:00:00.002"
                    },
                    "metadata": {}
                }
            ],
            "execution_count": 15
        },
        {
            "cell_type": "code",
            "source": [
                "StudentName_Department 1"
            ],
            "metadata": {
                "azdata_cell_guid": "aacbda49-6b95-4e52-a064-cbbed60cfa26",
                "language": "sql"
            },
            "outputs": [
                {
                    "output_type": "display_data",
                    "data": {
                        "text/html": "(1 row affected)"
                    },
                    "metadata": {}
                },
                {
                    "output_type": "display_data",
                    "data": {
                        "text/html": "Total execution time: 00:00:00.692"
                    },
                    "metadata": {}
                },
                {
                    "output_type": "execute_result",
                    "metadata": {},
                    "execution_count": 16,
                    "data": {
                        "application/vnd.dataresource+json": {
                            "schema": {
                                "fields": [
                                    {
                                        "name": "St_Id"
                                    },
                                    {
                                        "name": "Full Name"
                                    },
                                    {
                                        "name": "Dept_Name"
                                    }
                                ]
                            },
                            "data": [
                                {
                                    "St_Id": "1",
                                    "Full Name": "Ahmed Hassan    ",
                                    "Dept_Name": "SD"
                                }
                            ]
                        },
                        "text/html": [
                            "<table>",
                            "<tr><th>St_Id</th><th>Full Name</th><th>Dept_Name</th></tr>",
                            "<tr><td>1</td><td>Ahmed Hassan    </td><td>SD</td></tr>",
                            "</table>"
                        ]
                    }
                }
            ],
            "execution_count": 16
        },
        {
            "cell_type": "code",
            "source": [
                "/*4.\tCreate a scalar function that takes Student ID and returns a message to the user (use Case statement)\r\n",
                "a.\tIf the first name and Last name are null then display 'First name & last name are null'\r\n",
                "b.\tIf the First name is null then display 'first name is null'\r\n",
                "c.\tIf the Last name is null then display 'last name is null'\r\n",
                "d.\tElse display 'First name & last name are not null'*/\r\n",
                "\r\n",
                "create or alter PROC MessageProc\r\n",
                "@id int\r\n",
                "as\r\n",
                "begin\r\n",
                "declare @mess varchar(30)\r\n",
                "\tselect @mess = case\r\n",
                "\t\twhen std.St_Fname is null then 'first name is null'\r\n",
                "\t\twhen std.St_Lname is null then 'last name is null'\r\n",
                "\t\twhen (std.St_Lname is null and std.St_Fname is null) then 'First name & last name are null'\r\n",
                "\t\telse 'There is no null'\r\n",
                "\t\tend \r\n",
                "\tfrom Student std\r\n",
                "\twhere std.St_Id = @id\t\r\n",
                "\tselect @mess as 'Message'\r\n",
                "\tselect s.St_Fname, s.St_Lname\r\n",
                "\tfrom Student s\r\n",
                "\twhere s.St_Id = @id\r\n",
                "\r\n",
                "end"
            ],
            "metadata": {
                "azdata_cell_guid": "af145bc3-d0a6-4883-8564-f0bb3bcd4330",
                "language": "sql"
            },
            "outputs": [
                {
                    "output_type": "display_data",
                    "data": {
                        "text/html": "Commands completed successfully."
                    },
                    "metadata": {}
                },
                {
                    "output_type": "display_data",
                    "data": {
                        "text/html": "Total execution time: 00:00:01.348"
                    },
                    "metadata": {}
                }
            ],
            "execution_count": 17
        },
        {
            "cell_type": "code",
            "source": [
                "MessageProc 1"
            ],
            "metadata": {
                "azdata_cell_guid": "bdb363e8-ca79-47d7-b388-f643f128b58e",
                "language": "sql"
            },
            "outputs": [
                {
                    "output_type": "display_data",
                    "data": {
                        "text/html": "(1 row affected)"
                    },
                    "metadata": {}
                },
                {
                    "output_type": "display_data",
                    "data": {
                        "text/html": "(1 row affected)"
                    },
                    "metadata": {}
                },
                {
                    "output_type": "display_data",
                    "data": {
                        "text/html": "Total execution time: 00:00:02.675"
                    },
                    "metadata": {}
                },
                {
                    "output_type": "execute_result",
                    "metadata": {},
                    "execution_count": 18,
                    "data": {
                        "application/vnd.dataresource+json": {
                            "schema": {
                                "fields": [
                                    {
                                        "name": "Message"
                                    }
                                ]
                            },
                            "data": [
                                {
                                    "Message": "There is no null"
                                }
                            ]
                        },
                        "text/html": [
                            "<table>",
                            "<tr><th>Message</th></tr>",
                            "<tr><td>There is no null</td></tr>",
                            "</table>"
                        ]
                    }
                },
                {
                    "output_type": "execute_result",
                    "metadata": {},
                    "execution_count": 18,
                    "data": {
                        "application/vnd.dataresource+json": {
                            "schema": {
                                "fields": [
                                    {
                                        "name": "St_Fname"
                                    },
                                    {
                                        "name": "St_Lname"
                                    }
                                ]
                            },
                            "data": [
                                {
                                    "St_Fname": "Ahmed",
                                    "St_Lname": "Hassan    "
                                }
                            ]
                        },
                        "text/html": [
                            "<table>",
                            "<tr><th>St_Fname</th><th>St_Lname</th></tr>",
                            "<tr><td>Ahmed</td><td>Hassan    </td></tr>",
                            "</table>"
                        ]
                    }
                }
            ],
            "execution_count": 18
        },
        {
            "cell_type": "code",
            "source": [
                "/*5.Create a function that takes an integer that represents the format of the Manager hiring date and displays department\r\n",
                "name, Manager Name, and hiring date with this format.  */\r\n",
                "\r\n",
                "create or alter proc ManagerProc\r\n",
                "@hiringDate int\r\n",
                "as\r\n",
                "begin\r\n",
                "select dep.Dnum, dep.Dname, dep.MGRSSN, emp.Fname, CONVERT(varchar, dep.[MGRStart Date], @hiringDate) as HiringDate\r\n",
                "from Departments dep\r\n",
                "join Employee emp\r\n",
                "on emp.SSN = dep.MGRSSN\r\n",
                "end \r\n",
                ""
            ],
            "metadata": {
                "language": "sql",
                "azdata_cell_guid": "f583cbb4-ac08-4eb9-8a6b-227515c3407a"
            },
            "outputs": [
                {
                    "output_type": "display_data",
                    "data": {
                        "text/html": "Commands completed successfully."
                    },
                    "metadata": {}
                },
                {
                    "output_type": "display_data",
                    "data": {
                        "text/html": "Total execution time: 00:00:00.003"
                    },
                    "metadata": {}
                }
            ],
            "execution_count": 19
        },
        {
            "cell_type": "code",
            "source": [
                "ManagerProc 101"
            ],
            "metadata": {
                "language": "sql",
                "azdata_cell_guid": "1ea7850f-6ca4-4288-8bf7-e7ea1bd02b9b"
            },
            "outputs": [
                {
                    "output_type": "display_data",
                    "data": {
                        "text/html": "(3 rows affected)"
                    },
                    "metadata": {}
                },
                {
                    "output_type": "display_data",
                    "data": {
                        "text/html": "Total execution time: 00:00:00.005"
                    },
                    "metadata": {}
                },
                {
                    "output_type": "execute_result",
                    "metadata": {},
                    "execution_count": 20,
                    "data": {
                        "application/vnd.dataresource+json": {
                            "schema": {
                                "fields": [
                                    {
                                        "name": "Dnum"
                                    },
                                    {
                                        "name": "Dname"
                                    },
                                    {
                                        "name": "MGRSSN"
                                    },
                                    {
                                        "name": "Fname"
                                    },
                                    {
                                        "name": "HiringDate"
                                    }
                                ]
                            },
                            "data": [
                                {
                                    "Dnum": "10",
                                    "Dname": "DP1",
                                    "MGRSSN": "223344",
                                    "Fname": "Kamel",
                                    "HiringDate": "10/10/2022"
                                },
                                {
                                    "Dnum": "20",
                                    "Dname": "DP2",
                                    "MGRSSN": "968574",
                                    "Fname": "Noha",
                                    "HiringDate": "01/03/2006"
                                },
                                {
                                    "Dnum": "30",
                                    "Dname": "DP3",
                                    "MGRSSN": "512463",
                                    "Fname": "Edward",
                                    "HiringDate": "01/06/2006"
                                }
                            ]
                        },
                        "text/html": [
                            "<table>",
                            "<tr><th>Dnum</th><th>Dname</th><th>MGRSSN</th><th>Fname</th><th>HiringDate</th></tr>",
                            "<tr><td>10</td><td>DP1</td><td>223344</td><td>Kamel</td><td>10/10/2022</td></tr>",
                            "<tr><td>20</td><td>DP2</td><td>968574</td><td>Noha</td><td>01/03/2006</td></tr>",
                            "<tr><td>30</td><td>DP3</td><td>512463</td><td>Edward</td><td>01/06/2006</td></tr>",
                            "</table>"
                        ]
                    }
                }
            ],
            "execution_count": 20
        },
        {
            "cell_type": "code",
            "source": [
                "ManagerProc 102"
            ],
            "metadata": {
                "language": "sql",
                "azdata_cell_guid": "d43650f2-fa47-4cf9-9eb3-23d37c26f110"
            },
            "outputs": [
                {
                    "output_type": "display_data",
                    "data": {
                        "text/html": "(3 rows affected)"
                    },
                    "metadata": {}
                },
                {
                    "output_type": "display_data",
                    "data": {
                        "text/html": "Total execution time: 00:00:00.016"
                    },
                    "metadata": {}
                },
                {
                    "output_type": "execute_result",
                    "metadata": {},
                    "execution_count": 21,
                    "data": {
                        "application/vnd.dataresource+json": {
                            "schema": {
                                "fields": [
                                    {
                                        "name": "Dnum"
                                    },
                                    {
                                        "name": "Dname"
                                    },
                                    {
                                        "name": "MGRSSN"
                                    },
                                    {
                                        "name": "Fname"
                                    },
                                    {
                                        "name": "HiringDate"
                                    }
                                ]
                            },
                            "data": [
                                {
                                    "Dnum": "10",
                                    "Dname": "DP1",
                                    "MGRSSN": "223344",
                                    "Fname": "Kamel",
                                    "HiringDate": "2022.10.10"
                                },
                                {
                                    "Dnum": "20",
                                    "Dname": "DP2",
                                    "MGRSSN": "968574",
                                    "Fname": "Noha",
                                    "HiringDate": "2006.01.03"
                                },
                                {
                                    "Dnum": "30",
                                    "Dname": "DP3",
                                    "MGRSSN": "512463",
                                    "Fname": "Edward",
                                    "HiringDate": "2006.01.06"
                                }
                            ]
                        },
                        "text/html": [
                            "<table>",
                            "<tr><th>Dnum</th><th>Dname</th><th>MGRSSN</th><th>Fname</th><th>HiringDate</th></tr>",
                            "<tr><td>10</td><td>DP1</td><td>223344</td><td>Kamel</td><td>2022.10.10</td></tr>",
                            "<tr><td>20</td><td>DP2</td><td>968574</td><td>Noha</td><td>2006.01.03</td></tr>",
                            "<tr><td>30</td><td>DP3</td><td>512463</td><td>Edward</td><td>2006.01.06</td></tr>",
                            "</table>"
                        ]
                    }
                }
            ],
            "execution_count": 21
        },
        {
            "cell_type": "code",
            "source": [
                "/*6.\tCreate multi-statements table-valued function that takes a string\r\n",
                "If string='first name' returns student first name\r\n",
                "If string='last name' returns student last name \r\n",
                "If string='full name' returns Full Name from student table \r\n",
                "Note: Use the “ISNULL” function\r\n",
                "*/\r\n",
                "\r\n",
                "\r\n",
                "create or alter proc NameProc\r\n",
                "@string varchar(20)\r\n",
                "as\r\n",
                "begin\r\n",
                "declare @result table (Name varchar(30))\r\n",
                "\tdeclare @name varchar(30)\r\n",
                "\t\r\n",
                "\tif @string = 'first name' \r\n",
                "\tbegin\r\n",
                "\t\tinsert into @result \r\n",
                "\t\tselect ISNULL(St_Fname, 'No first Name Extists')\r\n",
                "\t\tfrom student\r\n",
                "\tend\t\r\n",
                "\telse if @string = 'last name' \r\n",
                "\tbegin\r\n",
                "\t\tinsert into @result\r\n",
                "\t\tselect ISNULL(St_Lname, 'No last Name Extists' ) \r\n",
                "\t\tfrom Student\r\n",
                "\tend\r\n",
                "\telse if\t@string = 'full name' \r\n",
                "\tbegin\r\n",
                "\t\tinsert into @result\r\n",
                "\t\tselect ISNULL(St_Fname, '') + ' ' +  ISNULL(St_Lname, ' ') as FullName\r\n",
                "\t\tfrom Student\r\n",
                "\tend\r\n",
                "\tselect * from @result\r\n",
                "\tend\r\n",
                ""
            ],
            "metadata": {
                "language": "sql",
                "azdata_cell_guid": "800eb8d6-b805-42e2-b248-e431139af55d"
            },
            "outputs": [
                {
                    "output_type": "display_data",
                    "data": {
                        "text/html": "Commands completed successfully."
                    },
                    "metadata": {}
                },
                {
                    "output_type": "display_data",
                    "data": {
                        "text/html": "Total execution time: 00:00:00.006"
                    },
                    "metadata": {}
                }
            ],
            "execution_count": 22
        },
        {
            "cell_type": "code",
            "source": [
                "NameProc 'first name'"
            ],
            "metadata": {
                "language": "sql",
                "azdata_cell_guid": "c76ba284-cd92-462f-9a8a-42dce853a261"
            },
            "outputs": [
                {
                    "output_type": "display_data",
                    "data": {
                        "text/html": "(17 rows affected)"
                    },
                    "metadata": {}
                },
                {
                    "output_type": "display_data",
                    "data": {
                        "text/html": "(17 rows affected)"
                    },
                    "metadata": {}
                },
                {
                    "output_type": "display_data",
                    "data": {
                        "text/html": "Total execution time: 00:00:00.010"
                    },
                    "metadata": {}
                },
                {
                    "output_type": "execute_result",
                    "metadata": {},
                    "execution_count": 23,
                    "data": {
                        "application/vnd.dataresource+json": {
                            "schema": {
                                "fields": [
                                    {
                                        "name": "Name"
                                    }
                                ]
                            },
                            "data": [
                                {
                                    "Name": "Ahmed"
                                },
                                {
                                    "Name": "Amr"
                                },
                                {
                                    "Name": "Mona"
                                },
                                {
                                    "Name": "Ahmed"
                                },
                                {
                                    "Name": "Khalid"
                                },
                                {
                                    "Name": "Heba"
                                },
                                {
                                    "Name": "Ali"
                                },
                                {
                                    "Name": "Mohamed"
                                },
                                {
                                    "Name": "Saly"
                                },
                                {
                                    "Name": "Fady"
                                },
                                {
                                    "Name": "Marwa"
                                },
                                {
                                    "Name": "Noha"
                                },
                                {
                                    "Name": "Said"
                                },
                                {
                                    "Name": "No first Name Extists"
                                },
                                {
                                    "Name": "Nada"
                                },
                                {
                                    "Name": "ali"
                                },
                                {
                                    "Name": "ddd"
                                }
                            ]
                        },
                        "text/html": [
                            "<table>",
                            "<tr><th>Name</th></tr>",
                            "<tr><td>Ahmed</td></tr>",
                            "<tr><td>Amr</td></tr>",
                            "<tr><td>Mona</td></tr>",
                            "<tr><td>Ahmed</td></tr>",
                            "<tr><td>Khalid</td></tr>",
                            "<tr><td>Heba</td></tr>",
                            "<tr><td>Ali</td></tr>",
                            "<tr><td>Mohamed</td></tr>",
                            "<tr><td>Saly</td></tr>",
                            "<tr><td>Fady</td></tr>",
                            "<tr><td>Marwa</td></tr>",
                            "<tr><td>Noha</td></tr>",
                            "<tr><td>Said</td></tr>",
                            "<tr><td>No first Name Extists</td></tr>",
                            "<tr><td>Nada</td></tr>",
                            "<tr><td>ali</td></tr>",
                            "<tr><td>ddd</td></tr>",
                            "</table>"
                        ]
                    }
                }
            ],
            "execution_count": 23
        },
        {
            "cell_type": "code",
            "source": [
                "/*\r\n",
                "7.\tWrite a query that returns the Student No and Student first name without the last char\r\n",
                "*/\r\n",
                "\r\n",
                "create or alter proc Std_SubSting\r\n",
                "as\r\n",
                "\r\n",
                "select std.St_Id, substring(St_Fname,1, len(St_Fname) - 1)\r\n",
                "from Student std"
            ],
            "metadata": {
                "azdata_cell_guid": "23a4b0e6-45c3-42e5-94e4-0634491ed862",
                "language": "sql"
            },
            "outputs": [
                {
                    "output_type": "display_data",
                    "data": {
                        "text/html": "(17 rows affected)"
                    },
                    "metadata": {}
                },
                {
                    "output_type": "display_data",
                    "data": {
                        "text/html": "Total execution time: 00:00:00.010"
                    },
                    "metadata": {}
                },
                {
                    "output_type": "execute_result",
                    "metadata": {},
                    "execution_count": 24,
                    "data": {
                        "application/vnd.dataresource+json": {
                            "schema": {
                                "fields": [
                                    {
                                        "name": "St_Id"
                                    },
                                    {
                                        "name": "(No column name)"
                                    }
                                ]
                            },
                            "data": [
                                {
                                    "St_Id": "1",
                                    "(No column name)": "Ahme"
                                },
                                {
                                    "St_Id": "2",
                                    "(No column name)": "Am"
                                },
                                {
                                    "St_Id": "3",
                                    "(No column name)": "Mon"
                                },
                                {
                                    "St_Id": "4",
                                    "(No column name)": "Ahme"
                                },
                                {
                                    "St_Id": "5",
                                    "(No column name)": "Khali"
                                },
                                {
                                    "St_Id": "6",
                                    "(No column name)": "Heb"
                                },
                                {
                                    "St_Id": "7",
                                    "(No column name)": "Al"
                                },
                                {
                                    "St_Id": "8",
                                    "(No column name)": "Mohame"
                                },
                                {
                                    "St_Id": "9",
                                    "(No column name)": "Sal"
                                },
                                {
                                    "St_Id": "10",
                                    "(No column name)": "Fad"
                                },
                                {
                                    "St_Id": "11",
                                    "(No column name)": "Marw"
                                },
                                {
                                    "St_Id": "12",
                                    "(No column name)": "Noh"
                                },
                                {
                                    "St_Id": "13",
                                    "(No column name)": "Sai"
                                },
                                {
                                    "St_Id": "14",
                                    "(No column name)": "NULL"
                                },
                                {
                                    "St_Id": "23",
                                    "(No column name)": "Nad"
                                },
                                {
                                    "St_Id": "79",
                                    "(No column name)": "al"
                                },
                                {
                                    "St_Id": "333",
                                    "(No column name)": "dd"
                                }
                            ]
                        },
                        "text/html": [
                            "<table>",
                            "<tr><th>St_Id</th><th>(No column name)</th></tr>",
                            "<tr><td>1</td><td>Ahme</td></tr>",
                            "<tr><td>2</td><td>Am</td></tr>",
                            "<tr><td>3</td><td>Mon</td></tr>",
                            "<tr><td>4</td><td>Ahme</td></tr>",
                            "<tr><td>5</td><td>Khali</td></tr>",
                            "<tr><td>6</td><td>Heb</td></tr>",
                            "<tr><td>7</td><td>Al</td></tr>",
                            "<tr><td>8</td><td>Mohame</td></tr>",
                            "<tr><td>9</td><td>Sal</td></tr>",
                            "<tr><td>10</td><td>Fad</td></tr>",
                            "<tr><td>11</td><td>Marw</td></tr>",
                            "<tr><td>12</td><td>Noh</td></tr>",
                            "<tr><td>13</td><td>Sai</td></tr>",
                            "<tr><td>14</td><td>NULL</td></tr>",
                            "<tr><td>23</td><td>Nad</td></tr>",
                            "<tr><td>79</td><td>al</td></tr>",
                            "<tr><td>333</td><td>dd</td></tr>",
                            "</table>"
                        ]
                    }
                }
            ],
            "execution_count": 24
        },
        {
            "cell_type": "code",
            "source": [
                "Std_SubSting"
            ],
            "metadata": {
                "azdata_cell_guid": "93456d91-48e5-4b09-86f6-532d1d6a261a",
                "language": "sql"
            },
            "outputs": [
                {
                    "output_type": "display_data",
                    "data": {
                        "text/html": "(17 rows affected)"
                    },
                    "metadata": {}
                },
                {
                    "output_type": "display_data",
                    "data": {
                        "text/html": "Total execution time: 00:00:00.707"
                    },
                    "metadata": {}
                },
                {
                    "output_type": "execute_result",
                    "metadata": {},
                    "execution_count": 25,
                    "data": {
                        "application/vnd.dataresource+json": {
                            "schema": {
                                "fields": [
                                    {
                                        "name": "St_Id"
                                    },
                                    {
                                        "name": "(No column name)"
                                    }
                                ]
                            },
                            "data": [
                                {
                                    "St_Id": "1",
                                    "(No column name)": "Ahme"
                                },
                                {
                                    "St_Id": "2",
                                    "(No column name)": "Am"
                                },
                                {
                                    "St_Id": "3",
                                    "(No column name)": "Mon"
                                },
                                {
                                    "St_Id": "4",
                                    "(No column name)": "Ahme"
                                },
                                {
                                    "St_Id": "5",
                                    "(No column name)": "Khali"
                                },
                                {
                                    "St_Id": "6",
                                    "(No column name)": "Heb"
                                },
                                {
                                    "St_Id": "7",
                                    "(No column name)": "Al"
                                },
                                {
                                    "St_Id": "8",
                                    "(No column name)": "Mohame"
                                },
                                {
                                    "St_Id": "9",
                                    "(No column name)": "Sal"
                                },
                                {
                                    "St_Id": "10",
                                    "(No column name)": "Fad"
                                },
                                {
                                    "St_Id": "11",
                                    "(No column name)": "Marw"
                                },
                                {
                                    "St_Id": "12",
                                    "(No column name)": "Noh"
                                },
                                {
                                    "St_Id": "13",
                                    "(No column name)": "Sai"
                                },
                                {
                                    "St_Id": "14",
                                    "(No column name)": "NULL"
                                },
                                {
                                    "St_Id": "23",
                                    "(No column name)": "Nad"
                                },
                                {
                                    "St_Id": "79",
                                    "(No column name)": "al"
                                },
                                {
                                    "St_Id": "333",
                                    "(No column name)": "dd"
                                }
                            ]
                        },
                        "text/html": [
                            "<table>",
                            "<tr><th>St_Id</th><th>(No column name)</th></tr>",
                            "<tr><td>1</td><td>Ahme</td></tr>",
                            "<tr><td>2</td><td>Am</td></tr>",
                            "<tr><td>3</td><td>Mon</td></tr>",
                            "<tr><td>4</td><td>Ahme</td></tr>",
                            "<tr><td>5</td><td>Khali</td></tr>",
                            "<tr><td>6</td><td>Heb</td></tr>",
                            "<tr><td>7</td><td>Al</td></tr>",
                            "<tr><td>8</td><td>Mohame</td></tr>",
                            "<tr><td>9</td><td>Sal</td></tr>",
                            "<tr><td>10</td><td>Fad</td></tr>",
                            "<tr><td>11</td><td>Marw</td></tr>",
                            "<tr><td>12</td><td>Noh</td></tr>",
                            "<tr><td>13</td><td>Sai</td></tr>",
                            "<tr><td>14</td><td>NULL</td></tr>",
                            "<tr><td>23</td><td>Nad</td></tr>",
                            "<tr><td>79</td><td>al</td></tr>",
                            "<tr><td>333</td><td>dd</td></tr>",
                            "</table>"
                        ]
                    }
                }
            ],
            "execution_count": 25
        },
        {
            "cell_type": "code",
            "source": [
                "\r\n",
                "/*1. Create a function that takes project number and display all employees in this project*/\r\n",
                "\r\n",
                "create or alter PROC projectNumberProc\r\n",
                "@projNum int\r\n",
                "\r\n",
                "as \r\n",
                "begin\r\n",
                "select emp.*\r\n",
                "from Employee emp\r\n",
                "join Works_for wf\r\n",
                "on emp.SSN = wf.ESSn\r\n",
                "where wf.Pno = @projNum\r\n",
                "end"
            ],
            "metadata": {
                "azdata_cell_guid": "9171fadd-1d29-443f-939f-02d4592ca252",
                "language": "sql"
            },
            "outputs": [
                {
                    "output_type": "display_data",
                    "data": {
                        "text/html": "Commands completed successfully."
                    },
                    "metadata": {}
                },
                {
                    "output_type": "display_data",
                    "data": {
                        "text/html": "Total execution time: 00:00:00.004"
                    },
                    "metadata": {}
                }
            ],
            "execution_count": 27
        },
        {
            "cell_type": "code",
            "source": [
                "projectNumberProc 200"
            ],
            "metadata": {
                "language": "sql",
                "azdata_cell_guid": "90efef64-b2da-4ccc-8807-42916f09762b"
            },
            "outputs": [
                {
                    "output_type": "display_data",
                    "data": {
                        "text/html": "(2 rows affected)"
                    },
                    "metadata": {}
                },
                {
                    "output_type": "display_data",
                    "data": {
                        "text/html": "Total execution time: 00:00:00.013"
                    },
                    "metadata": {}
                },
                {
                    "output_type": "execute_result",
                    "metadata": {},
                    "execution_count": 28,
                    "data": {
                        "application/vnd.dataresource+json": {
                            "schema": {
                                "fields": [
                                    {
                                        "name": "Fname"
                                    },
                                    {
                                        "name": "Lname"
                                    },
                                    {
                                        "name": "SSN"
                                    },
                                    {
                                        "name": "Bdate"
                                    },
                                    {
                                        "name": "Address"
                                    },
                                    {
                                        "name": "Gender"
                                    },
                                    {
                                        "name": "Salary"
                                    },
                                    {
                                        "name": "Superssn"
                                    },
                                    {
                                        "name": "Dno"
                                    },
                                    {
                                        "name": "NewSalary"
                                    }
                                ]
                            },
                            "data": [
                                {
                                    "Fname": "NULL",
                                    "Lname": "NULL",
                                    "SSN": "11",
                                    "Bdate": "NULL",
                                    "Address": "NULL",
                                    "Gender": "NULL",
                                    "Salary": "NULL",
                                    "Superssn": "NULL",
                                    "Dno": "NULL",
                                    "NewSalary": "NULL"
                                },
                                {
                                    "Fname": "Kamel",
                                    "Lname": "Mohamed",
                                    "SSN": "223344",
                                    "Bdate": "1970-10-15 00:00:00.000",
                                    "Address": "38 Mohy el dien abo el Ezz  St.Cairo",
                                    "Gender": "M",
                                    "Salary": "1800",
                                    "Superssn": "321654",
                                    "Dno": "10",
                                    "NewSalary": "1900"
                                }
                            ]
                        },
                        "text/html": [
                            "<table>",
                            "<tr><th>Fname</th><th>Lname</th><th>SSN</th><th>Bdate</th><th>Address</th><th>Gender</th><th>Salary</th><th>Superssn</th><th>Dno</th><th>NewSalary</th></tr>",
                            "<tr><td>NULL</td><td>NULL</td><td>11</td><td>NULL</td><td>NULL</td><td>NULL</td><td>NULL</td><td>NULL</td><td>NULL</td><td>NULL</td></tr>",
                            "<tr><td>Kamel</td><td>Mohamed</td><td>223344</td><td>1970-10-15 00:00:00.000</td><td>38 Mohy el dien abo el Ezz  St.Cairo</td><td>M</td><td>1800</td><td>321654</td><td>10</td><td>1900</td></tr>",
                            "</table>"
                        ]
                    }
                }
            ],
            "execution_count": 28
        },
        {
            "cell_type": "code",
            "source": [
                "projectNumberProc 100"
            ],
            "metadata": {
                "language": "sql",
                "azdata_cell_guid": "8d607135-542a-4485-b4b3-2394f03a2f69"
            },
            "outputs": [
                {
                    "output_type": "display_data",
                    "data": {
                        "text/html": "(5 rows affected)"
                    },
                    "metadata": {}
                },
                {
                    "output_type": "display_data",
                    "data": {
                        "text/html": "Total execution time: 00:00:00.004"
                    },
                    "metadata": {}
                },
                {
                    "output_type": "execute_result",
                    "metadata": {},
                    "execution_count": 29,
                    "data": {
                        "application/vnd.dataresource+json": {
                            "schema": {
                                "fields": [
                                    {
                                        "name": "Fname"
                                    },
                                    {
                                        "name": "Lname"
                                    },
                                    {
                                        "name": "SSN"
                                    },
                                    {
                                        "name": "Bdate"
                                    },
                                    {
                                        "name": "Address"
                                    },
                                    {
                                        "name": "Gender"
                                    },
                                    {
                                        "name": "Salary"
                                    },
                                    {
                                        "name": "Superssn"
                                    },
                                    {
                                        "name": "Dno"
                                    },
                                    {
                                        "name": "NewSalary"
                                    }
                                ]
                            },
                            "data": [
                                {
                                    "Fname": "NULL",
                                    "Lname": "NULL",
                                    "SSN": "2",
                                    "Bdate": "NULL",
                                    "Address": "NULL",
                                    "Gender": "NULL",
                                    "Salary": "NULL",
                                    "Superssn": "NULL",
                                    "Dno": "NULL",
                                    "NewSalary": "NULL"
                                },
                                {
                                    "Fname": "NULL",
                                    "Lname": "NULL",
                                    "SSN": "3",
                                    "Bdate": "NULL",
                                    "Address": "NULL",
                                    "Gender": "NULL",
                                    "Salary": "NULL",
                                    "Superssn": "NULL",
                                    "Dno": "NULL",
                                    "NewSalary": "NULL"
                                },
                                {
                                    "Fname": "NULL",
                                    "Lname": "NULL",
                                    "SSN": "4",
                                    "Bdate": "NULL",
                                    "Address": "NULL",
                                    "Gender": "NULL",
                                    "Salary": "NULL",
                                    "Superssn": "NULL",
                                    "Dno": "NULL",
                                    "NewSalary": "NULL"
                                },
                                {
                                    "Fname": "Ahmed",
                                    "Lname": "Ali",
                                    "SSN": "112233",
                                    "Bdate": "1995-01-01 00:00:00.000",
                                    "Address": "15 Ali fahmy St.Giza",
                                    "Gender": "M",
                                    "Salary": "1400",
                                    "Superssn": "223344",
                                    "Dno": "NULL",
                                    "NewSalary": "1500"
                                },
                                {
                                    "Fname": "Kamel",
                                    "Lname": "Mohamed",
                                    "SSN": "223344",
                                    "Bdate": "1970-10-15 00:00:00.000",
                                    "Address": "38 Mohy el dien abo el Ezz  St.Cairo",
                                    "Gender": "M",
                                    "Salary": "1800",
                                    "Superssn": "321654",
                                    "Dno": "10",
                                    "NewSalary": "1900"
                                }
                            ]
                        },
                        "text/html": [
                            "<table>",
                            "<tr><th>Fname</th><th>Lname</th><th>SSN</th><th>Bdate</th><th>Address</th><th>Gender</th><th>Salary</th><th>Superssn</th><th>Dno</th><th>NewSalary</th></tr>",
                            "<tr><td>NULL</td><td>NULL</td><td>2</td><td>NULL</td><td>NULL</td><td>NULL</td><td>NULL</td><td>NULL</td><td>NULL</td><td>NULL</td></tr>",
                            "<tr><td>NULL</td><td>NULL</td><td>3</td><td>NULL</td><td>NULL</td><td>NULL</td><td>NULL</td><td>NULL</td><td>NULL</td><td>NULL</td></tr>",
                            "<tr><td>NULL</td><td>NULL</td><td>4</td><td>NULL</td><td>NULL</td><td>NULL</td><td>NULL</td><td>NULL</td><td>NULL</td><td>NULL</td></tr>",
                            "<tr><td>Ahmed</td><td>Ali</td><td>112233</td><td>1995-01-01 00:00:00.000</td><td>15 Ali fahmy St.Giza</td><td>M</td><td>1400</td><td>223344</td><td>NULL</td><td>1500</td></tr>",
                            "<tr><td>Kamel</td><td>Mohamed</td><td>223344</td><td>1970-10-15 00:00:00.000</td><td>38 Mohy el dien abo el Ezz  St.Cairo</td><td>M</td><td>1800</td><td>321654</td><td>10</td><td>1900</td></tr>",
                            "</table>"
                        ]
                    }
                }
            ],
            "execution_count": 29
        },
        {
            "cell_type": "code",
            "source": [
                "------------Bons-----------\r\n",
                "--1.write a Query that computes the increment in salary that arises if the salary of employees increased by any value.\r\n",
                "CREATE OR ALTER PROCEDURE UpdateSalary\r\n",
                "@id int\r\n",
                "AS\r\n",
                "BEGIN\r\n",
                "    UPDATE Instructor\r\n",
                "    SET Salary += 200\r\n",
                "    OUTPUT (INSERTED.Salary - DELETED.Salary) * 100 / INSERTED.Salary AS 'Percent of Salary'\r\n",
                "    WHERE Ins_Id = @id\r\n",
                "END\r\n",
                "\r\n",
                ""
            ],
            "metadata": {
                "azdata_cell_guid": "c1244093-1e0b-4c82-a4a3-d887925aca91",
                "language": "sql"
            },
            "outputs": [
                {
                    "output_type": "display_data",
                    "data": {
                        "text/html": "Commands completed successfully."
                    },
                    "metadata": {}
                },
                {
                    "output_type": "display_data",
                    "data": {
                        "text/html": "Total execution time: 00:00:00.004"
                    },
                    "metadata": {}
                }
            ],
            "execution_count": 30
        },
        {
            "cell_type": "code",
            "source": [
                "UpdateSalary 1"
            ],
            "metadata": {
                "language": "sql",
                "azdata_cell_guid": "2fe35d6f-e0a2-4c6e-867d-aa5be5683fde"
            },
            "outputs": [
                {
                    "output_type": "display_data",
                    "data": {
                        "text/html": "(1 row affected)"
                    },
                    "metadata": {}
                },
                {
                    "output_type": "display_data",
                    "data": {
                        "text/html": "Total execution time: 00:00:00.016"
                    },
                    "metadata": {}
                },
                {
                    "output_type": "execute_result",
                    "metadata": {},
                    "execution_count": 31,
                    "data": {
                        "application/vnd.dataresource+json": {
                            "schema": {
                                "fields": [
                                    {
                                        "name": "Percent of Salary"
                                    }
                                ]
                            },
                            "data": [
                                {
                                    "Percent of Salary": "5.8823"
                                }
                            ]
                        },
                        "text/html": [
                            "<table>",
                            "<tr><th>Percent of Salary</th></tr>",
                            "<tr><td>5.8823</td></tr>",
                            "</table>"
                        ]
                    }
                }
            ],
            "execution_count": 31
        }
    ]
}