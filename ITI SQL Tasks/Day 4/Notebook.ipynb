{
    "metadata": {
        "kernelspec": {
            "name": "SQL",
            "display_name": "SQL",
            "language": "sql"
        },
        "language_info": {
            "name": "sql",
            "version": ""
        }
    },
    "nbformat_minor": 2,
    "nbformat": 4,
    "cells": [
        {
            "cell_type": "code",
            "source": [
                "--1. Display the name of the departments and the name of the projects under its control.\r\n",
                "select dep.Dname, proj.Pname\r\n",
                "from departments dep\r\n",
                "join Project proj\r\n",
                "on dep.Dnum = proj.Dnum"
            ],
            "metadata": {
                "azdata_cell_guid": "90728d83-2b02-4bb7-a27d-095f4dca1a7d",
                "language": "sql"
            },
            "outputs": [
                {
                    "output_type": "display_data",
                    "data": {
                        "text/html": "(7 rows affected)"
                    },
                    "metadata": {}
                },
                {
                    "output_type": "display_data",
                    "data": {
                        "text/html": "Total execution time: 00:00:00.049"
                    },
                    "metadata": {}
                },
                {
                    "output_type": "execute_result",
                    "execution_count": 5,
                    "data": {
                        "application/vnd.dataresource+json": {
                            "schema": {
                                "fields": [
                                    {
                                        "name": "Dname"
                                    },
                                    {
                                        "name": "Pname"
                                    }
                                ]
                            },
                            "data": [
                                {
                                    "Dname": "DP1",
                                    "Pname": "AL Solimaniah"
                                },
                                {
                                    "Dname": "DP1",
                                    "Pname": "Al Rabwah"
                                },
                                {
                                    "Dname": "DP1",
                                    "Pname": "Al Rawdah"
                                },
                                {
                                    "Dname": "DP2",
                                    "Pname": "Al Rowad"
                                },
                                {
                                    "Dname": "DP3",
                                    "Pname": "Al Rehab"
                                },
                                {
                                    "Dname": "DP3",
                                    "Pname": "Pitcho american"
                                },
                                {
                                    "Dname": "DP2",
                                    "Pname": "Ebad El Rahman"
                                }
                            ]
                        },
                        "text/html": "<table><tr><th>Dname</th><th>Pname</th></tr><tr><td>DP1</td><td>AL Solimaniah</td></tr><tr><td>DP1</td><td>Al Rabwah</td></tr><tr><td>DP1</td><td>Al Rawdah</td></tr><tr><td>DP2</td><td>Al Rowad</td></tr><tr><td>DP3</td><td>Al Rehab</td></tr><tr><td>DP3</td><td>Pitcho american</td></tr><tr><td>DP2</td><td>Ebad El Rahman</td></tr></table>"
                    },
                    "metadata": {}
                }
            ],
            "execution_count": 5
        },
        {
            "cell_type": "code",
            "source": [
                "--2.Display the full data about all the dependence associated with the name of the employee\r\n",
                "--they depend on him/her\r\n",
                "select emp.Fname + ' ' + emp.Lname as 'EmpName' , depn.*\r\n",
                "from Employee emp \r\n",
                "join Dependent depn\r\n",
                "on depn.ESSN = emp.SSN\r\n",
                ""
            ],
            "metadata": {
                "azdata_cell_guid": "ba79adb0-efb7-461e-8dcf-82ea7fc72f48",
                "language": "sql"
            },
            "outputs": [
                {
                    "output_type": "display_data",
                    "data": {
                        "text/html": "(8 rows affected)"
                    },
                    "metadata": {}
                },
                {
                    "output_type": "display_data",
                    "data": {
                        "text/html": "Total execution time: 00:00:00.020"
                    },
                    "metadata": {}
                },
                {
                    "output_type": "execute_result",
                    "execution_count": 6,
                    "data": {
                        "application/vnd.dataresource+json": {
                            "schema": {
                                "fields": [
                                    {
                                        "name": "EmpName"
                                    },
                                    {
                                        "name": "ESSN"
                                    },
                                    {
                                        "name": "Dependent_name"
                                    },
                                    {
                                        "name": "Gender"
                                    },
                                    {
                                        "name": "Bdate"
                                    }
                                ]
                            },
                            "data": [
                                {
                                    "EmpName": "Ahmed Ali",
                                    "ESSN": "112233",
                                    "Dependent_name": "Hala Saied Ali",
                                    "Gender": "F",
                                    "Bdate": "1970-10-18 00:00:00.000"
                                },
                                {
                                    "EmpName": "Kamel Mohamed",
                                    "ESSN": "223344",
                                    "Dependent_name": "Ahmed Kamel Shawki",
                                    "Gender": "M",
                                    "Bdate": "1998-03-27 00:00:00.000"
                                },
                                {
                                    "EmpName": "Kamel Mohamed",
                                    "ESSN": "223344",
                                    "Dependent_name": "Mona Adel Mohamed",
                                    "Gender": "F",
                                    "Bdate": "1975-04-25 00:00:00.000"
                                },
                                {
                                    "EmpName": "Amr Omran",
                                    "ESSN": "321654",
                                    "Dependent_name": "Omar Amr Omran",
                                    "Gender": "M",
                                    "Bdate": "1993-03-30 00:00:00.000"
                                },
                                {
                                    "EmpName": "Amr Omran",
                                    "ESSN": "321654",
                                    "Dependent_name": "Ramy Amr Omran",
                                    "Gender": "M",
                                    "Bdate": "1990-01-26 00:00:00.000"
                                },
                                {
                                    "EmpName": "Amr Omran",
                                    "ESSN": "321654",
                                    "Dependent_name": "Sanaa Gawish",
                                    "Gender": "F",
                                    "Bdate": "1973-05-16 00:00:00.000"
                                },
                                {
                                    "EmpName": "Edward Hanna",
                                    "ESSN": "512463",
                                    "Dependent_name": "Nora Ghaly",
                                    "Gender": "F",
                                    "Bdate": "1976-06-22 00:00:00.000"
                                },
                                {
                                    "EmpName": "Edward Hanna",
                                    "ESSN": "512463",
                                    "Dependent_name": "Sara Edward",
                                    "Gender": "F",
                                    "Bdate": "2001-09-15 00:00:00.000"
                                }
                            ]
                        },
                        "text/html": "<table><tr><th>EmpName</th><th>ESSN</th><th>Dependent_name</th><th>Gender</th><th>Bdate</th></tr><tr><td>Ahmed Ali</td><td>112233</td><td>Hala Saied Ali</td><td>F</td><td>1970-10-18 00:00:00.000</td></tr><tr><td>Kamel Mohamed</td><td>223344</td><td>Ahmed Kamel Shawki</td><td>M</td><td>1998-03-27 00:00:00.000</td></tr><tr><td>Kamel Mohamed</td><td>223344</td><td>Mona Adel Mohamed</td><td>F</td><td>1975-04-25 00:00:00.000</td></tr><tr><td>Amr Omran</td><td>321654</td><td>Omar Amr Omran</td><td>M</td><td>1993-03-30 00:00:00.000</td></tr><tr><td>Amr Omran</td><td>321654</td><td>Ramy Amr Omran</td><td>M</td><td>1990-01-26 00:00:00.000</td></tr><tr><td>Amr Omran</td><td>321654</td><td>Sanaa Gawish</td><td>F</td><td>1973-05-16 00:00:00.000</td></tr><tr><td>Edward Hanna</td><td>512463</td><td>Nora Ghaly</td><td>F</td><td>1976-06-22 00:00:00.000</td></tr><tr><td>Edward Hanna</td><td>512463</td><td>Sara Edward</td><td>F</td><td>2001-09-15 00:00:00.000</td></tr></table>"
                    },
                    "metadata": {}
                }
            ],
            "execution_count": 6
        },
        {
            "cell_type": "code",
            "source": [
                "--3.Display the Id, name and location of the projects in Cairo or Alex city.\r\n",
                "select Pnumber, Pname, Plocation\r\n",
                "from Project\r\n",
                "where Plocation like '%Cairo%' or Plocation like '%Alex%'"
            ],
            "metadata": {
                "azdata_cell_guid": "aeeff0af-9a7b-4a57-a9fa-91737631293c",
                "language": "sql"
            },
            "outputs": [
                {
                    "output_type": "display_data",
                    "data": {
                        "text/html": "(2 rows affected)"
                    },
                    "metadata": {}
                },
                {
                    "output_type": "display_data",
                    "data": {
                        "text/html": "Total execution time: 00:00:00.010"
                    },
                    "metadata": {}
                },
                {
                    "output_type": "execute_result",
                    "execution_count": 7,
                    "data": {
                        "application/vnd.dataresource+json": {
                            "schema": {
                                "fields": [
                                    {
                                        "name": "Pnumber"
                                    },
                                    {
                                        "name": "Pname"
                                    },
                                    {
                                        "name": "Plocation"
                                    }
                                ]
                            },
                            "data": [
                                {
                                    "Pnumber": "100",
                                    "Pname": "AL Solimaniah",
                                    "Plocation": "Cairo_Alex Road"
                                },
                                {
                                    "Pnumber": "400",
                                    "Pname": "Al Rowad",
                                    "Plocation": "Cairo_Faiyom Road"
                                }
                            ]
                        },
                        "text/html": "<table><tr><th>Pnumber</th><th>Pname</th><th>Plocation</th></tr><tr><td>100</td><td>AL Solimaniah</td><td>Cairo_Alex Road</td></tr><tr><td>400</td><td>Al Rowad</td><td>Cairo_Faiyom Road</td></tr></table>"
                    },
                    "metadata": {}
                }
            ],
            "execution_count": 7
        },
        {
            "cell_type": "code",
            "source": [
                "---4.display all the employees in department 30 whose salary from 1000 to 2000 LE monthly\r\n",
                "select emp.*\r\n",
                "from Employee emp\r\n",
                "join Departments dep\r\n",
                "on dep.Dnum = emp.Dno\r\n",
                "where Dno = 30 and Salary between 1000 and 2000\r\n",
                ""
            ],
            "metadata": {
                "language": "sql",
                "azdata_cell_guid": "91cfba62-ebd8-4e67-856d-5ccbf6015093"
            },
            "outputs": [
                {
                    "output_type": "display_data",
                    "data": {
                        "text/html": "(2 rows affected)"
                    },
                    "metadata": {}
                },
                {
                    "output_type": "display_data",
                    "data": {
                        "text/html": "Total execution time: 00:00:00.010"
                    },
                    "metadata": {}
                },
                {
                    "output_type": "execute_result",
                    "execution_count": 8,
                    "data": {
                        "application/vnd.dataresource+json": {
                            "schema": {
                                "fields": [
                                    {
                                        "name": "Fname"
                                    },
                                    {
                                        "name": "Lname"
                                    },
                                    {
                                        "name": "SSN"
                                    },
                                    {
                                        "name": "Bdate"
                                    },
                                    {
                                        "name": "Address"
                                    },
                                    {
                                        "name": "Gender"
                                    },
                                    {
                                        "name": "Salary"
                                    },
                                    {
                                        "name": "Superssn"
                                    },
                                    {
                                        "name": "Dno"
                                    }
                                ]
                            },
                            "data": [
                                {
                                    "Fname": "Edward",
                                    "Lname": "Hanna",
                                    "SSN": "512463",
                                    "Bdate": "1972-08-19 00:00:00.000",
                                    "Address": "18 Abaas El 3akaad St. Nasr City.Cairo",
                                    "Gender": "M",
                                    "Salary": "1500",
                                    "Superssn": "321654",
                                    "Dno": "30"
                                },
                                {
                                    "Fname": "Maged",
                                    "Lname": "Raoof",
                                    "SSN": "521634",
                                    "Bdate": "1980-06-04 00:00:00.000",
                                    "Address": "18 Kholosi st.Shobra.Cairo",
                                    "Gender": "M",
                                    "Salary": "1000",
                                    "Superssn": "968574",
                                    "Dno": "30"
                                }
                            ]
                        },
                        "text/html": "<table><tr><th>Fname</th><th>Lname</th><th>SSN</th><th>Bdate</th><th>Address</th><th>Gender</th><th>Salary</th><th>Superssn</th><th>Dno</th></tr><tr><td>Edward</td><td>Hanna</td><td>512463</td><td>1972-08-19 00:00:00.000</td><td>18 Abaas El 3akaad St. Nasr City.Cairo</td><td>M</td><td>1500</td><td>321654</td><td>30</td></tr><tr><td>Maged</td><td>Raoof</td><td>521634</td><td>1980-06-04 00:00:00.000</td><td>18 Kholosi st.Shobra.Cairo</td><td>M</td><td>1000</td><td>968574</td><td>30</td></tr></table>"
                    },
                    "metadata": {}
                }
            ],
            "execution_count": 8
        },
        {
            "cell_type": "code",
            "source": [
                "--5. Retrieve the names of all employees in department 10 who works more than or equal10 hours per week on \"AL Rabwah\" project.\r\n",
                "select emp.Fname + ' ' + emp.Lname as Name\r\n",
                "from Employee emp\r\n",
                "join Works_for wf\r\n",
                "    on emp.SSN = wf.ESSn \r\n",
                "join Project proj\r\n",
                "    on proj.Pnumber = wf.Pno\r\n",
                "where emp.Dno = 10\r\n",
                "    and wf.Hours >= 10\r\n",
                "    and proj.Pname = 'AL Rabwah'"
            ],
            "metadata": {
                "azdata_cell_guid": "96b28587-3e58-40b9-bdcb-e6ae9f2b7f14",
                "language": "sql"
            },
            "outputs": [
                {
                    "output_type": "display_data",
                    "data": {
                        "text/html": "(1 row affected)"
                    },
                    "metadata": {}
                },
                {
                    "output_type": "display_data",
                    "data": {
                        "text/html": "Total execution time: 00:00:00.013"
                    },
                    "metadata": {}
                },
                {
                    "output_type": "execute_result",
                    "execution_count": 9,
                    "data": {
                        "application/vnd.dataresource+json": {
                            "schema": {
                                "fields": [
                                    {
                                        "name": "Name"
                                    }
                                ]
                            },
                            "data": [
                                {
                                    "Name": "Kamel Mohamed"
                                }
                            ]
                        },
                        "text/html": "<table><tr><th>Name</th></tr><tr><td>Kamel Mohamed</td></tr></table>"
                    },
                    "metadata": {}
                }
            ],
            "execution_count": 9
        },
        {
            "cell_type": "code",
            "source": [
                "--6. Find the names of the employees who directly supervised with Kamel Mohamed\r\n",
                "select emp.*\r\n",
                "from Employee supervise\r\n",
                "join Employee emp \r\n",
                "on emp.SSN = supervise.SSN\r\n",
                "where emp.Superssn = (select ssn from Employee where Fname =  'Kamel')"
            ],
            "metadata": {
                "language": "sql",
                "azdata_cell_guid": "130b6c94-9a76-46fb-96cf-d5cb081df7b1"
            },
            "outputs": [
                {
                    "output_type": "display_data",
                    "data": {
                        "text/html": "(2 rows affected)"
                    },
                    "metadata": {}
                },
                {
                    "output_type": "display_data",
                    "data": {
                        "text/html": "Total execution time: 00:00:00.018"
                    },
                    "metadata": {}
                },
                {
                    "output_type": "execute_result",
                    "execution_count": 11,
                    "data": {
                        "application/vnd.dataresource+json": {
                            "schema": {
                                "fields": [
                                    {
                                        "name": "Fname"
                                    },
                                    {
                                        "name": "Lname"
                                    },
                                    {
                                        "name": "SSN"
                                    },
                                    {
                                        "name": "Bdate"
                                    },
                                    {
                                        "name": "Address"
                                    },
                                    {
                                        "name": "Gender"
                                    },
                                    {
                                        "name": "Salary"
                                    },
                                    {
                                        "name": "Superssn"
                                    },
                                    {
                                        "name": "Dno"
                                    }
                                ]
                            },
                            "data": [
                                {
                                    "Fname": "Ahmed",
                                    "Lname": "Ali",
                                    "SSN": "112233",
                                    "Bdate": "1965-01-01 00:00:00.000",
                                    "Address": "15 Ali fahmy St.Giza",
                                    "Gender": "M",
                                    "Salary": "1300",
                                    "Superssn": "223344",
                                    "Dno": "NULL"
                                },
                                {
                                    "Fname": "Hanaa",
                                    "Lname": "Sobhy",
                                    "SSN": "123456",
                                    "Bdate": "1973-03-18 00:00:00.000",
                                    "Address": "38 Abdel Khalik Tharwat St. Downtown.Cairo",
                                    "Gender": "F",
                                    "Salary": "800",
                                    "Superssn": "223344",
                                    "Dno": "NULL"
                                }
                            ]
                        },
                        "text/html": "<table><tr><th>Fname</th><th>Lname</th><th>SSN</th><th>Bdate</th><th>Address</th><th>Gender</th><th>Salary</th><th>Superssn</th><th>Dno</th></tr><tr><td>Ahmed</td><td>Ali</td><td>112233</td><td>1965-01-01 00:00:00.000</td><td>15 Ali fahmy St.Giza</td><td>M</td><td>1300</td><td>223344</td><td>NULL</td></tr><tr><td>Hanaa</td><td>Sobhy</td><td>123456</td><td>1973-03-18 00:00:00.000</td><td>38 Abdel Khalik Tharwat St. Downtown.Cairo</td><td>F</td><td>800</td><td>223344</td><td>NULL</td></tr></table>"
                    },
                    "metadata": {}
                }
            ],
            "execution_count": 11
        },
        {
            "cell_type": "code",
            "source": [
                "--7. Retrieve the names of all employees and the names of the projects they are working on, sorted by the project name\r\n",
                "select emp.Fname + ' ' + emp.Lname as 'Name', proj.Pname\r\n",
                "from Employee emp\r\n",
                "join Works_for wf \r\n",
                "on emp.SSN = wf.ESSn\r\n",
                "join Project proj\r\n",
                "on proj.Pnumber = wf.Pno\r\n",
                "--group by emp.SSN\r\n",
                "order by proj.Pname"
            ],
            "metadata": {
                "azdata_cell_guid": "344136bb-461f-45b8-93ec-0caf1c6ee209",
                "language": "sql"
            },
            "outputs": [
                {
                    "output_type": "display_data",
                    "data": {
                        "text/html": "(17 rows affected)"
                    },
                    "metadata": {}
                },
                {
                    "output_type": "display_data",
                    "data": {
                        "text/html": "Total execution time: 00:00:00.013"
                    },
                    "metadata": {}
                },
                {
                    "output_type": "execute_result",
                    "execution_count": 10,
                    "data": {
                        "application/vnd.dataresource+json": {
                            "schema": {
                                "fields": [
                                    {
                                        "name": "Name"
                                    },
                                    {
                                        "name": "Pname"
                                    }
                                ]
                            },
                            "data": [
                                {
                                    "Name": "Kamel Mohamed",
                                    "Pname": "Al Rabwah"
                                },
                                {
                                    "Name": "Kamel Mohamed",
                                    "Pname": "Al Rawdah2"
                                },
                                {
                                    "Name": "Maged Raoof",
                                    "Pname": "Al Rawdah2"
                                },
                                {
                                    "Name": "Mariam Adel",
                                    "Pname": "Al Rawdah2"
                                },
                                {
                                    "Name": "Noha Mohamed",
                                    "Pname": "Al Rawdah2"
                                },
                                {
                                    "Name": "Kamel Mohamed",
                                    "Pname": "Al Rehab"
                                },
                                {
                                    "Name": "Edward Hanna",
                                    "Pname": "Al Rehab"
                                },
                                {
                                    "Name": "Maged Raoof",
                                    "Pname": "Al Rehab"
                                },
                                {
                                    "Name": "Maged Raoof",
                                    "Pname": "Al Rowad"
                                },
                                {
                                    "Name": "Mariam Adel",
                                    "Pname": "Al Rowad"
                                },
                                {
                                    "Name": "Noha Mohamed",
                                    "Pname": "Al Rowad"
                                },
                                {
                                    "Name": "Ahmed Ali",
                                    "Pname": "AL Solimaniah"
                                },
                                {
                                    "Name": "Kamel Mohamed",
                                    "Pname": "AL Solimaniah"
                                },
                                {
                                    "Name": "Mariam Adel",
                                    "Pname": "Ebad El Rahman"
                                },
                                {
                                    "Name": "Noha Mohamed",
                                    "Pname": "Ebad El Rahman"
                                },
                                {
                                    "Name": "Edward Hanna",
                                    "Pname": "Pitcho american"
                                },
                                {
                                    "Name": "Maged Raoof",
                                    "Pname": "Pitcho american"
                                }
                            ]
                        },
                        "text/html": "<table><tr><th>Name</th><th>Pname</th></tr><tr><td>Kamel Mohamed</td><td>Al Rabwah</td></tr><tr><td>Kamel Mohamed</td><td>Al Rawdah2</td></tr><tr><td>Maged Raoof</td><td>Al Rawdah2</td></tr><tr><td>Mariam Adel</td><td>Al Rawdah2</td></tr><tr><td>Noha Mohamed</td><td>Al Rawdah2</td></tr><tr><td>Kamel Mohamed</td><td>Al Rehab</td></tr><tr><td>Edward Hanna</td><td>Al Rehab</td></tr><tr><td>Maged Raoof</td><td>Al Rehab</td></tr><tr><td>Maged Raoof</td><td>Al Rowad</td></tr><tr><td>Mariam Adel</td><td>Al Rowad</td></tr><tr><td>Noha Mohamed</td><td>Al Rowad</td></tr><tr><td>Ahmed Ali</td><td>AL Solimaniah</td></tr><tr><td>Kamel Mohamed</td><td>AL Solimaniah</td></tr><tr><td>Mariam Adel</td><td>Ebad El Rahman</td></tr><tr><td>Noha Mohamed</td><td>Ebad El Rahman</td></tr><tr><td>Edward Hanna</td><td>Pitcho american</td></tr><tr><td>Maged Raoof</td><td>Pitcho american</td></tr></table>"
                    },
                    "metadata": {}
                }
            ],
            "execution_count": 10
        },
        {
            "cell_type": "code",
            "source": [
                "--8. For each project located in Cairo City, find the project number, the controlling department name ,the department manager last name ,address and birthdate.\r\n",
                "select proj.Pnumber as 'project Number', proj.Dnum as 'Department Number', emp.Lname as 'Manager Last Name', emp.Address as 'Manager Address', emp.Bdate as 'Manager Birthdate'\r\n",
                "from Project proj\r\n",
                "join Works_for wf\r\n",
                "on proj.Pnumber = wf.Pno\r\n",
                "join Employee emp \r\n",
                "on emp.SSN = wf.ESSn\r\n",
                "join Departments dep \r\n",
                "on emp.SSN = dep.MGRSSN\r\n",
                "where proj.Plocation like '%Cairo%'"
            ],
            "metadata": {
                "azdata_cell_guid": "0d7fab67-8134-4399-af7c-076c07291b09",
                "language": "sql"
            },
            "outputs": [
                {
                    "output_type": "display_data",
                    "data": {
                        "text/html": "(2 rows affected)"
                    },
                    "metadata": {}
                },
                {
                    "output_type": "display_data",
                    "data": {
                        "text/html": "Total execution time: 00:00:00.021"
                    },
                    "metadata": {}
                },
                {
                    "output_type": "execute_result",
                    "execution_count": 12,
                    "data": {
                        "application/vnd.dataresource+json": {
                            "schema": {
                                "fields": [
                                    {
                                        "name": "project Number"
                                    },
                                    {
                                        "name": "Department Number"
                                    },
                                    {
                                        "name": "Manager Last Name"
                                    },
                                    {
                                        "name": "Manager Address"
                                    },
                                    {
                                        "name": "Manager Birthdate"
                                    }
                                ]
                            },
                            "data": [
                                {
                                    "project Number": "100",
                                    "Department Number": "10",
                                    "Manager Last Name": "Mohamed",
                                    "Manager Address": "38 Mohy el dien abo el Ezz  St.Cairo",
                                    "Manager Birthdate": "1970-10-15 00:00:00.000"
                                },
                                {
                                    "project Number": "400",
                                    "Department Number": "20",
                                    "Manager Last Name": "Mohamed",
                                    "Manager Address": "55 Orabi St. El Mohandiseen .Cairo",
                                    "Manager Birthdate": "1975-01-02 00:00:00.000"
                                }
                            ]
                        },
                        "text/html": "<table><tr><th>project Number</th><th>Department Number</th><th>Manager Last Name</th><th>Manager Address</th><th>Manager Birthdate</th></tr><tr><td>100</td><td>10</td><td>Mohamed</td><td>38 Mohy el dien abo el Ezz  St.Cairo</td><td>1970-10-15 00:00:00.000</td></tr><tr><td>400</td><td>20</td><td>Mohamed</td><td>55 Orabi St. El Mohandiseen .Cairo</td><td>1975-01-02 00:00:00.000</td></tr></table>"
                    },
                    "metadata": {}
                }
            ],
            "execution_count": 12
        },
        {
            "cell_type": "code",
            "source": [
                "---9. Display All Data of the mangers\r\n",
                "select dep.MGRSSN, emp.*\r\n",
                "from Employee emp\r\n",
                "join Departments dep\r\n",
                "on emp.SSN = dep.MGRSSN"
            ],
            "metadata": {
                "language": "sql",
                "azdata_cell_guid": "d856f0b6-d865-44a1-8b6b-8a0a8daf6cab"
            },
            "outputs": [
                {
                    "output_type": "display_data",
                    "data": {
                        "text/html": "(3 rows affected)"
                    },
                    "metadata": {}
                },
                {
                    "output_type": "display_data",
                    "data": {
                        "text/html": "Total execution time: 00:00:00.055"
                    },
                    "metadata": {}
                },
                {
                    "output_type": "execute_result",
                    "execution_count": 1,
                    "data": {
                        "application/vnd.dataresource+json": {
                            "schema": {
                                "fields": [
                                    {
                                        "name": "MGRSSN"
                                    },
                                    {
                                        "name": "Fname"
                                    },
                                    {
                                        "name": "Lname"
                                    },
                                    {
                                        "name": "SSN"
                                    },
                                    {
                                        "name": "Bdate"
                                    },
                                    {
                                        "name": "Address"
                                    },
                                    {
                                        "name": "Gender"
                                    },
                                    {
                                        "name": "Salary"
                                    },
                                    {
                                        "name": "Superssn"
                                    },
                                    {
                                        "name": "Dno"
                                    }
                                ]
                            },
                            "data": [
                                {
                                    "MGRSSN": "223344",
                                    "Fname": "Kamel",
                                    "Lname": "Mohamed",
                                    "SSN": "223344",
                                    "Bdate": "1970-10-15 00:00:00.000",
                                    "Address": "38 Mohy el dien abo el Ezz  St.Cairo",
                                    "Gender": "M",
                                    "Salary": "1800",
                                    "Superssn": "321654",
                                    "Dno": "10"
                                },
                                {
                                    "MGRSSN": "968574",
                                    "Fname": "Noha",
                                    "Lname": "Mohamed",
                                    "SSN": "968574",
                                    "Bdate": "1975-01-02 00:00:00.000",
                                    "Address": "55 Orabi St. El Mohandiseen .Cairo",
                                    "Gender": "F",
                                    "Salary": "1600",
                                    "Superssn": "321654",
                                    "Dno": "20"
                                },
                                {
                                    "MGRSSN": "512463",
                                    "Fname": "Edward",
                                    "Lname": "Hanna",
                                    "SSN": "512463",
                                    "Bdate": "1972-08-19 00:00:00.000",
                                    "Address": "18 Abaas El 3akaad St. Nasr City.Cairo",
                                    "Gender": "M",
                                    "Salary": "1500",
                                    "Superssn": "321654",
                                    "Dno": "30"
                                }
                            ]
                        },
                        "text/html": "<table><tr><th>MGRSSN</th><th>Fname</th><th>Lname</th><th>SSN</th><th>Bdate</th><th>Address</th><th>Gender</th><th>Salary</th><th>Superssn</th><th>Dno</th></tr><tr><td>223344</td><td>Kamel</td><td>Mohamed</td><td>223344</td><td>1970-10-15 00:00:00.000</td><td>38 Mohy el dien abo el Ezz  St.Cairo</td><td>M</td><td>1800</td><td>321654</td><td>10</td></tr><tr><td>968574</td><td>Noha</td><td>Mohamed</td><td>968574</td><td>1975-01-02 00:00:00.000</td><td>55 Orabi St. El Mohandiseen .Cairo</td><td>F</td><td>1600</td><td>321654</td><td>20</td></tr><tr><td>512463</td><td>Edward</td><td>Hanna</td><td>512463</td><td>1972-08-19 00:00:00.000</td><td>18 Abaas El 3akaad St. Nasr City.Cairo</td><td>M</td><td>1500</td><td>321654</td><td>30</td></tr></table>"
                    },
                    "metadata": {}
                }
            ],
            "execution_count": 1
        },
        {
            "cell_type": "code",
            "source": [
                "---10. Display All Employees data and the data of their dependents even if they have no dependents\r\n",
                "select emp.*, depn.*\r\n",
                "from Employee emp\r\n",
                "left outer join Dependent depn\r\n",
                "on emp.SSN = depn.ESSN"
            ],
            "metadata": {
                "language": "sql",
                "azdata_cell_guid": "c7a349f3-d6c1-45bb-afcb-b6d6407ef0fd"
            },
            "outputs": [
                {
                    "output_type": "display_data",
                    "data": {
                        "text/html": "(14 rows affected)"
                    },
                    "metadata": {}
                },
                {
                    "output_type": "display_data",
                    "data": {
                        "text/html": "Total execution time: 00:00:00.014"
                    },
                    "metadata": {}
                },
                {
                    "output_type": "execute_result",
                    "execution_count": 2,
                    "data": {
                        "application/vnd.dataresource+json": {
                            "schema": {
                                "fields": [
                                    {
                                        "name": "Fname"
                                    },
                                    {
                                        "name": "Lname"
                                    },
                                    {
                                        "name": "SSN"
                                    },
                                    {
                                        "name": "Bdate"
                                    },
                                    {
                                        "name": "Address"
                                    },
                                    {
                                        "name": "Gender"
                                    },
                                    {
                                        "name": "Salary"
                                    },
                                    {
                                        "name": "Superssn"
                                    },
                                    {
                                        "name": "Dno"
                                    },
                                    {
                                        "name": "ESSN"
                                    },
                                    {
                                        "name": "Dependent_name"
                                    },
                                    {
                                        "name": "Gender"
                                    },
                                    {
                                        "name": "Bdate"
                                    }
                                ]
                            },
                            "data": [
                                {
                                    "Fname": "Sohila",
                                    "Lname": "Mohey",
                                    "SSN": "102672",
                                    "Bdate": "NULL",
                                    "Address": "Abo Qurkas, Minia",
                                    "Gender": "NULL",
                                    "Salary": "3600",
                                    "Superssn": "112233",
                                    "Dno": "30",
                                    "ESSN": "NULL",
                                    "Dependent_name": "NULL"
                                },
                                {
                                    "Fname": "Nahe",
                                    "Lname": "Ahmed",
                                    "SSN": "102673",
                                    "Bdate": "NULL",
                                    "Address": "Minia",
                                    "Gender": "NULL",
                                    "Salary": "3100",
                                    "Superssn": "112233",
                                    "Dno": "30",
                                    "ESSN": "NULL",
                                    "Dependent_name": "NULL"
                                },
                                {
                                    "Fname": "Ahmed",
                                    "Lname": "Ali",
                                    "SSN": "112233",
                                    "Bdate": "1970-10-18 00:00:00.000",
                                    "Address": "15 Ali fahmy St.Giza",
                                    "Gender": "F",
                                    "Salary": "1300",
                                    "Superssn": "223344",
                                    "Dno": "NULL",
                                    "ESSN": "112233",
                                    "Dependent_name": "Hala Saied Ali"
                                },
                                {
                                    "Fname": "Hanaa",
                                    "Lname": "Sobhy",
                                    "SSN": "123456",
                                    "Bdate": "NULL",
                                    "Address": "38 Abdel Khalik Tharwat St. Downtown.Cairo",
                                    "Gender": "NULL",
                                    "Salary": "800",
                                    "Superssn": "223344",
                                    "Dno": "NULL",
                                    "ESSN": "NULL",
                                    "Dependent_name": "NULL"
                                },
                                {
                                    "Fname": "Kamel",
                                    "Lname": "Mohamed",
                                    "SSN": "223344",
                                    "Bdate": "1998-03-27 00:00:00.000",
                                    "Address": "38 Mohy el dien abo el Ezz  St.Cairo",
                                    "Gender": "M",
                                    "Salary": "1800",
                                    "Superssn": "321654",
                                    "Dno": "10",
                                    "ESSN": "223344",
                                    "Dependent_name": "Ahmed Kamel Shawki"
                                },
                                {
                                    "Fname": "Kamel",
                                    "Lname": "Mohamed",
                                    "SSN": "223344",
                                    "Bdate": "1975-04-25 00:00:00.000",
                                    "Address": "38 Mohy el dien abo el Ezz  St.Cairo",
                                    "Gender": "F",
                                    "Salary": "1800",
                                    "Superssn": "321654",
                                    "Dno": "10",
                                    "ESSN": "223344",
                                    "Dependent_name": "Mona Adel Mohamed"
                                },
                                {
                                    "Fname": "Amr",
                                    "Lname": "Omran",
                                    "SSN": "321654",
                                    "Bdate": "1993-03-30 00:00:00.000",
                                    "Address": "44 Hilopolis.Cairo",
                                    "Gender": "M",
                                    "Salary": "2500",
                                    "Superssn": "NULL",
                                    "Dno": "NULL",
                                    "ESSN": "321654",
                                    "Dependent_name": "Omar Amr Omran"
                                },
                                {
                                    "Fname": "Amr",
                                    "Lname": "Omran",
                                    "SSN": "321654",
                                    "Bdate": "1990-01-26 00:00:00.000",
                                    "Address": "44 Hilopolis.Cairo",
                                    "Gender": "M",
                                    "Salary": "2500",
                                    "Superssn": "NULL",
                                    "Dno": "NULL",
                                    "ESSN": "321654",
                                    "Dependent_name": "Ramy Amr Omran"
                                },
                                {
                                    "Fname": "Amr",
                                    "Lname": "Omran",
                                    "SSN": "321654",
                                    "Bdate": "1973-05-16 00:00:00.000",
                                    "Address": "44 Hilopolis.Cairo",
                                    "Gender": "F",
                                    "Salary": "2500",
                                    "Superssn": "NULL",
                                    "Dno": "NULL",
                                    "ESSN": "321654",
                                    "Dependent_name": "Sanaa Gawish"
                                },
                                {
                                    "Fname": "Edward",
                                    "Lname": "Hanna",
                                    "SSN": "512463",
                                    "Bdate": "1976-06-22 00:00:00.000",
                                    "Address": "18 Abaas El 3akaad St. Nasr City.Cairo",
                                    "Gender": "F",
                                    "Salary": "1500",
                                    "Superssn": "321654",
                                    "Dno": "30",
                                    "ESSN": "512463",
                                    "Dependent_name": "Nora Ghaly"
                                },
                                {
                                    "Fname": "Edward",
                                    "Lname": "Hanna",
                                    "SSN": "512463",
                                    "Bdate": "2001-09-15 00:00:00.000",
                                    "Address": "18 Abaas El 3akaad St. Nasr City.Cairo",
                                    "Gender": "F",
                                    "Salary": "1500",
                                    "Superssn": "321654",
                                    "Dno": "30",
                                    "ESSN": "512463",
                                    "Dependent_name": "Sara Edward"
                                },
                                {
                                    "Fname": "Maged",
                                    "Lname": "Raoof",
                                    "SSN": "521634",
                                    "Bdate": "NULL",
                                    "Address": "18 Kholosi st.Shobra.Cairo",
                                    "Gender": "NULL",
                                    "Salary": "1000",
                                    "Superssn": "968574",
                                    "Dno": "30",
                                    "ESSN": "NULL",
                                    "Dependent_name": "NULL"
                                },
                                {
                                    "Fname": "Mariam",
                                    "Lname": "Adel",
                                    "SSN": "669955",
                                    "Bdate": "NULL",
                                    "Address": "269 El-Haram st. Giza",
                                    "Gender": "NULL",
                                    "Salary": "750",
                                    "Superssn": "512463",
                                    "Dno": "20",
                                    "ESSN": "NULL",
                                    "Dependent_name": "NULL"
                                },
                                {
                                    "Fname": "Noha",
                                    "Lname": "Mohamed",
                                    "SSN": "968574",
                                    "Bdate": "NULL",
                                    "Address": "55 Orabi St. El Mohandiseen .Cairo",
                                    "Gender": "NULL",
                                    "Salary": "1600",
                                    "Superssn": "321654",
                                    "Dno": "20",
                                    "ESSN": "NULL",
                                    "Dependent_name": "NULL"
                                }
                            ]
                        },
                        "text/html": "<table><tr><th>Fname</th><th>Lname</th><th>SSN</th><th>Bdate</th><th>Address</th><th>Gender</th><th>Salary</th><th>Superssn</th><th>Dno</th><th>ESSN</th><th>Dependent_name</th><th>Gender</th><th>Bdate</th></tr><tr><td>Sohila</td><td>Mohey</td><td>102672</td><td>1894-07-14 00:00:00.000</td><td>Abo Qurkas, Minia</td><td>F</td><td>3600</td><td>112233</td><td>30</td><td>NULL</td><td>NULL</td><td>NULL</td><td>NULL</td></tr><tr><td>Nahe</td><td>Ahmed</td><td>102673</td><td>1894-07-07 00:00:00.000</td><td>Minia</td><td>F</td><td>3100</td><td>112233</td><td>30</td><td>NULL</td><td>NULL</td><td>NULL</td><td>NULL</td></tr><tr><td>Ahmed</td><td>Ali</td><td>112233</td><td>1965-01-01 00:00:00.000</td><td>15 Ali fahmy St.Giza</td><td>M</td><td>1300</td><td>223344</td><td>NULL</td><td>112233</td><td>Hala Saied Ali</td><td>F</td><td>1970-10-18 00:00:00.000</td></tr><tr><td>Hanaa</td><td>Sobhy</td><td>123456</td><td>1973-03-18 00:00:00.000</td><td>38 Abdel Khalik Tharwat St. Downtown.Cairo</td><td>F</td><td>800</td><td>223344</td><td>NULL</td><td>NULL</td><td>NULL</td><td>NULL</td><td>NULL</td></tr><tr><td>Kamel</td><td>Mohamed</td><td>223344</td><td>1970-10-15 00:00:00.000</td><td>38 Mohy el dien abo el Ezz  St.Cairo</td><td>M</td><td>1800</td><td>321654</td><td>10</td><td>223344</td><td>Ahmed Kamel Shawki</td><td>M</td><td>1998-03-27 00:00:00.000</td></tr><tr><td>Kamel</td><td>Mohamed</td><td>223344</td><td>1970-10-15 00:00:00.000</td><td>38 Mohy el dien abo el Ezz  St.Cairo</td><td>M</td><td>1800</td><td>321654</td><td>10</td><td>223344</td><td>Mona Adel Mohamed</td><td>F</td><td>1975-04-25 00:00:00.000</td></tr><tr><td>Amr</td><td>Omran</td><td>321654</td><td>1963-09-14 00:00:00.000</td><td>44 Hilopolis.Cairo</td><td>M</td><td>2500</td><td>NULL</td><td>NULL</td><td>321654</td><td>Omar Amr Omran</td><td>M</td><td>1993-03-30 00:00:00.000</td></tr><tr><td>Amr</td><td>Omran</td><td>321654</td><td>1963-09-14 00:00:00.000</td><td>44 Hilopolis.Cairo</td><td>M</td><td>2500</td><td>NULL</td><td>NULL</td><td>321654</td><td>Ramy Amr Omran</td><td>M</td><td>1990-01-26 00:00:00.000</td></tr><tr><td>Amr</td><td>Omran</td><td>321654</td><td>1963-09-14 00:00:00.000</td><td>44 Hilopolis.Cairo</td><td>M</td><td>2500</td><td>NULL</td><td>NULL</td><td>321654</td><td>Sanaa Gawish</td><td>F</td><td>1973-05-16 00:00:00.000</td></tr><tr><td>Edward</td><td>Hanna</td><td>512463</td><td>1972-08-19 00:00:00.000</td><td>18 Abaas El 3akaad St. Nasr City.Cairo</td><td>M</td><td>1500</td><td>321654</td><td>30</td><td>512463</td><td>Nora Ghaly</td><td>F</td><td>1976-06-22 00:00:00.000</td></tr><tr><td>Edward</td><td>Hanna</td><td>512463</td><td>1972-08-19 00:00:00.000</td><td>18 Abaas El 3akaad St. Nasr City.Cairo</td><td>M</td><td>1500</td><td>321654</td><td>30</td><td>512463</td><td>Sara Edward</td><td>F</td><td>2001-09-15 00:00:00.000</td></tr><tr><td>Maged</td><td>Raoof</td><td>521634</td><td>1980-06-04 00:00:00.000</td><td>18 Kholosi st.Shobra.Cairo</td><td>M</td><td>1000</td><td>968574</td><td>30</td><td>NULL</td><td>NULL</td><td>NULL</td><td>NULL</td></tr><tr><td>Mariam</td><td>Adel</td><td>669955</td><td>1982-12-06 00:00:00.000</td><td>269 El-Haram st. Giza</td><td>F</td><td>750</td><td>512463</td><td>20</td><td>NULL</td><td>NULL</td><td>NULL</td><td>NULL</td></tr><tr><td>Noha</td><td>Mohamed</td><td>968574</td><td>1975-01-02 00:00:00.000</td><td>55 Orabi St. El Mohandiseen .Cairo</td><td>F</td><td>1600</td><td>321654</td><td>20</td><td>NULL</td><td>NULL</td><td>NULL</td><td>NULL</td></tr></table>"
                    },
                    "metadata": {}
                }
            ],
            "execution_count": 2
        },
        {
            "cell_type": "code",
            "source": [
                "--11.For each project, list the project name and the total hours per week (for all employees) spent on that project.\r\n",
                "select proj.Pname, sum(hours)\r\n",
                "from Works_for wf\r\n",
                "join Project proj\r\n",
                "on proj.Pnumber = wf.Pno\r\n",
                "group by Pname\r\n",
                "\r\n",
                ""
            ],
            "metadata": {
                "language": "sql",
                "azdata_cell_guid": "66430ab4-913a-4597-8978-bcfac2d5228d"
            },
            "outputs": [
                {
                    "output_type": "display_data",
                    "data": {
                        "text/html": "(7 rows affected)"
                    },
                    "metadata": {}
                },
                {
                    "output_type": "display_data",
                    "data": {
                        "text/html": "Total execution time: 00:00:00.010"
                    },
                    "metadata": {}
                },
                {
                    "output_type": "execute_result",
                    "execution_count": 3,
                    "data": {
                        "application/vnd.dataresource+json": {
                            "schema": {
                                "fields": [
                                    {
                                        "name": "Pname"
                                    },
                                    {
                                        "name": "(No column name)"
                                    }
                                ]
                            },
                            "data": [
                                {
                                    "Pname": "Al Rabwah",
                                    "(No column name)": "10"
                                },
                                {
                                    "Pname": "Al Rawdah2",
                                    "(No column name)": "36"
                                },
                                {
                                    "Pname": "Al Rehab",
                                    "(No column name)": "30"
                                },
                                {
                                    "Pname": "Al Rowad",
                                    "(No column name)": "39"
                                },
                                {
                                    "Pname": "AL Solimaniah",
                                    "(No column name)": "50"
                                },
                                {
                                    "Pname": "Ebad El Rahman",
                                    "(No column name)": "22"
                                },
                                {
                                    "Pname": "Pitcho american",
                                    "(No column name)": "45"
                                }
                            ]
                        },
                        "text/html": "<table><tr><th>Pname</th><th>(No column name)</th></tr><tr><td>Al Rabwah</td><td>10</td></tr><tr><td>Al Rawdah2</td><td>36</td></tr><tr><td>Al Rehab</td><td>30</td></tr><tr><td>Al Rowad</td><td>39</td></tr><tr><td>AL Solimaniah</td><td>50</td></tr><tr><td>Ebad El Rahman</td><td>22</td></tr><tr><td>Pitcho american</td><td>45</td></tr></table>"
                    },
                    "metadata": {}
                }
            ],
            "execution_count": 3
        },
        {
            "cell_type": "code",
            "source": [
                "---12.Display the data of the department which has the smallest employee ID over all employees' ID.\r\n",
                "select dep.*\r\n",
                "from Employee emp\r\n",
                "join Departments dep\r\n",
                "on dep.Dnum = emp.Dno\r\n",
                "--group by dep.Dnum\r\n",
                "where emp.ssn = (select min(SSN) from Employee)\r\n",
                ""
            ],
            "metadata": {
                "language": "sql",
                "azdata_cell_guid": "00c29d73-4fab-4fd1-a08f-76fed4bf7f7c"
            },
            "outputs": [
                {
                    "output_type": "display_data",
                    "data": {
                        "text/html": "(1 row affected)"
                    },
                    "metadata": {}
                },
                {
                    "output_type": "display_data",
                    "data": {
                        "text/html": "Total execution time: 00:00:00.014"
                    },
                    "metadata": {}
                },
                {
                    "output_type": "execute_result",
                    "execution_count": 4,
                    "data": {
                        "application/vnd.dataresource+json": {
                            "schema": {
                                "fields": [
                                    {
                                        "name": "Dname"
                                    },
                                    {
                                        "name": "Dnum"
                                    },
                                    {
                                        "name": "MGRSSN"
                                    },
                                    {
                                        "name": "MGRStart Date"
                                    }
                                ]
                            },
                            "data": [
                                {
                                    "Dname": "DP3",
                                    "Dnum": "30",
                                    "MGRSSN": "512463",
                                    "MGRStart Date": "2006-01-06 00:00:00.000"
                                }
                            ]
                        },
                        "text/html": "<table><tr><th>Dname</th><th>Dnum</th><th>MGRSSN</th><th>MGRStart Date</th></tr><tr><td>DP3</td><td>30</td><td>512463</td><td>2006-01-06 00:00:00.000</td></tr></table>"
                    },
                    "metadata": {}
                }
            ],
            "execution_count": 4
        },
        {
            "cell_type": "code",
            "source": [
                "---13.\tFor each department, retrieve the department name and the maximum, minimum and average salary of its employees.\r\n",
                "select dep.Dnum ,min(emp.Salary) as MinSalary, max(emp.salary) as MaxSalary\r\n",
                "from Departments dep\r\n",
                "join Employee emp\r\n",
                "on dep.Dnum = emp.Dno\r\n",
                "group by dep.Dnum"
            ],
            "metadata": {
                "azdata_cell_guid": "fa28a6fa-b6b2-432b-8858-41494f64d9e1",
                "language": "sql"
            },
            "outputs": [
                {
                    "output_type": "display_data",
                    "data": {
                        "text/html": "(3 rows affected)"
                    },
                    "metadata": {}
                },
                {
                    "output_type": "display_data",
                    "data": {
                        "text/html": "Total execution time: 00:00:00.016"
                    },
                    "metadata": {}
                },
                {
                    "output_type": "execute_result",
                    "execution_count": 5,
                    "data": {
                        "application/vnd.dataresource+json": {
                            "schema": {
                                "fields": [
                                    {
                                        "name": "Dnum"
                                    },
                                    {
                                        "name": "MinSalary"
                                    },
                                    {
                                        "name": "MaxSalary"
                                    }
                                ]
                            },
                            "data": [
                                {
                                    "Dnum": "10",
                                    "MinSalary": "1800",
                                    "MaxSalary": "1800"
                                },
                                {
                                    "Dnum": "20",
                                    "MinSalary": "750",
                                    "MaxSalary": "1600"
                                },
                                {
                                    "Dnum": "30",
                                    "MinSalary": "1000",
                                    "MaxSalary": "3600"
                                }
                            ]
                        },
                        "text/html": "<table><tr><th>Dnum</th><th>MinSalary</th><th>MaxSalary</th></tr><tr><td>10</td><td>1800</td><td>1800</td></tr><tr><td>20</td><td>750</td><td>1600</td></tr><tr><td>30</td><td>1000</td><td>3600</td></tr></table>"
                    },
                    "metadata": {}
                }
            ],
            "execution_count": 5
        },
        {
            "cell_type": "code",
            "source": [
                "--14.For each department-- if its average salary is less than the average salary of all employees-- display its number, name and \r\n",
                "--number of its employees.\r\n",
                "SELECT d.Dnum, d.Dname, COUNT(e.SSN) AS NumberOfEmployees\r\n",
                "FROM Departments d\r\n",
                "JOIN Employee e \r\n",
                "ON d.Dnum = e.Dno\r\n",
                "GROUP BY d.Dnum, d.Dname\r\n",
                "HAVING AVG(e.Salary) < (\r\n",
                "  SELECT AVG(Salary)\r\n",
                "  FROM Employee\r\n",
                ")"
            ],
            "metadata": {
                "language": "sql",
                "azdata_cell_guid": "7902ed63-023f-4bdd-a9c5-2f92bd6fa34b"
            },
            "outputs": [
                {
                    "output_type": "display_data",
                    "data": {
                        "text/html": "(1 row affected)"
                    },
                    "metadata": {}
                },
                {
                    "output_type": "display_data",
                    "data": {
                        "text/html": "Total execution time: 00:00:00.011"
                    },
                    "metadata": {}
                },
                {
                    "output_type": "execute_result",
                    "execution_count": 6,
                    "data": {
                        "application/vnd.dataresource+json": {
                            "schema": {
                                "fields": [
                                    {
                                        "name": "Dnum"
                                    },
                                    {
                                        "name": "Dname"
                                    },
                                    {
                                        "name": "NumberOfEmployees"
                                    }
                                ]
                            },
                            "data": [
                                {
                                    "Dnum": "20",
                                    "Dname": "DP2",
                                    "NumberOfEmployees": "2"
                                }
                            ]
                        },
                        "text/html": "<table><tr><th>Dnum</th><th>Dname</th><th>NumberOfEmployees</th></tr><tr><td>20</td><td>DP2</td><td>2</td></tr></table>"
                    },
                    "metadata": {}
                }
            ],
            "execution_count": 6
        },
        {
            "cell_type": "code",
            "source": [
                "--15. Try to get the max 2 salaries \r\n",
                "select top 2 salary\r\n",
                "from Employee\r\n",
                "order by Salary desc"
            ],
            "metadata": {
                "azdata_cell_guid": "31a55ae0-91f1-4a17-b3ff-9b8d78e623bb",
                "language": "sql"
            },
            "outputs": [
                {
                    "output_type": "display_data",
                    "data": {
                        "text/html": "(2 rows affected)"
                    },
                    "metadata": {}
                },
                {
                    "output_type": "display_data",
                    "data": {
                        "text/html": "Total execution time: 00:00:00.010"
                    },
                    "metadata": {}
                },
                {
                    "output_type": "execute_result",
                    "execution_count": 7,
                    "data": {
                        "application/vnd.dataresource+json": {
                            "schema": {
                                "fields": [
                                    {
                                        "name": "salary"
                                    }
                                ]
                            },
                            "data": [
                                {
                                    "salary": "3600"
                                },
                                {
                                    "salary": "3100"
                                }
                            ]
                        },
                        "text/html": "<table><tr><th>salary</th></tr><tr><td>3600</td></tr><tr><td>3100</td></tr></table>"
                    },
                    "metadata": {}
                }
            ],
            "execution_count": 7
        }
    ]
}