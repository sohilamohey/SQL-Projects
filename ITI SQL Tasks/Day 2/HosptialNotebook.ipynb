{
    "metadata": {
        "kernelspec": {
            "name": "SQL",
            "display_name": "SQL",
            "language": "sql"
        },
        "language_info": {
            "name": "sql",
            "version": ""
        }
    },
    "nbformat_minor": 2,
    "nbformat": 4,
    "cells": [
        {
            "cell_type": "code",
            "source": [
                "Select * from nurse"
            ],
            "metadata": {
                "azdata_cell_guid": "e1351132-06a0-4221-aca8-f0b46d9f4db1",
                "language": "sql"
            },
            "outputs": [
                {
                    "output_type": "display_data",
                    "data": {
                        "text/html": "(2 rows affected)"
                    },
                    "metadata": {}
                },
                {
                    "output_type": "display_data",
                    "data": {
                        "text/html": "Total execution time: 00:00:00.042"
                    },
                    "metadata": {}
                },
                {
                    "output_type": "execute_result",
                    "metadata": {},
                    "execution_count": 1,
                    "data": {
                        "application/vnd.dataresource+json": {
                            "schema": {
                                "fields": [
                                    {
                                        "name": "n_no"
                                    },
                                    {
                                        "name": "n_name"
                                    },
                                    {
                                        "name": "address"
                                    },
                                    {
                                        "name": "ward_id"
                                    }
                                ]
                            },
                            "data": [
                                {
                                    "n_no": "8",
                                    "n_name": "afaf",
                                    "address": "NULL",
                                    "ward_id": "5"
                                },
                                {
                                    "n_no": "9",
                                    "n_name": "reda",
                                    "address": "NULL",
                                    "ward_id": "6"
                                }
                            ]
                        },
                        "text/html": [
                            "<table>",
                            "<tr><th>n_no</th><th>n_name</th><th>address</th><th>ward_id</th></tr>",
                            "<tr><td>8</td><td>afaf</td><td>NULL</td><td>5</td></tr>",
                            "<tr><td>9</td><td>reda</td><td>NULL</td><td>6</td></tr>",
                            "</table>"
                        ]
                    }
                }
            ],
            "execution_count": 1
        },
        {
            "cell_type": "code",
            "source": [
                "Select * from patient"
            ],
            "metadata": {
                "language": "sql",
                "azdata_cell_guid": "00ab0c5e-d4eb-4a3e-b0e3-aa1702686a76"
            },
            "outputs": [
                {
                    "output_type": "display_data",
                    "data": {
                        "text/html": "(2 rows affected)"
                    },
                    "metadata": {}
                },
                {
                    "output_type": "display_data",
                    "data": {
                        "text/html": "Total execution time: 00:00:00.011"
                    },
                    "metadata": {}
                },
                {
                    "output_type": "execute_result",
                    "metadata": {},
                    "execution_count": 2,
                    "data": {
                        "application/vnd.dataresource+json": {
                            "schema": {
                                "fields": [
                                    {
                                        "name": "PID"
                                    },
                                    {
                                        "name": "p_name"
                                    },
                                    {
                                        "name": "birth_date"
                                    },
                                    {
                                        "name": "CID"
                                    },
                                    {
                                        "name": "ward_id"
                                    }
                                ]
                            },
                            "data": [
                                {
                                    "PID": "1",
                                    "p_name": "Ali",
                                    "birth_date": "NULL",
                                    "CID": "22",
                                    "ward_id": "5"
                                },
                                {
                                    "PID": "2",
                                    "p_name": "Samy",
                                    "birth_date": "1993-02-05",
                                    "CID": "33",
                                    "ward_id": "6"
                                }
                            ]
                        },
                        "text/html": [
                            "<table>",
                            "<tr><th>PID</th><th>p_name</th><th>birth_date</th><th>CID</th><th>ward_id</th></tr>",
                            "<tr><td>1</td><td>Ali</td><td>NULL</td><td>22</td><td>5</td></tr>",
                            "<tr><td>2</td><td>Samy</td><td>1993-02-05</td><td>33</td><td>6</td></tr>",
                            "</table>"
                        ]
                    }
                }
            ],
            "execution_count": 2
        },
        {
            "cell_type": "code",
            "source": [
                "select * from consultant"
            ],
            "metadata": {
                "azdata_cell_guid": "4f748468-d2ec-41d8-ad2a-8805feda11a9",
                "language": "sql"
            },
            "outputs": [
                {
                    "output_type": "display_data",
                    "data": {
                        "text/html": "(2 rows affected)"
                    },
                    "metadata": {}
                },
                {
                    "output_type": "display_data",
                    "data": {
                        "text/html": "Total execution time: 00:00:00.013"
                    },
                    "metadata": {}
                },
                {
                    "output_type": "execute_result",
                    "metadata": {},
                    "execution_count": 3,
                    "data": {
                        "application/vnd.dataresource+json": {
                            "schema": {
                                "fields": [
                                    {
                                        "name": "CID"
                                    },
                                    {
                                        "name": "C_name"
                                    }
                                ]
                            },
                            "data": [
                                {
                                    "CID": "22",
                                    "C_name": "ahmed"
                                },
                                {
                                    "CID": "33",
                                    "C_name": "alia"
                                }
                            ]
                        },
                        "text/html": [
                            "<table>",
                            "<tr><th>CID</th><th>C_name</th></tr>",
                            "<tr><td>22</td><td>ahmed</td></tr>",
                            "<tr><td>33</td><td>alia</td></tr>",
                            "</table>"
                        ]
                    }
                }
            ],
            "execution_count": 3
        },
        {
            "cell_type": "code",
            "source": [
                "select * from drug"
            ],
            "metadata": {
                "language": "sql",
                "azdata_cell_guid": "81c682e0-ee05-4814-85d4-64df8ea20dbd"
            },
            "outputs": [
                {
                    "output_type": "display_data",
                    "data": {
                        "text/html": "(3 rows affected)"
                    },
                    "metadata": {}
                },
                {
                    "output_type": "display_data",
                    "data": {
                        "text/html": "Total execution time: 00:00:00.012"
                    },
                    "metadata": {}
                },
                {
                    "output_type": "execute_result",
                    "metadata": {},
                    "execution_count": 4,
                    "data": {
                        "application/vnd.dataresource+json": {
                            "schema": {
                                "fields": [
                                    {
                                        "name": "drug_no"
                                    },
                                    {
                                        "name": "R_dosage"
                                    }
                                ]
                            },
                            "data": [
                                {
                                    "drug_no": "1",
                                    "R_dosage": "22"
                                },
                                {
                                    "drug_no": "2",
                                    "R_dosage": "23"
                                },
                                {
                                    "drug_no": "3",
                                    "R_dosage": "24"
                                }
                            ]
                        },
                        "text/html": [
                            "<table>",
                            "<tr><th>drug_no</th><th>R_dosage</th></tr>",
                            "<tr><td>1</td><td>22</td></tr>",
                            "<tr><td>2</td><td>23</td></tr>",
                            "<tr><td>3</td><td>24</td></tr>",
                            "</table>"
                        ]
                    }
                }
            ],
            "execution_count": 4
        },
        {
            "cell_type": "code",
            "source": [
                "select * from examine"
            ],
            "metadata": {
                "language": "sql",
                "azdata_cell_guid": "7479e116-1547-4820-b2ed-44ab8f08fe1f"
            },
            "outputs": [
                {
                    "output_type": "display_data",
                    "data": {
                        "text/html": "(2 rows affected)"
                    },
                    "metadata": {}
                },
                {
                    "output_type": "display_data",
                    "data": {
                        "text/html": "Total execution time: 00:00:00.012"
                    },
                    "metadata": {}
                },
                {
                    "output_type": "execute_result",
                    "metadata": {},
                    "execution_count": 5,
                    "data": {
                        "application/vnd.dataresource+json": {
                            "schema": {
                                "fields": [
                                    {
                                        "name": "PID"
                                    },
                                    {
                                        "name": "CID"
                                    }
                                ]
                            },
                            "data": [
                                {
                                    "PID": "1",
                                    "CID": "22"
                                },
                                {
                                    "PID": "2",
                                    "CID": "33"
                                }
                            ]
                        },
                        "text/html": [
                            "<table>",
                            "<tr><th>PID</th><th>CID</th></tr>",
                            "<tr><td>1</td><td>22</td></tr>",
                            "<tr><td>2</td><td>33</td></tr>",
                            "</table>"
                        ]
                    }
                }
            ],
            "execution_count": 5
        },
        {
            "cell_type": "code",
            "source": [
                "select * from give"
            ],
            "metadata": {
                "language": "sql",
                "azdata_cell_guid": "f4e857ac-6af0-4293-94c9-12dbbfe09ba8"
            },
            "outputs": [
                {
                    "output_type": "display_data",
                    "data": {
                        "text/html": "(1 row affected)"
                    },
                    "metadata": {}
                },
                {
                    "output_type": "display_data",
                    "data": {
                        "text/html": "Total execution time: 00:00:00.017"
                    },
                    "metadata": {}
                },
                {
                    "output_type": "execute_result",
                    "metadata": {},
                    "execution_count": 6,
                    "data": {
                        "application/vnd.dataresource+json": {
                            "schema": {
                                "fields": [
                                    {
                                        "name": "n_no"
                                    },
                                    {
                                        "name": "drug_no"
                                    },
                                    {
                                        "name": "date"
                                    },
                                    {
                                        "name": "time"
                                    },
                                    {
                                        "name": "dosage"
                                    },
                                    {
                                        "name": "PID"
                                    }
                                ]
                            },
                            "data": [
                                {
                                    "n_no": "8",
                                    "drug_no": "1",
                                    "date": "2000-01-01",
                                    "time": "10:30:00",
                                    "dosage": "33",
                                    "PID": "1"
                                }
                            ]
                        },
                        "text/html": [
                            "<table>",
                            "<tr><th>n_no</th><th>drug_no</th><th>date</th><th>time</th><th>dosage</th><th>PID</th></tr>",
                            "<tr><td>8</td><td>1</td><td>2000-01-01</td><td>10:30:00</td><td>33</td><td>1</td></tr>",
                            "</table>"
                        ]
                    }
                }
            ],
            "execution_count": 6
        },
        {
            "cell_type": "code",
            "source": [
                "select * from pat"
            ],
            "metadata": {
                "language": "sql",
                "azdata_cell_guid": "98521fc7-0c0f-42ae-a8c7-e445cf900087"
            },
            "outputs": [],
            "execution_count": null
        }
    ]
}