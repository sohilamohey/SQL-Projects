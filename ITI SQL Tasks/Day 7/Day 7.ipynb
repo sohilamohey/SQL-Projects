{
    "metadata": {
        "kernelspec": {
            "name": "SQL",
            "display_name": "SQL",
            "language": "sql"
        },
        "language_info": {
            "name": "sql",
            "version": ""
        }
    },
    "nbformat_minor": 2,
    "nbformat": 4,
    "cells": [
        {
            "cell_type": "code",
            "source": [
                "--1. Create a scalar function that takes a date and returns the Month name of that date. test (‘1/12/2009’)\r\n",
                "create function MonthNameFunc (@InputDate date)\r\n",
                "returns nvarchar(10)\r\n",
                "as\r\n",
                "begin\r\n",
                "\tdeclare @monthName nvarchar(10)\r\n",
                "\tset @monthName = FORMAT(@InputDate, 'MMMM')\r\n",
                "\treturn @monthName\r\n",
                "end"
            ],
            "metadata": {
                "azdata_cell_guid": "6d4ef270-0306-4bb3-99a5-b5697b759c05",
                "language": "sql"
            },
            "outputs": [
                {
                    "output_type": "error",
                    "ename": "",
                    "evalue": "Msg 2714, Level 16, State 3, Procedure MonthNameFunc, Line 2\r\nThere is already an object named 'MonthNameFunc' in the database.",
                    "traceback": []
                },
                {
                    "output_type": "display_data",
                    "data": {
                        "text/html": "Total execution time: 00:00:00.001"
                    },
                    "metadata": {}
                }
            ],
            "execution_count": 2
        },
        {
            "cell_type": "code",
            "source": [
                "declare @InputDate date = '1/12/2009'\r\n",
                "select dbo.MonthNameFunc(@InputDate) as 'MonthName' "
            ],
            "metadata": {
                "azdata_cell_guid": "819f5aee-cc78-4291-b62c-011b14c3ffb2",
                "language": "sql",
                "tags": []
            },
            "outputs": [
                {
                    "output_type": "display_data",
                    "data": {
                        "text/html": "(1 row affected)"
                    },
                    "metadata": {}
                },
                {
                    "output_type": "display_data",
                    "data": {
                        "text/html": "Total execution time: 00:00:00.009"
                    },
                    "metadata": {}
                },
                {
                    "output_type": "execute_result",
                    "execution_count": 17,
                    "data": {
                        "application/vnd.dataresource+json": {
                            "schema": {
                                "fields": [
                                    {
                                        "name": "MonthName"
                                    }
                                ]
                            },
                            "data": [
                                {
                                    "MonthName": "January"
                                }
                            ]
                        },
                        "text/html": "<table><tr><th>MonthName</th></tr><tr><td>January</td></tr></table>"
                    },
                    "metadata": {}
                }
            ],
            "execution_count": 17
        },
        {
            "cell_type": "code",
            "source": [
                "--2. Create a multi-statements table-valued function that takes 2 integers and returns the values between them.\r\n",
                "--just between a and b\r\n",
                "--create or \r\n",
                "alter function dbo.Numbers_from_Start_to_end(@start int, @end int)\r\n",
                "returns @output table(Numbers int)\r\n",
                "as\r\n",
                "begin\r\n",
                "\tdeclare @current int = @start + 1\r\n",
                "\twhile @current < @end\r\n",
                "\tbegin\r\n",
                "\t\t\r\n",
                "\t\tinsert into @output(Numbers) values(@current)\t\t\r\n",
                "\t\tset @current += 1\r\n",
                "\t\t\r\n",
                "\tend\r\n",
                "return\r\n",
                "end"
            ],
            "metadata": {
                "azdata_cell_guid": "3deb5c47-184e-454d-a4b2-d302834363d0",
                "language": "sql"
            },
            "outputs": [
                {
                    "output_type": "display_data",
                    "data": {
                        "text/html": "Commands completed successfully."
                    },
                    "metadata": {}
                },
                {
                    "output_type": "display_data",
                    "data": {
                        "text/html": "Total execution time: 00:00:00.006"
                    },
                    "metadata": {}
                }
            ],
            "execution_count": 20
        },
        {
            "cell_type": "code",
            "source": [
                "select Numbers from dbo.Numbers_from_Start_to_end(1, 12)"
            ],
            "metadata": {
                "azdata_cell_guid": "a7d5326c-d718-49dd-9c8b-aba14aaba2d8",
                "language": "sql"
            },
            "outputs": [
                {
                    "output_type": "display_data",
                    "data": {
                        "text/html": "(10 rows affected)"
                    },
                    "metadata": {}
                },
                {
                    "output_type": "display_data",
                    "data": {
                        "text/html": "Total execution time: 00:00:00.012"
                    },
                    "metadata": {}
                },
                {
                    "output_type": "execute_result",
                    "execution_count": 21,
                    "data": {
                        "application/vnd.dataresource+json": {
                            "schema": {
                                "fields": [
                                    {
                                        "name": "Numbers"
                                    }
                                ]
                            },
                            "data": [
                                {
                                    "Numbers": "2"
                                },
                                {
                                    "Numbers": "3"
                                },
                                {
                                    "Numbers": "4"
                                },
                                {
                                    "Numbers": "5"
                                },
                                {
                                    "Numbers": "6"
                                },
                                {
                                    "Numbers": "7"
                                },
                                {
                                    "Numbers": "8"
                                },
                                {
                                    "Numbers": "9"
                                },
                                {
                                    "Numbers": "10"
                                },
                                {
                                    "Numbers": "11"
                                }
                            ]
                        },
                        "text/html": "<table><tr><th>Numbers</th></tr><tr><td>2</td></tr><tr><td>3</td></tr><tr><td>4</td></tr><tr><td>5</td></tr><tr><td>6</td></tr><tr><td>7</td></tr><tr><td>8</td></tr><tr><td>9</td></tr><tr><td>10</td></tr><tr><td>11</td></tr></table>"
                    },
                    "metadata": {}
                }
            ],
            "execution_count": 21
        },
        {
            "cell_type": "code",
            "source": [
                "--3. Create a tabled valued function that takes Student No and returns Department Name with Student full name.\r\n",
                "\r\n",
                "create or ALTER FUNCTION StudentName_Dep(@id INT)\r\n",
                "RETURNS TABLE\r\n",
                "AS\r\n",
                "RETURN\r\n",
                "(\r\n",
                "    SELECT std.St_Id, std.St_Fname + ' ' + std.St_Lname AS 'Full Name', dep.Dept_Name\r\n",
                "    FROM Student std\r\n",
                "    JOIN Department dep ON dep.Dept_Id = std.Dept_Id\r\n",
                "    WHERE std.St_Id = @id\r\n",
                ")"
            ],
            "metadata": {
                "azdata_cell_guid": "9f357ae3-893d-4695-a5d1-9560aab14e60",
                "language": "sql"
            },
            "outputs": [
                {
                    "output_type": "display_data",
                    "data": {
                        "text/html": "Commands completed successfully."
                    },
                    "metadata": {}
                },
                {
                    "output_type": "display_data",
                    "data": {
                        "text/html": "Total execution time: 00:00:00.004"
                    },
                    "metadata": {}
                }
            ],
            "execution_count": 23
        },
        {
            "cell_type": "code",
            "source": [
                "select * from dbo.StudentName_Dep(1)"
            ],
            "metadata": {
                "language": "sql",
                "azdata_cell_guid": "aca4139f-0666-461a-adf5-ef38ecbb350d"
            },
            "outputs": [
                {
                    "output_type": "display_data",
                    "data": {
                        "text/html": "(1 row affected)"
                    },
                    "metadata": {}
                },
                {
                    "output_type": "display_data",
                    "data": {
                        "text/html": "Total execution time: 00:00:00.006"
                    },
                    "metadata": {}
                },
                {
                    "output_type": "execute_result",
                    "execution_count": 24,
                    "data": {
                        "application/vnd.dataresource+json": {
                            "schema": {
                                "fields": [
                                    {
                                        "name": "St_Id"
                                    },
                                    {
                                        "name": "Full Name"
                                    },
                                    {
                                        "name": "Dept_Name"
                                    }
                                ]
                            },
                            "data": [
                                {
                                    "St_Id": "1",
                                    "Full Name": "Ahmed Hassan    ",
                                    "Dept_Name": "SD"
                                }
                            ]
                        },
                        "text/html": "<table><tr><th>St_Id</th><th>Full Name</th><th>Dept_Name</th></tr><tr><td>1</td><td>Ahmed Hassan    </td><td>SD</td></tr></table>"
                    },
                    "metadata": {}
                }
            ],
            "execution_count": 24
        },
        {
            "cell_type": "code",
            "source": [
                "/*4.\tCreate a scalar function that takes Student ID and returns a message to the user (use Case statement)\r\n",
                "a.\tIf the first name and Last name are null then display 'First name & last name are null'\r\n",
                "b.\tIf the First name is null then display 'first name is null'\r\n",
                "c.\tIf the Last name is null then display 'last name is null'\r\n",
                "d.\tElse display 'First name & last name are not null'*/\r\n",
                "\r\n",
                "create or alter function Message(@id int)\r\n",
                "returns varchar(30)\r\n",
                "begin\r\n",
                "\tdeclare @mess varchar(30)\r\n",
                "\tselect @mess = case\r\n",
                "\t\twhen std.St_Fname is null then 'first name is null'\r\n",
                "\t\twhen std.St_Lname is null then 'last name is null'\r\n",
                "\t\telse 'First name & last name are null'\r\n",
                "\t\tend\r\n",
                "\tfrom Student std\r\n",
                "\twhere std.St_Id = @id\t\r\n",
                "\treturn @mess\r\n",
                "end"
            ],
            "metadata": {
                "azdata_cell_guid": "54c603a5-2da3-4419-931c-8ada2570ca90",
                "language": "sql"
            },
            "outputs": [
                {
                    "output_type": "display_data",
                    "data": {
                        "text/html": "Commands completed successfully."
                    },
                    "metadata": {}
                },
                {
                    "output_type": "display_data",
                    "data": {
                        "text/html": "Total execution time: 00:00:00.003"
                    },
                    "metadata": {}
                }
            ],
            "execution_count": 25
        },
        {
            "cell_type": "code",
            "source": [
                "select dbo.Message(1) as MESSAGE"
            ],
            "metadata": {
                "azdata_cell_guid": "68485817-3a0f-4a87-b1df-2d3ae3fc8b74",
                "language": "sql"
            },
            "outputs": [
                {
                    "output_type": "display_data",
                    "data": {
                        "text/html": "(1 row affected)"
                    },
                    "metadata": {}
                },
                {
                    "output_type": "display_data",
                    "data": {
                        "text/html": "Total execution time: 00:00:00.003"
                    },
                    "metadata": {}
                },
                {
                    "output_type": "execute_result",
                    "execution_count": 27,
                    "data": {
                        "application/vnd.dataresource+json": {
                            "schema": {
                                "fields": [
                                    {
                                        "name": "MESSAGE"
                                    }
                                ]
                            },
                            "data": [
                                {
                                    "MESSAGE": "First name & last name are nul"
                                }
                            ]
                        },
                        "text/html": "<table><tr><th>MESSAGE</th></tr><tr><td>First name &amp; last name are nul</td></tr></table>"
                    },
                    "metadata": {}
                }
            ],
            "execution_count": 27
        },
        {
            "cell_type": "code",
            "source": [
                "/*5.Create a function that takes an integer that represents the format of the Manager hiring date and displays department\r\n",
                "name, Manager Name, and hiring date with this format.  */\r\n",
                "create or alter function Manager(@hiringDate int)\r\n",
                "returns table\r\n",
                "as return\r\n",
                "(\r\n",
                "select dep.Dnum, dep.Dname, dep.MGRSSN, emp.Fname, CONVERT(varchar, dep.[MGRStart Date], @hiringDate) as HiringDate\r\n",
                "from Departments dep\r\n",
                "join Employee emp\r\n",
                "on emp.SSN = dep.MGRSSN\r\n",
                ")"
            ],
            "metadata": {
                "azdata_cell_guid": "513c5be2-57a9-4a1c-8665-70e093b1625e",
                "language": "sql"
            },
            "outputs": [
                {
                    "output_type": "display_data",
                    "data": {
                        "text/html": "Commands completed successfully."
                    },
                    "metadata": {}
                },
                {
                    "output_type": "display_data",
                    "data": {
                        "text/html": "Total execution time: 00:00:00.002"
                    },
                    "metadata": {}
                }
            ],
            "execution_count": 3
        },
        {
            "cell_type": "code",
            "source": [
                "select * from Manager(101)"
            ],
            "metadata": {
                "language": "sql",
                "azdata_cell_guid": "e8d7b411-4d7b-4309-be2c-66dcdbc72fd8"
            },
            "outputs": [
                {
                    "output_type": "display_data",
                    "data": {
                        "text/html": "(3 rows affected)"
                    },
                    "metadata": {}
                },
                {
                    "output_type": "display_data",
                    "data": {
                        "text/html": "Total execution time: 00:00:00.040"
                    },
                    "metadata": {}
                },
                {
                    "output_type": "execute_result",
                    "metadata": {},
                    "execution_count": 2,
                    "data": {
                        "application/vnd.dataresource+json": {
                            "schema": {
                                "fields": [
                                    {
                                        "name": "Dnum"
                                    },
                                    {
                                        "name": "Dname"
                                    },
                                    {
                                        "name": "MGRSSN"
                                    },
                                    {
                                        "name": "Fname"
                                    },
                                    {
                                        "name": "HiringDate"
                                    }
                                ]
                            },
                            "data": [
                                {
                                    "Dnum": "10",
                                    "Dname": "DP1",
                                    "MGRSSN": "223344",
                                    "Fname": "Kamel",
                                    "HiringDate": "10/10/2022"
                                },
                                {
                                    "Dnum": "20",
                                    "Dname": "DP2",
                                    "MGRSSN": "968574",
                                    "Fname": "Noha",
                                    "HiringDate": "01/03/2006"
                                },
                                {
                                    "Dnum": "30",
                                    "Dname": "DP3",
                                    "MGRSSN": "512463",
                                    "Fname": "Edward",
                                    "HiringDate": "01/06/2006"
                                }
                            ]
                        },
                        "text/html": [
                            "<table>",
                            "<tr><th>Dnum</th><th>Dname</th><th>MGRSSN</th><th>Fname</th><th>HiringDate</th></tr>",
                            "<tr><td>10</td><td>DP1</td><td>223344</td><td>Kamel</td><td>10/10/2022</td></tr>",
                            "<tr><td>20</td><td>DP2</td><td>968574</td><td>Noha</td><td>01/03/2006</td></tr>",
                            "<tr><td>30</td><td>DP3</td><td>512463</td><td>Edward</td><td>01/06/2006</td></tr>",
                            "</table>"
                        ]
                    }
                }
            ],
            "execution_count": 2
        },
        {
            "cell_type": "code",
            "source": [
                "select * from Manager(131)"
            ],
            "metadata": {
                "language": "sql",
                "azdata_cell_guid": "799857c5-74b7-4584-ac5d-1e8effa0121d"
            },
            "outputs": [
                {
                    "output_type": "display_data",
                    "data": {
                        "text/html": "(3 rows affected)"
                    },
                    "metadata": {}
                },
                {
                    "output_type": "display_data",
                    "data": {
                        "text/html": "Total execution time: 00:00:00.021"
                    },
                    "metadata": {}
                },
                {
                    "output_type": "execute_result",
                    "metadata": {},
                    "execution_count": 4,
                    "data": {
                        "application/vnd.dataresource+json": {
                            "schema": {
                                "fields": [
                                    {
                                        "name": "Dnum"
                                    },
                                    {
                                        "name": "Dname"
                                    },
                                    {
                                        "name": "MGRSSN"
                                    },
                                    {
                                        "name": "Fname"
                                    },
                                    {
                                        "name": "HiringDate"
                                    }
                                ]
                            },
                            "data": [
                                {
                                    "Dnum": "10",
                                    "Dname": "DP1",
                                    "MGRSSN": "223344",
                                    "Fname": "Kamel",
                                    "HiringDate": "15/03/1444 12:00:00:000AM"
                                },
                                {
                                    "Dnum": "20",
                                    "Dname": "DP2",
                                    "MGRSSN": "968574",
                                    "Fname": "Noha",
                                    "HiringDate": " 3/12/1426 12:00:00:000AM"
                                },
                                {
                                    "Dnum": "30",
                                    "Dname": "DP3",
                                    "MGRSSN": "512463",
                                    "Fname": "Edward",
                                    "HiringDate": " 6/12/1426 12:00:00:000AM"
                                }
                            ]
                        },
                        "text/html": [
                            "<table>",
                            "<tr><th>Dnum</th><th>Dname</th><th>MGRSSN</th><th>Fname</th><th>HiringDate</th></tr>",
                            "<tr><td>10</td><td>DP1</td><td>223344</td><td>Kamel</td><td>15/03/1444 12:00:00:000AM</td></tr>",
                            "<tr><td>20</td><td>DP2</td><td>968574</td><td>Noha</td><td> 3/12/1426 12:00:00:000AM</td></tr>",
                            "<tr><td>30</td><td>DP3</td><td>512463</td><td>Edward</td><td> 6/12/1426 12:00:00:000AM</td></tr>",
                            "</table>"
                        ]
                    }
                }
            ],
            "execution_count": 4
        },
        {
            "cell_type": "code",
            "source": [
                "\r\n",
                "/*6.\tCreate multi-statements table-valued function that takes a string\r\n",
                "If string='first name' returns student first name\r\n",
                "If string='last name' returns student last name \r\n",
                "If string='full name' returns Full Name from student table \r\n",
                "Note: Use the “ISNULL” function\r\n",
                "*/\r\n",
                "\r\n",
                "\r\n",
                "create or alter function Name(@string varchar(20))\r\n",
                "returns @result table (Name varchar(30))\r\n",
                "begin\r\n",
                "\tdeclare @name varchar(30)\r\n",
                "\t\r\n",
                "\tif @string = 'first name' \r\n",
                "\tbegin\r\n",
                "\t\tinsert into @result \r\n",
                "\t\tselect ISNULL(St_Fname, 'No first Name Extists')\r\n",
                "\t\tfrom student\r\n",
                "\tend\t\r\n",
                "\telse if @string = 'last name' \r\n",
                "\tbegin\r\n",
                "\t\tinsert into @result\r\n",
                "\t\tselect ISNULL(St_Lname, 'No last Name Extists' ) \r\n",
                "\t\tfrom Student\r\n",
                "\tend\r\n",
                "\telse if\t@string = 'full name' \r\n",
                "\tbegin\r\n",
                "\t\tinsert into @result\r\n",
                "\t\tselect ISNULL(St_Fname, '') + ' ' +  ISNULL(St_Lname, ' ') as FullName\r\n",
                "\t\tfrom Student\r\n",
                "\tend\r\n",
                "\t\r\n",
                "\treturn\r\n",
                "\tend\r\n",
                ""
            ],
            "metadata": {
                "azdata_cell_guid": "aff9b1b1-145f-47e9-ba82-f3af73cee64a",
                "language": "sql"
            },
            "outputs": [
                {
                    "output_type": "display_data",
                    "data": {
                        "text/html": "Commands completed successfully."
                    },
                    "metadata": {}
                },
                {
                    "output_type": "display_data",
                    "data": {
                        "text/html": "Total execution time: 00:00:00.006"
                    },
                    "metadata": {}
                }
            ],
            "execution_count": 36
        },
        {
            "cell_type": "code",
            "source": [
                "select * from dbo.Name('last name')"
            ],
            "metadata": {
                "azdata_cell_guid": "378bad3e-58c8-4519-b361-a83a1277e9d4",
                "language": "sql"
            },
            "outputs": [
                {
                    "output_type": "display_data",
                    "data": {
                        "text/html": "(15 rows affected)"
                    },
                    "metadata": {}
                },
                {
                    "output_type": "display_data",
                    "data": {
                        "text/html": "Total execution time: 00:00:00.007"
                    },
                    "metadata": {}
                },
                {
                    "output_type": "execute_result",
                    "execution_count": 34,
                    "data": {
                        "application/vnd.dataresource+json": {
                            "schema": {
                                "fields": [
                                    {
                                        "name": "Name"
                                    }
                                ]
                            },
                            "data": [
                                {
                                    "Name": "Hassan    "
                                },
                                {
                                    "Name": "Magdy     "
                                },
                                {
                                    "Name": "Saleh     "
                                },
                                {
                                    "Name": "Mohamed   "
                                },
                                {
                                    "Name": "Moahmed   "
                                },
                                {
                                    "Name": "Farouk    "
                                },
                                {
                                    "Name": "Hussien   "
                                },
                                {
                                    "Name": "Fars      "
                                },
                                {
                                    "Name": "Ahmed     "
                                },
                                {
                                    "Name": "Ali       "
                                },
                                {
                                    "Name": "Ahmed     "
                                },
                                {
                                    "Name": "Omar      "
                                },
                                {
                                    "Name": "No last Na"
                                },
                                {
                                    "Name": "Saleh     "
                                },
                                {
                                    "Name": "No last Na"
                                }
                            ]
                        },
                        "text/html": "<table><tr><th>Name</th></tr><tr><td>Hassan    </td></tr><tr><td>Magdy     </td></tr><tr><td>Saleh     </td></tr><tr><td>Mohamed   </td></tr><tr><td>Moahmed   </td></tr><tr><td>Farouk    </td></tr><tr><td>Hussien   </td></tr><tr><td>Fars      </td></tr><tr><td>Ahmed     </td></tr><tr><td>Ali       </td></tr><tr><td>Ahmed     </td></tr><tr><td>Omar      </td></tr><tr><td>No last Na</td></tr><tr><td>Saleh     </td></tr><tr><td>No last Na</td></tr></table>"
                    },
                    "metadata": {}
                }
            ],
            "execution_count": 34
        },
        {
            "cell_type": "code",
            "source": [
                "select * from dbo.Name('first name')"
            ],
            "metadata": {
                "language": "sql",
                "azdata_cell_guid": "21789891-266d-4a73-870f-9c866008385e"
            },
            "outputs": [
                {
                    "output_type": "display_data",
                    "data": {
                        "text/html": "(15 rows affected)"
                    },
                    "metadata": {}
                },
                {
                    "output_type": "display_data",
                    "data": {
                        "text/html": "Total execution time: 00:00:00.010"
                    },
                    "metadata": {}
                },
                {
                    "output_type": "execute_result",
                    "execution_count": 35,
                    "data": {
                        "application/vnd.dataresource+json": {
                            "schema": {
                                "fields": [
                                    {
                                        "name": "Name"
                                    }
                                ]
                            },
                            "data": [
                                {
                                    "Name": "Ahmed"
                                },
                                {
                                    "Name": "Amr"
                                },
                                {
                                    "Name": "Mona"
                                },
                                {
                                    "Name": "Ahmed"
                                },
                                {
                                    "Name": "Khalid"
                                },
                                {
                                    "Name": "Heba"
                                },
                                {
                                    "Name": "Ali"
                                },
                                {
                                    "Name": "Mohamed"
                                },
                                {
                                    "Name": "Saly"
                                },
                                {
                                    "Name": "Fady"
                                },
                                {
                                    "Name": "Marwa"
                                },
                                {
                                    "Name": "Noha"
                                },
                                {
                                    "Name": "Said"
                                },
                                {
                                    "Name": "No first Name Extist"
                                },
                                {
                                    "Name": "Nada"
                                }
                            ]
                        },
                        "text/html": "<table><tr><th>Name</th></tr><tr><td>Ahmed</td></tr><tr><td>Amr</td></tr><tr><td>Mona</td></tr><tr><td>Ahmed</td></tr><tr><td>Khalid</td></tr><tr><td>Heba</td></tr><tr><td>Ali</td></tr><tr><td>Mohamed</td></tr><tr><td>Saly</td></tr><tr><td>Fady</td></tr><tr><td>Marwa</td></tr><tr><td>Noha</td></tr><tr><td>Said</td></tr><tr><td>No first Name Extist</td></tr><tr><td>Nada</td></tr></table>"
                    },
                    "metadata": {}
                }
            ],
            "execution_count": 35
        },
        {
            "cell_type": "code",
            "source": [
                "select * from dbo.Name('full name')\r\n",
                ""
            ],
            "metadata": {
                "language": "sql",
                "azdata_cell_guid": "9a878e60-5f3d-4c7b-ba0c-3e90e70791b6"
            },
            "outputs": [
                {
                    "output_type": "display_data",
                    "data": {
                        "text/html": "(15 rows affected)"
                    },
                    "metadata": {}
                },
                {
                    "output_type": "display_data",
                    "data": {
                        "text/html": "Total execution time: 00:00:00.007"
                    },
                    "metadata": {}
                },
                {
                    "output_type": "execute_result",
                    "execution_count": 32,
                    "data": {
                        "application/vnd.dataresource+json": {
                            "schema": {
                                "fields": [
                                    {
                                        "name": "Name"
                                    }
                                ]
                            },
                            "data": [
                                {
                                    "Name": "Ahmed Hassan    "
                                },
                                {
                                    "Name": "Amr Magdy     "
                                },
                                {
                                    "Name": "Mona Saleh     "
                                },
                                {
                                    "Name": "Ahmed Mohamed   "
                                },
                                {
                                    "Name": "Khalid Moahmed   "
                                },
                                {
                                    "Name": "Heba Farouk    "
                                },
                                {
                                    "Name": "Ali Hussien   "
                                },
                                {
                                    "Name": "Mohamed Fars      "
                                },
                                {
                                    "Name": "Saly Ahmed     "
                                },
                                {
                                    "Name": "Fady Ali       "
                                },
                                {
                                    "Name": "Marwa Ahmed     "
                                },
                                {
                                    "Name": "Noha Omar      "
                                },
                                {
                                    "Name": "Said           "
                                },
                                {
                                    "Name": " Saleh     "
                                },
                                {
                                    "Name": "Nada           "
                                }
                            ]
                        },
                        "text/html": "<table><tr><th>Name</th></tr><tr><td>Ahmed Hassan    </td></tr><tr><td>Amr Magdy     </td></tr><tr><td>Mona Saleh     </td></tr><tr><td>Ahmed Mohamed   </td></tr><tr><td>Khalid Moahmed   </td></tr><tr><td>Heba Farouk    </td></tr><tr><td>Ali Hussien   </td></tr><tr><td>Mohamed Fars      </td></tr><tr><td>Saly Ahmed     </td></tr><tr><td>Fady Ali       </td></tr><tr><td>Marwa Ahmed     </td></tr><tr><td>Noha Omar      </td></tr><tr><td>Said           </td></tr><tr><td> Saleh     </td></tr><tr><td>Nada           </td></tr></table>"
                    },
                    "metadata": {}
                }
            ],
            "execution_count": 32
        },
        {
            "cell_type": "code",
            "source": [
                "/*\r\n",
                "7.\tWrite a query that returns the Student No and Student first name without the last char\r\n",
                "*/\r\n",
                "select std.St_Id, substring(St_Fname,1, len(St_Fname) - 1)\r\n",
                "from Student std"
            ],
            "metadata": {
                "language": "sql",
                "azdata_cell_guid": "f1b065bc-16ce-4383-b2dc-9e7842abc196"
            },
            "outputs": [
                {
                    "output_type": "display_data",
                    "data": {
                        "text/html": "(15 rows affected)"
                    },
                    "metadata": {}
                },
                {
                    "output_type": "display_data",
                    "data": {
                        "text/html": "Total execution time: 00:00:00.004"
                    },
                    "metadata": {}
                },
                {
                    "output_type": "execute_result",
                    "execution_count": 37,
                    "data": {
                        "application/vnd.dataresource+json": {
                            "schema": {
                                "fields": [
                                    {
                                        "name": "St_Id"
                                    },
                                    {
                                        "name": "(No column name)"
                                    }
                                ]
                            },
                            "data": [
                                {
                                    "St_Id": "1",
                                    "(No column name)": "Ahme"
                                },
                                {
                                    "St_Id": "2",
                                    "(No column name)": "Am"
                                },
                                {
                                    "St_Id": "3",
                                    "(No column name)": "Mon"
                                },
                                {
                                    "St_Id": "4",
                                    "(No column name)": "Ahme"
                                },
                                {
                                    "St_Id": "5",
                                    "(No column name)": "Khali"
                                },
                                {
                                    "St_Id": "6",
                                    "(No column name)": "Heb"
                                },
                                {
                                    "St_Id": "7",
                                    "(No column name)": "Al"
                                },
                                {
                                    "St_Id": "8",
                                    "(No column name)": "Mohame"
                                },
                                {
                                    "St_Id": "9",
                                    "(No column name)": "Sal"
                                },
                                {
                                    "St_Id": "10",
                                    "(No column name)": "Fad"
                                },
                                {
                                    "St_Id": "11",
                                    "(No column name)": "Marw"
                                },
                                {
                                    "St_Id": "12",
                                    "(No column name)": "Noh"
                                },
                                {
                                    "St_Id": "13",
                                    "(No column name)": "Sai"
                                },
                                {
                                    "St_Id": "14",
                                    "(No column name)": "NULL"
                                },
                                {
                                    "St_Id": "23",
                                    "(No column name)": "Nad"
                                }
                            ]
                        },
                        "text/html": "<table><tr><th>St_Id</th><th>(No column name)</th></tr><tr><td>1</td><td>Ahme</td></tr><tr><td>2</td><td>Am</td></tr><tr><td>3</td><td>Mon</td></tr><tr><td>4</td><td>Ahme</td></tr><tr><td>5</td><td>Khali</td></tr><tr><td>6</td><td>Heb</td></tr><tr><td>7</td><td>Al</td></tr><tr><td>8</td><td>Mohame</td></tr><tr><td>9</td><td>Sal</td></tr><tr><td>10</td><td>Fad</td></tr><tr><td>11</td><td>Marw</td></tr><tr><td>12</td><td>Noh</td></tr><tr><td>13</td><td>Sai</td></tr><tr><td>14</td><td>NULL</td></tr><tr><td>23</td><td>Nad</td></tr></table>"
                    },
                    "metadata": {}
                }
            ],
            "execution_count": 37
        },
        {
            "cell_type": "code",
            "source": [
                "/*1. Create a function that takes project number and display all employees in this project*/\r\n",
                "\r\n",
                "create or alter function projectNumber(@projNum int)\r\n",
                "returns table \r\n",
                "as return\r\n",
                "(\r\n",
                "select emp.Fname\r\n",
                "from Employee emp\r\n",
                "join Works_for wf\r\n",
                "on emp.SSN = wf.ESSn\r\n",
                "where wf.Pno = @projNum\r\n",
                ")"
            ],
            "metadata": {
                "language": "sql",
                "azdata_cell_guid": "664b7e53-9896-447c-9261-94c5ccde9fe1"
            },
            "outputs": [
                {
                    "output_type": "display_data",
                    "data": {
                        "text/html": "Commands completed successfully."
                    },
                    "metadata": {}
                },
                {
                    "output_type": "display_data",
                    "data": {
                        "text/html": "Total execution time: 00:00:00.004"
                    },
                    "metadata": {}
                }
            ],
            "execution_count": 39
        },
        {
            "cell_type": "code",
            "source": [
                "select * from projectNumber(100)"
            ],
            "metadata": {
                "language": "sql",
                "azdata_cell_guid": "50f7451a-1e8d-4f34-8a81-f6bef1823667"
            },
            "outputs": [
                {
                    "output_type": "display_data",
                    "data": {
                        "text/html": "(2 rows affected)"
                    },
                    "metadata": {}
                },
                {
                    "output_type": "display_data",
                    "data": {
                        "text/html": "Total execution time: 00:00:00.006"
                    },
                    "metadata": {}
                },
                {
                    "output_type": "execute_result",
                    "execution_count": 40,
                    "data": {
                        "application/vnd.dataresource+json": {
                            "schema": {
                                "fields": [
                                    {
                                        "name": "Fname"
                                    }
                                ]
                            },
                            "data": [
                                {
                                    "Fname": "Ahmed"
                                },
                                {
                                    "Fname": "Kamel"
                                }
                            ]
                        },
                        "text/html": "<table><tr><th>Fname</th></tr><tr><td>Ahmed</td></tr><tr><td>Kamel</td></tr></table>"
                    },
                    "metadata": {}
                }
            ],
            "execution_count": 40
        },
        {
            "cell_type": "code",
            "source": [
                "/*2.write a Query that computes the increment in salary that arises if the salary of employees increased by any value*/\r\n",
                "--Calculate increment of salary by percent\r\n",
                "SELECT ssn, Salary, (Salary * 0.1) AS SalaryIncrement\r\n",
                "FROM Employee;"
            ],
            "metadata": {
                "language": "sql",
                "azdata_cell_guid": "0dfe9ca6-76c9-4612-ba55-b96580029f64"
            },
            "outputs": [
                {
                    "output_type": "display_data",
                    "data": {
                        "text/html": "(10 rows affected)"
                    },
                    "metadata": {}
                },
                {
                    "output_type": "display_data",
                    "data": {
                        "text/html": "Total execution time: 00:00:00.052"
                    },
                    "metadata": {}
                },
                {
                    "output_type": "execute_result",
                    "execution_count": 41,
                    "data": {
                        "application/vnd.dataresource+json": {
                            "schema": {
                                "fields": [
                                    {
                                        "name": "ssn"
                                    },
                                    {
                                        "name": "Salary"
                                    },
                                    {
                                        "name": "SalaryIncrement"
                                    }
                                ]
                            },
                            "data": [
                                {
                                    "ssn": "102672",
                                    "Salary": "3600",
                                    "SalaryIncrement": "360.0"
                                },
                                {
                                    "ssn": "102673",
                                    "Salary": "3100",
                                    "SalaryIncrement": "310.0"
                                },
                                {
                                    "ssn": "112233",
                                    "Salary": "1400",
                                    "SalaryIncrement": "140.0"
                                },
                                {
                                    "ssn": "123456",
                                    "Salary": "800",
                                    "SalaryIncrement": "80.0"
                                },
                                {
                                    "ssn": "223344",
                                    "Salary": "1800",
                                    "SalaryIncrement": "180.0"
                                },
                                {
                                    "ssn": "321654",
                                    "Salary": "2500",
                                    "SalaryIncrement": "250.0"
                                },
                                {
                                    "ssn": "512463",
                                    "Salary": "1500",
                                    "SalaryIncrement": "150.0"
                                },
                                {
                                    "ssn": "521634",
                                    "Salary": "1000",
                                    "SalaryIncrement": "100.0"
                                },
                                {
                                    "ssn": "669955",
                                    "Salary": "750",
                                    "SalaryIncrement": "75.0"
                                },
                                {
                                    "ssn": "968574",
                                    "Salary": "1600",
                                    "SalaryIncrement": "160.0"
                                }
                            ]
                        },
                        "text/html": "<table><tr><th>ssn</th><th>Salary</th><th>SalaryIncrement</th></tr><tr><td>102672</td><td>3600</td><td>360.0</td></tr><tr><td>102673</td><td>3100</td><td>310.0</td></tr><tr><td>112233</td><td>1400</td><td>140.0</td></tr><tr><td>123456</td><td>800</td><td>80.0</td></tr><tr><td>223344</td><td>1800</td><td>180.0</td></tr><tr><td>321654</td><td>2500</td><td>250.0</td></tr><tr><td>512463</td><td>1500</td><td>150.0</td></tr><tr><td>521634</td><td>1000</td><td>100.0</td></tr><tr><td>669955</td><td>750</td><td>75.0</td></tr><tr><td>968574</td><td>1600</td><td>160.0</td></tr></table>"
                    },
                    "metadata": {}
                }
            ],
            "execution_count": 41
        },
        {
            "cell_type": "code",
            "source": [
                "-- create new column named NewSalary and calculate the increment\r\n",
                "alter table employee\r\n",
                "add  NewSalary int\r\n",
                "\r\n",
                "update employee\r\n",
                "SET NewSalary = Salary;\r\n",
                "update Employee\r\n",
                "set NewSalary+=100"
            ],
            "metadata": {
                "azdata_cell_guid": "4b22ff09-4233-47f5-becb-67c78629bc84",
                "language": "sql"
            },
            "outputs": [],
            "execution_count": null
        },
        {
            "cell_type": "code",
            "source": [
                "SELECT ssn, Salary, NewSalary, NewSalary - Salary AS SalaryIncrement\r\n",
                "FROM Employee;"
            ],
            "metadata": {
                "language": "sql",
                "azdata_cell_guid": "cfebce6a-94cc-40e2-9830-1d495a970763"
            },
            "outputs": [
                {
                    "output_type": "display_data",
                    "data": {
                        "text/html": "(10 rows affected)"
                    },
                    "metadata": {}
                },
                {
                    "output_type": "display_data",
                    "data": {
                        "text/html": "Total execution time: 00:00:00.005"
                    },
                    "metadata": {}
                },
                {
                    "output_type": "execute_result",
                    "execution_count": 42,
                    "data": {
                        "application/vnd.dataresource+json": {
                            "schema": {
                                "fields": [
                                    {
                                        "name": "ssn"
                                    },
                                    {
                                        "name": "Salary"
                                    },
                                    {
                                        "name": "NewSalary"
                                    },
                                    {
                                        "name": "SalaryIncrement"
                                    }
                                ]
                            },
                            "data": [
                                {
                                    "ssn": "102672",
                                    "Salary": "3600",
                                    "NewSalary": "3700",
                                    "SalaryIncrement": "100"
                                },
                                {
                                    "ssn": "102673",
                                    "Salary": "3100",
                                    "NewSalary": "3200",
                                    "SalaryIncrement": "100"
                                },
                                {
                                    "ssn": "112233",
                                    "Salary": "1400",
                                    "NewSalary": "1500",
                                    "SalaryIncrement": "100"
                                },
                                {
                                    "ssn": "123456",
                                    "Salary": "800",
                                    "NewSalary": "900",
                                    "SalaryIncrement": "100"
                                },
                                {
                                    "ssn": "223344",
                                    "Salary": "1800",
                                    "NewSalary": "1900",
                                    "SalaryIncrement": "100"
                                },
                                {
                                    "ssn": "321654",
                                    "Salary": "2500",
                                    "NewSalary": "2600",
                                    "SalaryIncrement": "100"
                                },
                                {
                                    "ssn": "512463",
                                    "Salary": "1500",
                                    "NewSalary": "1600",
                                    "SalaryIncrement": "100"
                                },
                                {
                                    "ssn": "521634",
                                    "Salary": "1000",
                                    "NewSalary": "1100",
                                    "SalaryIncrement": "100"
                                },
                                {
                                    "ssn": "669955",
                                    "Salary": "750",
                                    "NewSalary": "850",
                                    "SalaryIncrement": "100"
                                },
                                {
                                    "ssn": "968574",
                                    "Salary": "1600",
                                    "NewSalary": "1700",
                                    "SalaryIncrement": "100"
                                }
                            ]
                        },
                        "text/html": "<table><tr><th>ssn</th><th>Salary</th><th>NewSalary</th><th>SalaryIncrement</th></tr><tr><td>102672</td><td>3600</td><td>3700</td><td>100</td></tr><tr><td>102673</td><td>3100</td><td>3200</td><td>100</td></tr><tr><td>112233</td><td>1400</td><td>1500</td><td>100</td></tr><tr><td>123456</td><td>800</td><td>900</td><td>100</td></tr><tr><td>223344</td><td>1800</td><td>1900</td><td>100</td></tr><tr><td>321654</td><td>2500</td><td>2600</td><td>100</td></tr><tr><td>512463</td><td>1500</td><td>1600</td><td>100</td></tr><tr><td>521634</td><td>1000</td><td>1100</td><td>100</td></tr><tr><td>669955</td><td>750</td><td>850</td><td>100</td></tr><tr><td>968574</td><td>1600</td><td>1700</td><td>100</td></tr></table>"
                    },
                    "metadata": {}
                }
            ],
            "execution_count": 42
        }
    ]
}