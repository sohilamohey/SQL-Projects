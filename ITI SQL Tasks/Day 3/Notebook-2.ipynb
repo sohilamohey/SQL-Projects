{
    "metadata": {
        "kernelspec": {
            "name": "SQL",
            "display_name": "SQL",
            "language": "sql"
        },
        "language_info": {
            "name": "sql",
            "version": ""
        }
    },
    "nbformat_minor": 2,
    "nbformat": 4,
    "cells": [
        {
            "cell_type": "code",
            "source": [
                "select * from Employee"
            ],
            "metadata": {
                "azdata_cell_guid": "1c3fb6b5-785c-4839-9ac0-e62441a334c1",
                "language": "sql"
            },
            "outputs": [
                {
                    "output_type": "display_data",
                    "data": {
                        "text/html": "(8 rows affected)"
                    },
                    "metadata": {}
                },
                {
                    "output_type": "display_data",
                    "data": {
                        "text/html": "Total execution time: 00:00:00.004"
                    },
                    "metadata": {}
                },
                {
                    "output_type": "execute_result",
                    "metadata": {},
                    "execution_count": 4,
                    "data": {
                        "application/vnd.dataresource+json": {
                            "schema": {
                                "fields": [
                                    {
                                        "name": "Fname"
                                    },
                                    {
                                        "name": "Lname"
                                    },
                                    {
                                        "name": "SSN"
                                    },
                                    {
                                        "name": "Bdate"
                                    },
                                    {
                                        "name": "Address"
                                    },
                                    {
                                        "name": "Gender"
                                    },
                                    {
                                        "name": "Salary"
                                    },
                                    {
                                        "name": "Superssn"
                                    },
                                    {
                                        "name": "Dno"
                                    }
                                ]
                            },
                            "data": [
                                {
                                    "Fname": "Ahmed",
                                    "Lname": "Ali",
                                    "SSN": "112233",
                                    "Bdate": "1965-01-01 00:00:00.000",
                                    "Address": "15 Ali fahmy St.Giza",
                                    "Gender": "M",
                                    "Salary": "1300",
                                    "Superssn": "223344",
                                    "Dno": "NULL"
                                },
                                {
                                    "Fname": "Hanaa",
                                    "Lname": "Sobhy",
                                    "SSN": "123456",
                                    "Bdate": "1973-03-18 00:00:00.000",
                                    "Address": "38 Abdel Khalik Tharwat St. Downtown.Cairo",
                                    "Gender": "F",
                                    "Salary": "800",
                                    "Superssn": "223344",
                                    "Dno": "NULL"
                                },
                                {
                                    "Fname": "Kamel",
                                    "Lname": "Mohamed",
                                    "SSN": "223344",
                                    "Bdate": "1970-10-15 00:00:00.000",
                                    "Address": "38 Mohy el dien abo el Ezz  St.Cairo",
                                    "Gender": "M",
                                    "Salary": "1800",
                                    "Superssn": "321654",
                                    "Dno": "10"
                                },
                                {
                                    "Fname": "Amr",
                                    "Lname": "Omran",
                                    "SSN": "321654",
                                    "Bdate": "1963-09-14 00:00:00.000",
                                    "Address": "44 Hilopolis.Cairo",
                                    "Gender": "M",
                                    "Salary": "2500",
                                    "Superssn": "NULL",
                                    "Dno": "NULL"
                                },
                                {
                                    "Fname": "Edward",
                                    "Lname": "Hanna",
                                    "SSN": "512463",
                                    "Bdate": "1972-08-19 00:00:00.000",
                                    "Address": "18 Abaas El 3akaad St. Nasr City.Cairo",
                                    "Gender": "M",
                                    "Salary": "1500",
                                    "Superssn": "321654",
                                    "Dno": "30"
                                },
                                {
                                    "Fname": "Maged",
                                    "Lname": "Raoof",
                                    "SSN": "521634",
                                    "Bdate": "1980-06-04 00:00:00.000",
                                    "Address": "18 Kholosi st.Shobra.Cairo",
                                    "Gender": "M",
                                    "Salary": "1000",
                                    "Superssn": "968574",
                                    "Dno": "30"
                                },
                                {
                                    "Fname": "Mariam",
                                    "Lname": "Adel",
                                    "SSN": "669955",
                                    "Bdate": "1982-12-06 00:00:00.000",
                                    "Address": "269 El-Haram st. Giza",
                                    "Gender": "F",
                                    "Salary": "750",
                                    "Superssn": "512463",
                                    "Dno": "20"
                                },
                                {
                                    "Fname": "Noha",
                                    "Lname": "Mohamed",
                                    "SSN": "968574",
                                    "Bdate": "1975-01-02 00:00:00.000",
                                    "Address": "55 Orabi St. El Mohandiseen .Cairo",
                                    "Gender": "F",
                                    "Salary": "1600",
                                    "Superssn": "321654",
                                    "Dno": "20"
                                }
                            ]
                        },
                        "text/html": [
                            "<table>",
                            "<tr><th>Fname</th><th>Lname</th><th>SSN</th><th>Bdate</th><th>Address</th><th>Gender</th><th>Salary</th><th>Superssn</th><th>Dno</th></tr>",
                            "<tr><td>Ahmed</td><td>Ali</td><td>112233</td><td>1965-01-01 00:00:00.000</td><td>15 Ali fahmy St.Giza</td><td>M</td><td>1300</td><td>223344</td><td>NULL</td></tr>",
                            "<tr><td>Hanaa</td><td>Sobhy</td><td>123456</td><td>1973-03-18 00:00:00.000</td><td>38 Abdel Khalik Tharwat St. Downtown.Cairo</td><td>F</td><td>800</td><td>223344</td><td>NULL</td></tr>",
                            "<tr><td>Kamel</td><td>Mohamed</td><td>223344</td><td>1970-10-15 00:00:00.000</td><td>38 Mohy el dien abo el Ezz  St.Cairo</td><td>M</td><td>1800</td><td>321654</td><td>10</td></tr>",
                            "<tr><td>Amr</td><td>Omran</td><td>321654</td><td>1963-09-14 00:00:00.000</td><td>44 Hilopolis.Cairo</td><td>M</td><td>2500</td><td>NULL</td><td>NULL</td></tr>",
                            "<tr><td>Edward</td><td>Hanna</td><td>512463</td><td>1972-08-19 00:00:00.000</td><td>18 Abaas El 3akaad St. Nasr City.Cairo</td><td>M</td><td>1500</td><td>321654</td><td>30</td></tr>",
                            "<tr><td>Maged</td><td>Raoof</td><td>521634</td><td>1980-06-04 00:00:00.000</td><td>18 Kholosi st.Shobra.Cairo</td><td>M</td><td>1000</td><td>968574</td><td>30</td></tr>",
                            "<tr><td>Mariam</td><td>Adel</td><td>669955</td><td>1982-12-06 00:00:00.000</td><td>269 El-Haram st. Giza</td><td>F</td><td>750</td><td>512463</td><td>20</td></tr>",
                            "<tr><td>Noha</td><td>Mohamed</td><td>968574</td><td>1975-01-02 00:00:00.000</td><td>55 Orabi St. El Mohandiseen .Cairo</td><td>F</td><td>1600</td><td>321654</td><td>20</td></tr>",
                            "</table>"
                        ]
                    }
                }
            ],
            "execution_count": 4
        },
        {
            "cell_type": "code",
            "source": [
                "--DELETE from Employee where Fname = 'Sohila' or Fname = 'Nahe'"
            ],
            "metadata": {
                "azdata_cell_guid": "68d97cf0-5252-4951-a2eb-0ec9ce56b7f9",
                "language": "sql"
            },
            "outputs": [],
            "execution_count": null
        },
        {
            "cell_type": "code",
            "source": [
                "-- 2. Display the employee First name, last name, Salary and Department number\r\n",
                "select Fname, Lname, Salary, Dno\r\n",
                "from Employee"
            ],
            "metadata": {
                "azdata_cell_guid": "f8fda563-5fd6-4993-9560-7acb57480c5c",
                "language": "sql"
            },
            "outputs": [
                {
                    "output_type": "display_data",
                    "data": {
                        "text/html": "(8 rows affected)"
                    },
                    "metadata": {}
                },
                {
                    "output_type": "display_data",
                    "data": {
                        "text/html": "Total execution time: 00:00:00.012"
                    },
                    "metadata": {}
                },
                {
                    "output_type": "execute_result",
                    "metadata": {},
                    "execution_count": 5,
                    "data": {
                        "application/vnd.dataresource+json": {
                            "schema": {
                                "fields": [
                                    {
                                        "name": "Fname"
                                    },
                                    {
                                        "name": "Lname"
                                    },
                                    {
                                        "name": "Salary"
                                    },
                                    {
                                        "name": "Dno"
                                    }
                                ]
                            },
                            "data": [
                                {
                                    "Fname": "Ahmed",
                                    "Lname": "Ali",
                                    "Salary": "1300",
                                    "Dno": "NULL"
                                },
                                {
                                    "Fname": "Hanaa",
                                    "Lname": "Sobhy",
                                    "Salary": "800",
                                    "Dno": "NULL"
                                },
                                {
                                    "Fname": "Kamel",
                                    "Lname": "Mohamed",
                                    "Salary": "1800",
                                    "Dno": "10"
                                },
                                {
                                    "Fname": "Amr",
                                    "Lname": "Omran",
                                    "Salary": "2500",
                                    "Dno": "NULL"
                                },
                                {
                                    "Fname": "Edward",
                                    "Lname": "Hanna",
                                    "Salary": "1500",
                                    "Dno": "30"
                                },
                                {
                                    "Fname": "Maged",
                                    "Lname": "Raoof",
                                    "Salary": "1000",
                                    "Dno": "30"
                                },
                                {
                                    "Fname": "Mariam",
                                    "Lname": "Adel",
                                    "Salary": "750",
                                    "Dno": "20"
                                },
                                {
                                    "Fname": "Noha",
                                    "Lname": "Mohamed",
                                    "Salary": "1600",
                                    "Dno": "20"
                                }
                            ]
                        },
                        "text/html": [
                            "<table>",
                            "<tr><th>Fname</th><th>Lname</th><th>Salary</th><th>Dno</th></tr>",
                            "<tr><td>Ahmed</td><td>Ali</td><td>1300</td><td>NULL</td></tr>",
                            "<tr><td>Hanaa</td><td>Sobhy</td><td>800</td><td>NULL</td></tr>",
                            "<tr><td>Kamel</td><td>Mohamed</td><td>1800</td><td>10</td></tr>",
                            "<tr><td>Amr</td><td>Omran</td><td>2500</td><td>NULL</td></tr>",
                            "<tr><td>Edward</td><td>Hanna</td><td>1500</td><td>30</td></tr>",
                            "<tr><td>Maged</td><td>Raoof</td><td>1000</td><td>30</td></tr>",
                            "<tr><td>Mariam</td><td>Adel</td><td>750</td><td>20</td></tr>",
                            "<tr><td>Noha</td><td>Mohamed</td><td>1600</td><td>20</td></tr>",
                            "</table>"
                        ]
                    }
                }
            ],
            "execution_count": 5
        },
        {
            "cell_type": "code",
            "source": [
                "--3.Display all the projects names, locations and the department which is responsible about it\r\n",
                "select Pname as 'Project Name' , \r\n",
                "       Plocation as [Project Location], \r\n",
                "       Dnum as \"Department Number\" \r\n",
                "from Project"
            ],
            "metadata": {
                "azdata_cell_guid": "bccfb761-21ea-49a1-82ab-cfd406d7ae31",
                "language": "sql"
            },
            "outputs": [
                {
                    "output_type": "display_data",
                    "data": {
                        "text/html": "(7 rows affected)"
                    },
                    "metadata": {}
                },
                {
                    "output_type": "display_data",
                    "data": {
                        "text/html": "Total execution time: 00:00:00.010"
                    },
                    "metadata": {}
                },
                {
                    "output_type": "execute_result",
                    "metadata": {},
                    "execution_count": 6,
                    "data": {
                        "application/vnd.dataresource+json": {
                            "schema": {
                                "fields": [
                                    {
                                        "name": "Project Name"
                                    },
                                    {
                                        "name": "Project Location"
                                    },
                                    {
                                        "name": "Department Number"
                                    }
                                ]
                            },
                            "data": [
                                {
                                    "Project Name": "AL Solimaniah",
                                    "Project Location": "Cairo_Alex Road",
                                    "Department Number": "10"
                                },
                                {
                                    "Project Name": "Al Rabwah",
                                    "Project Location": "6th of October City",
                                    "Department Number": "10"
                                },
                                {
                                    "Project Name": "Al Rawdah",
                                    "Project Location": "Zaied City",
                                    "Department Number": "10"
                                },
                                {
                                    "Project Name": "Al Rowad",
                                    "Project Location": "Cairo_Faiyom Road",
                                    "Department Number": "20"
                                },
                                {
                                    "Project Name": "Al Rehab",
                                    "Project Location": "Nasr City",
                                    "Department Number": "30"
                                },
                                {
                                    "Project Name": "Pitcho american",
                                    "Project Location": "Maady",
                                    "Department Number": "30"
                                },
                                {
                                    "Project Name": "Ebad El Rahman",
                                    "Project Location": "Ring Road",
                                    "Department Number": "20"
                                }
                            ]
                        },
                        "text/html": [
                            "<table>",
                            "<tr><th>Project Name</th><th>Project Location</th><th>Department Number</th></tr>",
                            "<tr><td>AL Solimaniah</td><td>Cairo_Alex Road</td><td>10</td></tr>",
                            "<tr><td>Al Rabwah</td><td>6th of October City</td><td>10</td></tr>",
                            "<tr><td>Al Rawdah</td><td>Zaied City</td><td>10</td></tr>",
                            "<tr><td>Al Rowad</td><td>Cairo_Faiyom Road</td><td>20</td></tr>",
                            "<tr><td>Al Rehab</td><td>Nasr City</td><td>30</td></tr>",
                            "<tr><td>Pitcho american</td><td>Maady</td><td>30</td></tr>",
                            "<tr><td>Ebad El Rahman</td><td>Ring Road</td><td>20</td></tr>",
                            "</table>"
                        ]
                    }
                }
            ],
            "execution_count": 6
        },
        {
            "cell_type": "code",
            "source": [
                "--4. If you know that the company policy is to pay an annual commission for each employee with specific percent \r\n",
                "-- equals 10% of his/her annual salary .\r\n",
                "--Display each employee full name and his annual commission in an ANNUAL COMM column (alias).\r\n",
                "select  Fname + ' ' + Lname as 'Full Name',\r\n",
                "        (Salary * 12) / 10 as 'Annual Commision'\r\n",
                "from Employee"
            ],
            "metadata": {
                "azdata_cell_guid": "bde5450c-fe9c-4b57-9117-6231f726b8a4",
                "language": "sql"
            },
            "outputs": [
                {
                    "output_type": "display_data",
                    "data": {
                        "text/html": "(8 rows affected)"
                    },
                    "metadata": {}
                },
                {
                    "output_type": "display_data",
                    "data": {
                        "text/html": "Total execution time: 00:00:00.010"
                    },
                    "metadata": {}
                },
                {
                    "output_type": "execute_result",
                    "metadata": {},
                    "execution_count": 7,
                    "data": {
                        "application/vnd.dataresource+json": {
                            "schema": {
                                "fields": [
                                    {
                                        "name": "Full Name"
                                    },
                                    {
                                        "name": "Annual Commision"
                                    }
                                ]
                            },
                            "data": [
                                {
                                    "Full Name": "Ahmed Ali",
                                    "Annual Commision": "1560"
                                },
                                {
                                    "Full Name": "Hanaa Sobhy",
                                    "Annual Commision": "960"
                                },
                                {
                                    "Full Name": "Kamel Mohamed",
                                    "Annual Commision": "2160"
                                },
                                {
                                    "Full Name": "Amr Omran",
                                    "Annual Commision": "3000"
                                },
                                {
                                    "Full Name": "Edward Hanna",
                                    "Annual Commision": "1800"
                                },
                                {
                                    "Full Name": "Maged Raoof",
                                    "Annual Commision": "1200"
                                },
                                {
                                    "Full Name": "Mariam Adel",
                                    "Annual Commision": "900"
                                },
                                {
                                    "Full Name": "Noha Mohamed",
                                    "Annual Commision": "1920"
                                }
                            ]
                        },
                        "text/html": [
                            "<table>",
                            "<tr><th>Full Name</th><th>Annual Commision</th></tr>",
                            "<tr><td>Ahmed Ali</td><td>1560</td></tr>",
                            "<tr><td>Hanaa Sobhy</td><td>960</td></tr>",
                            "<tr><td>Kamel Mohamed</td><td>2160</td></tr>",
                            "<tr><td>Amr Omran</td><td>3000</td></tr>",
                            "<tr><td>Edward Hanna</td><td>1800</td></tr>",
                            "<tr><td>Maged Raoof</td><td>1200</td></tr>",
                            "<tr><td>Mariam Adel</td><td>900</td></tr>",
                            "<tr><td>Noha Mohamed</td><td>1920</td></tr>",
                            "</table>"
                        ]
                    }
                }
            ],
            "execution_count": 7
        },
        {
            "cell_type": "code",
            "source": [
                "--5. Display the employees Id, name who earns more than 1000 LE monthly.\r\n",
                "select ssn, Fname + ' ' + Lname as 'Name'\r\n",
                "from Employee\r\n",
                "where Salary > 1000\r\n",
                ""
            ],
            "metadata": {
                "azdata_cell_guid": "3d5a12d4-dace-4972-820a-ef3bdc825b01",
                "language": "sql"
            },
            "outputs": [
                {
                    "output_type": "display_data",
                    "data": {
                        "text/html": "(5 rows affected)"
                    },
                    "metadata": {}
                },
                {
                    "output_type": "display_data",
                    "data": {
                        "text/html": "Total execution time: 00:00:00.011"
                    },
                    "metadata": {}
                },
                {
                    "output_type": "execute_result",
                    "metadata": {},
                    "execution_count": 8,
                    "data": {
                        "application/vnd.dataresource+json": {
                            "schema": {
                                "fields": [
                                    {
                                        "name": "ssn"
                                    },
                                    {
                                        "name": "Name"
                                    }
                                ]
                            },
                            "data": [
                                {
                                    "ssn": "112233",
                                    "Name": "Ahmed Ali"
                                },
                                {
                                    "ssn": "223344",
                                    "Name": "Kamel Mohamed"
                                },
                                {
                                    "ssn": "321654",
                                    "Name": "Amr Omran"
                                },
                                {
                                    "ssn": "512463",
                                    "Name": "Edward Hanna"
                                },
                                {
                                    "ssn": "968574",
                                    "Name": "Noha Mohamed"
                                }
                            ]
                        },
                        "text/html": [
                            "<table>",
                            "<tr><th>ssn</th><th>Name</th></tr>",
                            "<tr><td>112233</td><td>Ahmed Ali</td></tr>",
                            "<tr><td>223344</td><td>Kamel Mohamed</td></tr>",
                            "<tr><td>321654</td><td>Amr Omran</td></tr>",
                            "<tr><td>512463</td><td>Edward Hanna</td></tr>",
                            "<tr><td>968574</td><td>Noha Mohamed</td></tr>",
                            "</table>"
                        ]
                    }
                }
            ],
            "execution_count": 8
        },
        {
            "cell_type": "code",
            "source": [
                "--6.\tDisplay the employees Id, name who earns more than 10000 LE annually.\r\n",
                "select ssn, Fname + ' ' + Lname as 'Name'\r\n",
                "from Employee\r\n",
                "where salary * 12 > 10000"
            ],
            "metadata": {
                "azdata_cell_guid": "6527c389-2f0d-4a0e-8b6d-62aa634678a0",
                "language": "sql"
            },
            "outputs": [
                {
                    "output_type": "display_data",
                    "data": {
                        "text/html": "(6 rows affected)"
                    },
                    "metadata": {}
                },
                {
                    "output_type": "display_data",
                    "data": {
                        "text/html": "Total execution time: 00:00:00.011"
                    },
                    "metadata": {}
                },
                {
                    "output_type": "execute_result",
                    "metadata": {},
                    "execution_count": 9,
                    "data": {
                        "application/vnd.dataresource+json": {
                            "schema": {
                                "fields": [
                                    {
                                        "name": "ssn"
                                    },
                                    {
                                        "name": "Name"
                                    }
                                ]
                            },
                            "data": [
                                {
                                    "ssn": "112233",
                                    "Name": "Ahmed Ali"
                                },
                                {
                                    "ssn": "223344",
                                    "Name": "Kamel Mohamed"
                                },
                                {
                                    "ssn": "321654",
                                    "Name": "Amr Omran"
                                },
                                {
                                    "ssn": "512463",
                                    "Name": "Edward Hanna"
                                },
                                {
                                    "ssn": "521634",
                                    "Name": "Maged Raoof"
                                },
                                {
                                    "ssn": "968574",
                                    "Name": "Noha Mohamed"
                                }
                            ]
                        },
                        "text/html": [
                            "<table>",
                            "<tr><th>ssn</th><th>Name</th></tr>",
                            "<tr><td>112233</td><td>Ahmed Ali</td></tr>",
                            "<tr><td>223344</td><td>Kamel Mohamed</td></tr>",
                            "<tr><td>321654</td><td>Amr Omran</td></tr>",
                            "<tr><td>512463</td><td>Edward Hanna</td></tr>",
                            "<tr><td>521634</td><td>Maged Raoof</td></tr>",
                            "<tr><td>968574</td><td>Noha Mohamed</td></tr>",
                            "</table>"
                        ]
                    }
                }
            ],
            "execution_count": 9
        },
        {
            "cell_type": "code",
            "source": [
                "--7. Display the names and salaries of the female employees \r\n",
                "select Fname + ' ' + Lname as 'Name', Salary\r\n",
                "from employee\r\n",
                "where Gender = 'F'"
            ],
            "metadata": {
                "azdata_cell_guid": "43a32e21-f700-4042-8976-9ea94602beab",
                "language": "sql"
            },
            "outputs": [
                {
                    "output_type": "display_data",
                    "data": {
                        "text/html": "(3 rows affected)"
                    },
                    "metadata": {}
                },
                {
                    "output_type": "display_data",
                    "data": {
                        "text/html": "Total execution time: 00:00:00.009"
                    },
                    "metadata": {}
                },
                {
                    "output_type": "execute_result",
                    "metadata": {},
                    "execution_count": 10,
                    "data": {
                        "application/vnd.dataresource+json": {
                            "schema": {
                                "fields": [
                                    {
                                        "name": "Name"
                                    },
                                    {
                                        "name": "Salary"
                                    }
                                ]
                            },
                            "data": [
                                {
                                    "Name": "Hanaa Sobhy",
                                    "Salary": "800"
                                },
                                {
                                    "Name": "Mariam Adel",
                                    "Salary": "750"
                                },
                                {
                                    "Name": "Noha Mohamed",
                                    "Salary": "1600"
                                }
                            ]
                        },
                        "text/html": [
                            "<table>",
                            "<tr><th>Name</th><th>Salary</th></tr>",
                            "<tr><td>Hanaa Sobhy</td><td>800</td></tr>",
                            "<tr><td>Mariam Adel</td><td>750</td></tr>",
                            "<tr><td>Noha Mohamed</td><td>1600</td></tr>",
                            "</table>"
                        ]
                    }
                }
            ],
            "execution_count": 10
        },
        {
            "cell_type": "code",
            "source": [
                "--8.\tDisplay each department id, name which managed by a manager with id equals 968574.\r\n",
                "SELECT Dnum, Dname\r\n",
                "from Departments\r\n",
                "where MGRSSN = 968574"
            ],
            "metadata": {
                "azdata_cell_guid": "d60eae87-8dc9-4dab-a63e-7bfe1fe596bf",
                "language": "sql",
                "tags": []
            },
            "outputs": [
                {
                    "output_type": "display_data",
                    "data": {
                        "text/html": "(1 row affected)"
                    },
                    "metadata": {}
                },
                {
                    "output_type": "display_data",
                    "data": {
                        "text/html": "Total execution time: 00:00:00.007"
                    },
                    "metadata": {}
                },
                {
                    "output_type": "execute_result",
                    "metadata": {},
                    "execution_count": 11,
                    "data": {
                        "application/vnd.dataresource+json": {
                            "schema": {
                                "fields": [
                                    {
                                        "name": "Dnum"
                                    },
                                    {
                                        "name": "Dname"
                                    }
                                ]
                            },
                            "data": [
                                {
                                    "Dnum": "20",
                                    "Dname": "DP2"
                                }
                            ]
                        },
                        "text/html": [
                            "<table>",
                            "<tr><th>Dnum</th><th>Dname</th></tr>",
                            "<tr><td>20</td><td>DP2</td></tr>",
                            "</table>"
                        ]
                    }
                }
            ],
            "execution_count": 11
        },
        {
            "cell_type": "code",
            "source": [
                "-- 9. Dispaly the ids, names and locations of  the pojects which controled with department 10.\r\n",
                "select Pnumber, Pname, Plocation\r\n",
                "from Project\r\n",
                "where Dnum = 10"
            ],
            "metadata": {
                "azdata_cell_guid": "7cfa05bd-ad69-4bcc-9e41-48eba7f47573",
                "language": "sql",
                "tags": []
            },
            "outputs": [
                {
                    "output_type": "display_data",
                    "data": {
                        "text/html": "(3 rows affected)"
                    },
                    "metadata": {}
                },
                {
                    "output_type": "display_data",
                    "data": {
                        "text/html": "Total execution time: 00:00:00.009"
                    },
                    "metadata": {}
                },
                {
                    "output_type": "execute_result",
                    "metadata": {},
                    "execution_count": 12,
                    "data": {
                        "application/vnd.dataresource+json": {
                            "schema": {
                                "fields": [
                                    {
                                        "name": "Pnumber"
                                    },
                                    {
                                        "name": "Pname"
                                    },
                                    {
                                        "name": "Plocation"
                                    }
                                ]
                            },
                            "data": [
                                {
                                    "Pnumber": "100",
                                    "Pname": "AL Solimaniah",
                                    "Plocation": "Cairo_Alex Road"
                                },
                                {
                                    "Pnumber": "200",
                                    "Pname": "Al Rabwah",
                                    "Plocation": "6th of October City"
                                },
                                {
                                    "Pnumber": "300",
                                    "Pname": "Al Rawdah",
                                    "Plocation": "Zaied City"
                                }
                            ]
                        },
                        "text/html": [
                            "<table>",
                            "<tr><th>Pnumber</th><th>Pname</th><th>Plocation</th></tr>",
                            "<tr><td>100</td><td>AL Solimaniah</td><td>Cairo_Alex Road</td></tr>",
                            "<tr><td>200</td><td>Al Rabwah</td><td>6th of October City</td></tr>",
                            "<tr><td>300</td><td>Al Rawdah</td><td>Zaied City</td></tr>",
                            "</table>"
                        ]
                    }
                }
            ],
            "execution_count": 12
        },
        {
            "cell_type": "code",
            "source": [
                "SELECT * from Employee"
            ],
            "metadata": {
                "azdata_cell_guid": "95c1550f-489a-4e0a-b5d3-803440879d6b",
                "language": "sql"
            },
            "outputs": [
                {
                    "output_type": "display_data",
                    "data": {
                        "text/html": "(8 rows affected)"
                    },
                    "metadata": {}
                },
                {
                    "output_type": "display_data",
                    "data": {
                        "text/html": "Total execution time: 00:00:00.006"
                    },
                    "metadata": {}
                },
                {
                    "output_type": "execute_result",
                    "metadata": {},
                    "execution_count": 13,
                    "data": {
                        "application/vnd.dataresource+json": {
                            "schema": {
                                "fields": [
                                    {
                                        "name": "Fname"
                                    },
                                    {
                                        "name": "Lname"
                                    },
                                    {
                                        "name": "SSN"
                                    },
                                    {
                                        "name": "Bdate"
                                    },
                                    {
                                        "name": "Address"
                                    },
                                    {
                                        "name": "Gender"
                                    },
                                    {
                                        "name": "Salary"
                                    },
                                    {
                                        "name": "Superssn"
                                    },
                                    {
                                        "name": "Dno"
                                    }
                                ]
                            },
                            "data": [
                                {
                                    "Fname": "Ahmed",
                                    "Lname": "Ali",
                                    "SSN": "112233",
                                    "Bdate": "1965-01-01 00:00:00.000",
                                    "Address": "15 Ali fahmy St.Giza",
                                    "Gender": "M",
                                    "Salary": "1300",
                                    "Superssn": "223344",
                                    "Dno": "NULL"
                                },
                                {
                                    "Fname": "Hanaa",
                                    "Lname": "Sobhy",
                                    "SSN": "123456",
                                    "Bdate": "1973-03-18 00:00:00.000",
                                    "Address": "38 Abdel Khalik Tharwat St. Downtown.Cairo",
                                    "Gender": "F",
                                    "Salary": "800",
                                    "Superssn": "223344",
                                    "Dno": "NULL"
                                },
                                {
                                    "Fname": "Kamel",
                                    "Lname": "Mohamed",
                                    "SSN": "223344",
                                    "Bdate": "1970-10-15 00:00:00.000",
                                    "Address": "38 Mohy el dien abo el Ezz  St.Cairo",
                                    "Gender": "M",
                                    "Salary": "1800",
                                    "Superssn": "321654",
                                    "Dno": "10"
                                },
                                {
                                    "Fname": "Amr",
                                    "Lname": "Omran",
                                    "SSN": "321654",
                                    "Bdate": "1963-09-14 00:00:00.000",
                                    "Address": "44 Hilopolis.Cairo",
                                    "Gender": "M",
                                    "Salary": "2500",
                                    "Superssn": "NULL",
                                    "Dno": "NULL"
                                },
                                {
                                    "Fname": "Edward",
                                    "Lname": "Hanna",
                                    "SSN": "512463",
                                    "Bdate": "1972-08-19 00:00:00.000",
                                    "Address": "18 Abaas El 3akaad St. Nasr City.Cairo",
                                    "Gender": "M",
                                    "Salary": "1500",
                                    "Superssn": "321654",
                                    "Dno": "30"
                                },
                                {
                                    "Fname": "Maged",
                                    "Lname": "Raoof",
                                    "SSN": "521634",
                                    "Bdate": "1980-06-04 00:00:00.000",
                                    "Address": "18 Kholosi st.Shobra.Cairo",
                                    "Gender": "M",
                                    "Salary": "1000",
                                    "Superssn": "968574",
                                    "Dno": "30"
                                },
                                {
                                    "Fname": "Mariam",
                                    "Lname": "Adel",
                                    "SSN": "669955",
                                    "Bdate": "1982-12-06 00:00:00.000",
                                    "Address": "269 El-Haram st. Giza",
                                    "Gender": "F",
                                    "Salary": "750",
                                    "Superssn": "512463",
                                    "Dno": "20"
                                },
                                {
                                    "Fname": "Noha",
                                    "Lname": "Mohamed",
                                    "SSN": "968574",
                                    "Bdate": "1975-01-02 00:00:00.000",
                                    "Address": "55 Orabi St. El Mohandiseen .Cairo",
                                    "Gender": "F",
                                    "Salary": "1600",
                                    "Superssn": "321654",
                                    "Dno": "20"
                                }
                            ]
                        },
                        "text/html": [
                            "<table>",
                            "<tr><th>Fname</th><th>Lname</th><th>SSN</th><th>Bdate</th><th>Address</th><th>Gender</th><th>Salary</th><th>Superssn</th><th>Dno</th></tr>",
                            "<tr><td>Ahmed</td><td>Ali</td><td>112233</td><td>1965-01-01 00:00:00.000</td><td>15 Ali fahmy St.Giza</td><td>M</td><td>1300</td><td>223344</td><td>NULL</td></tr>",
                            "<tr><td>Hanaa</td><td>Sobhy</td><td>123456</td><td>1973-03-18 00:00:00.000</td><td>38 Abdel Khalik Tharwat St. Downtown.Cairo</td><td>F</td><td>800</td><td>223344</td><td>NULL</td></tr>",
                            "<tr><td>Kamel</td><td>Mohamed</td><td>223344</td><td>1970-10-15 00:00:00.000</td><td>38 Mohy el dien abo el Ezz  St.Cairo</td><td>M</td><td>1800</td><td>321654</td><td>10</td></tr>",
                            "<tr><td>Amr</td><td>Omran</td><td>321654</td><td>1963-09-14 00:00:00.000</td><td>44 Hilopolis.Cairo</td><td>M</td><td>2500</td><td>NULL</td><td>NULL</td></tr>",
                            "<tr><td>Edward</td><td>Hanna</td><td>512463</td><td>1972-08-19 00:00:00.000</td><td>18 Abaas El 3akaad St. Nasr City.Cairo</td><td>M</td><td>1500</td><td>321654</td><td>30</td></tr>",
                            "<tr><td>Maged</td><td>Raoof</td><td>521634</td><td>1980-06-04 00:00:00.000</td><td>18 Kholosi st.Shobra.Cairo</td><td>M</td><td>1000</td><td>968574</td><td>30</td></tr>",
                            "<tr><td>Mariam</td><td>Adel</td><td>669955</td><td>1982-12-06 00:00:00.000</td><td>269 El-Haram st. Giza</td><td>F</td><td>750</td><td>512463</td><td>20</td></tr>",
                            "<tr><td>Noha</td><td>Mohamed</td><td>968574</td><td>1975-01-02 00:00:00.000</td><td>55 Orabi St. El Mohandiseen .Cairo</td><td>F</td><td>1600</td><td>321654</td><td>20</td></tr>",
                            "</table>"
                        ]
                    }
                }
            ],
            "execution_count": 13
        },
        {
            "cell_type": "code",
            "source": [
                "--1. Insert your personal data to the employee table as a new employee in department number 30, SSN = 102672,\r\n",
                "-- Superssn = 112233, salary=3000.\r\n",
                "Insert into Employee values('Sohila', 'Mohey', 102672, 8-4-2001, 'Abo Qurkas, Minia', 'F', 3000, 112233, 30)"
            ],
            "metadata": {
                "azdata_cell_guid": "c87ce243-58df-4c12-9abe-a5fa67f2770f",
                "language": "sql"
            },
            "outputs": [
                {
                    "output_type": "display_data",
                    "data": {
                        "text/html": "(1 row affected)"
                    },
                    "metadata": {}
                },
                {
                    "output_type": "display_data",
                    "data": {
                        "text/html": "Total execution time: 00:00:00.004"
                    },
                    "metadata": {}
                }
            ],
            "execution_count": 14
        },
        {
            "cell_type": "code",
            "source": [
                "SELECT * from Employee\r\n",
                ""
            ],
            "metadata": {
                "language": "sql",
                "azdata_cell_guid": "9d13d8d4-04a3-443d-87da-c22bd233ad23"
            },
            "outputs": [
                {
                    "output_type": "display_data",
                    "data": {
                        "text/html": "(9 rows affected)"
                    },
                    "metadata": {}
                },
                {
                    "output_type": "display_data",
                    "data": {
                        "text/html": "Total execution time: 00:00:00.009"
                    },
                    "metadata": {}
                },
                {
                    "output_type": "execute_result",
                    "metadata": {},
                    "execution_count": 15,
                    "data": {
                        "application/vnd.dataresource+json": {
                            "schema": {
                                "fields": [
                                    {
                                        "name": "Fname"
                                    },
                                    {
                                        "name": "Lname"
                                    },
                                    {
                                        "name": "SSN"
                                    },
                                    {
                                        "name": "Bdate"
                                    },
                                    {
                                        "name": "Address"
                                    },
                                    {
                                        "name": "Gender"
                                    },
                                    {
                                        "name": "Salary"
                                    },
                                    {
                                        "name": "Superssn"
                                    },
                                    {
                                        "name": "Dno"
                                    }
                                ]
                            },
                            "data": [
                                {
                                    "Fname": "Sohila",
                                    "Lname": "Mohey",
                                    "SSN": "102672",
                                    "Bdate": "1894-07-14 00:00:00.000",
                                    "Address": "Abo Qurkas, Minia",
                                    "Gender": "F",
                                    "Salary": "3000",
                                    "Superssn": "112233",
                                    "Dno": "30"
                                },
                                {
                                    "Fname": "Ahmed",
                                    "Lname": "Ali",
                                    "SSN": "112233",
                                    "Bdate": "1965-01-01 00:00:00.000",
                                    "Address": "15 Ali fahmy St.Giza",
                                    "Gender": "M",
                                    "Salary": "1300",
                                    "Superssn": "223344",
                                    "Dno": "NULL"
                                },
                                {
                                    "Fname": "Hanaa",
                                    "Lname": "Sobhy",
                                    "SSN": "123456",
                                    "Bdate": "1973-03-18 00:00:00.000",
                                    "Address": "38 Abdel Khalik Tharwat St. Downtown.Cairo",
                                    "Gender": "F",
                                    "Salary": "800",
                                    "Superssn": "223344",
                                    "Dno": "NULL"
                                },
                                {
                                    "Fname": "Kamel",
                                    "Lname": "Mohamed",
                                    "SSN": "223344",
                                    "Bdate": "1970-10-15 00:00:00.000",
                                    "Address": "38 Mohy el dien abo el Ezz  St.Cairo",
                                    "Gender": "M",
                                    "Salary": "1800",
                                    "Superssn": "321654",
                                    "Dno": "10"
                                },
                                {
                                    "Fname": "Amr",
                                    "Lname": "Omran",
                                    "SSN": "321654",
                                    "Bdate": "1963-09-14 00:00:00.000",
                                    "Address": "44 Hilopolis.Cairo",
                                    "Gender": "M",
                                    "Salary": "2500",
                                    "Superssn": "NULL",
                                    "Dno": "NULL"
                                },
                                {
                                    "Fname": "Edward",
                                    "Lname": "Hanna",
                                    "SSN": "512463",
                                    "Bdate": "1972-08-19 00:00:00.000",
                                    "Address": "18 Abaas El 3akaad St. Nasr City.Cairo",
                                    "Gender": "M",
                                    "Salary": "1500",
                                    "Superssn": "321654",
                                    "Dno": "30"
                                },
                                {
                                    "Fname": "Maged",
                                    "Lname": "Raoof",
                                    "SSN": "521634",
                                    "Bdate": "1980-06-04 00:00:00.000",
                                    "Address": "18 Kholosi st.Shobra.Cairo",
                                    "Gender": "M",
                                    "Salary": "1000",
                                    "Superssn": "968574",
                                    "Dno": "30"
                                },
                                {
                                    "Fname": "Mariam",
                                    "Lname": "Adel",
                                    "SSN": "669955",
                                    "Bdate": "1982-12-06 00:00:00.000",
                                    "Address": "269 El-Haram st. Giza",
                                    "Gender": "F",
                                    "Salary": "750",
                                    "Superssn": "512463",
                                    "Dno": "20"
                                },
                                {
                                    "Fname": "Noha",
                                    "Lname": "Mohamed",
                                    "SSN": "968574",
                                    "Bdate": "1975-01-02 00:00:00.000",
                                    "Address": "55 Orabi St. El Mohandiseen .Cairo",
                                    "Gender": "F",
                                    "Salary": "1600",
                                    "Superssn": "321654",
                                    "Dno": "20"
                                }
                            ]
                        },
                        "text/html": [
                            "<table>",
                            "<tr><th>Fname</th><th>Lname</th><th>SSN</th><th>Bdate</th><th>Address</th><th>Gender</th><th>Salary</th><th>Superssn</th><th>Dno</th></tr>",
                            "<tr><td>Sohila</td><td>Mohey</td><td>102672</td><td>1894-07-14 00:00:00.000</td><td>Abo Qurkas, Minia</td><td>F</td><td>3000</td><td>112233</td><td>30</td></tr>",
                            "<tr><td>Ahmed</td><td>Ali</td><td>112233</td><td>1965-01-01 00:00:00.000</td><td>15 Ali fahmy St.Giza</td><td>M</td><td>1300</td><td>223344</td><td>NULL</td></tr>",
                            "<tr><td>Hanaa</td><td>Sobhy</td><td>123456</td><td>1973-03-18 00:00:00.000</td><td>38 Abdel Khalik Tharwat St. Downtown.Cairo</td><td>F</td><td>800</td><td>223344</td><td>NULL</td></tr>",
                            "<tr><td>Kamel</td><td>Mohamed</td><td>223344</td><td>1970-10-15 00:00:00.000</td><td>38 Mohy el dien abo el Ezz  St.Cairo</td><td>M</td><td>1800</td><td>321654</td><td>10</td></tr>",
                            "<tr><td>Amr</td><td>Omran</td><td>321654</td><td>1963-09-14 00:00:00.000</td><td>44 Hilopolis.Cairo</td><td>M</td><td>2500</td><td>NULL</td><td>NULL</td></tr>",
                            "<tr><td>Edward</td><td>Hanna</td><td>512463</td><td>1972-08-19 00:00:00.000</td><td>18 Abaas El 3akaad St. Nasr City.Cairo</td><td>M</td><td>1500</td><td>321654</td><td>30</td></tr>",
                            "<tr><td>Maged</td><td>Raoof</td><td>521634</td><td>1980-06-04 00:00:00.000</td><td>18 Kholosi st.Shobra.Cairo</td><td>M</td><td>1000</td><td>968574</td><td>30</td></tr>",
                            "<tr><td>Mariam</td><td>Adel</td><td>669955</td><td>1982-12-06 00:00:00.000</td><td>269 El-Haram st. Giza</td><td>F</td><td>750</td><td>512463</td><td>20</td></tr>",
                            "<tr><td>Noha</td><td>Mohamed</td><td>968574</td><td>1975-01-02 00:00:00.000</td><td>55 Orabi St. El Mohandiseen .Cairo</td><td>F</td><td>1600</td><td>321654</td><td>20</td></tr>",
                            "</table>"
                        ]
                    }
                }
            ],
            "execution_count": 15
        },
        {
            "cell_type": "code",
            "source": [
                "--2. Insert another employee with personal data your friend as new employee in department number 30, SSN = 102660, \r\n",
                "--but don’t enter any value for salary or manager number to him.\r\n",
                "Insert into Employee values('Nahe', 'Ahmed', 102673, 7-11-2000, 'Minia', 'F', 3100, 112233, 30)"
            ],
            "metadata": {
                "language": "sql",
                "azdata_cell_guid": "dcd25091-7ce0-4899-abeb-af5e02805127"
            },
            "outputs": [
                {
                    "output_type": "display_data",
                    "data": {
                        "text/html": "(1 row affected)"
                    },
                    "metadata": {}
                },
                {
                    "output_type": "display_data",
                    "data": {
                        "text/html": "Total execution time: 00:00:00.002"
                    },
                    "metadata": {}
                }
            ],
            "execution_count": 16
        },
        {
            "cell_type": "code",
            "source": [
                "select * from Employee"
            ],
            "metadata": {
                "language": "sql",
                "azdata_cell_guid": "628bdb00-00c8-4142-99ff-c313aeb0154c"
            },
            "outputs": [
                {
                    "output_type": "display_data",
                    "data": {
                        "text/html": "(10 rows affected)"
                    },
                    "metadata": {}
                },
                {
                    "output_type": "display_data",
                    "data": {
                        "text/html": "Total execution time: 00:00:00.008"
                    },
                    "metadata": {}
                },
                {
                    "output_type": "execute_result",
                    "metadata": {},
                    "execution_count": 19,
                    "data": {
                        "application/vnd.dataresource+json": {
                            "schema": {
                                "fields": [
                                    {
                                        "name": "Fname"
                                    },
                                    {
                                        "name": "Lname"
                                    },
                                    {
                                        "name": "SSN"
                                    },
                                    {
                                        "name": "Bdate"
                                    },
                                    {
                                        "name": "Address"
                                    },
                                    {
                                        "name": "Gender"
                                    },
                                    {
                                        "name": "Salary"
                                    },
                                    {
                                        "name": "Superssn"
                                    },
                                    {
                                        "name": "Dno"
                                    }
                                ]
                            },
                            "data": [
                                {
                                    "Fname": "Sohila",
                                    "Lname": "Mohey",
                                    "SSN": "102672",
                                    "Bdate": "1894-07-14 00:00:00.000",
                                    "Address": "Abo Qurkas, Minia",
                                    "Gender": "F",
                                    "Salary": "3600",
                                    "Superssn": "112233",
                                    "Dno": "30"
                                },
                                {
                                    "Fname": "Nahe",
                                    "Lname": "Ahmed",
                                    "SSN": "102673",
                                    "Bdate": "1894-07-07 00:00:00.000",
                                    "Address": "Minia",
                                    "Gender": "F",
                                    "Salary": "3100",
                                    "Superssn": "112233",
                                    "Dno": "30"
                                },
                                {
                                    "Fname": "Ahmed",
                                    "Lname": "Ali",
                                    "SSN": "112233",
                                    "Bdate": "1965-01-01 00:00:00.000",
                                    "Address": "15 Ali fahmy St.Giza",
                                    "Gender": "M",
                                    "Salary": "1300",
                                    "Superssn": "223344",
                                    "Dno": "NULL"
                                },
                                {
                                    "Fname": "Hanaa",
                                    "Lname": "Sobhy",
                                    "SSN": "123456",
                                    "Bdate": "1973-03-18 00:00:00.000",
                                    "Address": "38 Abdel Khalik Tharwat St. Downtown.Cairo",
                                    "Gender": "F",
                                    "Salary": "800",
                                    "Superssn": "223344",
                                    "Dno": "NULL"
                                },
                                {
                                    "Fname": "Kamel",
                                    "Lname": "Mohamed",
                                    "SSN": "223344",
                                    "Bdate": "1970-10-15 00:00:00.000",
                                    "Address": "38 Mohy el dien abo el Ezz  St.Cairo",
                                    "Gender": "M",
                                    "Salary": "1800",
                                    "Superssn": "321654",
                                    "Dno": "10"
                                },
                                {
                                    "Fname": "Amr",
                                    "Lname": "Omran",
                                    "SSN": "321654",
                                    "Bdate": "1963-09-14 00:00:00.000",
                                    "Address": "44 Hilopolis.Cairo",
                                    "Gender": "M",
                                    "Salary": "2500",
                                    "Superssn": "NULL",
                                    "Dno": "NULL"
                                },
                                {
                                    "Fname": "Edward",
                                    "Lname": "Hanna",
                                    "SSN": "512463",
                                    "Bdate": "1972-08-19 00:00:00.000",
                                    "Address": "18 Abaas El 3akaad St. Nasr City.Cairo",
                                    "Gender": "M",
                                    "Salary": "1500",
                                    "Superssn": "321654",
                                    "Dno": "30"
                                },
                                {
                                    "Fname": "Maged",
                                    "Lname": "Raoof",
                                    "SSN": "521634",
                                    "Bdate": "1980-06-04 00:00:00.000",
                                    "Address": "18 Kholosi st.Shobra.Cairo",
                                    "Gender": "M",
                                    "Salary": "1000",
                                    "Superssn": "968574",
                                    "Dno": "30"
                                },
                                {
                                    "Fname": "Mariam",
                                    "Lname": "Adel",
                                    "SSN": "669955",
                                    "Bdate": "1982-12-06 00:00:00.000",
                                    "Address": "269 El-Haram st. Giza",
                                    "Gender": "F",
                                    "Salary": "750",
                                    "Superssn": "512463",
                                    "Dno": "20"
                                },
                                {
                                    "Fname": "Noha",
                                    "Lname": "Mohamed",
                                    "SSN": "968574",
                                    "Bdate": "1975-01-02 00:00:00.000",
                                    "Address": "55 Orabi St. El Mohandiseen .Cairo",
                                    "Gender": "F",
                                    "Salary": "1600",
                                    "Superssn": "321654",
                                    "Dno": "20"
                                }
                            ]
                        },
                        "text/html": [
                            "<table>",
                            "<tr><th>Fname</th><th>Lname</th><th>SSN</th><th>Bdate</th><th>Address</th><th>Gender</th><th>Salary</th><th>Superssn</th><th>Dno</th></tr>",
                            "<tr><td>Sohila</td><td>Mohey</td><td>102672</td><td>1894-07-14 00:00:00.000</td><td>Abo Qurkas, Minia</td><td>F</td><td>3600</td><td>112233</td><td>30</td></tr>",
                            "<tr><td>Nahe</td><td>Ahmed</td><td>102673</td><td>1894-07-07 00:00:00.000</td><td>Minia</td><td>F</td><td>3100</td><td>112233</td><td>30</td></tr>",
                            "<tr><td>Ahmed</td><td>Ali</td><td>112233</td><td>1965-01-01 00:00:00.000</td><td>15 Ali fahmy St.Giza</td><td>M</td><td>1300</td><td>223344</td><td>NULL</td></tr>",
                            "<tr><td>Hanaa</td><td>Sobhy</td><td>123456</td><td>1973-03-18 00:00:00.000</td><td>38 Abdel Khalik Tharwat St. Downtown.Cairo</td><td>F</td><td>800</td><td>223344</td><td>NULL</td></tr>",
                            "<tr><td>Kamel</td><td>Mohamed</td><td>223344</td><td>1970-10-15 00:00:00.000</td><td>38 Mohy el dien abo el Ezz  St.Cairo</td><td>M</td><td>1800</td><td>321654</td><td>10</td></tr>",
                            "<tr><td>Amr</td><td>Omran</td><td>321654</td><td>1963-09-14 00:00:00.000</td><td>44 Hilopolis.Cairo</td><td>M</td><td>2500</td><td>NULL</td><td>NULL</td></tr>",
                            "<tr><td>Edward</td><td>Hanna</td><td>512463</td><td>1972-08-19 00:00:00.000</td><td>18 Abaas El 3akaad St. Nasr City.Cairo</td><td>M</td><td>1500</td><td>321654</td><td>30</td></tr>",
                            "<tr><td>Maged</td><td>Raoof</td><td>521634</td><td>1980-06-04 00:00:00.000</td><td>18 Kholosi st.Shobra.Cairo</td><td>M</td><td>1000</td><td>968574</td><td>30</td></tr>",
                            "<tr><td>Mariam</td><td>Adel</td><td>669955</td><td>1982-12-06 00:00:00.000</td><td>269 El-Haram st. Giza</td><td>F</td><td>750</td><td>512463</td><td>20</td></tr>",
                            "<tr><td>Noha</td><td>Mohamed</td><td>968574</td><td>1975-01-02 00:00:00.000</td><td>55 Orabi St. El Mohandiseen .Cairo</td><td>F</td><td>1600</td><td>321654</td><td>20</td></tr>",
                            "</table>"
                        ]
                    }
                }
            ],
            "execution_count": 19
        },
        {
            "cell_type": "code",
            "source": [
                "-- 3.Upgrade your salary by 20 % of its last value.\r\n",
                "update employee\r\n",
                "set Salary = (salary + (salary /5))\r\n",
                "-- set Salary = (salary + (salary * .2))--\r\n",
                "where ssn = 102672\r\n",
                ""
            ],
            "metadata": {
                "language": "sql",
                "azdata_cell_guid": "ea16ba36-97f4-4e6c-8871-e15f8c5bce61"
            },
            "outputs": [
                {
                    "output_type": "display_data",
                    "data": {
                        "text/html": "(1 row affected)"
                    },
                    "metadata": {}
                },
                {
                    "output_type": "display_data",
                    "data": {
                        "text/html": "Total execution time: 00:00:00.004"
                    },
                    "metadata": {}
                }
            ],
            "execution_count": 17
        },
        {
            "cell_type": "code",
            "source": [
                "select * \r\n",
                "from Employee\r\n",
                "where ssn = 102672"
            ],
            "metadata": {
                "language": "sql",
                "azdata_cell_guid": "b3a7154c-dc7a-4f67-91b9-74f1fbdb8795"
            },
            "outputs": [
                {
                    "output_type": "display_data",
                    "data": {
                        "text/html": "(1 row affected)"
                    },
                    "metadata": {}
                },
                {
                    "output_type": "display_data",
                    "data": {
                        "text/html": "Total execution time: 00:00:00.010"
                    },
                    "metadata": {}
                },
                {
                    "output_type": "execute_result",
                    "metadata": {},
                    "execution_count": 18,
                    "data": {
                        "application/vnd.dataresource+json": {
                            "schema": {
                                "fields": [
                                    {
                                        "name": "Fname"
                                    },
                                    {
                                        "name": "Lname"
                                    },
                                    {
                                        "name": "SSN"
                                    },
                                    {
                                        "name": "Bdate"
                                    },
                                    {
                                        "name": "Address"
                                    },
                                    {
                                        "name": "Gender"
                                    },
                                    {
                                        "name": "Salary"
                                    },
                                    {
                                        "name": "Superssn"
                                    },
                                    {
                                        "name": "Dno"
                                    }
                                ]
                            },
                            "data": [
                                {
                                    "Fname": "Sohila",
                                    "Lname": "Mohey",
                                    "SSN": "102672",
                                    "Bdate": "1894-07-14 00:00:00.000",
                                    "Address": "Abo Qurkas, Minia",
                                    "Gender": "F",
                                    "Salary": "3600",
                                    "Superssn": "112233",
                                    "Dno": "30"
                                }
                            ]
                        },
                        "text/html": [
                            "<table>",
                            "<tr><th>Fname</th><th>Lname</th><th>SSN</th><th>Bdate</th><th>Address</th><th>Gender</th><th>Salary</th><th>Superssn</th><th>Dno</th></tr>",
                            "<tr><td>Sohila</td><td>Mohey</td><td>102672</td><td>1894-07-14 00:00:00.000</td><td>Abo Qurkas, Minia</td><td>F</td><td>3600</td><td>112233</td><td>30</td></tr>",
                            "</table>"
                        ]
                    }
                }
            ],
            "execution_count": 18
        }
    ]
}