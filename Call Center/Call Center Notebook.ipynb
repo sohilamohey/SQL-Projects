{
    "cells": [
        {
            "cell_type": "markdown",
            "metadata": {},
            "source": [
                "## Data Preprocessing"
            ]
        },
        {
            "cell_type": "code",
            "execution_count": null,
            "metadata": {
                "azdata_cell_guid": "3c0a3556-9c6c-44ea-9af8-595879ccafc4",
                "language": "sql"
            },
            "outputs": [
                {
                    "data": {
                        "text/html": [
                            "(10 rows affected)"
                        ]
                    },
                    "metadata": {},
                    "output_type": "display_data"
                },
                {
                    "data": {
                        "text/html": [
                            "Total execution time: 00:00:00.029"
                        ]
                    },
                    "metadata": {},
                    "output_type": "display_data"
                },
                {
                    "data": {
                        "application/vnd.dataresource+json": {
                            "data": [
                                {
                                    "call_center": "Los Angeles/CA",
                                    "call_duration_in_minutes": "17",
                                    "call_timestamp": "2020-10-29",
                                    "channel": "Call-Center",
                                    "city": "Detroit",
                                    "csat_score": "7",
                                    "customer_name": "Analise Gairdner",
                                    "id": "DKK-57076809-w-055481-fU",
                                    "reason": "Billing Question",
                                    "response_time": "Within SLA",
                                    "sentiment": "Neutral",
                                    "state": "Michigan"
                                },
                                {
                                    "call_center": "Baltimore/MD",
                                    "call_duration_in_minutes": "23",
                                    "call_timestamp": "2020-10-05",
                                    "channel": "Chatbot",
                                    "city": "Spartanburg",
                                    "csat_score": "NULL",
                                    "customer_name": "Crichton Kidsley",
                                    "id": "QGK-72219678-w-102139-KY",
                                    "reason": "Service Outage",
                                    "response_time": "Within SLA",
                                    "sentiment": "Very Positive",
                                    "state": "South Carolina"
                                },
                                {
                                    "call_center": "Los Angeles/CA",
                                    "call_duration_in_minutes": "45",
                                    "call_timestamp": "2020-10-04",
                                    "channel": "Call-Center",
                                    "city": "Gainesville",
                                    "csat_score": "NULL",
                                    "customer_name": "Averill Brundrett",
                                    "id": "GYJ-30025932-A-023015-LD",
                                    "reason": "Billing Question",
                                    "response_time": "Above SLA",
                                    "sentiment": "Negative",
                                    "state": "Florida"
                                },
                                {
                                    "call_center": "Los Angeles/CA",
                                    "call_duration_in_minutes": "12",
                                    "call_timestamp": "2020-10-17",
                                    "channel": "Chatbot",
                                    "city": "Portland",
                                    "csat_score": "1",
                                    "customer_name": "Noreen Lafflina",
                                    "id": "ZJI-96807559-i-620008-m7",
                                    "reason": "Billing Question",
                                    "response_time": "Within SLA",
                                    "sentiment": "Very Negative",
                                    "state": "Oregon"
                                },
                                {
                                    "call_center": "Los Angeles/CA",
                                    "call_duration_in_minutes": "23",
                                    "call_timestamp": "2020-10-17",
                                    "channel": "Call-Center",
                                    "city": "Fort Wayne",
                                    "csat_score": "NULL",
                                    "customer_name": "Toma Van der Beken",
                                    "id": "DDU-69451719-O-176482-Fm",
                                    "reason": "Payments",
                                    "response_time": "Within SLA",
                                    "sentiment": "Very Positive",
                                    "state": "Indiana"
                                },
                                {
                                    "call_center": "Baltimore/MD",
                                    "call_duration_in_minutes": "25",
                                    "call_timestamp": "2020-10-28",
                                    "channel": "Call-Center",
                                    "city": "Salt Lake City",
                                    "csat_score": "5",
                                    "customer_name": "Kaylyn Emlen",
                                    "id": "JVI-79728660-U-224285-4a",
                                    "reason": "Billing Question",
                                    "response_time": "Within SLA",
                                    "sentiment": "Neutral",
                                    "state": "Utah"
                                },
                                {
                                    "call_center": "Baltimore/MD",
                                    "call_duration_in_minutes": "31",
                                    "call_timestamp": "2020-10-16",
                                    "channel": "Chatbot",
                                    "city": "Tyler",
                                    "csat_score": "8",
                                    "customer_name": "Phillipe Bowring",
                                    "id": "AZI-95054097-e-185542-PT",
                                    "reason": "Billing Question",
                                    "response_time": "Within SLA",
                                    "sentiment": "Neutral",
                                    "state": "Texas"
                                },
                                {
                                    "call_center": "Los Angeles/CA",
                                    "call_duration_in_minutes": "37",
                                    "call_timestamp": "2020-10-21",
                                    "channel": "Chatbot",
                                    "city": "New York City",
                                    "csat_score": "NULL",
                                    "customer_name": "Krysta de Tocqueville",
                                    "id": "TWX-27007918-I-608789-Xw",
                                    "reason": "Billing Question",
                                    "response_time": "Below SLA",
                                    "sentiment": "Positive",
                                    "state": "New York"
                                },
                                {
                                    "call_center": "Baltimore/MD",
                                    "call_duration_in_minutes": "37",
                                    "call_timestamp": "2020-10-03",
                                    "channel": "Email",
                                    "city": "Dallas",
                                    "csat_score": "NULL",
                                    "customer_name": "Oran Lifsey",
                                    "id": "XNG-44599118-P-344473-ZU",
                                    "reason": "Billing Question",
                                    "response_time": "Below SLA",
                                    "sentiment": "Very Negative",
                                    "state": "Texas"
                                },
                                {
                                    "call_center": "Baltimore/MD",
                                    "call_duration_in_minutes": "12",
                                    "call_timestamp": "2020-10-07",
                                    "channel": "Chatbot",
                                    "city": "Cincinnati",
                                    "csat_score": "NULL",
                                    "customer_name": "Port Inggall",
                                    "id": "RLC-64108207-Z-285141-VS",
                                    "reason": "Billing Question",
                                    "response_time": "Within SLA",
                                    "sentiment": "Neutral",
                                    "state": "Ohio"
                                }
                            ],
                            "schema": {
                                "fields": [
                                    {
                                        "name": "id"
                                    },
                                    {
                                        "name": "customer_name"
                                    },
                                    {
                                        "name": "sentiment"
                                    },
                                    {
                                        "name": "csat_score"
                                    },
                                    {
                                        "name": "call_timestamp"
                                    },
                                    {
                                        "name": "reason"
                                    },
                                    {
                                        "name": "city"
                                    },
                                    {
                                        "name": "state"
                                    },
                                    {
                                        "name": "channel"
                                    },
                                    {
                                        "name": "response_time"
                                    },
                                    {
                                        "name": "call_duration_in_minutes"
                                    },
                                    {
                                        "name": "call_center"
                                    }
                                ]
                            }
                        },
                        "text/html": [
                            "<table><tr><th>id</th><th>customer_name</th><th>sentiment</th><th>csat_score</th><th>call_timestamp</th><th>reason</th><th>city</th><th>state</th><th>channel</th><th>response_time</th><th>call_duration_in_minutes</th><th>call_center</th></tr><tr><td>DKK-57076809-w-055481-fU</td><td>Analise Gairdner</td><td>Neutral</td><td>7</td><td>2020-10-29</td><td>Billing Question</td><td>Detroit</td><td>Michigan</td><td>Call-Center</td><td>Within SLA</td><td>17</td><td>Los Angeles/CA</td></tr><tr><td>QGK-72219678-w-102139-KY</td><td>Crichton Kidsley</td><td>Very Positive</td><td>NULL</td><td>2020-10-05</td><td>Service Outage</td><td>Spartanburg</td><td>South Carolina</td><td>Chatbot</td><td>Within SLA</td><td>23</td><td>Baltimore/MD</td></tr><tr><td>GYJ-30025932-A-023015-LD</td><td>Averill Brundrett</td><td>Negative</td><td>NULL</td><td>2020-10-04</td><td>Billing Question</td><td>Gainesville</td><td>Florida</td><td>Call-Center</td><td>Above SLA</td><td>45</td><td>Los Angeles/CA</td></tr><tr><td>ZJI-96807559-i-620008-m7</td><td>Noreen Lafflina</td><td>Very Negative</td><td>1</td><td>2020-10-17</td><td>Billing Question</td><td>Portland</td><td>Oregon</td><td>Chatbot</td><td>Within SLA</td><td>12</td><td>Los Angeles/CA</td></tr><tr><td>DDU-69451719-O-176482-Fm</td><td>Toma Van der Beken</td><td>Very Positive</td><td>NULL</td><td>2020-10-17</td><td>Payments</td><td>Fort Wayne</td><td>Indiana</td><td>Call-Center</td><td>Within SLA</td><td>23</td><td>Los Angeles/CA</td></tr><tr><td>JVI-79728660-U-224285-4a</td><td>Kaylyn Emlen</td><td>Neutral</td><td>5</td><td>2020-10-28</td><td>Billing Question</td><td>Salt Lake City</td><td>Utah</td><td>Call-Center</td><td>Within SLA</td><td>25</td><td>Baltimore/MD</td></tr><tr><td>AZI-95054097-e-185542-PT</td><td>Phillipe Bowring</td><td>Neutral</td><td>8</td><td>2020-10-16</td><td>Billing Question</td><td>Tyler</td><td>Texas</td><td>Chatbot</td><td>Within SLA</td><td>31</td><td>Baltimore/MD</td></tr><tr><td>TWX-27007918-I-608789-Xw</td><td>Krysta de Tocqueville</td><td>Positive</td><td>NULL</td><td>2020-10-21</td><td>Billing Question</td><td>New York City</td><td>New York</td><td>Chatbot</td><td>Below SLA</td><td>37</td><td>Los Angeles/CA</td></tr><tr><td>XNG-44599118-P-344473-ZU</td><td>Oran Lifsey</td><td>Very Negative</td><td>NULL</td><td>2020-10-03</td><td>Billing Question</td><td>Dallas</td><td>Texas</td><td>Email</td><td>Below SLA</td><td>37</td><td>Baltimore/MD</td></tr><tr><td>RLC-64108207-Z-285141-VS</td><td>Port Inggall</td><td>Neutral</td><td>NULL</td><td>2020-10-07</td><td>Billing Question</td><td>Cincinnati</td><td>Ohio</td><td>Chatbot</td><td>Within SLA</td><td>12</td><td>Baltimore/MD</td></tr></table>"
                        ]
                    },
                    "execution_count": 53,
                    "metadata": {},
                    "output_type": "execute_result"
                }
            ],
            "source": [
                "select top 10 * from callCenter"
            ]
        },
        {
            "cell_type": "code",
            "execution_count": 54,
            "metadata": {
                "azdata_cell_guid": "3c9e8eff-0267-4d76-9743-e365c22e563c",
                "language": "sql"
            },
            "outputs": [
                {
                    "data": {
                        "text/html": [
                            "(1 row affected)"
                        ]
                    },
                    "metadata": {},
                    "output_type": "display_data"
                },
                {
                    "data": {
                        "text/html": [
                            "Total execution time: 00:00:00.011"
                        ]
                    },
                    "metadata": {},
                    "output_type": "display_data"
                },
                {
                    "data": {
                        "application/vnd.dataresource+json": {
                            "data": [
                                {
                                    "NumberOfRows": "32941"
                                }
                            ],
                            "schema": {
                                "fields": [
                                    {
                                        "name": "NumberOfRows"
                                    }
                                ]
                            }
                        },
                        "text/html": [
                            "<table><tr><th>NumberOfRows</th></tr><tr><td>32941</td></tr></table>"
                        ]
                    },
                    "execution_count": 54,
                    "metadata": {},
                    "output_type": "execute_result"
                }
            ],
            "source": [
                "--Number of column of data \n",
                "select count(*) as NumberOfRows\n",
                "from CallCenter"
            ]
        },
        {
            "cell_type": "code",
            "execution_count": 55,
            "metadata": {
                "azdata_cell_guid": "dc20da99-d497-4c25-8de0-2dc9125d4ac6",
                "language": "sql"
            },
            "outputs": [
                {
                    "data": {
                        "text/html": [
                            "(1 row affected)"
                        ]
                    },
                    "metadata": {},
                    "output_type": "display_data"
                },
                {
                    "data": {
                        "text/html": [
                            "Total execution time: 00:00:00.058"
                        ]
                    },
                    "metadata": {},
                    "output_type": "display_data"
                },
                {
                    "data": {
                        "application/vnd.dataresource+json": {
                            "data": [
                                {
                                    "NumberOfColumns": "12"
                                }
                            ],
                            "schema": {
                                "fields": [
                                    {
                                        "name": "NumberOfColumns"
                                    }
                                ]
                            }
                        },
                        "text/html": [
                            "<table><tr><th>NumberOfColumns</th></tr><tr><td>12</td></tr></table>"
                        ]
                    },
                    "execution_count": 55,
                    "metadata": {},
                    "output_type": "execute_result"
                }
            ],
            "source": [
                "--Number Of Columns \n",
                "\n",
                "SELECT \n",
                "    COUNT(*) AS NumberOfColumns\n",
                "FROM \n",
                "    INFORMATION_SCHEMA.COLUMNS\n",
                "WHERE \n",
                "    TABLE_NAME = 'callcenter';"
            ]
        },
        {
            "cell_type": "code",
            "execution_count": 56,
            "metadata": {
                "azdata_cell_guid": "2c49263e-bccf-4390-b863-244cf2bd3a92",
                "language": "sql"
            },
            "outputs": [
                {
                    "data": {
                        "text/html": [
                            "(1 row affected)"
                        ]
                    },
                    "metadata": {},
                    "output_type": "display_data"
                },
                {
                    "data": {
                        "text/html": [
                            "Total execution time: 00:00:00.055"
                        ]
                    },
                    "metadata": {},
                    "output_type": "display_data"
                },
                {
                    "data": {
                        "application/vnd.dataresource+json": {
                            "data": [
                                {
                                    "ID": "0",
                                    "call_duration_in_minutes": "0",
                                    "call_timestamp": "0",
                                    "channel": "0",
                                    "city": "0",
                                    "csat_score": "20670",
                                    "customer_name": "0",
                                    "reason": "0",
                                    "response_time": "0",
                                    "sentiment": "0",
                                    "state": "0"
                                }
                            ],
                            "schema": {
                                "fields": [
                                    {
                                        "name": "ID"
                                    },
                                    {
                                        "name": "call_duration_in_minutes"
                                    },
                                    {
                                        "name": "call_timestamp"
                                    },
                                    {
                                        "name": "channel"
                                    },
                                    {
                                        "name": "city"
                                    },
                                    {
                                        "name": "csat_score"
                                    },
                                    {
                                        "name": "customer_name"
                                    },
                                    {
                                        "name": "reason"
                                    },
                                    {
                                        "name": "response_time"
                                    },
                                    {
                                        "name": "sentiment"
                                    },
                                    {
                                        "name": "state"
                                    }
                                ]
                            }
                        },
                        "text/html": [
                            "<table><tr><th>ID</th><th>call_duration_in_minutes</th><th>call_timestamp</th><th>channel</th><th>city</th><th>csat_score</th><th>customer_name</th><th>reason</th><th>response_time</th><th>sentiment</th><th>state</th></tr><tr><td>0</td><td>0</td><td>0</td><td>0</td><td>0</td><td>20670</td><td>0</td><td>0</td><td>0</td><td>0</td><td>0</td></tr></table>"
                        ]
                    },
                    "execution_count": 56,
                    "metadata": {},
                    "output_type": "execute_result"
                }
            ],
            "source": [
                "--Check Null values of data\n",
                "\n",
                "select \n",
                "sum(case when cs.id is null then 1 else 0 end) as 'ID', \n",
                "sum(case when cs.call_duration_in_minutes is null then 1 else 0 end) as 'call_duration_in_minutes', \n",
                "sum(case when cs.call_timestamp is null then 1 else 0 end) as 'call_timestamp',\n",
                "sum(case when cs.channel is null then 1 else 0 end) as 'channel',\n",
                "sum(case when cs.city is null then 1 else 0 end) as 'city',\n",
                "sum(case when cs.csat_score is null then 1 else 0 end) as 'csat_score',\n",
                "sum(case when cs.customer_name is null then 1 else 0 end) as 'customer_name',\n",
                "sum(case when cs.reason is null then 1 else 0 end) as 'reason',\n",
                "sum(case when cs.response_time is null then 1 else 0 end) as 'response_time',\n",
                "sum(case when cs.sentiment is null then 1 else 0 end) as 'sentiment',\n",
                "sum(case when cs.state is null then 1 else 0 end) as 'state'\n",
                "from CallCenter cs\n"
            ]
        },
        {
            "cell_type": "code",
            "execution_count": 57,
            "metadata": {
                "azdata_cell_guid": "d3736503-7be9-4e90-9440-a96e8ee66d4b",
                "language": "sql"
            },
            "outputs": [
                {
                    "data": {
                        "text/html": [
                            "(20670 rows affected)"
                        ]
                    },
                    "metadata": {},
                    "output_type": "display_data"
                },
                {
                    "data": {
                        "text/html": [
                            "Total execution time: 00:00:00.127"
                        ]
                    },
                    "metadata": {},
                    "output_type": "display_data"
                }
            ],
            "source": [
                "--set null values in csat_score = 11 as 11 is not scored by client\n",
                "update callcenter \n",
                "set csat_score = 11\n",
                "where csat_score is null"
            ]
        },
        {
            "cell_type": "code",
            "execution_count": 58,
            "metadata": {
                "azdata_cell_guid": "9d2f2f24-6358-4e31-9a48-fb5189570770",
                "language": "sql"
            },
            "outputs": [
                {
                    "data": {
                        "text/html": [
                            "(1 row affected)"
                        ]
                    },
                    "metadata": {},
                    "output_type": "display_data"
                },
                {
                    "data": {
                        "text/html": [
                            "Total execution time: 00:00:00.016"
                        ]
                    },
                    "metadata": {},
                    "output_type": "display_data"
                },
                {
                    "data": {
                        "application/vnd.dataresource+json": {
                            "data": [
                                {
                                    "csat_score": "0"
                                }
                            ],
                            "schema": {
                                "fields": [
                                    {
                                        "name": "csat_score"
                                    }
                                ]
                            }
                        },
                        "text/html": [
                            "<table><tr><th>csat_score</th></tr><tr><td>0</td></tr></table>"
                        ]
                    },
                    "execution_count": 58,
                    "metadata": {},
                    "output_type": "execute_result"
                }
            ],
            "source": [
                "select sum(case when csat_score is null then 1 else 0 end) as 'csat_score' \n",
                "from CallCenter"
            ]
        },
        {
            "cell_type": "code",
            "execution_count": 59,
            "metadata": {
                "azdata_cell_guid": "1753da99-2e13-4342-9a6c-4d8180a8e4ab",
                "language": "sql"
            },
            "outputs": [
                {
                    "data": {
                        "text/html": [
                            "(461 rows affected)"
                        ]
                    },
                    "metadata": {},
                    "output_type": "display_data"
                },
                {
                    "data": {
                        "text/html": [
                            "Total execution time: 00:00:00.142"
                        ]
                    },
                    "metadata": {},
                    "output_type": "display_data"
                },
                {
                    "data": {
                        "application/vnd.dataresource+json": {
                            "data": [
                                {
                                    "NumberOfCityCalls": "1110",
                                    "city": "Washington"
                                },
                                {
                                    "NumberOfCityCalls": "657",
                                    "city": "Houston"
                                },
                                {
                                    "NumberOfCityCalls": "564",
                                    "city": "New York City"
                                },
                                {
                                    "NumberOfCityCalls": "528",
                                    "city": "El Paso"
                                },
                                {
                                    "NumberOfCityCalls": "437",
                                    "city": "Dallas"
                                },
                                {
                                    "NumberOfCityCalls": "416",
                                    "city": "Atlanta"
                                },
                                {
                                    "NumberOfCityCalls": "374",
                                    "city": "Miami"
                                },
                                {
                                    "NumberOfCityCalls": "341",
                                    "city": "Sacramento"
                                },
                                {
                                    "NumberOfCityCalls": "331",
                                    "city": "Los Angeles"
                                },
                                {
                                    "NumberOfCityCalls": "327",
                                    "city": "Kansas City"
                                },
                                {
                                    "NumberOfCityCalls": "327",
                                    "city": "Chicago"
                                },
                                {
                                    "NumberOfCityCalls": "304",
                                    "city": "Springfield"
                                },
                                {
                                    "NumberOfCityCalls": "299",
                                    "city": "San Antonio"
                                },
                                {
                                    "NumberOfCityCalls": "288",
                                    "city": "Austin"
                                },
                                {
                                    "NumberOfCityCalls": "286",
                                    "city": "Phoenix"
                                },
                                {
                                    "NumberOfCityCalls": "277",
                                    "city": "Pittsburgh"
                                },
                                {
                                    "NumberOfCityCalls": "277",
                                    "city": "Oklahoma City"
                                },
                                {
                                    "NumberOfCityCalls": "274",
                                    "city": "Birmingham"
                                },
                                {
                                    "NumberOfCityCalls": "273",
                                    "city": "Richmond"
                                },
                                {
                                    "NumberOfCityCalls": "270",
                                    "city": "Philadelphia"
                                },
                                {
                                    "NumberOfCityCalls": "269",
                                    "city": "Cincinnati"
                                },
                                {
                                    "NumberOfCityCalls": "263",
                                    "city": "Minneapolis"
                                },
                                {
                                    "NumberOfCityCalls": "260",
                                    "city": "Denver"
                                },
                                {
                                    "NumberOfCityCalls": "260",
                                    "city": "Las Vegas"
                                },
                                {
                                    "NumberOfCityCalls": "258",
                                    "city": "San Diego"
                                },
                                {
                                    "NumberOfCityCalls": "258",
                                    "city": "Charlotte"
                                },
                                {
                                    "NumberOfCityCalls": "255",
                                    "city": "San Francisco"
                                },
                                {
                                    "NumberOfCityCalls": "250",
                                    "city": "Memphis"
                                },
                                {
                                    "NumberOfCityCalls": "239",
                                    "city": "Seattle"
                                },
                                {
                                    "NumberOfCityCalls": "237",
                                    "city": "Saint Louis"
                                },
                                {
                                    "NumberOfCityCalls": "232",
                                    "city": "Tulsa"
                                },
                                {
                                    "NumberOfCityCalls": "231",
                                    "city": "New Orleans"
                                },
                                {
                                    "NumberOfCityCalls": "223",
                                    "city": "Salt Lake City"
                                },
                                {
                                    "NumberOfCityCalls": "222",
                                    "city": "Orlando"
                                },
                                {
                                    "NumberOfCityCalls": "222",
                                    "city": "Indianapolis"
                                },
                                {
                                    "NumberOfCityCalls": "219",
                                    "city": "Charleston"
                                },
                                {
                                    "NumberOfCityCalls": "219",
                                    "city": "Des Moines"
                                },
                                {
                                    "NumberOfCityCalls": "218",
                                    "city": "Portland"
                                },
                                {
                                    "NumberOfCityCalls": "217",
                                    "city": "Tampa"
                                },
                                {
                                    "NumberOfCityCalls": "216",
                                    "city": "Louisville"
                                },
                                {
                                    "NumberOfCityCalls": "214",
                                    "city": "Columbus"
                                },
                                {
                                    "NumberOfCityCalls": "212",
                                    "city": "Fresno"
                                },
                                {
                                    "NumberOfCityCalls": "198",
                                    "city": "Boston"
                                },
                                {
                                    "NumberOfCityCalls": "196",
                                    "city": "Jacksonville"
                                },
                                {
                                    "NumberOfCityCalls": "195",
                                    "city": "Arlington"
                                },
                                {
                                    "NumberOfCityCalls": "193",
                                    "city": "Detroit"
                                },
                                {
                                    "NumberOfCityCalls": "191",
                                    "city": "Colorado Springs"
                                },
                                {
                                    "NumberOfCityCalls": "187",
                                    "city": "Albany"
                                },
                                {
                                    "NumberOfCityCalls": "186",
                                    "city": "Rochester"
                                },
                                {
                                    "NumberOfCityCalls": "186",
                                    "city": "Fort Worth"
                                },
                                {
                                    "NumberOfCityCalls": "182",
                                    "city": "Baltimore"
                                },
                                {
                                    "NumberOfCityCalls": "182",
                                    "city": "Saint Paul"
                                },
                                {
                                    "NumberOfCityCalls": "181",
                                    "city": "San Jose"
                                },
                                {
                                    "NumberOfCityCalls": "173",
                                    "city": "Tucson"
                                },
                                {
                                    "NumberOfCityCalls": "168",
                                    "city": "Roanoke"
                                },
                                {
                                    "NumberOfCityCalls": "165",
                                    "city": "Dayton"
                                },
                                {
                                    "NumberOfCityCalls": "163",
                                    "city": "Mobile"
                                },
                                {
                                    "NumberOfCityCalls": "162",
                                    "city": "Albuquerque"
                                },
                                {
                                    "NumberOfCityCalls": "161",
                                    "city": "Topeka"
                                },
                                {
                                    "NumberOfCityCalls": "161",
                                    "city": "Fort Lauderdale"
                                },
                                {
                                    "NumberOfCityCalls": "161",
                                    "city": "Nashville"
                                },
                                {
                                    "NumberOfCityCalls": "160",
                                    "city": "Montgomery"
                                },
                                {
                                    "NumberOfCityCalls": "152",
                                    "city": "Cleveland"
                                },
                                {
                                    "NumberOfCityCalls": "151",
                                    "city": "Pasadena"
                                },
                                {
                                    "NumberOfCityCalls": "151",
                                    "city": "Brooklyn"
                                },
                                {
                                    "NumberOfCityCalls": "151",
                                    "city": "Amarillo"
                                },
                                {
                                    "NumberOfCityCalls": "150",
                                    "city": "Omaha"
                                },
                                {
                                    "NumberOfCityCalls": "149",
                                    "city": "Honolulu"
                                },
                                {
                                    "NumberOfCityCalls": "147",
                                    "city": "Baton Rouge"
                                },
                                {
                                    "NumberOfCityCalls": "146",
                                    "city": "Raleigh"
                                },
                                {
                                    "NumberOfCityCalls": "146",
                                    "city": "Fort Wayne"
                                },
                                {
                                    "NumberOfCityCalls": "145",
                                    "city": "Lexington"
                                },
                                {
                                    "NumberOfCityCalls": "145",
                                    "city": "Milwaukee"
                                },
                                {
                                    "NumberOfCityCalls": "139",
                                    "city": "Peoria"
                                },
                                {
                                    "NumberOfCityCalls": "133",
                                    "city": "Boise"
                                },
                                {
                                    "NumberOfCityCalls": "132",
                                    "city": "Buffalo"
                                },
                                {
                                    "NumberOfCityCalls": "132",
                                    "city": "Jamaica"
                                },
                                {
                                    "NumberOfCityCalls": "128",
                                    "city": "Huntington"
                                },
                                {
                                    "NumberOfCityCalls": "128",
                                    "city": "Tacoma"
                                },
                                {
                                    "NumberOfCityCalls": "127",
                                    "city": "Evansville"
                                },
                                {
                                    "NumberOfCityCalls": "126",
                                    "city": "Wichita"
                                },
                                {
                                    "NumberOfCityCalls": "124",
                                    "city": "Shawnee Mission"
                                },
                                {
                                    "NumberOfCityCalls": "124",
                                    "city": "Saint Petersburg"
                                },
                                {
                                    "NumberOfCityCalls": "124",
                                    "city": "Corpus Christi"
                                },
                                {
                                    "NumberOfCityCalls": "121",
                                    "city": "Wilmington"
                                },
                                {
                                    "NumberOfCityCalls": "120",
                                    "city": "Pensacola"
                                },
                                {
                                    "NumberOfCityCalls": "120",
                                    "city": "Knoxville"
                                },
                                {
                                    "NumberOfCityCalls": "119",
                                    "city": "Toledo"
                                },
                                {
                                    "NumberOfCityCalls": "118",
                                    "city": "Madison"
                                },
                                {
                                    "NumberOfCityCalls": "118",
                                    "city": "Shreveport"
                                },
                                {
                                    "NumberOfCityCalls": "115",
                                    "city": "Columbia"
                                },
                                {
                                    "NumberOfCityCalls": "114",
                                    "city": "Spokane"
                                },
                                {
                                    "NumberOfCityCalls": "114",
                                    "city": "Hartford"
                                },
                                {
                                    "NumberOfCityCalls": "112",
                                    "city": "Greensboro"
                                },
                                {
                                    "NumberOfCityCalls": "110",
                                    "city": "Little Rock"
                                },
                                {
                                    "NumberOfCityCalls": "105",
                                    "city": "Trenton"
                                },
                                {
                                    "NumberOfCityCalls": "105",
                                    "city": "Akron"
                                },
                                {
                                    "NumberOfCityCalls": "104",
                                    "city": "Newark"
                                },
                                {
                                    "NumberOfCityCalls": "104",
                                    "city": "Jackson"
                                },
                                {
                                    "NumberOfCityCalls": "104",
                                    "city": "Oakland"
                                },
                                {
                                    "NumberOfCityCalls": "103",
                                    "city": "Erie"
                                },
                                {
                                    "NumberOfCityCalls": "101",
                                    "city": "Clearwater"
                                },
                                {
                                    "NumberOfCityCalls": "99",
                                    "city": "Bakersfield"
                                },
                                {
                                    "NumberOfCityCalls": "98",
                                    "city": "Bronx"
                                },
                                {
                                    "NumberOfCityCalls": "98",
                                    "city": "Huntsville"
                                },
                                {
                                    "NumberOfCityCalls": "94",
                                    "city": "West Palm Beach"
                                },
                                {
                                    "NumberOfCityCalls": "93",
                                    "city": "Sioux Falls"
                                },
                                {
                                    "NumberOfCityCalls": "93",
                                    "city": "Lincoln"
                                },
                                {
                                    "NumberOfCityCalls": "91",
                                    "city": "Anchorage"
                                },
                                {
                                    "NumberOfCityCalls": "88",
                                    "city": "Long Beach"
                                },
                                {
                                    "NumberOfCityCalls": "86",
                                    "city": "Reno"
                                },
                                {
                                    "NumberOfCityCalls": "84",
                                    "city": "Syracuse"
                                },
                                {
                                    "NumberOfCityCalls": "83",
                                    "city": "Lansing"
                                },
                                {
                                    "NumberOfCityCalls": "82",
                                    "city": "New Haven"
                                },
                                {
                                    "NumberOfCityCalls": "81",
                                    "city": "Alexandria"
                                },
                                {
                                    "NumberOfCityCalls": "80",
                                    "city": "Naples"
                                },
                                {
                                    "NumberOfCityCalls": "80",
                                    "city": "South Bend"
                                },
                                {
                                    "NumberOfCityCalls": "79",
                                    "city": "Grand Rapids"
                                },
                                {
                                    "NumberOfCityCalls": "79",
                                    "city": "Glendale"
                                },
                                {
                                    "NumberOfCityCalls": "79",
                                    "city": "Harrisburg"
                                },
                                {
                                    "NumberOfCityCalls": "78",
                                    "city": "Tallahassee"
                                },
                                {
                                    "NumberOfCityCalls": "77",
                                    "city": "Winston Salem"
                                },
                                {
                                    "NumberOfCityCalls": "73",
                                    "city": "Norfolk"
                                },
                                {
                                    "NumberOfCityCalls": "73",
                                    "city": "Aurora"
                                },
                                {
                                    "NumberOfCityCalls": "73",
                                    "city": "Chattanooga"
                                },
                                {
                                    "NumberOfCityCalls": "71",
                                    "city": "Savannah"
                                },
                                {
                                    "NumberOfCityCalls": "71",
                                    "city": "Lubbock"
                                },
                                {
                                    "NumberOfCityCalls": "70",
                                    "city": "Stockton"
                                },
                                {
                                    "NumberOfCityCalls": "70",
                                    "city": "Irvine"
                                },
                                {
                                    "NumberOfCityCalls": "70",
                                    "city": "San Bernardino"
                                },
                                {
                                    "NumberOfCityCalls": "68",
                                    "city": "Durham"
                                },
                                {
                                    "NumberOfCityCalls": "67",
                                    "city": "Gainesville"
                                },
                                {
                                    "NumberOfCityCalls": "66",
                                    "city": "Mesa"
                                },
                                {
                                    "NumberOfCityCalls": "65",
                                    "city": "Young America"
                                },
                                {
                                    "NumberOfCityCalls": "65",
                                    "city": "Orange"
                                },
                                {
                                    "NumberOfCityCalls": "64",
                                    "city": "Inglewood"
                                },
                                {
                                    "NumberOfCityCalls": "64",
                                    "city": "Augusta"
                                },
                                {
                                    "NumberOfCityCalls": "63",
                                    "city": "Macon"
                                },
                                {
                                    "NumberOfCityCalls": "63",
                                    "city": "Virginia Beach"
                                },
                                {
                                    "NumberOfCityCalls": "62",
                                    "city": "Duluth"
                                },
                                {
                                    "NumberOfCityCalls": "61",
                                    "city": "Van Nuys"
                                },
                                {
                                    "NumberOfCityCalls": "61",
                                    "city": "Pueblo"
                                },
                                {
                                    "NumberOfCityCalls": "61",
                                    "city": "Tyler"
                                },
                                {
                                    "NumberOfCityCalls": "61",
                                    "city": "Flint"
                                },
                                {
                                    "NumberOfCityCalls": "61",
                                    "city": "Scottsdale"
                                },
                                {
                                    "NumberOfCityCalls": "60",
                                    "city": "Wilkes Barre"
                                },
                                {
                                    "NumberOfCityCalls": "60",
                                    "city": "Paterson"
                                },
                                {
                                    "NumberOfCityCalls": "57",
                                    "city": "Monticello"
                                },
                                {
                                    "NumberOfCityCalls": "57",
                                    "city": "Riverside"
                                },
                                {
                                    "NumberOfCityCalls": "56",
                                    "city": "Youngstown"
                                },
                                {
                                    "NumberOfCityCalls": "55",
                                    "city": "Midland"
                                },
                                {
                                    "NumberOfCityCalls": "55",
                                    "city": "Daytona Beach"
                                },
                                {
                                    "NumberOfCityCalls": "55",
                                    "city": "Boulder"
                                },
                                {
                                    "NumberOfCityCalls": "54",
                                    "city": "Santa Barbara"
                                },
                                {
                                    "NumberOfCityCalls": "54",
                                    "city": "Lancaster"
                                },
                                {
                                    "NumberOfCityCalls": "53",
                                    "city": "Boca Raton"
                                },
                                {
                                    "NumberOfCityCalls": "53",
                                    "city": "Sarasota"
                                },
                                {
                                    "NumberOfCityCalls": "53",
                                    "city": "Waco"
                                },
                                {
                                    "NumberOfCityCalls": "53",
                                    "city": "Silver Spring"
                                },
                                {
                                    "NumberOfCityCalls": "52",
                                    "city": "Canton"
                                },
                                {
                                    "NumberOfCityCalls": "52",
                                    "city": "Fort Myers"
                                },
                                {
                                    "NumberOfCityCalls": "52",
                                    "city": "Bradenton"
                                },
                                {
                                    "NumberOfCityCalls": "52",
                                    "city": "Anaheim"
                                },
                                {
                                    "NumberOfCityCalls": "51",
                                    "city": "Waterbury"
                                },
                                {
                                    "NumberOfCityCalls": "51",
                                    "city": "Stamford"
                                },
                                {
                                    "NumberOfCityCalls": "51",
                                    "city": "Decatur"
                                },
                                {
                                    "NumberOfCityCalls": "49",
                                    "city": "Worcester"
                                },
                                {
                                    "NumberOfCityCalls": "48",
                                    "city": "Davenport"
                                },
                                {
                                    "NumberOfCityCalls": "47",
                                    "city": "Littleton"
                                },
                                {
                                    "NumberOfCityCalls": "47",
                                    "city": "Lake Worth"
                                },
                                {
                                    "NumberOfCityCalls": "45",
                                    "city": "Irving"
                                },
                                {
                                    "NumberOfCityCalls": "45",
                                    "city": "Portsmouth"
                                },
                                {
                                    "NumberOfCityCalls": "45",
                                    "city": "Berkeley"
                                },
                                {
                                    "NumberOfCityCalls": "45",
                                    "city": "Billings"
                                },
                                {
                                    "NumberOfCityCalls": "44",
                                    "city": "Rockford"
                                },
                                {
                                    "NumberOfCityCalls": "44",
                                    "city": "White Plains"
                                },
                                {
                                    "NumberOfCityCalls": "43",
                                    "city": "Saint Cloud"
                                },
                                {
                                    "NumberOfCityCalls": "43",
                                    "city": "Lawrenceville"
                                },
                                {
                                    "NumberOfCityCalls": "42",
                                    "city": "Corona"
                                },
                                {
                                    "NumberOfCityCalls": "42",
                                    "city": "Vero Beach"
                                },
                                {
                                    "NumberOfCityCalls": "42",
                                    "city": "Odessa"
                                },
                                {
                                    "NumberOfCityCalls": "42",
                                    "city": "Vancouver"
                                },
                                {
                                    "NumberOfCityCalls": "41",
                                    "city": "Jefferson City"
                                },
                                {
                                    "NumberOfCityCalls": "41",
                                    "city": "Schenectady"
                                },
                                {
                                    "NumberOfCityCalls": "41",
                                    "city": "Wichita Falls"
                                },
                                {
                                    "NumberOfCityCalls": "40",
                                    "city": "Green Bay"
                                },
                                {
                                    "NumberOfCityCalls": "40",
                                    "city": "Spartanburg"
                                },
                                {
                                    "NumberOfCityCalls": "40",
                                    "city": "Newport News"
                                },
                                {
                                    "NumberOfCityCalls": "40",
                                    "city": "Pompano Beach"
                                },
                                {
                                    "NumberOfCityCalls": "40",
                                    "city": "Lakeland"
                                },
                                {
                                    "NumberOfCityCalls": "40",
                                    "city": "Cedar Rapids"
                                },
                                {
                                    "NumberOfCityCalls": "39",
                                    "city": "Staten Island"
                                },
                                {
                                    "NumberOfCityCalls": "39",
                                    "city": "Reading"
                                },
                                {
                                    "NumberOfCityCalls": "39",
                                    "city": "Beaumont"
                                },
                                {
                                    "NumberOfCityCalls": "38",
                                    "city": "Anderson"
                                },
                                {
                                    "NumberOfCityCalls": "38",
                                    "city": "Fairbanks"
                                },
                                {
                                    "NumberOfCityCalls": "38",
                                    "city": "Bethesda"
                                },
                                {
                                    "NumberOfCityCalls": "38",
                                    "city": "Olympia"
                                },
                                {
                                    "NumberOfCityCalls": "38",
                                    "city": "Flushing"
                                },
                                {
                                    "NumberOfCityCalls": "38",
                                    "city": "Ocala"
                                },
                                {
                                    "NumberOfCityCalls": "38",
                                    "city": "Lafayette"
                                },
                                {
                                    "NumberOfCityCalls": "38",
                                    "city": "Hollywood"
                                },
                                {
                                    "NumberOfCityCalls": "37",
                                    "city": "Burbank"
                                },
                                {
                                    "NumberOfCityCalls": "37",
                                    "city": "Terre Haute"
                                },
                                {
                                    "NumberOfCityCalls": "36",
                                    "city": "Greenville"
                                },
                                {
                                    "NumberOfCityCalls": "36",
                                    "city": "North Little Rock"
                                },
                                {
                                    "NumberOfCityCalls": "36",
                                    "city": "Carol Stream"
                                },
                                {
                                    "NumberOfCityCalls": "36",
                                    "city": "Santa Ana"
                                },
                                {
                                    "NumberOfCityCalls": "36",
                                    "city": "Garden Grove"
                                },
                                {
                                    "NumberOfCityCalls": "36",
                                    "city": "Largo"
                                },
                                {
                                    "NumberOfCityCalls": "35",
                                    "city": "Newton"
                                },
                                {
                                    "NumberOfCityCalls": "35",
                                    "city": "Ogden"
                                },
                                {
                                    "NumberOfCityCalls": "35",
                                    "city": "Providence"
                                },
                                {
                                    "NumberOfCityCalls": "35",
                                    "city": "Fort Smith"
                                },
                                {
                                    "NumberOfCityCalls": "35",
                                    "city": "Brockton"
                                },
                                {
                                    "NumberOfCityCalls": "34",
                                    "city": "Carson City"
                                },
                                {
                                    "NumberOfCityCalls": "34",
                                    "city": "Salem"
                                },
                                {
                                    "NumberOfCityCalls": "34",
                                    "city": "Modesto"
                                },
                                {
                                    "NumberOfCityCalls": "34",
                                    "city": "Maple Plain"
                                },
                                {
                                    "NumberOfCityCalls": "33",
                                    "city": "Spring"
                                },
                                {
                                    "NumberOfCityCalls": "33",
                                    "city": "Lake Charles"
                                },
                                {
                                    "NumberOfCityCalls": "33",
                                    "city": "Saginaw"
                                },
                                {
                                    "NumberOfCityCalls": "33",
                                    "city": "Bloomington"
                                },
                                {
                                    "NumberOfCityCalls": "33",
                                    "city": "Abilene"
                                },
                                {
                                    "NumberOfCityCalls": "33",
                                    "city": "North Hollywood"
                                },
                                {
                                    "NumberOfCityCalls": "32",
                                    "city": "Monroe"
                                },
                                {
                                    "NumberOfCityCalls": "32",
                                    "city": "Bridgeport"
                                },
                                {
                                    "NumberOfCityCalls": "32",
                                    "city": "Fargo"
                                },
                                {
                                    "NumberOfCityCalls": "32",
                                    "city": "Santa Fe"
                                },
                                {
                                    "NumberOfCityCalls": "31",
                                    "city": "Melbourne"
                                },
                                {
                                    "NumberOfCityCalls": "31",
                                    "city": "Jersey City"
                                },
                                {
                                    "NumberOfCityCalls": "31",
                                    "city": "Denton"
                                },
                                {
                                    "NumberOfCityCalls": "31",
                                    "city": "Fort Pierce"
                                },
                                {
                                    "NumberOfCityCalls": "31",
                                    "city": "Tuscaloosa"
                                },
                                {
                                    "NumberOfCityCalls": "31",
                                    "city": "Lynchburg"
                                },
                                {
                                    "NumberOfCityCalls": "31",
                                    "city": "Torrance"
                                },
                                {
                                    "NumberOfCityCalls": "31",
                                    "city": "Alhambra"
                                },
                                {
                                    "NumberOfCityCalls": "30",
                                    "city": "Charlottesville"
                                },
                                {
                                    "NumberOfCityCalls": "29",
                                    "city": "Reston"
                                },
                                {
                                    "NumberOfCityCalls": "29",
                                    "city": "Scranton"
                                },
                                {
                                    "NumberOfCityCalls": "29",
                                    "city": "Hialeah"
                                },
                                {
                                    "NumberOfCityCalls": "29",
                                    "city": "Fullerton"
                                },
                                {
                                    "NumberOfCityCalls": "29",
                                    "city": "North Las Vegas"
                                },
                                {
                                    "NumberOfCityCalls": "29",
                                    "city": "Sioux City"
                                },
                                {
                                    "NumberOfCityCalls": "28",
                                    "city": "Asheville"
                                },
                                {
                                    "NumberOfCityCalls": "28",
                                    "city": "Henderson"
                                },
                                {
                                    "NumberOfCityCalls": "28",
                                    "city": "Kalamazoo"
                                },
                                {
                                    "NumberOfCityCalls": "28",
                                    "city": "Hampton"
                                },
                                {
                                    "NumberOfCityCalls": "28",
                                    "city": "Huntington Beach"
                                },
                                {
                                    "NumberOfCityCalls": "28",
                                    "city": "Panama City"
                                },
                                {
                                    "NumberOfCityCalls": "27",
                                    "city": "Warren"
                                },
                                {
                                    "NumberOfCityCalls": "27",
                                    "city": "East Saint Louis"
                                },
                                {
                                    "NumberOfCityCalls": "26",
                                    "city": "Marietta"
                                },
                                {
                                    "NumberOfCityCalls": "26",
                                    "city": "Provo"
                                },
                                {
                                    "NumberOfCityCalls": "26",
                                    "city": "Metairie"
                                },
                                {
                                    "NumberOfCityCalls": "26",
                                    "city": "Fairfax"
                                },
                                {
                                    "NumberOfCityCalls": "26",
                                    "city": "Santa Monica"
                                },
                                {
                                    "NumberOfCityCalls": "25",
                                    "city": "Bellevue"
                                },
                                {
                                    "NumberOfCityCalls": "25",
                                    "city": "Athens"
                                },
                                {
                                    "NumberOfCityCalls": "25",
                                    "city": "San Luis Obispo"
                                },
                                {
                                    "NumberOfCityCalls": "25",
                                    "city": "Norcross"
                                },
                                {
                                    "NumberOfCityCalls": "24",
                                    "city": "Mountain View"
                                },
                                {
                                    "NumberOfCityCalls": "24",
                                    "city": "Mansfield"
                                },
                                {
                                    "NumberOfCityCalls": "24",
                                    "city": "Northridge"
                                },
                                {
                                    "NumberOfCityCalls": "24",
                                    "city": "Norwalk"
                                },
                                {
                                    "NumberOfCityCalls": "24",
                                    "city": "Delray Beach"
                                },
                                {
                                    "NumberOfCityCalls": "24",
                                    "city": "Conroe"
                                },
                                {
                                    "NumberOfCityCalls": "24",
                                    "city": "Vienna"
                                },
                                {
                                    "NumberOfCityCalls": "24",
                                    "city": "Elmira"
                                },
                                {
                                    "NumberOfCityCalls": "24",
                                    "city": "Joliet"
                                },
                                {
                                    "NumberOfCityCalls": "23",
                                    "city": "San Mateo"
                                },
                                {
                                    "NumberOfCityCalls": "23",
                                    "city": "Spring Hill"
                                },
                                {
                                    "NumberOfCityCalls": "23",
                                    "city": "Fredericksburg"
                                },
                                {
                                    "NumberOfCityCalls": "23",
                                    "city": "Chesapeake"
                                },
                                {
                                    "NumberOfCityCalls": "23",
                                    "city": "Hot Springs National Park"
                                },
                                {
                                    "NumberOfCityCalls": "23",
                                    "city": "Whittier"
                                },
                                {
                                    "NumberOfCityCalls": "23",
                                    "city": "Fayetteville"
                                },
                                {
                                    "NumberOfCityCalls": "23",
                                    "city": "Chandler"
                                },
                                {
                                    "NumberOfCityCalls": "23",
                                    "city": "Brea"
                                },
                                {
                                    "NumberOfCityCalls": "23",
                                    "city": "College Station"
                                },
                                {
                                    "NumberOfCityCalls": "23",
                                    "city": "Gary"
                                },
                                {
                                    "NumberOfCityCalls": "23",
                                    "city": "London"
                                },
                                {
                                    "NumberOfCityCalls": "22",
                                    "city": "Naperville"
                                },
                                {
                                    "NumberOfCityCalls": "22",
                                    "city": "Bryan"
                                },
                                {
                                    "NumberOfCityCalls": "22",
                                    "city": "Palo Alto"
                                },
                                {
                                    "NumberOfCityCalls": "22",
                                    "city": "Oceanside"
                                },
                                {
                                    "NumberOfCityCalls": "22",
                                    "city": "Escondido"
                                },
                                {
                                    "NumberOfCityCalls": "22",
                                    "city": "Punta Gorda"
                                },
                                {
                                    "NumberOfCityCalls": "22",
                                    "city": "Redwood City"
                                },
                                {
                                    "NumberOfCityCalls": "22",
                                    "city": "Sparks"
                                },
                                {
                                    "NumberOfCityCalls": "22",
                                    "city": "Grand Forks"
                                },
                                {
                                    "NumberOfCityCalls": "22",
                                    "city": "Bismarck"
                                },
                                {
                                    "NumberOfCityCalls": "22",
                                    "city": "Manchester"
                                },
                                {
                                    "NumberOfCityCalls": "22",
                                    "city": "Laurel"
                                },
                                {
                                    "NumberOfCityCalls": "22",
                                    "city": "Seminole"
                                },
                                {
                                    "NumberOfCityCalls": "21",
                                    "city": "Port Washington"
                                },
                                {
                                    "NumberOfCityCalls": "21",
                                    "city": "Idaho Falls"
                                },
                                {
                                    "NumberOfCityCalls": "21",
                                    "city": "New Brunswick"
                                },
                                {
                                    "NumberOfCityCalls": "21",
                                    "city": "Port Saint Lucie"
                                },
                                {
                                    "NumberOfCityCalls": "21",
                                    "city": "Everett"
                                },
                                {
                                    "NumberOfCityCalls": "21",
                                    "city": "Danbury"
                                },
                                {
                                    "NumberOfCityCalls": "21",
                                    "city": "Visalia"
                                },
                                {
                                    "NumberOfCityCalls": "21",
                                    "city": "Suffolk"
                                },
                                {
                                    "NumberOfCityCalls": "21",
                                    "city": "Bonita Springs"
                                },
                                {
                                    "NumberOfCityCalls": "21",
                                    "city": "Garland"
                                },
                                {
                                    "NumberOfCityCalls": "21",
                                    "city": "Hattiesburg"
                                },
                                {
                                    "NumberOfCityCalls": "21",
                                    "city": "Round Rock"
                                },
                                {
                                    "NumberOfCityCalls": "21",
                                    "city": "Saint Joseph"
                                },
                                {
                                    "NumberOfCityCalls": "21",
                                    "city": "Sunnyvale"
                                },
                                {
                                    "NumberOfCityCalls": "21",
                                    "city": "Pinellas Park"
                                },
                                {
                                    "NumberOfCityCalls": "21",
                                    "city": "Appleton"
                                },
                                {
                                    "NumberOfCityCalls": "21",
                                    "city": "Galveston"
                                },
                                {
                                    "NumberOfCityCalls": "20",
                                    "city": "Ventura"
                                },
                                {
                                    "NumberOfCityCalls": "20",
                                    "city": "Plano"
                                },
                                {
                                    "NumberOfCityCalls": "20",
                                    "city": "Moreno Valley"
                                },
                                {
                                    "NumberOfCityCalls": "20",
                                    "city": "Prescott"
                                },
                                {
                                    "NumberOfCityCalls": "20",
                                    "city": "Newport Beach"
                                },
                                {
                                    "NumberOfCityCalls": "20",
                                    "city": "Hyattsville"
                                },
                                {
                                    "NumberOfCityCalls": "20",
                                    "city": "Pocatello"
                                },
                                {
                                    "NumberOfCityCalls": "20",
                                    "city": "Ashburn"
                                },
                                {
                                    "NumberOfCityCalls": "20",
                                    "city": "Palatine"
                                },
                                {
                                    "NumberOfCityCalls": "20",
                                    "city": "Cape Coral"
                                },
                                {
                                    "NumberOfCityCalls": "20",
                                    "city": "Loretto"
                                },
                                {
                                    "NumberOfCityCalls": "20",
                                    "city": "Independence"
                                },
                                {
                                    "NumberOfCityCalls": "20",
                                    "city": "Morgantown"
                                },
                                {
                                    "NumberOfCityCalls": "20",
                                    "city": "Lakewood"
                                },
                                {
                                    "NumberOfCityCalls": "20",
                                    "city": "Santa Rosa"
                                },
                                {
                                    "NumberOfCityCalls": "19",
                                    "city": "Tempe"
                                },
                                {
                                    "NumberOfCityCalls": "19",
                                    "city": "Schaumburg"
                                },
                                {
                                    "NumberOfCityCalls": "19",
                                    "city": "Beaufort"
                                },
                                {
                                    "NumberOfCityCalls": "19",
                                    "city": "North Port"
                                },
                                {
                                    "NumberOfCityCalls": "19",
                                    "city": "San Angelo"
                                },
                                {
                                    "NumberOfCityCalls": "19",
                                    "city": "Kent"
                                },
                                {
                                    "NumberOfCityCalls": "19",
                                    "city": "Muncie"
                                },
                                {
                                    "NumberOfCityCalls": "19",
                                    "city": "Woburn"
                                },
                                {
                                    "NumberOfCityCalls": "19",
                                    "city": "Johnson City"
                                },
                                {
                                    "NumberOfCityCalls": "19",
                                    "city": "Meridian"
                                },
                                {
                                    "NumberOfCityCalls": "19",
                                    "city": "Bowie"
                                },
                                {
                                    "NumberOfCityCalls": "19",
                                    "city": "Florence"
                                },
                                {
                                    "NumberOfCityCalls": "19",
                                    "city": "Grand Junction"
                                },
                                {
                                    "NumberOfCityCalls": "19",
                                    "city": "Biloxi"
                                },
                                {
                                    "NumberOfCityCalls": "18",
                                    "city": "Las Cruces"
                                },
                                {
                                    "NumberOfCityCalls": "18",
                                    "city": "Santa Clara"
                                },
                                {
                                    "NumberOfCityCalls": "18",
                                    "city": "Saint Augustine"
                                },
                                {
                                    "NumberOfCityCalls": "18",
                                    "city": "Salinas"
                                },
                                {
                                    "NumberOfCityCalls": "18",
                                    "city": "Waltham"
                                },
                                {
                                    "NumberOfCityCalls": "18",
                                    "city": "Camden"
                                },
                                {
                                    "NumberOfCityCalls": "18",
                                    "city": "Carlsbad"
                                },
                                {
                                    "NumberOfCityCalls": "18",
                                    "city": "Beaverton"
                                },
                                {
                                    "NumberOfCityCalls": "18",
                                    "city": "Winter Haven"
                                },
                                {
                                    "NumberOfCityCalls": "18",
                                    "city": "Miami Beach"
                                },
                                {
                                    "NumberOfCityCalls": "18",
                                    "city": "Racine"
                                },
                                {
                                    "NumberOfCityCalls": "18",
                                    "city": "Farmington"
                                },
                                {
                                    "NumberOfCityCalls": "18",
                                    "city": "Dulles"
                                },
                                {
                                    "NumberOfCityCalls": "18",
                                    "city": "Hicksville"
                                },
                                {
                                    "NumberOfCityCalls": "18",
                                    "city": "South Lake Tahoe"
                                },
                                {
                                    "NumberOfCityCalls": "18",
                                    "city": "Norman"
                                },
                                {
                                    "NumberOfCityCalls": "17",
                                    "city": "Mount Vernon"
                                },
                                {
                                    "NumberOfCityCalls": "17",
                                    "city": "Humble"
                                },
                                {
                                    "NumberOfCityCalls": "17",
                                    "city": "Aiken"
                                },
                                {
                                    "NumberOfCityCalls": "17",
                                    "city": "Manassas"
                                },
                                {
                                    "NumberOfCityCalls": "17",
                                    "city": "Jeffersonville"
                                },
                                {
                                    "NumberOfCityCalls": "17",
                                    "city": "Frankfort"
                                },
                                {
                                    "NumberOfCityCalls": "17",
                                    "city": "Bethlehem"
                                },
                                {
                                    "NumberOfCityCalls": "17",
                                    "city": "West Hartford"
                                },
                                {
                                    "NumberOfCityCalls": "17",
                                    "city": "Palmdale"
                                },
                                {
                                    "NumberOfCityCalls": "17",
                                    "city": "Juneau"
                                },
                                {
                                    "NumberOfCityCalls": "17",
                                    "city": "Missoula"
                                },
                                {
                                    "NumberOfCityCalls": "17",
                                    "city": "Gilbert"
                                },
                                {
                                    "NumberOfCityCalls": "17",
                                    "city": "Alpharetta"
                                },
                                {
                                    "NumberOfCityCalls": "17",
                                    "city": "Greeley"
                                },
                                {
                                    "NumberOfCityCalls": "17",
                                    "city": "Yakima"
                                },
                                {
                                    "NumberOfCityCalls": "17",
                                    "city": "Bozeman"
                                },
                                {
                                    "NumberOfCityCalls": "16",
                                    "city": "Santa Cruz"
                                },
                                {
                                    "NumberOfCityCalls": "16",
                                    "city": "Lima"
                                },
                                {
                                    "NumberOfCityCalls": "16",
                                    "city": "Gulfport"
                                },
                                {
                                    "NumberOfCityCalls": "16",
                                    "city": "Gaithersburg"
                                },
                                {
                                    "NumberOfCityCalls": "16",
                                    "city": "Troy"
                                },
                                {
                                    "NumberOfCityCalls": "16",
                                    "city": "Zephyrhills"
                                },
                                {
                                    "NumberOfCityCalls": "16",
                                    "city": "Hamilton"
                                },
                                {
                                    "NumberOfCityCalls": "16",
                                    "city": "Petaluma"
                                },
                                {
                                    "NumberOfCityCalls": "16",
                                    "city": "Concord"
                                },
                                {
                                    "NumberOfCityCalls": "16",
                                    "city": "Laredo"
                                },
                                {
                                    "NumberOfCityCalls": "16",
                                    "city": "Iowa City"
                                },
                                {
                                    "NumberOfCityCalls": "16",
                                    "city": "Muskegon"
                                },
                                {
                                    "NumberOfCityCalls": "16",
                                    "city": "Herndon"
                                },
                                {
                                    "NumberOfCityCalls": "16",
                                    "city": "Mc Keesport"
                                },
                                {
                                    "NumberOfCityCalls": "16",
                                    "city": "Fairfield"
                                },
                                {
                                    "NumberOfCityCalls": "16",
                                    "city": "Pomona"
                                },
                                {
                                    "NumberOfCityCalls": "16",
                                    "city": "Apache Junction"
                                },
                                {
                                    "NumberOfCityCalls": "16",
                                    "city": "Anniston"
                                },
                                {
                                    "NumberOfCityCalls": "16",
                                    "city": "York"
                                },
                                {
                                    "NumberOfCityCalls": "15",
                                    "city": "Levittown"
                                },
                                {
                                    "NumberOfCityCalls": "15",
                                    "city": "Dearborn"
                                },
                                {
                                    "NumberOfCityCalls": "15",
                                    "city": "Valley Forge"
                                },
                                {
                                    "NumberOfCityCalls": "15",
                                    "city": "Crawfordsville"
                                },
                                {
                                    "NumberOfCityCalls": "15",
                                    "city": "New Castle"
                                },
                                {
                                    "NumberOfCityCalls": "15",
                                    "city": "Longview"
                                },
                                {
                                    "NumberOfCityCalls": "15",
                                    "city": "Helena"
                                },
                                {
                                    "NumberOfCityCalls": "15",
                                    "city": "Boynton Beach"
                                },
                                {
                                    "NumberOfCityCalls": "15",
                                    "city": "New Bedford"
                                },
                                {
                                    "NumberOfCityCalls": "15",
                                    "city": "Allentown"
                                },
                                {
                                    "NumberOfCityCalls": "15",
                                    "city": "Gatesville"
                                },
                                {
                                    "NumberOfCityCalls": "15",
                                    "city": "Temple"
                                },
                                {
                                    "NumberOfCityCalls": "15",
                                    "city": "Merrifield"
                                },
                                {
                                    "NumberOfCityCalls": "15",
                                    "city": "Johnstown"
                                },
                                {
                                    "NumberOfCityCalls": "14",
                                    "city": "Southfield"
                                },
                                {
                                    "NumberOfCityCalls": "14",
                                    "city": "Evanston"
                                },
                                {
                                    "NumberOfCityCalls": "14",
                                    "city": "Palm Bay"
                                },
                                {
                                    "NumberOfCityCalls": "14",
                                    "city": "Sandy"
                                },
                                {
                                    "NumberOfCityCalls": "14",
                                    "city": "Waterloo"
                                },
                                {
                                    "NumberOfCityCalls": "14",
                                    "city": "Lees Summit"
                                },
                                {
                                    "NumberOfCityCalls": "14",
                                    "city": "Sterling"
                                },
                                {
                                    "NumberOfCityCalls": "14",
                                    "city": "Champaign"
                                },
                                {
                                    "NumberOfCityCalls": "14",
                                    "city": "Annapolis"
                                },
                                {
                                    "NumberOfCityCalls": "14",
                                    "city": "Simi Valley"
                                },
                                {
                                    "NumberOfCityCalls": "14",
                                    "city": "Hagerstown"
                                },
                                {
                                    "NumberOfCityCalls": "14",
                                    "city": "Rockville"
                                },
                                {
                                    "NumberOfCityCalls": "14",
                                    "city": "Hayward"
                                },
                                {
                                    "NumberOfCityCalls": "14",
                                    "city": "San Rafael"
                                },
                                {
                                    "NumberOfCityCalls": "14",
                                    "city": "Brooksville"
                                },
                                {
                                    "NumberOfCityCalls": "14",
                                    "city": "Katy"
                                },
                                {
                                    "NumberOfCityCalls": "14",
                                    "city": "Murfreesboro"
                                },
                                {
                                    "NumberOfCityCalls": "14",
                                    "city": "Watertown"
                                },
                                {
                                    "NumberOfCityCalls": "14",
                                    "city": "Falls Church"
                                },
                                {
                                    "NumberOfCityCalls": "14",
                                    "city": "Cumming"
                                },
                                {
                                    "NumberOfCityCalls": "14",
                                    "city": "Frederick"
                                },
                                {
                                    "NumberOfCityCalls": "14",
                                    "city": "New Hyde Park"
                                },
                                {
                                    "NumberOfCityCalls": "14",
                                    "city": "Gadsden"
                                },
                                {
                                    "NumberOfCityCalls": "14",
                                    "city": "Montpelier"
                                },
                                {
                                    "NumberOfCityCalls": "14",
                                    "city": "Fort Collins"
                                },
                                {
                                    "NumberOfCityCalls": "13",
                                    "city": "Lynn"
                                },
                                {
                                    "NumberOfCityCalls": "13",
                                    "city": "Chico"
                                },
                                {
                                    "NumberOfCityCalls": "13",
                                    "city": "Great Neck"
                                },
                                {
                                    "NumberOfCityCalls": "13",
                                    "city": "Port Charlotte"
                                },
                                {
                                    "NumberOfCityCalls": "13",
                                    "city": "Cambridge"
                                },
                                {
                                    "NumberOfCityCalls": "13",
                                    "city": "Gastonia"
                                },
                                {
                                    "NumberOfCityCalls": "13",
                                    "city": "Lehigh Acres"
                                },
                                {
                                    "NumberOfCityCalls": "13",
                                    "city": "Elizabeth"
                                },
                                {
                                    "NumberOfCityCalls": "13",
                                    "city": "Texarkana"
                                },
                                {
                                    "NumberOfCityCalls": "13",
                                    "city": "Battle Creek"
                                },
                                {
                                    "NumberOfCityCalls": "13",
                                    "city": "Arvada"
                                },
                                {
                                    "NumberOfCityCalls": "12",
                                    "city": "Ann Arbor"
                                },
                                {
                                    "NumberOfCityCalls": "12",
                                    "city": "High Point"
                                },
                                {
                                    "NumberOfCityCalls": "12",
                                    "city": "Oxnard"
                                },
                                {
                                    "NumberOfCityCalls": "12",
                                    "city": "Valdosta"
                                },
                                {
                                    "NumberOfCityCalls": "12",
                                    "city": "Chula Vista"
                                },
                                {
                                    "NumberOfCityCalls": "12",
                                    "city": "Utica"
                                },
                                {
                                    "NumberOfCityCalls": "12",
                                    "city": "Kissimmee"
                                },
                                {
                                    "NumberOfCityCalls": "12",
                                    "city": "Killeen"
                                },
                                {
                                    "NumberOfCityCalls": "11",
                                    "city": "Edmond"
                                },
                                {
                                    "NumberOfCityCalls": "11",
                                    "city": "Homestead"
                                },
                                {
                                    "NumberOfCityCalls": "11",
                                    "city": "Cheyenne"
                                },
                                {
                                    "NumberOfCityCalls": "11",
                                    "city": "Englewood"
                                },
                                {
                                    "NumberOfCityCalls": "10",
                                    "city": "Mesquite"
                                },
                                {
                                    "NumberOfCityCalls": "10",
                                    "city": "Migrate"
                                },
                                {
                                    "NumberOfCityCalls": "10",
                                    "city": "Myrtle Beach"
                                },
                                {
                                    "NumberOfCityCalls": "9",
                                    "city": "Ridgely"
                                },
                                {
                                    "NumberOfCityCalls": "9",
                                    "city": "Kingsport"
                                },
                                {
                                    "NumberOfCityCalls": "7",
                                    "city": "Yonkers"
                                },
                                {
                                    "NumberOfCityCalls": "7",
                                    "city": "Eugene"
                                }
                            ],
                            "schema": {
                                "fields": [
                                    {
                                        "name": "city"
                                    },
                                    {
                                        "name": "NumberOfCityCalls"
                                    }
                                ]
                            }
                        },
                        "text/html": [
                            "<table><tr><th>city</th><th>NumberOfCityCalls</th></tr><tr><td>Washington</td><td>1110</td></tr><tr><td>Houston</td><td>657</td></tr><tr><td>New York City</td><td>564</td></tr><tr><td>El Paso</td><td>528</td></tr><tr><td>Dallas</td><td>437</td></tr><tr><td>Atlanta</td><td>416</td></tr><tr><td>Miami</td><td>374</td></tr><tr><td>Sacramento</td><td>341</td></tr><tr><td>Los Angeles</td><td>331</td></tr><tr><td>Kansas City</td><td>327</td></tr><tr><td>Chicago</td><td>327</td></tr><tr><td>Springfield</td><td>304</td></tr><tr><td>San Antonio</td><td>299</td></tr><tr><td>Austin</td><td>288</td></tr><tr><td>Phoenix</td><td>286</td></tr><tr><td>Pittsburgh</td><td>277</td></tr><tr><td>Oklahoma City</td><td>277</td></tr><tr><td>Birmingham</td><td>274</td></tr><tr><td>Richmond</td><td>273</td></tr><tr><td>Philadelphia</td><td>270</td></tr><tr><td>Cincinnati</td><td>269</td></tr><tr><td>Minneapolis</td><td>263</td></tr><tr><td>Denver</td><td>260</td></tr><tr><td>Las Vegas</td><td>260</td></tr><tr><td>San Diego</td><td>258</td></tr><tr><td>Charlotte</td><td>258</td></tr><tr><td>San Francisco</td><td>255</td></tr><tr><td>Memphis</td><td>250</td></tr><tr><td>Seattle</td><td>239</td></tr><tr><td>Saint Louis</td><td>237</td></tr><tr><td>Tulsa</td><td>232</td></tr><tr><td>New Orleans</td><td>231</td></tr><tr><td>Salt Lake City</td><td>223</td></tr><tr><td>Orlando</td><td>222</td></tr><tr><td>Indianapolis</td><td>222</td></tr><tr><td>Charleston</td><td>219</td></tr><tr><td>Des Moines</td><td>219</td></tr><tr><td>Portland</td><td>218</td></tr><tr><td>Tampa</td><td>217</td></tr><tr><td>Louisville</td><td>216</td></tr><tr><td>Columbus</td><td>214</td></tr><tr><td>Fresno</td><td>212</td></tr><tr><td>Boston</td><td>198</td></tr><tr><td>Jacksonville</td><td>196</td></tr><tr><td>Arlington</td><td>195</td></tr><tr><td>Detroit</td><td>193</td></tr><tr><td>Colorado Springs</td><td>191</td></tr><tr><td>Albany</td><td>187</td></tr><tr><td>Rochester</td><td>186</td></tr><tr><td>Fort Worth</td><td>186</td></tr><tr><td>Baltimore</td><td>182</td></tr><tr><td>Saint Paul</td><td>182</td></tr><tr><td>San Jose</td><td>181</td></tr><tr><td>Tucson</td><td>173</td></tr><tr><td>Roanoke</td><td>168</td></tr><tr><td>Dayton</td><td>165</td></tr><tr><td>Mobile</td><td>163</td></tr><tr><td>Albuquerque</td><td>162</td></tr><tr><td>Topeka</td><td>161</td></tr><tr><td>Fort Lauderdale</td><td>161</td></tr><tr><td>Nashville</td><td>161</td></tr><tr><td>Montgomery</td><td>160</td></tr><tr><td>Cleveland</td><td>152</td></tr><tr><td>Pasadena</td><td>151</td></tr><tr><td>Brooklyn</td><td>151</td></tr><tr><td>Amarillo</td><td>151</td></tr><tr><td>Omaha</td><td>150</td></tr><tr><td>Honolulu</td><td>149</td></tr><tr><td>Baton Rouge</td><td>147</td></tr><tr><td>Raleigh</td><td>146</td></tr><tr><td>Fort Wayne</td><td>146</td></tr><tr><td>Lexington</td><td>145</td></tr><tr><td>Milwaukee</td><td>145</td></tr><tr><td>Peoria</td><td>139</td></tr><tr><td>Boise</td><td>133</td></tr><tr><td>Buffalo</td><td>132</td></tr><tr><td>Jamaica</td><td>132</td></tr><tr><td>Huntington</td><td>128</td></tr><tr><td>Tacoma</td><td>128</td></tr><tr><td>Evansville</td><td>127</td></tr><tr><td>Wichita</td><td>126</td></tr><tr><td>Shawnee Mission</td><td>124</td></tr><tr><td>Saint Petersburg</td><td>124</td></tr><tr><td>Corpus Christi</td><td>124</td></tr><tr><td>Wilmington</td><td>121</td></tr><tr><td>Pensacola</td><td>120</td></tr><tr><td>Knoxville</td><td>120</td></tr><tr><td>Toledo</td><td>119</td></tr><tr><td>Madison</td><td>118</td></tr><tr><td>Shreveport</td><td>118</td></tr><tr><td>Columbia</td><td>115</td></tr><tr><td>Spokane</td><td>114</td></tr><tr><td>Hartford</td><td>114</td></tr><tr><td>Greensboro</td><td>112</td></tr><tr><td>Little Rock</td><td>110</td></tr><tr><td>Trenton</td><td>105</td></tr><tr><td>Akron</td><td>105</td></tr><tr><td>Newark</td><td>104</td></tr><tr><td>Jackson</td><td>104</td></tr><tr><td>Oakland</td><td>104</td></tr><tr><td>Erie</td><td>103</td></tr><tr><td>Clearwater</td><td>101</td></tr><tr><td>Bakersfield</td><td>99</td></tr><tr><td>Bronx</td><td>98</td></tr><tr><td>Huntsville</td><td>98</td></tr><tr><td>West Palm Beach</td><td>94</td></tr><tr><td>Sioux Falls</td><td>93</td></tr><tr><td>Lincoln</td><td>93</td></tr><tr><td>Anchorage</td><td>91</td></tr><tr><td>Long Beach</td><td>88</td></tr><tr><td>Reno</td><td>86</td></tr><tr><td>Syracuse</td><td>84</td></tr><tr><td>Lansing</td><td>83</td></tr><tr><td>New Haven</td><td>82</td></tr><tr><td>Alexandria</td><td>81</td></tr><tr><td>Naples</td><td>80</td></tr><tr><td>South Bend</td><td>80</td></tr><tr><td>Grand Rapids</td><td>79</td></tr><tr><td>Glendale</td><td>79</td></tr><tr><td>Harrisburg</td><td>79</td></tr><tr><td>Tallahassee</td><td>78</td></tr><tr><td>Winston Salem</td><td>77</td></tr><tr><td>Norfolk</td><td>73</td></tr><tr><td>Aurora</td><td>73</td></tr><tr><td>Chattanooga</td><td>73</td></tr><tr><td>Savannah</td><td>71</td></tr><tr><td>Lubbock</td><td>71</td></tr><tr><td>Stockton</td><td>70</td></tr><tr><td>Irvine</td><td>70</td></tr><tr><td>San Bernardino</td><td>70</td></tr><tr><td>Durham</td><td>68</td></tr><tr><td>Gainesville</td><td>67</td></tr><tr><td>Mesa</td><td>66</td></tr><tr><td>Young America</td><td>65</td></tr><tr><td>Orange</td><td>65</td></tr><tr><td>Inglewood</td><td>64</td></tr><tr><td>Augusta</td><td>64</td></tr><tr><td>Macon</td><td>63</td></tr><tr><td>Virginia Beach</td><td>63</td></tr><tr><td>Duluth</td><td>62</td></tr><tr><td>Van Nuys</td><td>61</td></tr><tr><td>Pueblo</td><td>61</td></tr><tr><td>Tyler</td><td>61</td></tr><tr><td>Flint</td><td>61</td></tr><tr><td>Scottsdale</td><td>61</td></tr><tr><td>Wilkes Barre</td><td>60</td></tr><tr><td>Paterson</td><td>60</td></tr><tr><td>Monticello</td><td>57</td></tr><tr><td>Riverside</td><td>57</td></tr><tr><td>Youngstown</td><td>56</td></tr><tr><td>Midland</td><td>55</td></tr><tr><td>Daytona Beach</td><td>55</td></tr><tr><td>Boulder</td><td>55</td></tr><tr><td>Santa Barbara</td><td>54</td></tr><tr><td>Lancaster</td><td>54</td></tr><tr><td>Boca Raton</td><td>53</td></tr><tr><td>Sarasota</td><td>53</td></tr><tr><td>Waco</td><td>53</td></tr><tr><td>Silver Spring</td><td>53</td></tr><tr><td>Canton</td><td>52</td></tr><tr><td>Fort Myers</td><td>52</td></tr><tr><td>Bradenton</td><td>52</td></tr><tr><td>Anaheim</td><td>52</td></tr><tr><td>Waterbury</td><td>51</td></tr><tr><td>Stamford</td><td>51</td></tr><tr><td>Decatur</td><td>51</td></tr><tr><td>Worcester</td><td>49</td></tr><tr><td>Davenport</td><td>48</td></tr><tr><td>Littleton</td><td>47</td></tr><tr><td>Lake Worth</td><td>47</td></tr><tr><td>Irving</td><td>45</td></tr><tr><td>Portsmouth</td><td>45</td></tr><tr><td>Berkeley</td><td>45</td></tr><tr><td>Billings</td><td>45</td></tr><tr><td>Rockford</td><td>44</td></tr><tr><td>White Plains</td><td>44</td></tr><tr><td>Saint Cloud</td><td>43</td></tr><tr><td>Lawrenceville</td><td>43</td></tr><tr><td>Corona</td><td>42</td></tr><tr><td>Vero Beach</td><td>42</td></tr><tr><td>Odessa</td><td>42</td></tr><tr><td>Vancouver</td><td>42</td></tr><tr><td>Jefferson City</td><td>41</td></tr><tr><td>Schenectady</td><td>41</td></tr><tr><td>Wichita Falls</td><td>41</td></tr><tr><td>Green Bay</td><td>40</td></tr><tr><td>Spartanburg</td><td>40</td></tr><tr><td>Newport News</td><td>40</td></tr><tr><td>Pompano Beach</td><td>40</td></tr><tr><td>Lakeland</td><td>40</td></tr><tr><td>Cedar Rapids</td><td>40</td></tr><tr><td>Staten Island</td><td>39</td></tr><tr><td>Reading</td><td>39</td></tr><tr><td>Beaumont</td><td>39</td></tr><tr><td>Anderson</td><td>38</td></tr><tr><td>Fairbanks</td><td>38</td></tr><tr><td>Bethesda</td><td>38</td></tr><tr><td>Olympia</td><td>38</td></tr><tr><td>Flushing</td><td>38</td></tr><tr><td>Ocala</td><td>38</td></tr><tr><td>Lafayette</td><td>38</td></tr><tr><td>Hollywood</td><td>38</td></tr><tr><td>Burbank</td><td>37</td></tr><tr><td>Terre Haute</td><td>37</td></tr><tr><td>Greenville</td><td>36</td></tr><tr><td>North Little Rock</td><td>36</td></tr><tr><td>Carol Stream</td><td>36</td></tr><tr><td>Santa Ana</td><td>36</td></tr><tr><td>Garden Grove</td><td>36</td></tr><tr><td>Largo</td><td>36</td></tr><tr><td>Newton</td><td>35</td></tr><tr><td>Ogden</td><td>35</td></tr><tr><td>Providence</td><td>35</td></tr><tr><td>Fort Smith</td><td>35</td></tr><tr><td>Brockton</td><td>35</td></tr><tr><td>Carson City</td><td>34</td></tr><tr><td>Salem</td><td>34</td></tr><tr><td>Modesto</td><td>34</td></tr><tr><td>Maple Plain</td><td>34</td></tr><tr><td>Spring</td><td>33</td></tr><tr><td>Lake Charles</td><td>33</td></tr><tr><td>Saginaw</td><td>33</td></tr><tr><td>Bloomington</td><td>33</td></tr><tr><td>Abilene</td><td>33</td></tr><tr><td>North Hollywood</td><td>33</td></tr><tr><td>Monroe</td><td>32</td></tr><tr><td>Bridgeport</td><td>32</td></tr><tr><td>Fargo</td><td>32</td></tr><tr><td>Santa Fe</td><td>32</td></tr><tr><td>Melbourne</td><td>31</td></tr><tr><td>Jersey City</td><td>31</td></tr><tr><td>Denton</td><td>31</td></tr><tr><td>Fort Pierce</td><td>31</td></tr><tr><td>Tuscaloosa</td><td>31</td></tr><tr><td>Lynchburg</td><td>31</td></tr><tr><td>Torrance</td><td>31</td></tr><tr><td>Alhambra</td><td>31</td></tr><tr><td>Charlottesville</td><td>30</td></tr><tr><td>Reston</td><td>29</td></tr><tr><td>Scranton</td><td>29</td></tr><tr><td>Hialeah</td><td>29</td></tr><tr><td>Fullerton</td><td>29</td></tr><tr><td>North Las Vegas</td><td>29</td></tr><tr><td>Sioux City</td><td>29</td></tr><tr><td>Asheville</td><td>28</td></tr><tr><td>Henderson</td><td>28</td></tr><tr><td>Kalamazoo</td><td>28</td></tr><tr><td>Hampton</td><td>28</td></tr><tr><td>Huntington Beach</td><td>28</td></tr><tr><td>Panama City</td><td>28</td></tr><tr><td>Warren</td><td>27</td></tr><tr><td>East Saint Louis</td><td>27</td></tr><tr><td>Marietta</td><td>26</td></tr><tr><td>Provo</td><td>26</td></tr><tr><td>Metairie</td><td>26</td></tr><tr><td>Fairfax</td><td>26</td></tr><tr><td>Santa Monica</td><td>26</td></tr><tr><td>Bellevue</td><td>25</td></tr><tr><td>Athens</td><td>25</td></tr><tr><td>San Luis Obispo</td><td>25</td></tr><tr><td>Norcross</td><td>25</td></tr><tr><td>Mountain View</td><td>24</td></tr><tr><td>Mansfield</td><td>24</td></tr><tr><td>Northridge</td><td>24</td></tr><tr><td>Norwalk</td><td>24</td></tr><tr><td>Delray Beach</td><td>24</td></tr><tr><td>Conroe</td><td>24</td></tr><tr><td>Vienna</td><td>24</td></tr><tr><td>Elmira</td><td>24</td></tr><tr><td>Joliet</td><td>24</td></tr><tr><td>San Mateo</td><td>23</td></tr><tr><td>Spring Hill</td><td>23</td></tr><tr><td>Fredericksburg</td><td>23</td></tr><tr><td>Chesapeake</td><td>23</td></tr><tr><td>Hot Springs National Park</td><td>23</td></tr><tr><td>Whittier</td><td>23</td></tr><tr><td>Fayetteville</td><td>23</td></tr><tr><td>Chandler</td><td>23</td></tr><tr><td>Brea</td><td>23</td></tr><tr><td>College Station</td><td>23</td></tr><tr><td>Gary</td><td>23</td></tr><tr><td>London</td><td>23</td></tr><tr><td>Naperville</td><td>22</td></tr><tr><td>Bryan</td><td>22</td></tr><tr><td>Palo Alto</td><td>22</td></tr><tr><td>Oceanside</td><td>22</td></tr><tr><td>Escondido</td><td>22</td></tr><tr><td>Punta Gorda</td><td>22</td></tr><tr><td>Redwood City</td><td>22</td></tr><tr><td>Sparks</td><td>22</td></tr><tr><td>Grand Forks</td><td>22</td></tr><tr><td>Bismarck</td><td>22</td></tr><tr><td>Manchester</td><td>22</td></tr><tr><td>Laurel</td><td>22</td></tr><tr><td>Seminole</td><td>22</td></tr><tr><td>Port Washington</td><td>21</td></tr><tr><td>Idaho Falls</td><td>21</td></tr><tr><td>New Brunswick</td><td>21</td></tr><tr><td>Port Saint Lucie</td><td>21</td></tr><tr><td>Everett</td><td>21</td></tr><tr><td>Danbury</td><td>21</td></tr><tr><td>Visalia</td><td>21</td></tr><tr><td>Suffolk</td><td>21</td></tr><tr><td>Bonita Springs</td><td>21</td></tr><tr><td>Garland</td><td>21</td></tr><tr><td>Hattiesburg</td><td>21</td></tr><tr><td>Round Rock</td><td>21</td></tr><tr><td>Saint Joseph</td><td>21</td></tr><tr><td>Sunnyvale</td><td>21</td></tr><tr><td>Pinellas Park</td><td>21</td></tr><tr><td>Appleton</td><td>21</td></tr><tr><td>Galveston</td><td>21</td></tr><tr><td>Ventura</td><td>20</td></tr><tr><td>Plano</td><td>20</td></tr><tr><td>Moreno Valley</td><td>20</td></tr><tr><td>Prescott</td><td>20</td></tr><tr><td>Newport Beach</td><td>20</td></tr><tr><td>Hyattsville</td><td>20</td></tr><tr><td>Pocatello</td><td>20</td></tr><tr><td>Ashburn</td><td>20</td></tr><tr><td>Palatine</td><td>20</td></tr><tr><td>Cape Coral</td><td>20</td></tr><tr><td>Loretto</td><td>20</td></tr><tr><td>Independence</td><td>20</td></tr><tr><td>Morgantown</td><td>20</td></tr><tr><td>Lakewood</td><td>20</td></tr><tr><td>Santa Rosa</td><td>20</td></tr><tr><td>Tempe</td><td>19</td></tr><tr><td>Schaumburg</td><td>19</td></tr><tr><td>Beaufort</td><td>19</td></tr><tr><td>North Port</td><td>19</td></tr><tr><td>San Angelo</td><td>19</td></tr><tr><td>Kent</td><td>19</td></tr><tr><td>Muncie</td><td>19</td></tr><tr><td>Woburn</td><td>19</td></tr><tr><td>Johnson City</td><td>19</td></tr><tr><td>Meridian</td><td>19</td></tr><tr><td>Bowie</td><td>19</td></tr><tr><td>Florence</td><td>19</td></tr><tr><td>Grand Junction</td><td>19</td></tr><tr><td>Biloxi</td><td>19</td></tr><tr><td>Las Cruces</td><td>18</td></tr><tr><td>Santa Clara</td><td>18</td></tr><tr><td>Saint Augustine</td><td>18</td></tr><tr><td>Salinas</td><td>18</td></tr><tr><td>Waltham</td><td>18</td></tr><tr><td>Camden</td><td>18</td></tr><tr><td>Carlsbad</td><td>18</td></tr><tr><td>Beaverton</td><td>18</td></tr><tr><td>Winter Haven</td><td>18</td></tr><tr><td>Miami Beach</td><td>18</td></tr><tr><td>Racine</td><td>18</td></tr><tr><td>Farmington</td><td>18</td></tr><tr><td>Dulles</td><td>18</td></tr><tr><td>Hicksville</td><td>18</td></tr><tr><td>South Lake Tahoe</td><td>18</td></tr><tr><td>Norman</td><td>18</td></tr><tr><td>Mount Vernon</td><td>17</td></tr><tr><td>Humble</td><td>17</td></tr><tr><td>Aiken</td><td>17</td></tr><tr><td>Manassas</td><td>17</td></tr><tr><td>Jeffersonville</td><td>17</td></tr><tr><td>Frankfort</td><td>17</td></tr><tr><td>Bethlehem</td><td>17</td></tr><tr><td>West Hartford</td><td>17</td></tr><tr><td>Palmdale</td><td>17</td></tr><tr><td>Juneau</td><td>17</td></tr><tr><td>Missoula</td><td>17</td></tr><tr><td>Gilbert</td><td>17</td></tr><tr><td>Alpharetta</td><td>17</td></tr><tr><td>Greeley</td><td>17</td></tr><tr><td>Yakima</td><td>17</td></tr><tr><td>Bozeman</td><td>17</td></tr><tr><td>Santa Cruz</td><td>16</td></tr><tr><td>Lima</td><td>16</td></tr><tr><td>Gulfport</td><td>16</td></tr><tr><td>Gaithersburg</td><td>16</td></tr><tr><td>Troy</td><td>16</td></tr><tr><td>Zephyrhills</td><td>16</td></tr><tr><td>Hamilton</td><td>16</td></tr><tr><td>Petaluma</td><td>16</td></tr><tr><td>Concord</td><td>16</td></tr><tr><td>Laredo</td><td>16</td></tr><tr><td>Iowa City</td><td>16</td></tr><tr><td>Muskegon</td><td>16</td></tr><tr><td>Herndon</td><td>16</td></tr><tr><td>Mc Keesport</td><td>16</td></tr><tr><td>Fairfield</td><td>16</td></tr><tr><td>Pomona</td><td>16</td></tr><tr><td>Apache Junction</td><td>16</td></tr><tr><td>Anniston</td><td>16</td></tr><tr><td>York</td><td>16</td></tr><tr><td>Levittown</td><td>15</td></tr><tr><td>Dearborn</td><td>15</td></tr><tr><td>Valley Forge</td><td>15</td></tr><tr><td>Crawfordsville</td><td>15</td></tr><tr><td>New Castle</td><td>15</td></tr><tr><td>Longview</td><td>15</td></tr><tr><td>Helena</td><td>15</td></tr><tr><td>Boynton Beach</td><td>15</td></tr><tr><td>New Bedford</td><td>15</td></tr><tr><td>Allentown</td><td>15</td></tr><tr><td>Gatesville</td><td>15</td></tr><tr><td>Temple</td><td>15</td></tr><tr><td>Merrifield</td><td>15</td></tr><tr><td>Johnstown</td><td>15</td></tr><tr><td>Southfield</td><td>14</td></tr><tr><td>Evanston</td><td>14</td></tr><tr><td>Palm Bay</td><td>14</td></tr><tr><td>Sandy</td><td>14</td></tr><tr><td>Waterloo</td><td>14</td></tr><tr><td>Lees Summit</td><td>14</td></tr><tr><td>Sterling</td><td>14</td></tr><tr><td>Champaign</td><td>14</td></tr><tr><td>Annapolis</td><td>14</td></tr><tr><td>Simi Valley</td><td>14</td></tr><tr><td>Hagerstown</td><td>14</td></tr><tr><td>Rockville</td><td>14</td></tr><tr><td>Hayward</td><td>14</td></tr><tr><td>San Rafael</td><td>14</td></tr><tr><td>Brooksville</td><td>14</td></tr><tr><td>Katy</td><td>14</td></tr><tr><td>Murfreesboro</td><td>14</td></tr><tr><td>Watertown</td><td>14</td></tr><tr><td>Falls Church</td><td>14</td></tr><tr><td>Cumming</td><td>14</td></tr><tr><td>Frederick</td><td>14</td></tr><tr><td>New Hyde Park</td><td>14</td></tr><tr><td>Gadsden</td><td>14</td></tr><tr><td>Montpelier</td><td>14</td></tr><tr><td>Fort Collins</td><td>14</td></tr><tr><td>Lynn</td><td>13</td></tr><tr><td>Chico</td><td>13</td></tr><tr><td>Great Neck</td><td>13</td></tr><tr><td>Port Charlotte</td><td>13</td></tr><tr><td>Cambridge</td><td>13</td></tr><tr><td>Gastonia</td><td>13</td></tr><tr><td>Lehigh Acres</td><td>13</td></tr><tr><td>Elizabeth</td><td>13</td></tr><tr><td>Texarkana</td><td>13</td></tr><tr><td>Battle Creek</td><td>13</td></tr><tr><td>Arvada</td><td>13</td></tr><tr><td>Ann Arbor</td><td>12</td></tr><tr><td>High Point</td><td>12</td></tr><tr><td>Oxnard</td><td>12</td></tr><tr><td>Valdosta</td><td>12</td></tr><tr><td>Chula Vista</td><td>12</td></tr><tr><td>Utica</td><td>12</td></tr><tr><td>Kissimmee</td><td>12</td></tr><tr><td>Killeen</td><td>12</td></tr><tr><td>Edmond</td><td>11</td></tr><tr><td>Homestead</td><td>11</td></tr><tr><td>Cheyenne</td><td>11</td></tr><tr><td>Englewood</td><td>11</td></tr><tr><td>Mesquite</td><td>10</td></tr><tr><td>Migrate</td><td>10</td></tr><tr><td>Myrtle Beach</td><td>10</td></tr><tr><td>Ridgely</td><td>9</td></tr><tr><td>Kingsport</td><td>9</td></tr><tr><td>Yonkers</td><td>7</td></tr><tr><td>Eugene</td><td>7</td></tr></table>"
                        ]
                    },
                    "execution_count": 59,
                    "metadata": {},
                    "output_type": "execute_result"
                }
            ],
            "source": [
                "select distinct(city), COUNT(city) as NumberOfCityCalls  from CallCenter\n",
                "group by city\n",
                "order by NumberOfCityCalls DESC"
            ]
        },
        {
            "cell_type": "code",
            "execution_count": 60,
            "metadata": {
                "azdata_cell_guid": "f2958ed5-d1a6-41c0-932c-b9f8e594caae",
                "language": "sql"
            },
            "outputs": [
                {
                    "data": {
                        "text/html": [
                            "(12 rows affected)"
                        ]
                    },
                    "metadata": {},
                    "output_type": "display_data"
                },
                {
                    "data": {
                        "text/html": [
                            "Total execution time: 00:00:00.034"
                        ]
                    },
                    "metadata": {},
                    "output_type": "display_data"
                },
                {
                    "data": {
                        "application/vnd.dataresource+json": {
                            "data": [
                                {
                                    "COLUMN_NAME": "id",
                                    "DATA_TYPE": "nvarchar"
                                },
                                {
                                    "COLUMN_NAME": "customer_name",
                                    "DATA_TYPE": "nvarchar"
                                },
                                {
                                    "COLUMN_NAME": "sentiment",
                                    "DATA_TYPE": "nvarchar"
                                },
                                {
                                    "COLUMN_NAME": "csat_score",
                                    "DATA_TYPE": "tinyint"
                                },
                                {
                                    "COLUMN_NAME": "call_timestamp",
                                    "DATA_TYPE": "date"
                                },
                                {
                                    "COLUMN_NAME": "reason",
                                    "DATA_TYPE": "nvarchar"
                                },
                                {
                                    "COLUMN_NAME": "city",
                                    "DATA_TYPE": "nvarchar"
                                },
                                {
                                    "COLUMN_NAME": "state",
                                    "DATA_TYPE": "nvarchar"
                                },
                                {
                                    "COLUMN_NAME": "channel",
                                    "DATA_TYPE": "nvarchar"
                                },
                                {
                                    "COLUMN_NAME": "response_time",
                                    "DATA_TYPE": "nvarchar"
                                },
                                {
                                    "COLUMN_NAME": "call_duration_in_minutes",
                                    "DATA_TYPE": "tinyint"
                                },
                                {
                                    "COLUMN_NAME": "call_center",
                                    "DATA_TYPE": "nvarchar"
                                }
                            ],
                            "schema": {
                                "fields": [
                                    {
                                        "name": "COLUMN_NAME"
                                    },
                                    {
                                        "name": "DATA_TYPE"
                                    }
                                ]
                            }
                        },
                        "text/html": [
                            "<table><tr><th>COLUMN_NAME</th><th>DATA_TYPE</th></tr><tr><td>id</td><td>nvarchar</td></tr><tr><td>customer_name</td><td>nvarchar</td></tr><tr><td>sentiment</td><td>nvarchar</td></tr><tr><td>csat_score</td><td>tinyint</td></tr><tr><td>call_timestamp</td><td>date</td></tr><tr><td>reason</td><td>nvarchar</td></tr><tr><td>city</td><td>nvarchar</td></tr><tr><td>state</td><td>nvarchar</td></tr><tr><td>channel</td><td>nvarchar</td></tr><tr><td>response_time</td><td>nvarchar</td></tr><tr><td>call_duration_in_minutes</td><td>tinyint</td></tr><tr><td>call_center</td><td>nvarchar</td></tr></table>"
                        ]
                    },
                    "execution_count": 60,
                    "metadata": {},
                    "output_type": "execute_result"
                }
            ],
            "source": [
                "-- Columns DataTypes\n",
                "DECLARE @TableName NVARCHAR(128) = 'CallCenter';\n",
                "\n",
                "SELECT \n",
                "    COLUMN_NAME,\n",
                "    DATA_TYPE\n",
                "FROM \n",
                "    INFORMATION_SCHEMA.COLUMNS\n",
                "WHERE \n",
                "    TABLE_NAME = @TableName;\n"
            ]
        },
        {
            "cell_type": "markdown",
            "metadata": {},
            "source": [
                "##  Data Analysis\n",
                "\n"
            ]
        },
        {
            "cell_type": "markdown",
            "metadata": {},
            "source": [
                "#### Number of Calls"
            ]
        },
        {
            "cell_type": "code",
            "execution_count": 61,
            "metadata": {
                "azdata_cell_guid": "fa9461f2-bdd9-4ba8-bcfd-bd9bacdda269",
                "language": "sql"
            },
            "outputs": [
                {
                    "data": {
                        "text/html": [
                            "(4 rows affected)"
                        ]
                    },
                    "metadata": {},
                    "output_type": "display_data"
                },
                {
                    "data": {
                        "text/html": [
                            "Total execution time: 00:00:00.101"
                        ]
                    },
                    "metadata": {},
                    "output_type": "display_data"
                },
                {
                    "data": {
                        "application/vnd.dataresource+json": {
                            "data": [
                                {
                                    "Number of Calls": "6576",
                                    "channel": "Web"
                                },
                                {
                                    "Number of Calls": "7470",
                                    "channel": "Email"
                                },
                                {
                                    "Number of Calls": "8256",
                                    "channel": "Chatbot"
                                },
                                {
                                    "Number of Calls": "10639",
                                    "channel": "Call-Center"
                                }
                            ],
                            "schema": {
                                "fields": [
                                    {
                                        "name": "channel"
                                    },
                                    {
                                        "name": "Number of Calls"
                                    }
                                ]
                            }
                        },
                        "text/html": [
                            "<table><tr><th>channel</th><th>Number of Calls</th></tr><tr><td>Web</td><td>6576</td></tr><tr><td>Email</td><td>7470</td></tr><tr><td>Chatbot</td><td>8256</td></tr><tr><td>Call-Center</td><td>10639</td></tr></table>"
                        ]
                    },
                    "execution_count": 61,
                    "metadata": {},
                    "output_type": "execute_result"
                }
            ],
            "source": [
                "select channel, count(channel) as 'Number of Calls'\n",
                "from CallCenter\n",
                "group by channel\n",
                "order by 2"
            ]
        },
        {
            "cell_type": "markdown",
            "metadata": {},
            "source": [
                "#### Number of Customers called Each Center"
            ]
        },
        {
            "cell_type": "code",
            "execution_count": 62,
            "metadata": {
                "azdata_cell_guid": "ebc490dc-3c51-4513-a80c-421339251e98",
                "language": "sql"
            },
            "outputs": [
                {
                    "data": {
                        "text/html": [
                            "(4 rows affected)"
                        ]
                    },
                    "metadata": {},
                    "output_type": "display_data"
                },
                {
                    "data": {
                        "text/html": [
                            "Total execution time: 00:00:00.098"
                        ]
                    },
                    "metadata": {},
                    "output_type": "display_data"
                },
                {
                    "data": {
                        "application/vnd.dataresource+json": {
                            "data": [
                                {
                                    "Number of Customers called the Center": "13734",
                                    "call_center": "Los Angeles/CA"
                                },
                                {
                                    "Number of Customers called the Center": "11012",
                                    "call_center": "Baltimore/MD"
                                },
                                {
                                    "Number of Customers called the Center": "5419",
                                    "call_center": "Chicago/IL"
                                },
                                {
                                    "Number of Customers called the Center": "2776",
                                    "call_center": "Denver/CO"
                                }
                            ],
                            "schema": {
                                "fields": [
                                    {
                                        "name": "call_center"
                                    },
                                    {
                                        "name": "Number of Customers called the Center"
                                    }
                                ]
                            }
                        },
                        "text/html": [
                            "<table><tr><th>call_center</th><th>Number of Customers called the Center</th></tr><tr><td>Los Angeles/CA</td><td>13734</td></tr><tr><td>Baltimore/MD</td><td>11012</td></tr><tr><td>Chicago/IL</td><td>5419</td></tr><tr><td>Denver/CO</td><td>2776</td></tr></table>"
                        ]
                    },
                    "execution_count": 62,
                    "metadata": {},
                    "output_type": "execute_result"
                }
            ],
            "source": [
                "select call_center, count(call_center) as 'Number of Customers called the Center'\n",
                "from CallCenter\n",
                "group by call_center\n",
                "order by 2 desc"
            ]
        },
        {
            "cell_type": "markdown",
            "metadata": {},
            "source": [
                "#### Number of Customers called the Center"
            ]
        },
        {
            "cell_type": "code",
            "execution_count": 63,
            "metadata": {
                "azdata_cell_guid": "e571e0c4-77de-444f-95e8-8afd920f409d",
                "language": "sql"
            },
            "outputs": [
                {
                    "data": {
                        "text/html": [
                            "(1 row affected)"
                        ]
                    },
                    "metadata": {},
                    "output_type": "display_data"
                },
                {
                    "data": {
                        "text/html": [
                            "Total execution time: 00:00:00.011"
                        ]
                    },
                    "metadata": {},
                    "output_type": "display_data"
                },
                {
                    "data": {
                        "application/vnd.dataresource+json": {
                            "data": [
                                {
                                    "Number of Customers called the Center": "32941"
                                }
                            ],
                            "schema": {
                                "fields": [
                                    {
                                        "name": "Number of Customers called the Center"
                                    }
                                ]
                            }
                        },
                        "text/html": [
                            "<table><tr><th>Number of Customers called the Center</th></tr><tr><td>32941</td></tr></table>"
                        ]
                    },
                    "execution_count": 63,
                    "metadata": {},
                    "output_type": "execute_result"
                }
            ],
            "source": [
                "select count(id) as 'Number of Customers called the Center' from CallCenter\n",
                "\n",
                "/*\n",
                "there is no duplicated in id column\n",
                "*/"
            ]
        },
        {
            "cell_type": "markdown",
            "metadata": {},
            "source": [
                "#### Number of Calls for each Reasons "
            ]
        },
        {
            "cell_type": "code",
            "execution_count": 64,
            "metadata": {
                "azdata_cell_guid": "7e26e855-f26c-4ba4-8403-a9eaa62a7662",
                "language": "sql"
            },
            "outputs": [
                {
                    "data": {
                        "text/html": [
                            "(3 rows affected)"
                        ]
                    },
                    "metadata": {},
                    "output_type": "display_data"
                },
                {
                    "data": {
                        "text/html": [
                            "Total execution time: 00:00:00.102"
                        ]
                    },
                    "metadata": {},
                    "output_type": "display_data"
                },
                {
                    "data": {
                        "application/vnd.dataresource+json": {
                            "data": [
                                {
                                    "Number Of Calls": "23462",
                                    "Reason": "Billing Question"
                                },
                                {
                                    "Number Of Calls": "4749",
                                    "Reason": "Payments"
                                },
                                {
                                    "Number Of Calls": "4730",
                                    "Reason": "Service Outage"
                                }
                            ],
                            "schema": {
                                "fields": [
                                    {
                                        "name": "Reason"
                                    },
                                    {
                                        "name": "Number Of Calls"
                                    }
                                ]
                            }
                        },
                        "text/html": [
                            "<table><tr><th>Reason</th><th>Number Of Calls</th></tr><tr><td>Billing Question</td><td>23462</td></tr><tr><td>Payments</td><td>4749</td></tr><tr><td>Service Outage</td><td>4730</td></tr></table>"
                        ]
                    },
                    "execution_count": 64,
                    "metadata": {},
                    "output_type": "execute_result"
                }
            ],
            "source": [
                "select (cs.reason) as 'Reason', count(cs.reason) as 'Number Of Calls'\n",
                "from CallCenter cs\n",
                "GROUP by reason\n",
                "order by 2 desc"
            ]
        },
        {
            "cell_type": "markdown",
            "metadata": {},
            "source": [
                "#### Number of Calls for Each sentiment "
            ]
        },
        {
            "cell_type": "code",
            "execution_count": 65,
            "metadata": {
                "azdata_cell_guid": "93a243af-ee59-4431-a69b-34fcd32b2826",
                "language": "sql",
                "tags": []
            },
            "outputs": [
                {
                    "data": {
                        "text/html": [
                            "(5 rows affected)"
                        ]
                    },
                    "metadata": {},
                    "output_type": "display_data"
                },
                {
                    "data": {
                        "text/html": [
                            "Total execution time: 00:00:00.106"
                        ]
                    },
                    "metadata": {},
                    "output_type": "display_data"
                },
                {
                    "data": {
                        "application/vnd.dataresource+json": {
                            "data": [
                                {
                                    "Number Of Calls": "3170",
                                    "sentiment": "Very Positive"
                                },
                                {
                                    "Number Of Calls": "3928",
                                    "sentiment": "Positive"
                                },
                                {
                                    "Number Of Calls": "6026",
                                    "sentiment": "Very Negative"
                                },
                                {
                                    "Number Of Calls": "8754",
                                    "sentiment": "Neutral"
                                },
                                {
                                    "Number Of Calls": "11063",
                                    "sentiment": "Negative"
                                }
                            ],
                            "schema": {
                                "fields": [
                                    {
                                        "name": "sentiment"
                                    },
                                    {
                                        "name": "Number Of Calls"
                                    }
                                ]
                            }
                        },
                        "text/html": [
                            "<table><tr><th>sentiment</th><th>Number Of Calls</th></tr><tr><td>Very Positive</td><td>3170</td></tr><tr><td>Positive</td><td>3928</td></tr><tr><td>Very Negative</td><td>6026</td></tr><tr><td>Neutral</td><td>8754</td></tr><tr><td>Negative</td><td>11063</td></tr></table>"
                        ]
                    },
                    "execution_count": 65,
                    "metadata": {},
                    "output_type": "execute_result"
                }
            ],
            "source": [
                "select (cs.sentiment), COUNT(cs.sentiment) as  'Number Of Calls'\n",
                "from CallCenter cs\n",
                "group by cs.sentiment\n",
                "order by 2"
            ]
        },
        {
            "cell_type": "code",
            "execution_count": 66,
            "metadata": {
                "azdata_cell_guid": "94b61209-6aed-4dab-ad44-a034336e1628",
                "language": "sql"
            },
            "outputs": [
                {
                    "data": {
                        "text/html": [
                            "(1 row affected)"
                        ]
                    },
                    "metadata": {},
                    "output_type": "display_data"
                },
                {
                    "data": {
                        "text/html": [
                            "Total execution time: 00:00:00.004"
                        ]
                    },
                    "metadata": {},
                    "output_type": "display_data"
                },
                {
                    "data": {
                        "application/vnd.dataresource+json": {
                            "data": [
                                {
                                    "call_center": "Los Angeles/CA",
                                    "call_duration_in_minutes": "17",
                                    "call_timestamp": "2020-10-29",
                                    "channel": "Call-Center",
                                    "city": "Detroit",
                                    "csat_score": "7",
                                    "customer_name": "Analise Gairdner",
                                    "id": "DKK-57076809-w-055481-fU",
                                    "reason": "Billing Question",
                                    "response_time": "Within SLA",
                                    "sentiment": "Neutral",
                                    "state": "Michigan"
                                }
                            ],
                            "schema": {
                                "fields": [
                                    {
                                        "name": "id"
                                    },
                                    {
                                        "name": "customer_name"
                                    },
                                    {
                                        "name": "sentiment"
                                    },
                                    {
                                        "name": "csat_score"
                                    },
                                    {
                                        "name": "call_timestamp"
                                    },
                                    {
                                        "name": "reason"
                                    },
                                    {
                                        "name": "city"
                                    },
                                    {
                                        "name": "state"
                                    },
                                    {
                                        "name": "channel"
                                    },
                                    {
                                        "name": "response_time"
                                    },
                                    {
                                        "name": "call_duration_in_minutes"
                                    },
                                    {
                                        "name": "call_center"
                                    }
                                ]
                            }
                        },
                        "text/html": [
                            "<table><tr><th>id</th><th>customer_name</th><th>sentiment</th><th>csat_score</th><th>call_timestamp</th><th>reason</th><th>city</th><th>state</th><th>channel</th><th>response_time</th><th>call_duration_in_minutes</th><th>call_center</th></tr><tr><td>DKK-57076809-w-055481-fU</td><td>Analise Gairdner</td><td>Neutral</td><td>7</td><td>2020-10-29</td><td>Billing Question</td><td>Detroit</td><td>Michigan</td><td>Call-Center</td><td>Within SLA</td><td>17</td><td>Los Angeles/CA</td></tr></table>"
                        ]
                    },
                    "execution_count": 66,
                    "metadata": {},
                    "output_type": "execute_result"
                }
            ],
            "source": [
                "select top 1 * from CallCenter"
            ]
        },
        {
            "cell_type": "markdown",
            "metadata": {},
            "source": [
                "### Cities with Number of Calls"
            ]
        },
        {
            "cell_type": "code",
            "execution_count": 67,
            "metadata": {
                "azdata_cell_guid": "4aef788f-8c76-4182-a9ca-494e50b3f4e4",
                "language": "sql",
                "tags": []
            },
            "outputs": [
                {
                    "data": {
                        "text/html": [
                            "(10 rows affected)"
                        ]
                    },
                    "metadata": {},
                    "output_type": "display_data"
                },
                {
                    "data": {
                        "text/html": [
                            "Total execution time: 00:00:00.029"
                        ]
                    },
                    "metadata": {},
                    "output_type": "display_data"
                },
                {
                    "data": {
                        "application/vnd.dataresource+json": {
                            "data": [
                                {
                                    "Number Of Calls": "1110",
                                    "city": "Washington"
                                },
                                {
                                    "Number Of Calls": "657",
                                    "city": "Houston"
                                },
                                {
                                    "Number Of Calls": "564",
                                    "city": "New York City"
                                },
                                {
                                    "Number Of Calls": "528",
                                    "city": "El Paso"
                                },
                                {
                                    "Number Of Calls": "437",
                                    "city": "Dallas"
                                },
                                {
                                    "Number Of Calls": "416",
                                    "city": "Atlanta"
                                },
                                {
                                    "Number Of Calls": "374",
                                    "city": "Miami"
                                },
                                {
                                    "Number Of Calls": "341",
                                    "city": "Sacramento"
                                },
                                {
                                    "Number Of Calls": "331",
                                    "city": "Los Angeles"
                                },
                                {
                                    "Number Of Calls": "327",
                                    "city": "Kansas City"
                                }
                            ],
                            "schema": {
                                "fields": [
                                    {
                                        "name": "city"
                                    },
                                    {
                                        "name": "Number Of Calls"
                                    }
                                ]
                            }
                        },
                        "text/html": [
                            "<table><tr><th>city</th><th>Number Of Calls</th></tr><tr><td>Washington</td><td>1110</td></tr><tr><td>Houston</td><td>657</td></tr><tr><td>New York City</td><td>564</td></tr><tr><td>El Paso</td><td>528</td></tr><tr><td>Dallas</td><td>437</td></tr><tr><td>Atlanta</td><td>416</td></tr><tr><td>Miami</td><td>374</td></tr><tr><td>Sacramento</td><td>341</td></tr><tr><td>Los Angeles</td><td>331</td></tr><tr><td>Kansas City</td><td>327</td></tr></table>"
                        ]
                    },
                    "execution_count": 67,
                    "metadata": {},
                    "output_type": "execute_result"
                }
            ],
            "source": [
                "select top 10(cs.city), COUNT(cs.city) as  'Number Of Calls'\n",
                "from CallCenter cs\n",
                "group by cs.city\n",
                "order by 2 DESC"
            ]
        },
        {
            "cell_type": "markdown",
            "metadata": {},
            "source": [
                "#### Most Cites and there states with Number of Calls"
            ]
        },
        {
            "cell_type": "code",
            "execution_count": 68,
            "metadata": {
                "azdata_cell_guid": "b183beed-0bc6-4cee-8e64-731de630dcf8",
                "language": "sql"
            },
            "outputs": [
                {
                    "data": {
                        "text/html": [
                            "(10 rows affected)"
                        ]
                    },
                    "metadata": {},
                    "output_type": "display_data"
                },
                {
                    "data": {
                        "text/html": [
                            "Total execution time: 00:00:00.114"
                        ]
                    },
                    "metadata": {},
                    "output_type": "display_data"
                },
                {
                    "data": {
                        "application/vnd.dataresource+json": {
                            "data": [
                                {
                                    "city": "Eugene",
                                    "state": "Oregon"
                                },
                                {
                                    "city": "Yonkers",
                                    "state": "New York"
                                },
                                {
                                    "city": "Kingsport",
                                    "state": "Tennessee"
                                },
                                {
                                    "city": "Ridgely",
                                    "state": "Maryland"
                                },
                                {
                                    "city": "Migrate",
                                    "state": "Kentucky"
                                },
                                {
                                    "city": "Myrtle Beach",
                                    "state": "South Carolina"
                                },
                                {
                                    "city": "Mesquite",
                                    "state": "Texas"
                                },
                                {
                                    "city": "Homestead",
                                    "state": "Florida"
                                },
                                {
                                    "city": "Edmond",
                                    "state": "Oklahoma"
                                },
                                {
                                    "city": "Englewood",
                                    "state": "Colorado"
                                }
                            ],
                            "schema": {
                                "fields": [
                                    {
                                        "name": "city"
                                    },
                                    {
                                        "name": "state"
                                    }
                                ]
                            }
                        },
                        "text/html": [
                            "<table><tr><th>city</th><th>state</th></tr><tr><td>Eugene</td><td>Oregon</td></tr><tr><td>Yonkers</td><td>New York</td></tr><tr><td>Kingsport</td><td>Tennessee</td></tr><tr><td>Ridgely</td><td>Maryland</td></tr><tr><td>Migrate</td><td>Kentucky</td></tr><tr><td>Myrtle Beach</td><td>South Carolina</td></tr><tr><td>Mesquite</td><td>Texas</td></tr><tr><td>Homestead</td><td>Florida</td></tr><tr><td>Edmond</td><td>Oklahoma</td></tr><tr><td>Englewood</td><td>Colorado</td></tr></table>"
                        ]
                    },
                    "execution_count": 68,
                    "metadata": {},
                    "output_type": "execute_result"
                }
            ],
            "source": [
                "select top 10 cs.city, cs.[state]\n",
                "from CallCenter cs \n",
                "group by cs.city, cs.[state]\n",
                "order by  count(cs.call_center)"
            ]
        },
        {
            "cell_type": "markdown",
            "metadata": {},
            "source": [
                "#### Max Call Center With Customers Scores"
            ]
        },
        {
            "cell_type": "code",
            "execution_count": 77,
            "metadata": {
                "azdata_cell_guid": "92104188-d654-4d30-a6ee-999955374293",
                "language": "sql"
            },
            "outputs": [
                {
                    "data": {
                        "text/html": [
                            "(44 rows affected)"
                        ]
                    },
                    "metadata": {},
                    "output_type": "display_data"
                },
                {
                    "data": {
                        "text/html": [
                            "Total execution time: 00:00:00.040"
                        ]
                    },
                    "metadata": {},
                    "output_type": "display_data"
                },
                {
                    "data": {
                        "application/vnd.dataresource+json": {
                            "data": [
                                {
                                    "(No column name)": "2",
                                    "call_center": "Baltimore/MD"
                                },
                                {
                                    "(No column name)": "8",
                                    "call_center": "Baltimore/MD"
                                },
                                {
                                    "(No column name)": "5",
                                    "call_center": "Baltimore/MD"
                                },
                                {
                                    "(No column name)": "11",
                                    "call_center": "Baltimore/MD"
                                },
                                {
                                    "(No column name)": "10",
                                    "call_center": "Baltimore/MD"
                                },
                                {
                                    "(No column name)": "4",
                                    "call_center": "Baltimore/MD"
                                },
                                {
                                    "(No column name)": "7",
                                    "call_center": "Baltimore/MD"
                                },
                                {
                                    "(No column name)": "1",
                                    "call_center": "Baltimore/MD"
                                },
                                {
                                    "(No column name)": "9",
                                    "call_center": "Baltimore/MD"
                                },
                                {
                                    "(No column name)": "6",
                                    "call_center": "Baltimore/MD"
                                },
                                {
                                    "(No column name)": "3",
                                    "call_center": "Baltimore/MD"
                                },
                                {
                                    "(No column name)": "9",
                                    "call_center": "Chicago/IL"
                                },
                                {
                                    "(No column name)": "3",
                                    "call_center": "Chicago/IL"
                                },
                                {
                                    "(No column name)": "6",
                                    "call_center": "Chicago/IL"
                                },
                                {
                                    "(No column name)": "11",
                                    "call_center": "Chicago/IL"
                                },
                                {
                                    "(No column name)": "5",
                                    "call_center": "Chicago/IL"
                                },
                                {
                                    "(No column name)": "7",
                                    "call_center": "Chicago/IL"
                                },
                                {
                                    "(No column name)": "8",
                                    "call_center": "Chicago/IL"
                                },
                                {
                                    "(No column name)": "2",
                                    "call_center": "Chicago/IL"
                                },
                                {
                                    "(No column name)": "10",
                                    "call_center": "Chicago/IL"
                                },
                                {
                                    "(No column name)": "1",
                                    "call_center": "Chicago/IL"
                                },
                                {
                                    "(No column name)": "4",
                                    "call_center": "Chicago/IL"
                                },
                                {
                                    "(No column name)": "11",
                                    "call_center": "Denver/CO"
                                },
                                {
                                    "(No column name)": "8",
                                    "call_center": "Denver/CO"
                                },
                                {
                                    "(No column name)": "6",
                                    "call_center": "Denver/CO"
                                },
                                {
                                    "(No column name)": "9",
                                    "call_center": "Denver/CO"
                                },
                                {
                                    "(No column name)": "3",
                                    "call_center": "Denver/CO"
                                },
                                {
                                    "(No column name)": "10",
                                    "call_center": "Denver/CO"
                                },
                                {
                                    "(No column name)": "4",
                                    "call_center": "Denver/CO"
                                },
                                {
                                    "(No column name)": "1",
                                    "call_center": "Denver/CO"
                                },
                                {
                                    "(No column name)": "7",
                                    "call_center": "Denver/CO"
                                },
                                {
                                    "(No column name)": "5",
                                    "call_center": "Denver/CO"
                                },
                                {
                                    "(No column name)": "2",
                                    "call_center": "Denver/CO"
                                },
                                {
                                    "(No column name)": "3",
                                    "call_center": "Los Angeles/CA"
                                },
                                {
                                    "(No column name)": "5",
                                    "call_center": "Los Angeles/CA"
                                },
                                {
                                    "(No column name)": "9",
                                    "call_center": "Los Angeles/CA"
                                },
                                {
                                    "(No column name)": "6",
                                    "call_center": "Los Angeles/CA"
                                },
                                {
                                    "(No column name)": "8",
                                    "call_center": "Los Angeles/CA"
                                },
                                {
                                    "(No column name)": "2",
                                    "call_center": "Los Angeles/CA"
                                },
                                {
                                    "(No column name)": "11",
                                    "call_center": "Los Angeles/CA"
                                },
                                {
                                    "(No column name)": "7",
                                    "call_center": "Los Angeles/CA"
                                },
                                {
                                    "(No column name)": "4",
                                    "call_center": "Los Angeles/CA"
                                },
                                {
                                    "(No column name)": "10",
                                    "call_center": "Los Angeles/CA"
                                },
                                {
                                    "(No column name)": "1",
                                    "call_center": "Los Angeles/CA"
                                }
                            ],
                            "schema": {
                                "fields": [
                                    {
                                        "name": "call_center"
                                    },
                                    {
                                        "name": "(No column name)"
                                    }
                                ]
                            }
                        },
                        "text/html": [
                            "<table><tr><th>call_center</th><th>(No column name)</th></tr><tr><td>Baltimore/MD</td><td>2</td></tr><tr><td>Baltimore/MD</td><td>8</td></tr><tr><td>Baltimore/MD</td><td>5</td></tr><tr><td>Baltimore/MD</td><td>11</td></tr><tr><td>Baltimore/MD</td><td>10</td></tr><tr><td>Baltimore/MD</td><td>4</td></tr><tr><td>Baltimore/MD</td><td>7</td></tr><tr><td>Baltimore/MD</td><td>1</td></tr><tr><td>Baltimore/MD</td><td>9</td></tr><tr><td>Baltimore/MD</td><td>6</td></tr><tr><td>Baltimore/MD</td><td>3</td></tr><tr><td>Chicago/IL</td><td>9</td></tr><tr><td>Chicago/IL</td><td>3</td></tr><tr><td>Chicago/IL</td><td>6</td></tr><tr><td>Chicago/IL</td><td>11</td></tr><tr><td>Chicago/IL</td><td>5</td></tr><tr><td>Chicago/IL</td><td>7</td></tr><tr><td>Chicago/IL</td><td>8</td></tr><tr><td>Chicago/IL</td><td>2</td></tr><tr><td>Chicago/IL</td><td>10</td></tr><tr><td>Chicago/IL</td><td>1</td></tr><tr><td>Chicago/IL</td><td>4</td></tr><tr><td>Denver/CO</td><td>11</td></tr><tr><td>Denver/CO</td><td>8</td></tr><tr><td>Denver/CO</td><td>6</td></tr><tr><td>Denver/CO</td><td>9</td></tr><tr><td>Denver/CO</td><td>3</td></tr><tr><td>Denver/CO</td><td>10</td></tr><tr><td>Denver/CO</td><td>4</td></tr><tr><td>Denver/CO</td><td>1</td></tr><tr><td>Denver/CO</td><td>7</td></tr><tr><td>Denver/CO</td><td>5</td></tr><tr><td>Denver/CO</td><td>2</td></tr><tr><td>Los Angeles/CA</td><td>3</td></tr><tr><td>Los Angeles/CA</td><td>5</td></tr><tr><td>Los Angeles/CA</td><td>9</td></tr><tr><td>Los Angeles/CA</td><td>6</td></tr><tr><td>Los Angeles/CA</td><td>8</td></tr><tr><td>Los Angeles/CA</td><td>2</td></tr><tr><td>Los Angeles/CA</td><td>11</td></tr><tr><td>Los Angeles/CA</td><td>7</td></tr><tr><td>Los Angeles/CA</td><td>4</td></tr><tr><td>Los Angeles/CA</td><td>10</td></tr><tr><td>Los Angeles/CA</td><td>1</td></tr></table>"
                        ]
                    },
                    "execution_count": 77,
                    "metadata": {},
                    "output_type": "execute_result"
                }
            ],
            "source": [
                "select cs.call_center ,avg(cs.csat_score)\n",
                "from CallCenter cs\n",
                "group by call_center, csat_score\n",
                "\n",
                "order by 1"
            ]
        },
        {
            "cell_type": "markdown",
            "metadata": {},
            "source": [
                "#### Number of Customers Rate the Call Center with Max Score"
            ]
        },
        {
            "cell_type": "code",
            "execution_count": 9,
            "metadata": {
                "azdata_cell_guid": "892b0b54-5737-47cd-b6b3-02b1066e1e49",
                "language": "sql"
            },
            "outputs": [
                {
                    "data": {
                        "text/html": [
                            "(5 rows affected)"
                        ]
                    },
                    "metadata": {},
                    "output_type": "display_data"
                },
                {
                    "data": {
                        "text/html": [
                            "Total execution time: 00:00:00.036"
                        ]
                    },
                    "metadata": {},
                    "output_type": "display_data"
                },
                {
                    "data": {
                        "application/vnd.dataresource+json": {
                            "data": [
                                {
                                    "Name": "Los Angeles/CA",
                                    "NumberOfCustomers": "792",
                                    "Rate": "5"
                                },
                                {
                                    "Name": "Los Angeles/CA",
                                    "NumberOfCustomers": "769",
                                    "Rate": "6"
                                },
                                {
                                    "Name": "Los Angeles/CA",
                                    "NumberOfCustomers": "663",
                                    "Rate": "3"
                                },
                                {
                                    "Name": "Baltimore/MD",
                                    "NumberOfCustomers": "626",
                                    "Rate": "5"
                                },
                                {
                                    "Name": "Baltimore/MD",
                                    "NumberOfCustomers": "619",
                                    "Rate": "6"
                                }
                            ],
                            "schema": {
                                "fields": [
                                    {
                                        "name": "Name"
                                    },
                                    {
                                        "name": "Rate"
                                    },
                                    {
                                        "name": "NumberOfCustomers"
                                    }
                                ]
                            }
                        },
                        "text/html": [
                            "<table><tr><th>Name</th><th>Rate</th><th>NumberOfCustomers</th></tr><tr><td>Los Angeles/CA</td><td>5</td><td>792</td></tr><tr><td>Los Angeles/CA</td><td>6</td><td>769</td></tr><tr><td>Los Angeles/CA</td><td>3</td><td>663</td></tr><tr><td>Baltimore/MD</td><td>5</td><td>626</td></tr><tr><td>Baltimore/MD</td><td>6</td><td>619</td></tr></table>"
                        ]
                    },
                    "execution_count": 9,
                    "metadata": {},
                    "output_type": "execute_result"
                }
            ],
            "source": [
                "WITH RatedCallCenters AS (\n",
                "    SELECT\n",
                "        call_center,\n",
                "        csat_score,\n",
                "        COUNT(id) AS NumberOfCustomers\n",
                "    FROM\n",
                "        CallCenter cs -- Replace with your actual table name\n",
                "   where cs.csat_score <> 11\n",
                "    GROUP BY\n",
                "        call_center, csat_score\n",
                "    \n",
                ")\n",
                "SELECT\n",
                "    call_center AS Name,\n",
                "    csat_score AS Rate,\n",
                "    NumberOfCustomers\n",
                "FROM\n",
                "    RatedCallCenters\n",
                "--WHERE\n",
                "  --  RowNum = 1\n",
                "ORDER BY\n",
                "    NumberOfCustomers DESC\n",
                "OFFSET 0 ROWS FETCH NEXT 5 ROWS ONLY;\n"
            ]
        },
        {
            "cell_type": "markdown",
            "metadata": {},
            "source": [
                "#### Each Call Center With Average Scores"
            ]
        },
        {
            "cell_type": "code",
            "execution_count": 1,
            "metadata": {
                "azdata_cell_guid": "d304020d-8162-4ddd-9269-99e7610144ab",
                "language": "sql"
            },
            "outputs": [
                {
                    "data": {
                        "text/html": [
                            "(4 rows affected)"
                        ]
                    },
                    "metadata": {},
                    "output_type": "display_data"
                },
                {
                    "data": {
                        "text/html": [
                            "Total execution time: 00:00:00.107"
                        ]
                    },
                    "metadata": {},
                    "output_type": "display_data"
                },
                {
                    "data": {
                        "application/vnd.dataresource+json": {
                            "data": [
                                {
                                    "Average of Scores": "5",
                                    "call_center": "Baltimore/MD"
                                },
                                {
                                    "Average of Scores": "5",
                                    "call_center": "Chicago/IL"
                                },
                                {
                                    "Average of Scores": "5",
                                    "call_center": "Denver/CO"
                                },
                                {
                                    "Average of Scores": "5",
                                    "call_center": "Los Angeles/CA"
                                }
                            ],
                            "schema": {
                                "fields": [
                                    {
                                        "name": "call_center"
                                    },
                                    {
                                        "name": "Average of Scores"
                                    }
                                ]
                            }
                        },
                        "text/html": [
                            "<table>\n",
                            "<tr><th>call_center</th><th>Average of Scores</th></tr>\n",
                            "<tr><td>Baltimore/MD</td><td>5</td></tr>\n",
                            "<tr><td>Chicago/IL</td><td>5</td></tr>\n",
                            "<tr><td>Denver/CO</td><td>5</td></tr>\n",
                            "<tr><td>Los Angeles/CA</td><td>5</td></tr>\n",
                            "</table>"
                        ]
                    },
                    "execution_count": 1,
                    "metadata": {},
                    "output_type": "execute_result"
                }
            ],
            "source": [
                "select cs.call_center, avg(cs.csat_score) as 'Average of Scores'\n",
                "from CallCenter cs  \n",
                "where cs.csat_score <> 11\n",
                "group by cs.call_center"
            ]
        },
        {
            "cell_type": "code",
            "execution_count": 16,
            "metadata": {
                "azdata_cell_guid": "cd98d0fe-2588-4930-8857-56f199a884cb",
                "language": "sql"
            },
            "outputs": [
                {
                    "data": {
                        "text/html": [
                            "(5 rows affected)"
                        ]
                    },
                    "metadata": {},
                    "output_type": "display_data"
                },
                {
                    "data": {
                        "text/html": [
                            "Total execution time: 00:00:00.038"
                        ]
                    },
                    "metadata": {},
                    "output_type": "display_data"
                },
                {
                    "data": {
                        "application/vnd.dataresource+json": {
                            "data": [
                                {
                                    "(No column name)": "3170",
                                    "Persent%": "9.6",
                                    "sentiment": "Very Positive"
                                },
                                {
                                    "(No column name)": "3928",
                                    "Persent%": "11.9",
                                    "sentiment": "Positive"
                                },
                                {
                                    "(No column name)": "6026",
                                    "Persent%": "18.3",
                                    "sentiment": "Very Negative"
                                },
                                {
                                    "(No column name)": "8754",
                                    "Persent%": "26.6",
                                    "sentiment": "Neutral"
                                },
                                {
                                    "(No column name)": "11063",
                                    "Persent%": "33.6",
                                    "sentiment": "Negative"
                                }
                            ],
                            "schema": {
                                "fields": [
                                    {
                                        "name": "sentiment"
                                    },
                                    {
                                        "name": "(No column name)"
                                    },
                                    {
                                        "name": "Persent%"
                                    }
                                ]
                            }
                        },
                        "text/html": [
                            "<table>\n",
                            "<tr><th>sentiment</th><th>(No column name)</th><th>Persent%</th></tr>\n",
                            "<tr><td>Very Positive</td><td>3170</td><td>9.6</td></tr>\n",
                            "<tr><td>Positive</td><td>3928</td><td>11.9</td></tr>\n",
                            "<tr><td>Very Negative</td><td>6026</td><td>18.3</td></tr>\n",
                            "<tr><td>Neutral</td><td>8754</td><td>26.6</td></tr>\n",
                            "<tr><td>Negative</td><td>11063</td><td>33.6</td></tr>\n",
                            "</table>"
                        ]
                    },
                    "execution_count": 16,
                    "metadata": {},
                    "output_type": "execute_result"
                }
            ],
            "source": [
                "DECLARE @rows FLOAT \n",
                "select @rows = COUNT(*) FROM CallCenter\n",
                "select cs.sentiment, count(*), round((COUNT(*) / @rows )* 100, 1) AS 'Persent%'\n",
                "FROM CallCenter cs\n",
                "GROUP BY sentiment\n",
                "order by 2\n"
            ]
        },
        {
            "cell_type": "markdown",
            "metadata": {},
            "source": [
                "#### Percent of Calls' Reasons  "
            ]
        },
        {
            "cell_type": "code",
            "execution_count": 18,
            "metadata": {
                "azdata_cell_guid": "16584d0f-4cf3-49f0-a3d9-971e6571cda6",
                "language": "sql"
            },
            "outputs": [
                {
                    "data": {
                        "text/html": [
                            "(3 rows affected)"
                        ]
                    },
                    "metadata": {},
                    "output_type": "display_data"
                },
                {
                    "data": {
                        "text/html": [
                            "Total execution time: 00:00:00.035"
                        ]
                    },
                    "metadata": {},
                    "output_type": "display_data"
                },
                {
                    "data": {
                        "application/vnd.dataresource+json": {
                            "data": [
                                {
                                    "Number of calls": "4730",
                                    "Persent%": "14.4",
                                    "reason": "Service Outage"
                                },
                                {
                                    "Number of calls": "4749",
                                    "Persent%": "14.4",
                                    "reason": "Payments"
                                },
                                {
                                    "Number of calls": "23462",
                                    "Persent%": "71.2",
                                    "reason": "Billing Question"
                                }
                            ],
                            "schema": {
                                "fields": [
                                    {
                                        "name": "reason"
                                    },
                                    {
                                        "name": "Number of calls"
                                    },
                                    {
                                        "name": "Persent%"
                                    }
                                ]
                            }
                        },
                        "text/html": [
                            "<table>\n",
                            "<tr><th>reason</th><th>Number of calls</th><th>Persent%</th></tr>\n",
                            "<tr><td>Service Outage</td><td>4730</td><td>14.4</td></tr>\n",
                            "<tr><td>Payments</td><td>4749</td><td>14.4</td></tr>\n",
                            "<tr><td>Billing Question</td><td>23462</td><td>71.2</td></tr>\n",
                            "</table>"
                        ]
                    },
                    "execution_count": 18,
                    "metadata": {},
                    "output_type": "execute_result"
                }
            ],
            "source": [
                "DECLARE @rows FLOAT \n",
                "select @rows = COUNT(*) FROM CallCenter\n",
                "select cs.reason, count(*) as 'Number of calls', round((COUNT(*) / @rows )* 100, 1) AS 'Persent%'\n",
                "FROM CallCenter cs\n",
                "GROUP BY reason\n",
                "order by 2\n"
            ]
        },
        {
            "cell_type": "markdown",
            "metadata": {},
            "source": [
                "#### Channels with Number of Calls and it's Percent"
            ]
        },
        {
            "cell_type": "code",
            "execution_count": 19,
            "metadata": {
                "azdata_cell_guid": "8b4c2a85-19eb-411b-b9e6-3b08dbd75741",
                "language": "sql"
            },
            "outputs": [
                {
                    "data": {
                        "text/html": [
                            "(4 rows affected)"
                        ]
                    },
                    "metadata": {},
                    "output_type": "display_data"
                },
                {
                    "data": {
                        "text/html": [
                            "Total execution time: 00:00:00.049"
                        ]
                    },
                    "metadata": {},
                    "output_type": "display_data"
                },
                {
                    "data": {
                        "application/vnd.dataresource+json": {
                            "data": [
                                {
                                    "Number of calls": "6576",
                                    "Persent%": "20",
                                    "channel": "Web"
                                },
                                {
                                    "Number of calls": "7470",
                                    "Persent%": "22.7",
                                    "channel": "Email"
                                },
                                {
                                    "Number of calls": "8256",
                                    "Persent%": "25.1",
                                    "channel": "Chatbot"
                                },
                                {
                                    "Number of calls": "10639",
                                    "Persent%": "32.3",
                                    "channel": "Call-Center"
                                }
                            ],
                            "schema": {
                                "fields": [
                                    {
                                        "name": "channel"
                                    },
                                    {
                                        "name": "Number of calls"
                                    },
                                    {
                                        "name": "Persent%"
                                    }
                                ]
                            }
                        },
                        "text/html": [
                            "<table>\n",
                            "<tr><th>channel</th><th>Number of calls</th><th>Persent%</th></tr>\n",
                            "<tr><td>Web</td><td>6576</td><td>20</td></tr>\n",
                            "<tr><td>Email</td><td>7470</td><td>22.7</td></tr>\n",
                            "<tr><td>Chatbot</td><td>8256</td><td>25.1</td></tr>\n",
                            "<tr><td>Call-Center</td><td>10639</td><td>32.3</td></tr>\n",
                            "</table>"
                        ]
                    },
                    "execution_count": 19,
                    "metadata": {},
                    "output_type": "execute_result"
                }
            ],
            "source": [
                "DECLARE @rows FLOAT \n",
                "select @rows = COUNT(*) FROM CallCenter\n",
                "select cs.channel, count(*) as 'Number of calls', round((COUNT(*) / @rows )* 100, 1) AS 'Persent%'\n",
                "FROM CallCenter cs\n",
                "GROUP BY cs.channel\n",
                "order by 2"
            ]
        },
        {
            "cell_type": "markdown",
            "metadata": {},
            "source": [
                "#### Score and Number of Calls and it's Percent"
            ]
        },
        {
            "cell_type": "code",
            "execution_count": 27,
            "metadata": {
                "azdata_cell_guid": "08a07d1f-1fcd-45d8-b131-42919b153150",
                "language": "sql"
            },
            "outputs": [
                {
                    "data": {
                        "text/html": [
                            "(10 rows affected)"
                        ]
                    },
                    "metadata": {},
                    "output_type": "display_data"
                },
                {
                    "data": {
                        "text/html": [
                            "Total execution time: 00:00:00.038"
                        ]
                    },
                    "metadata": {},
                    "output_type": "display_data"
                },
                {
                    "data": {
                        "application/vnd.dataresource+json": {
                            "data": [
                                {
                                    "Number of calls": "1899",
                                    "Persent%": "15.5",
                                    "csat_score": "5"
                                },
                                {
                                    "Number of calls": "1865",
                                    "Persent%": "15.2",
                                    "csat_score": "6"
                                },
                                {
                                    "Number of calls": "1575",
                                    "Persent%": "12.8",
                                    "csat_score": "3"
                                },
                                {
                                    "Number of calls": "1526",
                                    "Persent%": "12.4",
                                    "csat_score": "4"
                                },
                                {
                                    "Number of calls": "1314",
                                    "Persent%": "10.7",
                                    "csat_score": "7"
                                },
                                {
                                    "Number of calls": "1266",
                                    "Persent%": "10.3",
                                    "csat_score": "8"
                                },
                                {
                                    "Number of calls": "1092",
                                    "Persent%": "8.9",
                                    "csat_score": "9"
                                },
                                {
                                    "Number of calls": "595",
                                    "Persent%": "4.8",
                                    "csat_score": "1"
                                },
                                {
                                    "Number of calls": "571",
                                    "Persent%": "4.7",
                                    "csat_score": "2"
                                },
                                {
                                    "Number of calls": "568",
                                    "Persent%": "4.6",
                                    "csat_score": "10"
                                }
                            ],
                            "schema": {
                                "fields": [
                                    {
                                        "name": "csat_score"
                                    },
                                    {
                                        "name": "Number of calls"
                                    },
                                    {
                                        "name": "Persent%"
                                    }
                                ]
                            }
                        },
                        "text/html": [
                            "<table>\n",
                            "<tr><th>csat_score</th><th>Number of calls</th><th>Persent%</th></tr>\n",
                            "<tr><td>5</td><td>1899</td><td>15.5</td></tr>\n",
                            "<tr><td>6</td><td>1865</td><td>15.2</td></tr>\n",
                            "<tr><td>3</td><td>1575</td><td>12.8</td></tr>\n",
                            "<tr><td>4</td><td>1526</td><td>12.4</td></tr>\n",
                            "<tr><td>7</td><td>1314</td><td>10.7</td></tr>\n",
                            "<tr><td>8</td><td>1266</td><td>10.3</td></tr>\n",
                            "<tr><td>9</td><td>1092</td><td>8.9</td></tr>\n",
                            "<tr><td>1</td><td>595</td><td>4.8</td></tr>\n",
                            "<tr><td>2</td><td>571</td><td>4.7</td></tr>\n",
                            "<tr><td>10</td><td>568</td><td>4.6</td></tr>\n",
                            "</table>"
                        ]
                    },
                    "execution_count": 27,
                    "metadata": {},
                    "output_type": "execute_result"
                }
            ],
            "source": [
                "DECLARE @rows FLOAT \n",
                "select @rows = COUNT(*) \n",
                "FROM CallCenter cs \n",
                "where cs.csat_score <> 11\n",
                "\n",
                "\n",
                "select cs.csat_score, count(*) as 'Number of calls', round((COUNT(*) / @rows )* 100, 1) AS 'Persent%'\n",
                "FROM CallCenter cs\n",
                "where cs.csat_score <> 11\n",
                "GROUP BY cs.csat_score\n",
                "order by 2 desc"
            ]
        },
        {
            "cell_type": "markdown",
            "metadata": {},
            "source": [
                "#### Call Center and Number of Calls and it's Percent"
            ]
        },
        {
            "cell_type": "code",
            "execution_count": 28,
            "metadata": {
                "azdata_cell_guid": "09ce89c6-f340-4f90-94c6-54ae8ab193fe",
                "language": "sql"
            },
            "outputs": [
                {
                    "data": {
                        "text/html": [
                            "(4 rows affected)"
                        ]
                    },
                    "metadata": {},
                    "output_type": "display_data"
                },
                {
                    "data": {
                        "text/html": [
                            "Total execution time: 00:00:00.046"
                        ]
                    },
                    "metadata": {},
                    "output_type": "display_data"
                },
                {
                    "data": {
                        "application/vnd.dataresource+json": {
                            "data": [
                                {
                                    "Number of calls": "2776",
                                    "Persent%": "8.4",
                                    "call_center": "Denver/CO"
                                },
                                {
                                    "Number of calls": "5419",
                                    "Persent%": "16.5",
                                    "call_center": "Chicago/IL"
                                },
                                {
                                    "Number of calls": "11012",
                                    "Persent%": "33.4",
                                    "call_center": "Baltimore/MD"
                                },
                                {
                                    "Number of calls": "13734",
                                    "Persent%": "41.7",
                                    "call_center": "Los Angeles/CA"
                                }
                            ],
                            "schema": {
                                "fields": [
                                    {
                                        "name": "call_center"
                                    },
                                    {
                                        "name": "Number of calls"
                                    },
                                    {
                                        "name": "Persent%"
                                    }
                                ]
                            }
                        },
                        "text/html": [
                            "<table>\n",
                            "<tr><th>call_center</th><th>Number of calls</th><th>Persent%</th></tr>\n",
                            "<tr><td>Denver/CO</td><td>2776</td><td>8.4</td></tr>\n",
                            "<tr><td>Chicago/IL</td><td>5419</td><td>16.5</td></tr>\n",
                            "<tr><td>Baltimore/MD</td><td>11012</td><td>33.4</td></tr>\n",
                            "<tr><td>Los Angeles/CA</td><td>13734</td><td>41.7</td></tr>\n",
                            "</table>"
                        ]
                    },
                    "execution_count": 28,
                    "metadata": {},
                    "output_type": "execute_result"
                }
            ],
            "source": [
                "DECLARE @rows FLOAT \n",
                "select @rows = COUNT(*) FROM CallCenter\n",
                "select cs.call_center, count(*) as 'Number of calls', round((COUNT(*) / @rows )* 100, 1) AS 'Persent%'\n",
                "FROM CallCenter cs\n",
                "GROUP BY cs.call_center\n",
                "order by 2\n"
            ]
        },
        {
            "cell_type": "markdown",
            "metadata": {},
            "source": [
                "#### Days Of Week and Number of Calls and it's Percent"
            ]
        },
        {
            "cell_type": "code",
            "execution_count": 32,
            "metadata": {
                "azdata_cell_guid": "ea7586e9-2908-473b-ad4d-03f6d8da8095",
                "language": "sql"
            },
            "outputs": [
                {
                    "data": {
                        "text/html": [
                            "(7 rows affected)"
                        ]
                    },
                    "metadata": {},
                    "output_type": "display_data"
                },
                {
                    "data": {
                        "text/html": [
                            "Total execution time: 00:00:00.087"
                        ]
                    },
                    "metadata": {},
                    "output_type": "display_data"
                },
                {
                    "data": {
                        "application/vnd.dataresource+json": {
                            "data": [
                                {
                                    "Day Name": "Sunday",
                                    "Number of calls": "4296",
                                    "Persent%": "13"
                                },
                                {
                                    "Day Name": "Monday",
                                    "Number of calls": "4334",
                                    "Persent%": "13.2"
                                },
                                {
                                    "Day Name": "Saturday",
                                    "Number of calls": "4403",
                                    "Persent%": "13.4"
                                },
                                {
                                    "Day Name": "Tuesday",
                                    "Number of calls": "4408",
                                    "Persent%": "13.4"
                                },
                                {
                                    "Day Name": "Wednesday",
                                    "Number of calls": "4449",
                                    "Persent%": "13.5"
                                },
                                {
                                    "Day Name": "Thursday",
                                    "Number of calls": "5481",
                                    "Persent%": "16.6"
                                },
                                {
                                    "Day Name": "Friday",
                                    "Number of calls": "5570",
                                    "Persent%": "16.9"
                                }
                            ],
                            "schema": {
                                "fields": [
                                    {
                                        "name": "Day Name"
                                    },
                                    {
                                        "name": "Number of calls"
                                    },
                                    {
                                        "name": "Persent%"
                                    }
                                ]
                            }
                        },
                        "text/html": [
                            "<table>\n",
                            "<tr><th>Day Name</th><th>Number of calls</th><th>Persent%</th></tr>\n",
                            "<tr><td>Sunday</td><td>4296</td><td>13</td></tr>\n",
                            "<tr><td>Monday</td><td>4334</td><td>13.2</td></tr>\n",
                            "<tr><td>Saturday</td><td>4403</td><td>13.4</td></tr>\n",
                            "<tr><td>Tuesday</td><td>4408</td><td>13.4</td></tr>\n",
                            "<tr><td>Wednesday</td><td>4449</td><td>13.5</td></tr>\n",
                            "<tr><td>Thursday</td><td>5481</td><td>16.6</td></tr>\n",
                            "<tr><td>Friday</td><td>5570</td><td>16.9</td></tr>\n",
                            "</table>"
                        ]
                    },
                    "execution_count": 32,
                    "metadata": {},
                    "output_type": "execute_result"
                }
            ],
            "source": [
                "DECLARE @rows FLOAT \n",
                "select @rows = COUNT(*) FROM CallCenter\n",
                "select format(cs.call_timestamp, 'dddd') as 'Day Name', count(*) as 'Number of calls', round((COUNT(*) / @rows )* 100, 1) AS 'Persent%'\n",
                "FROM CallCenter cs\n",
                "GROUP BY format(cs.call_timestamp, 'dddd')\n",
                "order by 2\n"
            ]
        },
        {
            "cell_type": "code",
            "execution_count": 36,
            "metadata": {
                "azdata_cell_guid": "b03ecc30-54ce-4810-a6ed-516fd2924095",
                "language": "sql"
            },
            "outputs": [
                {
                    "data": {
                        "text/html": [
                            "(31 rows affected)"
                        ]
                    },
                    "metadata": {},
                    "output_type": "display_data"
                },
                {
                    "data": {
                        "text/html": [
                            "Total execution time: 00:00:00.039"
                        ]
                    },
                    "metadata": {},
                    "output_type": "display_data"
                },
                {
                    "data": {
                        "application/vnd.dataresource+json": {
                            "data": [
                                {
                                    "Day Name": "31",
                                    "Number of calls": "1",
                                    "Persent%": "0.003"
                                },
                                {
                                    "Day Name": "7",
                                    "Number of calls": "1045",
                                    "Persent%": "3.1723"
                                },
                                {
                                    "Day Name": "4",
                                    "Number of calls": "1049",
                                    "Persent%": "3.1845"
                                },
                                {
                                    "Day Name": "29",
                                    "Number of calls": "1053",
                                    "Persent%": "3.1966"
                                },
                                {
                                    "Day Name": "26",
                                    "Number of calls": "1054",
                                    "Persent%": "3.1997"
                                },
                                {
                                    "Day Name": "27",
                                    "Number of calls": "1062",
                                    "Persent%": "3.2239"
                                },
                                {
                                    "Day Name": "25",
                                    "Number of calls": "1063",
                                    "Persent%": "3.227"
                                },
                                {
                                    "Day Name": "8",
                                    "Number of calls": "1067",
                                    "Persent%": "3.2391"
                                },
                                {
                                    "Day Name": "20",
                                    "Number of calls": "1077",
                                    "Persent%": "3.2695"
                                },
                                {
                                    "Day Name": "2",
                                    "Number of calls": "1084",
                                    "Persent%": "3.2907"
                                },
                                {
                                    "Day Name": "11",
                                    "Number of calls": "1087",
                                    "Persent%": "3.2998"
                                },
                                {
                                    "Day Name": "12",
                                    "Number of calls": "1088",
                                    "Persent%": "3.3029"
                                },
                                {
                                    "Day Name": "3",
                                    "Number of calls": "1089",
                                    "Persent%": "3.3059"
                                },
                                {
                                    "Day Name": "1",
                                    "Number of calls": "1089",
                                    "Persent%": "3.3059"
                                },
                                {
                                    "Day Name": "14",
                                    "Number of calls": "1090",
                                    "Persent%": "3.3089"
                                },
                                {
                                    "Day Name": "5",
                                    "Number of calls": "1090",
                                    "Persent%": "3.3089"
                                },
                                {
                                    "Day Name": "10",
                                    "Number of calls": "1092",
                                    "Persent%": "3.315"
                                },
                                {
                                    "Day Name": "18",
                                    "Number of calls": "1097",
                                    "Persent%": "3.3302"
                                },
                                {
                                    "Day Name": "24",
                                    "Number of calls": "1098",
                                    "Persent%": "3.3332"
                                },
                                {
                                    "Day Name": "19",
                                    "Number of calls": "1102",
                                    "Persent%": "3.3454"
                                },
                                {
                                    "Day Name": "15",
                                    "Number of calls": "1105",
                                    "Persent%": "3.3545"
                                },
                                {
                                    "Day Name": "23",
                                    "Number of calls": "1111",
                                    "Persent%": "3.3727"
                                },
                                {
                                    "Day Name": "13",
                                    "Number of calls": "1117",
                                    "Persent%": "3.3909"
                                },
                                {
                                    "Day Name": "30",
                                    "Number of calls": "1120",
                                    "Persent%": "3.4"
                                },
                                {
                                    "Day Name": "9",
                                    "Number of calls": "1123",
                                    "Persent%": "3.4091"
                                },
                                {
                                    "Day Name": "17",
                                    "Number of calls": "1123",
                                    "Persent%": "3.4091"
                                },
                                {
                                    "Day Name": "16",
                                    "Number of calls": "1132",
                                    "Persent%": "3.4364"
                                },
                                {
                                    "Day Name": "28",
                                    "Number of calls": "1144",
                                    "Persent%": "3.4729"
                                },
                                {
                                    "Day Name": "6",
                                    "Number of calls": "1152",
                                    "Persent%": "3.4972"
                                },
                                {
                                    "Day Name": "22",
                                    "Number of calls": "1167",
                                    "Persent%": "3.5427"
                                },
                                {
                                    "Day Name": "21",
                                    "Number of calls": "1170",
                                    "Persent%": "3.5518"
                                }
                            ],
                            "schema": {
                                "fields": [
                                    {
                                        "name": "Day Name"
                                    },
                                    {
                                        "name": "Number of calls"
                                    },
                                    {
                                        "name": "Persent%"
                                    }
                                ]
                            }
                        },
                        "text/html": [
                            "<table>\n",
                            "<tr><th>Day Name</th><th>Number of calls</th><th>Persent%</th></tr>\n",
                            "<tr><td>31</td><td>1</td><td>0.003</td></tr>\n",
                            "<tr><td>7</td><td>1045</td><td>3.1723</td></tr>\n",
                            "<tr><td>4</td><td>1049</td><td>3.1845</td></tr>\n",
                            "<tr><td>29</td><td>1053</td><td>3.1966</td></tr>\n",
                            "<tr><td>26</td><td>1054</td><td>3.1997</td></tr>\n",
                            "<tr><td>27</td><td>1062</td><td>3.2239</td></tr>\n",
                            "<tr><td>25</td><td>1063</td><td>3.227</td></tr>\n",
                            "<tr><td>8</td><td>1067</td><td>3.2391</td></tr>\n",
                            "<tr><td>20</td><td>1077</td><td>3.2695</td></tr>\n",
                            "<tr><td>2</td><td>1084</td><td>3.2907</td></tr>\n",
                            "<tr><td>11</td><td>1087</td><td>3.2998</td></tr>\n",
                            "<tr><td>12</td><td>1088</td><td>3.3029</td></tr>\n",
                            "<tr><td>3</td><td>1089</td><td>3.3059</td></tr>\n",
                            "<tr><td>1</td><td>1089</td><td>3.3059</td></tr>\n",
                            "<tr><td>14</td><td>1090</td><td>3.3089</td></tr>\n",
                            "<tr><td>5</td><td>1090</td><td>3.3089</td></tr>\n",
                            "<tr><td>10</td><td>1092</td><td>3.315</td></tr>\n",
                            "<tr><td>18</td><td>1097</td><td>3.3302</td></tr>\n",
                            "<tr><td>24</td><td>1098</td><td>3.3332</td></tr>\n",
                            "<tr><td>19</td><td>1102</td><td>3.3454</td></tr>\n",
                            "<tr><td>15</td><td>1105</td><td>3.3545</td></tr>\n",
                            "<tr><td>23</td><td>1111</td><td>3.3727</td></tr>\n",
                            "<tr><td>13</td><td>1117</td><td>3.3909</td></tr>\n",
                            "<tr><td>30</td><td>1120</td><td>3.4</td></tr>\n",
                            "<tr><td>9</td><td>1123</td><td>3.4091</td></tr>\n",
                            "<tr><td>17</td><td>1123</td><td>3.4091</td></tr>\n",
                            "<tr><td>16</td><td>1132</td><td>3.4364</td></tr>\n",
                            "<tr><td>28</td><td>1144</td><td>3.4729</td></tr>\n",
                            "<tr><td>6</td><td>1152</td><td>3.4972</td></tr>\n",
                            "<tr><td>22</td><td>1167</td><td>3.5427</td></tr>\n",
                            "<tr><td>21</td><td>1170</td><td>3.5518</td></tr>\n",
                            "</table>"
                        ]
                    },
                    "execution_count": 36,
                    "metadata": {},
                    "output_type": "execute_result"
                }
            ],
            "source": [
                "DECLARE @rows FLOAT \n",
                "select @rows = COUNT(*) FROM CallCenter\n",
                "select day(cs.call_timestamp) as 'Day Name', count(*) as 'Number of calls', round((COUNT(*) / @rows )* 100, 4) AS 'Persent%'\n",
                "FROM CallCenter cs\n",
                "GROUP BY day(cs.call_timestamp)\n",
                "order by 2"
            ]
        },
        {
            "cell_type": "markdown",
            "metadata": {},
            "source": [
                "#### Quarters and Number of Calls and it's Percent"
            ]
        },
        {
            "cell_type": "code",
            "execution_count": 42,
            "metadata": {
                "azdata_cell_guid": "68b18714-9328-46e4-bab7-3703b1fe2b95",
                "language": "sql",
                "tags": []
            },
            "outputs": [
                {
                    "data": {
                        "text/html": [
                            "(4 rows affected)"
                        ]
                    },
                    "metadata": {},
                    "output_type": "display_data"
                },
                {
                    "data": {
                        "text/html": [
                            "Total execution time: 00:00:00.113"
                        ]
                    },
                    "metadata": {},
                    "output_type": "display_data"
                },
                {
                    "data": {
                        "application/vnd.dataresource+json": {
                            "data": [
                                {
                                    "Number of calls": "8236",
                                    "Persent%": "25",
                                    "Quartile": "1"
                                },
                                {
                                    "Number of calls": "8235",
                                    "Persent%": "25",
                                    "Quartile": "2"
                                },
                                {
                                    "Number of calls": "8235",
                                    "Persent%": "25",
                                    "Quartile": "3"
                                },
                                {
                                    "Number of calls": "8235",
                                    "Persent%": "25",
                                    "Quartile": "4"
                                }
                            ],
                            "schema": {
                                "fields": [
                                    {
                                        "name": "Quartile"
                                    },
                                    {
                                        "name": "Number of calls"
                                    },
                                    {
                                        "name": "Persent%"
                                    }
                                ]
                            }
                        },
                        "text/html": [
                            "<table>\n",
                            "<tr><th>Quartile</th><th>Number of calls</th><th>Persent%</th></tr>\n",
                            "<tr><td>1</td><td>8236</td><td>25</td></tr>\n",
                            "<tr><td>2</td><td>8235</td><td>25</td></tr>\n",
                            "<tr><td>3</td><td>8235</td><td>25</td></tr>\n",
                            "<tr><td>4</td><td>8235</td><td>25</td></tr>\n",
                            "</table>"
                        ]
                    },
                    "execution_count": 42,
                    "metadata": {},
                    "output_type": "execute_result"
                }
            ],
            "source": [
                "\n",
                "with DateQuartiles as(\n",
                "    select cs.call_timestamp, NTILE(4) over(order by cs.call_timestamp) as Quartile\n",
                "    from CallCenter cs\n",
                ")\n",
                "\n",
                "SELECT Quartile, count(*) as 'Number of calls', round((COUNT(*) / cast((select COUNT(*) FROM CallCenter) as float))* 100, 2) AS 'Persent%'\n",
                "from DateQuartiles\n",
                "GROUP by Quartile"
            ]
        },
        {
            "cell_type": "markdown",
            "metadata": {},
            "source": [
                "#### Min Score, Max Score, and Average of Scores"
            ]
        },
        {
            "cell_type": "code",
            "execution_count": 44,
            "metadata": {
                "azdata_cell_guid": "73d69b03-d6c7-448d-908b-2c8577f9ac94",
                "language": "sql"
            },
            "outputs": [
                {
                    "data": {
                        "text/html": [
                            "(1 row affected)"
                        ]
                    },
                    "metadata": {},
                    "output_type": "display_data"
                },
                {
                    "data": {
                        "text/html": [
                            "Total execution time: 00:00:00.022"
                        ]
                    },
                    "metadata": {},
                    "output_type": "display_data"
                },
                {
                    "data": {
                        "application/vnd.dataresource+json": {
                            "data": [
                                {
                                    "Average Score": "5",
                                    "Max Score": "10",
                                    "Min Score": "1"
                                }
                            ],
                            "schema": {
                                "fields": [
                                    {
                                        "name": "Min Score"
                                    },
                                    {
                                        "name": "Max Score"
                                    },
                                    {
                                        "name": "Average Score"
                                    }
                                ]
                            }
                        },
                        "text/html": [
                            "<table>\n",
                            "<tr><th>Min Score</th><th>Max Score</th><th>Average Score</th></tr>\n",
                            "<tr><td>1</td><td>10</td><td>5</td></tr>\n",
                            "</table>"
                        ]
                    },
                    "execution_count": 44,
                    "metadata": {},
                    "output_type": "execute_result"
                }
            ],
            "source": [
                "select min(cs.csat_score) as 'Min Score', max(cs.csat_score) as 'Max Score', avg(cs.csat_score) as 'Average Score'\n",
                "from CallCenter cs \n",
                "where cs.csat_score <> 11"
            ]
        },
        {
            "cell_type": "markdown",
            "metadata": {},
            "source": [
                "#### Response Time  for each Call Center and Number of Calls"
            ]
        },
        {
            "cell_type": "code",
            "execution_count": 48,
            "metadata": {
                "azdata_cell_guid": "27be2c31-d67d-489c-b434-02b7d96169e1",
                "language": "sql"
            },
            "outputs": [
                {
                    "data": {
                        "text/html": [
                            "(12 rows affected)"
                        ]
                    },
                    "metadata": {},
                    "output_type": "display_data"
                },
                {
                    "data": {
                        "text/html": [
                            "Total execution time: 00:00:00.037"
                        ]
                    },
                    "metadata": {},
                    "output_type": "display_data"
                },
                {
                    "data": {
                        "application/vnd.dataresource+json": {
                            "data": [
                                {
                                    "Number of Calls": "6855",
                                    "call_center": "Baltimore/MD",
                                    "response_time": "Within SLA"
                                },
                                {
                                    "Number of Calls": "2768",
                                    "call_center": "Baltimore/MD",
                                    "response_time": "Below SLA"
                                },
                                {
                                    "Number of Calls": "1389",
                                    "call_center": "Baltimore/MD",
                                    "response_time": "Above SLA"
                                },
                                {
                                    "Number of Calls": "3361",
                                    "call_center": "Chicago/IL",
                                    "response_time": "Within SLA"
                                },
                                {
                                    "Number of Calls": "1361",
                                    "call_center": "Chicago/IL",
                                    "response_time": "Below SLA"
                                },
                                {
                                    "Number of Calls": "697",
                                    "call_center": "Chicago/IL",
                                    "response_time": "Above SLA"
                                },
                                {
                                    "Number of Calls": "1741",
                                    "call_center": "Denver/CO",
                                    "response_time": "Within SLA"
                                },
                                {
                                    "Number of Calls": "692",
                                    "call_center": "Denver/CO",
                                    "response_time": "Below SLA"
                                },
                                {
                                    "Number of Calls": "343",
                                    "call_center": "Denver/CO",
                                    "response_time": "Above SLA"
                                },
                                {
                                    "Number of Calls": "8668",
                                    "call_center": "Los Angeles/CA",
                                    "response_time": "Within SLA"
                                },
                                {
                                    "Number of Calls": "3327",
                                    "call_center": "Los Angeles/CA",
                                    "response_time": "Below SLA"
                                },
                                {
                                    "Number of Calls": "1739",
                                    "call_center": "Los Angeles/CA",
                                    "response_time": "Above SLA"
                                }
                            ],
                            "schema": {
                                "fields": [
                                    {
                                        "name": "call_center"
                                    },
                                    {
                                        "name": "response_time"
                                    },
                                    {
                                        "name": "Number of Calls"
                                    }
                                ]
                            }
                        },
                        "text/html": [
                            "<table>\n",
                            "<tr><th>call_center</th><th>response_time</th><th>Number of Calls</th></tr>\n",
                            "<tr><td>Baltimore/MD</td><td>Within SLA</td><td>6855</td></tr>\n",
                            "<tr><td>Baltimore/MD</td><td>Below SLA</td><td>2768</td></tr>\n",
                            "<tr><td>Baltimore/MD</td><td>Above SLA</td><td>1389</td></tr>\n",
                            "<tr><td>Chicago/IL</td><td>Within SLA</td><td>3361</td></tr>\n",
                            "<tr><td>Chicago/IL</td><td>Below SLA</td><td>1361</td></tr>\n",
                            "<tr><td>Chicago/IL</td><td>Above SLA</td><td>697</td></tr>\n",
                            "<tr><td>Denver/CO</td><td>Within SLA</td><td>1741</td></tr>\n",
                            "<tr><td>Denver/CO</td><td>Below SLA</td><td>692</td></tr>\n",
                            "<tr><td>Denver/CO</td><td>Above SLA</td><td>343</td></tr>\n",
                            "<tr><td>Los Angeles/CA</td><td>Within SLA</td><td>8668</td></tr>\n",
                            "<tr><td>Los Angeles/CA</td><td>Below SLA</td><td>3327</td></tr>\n",
                            "<tr><td>Los Angeles/CA</td><td>Above SLA</td><td>1739</td></tr>\n",
                            "</table>"
                        ]
                    },
                    "execution_count": 48,
                    "metadata": {},
                    "output_type": "execute_result"
                }
            ],
            "source": [
                "SELECT call_center, response_time, COUNT(*) AS 'Number of Calls'\n",
                "FROM CallCenter\n",
                "GROUP BY call_center, response_time\n",
                "ORDER BY 1,3 DESC;"
            ]
        },
        {
            "cell_type": "markdown",
            "metadata": {},
            "source": [
                "#### Average of Call Duration for Each Sentiment"
            ]
        },
        {
            "cell_type": "code",
            "execution_count": 51,
            "metadata": {
                "azdata_cell_guid": "83154a45-6ff1-4731-a757-bb61908d04bb",
                "language": "sql",
                "tags": []
            },
            "outputs": [
                {
                    "data": {
                        "text/html": [
                            "(5 rows affected)"
                        ]
                    },
                    "metadata": {},
                    "output_type": "display_data"
                },
                {
                    "data": {
                        "text/html": [
                            "Total execution time: 00:00:00.036"
                        ]
                    },
                    "metadata": {},
                    "output_type": "display_data"
                },
                {
                    "data": {
                        "application/vnd.dataresource+json": {
                            "data": [
                                {
                                    "Average of call duration in minutes": "25",
                                    "sentiment": "Negative"
                                },
                                {
                                    "Average of call duration in minutes": "24",
                                    "sentiment": "Neutral"
                                },
                                {
                                    "Average of call duration in minutes": "24",
                                    "sentiment": "Very Positive"
                                },
                                {
                                    "Average of call duration in minutes": "24",
                                    "sentiment": "Positive"
                                },
                                {
                                    "Average of call duration in minutes": "24",
                                    "sentiment": "Very Negative"
                                }
                            ],
                            "schema": {
                                "fields": [
                                    {
                                        "name": "sentiment"
                                    },
                                    {
                                        "name": "Average of call duration in minutes"
                                    }
                                ]
                            }
                        },
                        "text/html": [
                            "<table>\n",
                            "<tr><th>sentiment</th><th>Average of call duration in minutes</th></tr>\n",
                            "<tr><td>Negative</td><td>25</td></tr>\n",
                            "<tr><td>Neutral</td><td>24</td></tr>\n",
                            "<tr><td>Very Positive</td><td>24</td></tr>\n",
                            "<tr><td>Positive</td><td>24</td></tr>\n",
                            "<tr><td>Very Negative</td><td>24</td></tr>\n",
                            "</table>"
                        ]
                    },
                    "execution_count": 51,
                    "metadata": {},
                    "output_type": "execute_result"
                }
            ],
            "source": [
                "SELECT sentiment, AVG(cs.call_duration_in_minutes) as 'Average of call duration in minutes' \n",
                "FROM CallCenter cs \n",
                "GROUP BY sentiment\n",
                "ORDER BY 2 DESC;\n"
            ]
        },
        {
            "cell_type": "markdown",
            "metadata": {},
            "source": [
                "#### Average of Score for Each State"
            ]
        },
        {
            "cell_type": "code",
            "execution_count": 52,
            "metadata": {
                "azdata_cell_guid": "c8141234-c16e-4ab8-ac05-90a943d6c021",
                "language": "sql"
            },
            "outputs": [
                {
                    "data": {
                        "text/html": [
                            "(51 rows affected)"
                        ]
                    },
                    "metadata": {},
                    "output_type": "display_data"
                },
                {
                    "data": {
                        "text/html": [
                            "Total execution time: 00:00:00.029"
                        ]
                    },
                    "metadata": {},
                    "output_type": "display_data"
                },
                {
                    "data": {
                        "application/vnd.dataresource+json": {
                            "data": [
                                {
                                    "avg_csat_score": "6",
                                    "state": "Wyoming"
                                },
                                {
                                    "avg_csat_score": "6",
                                    "state": "North Dakota"
                                },
                                {
                                    "avg_csat_score": "6",
                                    "state": "Vermont"
                                },
                                {
                                    "avg_csat_score": "5",
                                    "state": "Idaho"
                                },
                                {
                                    "avg_csat_score": "5",
                                    "state": "Georgia"
                                },
                                {
                                    "avg_csat_score": "5",
                                    "state": "Connecticut"
                                },
                                {
                                    "avg_csat_score": "5",
                                    "state": "New Jersey"
                                },
                                {
                                    "avg_csat_score": "5",
                                    "state": "Michigan"
                                },
                                {
                                    "avg_csat_score": "5",
                                    "state": "Iowa"
                                },
                                {
                                    "avg_csat_score": "5",
                                    "state": "North Carolina"
                                },
                                {
                                    "avg_csat_score": "5",
                                    "state": "Louisiana"
                                },
                                {
                                    "avg_csat_score": "5",
                                    "state": "Hawaii"
                                },
                                {
                                    "avg_csat_score": "5",
                                    "state": "Mississippi"
                                },
                                {
                                    "avg_csat_score": "5",
                                    "state": "Colorado"
                                },
                                {
                                    "avg_csat_score": "5",
                                    "state": "Texas"
                                },
                                {
                                    "avg_csat_score": "5",
                                    "state": "South Carolina"
                                },
                                {
                                    "avg_csat_score": "5",
                                    "state": "West Virginia"
                                },
                                {
                                    "avg_csat_score": "5",
                                    "state": "Montana"
                                },
                                {
                                    "avg_csat_score": "5",
                                    "state": "Utah"
                                },
                                {
                                    "avg_csat_score": "5",
                                    "state": "Alabama"
                                },
                                {
                                    "avg_csat_score": "5",
                                    "state": "Tennessee"
                                },
                                {
                                    "avg_csat_score": "5",
                                    "state": "Rhode Island"
                                },
                                {
                                    "avg_csat_score": "5",
                                    "state": "Arkansas"
                                },
                                {
                                    "avg_csat_score": "5",
                                    "state": "Nevada"
                                },
                                {
                                    "avg_csat_score": "5",
                                    "state": "Kansas"
                                },
                                {
                                    "avg_csat_score": "5",
                                    "state": "Kentucky"
                                },
                                {
                                    "avg_csat_score": "5",
                                    "state": "New Mexico"
                                },
                                {
                                    "avg_csat_score": "5",
                                    "state": "Illinois"
                                },
                                {
                                    "avg_csat_score": "5",
                                    "state": "Oklahoma"
                                },
                                {
                                    "avg_csat_score": "5",
                                    "state": "Wisconsin"
                                },
                                {
                                    "avg_csat_score": "5",
                                    "state": "Pennsylvania"
                                },
                                {
                                    "avg_csat_score": "5",
                                    "state": "Massachusetts"
                                },
                                {
                                    "avg_csat_score": "5",
                                    "state": "Ohio"
                                },
                                {
                                    "avg_csat_score": "5",
                                    "state": "Oregon"
                                },
                                {
                                    "avg_csat_score": "5",
                                    "state": "Arizona"
                                },
                                {
                                    "avg_csat_score": "5",
                                    "state": "Virginia"
                                },
                                {
                                    "avg_csat_score": "5",
                                    "state": "New York"
                                },
                                {
                                    "avg_csat_score": "5",
                                    "state": "South Dakota"
                                },
                                {
                                    "avg_csat_score": "5",
                                    "state": "Maryland"
                                },
                                {
                                    "avg_csat_score": "5",
                                    "state": "California"
                                },
                                {
                                    "avg_csat_score": "5",
                                    "state": "Missouri"
                                },
                                {
                                    "avg_csat_score": "5",
                                    "state": "Minnesota"
                                },
                                {
                                    "avg_csat_score": "5",
                                    "state": "District of Columbia"
                                },
                                {
                                    "avg_csat_score": "5",
                                    "state": "Florida"
                                },
                                {
                                    "avg_csat_score": "5",
                                    "state": "Indiana"
                                },
                                {
                                    "avg_csat_score": "5",
                                    "state": "Alaska"
                                },
                                {
                                    "avg_csat_score": "5",
                                    "state": "Washington"
                                },
                                {
                                    "avg_csat_score": "4",
                                    "state": "Delaware"
                                },
                                {
                                    "avg_csat_score": "4",
                                    "state": "New Hampshire"
                                },
                                {
                                    "avg_csat_score": "4",
                                    "state": "Nebraska"
                                },
                                {
                                    "avg_csat_score": "3",
                                    "state": "Maine"
                                }
                            ],
                            "schema": {
                                "fields": [
                                    {
                                        "name": "state"
                                    },
                                    {
                                        "name": "avg_csat_score"
                                    }
                                ]
                            }
                        },
                        "text/html": [
                            "<table>\n",
                            "<tr><th>state</th><th>avg_csat_score</th></tr>\n",
                            "<tr><td>Wyoming</td><td>6</td></tr>\n",
                            "<tr><td>North Dakota</td><td>6</td></tr>\n",
                            "<tr><td>Vermont</td><td>6</td></tr>\n",
                            "<tr><td>Idaho</td><td>5</td></tr>\n",
                            "<tr><td>Georgia</td><td>5</td></tr>\n",
                            "<tr><td>Connecticut</td><td>5</td></tr>\n",
                            "<tr><td>New Jersey</td><td>5</td></tr>\n",
                            "<tr><td>Michigan</td><td>5</td></tr>\n",
                            "<tr><td>Iowa</td><td>5</td></tr>\n",
                            "<tr><td>North Carolina</td><td>5</td></tr>\n",
                            "<tr><td>Louisiana</td><td>5</td></tr>\n",
                            "<tr><td>Hawaii</td><td>5</td></tr>\n",
                            "<tr><td>Mississippi</td><td>5</td></tr>\n",
                            "<tr><td>Colorado</td><td>5</td></tr>\n",
                            "<tr><td>Texas</td><td>5</td></tr>\n",
                            "<tr><td>South Carolina</td><td>5</td></tr>\n",
                            "<tr><td>West Virginia</td><td>5</td></tr>\n",
                            "<tr><td>Montana</td><td>5</td></tr>\n",
                            "<tr><td>Utah</td><td>5</td></tr>\n",
                            "<tr><td>Alabama</td><td>5</td></tr>\n",
                            "<tr><td>Tennessee</td><td>5</td></tr>\n",
                            "<tr><td>Rhode Island</td><td>5</td></tr>\n",
                            "<tr><td>Arkansas</td><td>5</td></tr>\n",
                            "<tr><td>Nevada</td><td>5</td></tr>\n",
                            "<tr><td>Kansas</td><td>5</td></tr>\n",
                            "<tr><td>Kentucky</td><td>5</td></tr>\n",
                            "<tr><td>New Mexico</td><td>5</td></tr>\n",
                            "<tr><td>Illinois</td><td>5</td></tr>\n",
                            "<tr><td>Oklahoma</td><td>5</td></tr>\n",
                            "<tr><td>Wisconsin</td><td>5</td></tr>\n",
                            "<tr><td>Pennsylvania</td><td>5</td></tr>\n",
                            "<tr><td>Massachusetts</td><td>5</td></tr>\n",
                            "<tr><td>Ohio</td><td>5</td></tr>\n",
                            "<tr><td>Oregon</td><td>5</td></tr>\n",
                            "<tr><td>Arizona</td><td>5</td></tr>\n",
                            "<tr><td>Virginia</td><td>5</td></tr>\n",
                            "<tr><td>New York</td><td>5</td></tr>\n",
                            "<tr><td>South Dakota</td><td>5</td></tr>\n",
                            "<tr><td>Maryland</td><td>5</td></tr>\n",
                            "<tr><td>California</td><td>5</td></tr>\n",
                            "<tr><td>Missouri</td><td>5</td></tr>\n",
                            "<tr><td>Minnesota</td><td>5</td></tr>\n",
                            "<tr><td>District of Columbia</td><td>5</td></tr>\n",
                            "<tr><td>Florida</td><td>5</td></tr>\n",
                            "<tr><td>Indiana</td><td>5</td></tr>\n",
                            "<tr><td>Alaska</td><td>5</td></tr>\n",
                            "<tr><td>Washington</td><td>5</td></tr>\n",
                            "<tr><td>Delaware</td><td>4</td></tr>\n",
                            "<tr><td>New Hampshire</td><td>4</td></tr>\n",
                            "<tr><td>Nebraska</td><td>4</td></tr>\n",
                            "<tr><td>Maine</td><td>3</td></tr>\n",
                            "</table>"
                        ]
                    },
                    "execution_count": 52,
                    "metadata": {},
                    "output_type": "execute_result"
                }
            ],
            "source": [
                "SELECT state, AVG(csat_score) as avg_csat_score \n",
                "FROM CallCenter cs \n",
                "WHERE csat_score != 0 and cs.csat_score <> 11\n",
                "GROUP BY state \n",
                "ORDER BY 2 DESC;\n"
            ]
        },
        {
            "cell_type": "markdown",
            "metadata": {},
            "source": [
                "#### Number of Calls for Each State and Sentiment "
            ]
        },
        {
            "cell_type": "code",
            "execution_count": 54,
            "metadata": {
                "azdata_cell_guid": "3a0788db-076d-45a4-82bf-58ee1bcb36ca",
                "language": "sql"
            },
            "outputs": [
                {
                    "data": {
                        "text/html": [
                            "(250 rows affected)"
                        ]
                    },
                    "metadata": {},
                    "output_type": "display_data"
                },
                {
                    "data": {
                        "text/html": [
                            "Total execution time: 00:00:00.060"
                        ]
                    },
                    "metadata": {},
                    "output_type": "display_data"
                },
                {
                    "data": {
                        "application/vnd.dataresource+json": {
                            "data": [
                                {
                                    "Number of Calls": "265",
                                    "sentiment": "Negative",
                                    "state": "Alabama"
                                },
                                {
                                    "Number of Calls": "200",
                                    "sentiment": "Neutral",
                                    "state": "Alabama"
                                },
                                {
                                    "Number of Calls": "129",
                                    "sentiment": "Very Negative",
                                    "state": "Alabama"
                                },
                                {
                                    "Number of Calls": "74",
                                    "sentiment": "Positive",
                                    "state": "Alabama"
                                },
                                {
                                    "Number of Calls": "70",
                                    "sentiment": "Very Positive",
                                    "state": "Alabama"
                                },
                                {
                                    "Number of Calls": "45",
                                    "sentiment": "Negative",
                                    "state": "Alaska"
                                },
                                {
                                    "Number of Calls": "32",
                                    "sentiment": "Neutral",
                                    "state": "Alaska"
                                },
                                {
                                    "Number of Calls": "28",
                                    "sentiment": "Very Negative",
                                    "state": "Alaska"
                                },
                                {
                                    "Number of Calls": "25",
                                    "sentiment": "Positive",
                                    "state": "Alaska"
                                },
                                {
                                    "Number of Calls": "16",
                                    "sentiment": "Very Positive",
                                    "state": "Alaska"
                                },
                                {
                                    "Number of Calls": "235",
                                    "sentiment": "Negative",
                                    "state": "Arizona"
                                },
                                {
                                    "Number of Calls": "204",
                                    "sentiment": "Neutral",
                                    "state": "Arizona"
                                },
                                {
                                    "Number of Calls": "131",
                                    "sentiment": "Very Negative",
                                    "state": "Arizona"
                                },
                                {
                                    "Number of Calls": "94",
                                    "sentiment": "Positive",
                                    "state": "Arizona"
                                },
                                {
                                    "Number of Calls": "73",
                                    "sentiment": "Very Positive",
                                    "state": "Arizona"
                                },
                                {
                                    "Number of Calls": "73",
                                    "sentiment": "Negative",
                                    "state": "Arkansas"
                                },
                                {
                                    "Number of Calls": "50",
                                    "sentiment": "Neutral",
                                    "state": "Arkansas"
                                },
                                {
                                    "Number of Calls": "39",
                                    "sentiment": "Very Negative",
                                    "state": "Arkansas"
                                },
                                {
                                    "Number of Calls": "22",
                                    "sentiment": "Very Positive",
                                    "state": "Arkansas"
                                },
                                {
                                    "Number of Calls": "20",
                                    "sentiment": "Positive",
                                    "state": "Arkansas"
                                },
                                {
                                    "Number of Calls": "1255",
                                    "sentiment": "Negative",
                                    "state": "California"
                                },
                                {
                                    "Number of Calls": "963",
                                    "sentiment": "Neutral",
                                    "state": "California"
                                },
                                {
                                    "Number of Calls": "630",
                                    "sentiment": "Very Negative",
                                    "state": "California"
                                },
                                {
                                    "Number of Calls": "422",
                                    "sentiment": "Positive",
                                    "state": "California"
                                },
                                {
                                    "Number of Calls": "361",
                                    "sentiment": "Very Positive",
                                    "state": "California"
                                },
                                {
                                    "Number of Calls": "253",
                                    "sentiment": "Negative",
                                    "state": "Colorado"
                                },
                                {
                                    "Number of Calls": "181",
                                    "sentiment": "Neutral",
                                    "state": "Colorado"
                                },
                                {
                                    "Number of Calls": "158",
                                    "sentiment": "Very Negative",
                                    "state": "Colorado"
                                },
                                {
                                    "Number of Calls": "85",
                                    "sentiment": "Positive",
                                    "state": "Colorado"
                                },
                                {
                                    "Number of Calls": "65",
                                    "sentiment": "Very Positive",
                                    "state": "Colorado"
                                },
                                {
                                    "Number of Calls": "138",
                                    "sentiment": "Negative",
                                    "state": "Connecticut"
                                },
                                {
                                    "Number of Calls": "105",
                                    "sentiment": "Neutral",
                                    "state": "Connecticut"
                                },
                                {
                                    "Number of Calls": "68",
                                    "sentiment": "Very Negative",
                                    "state": "Connecticut"
                                },
                                {
                                    "Number of Calls": "56",
                                    "sentiment": "Positive",
                                    "state": "Connecticut"
                                },
                                {
                                    "Number of Calls": "41",
                                    "sentiment": "Very Positive",
                                    "state": "Connecticut"
                                },
                                {
                                    "Number of Calls": "46",
                                    "sentiment": "Negative",
                                    "state": "Delaware"
                                },
                                {
                                    "Number of Calls": "27",
                                    "sentiment": "Very Negative",
                                    "state": "Delaware"
                                },
                                {
                                    "Number of Calls": "26",
                                    "sentiment": "Neutral",
                                    "state": "Delaware"
                                },
                                {
                                    "Number of Calls": "15",
                                    "sentiment": "Very Positive",
                                    "state": "Delaware"
                                },
                                {
                                    "Number of Calls": "14",
                                    "sentiment": "Positive",
                                    "state": "Delaware"
                                },
                                {
                                    "Number of Calls": "395",
                                    "sentiment": "Negative",
                                    "state": "District of Columbia"
                                },
                                {
                                    "Number of Calls": "290",
                                    "sentiment": "Neutral",
                                    "state": "District of Columbia"
                                },
                                {
                                    "Number of Calls": "190",
                                    "sentiment": "Very Negative",
                                    "state": "District of Columbia"
                                },
                                {
                                    "Number of Calls": "133",
                                    "sentiment": "Positive",
                                    "state": "District of Columbia"
                                },
                                {
                                    "Number of Calls": "102",
                                    "sentiment": "Very Positive",
                                    "state": "District of Columbia"
                                },
                                {
                                    "Number of Calls": "920",
                                    "sentiment": "Negative",
                                    "state": "Florida"
                                },
                                {
                                    "Number of Calls": "750",
                                    "sentiment": "Neutral",
                                    "state": "Florida"
                                },
                                {
                                    "Number of Calls": "541",
                                    "sentiment": "Very Negative",
                                    "state": "Florida"
                                },
                                {
                                    "Number of Calls": "348",
                                    "sentiment": "Positive",
                                    "state": "Florida"
                                },
                                {
                                    "Number of Calls": "275",
                                    "sentiment": "Very Positive",
                                    "state": "Florida"
                                },
                                {
                                    "Number of Calls": "304",
                                    "sentiment": "Negative",
                                    "state": "Georgia"
                                },
                                {
                                    "Number of Calls": "238",
                                    "sentiment": "Neutral",
                                    "state": "Georgia"
                                },
                                {
                                    "Number of Calls": "176",
                                    "sentiment": "Very Negative",
                                    "state": "Georgia"
                                },
                                {
                                    "Number of Calls": "113",
                                    "sentiment": "Positive",
                                    "state": "Georgia"
                                },
                                {
                                    "Number of Calls": "95",
                                    "sentiment": "Very Positive",
                                    "state": "Georgia"
                                },
                                {
                                    "Number of Calls": "50",
                                    "sentiment": "Neutral",
                                    "state": "Hawaii"
                                },
                                {
                                    "Number of Calls": "48",
                                    "sentiment": "Negative",
                                    "state": "Hawaii"
                                },
                                {
                                    "Number of Calls": "20",
                                    "sentiment": "Very Negative",
                                    "state": "Hawaii"
                                },
                                {
                                    "Number of Calls": "17",
                                    "sentiment": "Positive",
                                    "state": "Hawaii"
                                },
                                {
                                    "Number of Calls": "14",
                                    "sentiment": "Very Positive",
                                    "state": "Hawaii"
                                },
                                {
                                    "Number of Calls": "55",
                                    "sentiment": "Negative",
                                    "state": "Idaho"
                                },
                                {
                                    "Number of Calls": "47",
                                    "sentiment": "Neutral",
                                    "state": "Idaho"
                                },
                                {
                                    "Number of Calls": "29",
                                    "sentiment": "Very Negative",
                                    "state": "Idaho"
                                },
                                {
                                    "Number of Calls": "23",
                                    "sentiment": "Positive",
                                    "state": "Idaho"
                                },
                                {
                                    "Number of Calls": "20",
                                    "sentiment": "Very Positive",
                                    "state": "Idaho"
                                },
                                {
                                    "Number of Calls": "286",
                                    "sentiment": "Negative",
                                    "state": "Illinois"
                                },
                                {
                                    "Number of Calls": "223",
                                    "sentiment": "Neutral",
                                    "state": "Illinois"
                                },
                                {
                                    "Number of Calls": "148",
                                    "sentiment": "Very Negative",
                                    "state": "Illinois"
                                },
                                {
                                    "Number of Calls": "97",
                                    "sentiment": "Very Positive",
                                    "state": "Illinois"
                                },
                                {
                                    "Number of Calls": "94",
                                    "sentiment": "Positive",
                                    "state": "Illinois"
                                },
                                {
                                    "Number of Calls": "256",
                                    "sentiment": "Negative",
                                    "state": "Indiana"
                                },
                                {
                                    "Number of Calls": "198",
                                    "sentiment": "Neutral",
                                    "state": "Indiana"
                                },
                                {
                                    "Number of Calls": "123",
                                    "sentiment": "Very Negative",
                                    "state": "Indiana"
                                },
                                {
                                    "Number of Calls": "82",
                                    "sentiment": "Positive",
                                    "state": "Indiana"
                                },
                                {
                                    "Number of Calls": "77",
                                    "sentiment": "Very Positive",
                                    "state": "Indiana"
                                },
                                {
                                    "Number of Calls": "114",
                                    "sentiment": "Negative",
                                    "state": "Iowa"
                                },
                                {
                                    "Number of Calls": "97",
                                    "sentiment": "Neutral",
                                    "state": "Iowa"
                                },
                                {
                                    "Number of Calls": "70",
                                    "sentiment": "Very Negative",
                                    "state": "Iowa"
                                },
                                {
                                    "Number of Calls": "49",
                                    "sentiment": "Positive",
                                    "state": "Iowa"
                                },
                                {
                                    "Number of Calls": "36",
                                    "sentiment": "Very Positive",
                                    "state": "Iowa"
                                },
                                {
                                    "Number of Calls": "149",
                                    "sentiment": "Neutral",
                                    "state": "Kansas"
                                },
                                {
                                    "Number of Calls": "132",
                                    "sentiment": "Negative",
                                    "state": "Kansas"
                                },
                                {
                                    "Number of Calls": "84",
                                    "sentiment": "Very Negative",
                                    "state": "Kansas"
                                },
                                {
                                    "Number of Calls": "53",
                                    "sentiment": "Positive",
                                    "state": "Kansas"
                                },
                                {
                                    "Number of Calls": "49",
                                    "sentiment": "Very Positive",
                                    "state": "Kansas"
                                },
                                {
                                    "Number of Calls": "118",
                                    "sentiment": "Negative",
                                    "state": "Kentucky"
                                },
                                {
                                    "Number of Calls": "112",
                                    "sentiment": "Neutral",
                                    "state": "Kentucky"
                                },
                                {
                                    "Number of Calls": "93",
                                    "sentiment": "Very Negative",
                                    "state": "Kentucky"
                                },
                                {
                                    "Number of Calls": "45",
                                    "sentiment": "Positive",
                                    "state": "Kentucky"
                                },
                                {
                                    "Number of Calls": "43",
                                    "sentiment": "Very Positive",
                                    "state": "Kentucky"
                                },
                                {
                                    "Number of Calls": "199",
                                    "sentiment": "Negative",
                                    "state": "Louisiana"
                                },
                                {
                                    "Number of Calls": "174",
                                    "sentiment": "Neutral",
                                    "state": "Louisiana"
                                },
                                {
                                    "Number of Calls": "115",
                                    "sentiment": "Very Negative",
                                    "state": "Louisiana"
                                },
                                {
                                    "Number of Calls": "84",
                                    "sentiment": "Positive",
                                    "state": "Louisiana"
                                },
                                {
                                    "Number of Calls": "55",
                                    "sentiment": "Very Positive",
                                    "state": "Louisiana"
                                },
                                {
                                    "Number of Calls": "8",
                                    "sentiment": "Neutral",
                                    "state": "Maine"
                                },
                                {
                                    "Number of Calls": "4",
                                    "sentiment": "Negative",
                                    "state": "Maine"
                                },
                                {
                                    "Number of Calls": "3",
                                    "sentiment": "Very Negative",
                                    "state": "Maine"
                                },
                                {
                                    "Number of Calls": "1",
                                    "sentiment": "Very Positive",
                                    "state": "Maine"
                                },
                                {
                                    "Number of Calls": "136",
                                    "sentiment": "Negative",
                                    "state": "Maryland"
                                },
                                {
                                    "Number of Calls": "114",
                                    "sentiment": "Neutral",
                                    "state": "Maryland"
                                },
                                {
                                    "Number of Calls": "83",
                                    "sentiment": "Very Negative",
                                    "state": "Maryland"
                                },
                                {
                                    "Number of Calls": "42",
                                    "sentiment": "Positive",
                                    "state": "Maryland"
                                },
                                {
                                    "Number of Calls": "40",
                                    "sentiment": "Very Positive",
                                    "state": "Maryland"
                                },
                                {
                                    "Number of Calls": "146",
                                    "sentiment": "Negative",
                                    "state": "Massachusetts"
                                },
                                {
                                    "Number of Calls": "135",
                                    "sentiment": "Neutral",
                                    "state": "Massachusetts"
                                },
                                {
                                    "Number of Calls": "85",
                                    "sentiment": "Very Negative",
                                    "state": "Massachusetts"
                                },
                                {
                                    "Number of Calls": "71",
                                    "sentiment": "Positive",
                                    "state": "Massachusetts"
                                },
                                {
                                    "Number of Calls": "56",
                                    "sentiment": "Very Positive",
                                    "state": "Massachusetts"
                                },
                                {
                                    "Number of Calls": "203",
                                    "sentiment": "Negative",
                                    "state": "Michigan"
                                },
                                {
                                    "Number of Calls": "144",
                                    "sentiment": "Neutral",
                                    "state": "Michigan"
                                },
                                {
                                    "Number of Calls": "129",
                                    "sentiment": "Very Negative",
                                    "state": "Michigan"
                                },
                                {
                                    "Number of Calls": "81",
                                    "sentiment": "Positive",
                                    "state": "Michigan"
                                },
                                {
                                    "Number of Calls": "55",
                                    "sentiment": "Very Positive",
                                    "state": "Michigan"
                                },
                                {
                                    "Number of Calls": "269",
                                    "sentiment": "Negative",
                                    "state": "Minnesota"
                                },
                                {
                                    "Number of Calls": "186",
                                    "sentiment": "Neutral",
                                    "state": "Minnesota"
                                },
                                {
                                    "Number of Calls": "106",
                                    "sentiment": "Very Negative",
                                    "state": "Minnesota"
                                },
                                {
                                    "Number of Calls": "94",
                                    "sentiment": "Positive",
                                    "state": "Minnesota"
                                },
                                {
                                    "Number of Calls": "57",
                                    "sentiment": "Very Positive",
                                    "state": "Minnesota"
                                },
                                {
                                    "Number of Calls": "62",
                                    "sentiment": "Negative",
                                    "state": "Mississippi"
                                },
                                {
                                    "Number of Calls": "40",
                                    "sentiment": "Neutral",
                                    "state": "Mississippi"
                                },
                                {
                                    "Number of Calls": "29",
                                    "sentiment": "Positive",
                                    "state": "Mississippi"
                                },
                                {
                                    "Number of Calls": "28",
                                    "sentiment": "Very Negative",
                                    "state": "Mississippi"
                                },
                                {
                                    "Number of Calls": "19",
                                    "sentiment": "Very Positive",
                                    "state": "Mississippi"
                                },
                                {
                                    "Number of Calls": "222",
                                    "sentiment": "Negative",
                                    "state": "Missouri"
                                },
                                {
                                    "Number of Calls": "182",
                                    "sentiment": "Neutral",
                                    "state": "Missouri"
                                },
                                {
                                    "Number of Calls": "132",
                                    "sentiment": "Very Negative",
                                    "state": "Missouri"
                                },
                                {
                                    "Number of Calls": "80",
                                    "sentiment": "Positive",
                                    "state": "Missouri"
                                },
                                {
                                    "Number of Calls": "66",
                                    "sentiment": "Very Positive",
                                    "state": "Missouri"
                                },
                                {
                                    "Number of Calls": "28",
                                    "sentiment": "Negative",
                                    "state": "Montana"
                                },
                                {
                                    "Number of Calls": "24",
                                    "sentiment": "Neutral",
                                    "state": "Montana"
                                },
                                {
                                    "Number of Calls": "22",
                                    "sentiment": "Very Negative",
                                    "state": "Montana"
                                },
                                {
                                    "Number of Calls": "14",
                                    "sentiment": "Positive",
                                    "state": "Montana"
                                },
                                {
                                    "Number of Calls": "6",
                                    "sentiment": "Very Positive",
                                    "state": "Montana"
                                },
                                {
                                    "Number of Calls": "88",
                                    "sentiment": "Negative",
                                    "state": "Nebraska"
                                },
                                {
                                    "Number of Calls": "62",
                                    "sentiment": "Neutral",
                                    "state": "Nebraska"
                                },
                                {
                                    "Number of Calls": "51",
                                    "sentiment": "Very Negative",
                                    "state": "Nebraska"
                                },
                                {
                                    "Number of Calls": "23",
                                    "sentiment": "Positive",
                                    "state": "Nebraska"
                                },
                                {
                                    "Number of Calls": "19",
                                    "sentiment": "Very Positive",
                                    "state": "Nebraska"
                                },
                                {
                                    "Number of Calls": "131",
                                    "sentiment": "Negative",
                                    "state": "Nevada"
                                },
                                {
                                    "Number of Calls": "125",
                                    "sentiment": "Neutral",
                                    "state": "Nevada"
                                },
                                {
                                    "Number of Calls": "105",
                                    "sentiment": "Very Negative",
                                    "state": "Nevada"
                                },
                                {
                                    "Number of Calls": "50",
                                    "sentiment": "Positive",
                                    "state": "Nevada"
                                },
                                {
                                    "Number of Calls": "48",
                                    "sentiment": "Very Positive",
                                    "state": "Nevada"
                                },
                                {
                                    "Number of Calls": "19",
                                    "sentiment": "Neutral",
                                    "state": "New Hampshire"
                                },
                                {
                                    "Number of Calls": "18",
                                    "sentiment": "Negative",
                                    "state": "New Hampshire"
                                },
                                {
                                    "Number of Calls": "7",
                                    "sentiment": "Very Negative",
                                    "state": "New Hampshire"
                                },
                                {
                                    "Number of Calls": "4",
                                    "sentiment": "Positive",
                                    "state": "New Hampshire"
                                },
                                {
                                    "Number of Calls": "3",
                                    "sentiment": "Very Positive",
                                    "state": "New Hampshire"
                                },
                                {
                                    "Number of Calls": "99",
                                    "sentiment": "Negative",
                                    "state": "New Jersey"
                                },
                                {
                                    "Number of Calls": "79",
                                    "sentiment": "Neutral",
                                    "state": "New Jersey"
                                },
                                {
                                    "Number of Calls": "59",
                                    "sentiment": "Very Negative",
                                    "state": "New Jersey"
                                },
                                {
                                    "Number of Calls": "44",
                                    "sentiment": "Positive",
                                    "state": "New Jersey"
                                },
                                {
                                    "Number of Calls": "36",
                                    "sentiment": "Very Positive",
                                    "state": "New Jersey"
                                },
                                {
                                    "Number of Calls": "62",
                                    "sentiment": "Negative",
                                    "state": "New Mexico"
                                },
                                {
                                    "Number of Calls": "54",
                                    "sentiment": "Neutral",
                                    "state": "New Mexico"
                                },
                                {
                                    "Number of Calls": "47",
                                    "sentiment": "Very Negative",
                                    "state": "New Mexico"
                                },
                                {
                                    "Number of Calls": "26",
                                    "sentiment": "Positive",
                                    "state": "New Mexico"
                                },
                                {
                                    "Number of Calls": "23",
                                    "sentiment": "Very Positive",
                                    "state": "New Mexico"
                                },
                                {
                                    "Number of Calls": "601",
                                    "sentiment": "Negative",
                                    "state": "New York"
                                },
                                {
                                    "Number of Calls": "487",
                                    "sentiment": "Neutral",
                                    "state": "New York"
                                },
                                {
                                    "Number of Calls": "339",
                                    "sentiment": "Very Negative",
                                    "state": "New York"
                                },
                                {
                                    "Number of Calls": "190",
                                    "sentiment": "Positive",
                                    "state": "New York"
                                },
                                {
                                    "Number of Calls": "169",
                                    "sentiment": "Very Positive",
                                    "state": "New York"
                                },
                                {
                                    "Number of Calls": "267",
                                    "sentiment": "Negative",
                                    "state": "North Carolina"
                                },
                                {
                                    "Number of Calls": "190",
                                    "sentiment": "Neutral",
                                    "state": "North Carolina"
                                },
                                {
                                    "Number of Calls": "143",
                                    "sentiment": "Very Negative",
                                    "state": "North Carolina"
                                },
                                {
                                    "Number of Calls": "89",
                                    "sentiment": "Positive",
                                    "state": "North Carolina"
                                },
                                {
                                    "Number of Calls": "76",
                                    "sentiment": "Very Positive",
                                    "state": "North Carolina"
                                },
                                {
                                    "Number of Calls": "34",
                                    "sentiment": "Negative",
                                    "state": "North Dakota"
                                },
                                {
                                    "Number of Calls": "17",
                                    "sentiment": "Neutral",
                                    "state": "North Dakota"
                                },
                                {
                                    "Number of Calls": "12",
                                    "sentiment": "Positive",
                                    "state": "North Dakota"
                                },
                                {
                                    "Number of Calls": "9",
                                    "sentiment": "Very Negative",
                                    "state": "North Dakota"
                                },
                                {
                                    "Number of Calls": "4",
                                    "sentiment": "Very Positive",
                                    "state": "North Dakota"
                                },
                                {
                                    "Number of Calls": "408",
                                    "sentiment": "Negative",
                                    "state": "Ohio"
                                },
                                {
                                    "Number of Calls": "304",
                                    "sentiment": "Neutral",
                                    "state": "Ohio"
                                },
                                {
                                    "Number of Calls": "197",
                                    "sentiment": "Very Negative",
                                    "state": "Ohio"
                                },
                                {
                                    "Number of Calls": "140",
                                    "sentiment": "Positive",
                                    "state": "Ohio"
                                },
                                {
                                    "Number of Calls": "111",
                                    "sentiment": "Very Positive",
                                    "state": "Ohio"
                                },
                                {
                                    "Number of Calls": "192",
                                    "sentiment": "Negative",
                                    "state": "Oklahoma"
                                },
                                {
                                    "Number of Calls": "146",
                                    "sentiment": "Neutral",
                                    "state": "Oklahoma"
                                },
                                {
                                    "Number of Calls": "76",
                                    "sentiment": "Very Negative",
                                    "state": "Oklahoma"
                                },
                                {
                                    "Number of Calls": "74",
                                    "sentiment": "Positive",
                                    "state": "Oklahoma"
                                },
                                {
                                    "Number of Calls": "50",
                                    "sentiment": "Very Positive",
                                    "state": "Oklahoma"
                                },
                                {
                                    "Number of Calls": "79",
                                    "sentiment": "Negative",
                                    "state": "Oregon"
                                },
                                {
                                    "Number of Calls": "76",
                                    "sentiment": "Neutral",
                                    "state": "Oregon"
                                },
                                {
                                    "Number of Calls": "54",
                                    "sentiment": "Very Negative",
                                    "state": "Oregon"
                                },
                                {
                                    "Number of Calls": "32",
                                    "sentiment": "Positive",
                                    "state": "Oregon"
                                },
                                {
                                    "Number of Calls": "20",
                                    "sentiment": "Very Positive",
                                    "state": "Oregon"
                                },
                                {
                                    "Number of Calls": "330",
                                    "sentiment": "Negative",
                                    "state": "Pennsylvania"
                                },
                                {
                                    "Number of Calls": "289",
                                    "sentiment": "Neutral",
                                    "state": "Pennsylvania"
                                },
                                {
                                    "Number of Calls": "186",
                                    "sentiment": "Very Negative",
                                    "state": "Pennsylvania"
                                },
                                {
                                    "Number of Calls": "111",
                                    "sentiment": "Positive",
                                    "state": "Pennsylvania"
                                },
                                {
                                    "Number of Calls": "101",
                                    "sentiment": "Very Positive",
                                    "state": "Pennsylvania"
                                },
                                {
                                    "Number of Calls": "14",
                                    "sentiment": "Neutral",
                                    "state": "Rhode Island"
                                },
                                {
                                    "Number of Calls": "10",
                                    "sentiment": "Negative",
                                    "state": "Rhode Island"
                                },
                                {
                                    "Number of Calls": "5",
                                    "sentiment": "Positive",
                                    "state": "Rhode Island"
                                },
                                {
                                    "Number of Calls": "5",
                                    "sentiment": "Very Negative",
                                    "state": "Rhode Island"
                                },
                                {
                                    "Number of Calls": "1",
                                    "sentiment": "Very Positive",
                                    "state": "Rhode Island"
                                },
                                {
                                    "Number of Calls": "95",
                                    "sentiment": "Negative",
                                    "state": "South Carolina"
                                },
                                {
                                    "Number of Calls": "88",
                                    "sentiment": "Neutral",
                                    "state": "South Carolina"
                                },
                                {
                                    "Number of Calls": "73",
                                    "sentiment": "Very Negative",
                                    "state": "South Carolina"
                                },
                                {
                                    "Number of Calls": "31",
                                    "sentiment": "Very Positive",
                                    "state": "South Carolina"
                                },
                                {
                                    "Number of Calls": "28",
                                    "sentiment": "Positive",
                                    "state": "South Carolina"
                                },
                                {
                                    "Number of Calls": "36",
                                    "sentiment": "Negative",
                                    "state": "South Dakota"
                                },
                                {
                                    "Number of Calls": "24",
                                    "sentiment": "Neutral",
                                    "state": "South Dakota"
                                },
                                {
                                    "Number of Calls": "14",
                                    "sentiment": "Very Negative",
                                    "state": "South Dakota"
                                },
                                {
                                    "Number of Calls": "13",
                                    "sentiment": "Positive",
                                    "state": "South Dakota"
                                },
                                {
                                    "Number of Calls": "6",
                                    "sentiment": "Very Positive",
                                    "state": "South Dakota"
                                },
                                {
                                    "Number of Calls": "235",
                                    "sentiment": "Negative",
                                    "state": "Tennessee"
                                },
                                {
                                    "Number of Calls": "190",
                                    "sentiment": "Neutral",
                                    "state": "Tennessee"
                                },
                                {
                                    "Number of Calls": "111",
                                    "sentiment": "Very Negative",
                                    "state": "Tennessee"
                                },
                                {
                                    "Number of Calls": "68",
                                    "sentiment": "Positive",
                                    "state": "Tennessee"
                                },
                                {
                                    "Number of Calls": "60",
                                    "sentiment": "Very Positive",
                                    "state": "Tennessee"
                                },
                                {
                                    "Number of Calls": "1245",
                                    "sentiment": "Negative",
                                    "state": "Texas"
                                },
                                {
                                    "Number of Calls": "934",
                                    "sentiment": "Neutral",
                                    "state": "Texas"
                                },
                                {
                                    "Number of Calls": "639",
                                    "sentiment": "Very Negative",
                                    "state": "Texas"
                                },
                                {
                                    "Number of Calls": "417",
                                    "sentiment": "Positive",
                                    "state": "Texas"
                                },
                                {
                                    "Number of Calls": "337",
                                    "sentiment": "Very Positive",
                                    "state": "Texas"
                                },
                                {
                                    "Number of Calls": "99",
                                    "sentiment": "Negative",
                                    "state": "Utah"
                                },
                                {
                                    "Number of Calls": "71",
                                    "sentiment": "Neutral",
                                    "state": "Utah"
                                },
                                {
                                    "Number of Calls": "55",
                                    "sentiment": "Very Negative",
                                    "state": "Utah"
                                },
                                {
                                    "Number of Calls": "45",
                                    "sentiment": "Positive",
                                    "state": "Utah"
                                },
                                {
                                    "Number of Calls": "28",
                                    "sentiment": "Very Positive",
                                    "state": "Utah"
                                },
                                {
                                    "Number of Calls": "5",
                                    "sentiment": "Neutral",
                                    "state": "Vermont"
                                },
                                {
                                    "Number of Calls": "4",
                                    "sentiment": "Negative",
                                    "state": "Vermont"
                                },
                                {
                                    "Number of Calls": "3",
                                    "sentiment": "Positive",
                                    "state": "Vermont"
                                },
                                {
                                    "Number of Calls": "2",
                                    "sentiment": "Very Negative",
                                    "state": "Vermont"
                                },
                                {
                                    "Number of Calls": "366",
                                    "sentiment": "Negative",
                                    "state": "Virginia"
                                },
                                {
                                    "Number of Calls": "314",
                                    "sentiment": "Neutral",
                                    "state": "Virginia"
                                },
                                {
                                    "Number of Calls": "240",
                                    "sentiment": "Very Negative",
                                    "state": "Virginia"
                                },
                                {
                                    "Number of Calls": "135",
                                    "sentiment": "Positive",
                                    "state": "Virginia"
                                },
                                {
                                    "Number of Calls": "109",
                                    "sentiment": "Very Positive",
                                    "state": "Virginia"
                                },
                                {
                                    "Number of Calls": "245",
                                    "sentiment": "Negative",
                                    "state": "Washington"
                                },
                                {
                                    "Number of Calls": "161",
                                    "sentiment": "Neutral",
                                    "state": "Washington"
                                },
                                {
                                    "Number of Calls": "106",
                                    "sentiment": "Very Negative",
                                    "state": "Washington"
                                },
                                {
                                    "Number of Calls": "97",
                                    "sentiment": "Positive",
                                    "state": "Washington"
                                },
                                {
                                    "Number of Calls": "54",
                                    "sentiment": "Very Positive",
                                    "state": "Washington"
                                },
                                {
                                    "Number of Calls": "98",
                                    "sentiment": "Neutral",
                                    "state": "West Virginia"
                                },
                                {
                                    "Number of Calls": "85",
                                    "sentiment": "Negative",
                                    "state": "West Virginia"
                                },
                                {
                                    "Number of Calls": "52",
                                    "sentiment": "Very Negative",
                                    "state": "West Virginia"
                                },
                                {
                                    "Number of Calls": "39",
                                    "sentiment": "Positive",
                                    "state": "West Virginia"
                                },
                                {
                                    "Number of Calls": "27",
                                    "sentiment": "Very Positive",
                                    "state": "West Virginia"
                                },
                                {
                                    "Number of Calls": "119",
                                    "sentiment": "Negative",
                                    "state": "Wisconsin"
                                },
                                {
                                    "Number of Calls": "82",
                                    "sentiment": "Neutral",
                                    "state": "Wisconsin"
                                },
                                {
                                    "Number of Calls": "69",
                                    "sentiment": "Very Negative",
                                    "state": "Wisconsin"
                                },
                                {
                                    "Number of Calls": "41",
                                    "sentiment": "Positive",
                                    "state": "Wisconsin"
                                },
                                {
                                    "Number of Calls": "31",
                                    "sentiment": "Very Positive",
                                    "state": "Wisconsin"
                                },
                                {
                                    "Number of Calls": "8",
                                    "sentiment": "Negative",
                                    "state": "Wyoming"
                                },
                                {
                                    "Number of Calls": "3",
                                    "sentiment": "Neutral",
                                    "state": "Wyoming"
                                }
                            ],
                            "schema": {
                                "fields": [
                                    {
                                        "name": "state"
                                    },
                                    {
                                        "name": "sentiment"
                                    },
                                    {
                                        "name": "Number of Calls"
                                    }
                                ]
                            }
                        },
                        "text/html": [
                            "<table>\n",
                            "<tr><th>state</th><th>sentiment</th><th>Number of Calls</th></tr>\n",
                            "<tr><td>Alabama</td><td>Negative</td><td>265</td></tr>\n",
                            "<tr><td>Alabama</td><td>Neutral</td><td>200</td></tr>\n",
                            "<tr><td>Alabama</td><td>Very Negative</td><td>129</td></tr>\n",
                            "<tr><td>Alabama</td><td>Positive</td><td>74</td></tr>\n",
                            "<tr><td>Alabama</td><td>Very Positive</td><td>70</td></tr>\n",
                            "<tr><td>Alaska</td><td>Negative</td><td>45</td></tr>\n",
                            "<tr><td>Alaska</td><td>Neutral</td><td>32</td></tr>\n",
                            "<tr><td>Alaska</td><td>Very Negative</td><td>28</td></tr>\n",
                            "<tr><td>Alaska</td><td>Positive</td><td>25</td></tr>\n",
                            "<tr><td>Alaska</td><td>Very Positive</td><td>16</td></tr>\n",
                            "<tr><td>Arizona</td><td>Negative</td><td>235</td></tr>\n",
                            "<tr><td>Arizona</td><td>Neutral</td><td>204</td></tr>\n",
                            "<tr><td>Arizona</td><td>Very Negative</td><td>131</td></tr>\n",
                            "<tr><td>Arizona</td><td>Positive</td><td>94</td></tr>\n",
                            "<tr><td>Arizona</td><td>Very Positive</td><td>73</td></tr>\n",
                            "<tr><td>Arkansas</td><td>Negative</td><td>73</td></tr>\n",
                            "<tr><td>Arkansas</td><td>Neutral</td><td>50</td></tr>\n",
                            "<tr><td>Arkansas</td><td>Very Negative</td><td>39</td></tr>\n",
                            "<tr><td>Arkansas</td><td>Very Positive</td><td>22</td></tr>\n",
                            "<tr><td>Arkansas</td><td>Positive</td><td>20</td></tr>\n",
                            "<tr><td>California</td><td>Negative</td><td>1255</td></tr>\n",
                            "<tr><td>California</td><td>Neutral</td><td>963</td></tr>\n",
                            "<tr><td>California</td><td>Very Negative</td><td>630</td></tr>\n",
                            "<tr><td>California</td><td>Positive</td><td>422</td></tr>\n",
                            "<tr><td>California</td><td>Very Positive</td><td>361</td></tr>\n",
                            "<tr><td>Colorado</td><td>Negative</td><td>253</td></tr>\n",
                            "<tr><td>Colorado</td><td>Neutral</td><td>181</td></tr>\n",
                            "<tr><td>Colorado</td><td>Very Negative</td><td>158</td></tr>\n",
                            "<tr><td>Colorado</td><td>Positive</td><td>85</td></tr>\n",
                            "<tr><td>Colorado</td><td>Very Positive</td><td>65</td></tr>\n",
                            "<tr><td>Connecticut</td><td>Negative</td><td>138</td></tr>\n",
                            "<tr><td>Connecticut</td><td>Neutral</td><td>105</td></tr>\n",
                            "<tr><td>Connecticut</td><td>Very Negative</td><td>68</td></tr>\n",
                            "<tr><td>Connecticut</td><td>Positive</td><td>56</td></tr>\n",
                            "<tr><td>Connecticut</td><td>Very Positive</td><td>41</td></tr>\n",
                            "<tr><td>Delaware</td><td>Negative</td><td>46</td></tr>\n",
                            "<tr><td>Delaware</td><td>Very Negative</td><td>27</td></tr>\n",
                            "<tr><td>Delaware</td><td>Neutral</td><td>26</td></tr>\n",
                            "<tr><td>Delaware</td><td>Very Positive</td><td>15</td></tr>\n",
                            "<tr><td>Delaware</td><td>Positive</td><td>14</td></tr>\n",
                            "<tr><td>District of Columbia</td><td>Negative</td><td>395</td></tr>\n",
                            "<tr><td>District of Columbia</td><td>Neutral</td><td>290</td></tr>\n",
                            "<tr><td>District of Columbia</td><td>Very Negative</td><td>190</td></tr>\n",
                            "<tr><td>District of Columbia</td><td>Positive</td><td>133</td></tr>\n",
                            "<tr><td>District of Columbia</td><td>Very Positive</td><td>102</td></tr>\n",
                            "<tr><td>Florida</td><td>Negative</td><td>920</td></tr>\n",
                            "<tr><td>Florida</td><td>Neutral</td><td>750</td></tr>\n",
                            "<tr><td>Florida</td><td>Very Negative</td><td>541</td></tr>\n",
                            "<tr><td>Florida</td><td>Positive</td><td>348</td></tr>\n",
                            "<tr><td>Florida</td><td>Very Positive</td><td>275</td></tr>\n",
                            "<tr><td>Georgia</td><td>Negative</td><td>304</td></tr>\n",
                            "<tr><td>Georgia</td><td>Neutral</td><td>238</td></tr>\n",
                            "<tr><td>Georgia</td><td>Very Negative</td><td>176</td></tr>\n",
                            "<tr><td>Georgia</td><td>Positive</td><td>113</td></tr>\n",
                            "<tr><td>Georgia</td><td>Very Positive</td><td>95</td></tr>\n",
                            "<tr><td>Hawaii</td><td>Neutral</td><td>50</td></tr>\n",
                            "<tr><td>Hawaii</td><td>Negative</td><td>48</td></tr>\n",
                            "<tr><td>Hawaii</td><td>Very Negative</td><td>20</td></tr>\n",
                            "<tr><td>Hawaii</td><td>Positive</td><td>17</td></tr>\n",
                            "<tr><td>Hawaii</td><td>Very Positive</td><td>14</td></tr>\n",
                            "<tr><td>Idaho</td><td>Negative</td><td>55</td></tr>\n",
                            "<tr><td>Idaho</td><td>Neutral</td><td>47</td></tr>\n",
                            "<tr><td>Idaho</td><td>Very Negative</td><td>29</td></tr>\n",
                            "<tr><td>Idaho</td><td>Positive</td><td>23</td></tr>\n",
                            "<tr><td>Idaho</td><td>Very Positive</td><td>20</td></tr>\n",
                            "<tr><td>Illinois</td><td>Negative</td><td>286</td></tr>\n",
                            "<tr><td>Illinois</td><td>Neutral</td><td>223</td></tr>\n",
                            "<tr><td>Illinois</td><td>Very Negative</td><td>148</td></tr>\n",
                            "<tr><td>Illinois</td><td>Very Positive</td><td>97</td></tr>\n",
                            "<tr><td>Illinois</td><td>Positive</td><td>94</td></tr>\n",
                            "<tr><td>Indiana</td><td>Negative</td><td>256</td></tr>\n",
                            "<tr><td>Indiana</td><td>Neutral</td><td>198</td></tr>\n",
                            "<tr><td>Indiana</td><td>Very Negative</td><td>123</td></tr>\n",
                            "<tr><td>Indiana</td><td>Positive</td><td>82</td></tr>\n",
                            "<tr><td>Indiana</td><td>Very Positive</td><td>77</td></tr>\n",
                            "<tr><td>Iowa</td><td>Negative</td><td>114</td></tr>\n",
                            "<tr><td>Iowa</td><td>Neutral</td><td>97</td></tr>\n",
                            "<tr><td>Iowa</td><td>Very Negative</td><td>70</td></tr>\n",
                            "<tr><td>Iowa</td><td>Positive</td><td>49</td></tr>\n",
                            "<tr><td>Iowa</td><td>Very Positive</td><td>36</td></tr>\n",
                            "<tr><td>Kansas</td><td>Neutral</td><td>149</td></tr>\n",
                            "<tr><td>Kansas</td><td>Negative</td><td>132</td></tr>\n",
                            "<tr><td>Kansas</td><td>Very Negative</td><td>84</td></tr>\n",
                            "<tr><td>Kansas</td><td>Positive</td><td>53</td></tr>\n",
                            "<tr><td>Kansas</td><td>Very Positive</td><td>49</td></tr>\n",
                            "<tr><td>Kentucky</td><td>Negative</td><td>118</td></tr>\n",
                            "<tr><td>Kentucky</td><td>Neutral</td><td>112</td></tr>\n",
                            "<tr><td>Kentucky</td><td>Very Negative</td><td>93</td></tr>\n",
                            "<tr><td>Kentucky</td><td>Positive</td><td>45</td></tr>\n",
                            "<tr><td>Kentucky</td><td>Very Positive</td><td>43</td></tr>\n",
                            "<tr><td>Louisiana</td><td>Negative</td><td>199</td></tr>\n",
                            "<tr><td>Louisiana</td><td>Neutral</td><td>174</td></tr>\n",
                            "<tr><td>Louisiana</td><td>Very Negative</td><td>115</td></tr>\n",
                            "<tr><td>Louisiana</td><td>Positive</td><td>84</td></tr>\n",
                            "<tr><td>Louisiana</td><td>Very Positive</td><td>55</td></tr>\n",
                            "<tr><td>Maine</td><td>Neutral</td><td>8</td></tr>\n",
                            "<tr><td>Maine</td><td>Negative</td><td>4</td></tr>\n",
                            "<tr><td>Maine</td><td>Very Negative</td><td>3</td></tr>\n",
                            "<tr><td>Maine</td><td>Very Positive</td><td>1</td></tr>\n",
                            "<tr><td>Maryland</td><td>Negative</td><td>136</td></tr>\n",
                            "<tr><td>Maryland</td><td>Neutral</td><td>114</td></tr>\n",
                            "<tr><td>Maryland</td><td>Very Negative</td><td>83</td></tr>\n",
                            "<tr><td>Maryland</td><td>Positive</td><td>42</td></tr>\n",
                            "<tr><td>Maryland</td><td>Very Positive</td><td>40</td></tr>\n",
                            "<tr><td>Massachusetts</td><td>Negative</td><td>146</td></tr>\n",
                            "<tr><td>Massachusetts</td><td>Neutral</td><td>135</td></tr>\n",
                            "<tr><td>Massachusetts</td><td>Very Negative</td><td>85</td></tr>\n",
                            "<tr><td>Massachusetts</td><td>Positive</td><td>71</td></tr>\n",
                            "<tr><td>Massachusetts</td><td>Very Positive</td><td>56</td></tr>\n",
                            "<tr><td>Michigan</td><td>Negative</td><td>203</td></tr>\n",
                            "<tr><td>Michigan</td><td>Neutral</td><td>144</td></tr>\n",
                            "<tr><td>Michigan</td><td>Very Negative</td><td>129</td></tr>\n",
                            "<tr><td>Michigan</td><td>Positive</td><td>81</td></tr>\n",
                            "<tr><td>Michigan</td><td>Very Positive</td><td>55</td></tr>\n",
                            "<tr><td>Minnesota</td><td>Negative</td><td>269</td></tr>\n",
                            "<tr><td>Minnesota</td><td>Neutral</td><td>186</td></tr>\n",
                            "<tr><td>Minnesota</td><td>Very Negative</td><td>106</td></tr>\n",
                            "<tr><td>Minnesota</td><td>Positive</td><td>94</td></tr>\n",
                            "<tr><td>Minnesota</td><td>Very Positive</td><td>57</td></tr>\n",
                            "<tr><td>Mississippi</td><td>Negative</td><td>62</td></tr>\n",
                            "<tr><td>Mississippi</td><td>Neutral</td><td>40</td></tr>\n",
                            "<tr><td>Mississippi</td><td>Positive</td><td>29</td></tr>\n",
                            "<tr><td>Mississippi</td><td>Very Negative</td><td>28</td></tr>\n",
                            "<tr><td>Mississippi</td><td>Very Positive</td><td>19</td></tr>\n",
                            "<tr><td>Missouri</td><td>Negative</td><td>222</td></tr>\n",
                            "<tr><td>Missouri</td><td>Neutral</td><td>182</td></tr>\n",
                            "<tr><td>Missouri</td><td>Very Negative</td><td>132</td></tr>\n",
                            "<tr><td>Missouri</td><td>Positive</td><td>80</td></tr>\n",
                            "<tr><td>Missouri</td><td>Very Positive</td><td>66</td></tr>\n",
                            "<tr><td>Montana</td><td>Negative</td><td>28</td></tr>\n",
                            "<tr><td>Montana</td><td>Neutral</td><td>24</td></tr>\n",
                            "<tr><td>Montana</td><td>Very Negative</td><td>22</td></tr>\n",
                            "<tr><td>Montana</td><td>Positive</td><td>14</td></tr>\n",
                            "<tr><td>Montana</td><td>Very Positive</td><td>6</td></tr>\n",
                            "<tr><td>Nebraska</td><td>Negative</td><td>88</td></tr>\n",
                            "<tr><td>Nebraska</td><td>Neutral</td><td>62</td></tr>\n",
                            "<tr><td>Nebraska</td><td>Very Negative</td><td>51</td></tr>\n",
                            "<tr><td>Nebraska</td><td>Positive</td><td>23</td></tr>\n",
                            "<tr><td>Nebraska</td><td>Very Positive</td><td>19</td></tr>\n",
                            "<tr><td>Nevada</td><td>Negative</td><td>131</td></tr>\n",
                            "<tr><td>Nevada</td><td>Neutral</td><td>125</td></tr>\n",
                            "<tr><td>Nevada</td><td>Very Negative</td><td>105</td></tr>\n",
                            "<tr><td>Nevada</td><td>Positive</td><td>50</td></tr>\n",
                            "<tr><td>Nevada</td><td>Very Positive</td><td>48</td></tr>\n",
                            "<tr><td>New Hampshire</td><td>Neutral</td><td>19</td></tr>\n",
                            "<tr><td>New Hampshire</td><td>Negative</td><td>18</td></tr>\n",
                            "<tr><td>New Hampshire</td><td>Very Negative</td><td>7</td></tr>\n",
                            "<tr><td>New Hampshire</td><td>Positive</td><td>4</td></tr>\n",
                            "<tr><td>New Hampshire</td><td>Very Positive</td><td>3</td></tr>\n",
                            "<tr><td>New Jersey</td><td>Negative</td><td>99</td></tr>\n",
                            "<tr><td>New Jersey</td><td>Neutral</td><td>79</td></tr>\n",
                            "<tr><td>New Jersey</td><td>Very Negative</td><td>59</td></tr>\n",
                            "<tr><td>New Jersey</td><td>Positive</td><td>44</td></tr>\n",
                            "<tr><td>New Jersey</td><td>Very Positive</td><td>36</td></tr>\n",
                            "<tr><td>New Mexico</td><td>Negative</td><td>62</td></tr>\n",
                            "<tr><td>New Mexico</td><td>Neutral</td><td>54</td></tr>\n",
                            "<tr><td>New Mexico</td><td>Very Negative</td><td>47</td></tr>\n",
                            "<tr><td>New Mexico</td><td>Positive</td><td>26</td></tr>\n",
                            "<tr><td>New Mexico</td><td>Very Positive</td><td>23</td></tr>\n",
                            "<tr><td>New York</td><td>Negative</td><td>601</td></tr>\n",
                            "<tr><td>New York</td><td>Neutral</td><td>487</td></tr>\n",
                            "<tr><td>New York</td><td>Very Negative</td><td>339</td></tr>\n",
                            "<tr><td>New York</td><td>Positive</td><td>190</td></tr>\n",
                            "<tr><td>New York</td><td>Very Positive</td><td>169</td></tr>\n",
                            "<tr><td>North Carolina</td><td>Negative</td><td>267</td></tr>\n",
                            "<tr><td>North Carolina</td><td>Neutral</td><td>190</td></tr>\n",
                            "<tr><td>North Carolina</td><td>Very Negative</td><td>143</td></tr>\n",
                            "<tr><td>North Carolina</td><td>Positive</td><td>89</td></tr>\n",
                            "<tr><td>North Carolina</td><td>Very Positive</td><td>76</td></tr>\n",
                            "<tr><td>North Dakota</td><td>Negative</td><td>34</td></tr>\n",
                            "<tr><td>North Dakota</td><td>Neutral</td><td>17</td></tr>\n",
                            "<tr><td>North Dakota</td><td>Positive</td><td>12</td></tr>\n",
                            "<tr><td>North Dakota</td><td>Very Negative</td><td>9</td></tr>\n",
                            "<tr><td>North Dakota</td><td>Very Positive</td><td>4</td></tr>\n",
                            "<tr><td>Ohio</td><td>Negative</td><td>408</td></tr>\n",
                            "<tr><td>Ohio</td><td>Neutral</td><td>304</td></tr>\n",
                            "<tr><td>Ohio</td><td>Very Negative</td><td>197</td></tr>\n",
                            "<tr><td>Ohio</td><td>Positive</td><td>140</td></tr>\n",
                            "<tr><td>Ohio</td><td>Very Positive</td><td>111</td></tr>\n",
                            "<tr><td>Oklahoma</td><td>Negative</td><td>192</td></tr>\n",
                            "<tr><td>Oklahoma</td><td>Neutral</td><td>146</td></tr>\n",
                            "<tr><td>Oklahoma</td><td>Very Negative</td><td>76</td></tr>\n",
                            "<tr><td>Oklahoma</td><td>Positive</td><td>74</td></tr>\n",
                            "<tr><td>Oklahoma</td><td>Very Positive</td><td>50</td></tr>\n",
                            "<tr><td>Oregon</td><td>Negative</td><td>79</td></tr>\n",
                            "<tr><td>Oregon</td><td>Neutral</td><td>76</td></tr>\n",
                            "<tr><td>Oregon</td><td>Very Negative</td><td>54</td></tr>\n",
                            "<tr><td>Oregon</td><td>Positive</td><td>32</td></tr>\n",
                            "<tr><td>Oregon</td><td>Very Positive</td><td>20</td></tr>\n",
                            "<tr><td>Pennsylvania</td><td>Negative</td><td>330</td></tr>\n",
                            "<tr><td>Pennsylvania</td><td>Neutral</td><td>289</td></tr>\n",
                            "<tr><td>Pennsylvania</td><td>Very Negative</td><td>186</td></tr>\n",
                            "<tr><td>Pennsylvania</td><td>Positive</td><td>111</td></tr>\n",
                            "<tr><td>Pennsylvania</td><td>Very Positive</td><td>101</td></tr>\n",
                            "<tr><td>Rhode Island</td><td>Neutral</td><td>14</td></tr>\n",
                            "<tr><td>Rhode Island</td><td>Negative</td><td>10</td></tr>\n",
                            "<tr><td>Rhode Island</td><td>Positive</td><td>5</td></tr>\n",
                            "<tr><td>Rhode Island</td><td>Very Negative</td><td>5</td></tr>\n",
                            "<tr><td>Rhode Island</td><td>Very Positive</td><td>1</td></tr>\n",
                            "<tr><td>South Carolina</td><td>Negative</td><td>95</td></tr>\n",
                            "<tr><td>South Carolina</td><td>Neutral</td><td>88</td></tr>\n",
                            "<tr><td>South Carolina</td><td>Very Negative</td><td>73</td></tr>\n",
                            "<tr><td>South Carolina</td><td>Very Positive</td><td>31</td></tr>\n",
                            "<tr><td>South Carolina</td><td>Positive</td><td>28</td></tr>\n",
                            "<tr><td>South Dakota</td><td>Negative</td><td>36</td></tr>\n",
                            "<tr><td>South Dakota</td><td>Neutral</td><td>24</td></tr>\n",
                            "<tr><td>South Dakota</td><td>Very Negative</td><td>14</td></tr>\n",
                            "<tr><td>South Dakota</td><td>Positive</td><td>13</td></tr>\n",
                            "<tr><td>South Dakota</td><td>Very Positive</td><td>6</td></tr>\n",
                            "<tr><td>Tennessee</td><td>Negative</td><td>235</td></tr>\n",
                            "<tr><td>Tennessee</td><td>Neutral</td><td>190</td></tr>\n",
                            "<tr><td>Tennessee</td><td>Very Negative</td><td>111</td></tr>\n",
                            "<tr><td>Tennessee</td><td>Positive</td><td>68</td></tr>\n",
                            "<tr><td>Tennessee</td><td>Very Positive</td><td>60</td></tr>\n",
                            "<tr><td>Texas</td><td>Negative</td><td>1245</td></tr>\n",
                            "<tr><td>Texas</td><td>Neutral</td><td>934</td></tr>\n",
                            "<tr><td>Texas</td><td>Very Negative</td><td>639</td></tr>\n",
                            "<tr><td>Texas</td><td>Positive</td><td>417</td></tr>\n",
                            "<tr><td>Texas</td><td>Very Positive</td><td>337</td></tr>\n",
                            "<tr><td>Utah</td><td>Negative</td><td>99</td></tr>\n",
                            "<tr><td>Utah</td><td>Neutral</td><td>71</td></tr>\n",
                            "<tr><td>Utah</td><td>Very Negative</td><td>55</td></tr>\n",
                            "<tr><td>Utah</td><td>Positive</td><td>45</td></tr>\n",
                            "<tr><td>Utah</td><td>Very Positive</td><td>28</td></tr>\n",
                            "<tr><td>Vermont</td><td>Neutral</td><td>5</td></tr>\n",
                            "<tr><td>Vermont</td><td>Negative</td><td>4</td></tr>\n",
                            "<tr><td>Vermont</td><td>Positive</td><td>3</td></tr>\n",
                            "<tr><td>Vermont</td><td>Very Negative</td><td>2</td></tr>\n",
                            "<tr><td>Virginia</td><td>Negative</td><td>366</td></tr>\n",
                            "<tr><td>Virginia</td><td>Neutral</td><td>314</td></tr>\n",
                            "<tr><td>Virginia</td><td>Very Negative</td><td>240</td></tr>\n",
                            "<tr><td>Virginia</td><td>Positive</td><td>135</td></tr>\n",
                            "<tr><td>Virginia</td><td>Very Positive</td><td>109</td></tr>\n",
                            "<tr><td>Washington</td><td>Negative</td><td>245</td></tr>\n",
                            "<tr><td>Washington</td><td>Neutral</td><td>161</td></tr>\n",
                            "<tr><td>Washington</td><td>Very Negative</td><td>106</td></tr>\n",
                            "<tr><td>Washington</td><td>Positive</td><td>97</td></tr>\n",
                            "<tr><td>Washington</td><td>Very Positive</td><td>54</td></tr>\n",
                            "<tr><td>West Virginia</td><td>Neutral</td><td>98</td></tr>\n",
                            "<tr><td>West Virginia</td><td>Negative</td><td>85</td></tr>\n",
                            "<tr><td>West Virginia</td><td>Very Negative</td><td>52</td></tr>\n",
                            "<tr><td>West Virginia</td><td>Positive</td><td>39</td></tr>\n",
                            "<tr><td>West Virginia</td><td>Very Positive</td><td>27</td></tr>\n",
                            "<tr><td>Wisconsin</td><td>Negative</td><td>119</td></tr>\n",
                            "<tr><td>Wisconsin</td><td>Neutral</td><td>82</td></tr>\n",
                            "<tr><td>Wisconsin</td><td>Very Negative</td><td>69</td></tr>\n",
                            "<tr><td>Wisconsin</td><td>Positive</td><td>41</td></tr>\n",
                            "<tr><td>Wisconsin</td><td>Very Positive</td><td>31</td></tr>\n",
                            "<tr><td>Wyoming</td><td>Negative</td><td>8</td></tr>\n",
                            "<tr><td>Wyoming</td><td>Neutral</td><td>3</td></tr>\n",
                            "</table>"
                        ]
                    },
                    "execution_count": 54,
                    "metadata": {},
                    "output_type": "execute_result"
                }
            ],
            "source": [
                "SELECT state, sentiment , COUNT(*) as 'Number of Calls'\n",
                "FROM CallCenter GROUP BY state, sentiment\n",
                "ORDER BY 1,3 DESC;\n"
            ]
        },
        {
            "cell_type": "markdown",
            "metadata": {},
            "source": [
                "#### Number of Calls for each Reason and Reason "
            ]
        },
        {
            "cell_type": "code",
            "execution_count": 55,
            "metadata": {
                "azdata_cell_guid": "5963f45f-e758-45d9-964f-582718dc149a",
                "language": "sql"
            },
            "outputs": [
                {
                    "data": {
                        "text/html": [
                            "(153 rows affected)"
                        ]
                    },
                    "metadata": {},
                    "output_type": "display_data"
                },
                {
                    "data": {
                        "text/html": [
                            "Total execution time: 00:00:00.051"
                        ]
                    },
                    "metadata": {},
                    "output_type": "display_data"
                },
                {
                    "data": {
                        "application/vnd.dataresource+json": {
                            "data": [
                                {
                                    "Number of Calls": "538",
                                    "reason": "Billing Question",
                                    "state": "Alabama"
                                },
                                {
                                    "Number of Calls": "105",
                                    "reason": "Payments",
                                    "state": "Alabama"
                                },
                                {
                                    "Number of Calls": "95",
                                    "reason": "Service Outage",
                                    "state": "Alabama"
                                },
                                {
                                    "Number of Calls": "93",
                                    "reason": "Billing Question",
                                    "state": "Alaska"
                                },
                                {
                                    "Number of Calls": "25",
                                    "reason": "Payments",
                                    "state": "Alaska"
                                },
                                {
                                    "Number of Calls": "28",
                                    "reason": "Service Outage",
                                    "state": "Alaska"
                                },
                                {
                                    "Number of Calls": "507",
                                    "reason": "Billing Question",
                                    "state": "Arizona"
                                },
                                {
                                    "Number of Calls": "119",
                                    "reason": "Payments",
                                    "state": "Arizona"
                                },
                                {
                                    "Number of Calls": "111",
                                    "reason": "Service Outage",
                                    "state": "Arizona"
                                },
                                {
                                    "Number of Calls": "152",
                                    "reason": "Billing Question",
                                    "state": "Arkansas"
                                },
                                {
                                    "Number of Calls": "29",
                                    "reason": "Payments",
                                    "state": "Arkansas"
                                },
                                {
                                    "Number of Calls": "23",
                                    "reason": "Service Outage",
                                    "state": "Arkansas"
                                },
                                {
                                    "Number of Calls": "2588",
                                    "reason": "Billing Question",
                                    "state": "California"
                                },
                                {
                                    "Number of Calls": "501",
                                    "reason": "Payments",
                                    "state": "California"
                                },
                                {
                                    "Number of Calls": "542",
                                    "reason": "Service Outage",
                                    "state": "California"
                                },
                                {
                                    "Number of Calls": "516",
                                    "reason": "Billing Question",
                                    "state": "Colorado"
                                },
                                {
                                    "Number of Calls": "132",
                                    "reason": "Payments",
                                    "state": "Colorado"
                                },
                                {
                                    "Number of Calls": "94",
                                    "reason": "Service Outage",
                                    "state": "Colorado"
                                },
                                {
                                    "Number of Calls": "275",
                                    "reason": "Billing Question",
                                    "state": "Connecticut"
                                },
                                {
                                    "Number of Calls": "69",
                                    "reason": "Payments",
                                    "state": "Connecticut"
                                },
                                {
                                    "Number of Calls": "64",
                                    "reason": "Service Outage",
                                    "state": "Connecticut"
                                },
                                {
                                    "Number of Calls": "90",
                                    "reason": "Billing Question",
                                    "state": "Delaware"
                                },
                                {
                                    "Number of Calls": "22",
                                    "reason": "Payments",
                                    "state": "Delaware"
                                },
                                {
                                    "Number of Calls": "16",
                                    "reason": "Service Outage",
                                    "state": "Delaware"
                                },
                                {
                                    "Number of Calls": "806",
                                    "reason": "Billing Question",
                                    "state": "District of Columbia"
                                },
                                {
                                    "Number of Calls": "164",
                                    "reason": "Payments",
                                    "state": "District of Columbia"
                                },
                                {
                                    "Number of Calls": "140",
                                    "reason": "Service Outage",
                                    "state": "District of Columbia"
                                },
                                {
                                    "Number of Calls": "2015",
                                    "reason": "Billing Question",
                                    "state": "Florida"
                                },
                                {
                                    "Number of Calls": "418",
                                    "reason": "Payments",
                                    "state": "Florida"
                                },
                                {
                                    "Number of Calls": "401",
                                    "reason": "Service Outage",
                                    "state": "Florida"
                                },
                                {
                                    "Number of Calls": "653",
                                    "reason": "Billing Question",
                                    "state": "Georgia"
                                },
                                {
                                    "Number of Calls": "132",
                                    "reason": "Payments",
                                    "state": "Georgia"
                                },
                                {
                                    "Number of Calls": "141",
                                    "reason": "Service Outage",
                                    "state": "Georgia"
                                },
                                {
                                    "Number of Calls": "107",
                                    "reason": "Billing Question",
                                    "state": "Hawaii"
                                },
                                {
                                    "Number of Calls": "23",
                                    "reason": "Payments",
                                    "state": "Hawaii"
                                },
                                {
                                    "Number of Calls": "19",
                                    "reason": "Service Outage",
                                    "state": "Hawaii"
                                },
                                {
                                    "Number of Calls": "124",
                                    "reason": "Billing Question",
                                    "state": "Idaho"
                                },
                                {
                                    "Number of Calls": "29",
                                    "reason": "Payments",
                                    "state": "Idaho"
                                },
                                {
                                    "Number of Calls": "21",
                                    "reason": "Service Outage",
                                    "state": "Idaho"
                                },
                                {
                                    "Number of Calls": "568",
                                    "reason": "Billing Question",
                                    "state": "Illinois"
                                },
                                {
                                    "Number of Calls": "151",
                                    "reason": "Payments",
                                    "state": "Illinois"
                                },
                                {
                                    "Number of Calls": "129",
                                    "reason": "Service Outage",
                                    "state": "Illinois"
                                },
                                {
                                    "Number of Calls": "517",
                                    "reason": "Billing Question",
                                    "state": "Indiana"
                                },
                                {
                                    "Number of Calls": "115",
                                    "reason": "Payments",
                                    "state": "Indiana"
                                },
                                {
                                    "Number of Calls": "104",
                                    "reason": "Service Outage",
                                    "state": "Indiana"
                                },
                                {
                                    "Number of Calls": "262",
                                    "reason": "Billing Question",
                                    "state": "Iowa"
                                },
                                {
                                    "Number of Calls": "54",
                                    "reason": "Payments",
                                    "state": "Iowa"
                                },
                                {
                                    "Number of Calls": "50",
                                    "reason": "Service Outage",
                                    "state": "Iowa"
                                },
                                {
                                    "Number of Calls": "331",
                                    "reason": "Billing Question",
                                    "state": "Kansas"
                                },
                                {
                                    "Number of Calls": "68",
                                    "reason": "Payments",
                                    "state": "Kansas"
                                },
                                {
                                    "Number of Calls": "68",
                                    "reason": "Service Outage",
                                    "state": "Kansas"
                                },
                                {
                                    "Number of Calls": "296",
                                    "reason": "Billing Question",
                                    "state": "Kentucky"
                                },
                                {
                                    "Number of Calls": "65",
                                    "reason": "Payments",
                                    "state": "Kentucky"
                                },
                                {
                                    "Number of Calls": "50",
                                    "reason": "Service Outage",
                                    "state": "Kentucky"
                                },
                                {
                                    "Number of Calls": "460",
                                    "reason": "Billing Question",
                                    "state": "Louisiana"
                                },
                                {
                                    "Number of Calls": "83",
                                    "reason": "Payments",
                                    "state": "Louisiana"
                                },
                                {
                                    "Number of Calls": "84",
                                    "reason": "Service Outage",
                                    "state": "Louisiana"
                                },
                                {
                                    "Number of Calls": "12",
                                    "reason": "Billing Question",
                                    "state": "Maine"
                                },
                                {
                                    "Number of Calls": "3",
                                    "reason": "Payments",
                                    "state": "Maine"
                                },
                                {
                                    "Number of Calls": "1",
                                    "reason": "Service Outage",
                                    "state": "Maine"
                                },
                                {
                                    "Number of Calls": "303",
                                    "reason": "Billing Question",
                                    "state": "Maryland"
                                },
                                {
                                    "Number of Calls": "45",
                                    "reason": "Payments",
                                    "state": "Maryland"
                                },
                                {
                                    "Number of Calls": "67",
                                    "reason": "Service Outage",
                                    "state": "Maryland"
                                },
                                {
                                    "Number of Calls": "356",
                                    "reason": "Billing Question",
                                    "state": "Massachusetts"
                                },
                                {
                                    "Number of Calls": "67",
                                    "reason": "Payments",
                                    "state": "Massachusetts"
                                },
                                {
                                    "Number of Calls": "70",
                                    "reason": "Service Outage",
                                    "state": "Massachusetts"
                                },
                                {
                                    "Number of Calls": "455",
                                    "reason": "Billing Question",
                                    "state": "Michigan"
                                },
                                {
                                    "Number of Calls": "66",
                                    "reason": "Payments",
                                    "state": "Michigan"
                                },
                                {
                                    "Number of Calls": "91",
                                    "reason": "Service Outage",
                                    "state": "Michigan"
                                },
                                {
                                    "Number of Calls": "502",
                                    "reason": "Billing Question",
                                    "state": "Minnesota"
                                },
                                {
                                    "Number of Calls": "104",
                                    "reason": "Payments",
                                    "state": "Minnesota"
                                },
                                {
                                    "Number of Calls": "106",
                                    "reason": "Service Outage",
                                    "state": "Minnesota"
                                },
                                {
                                    "Number of Calls": "129",
                                    "reason": "Billing Question",
                                    "state": "Mississippi"
                                },
                                {
                                    "Number of Calls": "33",
                                    "reason": "Payments",
                                    "state": "Mississippi"
                                },
                                {
                                    "Number of Calls": "16",
                                    "reason": "Service Outage",
                                    "state": "Mississippi"
                                },
                                {
                                    "Number of Calls": "492",
                                    "reason": "Billing Question",
                                    "state": "Missouri"
                                },
                                {
                                    "Number of Calls": "97",
                                    "reason": "Payments",
                                    "state": "Missouri"
                                },
                                {
                                    "Number of Calls": "93",
                                    "reason": "Service Outage",
                                    "state": "Missouri"
                                },
                                {
                                    "Number of Calls": "73",
                                    "reason": "Billing Question",
                                    "state": "Montana"
                                },
                                {
                                    "Number of Calls": "9",
                                    "reason": "Payments",
                                    "state": "Montana"
                                },
                                {
                                    "Number of Calls": "12",
                                    "reason": "Service Outage",
                                    "state": "Montana"
                                },
                                {
                                    "Number of Calls": "175",
                                    "reason": "Billing Question",
                                    "state": "Nebraska"
                                },
                                {
                                    "Number of Calls": "40",
                                    "reason": "Payments",
                                    "state": "Nebraska"
                                },
                                {
                                    "Number of Calls": "28",
                                    "reason": "Service Outage",
                                    "state": "Nebraska"
                                },
                                {
                                    "Number of Calls": "343",
                                    "reason": "Billing Question",
                                    "state": "Nevada"
                                },
                                {
                                    "Number of Calls": "46",
                                    "reason": "Payments",
                                    "state": "Nevada"
                                },
                                {
                                    "Number of Calls": "70",
                                    "reason": "Service Outage",
                                    "state": "Nevada"
                                },
                                {
                                    "Number of Calls": "37",
                                    "reason": "Billing Question",
                                    "state": "New Hampshire"
                                },
                                {
                                    "Number of Calls": "5",
                                    "reason": "Payments",
                                    "state": "New Hampshire"
                                },
                                {
                                    "Number of Calls": "9",
                                    "reason": "Service Outage",
                                    "state": "New Hampshire"
                                },
                                {
                                    "Number of Calls": "211",
                                    "reason": "Billing Question",
                                    "state": "New Jersey"
                                },
                                {
                                    "Number of Calls": "49",
                                    "reason": "Payments",
                                    "state": "New Jersey"
                                },
                                {
                                    "Number of Calls": "57",
                                    "reason": "Service Outage",
                                    "state": "New Jersey"
                                },
                                {
                                    "Number of Calls": "158",
                                    "reason": "Billing Question",
                                    "state": "New Mexico"
                                },
                                {
                                    "Number of Calls": "25",
                                    "reason": "Payments",
                                    "state": "New Mexico"
                                },
                                {
                                    "Number of Calls": "29",
                                    "reason": "Service Outage",
                                    "state": "New Mexico"
                                },
                                {
                                    "Number of Calls": "1267",
                                    "reason": "Billing Question",
                                    "state": "New York"
                                },
                                {
                                    "Number of Calls": "267",
                                    "reason": "Payments",
                                    "state": "New York"
                                },
                                {
                                    "Number of Calls": "252",
                                    "reason": "Service Outage",
                                    "state": "New York"
                                },
                                {
                                    "Number of Calls": "559",
                                    "reason": "Billing Question",
                                    "state": "North Carolina"
                                },
                                {
                                    "Number of Calls": "111",
                                    "reason": "Payments",
                                    "state": "North Carolina"
                                },
                                {
                                    "Number of Calls": "95",
                                    "reason": "Service Outage",
                                    "state": "North Carolina"
                                },
                                {
                                    "Number of Calls": "60",
                                    "reason": "Billing Question",
                                    "state": "North Dakota"
                                },
                                {
                                    "Number of Calls": "7",
                                    "reason": "Payments",
                                    "state": "North Dakota"
                                },
                                {
                                    "Number of Calls": "9",
                                    "reason": "Service Outage",
                                    "state": "North Dakota"
                                },
                                {
                                    "Number of Calls": "819",
                                    "reason": "Billing Question",
                                    "state": "Ohio"
                                },
                                {
                                    "Number of Calls": "166",
                                    "reason": "Payments",
                                    "state": "Ohio"
                                },
                                {
                                    "Number of Calls": "175",
                                    "reason": "Service Outage",
                                    "state": "Ohio"
                                },
                                {
                                    "Number of Calls": "382",
                                    "reason": "Billing Question",
                                    "state": "Oklahoma"
                                },
                                {
                                    "Number of Calls": "77",
                                    "reason": "Payments",
                                    "state": "Oklahoma"
                                },
                                {
                                    "Number of Calls": "79",
                                    "reason": "Service Outage",
                                    "state": "Oklahoma"
                                },
                                {
                                    "Number of Calls": "186",
                                    "reason": "Billing Question",
                                    "state": "Oregon"
                                },
                                {
                                    "Number of Calls": "34",
                                    "reason": "Payments",
                                    "state": "Oregon"
                                },
                                {
                                    "Number of Calls": "41",
                                    "reason": "Service Outage",
                                    "state": "Oregon"
                                },
                                {
                                    "Number of Calls": "701",
                                    "reason": "Billing Question",
                                    "state": "Pennsylvania"
                                },
                                {
                                    "Number of Calls": "150",
                                    "reason": "Payments",
                                    "state": "Pennsylvania"
                                },
                                {
                                    "Number of Calls": "166",
                                    "reason": "Service Outage",
                                    "state": "Pennsylvania"
                                },
                                {
                                    "Number of Calls": "27",
                                    "reason": "Billing Question",
                                    "state": "Rhode Island"
                                },
                                {
                                    "Number of Calls": "6",
                                    "reason": "Payments",
                                    "state": "Rhode Island"
                                },
                                {
                                    "Number of Calls": "2",
                                    "reason": "Service Outage",
                                    "state": "Rhode Island"
                                },
                                {
                                    "Number of Calls": "225",
                                    "reason": "Billing Question",
                                    "state": "South Carolina"
                                },
                                {
                                    "Number of Calls": "40",
                                    "reason": "Payments",
                                    "state": "South Carolina"
                                },
                                {
                                    "Number of Calls": "50",
                                    "reason": "Service Outage",
                                    "state": "South Carolina"
                                },
                                {
                                    "Number of Calls": "61",
                                    "reason": "Billing Question",
                                    "state": "South Dakota"
                                },
                                {
                                    "Number of Calls": "18",
                                    "reason": "Payments",
                                    "state": "South Dakota"
                                },
                                {
                                    "Number of Calls": "14",
                                    "reason": "Service Outage",
                                    "state": "South Dakota"
                                },
                                {
                                    "Number of Calls": "478",
                                    "reason": "Billing Question",
                                    "state": "Tennessee"
                                },
                                {
                                    "Number of Calls": "93",
                                    "reason": "Payments",
                                    "state": "Tennessee"
                                },
                                {
                                    "Number of Calls": "93",
                                    "reason": "Service Outage",
                                    "state": "Tennessee"
                                },
                                {
                                    "Number of Calls": "2551",
                                    "reason": "Billing Question",
                                    "state": "Texas"
                                },
                                {
                                    "Number of Calls": "507",
                                    "reason": "Payments",
                                    "state": "Texas"
                                },
                                {
                                    "Number of Calls": "514",
                                    "reason": "Service Outage",
                                    "state": "Texas"
                                },
                                {
                                    "Number of Calls": "205",
                                    "reason": "Billing Question",
                                    "state": "Utah"
                                },
                                {
                                    "Number of Calls": "46",
                                    "reason": "Payments",
                                    "state": "Utah"
                                },
                                {
                                    "Number of Calls": "47",
                                    "reason": "Service Outage",
                                    "state": "Utah"
                                },
                                {
                                    "Number of Calls": "10",
                                    "reason": "Billing Question",
                                    "state": "Vermont"
                                },
                                {
                                    "Number of Calls": "3",
                                    "reason": "Payments",
                                    "state": "Vermont"
                                },
                                {
                                    "Number of Calls": "1",
                                    "reason": "Service Outage",
                                    "state": "Vermont"
                                },
                                {
                                    "Number of Calls": "854",
                                    "reason": "Billing Question",
                                    "state": "Virginia"
                                },
                                {
                                    "Number of Calls": "150",
                                    "reason": "Payments",
                                    "state": "Virginia"
                                },
                                {
                                    "Number of Calls": "160",
                                    "reason": "Service Outage",
                                    "state": "Virginia"
                                },
                                {
                                    "Number of Calls": "480",
                                    "reason": "Billing Question",
                                    "state": "Washington"
                                },
                                {
                                    "Number of Calls": "83",
                                    "reason": "Payments",
                                    "state": "Washington"
                                },
                                {
                                    "Number of Calls": "100",
                                    "reason": "Service Outage",
                                    "state": "Washington"
                                },
                                {
                                    "Number of Calls": "197",
                                    "reason": "Billing Question",
                                    "state": "West Virginia"
                                },
                                {
                                    "Number of Calls": "45",
                                    "reason": "Payments",
                                    "state": "West Virginia"
                                },
                                {
                                    "Number of Calls": "59",
                                    "reason": "Service Outage",
                                    "state": "West Virginia"
                                },
                                {
                                    "Number of Calls": "250",
                                    "reason": "Billing Question",
                                    "state": "Wisconsin"
                                },
                                {
                                    "Number of Calls": "49",
                                    "reason": "Payments",
                                    "state": "Wisconsin"
                                },
                                {
                                    "Number of Calls": "43",
                                    "reason": "Service Outage",
                                    "state": "Wisconsin"
                                },
                                {
                                    "Number of Calls": "6",
                                    "reason": "Billing Question",
                                    "state": "Wyoming"
                                },
                                {
                                    "Number of Calls": "4",
                                    "reason": "Payments",
                                    "state": "Wyoming"
                                },
                                {
                                    "Number of Calls": "1",
                                    "reason": "Service Outage",
                                    "state": "Wyoming"
                                }
                            ],
                            "schema": {
                                "fields": [
                                    {
                                        "name": "state"
                                    },
                                    {
                                        "name": "reason"
                                    },
                                    {
                                        "name": "Number of Calls"
                                    }
                                ]
                            }
                        },
                        "text/html": [
                            "<table>\n",
                            "<tr><th>state</th><th>reason</th><th>Number of Calls</th></tr>\n",
                            "<tr><td>Alabama</td><td>Billing Question</td><td>538</td></tr>\n",
                            "<tr><td>Alabama</td><td>Payments</td><td>105</td></tr>\n",
                            "<tr><td>Alabama</td><td>Service Outage</td><td>95</td></tr>\n",
                            "<tr><td>Alaska</td><td>Billing Question</td><td>93</td></tr>\n",
                            "<tr><td>Alaska</td><td>Payments</td><td>25</td></tr>\n",
                            "<tr><td>Alaska</td><td>Service Outage</td><td>28</td></tr>\n",
                            "<tr><td>Arizona</td><td>Billing Question</td><td>507</td></tr>\n",
                            "<tr><td>Arizona</td><td>Payments</td><td>119</td></tr>\n",
                            "<tr><td>Arizona</td><td>Service Outage</td><td>111</td></tr>\n",
                            "<tr><td>Arkansas</td><td>Billing Question</td><td>152</td></tr>\n",
                            "<tr><td>Arkansas</td><td>Payments</td><td>29</td></tr>\n",
                            "<tr><td>Arkansas</td><td>Service Outage</td><td>23</td></tr>\n",
                            "<tr><td>California</td><td>Billing Question</td><td>2588</td></tr>\n",
                            "<tr><td>California</td><td>Payments</td><td>501</td></tr>\n",
                            "<tr><td>California</td><td>Service Outage</td><td>542</td></tr>\n",
                            "<tr><td>Colorado</td><td>Billing Question</td><td>516</td></tr>\n",
                            "<tr><td>Colorado</td><td>Payments</td><td>132</td></tr>\n",
                            "<tr><td>Colorado</td><td>Service Outage</td><td>94</td></tr>\n",
                            "<tr><td>Connecticut</td><td>Billing Question</td><td>275</td></tr>\n",
                            "<tr><td>Connecticut</td><td>Payments</td><td>69</td></tr>\n",
                            "<tr><td>Connecticut</td><td>Service Outage</td><td>64</td></tr>\n",
                            "<tr><td>Delaware</td><td>Billing Question</td><td>90</td></tr>\n",
                            "<tr><td>Delaware</td><td>Payments</td><td>22</td></tr>\n",
                            "<tr><td>Delaware</td><td>Service Outage</td><td>16</td></tr>\n",
                            "<tr><td>District of Columbia</td><td>Billing Question</td><td>806</td></tr>\n",
                            "<tr><td>District of Columbia</td><td>Payments</td><td>164</td></tr>\n",
                            "<tr><td>District of Columbia</td><td>Service Outage</td><td>140</td></tr>\n",
                            "<tr><td>Florida</td><td>Billing Question</td><td>2015</td></tr>\n",
                            "<tr><td>Florida</td><td>Payments</td><td>418</td></tr>\n",
                            "<tr><td>Florida</td><td>Service Outage</td><td>401</td></tr>\n",
                            "<tr><td>Georgia</td><td>Billing Question</td><td>653</td></tr>\n",
                            "<tr><td>Georgia</td><td>Payments</td><td>132</td></tr>\n",
                            "<tr><td>Georgia</td><td>Service Outage</td><td>141</td></tr>\n",
                            "<tr><td>Hawaii</td><td>Billing Question</td><td>107</td></tr>\n",
                            "<tr><td>Hawaii</td><td>Payments</td><td>23</td></tr>\n",
                            "<tr><td>Hawaii</td><td>Service Outage</td><td>19</td></tr>\n",
                            "<tr><td>Idaho</td><td>Billing Question</td><td>124</td></tr>\n",
                            "<tr><td>Idaho</td><td>Payments</td><td>29</td></tr>\n",
                            "<tr><td>Idaho</td><td>Service Outage</td><td>21</td></tr>\n",
                            "<tr><td>Illinois</td><td>Billing Question</td><td>568</td></tr>\n",
                            "<tr><td>Illinois</td><td>Payments</td><td>151</td></tr>\n",
                            "<tr><td>Illinois</td><td>Service Outage</td><td>129</td></tr>\n",
                            "<tr><td>Indiana</td><td>Billing Question</td><td>517</td></tr>\n",
                            "<tr><td>Indiana</td><td>Payments</td><td>115</td></tr>\n",
                            "<tr><td>Indiana</td><td>Service Outage</td><td>104</td></tr>\n",
                            "<tr><td>Iowa</td><td>Billing Question</td><td>262</td></tr>\n",
                            "<tr><td>Iowa</td><td>Payments</td><td>54</td></tr>\n",
                            "<tr><td>Iowa</td><td>Service Outage</td><td>50</td></tr>\n",
                            "<tr><td>Kansas</td><td>Billing Question</td><td>331</td></tr>\n",
                            "<tr><td>Kansas</td><td>Payments</td><td>68</td></tr>\n",
                            "<tr><td>Kansas</td><td>Service Outage</td><td>68</td></tr>\n",
                            "<tr><td>Kentucky</td><td>Billing Question</td><td>296</td></tr>\n",
                            "<tr><td>Kentucky</td><td>Payments</td><td>65</td></tr>\n",
                            "<tr><td>Kentucky</td><td>Service Outage</td><td>50</td></tr>\n",
                            "<tr><td>Louisiana</td><td>Billing Question</td><td>460</td></tr>\n",
                            "<tr><td>Louisiana</td><td>Payments</td><td>83</td></tr>\n",
                            "<tr><td>Louisiana</td><td>Service Outage</td><td>84</td></tr>\n",
                            "<tr><td>Maine</td><td>Billing Question</td><td>12</td></tr>\n",
                            "<tr><td>Maine</td><td>Payments</td><td>3</td></tr>\n",
                            "<tr><td>Maine</td><td>Service Outage</td><td>1</td></tr>\n",
                            "<tr><td>Maryland</td><td>Billing Question</td><td>303</td></tr>\n",
                            "<tr><td>Maryland</td><td>Payments</td><td>45</td></tr>\n",
                            "<tr><td>Maryland</td><td>Service Outage</td><td>67</td></tr>\n",
                            "<tr><td>Massachusetts</td><td>Billing Question</td><td>356</td></tr>\n",
                            "<tr><td>Massachusetts</td><td>Payments</td><td>67</td></tr>\n",
                            "<tr><td>Massachusetts</td><td>Service Outage</td><td>70</td></tr>\n",
                            "<tr><td>Michigan</td><td>Billing Question</td><td>455</td></tr>\n",
                            "<tr><td>Michigan</td><td>Payments</td><td>66</td></tr>\n",
                            "<tr><td>Michigan</td><td>Service Outage</td><td>91</td></tr>\n",
                            "<tr><td>Minnesota</td><td>Billing Question</td><td>502</td></tr>\n",
                            "<tr><td>Minnesota</td><td>Payments</td><td>104</td></tr>\n",
                            "<tr><td>Minnesota</td><td>Service Outage</td><td>106</td></tr>\n",
                            "<tr><td>Mississippi</td><td>Billing Question</td><td>129</td></tr>\n",
                            "<tr><td>Mississippi</td><td>Payments</td><td>33</td></tr>\n",
                            "<tr><td>Mississippi</td><td>Service Outage</td><td>16</td></tr>\n",
                            "<tr><td>Missouri</td><td>Billing Question</td><td>492</td></tr>\n",
                            "<tr><td>Missouri</td><td>Payments</td><td>97</td></tr>\n",
                            "<tr><td>Missouri</td><td>Service Outage</td><td>93</td></tr>\n",
                            "<tr><td>Montana</td><td>Billing Question</td><td>73</td></tr>\n",
                            "<tr><td>Montana</td><td>Payments</td><td>9</td></tr>\n",
                            "<tr><td>Montana</td><td>Service Outage</td><td>12</td></tr>\n",
                            "<tr><td>Nebraska</td><td>Billing Question</td><td>175</td></tr>\n",
                            "<tr><td>Nebraska</td><td>Payments</td><td>40</td></tr>\n",
                            "<tr><td>Nebraska</td><td>Service Outage</td><td>28</td></tr>\n",
                            "<tr><td>Nevada</td><td>Billing Question</td><td>343</td></tr>\n",
                            "<tr><td>Nevada</td><td>Payments</td><td>46</td></tr>\n",
                            "<tr><td>Nevada</td><td>Service Outage</td><td>70</td></tr>\n",
                            "<tr><td>New Hampshire</td><td>Billing Question</td><td>37</td></tr>\n",
                            "<tr><td>New Hampshire</td><td>Payments</td><td>5</td></tr>\n",
                            "<tr><td>New Hampshire</td><td>Service Outage</td><td>9</td></tr>\n",
                            "<tr><td>New Jersey</td><td>Billing Question</td><td>211</td></tr>\n",
                            "<tr><td>New Jersey</td><td>Payments</td><td>49</td></tr>\n",
                            "<tr><td>New Jersey</td><td>Service Outage</td><td>57</td></tr>\n",
                            "<tr><td>New Mexico</td><td>Billing Question</td><td>158</td></tr>\n",
                            "<tr><td>New Mexico</td><td>Payments</td><td>25</td></tr>\n",
                            "<tr><td>New Mexico</td><td>Service Outage</td><td>29</td></tr>\n",
                            "<tr><td>New York</td><td>Billing Question</td><td>1267</td></tr>\n",
                            "<tr><td>New York</td><td>Payments</td><td>267</td></tr>\n",
                            "<tr><td>New York</td><td>Service Outage</td><td>252</td></tr>\n",
                            "<tr><td>North Carolina</td><td>Billing Question</td><td>559</td></tr>\n",
                            "<tr><td>North Carolina</td><td>Payments</td><td>111</td></tr>\n",
                            "<tr><td>North Carolina</td><td>Service Outage</td><td>95</td></tr>\n",
                            "<tr><td>North Dakota</td><td>Billing Question</td><td>60</td></tr>\n",
                            "<tr><td>North Dakota</td><td>Payments</td><td>7</td></tr>\n",
                            "<tr><td>North Dakota</td><td>Service Outage</td><td>9</td></tr>\n",
                            "<tr><td>Ohio</td><td>Billing Question</td><td>819</td></tr>\n",
                            "<tr><td>Ohio</td><td>Payments</td><td>166</td></tr>\n",
                            "<tr><td>Ohio</td><td>Service Outage</td><td>175</td></tr>\n",
                            "<tr><td>Oklahoma</td><td>Billing Question</td><td>382</td></tr>\n",
                            "<tr><td>Oklahoma</td><td>Payments</td><td>77</td></tr>\n",
                            "<tr><td>Oklahoma</td><td>Service Outage</td><td>79</td></tr>\n",
                            "<tr><td>Oregon</td><td>Billing Question</td><td>186</td></tr>\n",
                            "<tr><td>Oregon</td><td>Payments</td><td>34</td></tr>\n",
                            "<tr><td>Oregon</td><td>Service Outage</td><td>41</td></tr>\n",
                            "<tr><td>Pennsylvania</td><td>Billing Question</td><td>701</td></tr>\n",
                            "<tr><td>Pennsylvania</td><td>Payments</td><td>150</td></tr>\n",
                            "<tr><td>Pennsylvania</td><td>Service Outage</td><td>166</td></tr>\n",
                            "<tr><td>Rhode Island</td><td>Billing Question</td><td>27</td></tr>\n",
                            "<tr><td>Rhode Island</td><td>Payments</td><td>6</td></tr>\n",
                            "<tr><td>Rhode Island</td><td>Service Outage</td><td>2</td></tr>\n",
                            "<tr><td>South Carolina</td><td>Billing Question</td><td>225</td></tr>\n",
                            "<tr><td>South Carolina</td><td>Payments</td><td>40</td></tr>\n",
                            "<tr><td>South Carolina</td><td>Service Outage</td><td>50</td></tr>\n",
                            "<tr><td>South Dakota</td><td>Billing Question</td><td>61</td></tr>\n",
                            "<tr><td>South Dakota</td><td>Payments</td><td>18</td></tr>\n",
                            "<tr><td>South Dakota</td><td>Service Outage</td><td>14</td></tr>\n",
                            "<tr><td>Tennessee</td><td>Billing Question</td><td>478</td></tr>\n",
                            "<tr><td>Tennessee</td><td>Payments</td><td>93</td></tr>\n",
                            "<tr><td>Tennessee</td><td>Service Outage</td><td>93</td></tr>\n",
                            "<tr><td>Texas</td><td>Billing Question</td><td>2551</td></tr>\n",
                            "<tr><td>Texas</td><td>Payments</td><td>507</td></tr>\n",
                            "<tr><td>Texas</td><td>Service Outage</td><td>514</td></tr>\n",
                            "<tr><td>Utah</td><td>Billing Question</td><td>205</td></tr>\n",
                            "<tr><td>Utah</td><td>Payments</td><td>46</td></tr>\n",
                            "<tr><td>Utah</td><td>Service Outage</td><td>47</td></tr>\n",
                            "<tr><td>Vermont</td><td>Billing Question</td><td>10</td></tr>\n",
                            "<tr><td>Vermont</td><td>Payments</td><td>3</td></tr>\n",
                            "<tr><td>Vermont</td><td>Service Outage</td><td>1</td></tr>\n",
                            "<tr><td>Virginia</td><td>Billing Question</td><td>854</td></tr>\n",
                            "<tr><td>Virginia</td><td>Payments</td><td>150</td></tr>\n",
                            "<tr><td>Virginia</td><td>Service Outage</td><td>160</td></tr>\n",
                            "<tr><td>Washington</td><td>Billing Question</td><td>480</td></tr>\n",
                            "<tr><td>Washington</td><td>Payments</td><td>83</td></tr>\n",
                            "<tr><td>Washington</td><td>Service Outage</td><td>100</td></tr>\n",
                            "<tr><td>West Virginia</td><td>Billing Question</td><td>197</td></tr>\n",
                            "<tr><td>West Virginia</td><td>Payments</td><td>45</td></tr>\n",
                            "<tr><td>West Virginia</td><td>Service Outage</td><td>59</td></tr>\n",
                            "<tr><td>Wisconsin</td><td>Billing Question</td><td>250</td></tr>\n",
                            "<tr><td>Wisconsin</td><td>Payments</td><td>49</td></tr>\n",
                            "<tr><td>Wisconsin</td><td>Service Outage</td><td>43</td></tr>\n",
                            "<tr><td>Wyoming</td><td>Billing Question</td><td>6</td></tr>\n",
                            "<tr><td>Wyoming</td><td>Payments</td><td>4</td></tr>\n",
                            "<tr><td>Wyoming</td><td>Service Outage</td><td>1</td></tr>\n",
                            "</table>"
                        ]
                    },
                    "execution_count": 55,
                    "metadata": {},
                    "output_type": "execute_result"
                }
            ],
            "source": [
                "SELECT state, reason, COUNT(*) as 'Number of Calls' FROM CallCenter cs \n",
                "GROUP BY state, reason \n",
                "ORDER BY 1,2,3 DESC;"
            ]
        },
        {
            "cell_type": "markdown",
            "metadata": {},
            "source": [
                "#### Number of Calls for Each State"
            ]
        },
        {
            "cell_type": "code",
            "execution_count": 58,
            "metadata": {
                "azdata_cell_guid": "104dda56-d7e5-43e2-a448-c5ad0c0fbc25",
                "language": "sql"
            },
            "outputs": [
                {
                    "data": {
                        "text/html": [
                            "(51 rows affected)"
                        ]
                    },
                    "metadata": {},
                    "output_type": "display_data"
                },
                {
                    "data": {
                        "text/html": [
                            "Total execution time: 00:00:00.025"
                        ]
                    },
                    "metadata": {},
                    "output_type": "display_data"
                },
                {
                    "data": {
                        "application/vnd.dataresource+json": {
                            "data": [
                                {
                                    "Number of Calls": "3631",
                                    "state": "California"
                                },
                                {
                                    "Number of Calls": "3572",
                                    "state": "Texas"
                                },
                                {
                                    "Number of Calls": "2834",
                                    "state": "Florida"
                                },
                                {
                                    "Number of Calls": "1786",
                                    "state": "New York"
                                },
                                {
                                    "Number of Calls": "1164",
                                    "state": "Virginia"
                                },
                                {
                                    "Number of Calls": "1160",
                                    "state": "Ohio"
                                },
                                {
                                    "Number of Calls": "1110",
                                    "state": "District of Columbia"
                                },
                                {
                                    "Number of Calls": "1017",
                                    "state": "Pennsylvania"
                                },
                                {
                                    "Number of Calls": "926",
                                    "state": "Georgia"
                                },
                                {
                                    "Number of Calls": "848",
                                    "state": "Illinois"
                                },
                                {
                                    "Number of Calls": "765",
                                    "state": "North Carolina"
                                },
                                {
                                    "Number of Calls": "742",
                                    "state": "Colorado"
                                },
                                {
                                    "Number of Calls": "738",
                                    "state": "Alabama"
                                },
                                {
                                    "Number of Calls": "737",
                                    "state": "Arizona"
                                },
                                {
                                    "Number of Calls": "736",
                                    "state": "Indiana"
                                },
                                {
                                    "Number of Calls": "712",
                                    "state": "Minnesota"
                                },
                                {
                                    "Number of Calls": "682",
                                    "state": "Missouri"
                                },
                                {
                                    "Number of Calls": "664",
                                    "state": "Tennessee"
                                },
                                {
                                    "Number of Calls": "663",
                                    "state": "Washington"
                                },
                                {
                                    "Number of Calls": "627",
                                    "state": "Louisiana"
                                },
                                {
                                    "Number of Calls": "612",
                                    "state": "Michigan"
                                },
                                {
                                    "Number of Calls": "538",
                                    "state": "Oklahoma"
                                },
                                {
                                    "Number of Calls": "493",
                                    "state": "Massachusetts"
                                },
                                {
                                    "Number of Calls": "467",
                                    "state": "Kansas"
                                },
                                {
                                    "Number of Calls": "459",
                                    "state": "Nevada"
                                },
                                {
                                    "Number of Calls": "415",
                                    "state": "Maryland"
                                },
                                {
                                    "Number of Calls": "411",
                                    "state": "Kentucky"
                                },
                                {
                                    "Number of Calls": "408",
                                    "state": "Connecticut"
                                },
                                {
                                    "Number of Calls": "366",
                                    "state": "Iowa"
                                },
                                {
                                    "Number of Calls": "342",
                                    "state": "Wisconsin"
                                },
                                {
                                    "Number of Calls": "317",
                                    "state": "New Jersey"
                                },
                                {
                                    "Number of Calls": "315",
                                    "state": "South Carolina"
                                },
                                {
                                    "Number of Calls": "301",
                                    "state": "West Virginia"
                                },
                                {
                                    "Number of Calls": "298",
                                    "state": "Utah"
                                },
                                {
                                    "Number of Calls": "261",
                                    "state": "Oregon"
                                },
                                {
                                    "Number of Calls": "243",
                                    "state": "Nebraska"
                                },
                                {
                                    "Number of Calls": "212",
                                    "state": "New Mexico"
                                },
                                {
                                    "Number of Calls": "204",
                                    "state": "Arkansas"
                                },
                                {
                                    "Number of Calls": "178",
                                    "state": "Mississippi"
                                },
                                {
                                    "Number of Calls": "174",
                                    "state": "Idaho"
                                },
                                {
                                    "Number of Calls": "149",
                                    "state": "Hawaii"
                                },
                                {
                                    "Number of Calls": "146",
                                    "state": "Alaska"
                                },
                                {
                                    "Number of Calls": "128",
                                    "state": "Delaware"
                                },
                                {
                                    "Number of Calls": "94",
                                    "state": "Montana"
                                },
                                {
                                    "Number of Calls": "93",
                                    "state": "South Dakota"
                                },
                                {
                                    "Number of Calls": "76",
                                    "state": "North Dakota"
                                },
                                {
                                    "Number of Calls": "51",
                                    "state": "New Hampshire"
                                },
                                {
                                    "Number of Calls": "35",
                                    "state": "Rhode Island"
                                },
                                {
                                    "Number of Calls": "16",
                                    "state": "Maine"
                                },
                                {
                                    "Number of Calls": "14",
                                    "state": "Vermont"
                                },
                                {
                                    "Number of Calls": "11",
                                    "state": "Wyoming"
                                }
                            ],
                            "schema": {
                                "fields": [
                                    {
                                        "name": "state"
                                    },
                                    {
                                        "name": "Number of Calls"
                                    }
                                ]
                            }
                        },
                        "text/html": [
                            "<table>\n",
                            "<tr><th>state</th><th>Number of Calls</th></tr>\n",
                            "<tr><td>California</td><td>3631</td></tr>\n",
                            "<tr><td>Texas</td><td>3572</td></tr>\n",
                            "<tr><td>Florida</td><td>2834</td></tr>\n",
                            "<tr><td>New York</td><td>1786</td></tr>\n",
                            "<tr><td>Virginia</td><td>1164</td></tr>\n",
                            "<tr><td>Ohio</td><td>1160</td></tr>\n",
                            "<tr><td>District of Columbia</td><td>1110</td></tr>\n",
                            "<tr><td>Pennsylvania</td><td>1017</td></tr>\n",
                            "<tr><td>Georgia</td><td>926</td></tr>\n",
                            "<tr><td>Illinois</td><td>848</td></tr>\n",
                            "<tr><td>North Carolina</td><td>765</td></tr>\n",
                            "<tr><td>Colorado</td><td>742</td></tr>\n",
                            "<tr><td>Alabama</td><td>738</td></tr>\n",
                            "<tr><td>Arizona</td><td>737</td></tr>\n",
                            "<tr><td>Indiana</td><td>736</td></tr>\n",
                            "<tr><td>Minnesota</td><td>712</td></tr>\n",
                            "<tr><td>Missouri</td><td>682</td></tr>\n",
                            "<tr><td>Tennessee</td><td>664</td></tr>\n",
                            "<tr><td>Washington</td><td>663</td></tr>\n",
                            "<tr><td>Louisiana</td><td>627</td></tr>\n",
                            "<tr><td>Michigan</td><td>612</td></tr>\n",
                            "<tr><td>Oklahoma</td><td>538</td></tr>\n",
                            "<tr><td>Massachusetts</td><td>493</td></tr>\n",
                            "<tr><td>Kansas</td><td>467</td></tr>\n",
                            "<tr><td>Nevada</td><td>459</td></tr>\n",
                            "<tr><td>Maryland</td><td>415</td></tr>\n",
                            "<tr><td>Kentucky</td><td>411</td></tr>\n",
                            "<tr><td>Connecticut</td><td>408</td></tr>\n",
                            "<tr><td>Iowa</td><td>366</td></tr>\n",
                            "<tr><td>Wisconsin</td><td>342</td></tr>\n",
                            "<tr><td>New Jersey</td><td>317</td></tr>\n",
                            "<tr><td>South Carolina</td><td>315</td></tr>\n",
                            "<tr><td>West Virginia</td><td>301</td></tr>\n",
                            "<tr><td>Utah</td><td>298</td></tr>\n",
                            "<tr><td>Oregon</td><td>261</td></tr>\n",
                            "<tr><td>Nebraska</td><td>243</td></tr>\n",
                            "<tr><td>New Mexico</td><td>212</td></tr>\n",
                            "<tr><td>Arkansas</td><td>204</td></tr>\n",
                            "<tr><td>Mississippi</td><td>178</td></tr>\n",
                            "<tr><td>Idaho</td><td>174</td></tr>\n",
                            "<tr><td>Hawaii</td><td>149</td></tr>\n",
                            "<tr><td>Alaska</td><td>146</td></tr>\n",
                            "<tr><td>Delaware</td><td>128</td></tr>\n",
                            "<tr><td>Montana</td><td>94</td></tr>\n",
                            "<tr><td>South Dakota</td><td>93</td></tr>\n",
                            "<tr><td>North Dakota</td><td>76</td></tr>\n",
                            "<tr><td>New Hampshire</td><td>51</td></tr>\n",
                            "<tr><td>Rhode Island</td><td>35</td></tr>\n",
                            "<tr><td>Maine</td><td>16</td></tr>\n",
                            "<tr><td>Vermont</td><td>14</td></tr>\n",
                            "<tr><td>Wyoming</td><td>11</td></tr>\n",
                            "</table>"
                        ]
                    },
                    "execution_count": 58,
                    "metadata": {},
                    "output_type": "execute_result"
                }
            ],
            "source": [
                "SELECT state, COUNT(*) as 'Number of Calls'\n",
                "FROM CallCenter \n",
                "GROUP BY state \n",
                "ORDER BY 2 DESC;\n"
            ]
        }
    ],
    "metadata": {
        "kernelspec": {
            "display_name": "SQL",
            "language": "sql",
            "name": "SQL"
        },
        "language_info": {
            "name": "sql",
            "version": ""
        }
    },
    "nbformat": 4,
    "nbformat_minor": 2
}
