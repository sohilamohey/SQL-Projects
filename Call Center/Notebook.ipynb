{
    "metadata": {
        "kernelspec": {
            "name": "SQL",
            "display_name": "SQL",
            "language": "sql"
        },
        "language_info": {
            "name": "sql",
            "version": ""
        }
    },
    "nbformat_minor": 2,
    "nbformat": 4,
    "cells": [
        {
            "cell_type": "code",
            "source": [
                "select top 10 * from callCenter"
            ],
            "metadata": {
                "azdata_cell_guid": "3c0a3556-9c6c-44ea-9af8-595879ccafc4",
                "language": "sql"
            },
            "outputs": [
                {
                    "output_type": "display_data",
                    "data": {
                        "text/html": "(10 rows affected)"
                    },
                    "metadata": {}
                },
                {
                    "output_type": "display_data",
                    "data": {
                        "text/html": "Total execution time: 00:00:00.029"
                    },
                    "metadata": {}
                },
                {
                    "output_type": "execute_result",
                    "execution_count": 53,
                    "data": {
                        "application/vnd.dataresource+json": {
                            "schema": {
                                "fields": [
                                    {
                                        "name": "id"
                                    },
                                    {
                                        "name": "customer_name"
                                    },
                                    {
                                        "name": "sentiment"
                                    },
                                    {
                                        "name": "csat_score"
                                    },
                                    {
                                        "name": "call_timestamp"
                                    },
                                    {
                                        "name": "reason"
                                    },
                                    {
                                        "name": "city"
                                    },
                                    {
                                        "name": "state"
                                    },
                                    {
                                        "name": "channel"
                                    },
                                    {
                                        "name": "response_time"
                                    },
                                    {
                                        "name": "call_duration_in_minutes"
                                    },
                                    {
                                        "name": "call_center"
                                    }
                                ]
                            },
                            "data": [
                                {
                                    "id": "DKK-57076809-w-055481-fU",
                                    "customer_name": "Analise Gairdner",
                                    "sentiment": "Neutral",
                                    "csat_score": "7",
                                    "call_timestamp": "2020-10-29",
                                    "reason": "Billing Question",
                                    "city": "Detroit",
                                    "state": "Michigan",
                                    "channel": "Call-Center",
                                    "response_time": "Within SLA",
                                    "call_duration_in_minutes": "17",
                                    "call_center": "Los Angeles/CA"
                                },
                                {
                                    "id": "QGK-72219678-w-102139-KY",
                                    "customer_name": "Crichton Kidsley",
                                    "sentiment": "Very Positive",
                                    "csat_score": "NULL",
                                    "call_timestamp": "2020-10-05",
                                    "reason": "Service Outage",
                                    "city": "Spartanburg",
                                    "state": "South Carolina",
                                    "channel": "Chatbot",
                                    "response_time": "Within SLA",
                                    "call_duration_in_minutes": "23",
                                    "call_center": "Baltimore/MD"
                                },
                                {
                                    "id": "GYJ-30025932-A-023015-LD",
                                    "customer_name": "Averill Brundrett",
                                    "sentiment": "Negative",
                                    "csat_score": "NULL",
                                    "call_timestamp": "2020-10-04",
                                    "reason": "Billing Question",
                                    "city": "Gainesville",
                                    "state": "Florida",
                                    "channel": "Call-Center",
                                    "response_time": "Above SLA",
                                    "call_duration_in_minutes": "45",
                                    "call_center": "Los Angeles/CA"
                                },
                                {
                                    "id": "ZJI-96807559-i-620008-m7",
                                    "customer_name": "Noreen Lafflina",
                                    "sentiment": "Very Negative",
                                    "csat_score": "1",
                                    "call_timestamp": "2020-10-17",
                                    "reason": "Billing Question",
                                    "city": "Portland",
                                    "state": "Oregon",
                                    "channel": "Chatbot",
                                    "response_time": "Within SLA",
                                    "call_duration_in_minutes": "12",
                                    "call_center": "Los Angeles/CA"
                                },
                                {
                                    "id": "DDU-69451719-O-176482-Fm",
                                    "customer_name": "Toma Van der Beken",
                                    "sentiment": "Very Positive",
                                    "csat_score": "NULL",
                                    "call_timestamp": "2020-10-17",
                                    "reason": "Payments",
                                    "city": "Fort Wayne",
                                    "state": "Indiana",
                                    "channel": "Call-Center",
                                    "response_time": "Within SLA",
                                    "call_duration_in_minutes": "23",
                                    "call_center": "Los Angeles/CA"
                                },
                                {
                                    "id": "JVI-79728660-U-224285-4a",
                                    "customer_name": "Kaylyn Emlen",
                                    "sentiment": "Neutral",
                                    "csat_score": "5",
                                    "call_timestamp": "2020-10-28",
                                    "reason": "Billing Question",
                                    "city": "Salt Lake City",
                                    "state": "Utah",
                                    "channel": "Call-Center",
                                    "response_time": "Within SLA",
                                    "call_duration_in_minutes": "25",
                                    "call_center": "Baltimore/MD"
                                },
                                {
                                    "id": "AZI-95054097-e-185542-PT",
                                    "customer_name": "Phillipe Bowring",
                                    "sentiment": "Neutral",
                                    "csat_score": "8",
                                    "call_timestamp": "2020-10-16",
                                    "reason": "Billing Question",
                                    "city": "Tyler",
                                    "state": "Texas",
                                    "channel": "Chatbot",
                                    "response_time": "Within SLA",
                                    "call_duration_in_minutes": "31",
                                    "call_center": "Baltimore/MD"
                                },
                                {
                                    "id": "TWX-27007918-I-608789-Xw",
                                    "customer_name": "Krysta de Tocqueville",
                                    "sentiment": "Positive",
                                    "csat_score": "NULL",
                                    "call_timestamp": "2020-10-21",
                                    "reason": "Billing Question",
                                    "city": "New York City",
                                    "state": "New York",
                                    "channel": "Chatbot",
                                    "response_time": "Below SLA",
                                    "call_duration_in_minutes": "37",
                                    "call_center": "Los Angeles/CA"
                                },
                                {
                                    "id": "XNG-44599118-P-344473-ZU",
                                    "customer_name": "Oran Lifsey",
                                    "sentiment": "Very Negative",
                                    "csat_score": "NULL",
                                    "call_timestamp": "2020-10-03",
                                    "reason": "Billing Question",
                                    "city": "Dallas",
                                    "state": "Texas",
                                    "channel": "Email",
                                    "response_time": "Below SLA",
                                    "call_duration_in_minutes": "37",
                                    "call_center": "Baltimore/MD"
                                },
                                {
                                    "id": "RLC-64108207-Z-285141-VS",
                                    "customer_name": "Port Inggall",
                                    "sentiment": "Neutral",
                                    "csat_score": "NULL",
                                    "call_timestamp": "2020-10-07",
                                    "reason": "Billing Question",
                                    "city": "Cincinnati",
                                    "state": "Ohio",
                                    "channel": "Chatbot",
                                    "response_time": "Within SLA",
                                    "call_duration_in_minutes": "12",
                                    "call_center": "Baltimore/MD"
                                }
                            ]
                        },
                        "text/html": "<table><tr><th>id</th><th>customer_name</th><th>sentiment</th><th>csat_score</th><th>call_timestamp</th><th>reason</th><th>city</th><th>state</th><th>channel</th><th>response_time</th><th>call_duration_in_minutes</th><th>call_center</th></tr><tr><td>DKK-57076809-w-055481-fU</td><td>Analise Gairdner</td><td>Neutral</td><td>7</td><td>2020-10-29</td><td>Billing Question</td><td>Detroit</td><td>Michigan</td><td>Call-Center</td><td>Within SLA</td><td>17</td><td>Los Angeles/CA</td></tr><tr><td>QGK-72219678-w-102139-KY</td><td>Crichton Kidsley</td><td>Very Positive</td><td>NULL</td><td>2020-10-05</td><td>Service Outage</td><td>Spartanburg</td><td>South Carolina</td><td>Chatbot</td><td>Within SLA</td><td>23</td><td>Baltimore/MD</td></tr><tr><td>GYJ-30025932-A-023015-LD</td><td>Averill Brundrett</td><td>Negative</td><td>NULL</td><td>2020-10-04</td><td>Billing Question</td><td>Gainesville</td><td>Florida</td><td>Call-Center</td><td>Above SLA</td><td>45</td><td>Los Angeles/CA</td></tr><tr><td>ZJI-96807559-i-620008-m7</td><td>Noreen Lafflina</td><td>Very Negative</td><td>1</td><td>2020-10-17</td><td>Billing Question</td><td>Portland</td><td>Oregon</td><td>Chatbot</td><td>Within SLA</td><td>12</td><td>Los Angeles/CA</td></tr><tr><td>DDU-69451719-O-176482-Fm</td><td>Toma Van der Beken</td><td>Very Positive</td><td>NULL</td><td>2020-10-17</td><td>Payments</td><td>Fort Wayne</td><td>Indiana</td><td>Call-Center</td><td>Within SLA</td><td>23</td><td>Los Angeles/CA</td></tr><tr><td>JVI-79728660-U-224285-4a</td><td>Kaylyn Emlen</td><td>Neutral</td><td>5</td><td>2020-10-28</td><td>Billing Question</td><td>Salt Lake City</td><td>Utah</td><td>Call-Center</td><td>Within SLA</td><td>25</td><td>Baltimore/MD</td></tr><tr><td>AZI-95054097-e-185542-PT</td><td>Phillipe Bowring</td><td>Neutral</td><td>8</td><td>2020-10-16</td><td>Billing Question</td><td>Tyler</td><td>Texas</td><td>Chatbot</td><td>Within SLA</td><td>31</td><td>Baltimore/MD</td></tr><tr><td>TWX-27007918-I-608789-Xw</td><td>Krysta de Tocqueville</td><td>Positive</td><td>NULL</td><td>2020-10-21</td><td>Billing Question</td><td>New York City</td><td>New York</td><td>Chatbot</td><td>Below SLA</td><td>37</td><td>Los Angeles/CA</td></tr><tr><td>XNG-44599118-P-344473-ZU</td><td>Oran Lifsey</td><td>Very Negative</td><td>NULL</td><td>2020-10-03</td><td>Billing Question</td><td>Dallas</td><td>Texas</td><td>Email</td><td>Below SLA</td><td>37</td><td>Baltimore/MD</td></tr><tr><td>RLC-64108207-Z-285141-VS</td><td>Port Inggall</td><td>Neutral</td><td>NULL</td><td>2020-10-07</td><td>Billing Question</td><td>Cincinnati</td><td>Ohio</td><td>Chatbot</td><td>Within SLA</td><td>12</td><td>Baltimore/MD</td></tr></table>"
                    },
                    "metadata": {}
                }
            ],
            "execution_count": 53
        },
        {
            "cell_type": "code",
            "source": [
                "--Number of column of data \r\n",
                "select count(*) as NumberOfRows\r\n",
                "from CallCenter"
            ],
            "metadata": {
                "azdata_cell_guid": "3c9e8eff-0267-4d76-9743-e365c22e563c",
                "language": "sql"
            },
            "outputs": [
                {
                    "output_type": "display_data",
                    "data": {
                        "text/html": "(1 row affected)"
                    },
                    "metadata": {}
                },
                {
                    "output_type": "display_data",
                    "data": {
                        "text/html": "Total execution time: 00:00:00.011"
                    },
                    "metadata": {}
                },
                {
                    "output_type": "execute_result",
                    "execution_count": 54,
                    "data": {
                        "application/vnd.dataresource+json": {
                            "schema": {
                                "fields": [
                                    {
                                        "name": "NumberOfRows"
                                    }
                                ]
                            },
                            "data": [
                                {
                                    "NumberOfRows": "32941"
                                }
                            ]
                        },
                        "text/html": "<table><tr><th>NumberOfRows</th></tr><tr><td>32941</td></tr></table>"
                    },
                    "metadata": {}
                }
            ],
            "execution_count": 54
        },
        {
            "cell_type": "code",
            "source": [
                "--Number Of Columns \r\n",
                "\r\n",
                "SELECT \r\n",
                "    COUNT(*) AS NumberOfColumns\r\n",
                "FROM \r\n",
                "    INFORMATION_SCHEMA.COLUMNS\r\n",
                "WHERE \r\n",
                "    TABLE_NAME = 'callcenter';"
            ],
            "metadata": {
                "language": "sql",
                "azdata_cell_guid": "dc20da99-d497-4c25-8de0-2dc9125d4ac6"
            },
            "outputs": [
                {
                    "output_type": "display_data",
                    "data": {
                        "text/html": "(1 row affected)"
                    },
                    "metadata": {}
                },
                {
                    "output_type": "display_data",
                    "data": {
                        "text/html": "Total execution time: 00:00:00.058"
                    },
                    "metadata": {}
                },
                {
                    "output_type": "execute_result",
                    "execution_count": 55,
                    "data": {
                        "application/vnd.dataresource+json": {
                            "schema": {
                                "fields": [
                                    {
                                        "name": "NumberOfColumns"
                                    }
                                ]
                            },
                            "data": [
                                {
                                    "NumberOfColumns": "12"
                                }
                            ]
                        },
                        "text/html": "<table><tr><th>NumberOfColumns</th></tr><tr><td>12</td></tr></table>"
                    },
                    "metadata": {}
                }
            ],
            "execution_count": 55
        },
        {
            "cell_type": "code",
            "source": [
                "--Check Null values of data\r\n",
                "\r\n",
                "select \r\n",
                "sum(case when cs.id is null then 1 else 0 end) as 'ID', \r\n",
                "sum(case when cs.call_duration_in_minutes is null then 1 else 0 end) as 'call_duration_in_minutes', \r\n",
                "sum(case when cs.call_timestamp is null then 1 else 0 end) as 'call_timestamp',\r\n",
                "sum(case when cs.channel is null then 1 else 0 end) as 'channel',\r\n",
                "sum(case when cs.city is null then 1 else 0 end) as 'city',\r\n",
                "sum(case when cs.csat_score is null then 1 else 0 end) as 'csat_score',\r\n",
                "sum(case when cs.customer_name is null then 1 else 0 end) as 'customer_name',\r\n",
                "sum(case when cs.reason is null then 1 else 0 end) as 'reason',\r\n",
                "sum(case when cs.response_time is null then 1 else 0 end) as 'response_time',\r\n",
                "sum(case when cs.sentiment is null then 1 else 0 end) as 'sentiment',\r\n",
                "sum(case when cs.state is null then 1 else 0 end) as 'state'\r\n",
                "from CallCenter cs\r\n",
                ""
            ],
            "metadata": {
                "azdata_cell_guid": "2c49263e-bccf-4390-b863-244cf2bd3a92",
                "language": "sql"
            },
            "outputs": [
                {
                    "output_type": "display_data",
                    "data": {
                        "text/html": "(1 row affected)"
                    },
                    "metadata": {}
                },
                {
                    "output_type": "display_data",
                    "data": {
                        "text/html": "Total execution time: 00:00:00.055"
                    },
                    "metadata": {}
                },
                {
                    "output_type": "execute_result",
                    "execution_count": 56,
                    "data": {
                        "application/vnd.dataresource+json": {
                            "schema": {
                                "fields": [
                                    {
                                        "name": "ID"
                                    },
                                    {
                                        "name": "call_duration_in_minutes"
                                    },
                                    {
                                        "name": "call_timestamp"
                                    },
                                    {
                                        "name": "channel"
                                    },
                                    {
                                        "name": "city"
                                    },
                                    {
                                        "name": "csat_score"
                                    },
                                    {
                                        "name": "customer_name"
                                    },
                                    {
                                        "name": "reason"
                                    },
                                    {
                                        "name": "response_time"
                                    },
                                    {
                                        "name": "sentiment"
                                    },
                                    {
                                        "name": "state"
                                    }
                                ]
                            },
                            "data": [
                                {
                                    "ID": "0",
                                    "call_duration_in_minutes": "0",
                                    "call_timestamp": "0",
                                    "channel": "0",
                                    "city": "0",
                                    "csat_score": "20670",
                                    "customer_name": "0",
                                    "reason": "0",
                                    "response_time": "0",
                                    "sentiment": "0",
                                    "state": "0"
                                }
                            ]
                        },
                        "text/html": "<table><tr><th>ID</th><th>call_duration_in_minutes</th><th>call_timestamp</th><th>channel</th><th>city</th><th>csat_score</th><th>customer_name</th><th>reason</th><th>response_time</th><th>sentiment</th><th>state</th></tr><tr><td>0</td><td>0</td><td>0</td><td>0</td><td>0</td><td>20670</td><td>0</td><td>0</td><td>0</td><td>0</td><td>0</td></tr></table>"
                    },
                    "metadata": {}
                }
            ],
            "execution_count": 56
        },
        {
            "cell_type": "code",
            "source": [
                "--set null values in csat_score = 11 as 11 is not scored by client\r\n",
                "update callcenter \r\n",
                "set csat_score = 11\r\n",
                "where csat_score is null"
            ],
            "metadata": {
                "azdata_cell_guid": "d3736503-7be9-4e90-9440-a96e8ee66d4b",
                "language": "sql"
            },
            "outputs": [
                {
                    "output_type": "display_data",
                    "data": {
                        "text/html": "(20670 rows affected)"
                    },
                    "metadata": {}
                },
                {
                    "output_type": "display_data",
                    "data": {
                        "text/html": "Total execution time: 00:00:00.127"
                    },
                    "metadata": {}
                }
            ],
            "execution_count": 57
        },
        {
            "cell_type": "code",
            "source": [
                "select sum(case when csat_score is null then 1 else 0 end) as 'csat_score' \r\n",
                "from CallCenter"
            ],
            "metadata": {
                "azdata_cell_guid": "9d2f2f24-6358-4e31-9a48-fb5189570770",
                "language": "sql"
            },
            "outputs": [
                {
                    "output_type": "display_data",
                    "data": {
                        "text/html": "(1 row affected)"
                    },
                    "metadata": {}
                },
                {
                    "output_type": "display_data",
                    "data": {
                        "text/html": "Total execution time: 00:00:00.016"
                    },
                    "metadata": {}
                },
                {
                    "output_type": "execute_result",
                    "execution_count": 58,
                    "data": {
                        "application/vnd.dataresource+json": {
                            "schema": {
                                "fields": [
                                    {
                                        "name": "csat_score"
                                    }
                                ]
                            },
                            "data": [
                                {
                                    "csat_score": "0"
                                }
                            ]
                        },
                        "text/html": "<table><tr><th>csat_score</th></tr><tr><td>0</td></tr></table>"
                    },
                    "metadata": {}
                }
            ],
            "execution_count": 58
        },
        {
            "cell_type": "code",
            "source": [
                "select distinct(city), COUNT(city) as NumberOfCityCalls  from CallCenter\r\n",
                "group by city\r\n",
                "order by NumberOfCityCalls DESC"
            ],
            "metadata": {
                "azdata_cell_guid": "1753da99-2e13-4342-9a6c-4d8180a8e4ab",
                "language": "sql"
            },
            "outputs": [
                {
                    "output_type": "display_data",
                    "data": {
                        "text/html": "(461 rows affected)"
                    },
                    "metadata": {}
                },
                {
                    "output_type": "display_data",
                    "data": {
                        "text/html": "Total execution time: 00:00:00.142"
                    },
                    "metadata": {}
                },
                {
                    "output_type": "execute_result",
                    "execution_count": 59,
                    "data": {
                        "application/vnd.dataresource+json": {
                            "schema": {
                                "fields": [
                                    {
                                        "name": "city"
                                    },
                                    {
                                        "name": "NumberOfCityCalls"
                                    }
                                ]
                            },
                            "data": [
                                {
                                    "city": "Washington",
                                    "NumberOfCityCalls": "1110"
                                },
                                {
                                    "city": "Houston",
                                    "NumberOfCityCalls": "657"
                                },
                                {
                                    "city": "New York City",
                                    "NumberOfCityCalls": "564"
                                },
                                {
                                    "city": "El Paso",
                                    "NumberOfCityCalls": "528"
                                },
                                {
                                    "city": "Dallas",
                                    "NumberOfCityCalls": "437"
                                },
                                {
                                    "city": "Atlanta",
                                    "NumberOfCityCalls": "416"
                                },
                                {
                                    "city": "Miami",
                                    "NumberOfCityCalls": "374"
                                },
                                {
                                    "city": "Sacramento",
                                    "NumberOfCityCalls": "341"
                                },
                                {
                                    "city": "Los Angeles",
                                    "NumberOfCityCalls": "331"
                                },
                                {
                                    "city": "Kansas City",
                                    "NumberOfCityCalls": "327"
                                },
                                {
                                    "city": "Chicago",
                                    "NumberOfCityCalls": "327"
                                },
                                {
                                    "city": "Springfield",
                                    "NumberOfCityCalls": "304"
                                },
                                {
                                    "city": "San Antonio",
                                    "NumberOfCityCalls": "299"
                                },
                                {
                                    "city": "Austin",
                                    "NumberOfCityCalls": "288"
                                },
                                {
                                    "city": "Phoenix",
                                    "NumberOfCityCalls": "286"
                                },
                                {
                                    "city": "Pittsburgh",
                                    "NumberOfCityCalls": "277"
                                },
                                {
                                    "city": "Oklahoma City",
                                    "NumberOfCityCalls": "277"
                                },
                                {
                                    "city": "Birmingham",
                                    "NumberOfCityCalls": "274"
                                },
                                {
                                    "city": "Richmond",
                                    "NumberOfCityCalls": "273"
                                },
                                {
                                    "city": "Philadelphia",
                                    "NumberOfCityCalls": "270"
                                },
                                {
                                    "city": "Cincinnati",
                                    "NumberOfCityCalls": "269"
                                },
                                {
                                    "city": "Minneapolis",
                                    "NumberOfCityCalls": "263"
                                },
                                {
                                    "city": "Denver",
                                    "NumberOfCityCalls": "260"
                                },
                                {
                                    "city": "Las Vegas",
                                    "NumberOfCityCalls": "260"
                                },
                                {
                                    "city": "San Diego",
                                    "NumberOfCityCalls": "258"
                                },
                                {
                                    "city": "Charlotte",
                                    "NumberOfCityCalls": "258"
                                },
                                {
                                    "city": "San Francisco",
                                    "NumberOfCityCalls": "255"
                                },
                                {
                                    "city": "Memphis",
                                    "NumberOfCityCalls": "250"
                                },
                                {
                                    "city": "Seattle",
                                    "NumberOfCityCalls": "239"
                                },
                                {
                                    "city": "Saint Louis",
                                    "NumberOfCityCalls": "237"
                                },
                                {
                                    "city": "Tulsa",
                                    "NumberOfCityCalls": "232"
                                },
                                {
                                    "city": "New Orleans",
                                    "NumberOfCityCalls": "231"
                                },
                                {
                                    "city": "Salt Lake City",
                                    "NumberOfCityCalls": "223"
                                },
                                {
                                    "city": "Orlando",
                                    "NumberOfCityCalls": "222"
                                },
                                {
                                    "city": "Indianapolis",
                                    "NumberOfCityCalls": "222"
                                },
                                {
                                    "city": "Charleston",
                                    "NumberOfCityCalls": "219"
                                },
                                {
                                    "city": "Des Moines",
                                    "NumberOfCityCalls": "219"
                                },
                                {
                                    "city": "Portland",
                                    "NumberOfCityCalls": "218"
                                },
                                {
                                    "city": "Tampa",
                                    "NumberOfCityCalls": "217"
                                },
                                {
                                    "city": "Louisville",
                                    "NumberOfCityCalls": "216"
                                },
                                {
                                    "city": "Columbus",
                                    "NumberOfCityCalls": "214"
                                },
                                {
                                    "city": "Fresno",
                                    "NumberOfCityCalls": "212"
                                },
                                {
                                    "city": "Boston",
                                    "NumberOfCityCalls": "198"
                                },
                                {
                                    "city": "Jacksonville",
                                    "NumberOfCityCalls": "196"
                                },
                                {
                                    "city": "Arlington",
                                    "NumberOfCityCalls": "195"
                                },
                                {
                                    "city": "Detroit",
                                    "NumberOfCityCalls": "193"
                                },
                                {
                                    "city": "Colorado Springs",
                                    "NumberOfCityCalls": "191"
                                },
                                {
                                    "city": "Albany",
                                    "NumberOfCityCalls": "187"
                                },
                                {
                                    "city": "Rochester",
                                    "NumberOfCityCalls": "186"
                                },
                                {
                                    "city": "Fort Worth",
                                    "NumberOfCityCalls": "186"
                                },
                                {
                                    "city": "Baltimore",
                                    "NumberOfCityCalls": "182"
                                },
                                {
                                    "city": "Saint Paul",
                                    "NumberOfCityCalls": "182"
                                },
                                {
                                    "city": "San Jose",
                                    "NumberOfCityCalls": "181"
                                },
                                {
                                    "city": "Tucson",
                                    "NumberOfCityCalls": "173"
                                },
                                {
                                    "city": "Roanoke",
                                    "NumberOfCityCalls": "168"
                                },
                                {
                                    "city": "Dayton",
                                    "NumberOfCityCalls": "165"
                                },
                                {
                                    "city": "Mobile",
                                    "NumberOfCityCalls": "163"
                                },
                                {
                                    "city": "Albuquerque",
                                    "NumberOfCityCalls": "162"
                                },
                                {
                                    "city": "Topeka",
                                    "NumberOfCityCalls": "161"
                                },
                                {
                                    "city": "Fort Lauderdale",
                                    "NumberOfCityCalls": "161"
                                },
                                {
                                    "city": "Nashville",
                                    "NumberOfCityCalls": "161"
                                },
                                {
                                    "city": "Montgomery",
                                    "NumberOfCityCalls": "160"
                                },
                                {
                                    "city": "Cleveland",
                                    "NumberOfCityCalls": "152"
                                },
                                {
                                    "city": "Pasadena",
                                    "NumberOfCityCalls": "151"
                                },
                                {
                                    "city": "Brooklyn",
                                    "NumberOfCityCalls": "151"
                                },
                                {
                                    "city": "Amarillo",
                                    "NumberOfCityCalls": "151"
                                },
                                {
                                    "city": "Omaha",
                                    "NumberOfCityCalls": "150"
                                },
                                {
                                    "city": "Honolulu",
                                    "NumberOfCityCalls": "149"
                                },
                                {
                                    "city": "Baton Rouge",
                                    "NumberOfCityCalls": "147"
                                },
                                {
                                    "city": "Raleigh",
                                    "NumberOfCityCalls": "146"
                                },
                                {
                                    "city": "Fort Wayne",
                                    "NumberOfCityCalls": "146"
                                },
                                {
                                    "city": "Lexington",
                                    "NumberOfCityCalls": "145"
                                },
                                {
                                    "city": "Milwaukee",
                                    "NumberOfCityCalls": "145"
                                },
                                {
                                    "city": "Peoria",
                                    "NumberOfCityCalls": "139"
                                },
                                {
                                    "city": "Boise",
                                    "NumberOfCityCalls": "133"
                                },
                                {
                                    "city": "Buffalo",
                                    "NumberOfCityCalls": "132"
                                },
                                {
                                    "city": "Jamaica",
                                    "NumberOfCityCalls": "132"
                                },
                                {
                                    "city": "Huntington",
                                    "NumberOfCityCalls": "128"
                                },
                                {
                                    "city": "Tacoma",
                                    "NumberOfCityCalls": "128"
                                },
                                {
                                    "city": "Evansville",
                                    "NumberOfCityCalls": "127"
                                },
                                {
                                    "city": "Wichita",
                                    "NumberOfCityCalls": "126"
                                },
                                {
                                    "city": "Shawnee Mission",
                                    "NumberOfCityCalls": "124"
                                },
                                {
                                    "city": "Saint Petersburg",
                                    "NumberOfCityCalls": "124"
                                },
                                {
                                    "city": "Corpus Christi",
                                    "NumberOfCityCalls": "124"
                                },
                                {
                                    "city": "Wilmington",
                                    "NumberOfCityCalls": "121"
                                },
                                {
                                    "city": "Pensacola",
                                    "NumberOfCityCalls": "120"
                                },
                                {
                                    "city": "Knoxville",
                                    "NumberOfCityCalls": "120"
                                },
                                {
                                    "city": "Toledo",
                                    "NumberOfCityCalls": "119"
                                },
                                {
                                    "city": "Madison",
                                    "NumberOfCityCalls": "118"
                                },
                                {
                                    "city": "Shreveport",
                                    "NumberOfCityCalls": "118"
                                },
                                {
                                    "city": "Columbia",
                                    "NumberOfCityCalls": "115"
                                },
                                {
                                    "city": "Spokane",
                                    "NumberOfCityCalls": "114"
                                },
                                {
                                    "city": "Hartford",
                                    "NumberOfCityCalls": "114"
                                },
                                {
                                    "city": "Greensboro",
                                    "NumberOfCityCalls": "112"
                                },
                                {
                                    "city": "Little Rock",
                                    "NumberOfCityCalls": "110"
                                },
                                {
                                    "city": "Trenton",
                                    "NumberOfCityCalls": "105"
                                },
                                {
                                    "city": "Akron",
                                    "NumberOfCityCalls": "105"
                                },
                                {
                                    "city": "Newark",
                                    "NumberOfCityCalls": "104"
                                },
                                {
                                    "city": "Jackson",
                                    "NumberOfCityCalls": "104"
                                },
                                {
                                    "city": "Oakland",
                                    "NumberOfCityCalls": "104"
                                },
                                {
                                    "city": "Erie",
                                    "NumberOfCityCalls": "103"
                                },
                                {
                                    "city": "Clearwater",
                                    "NumberOfCityCalls": "101"
                                },
                                {
                                    "city": "Bakersfield",
                                    "NumberOfCityCalls": "99"
                                },
                                {
                                    "city": "Bronx",
                                    "NumberOfCityCalls": "98"
                                },
                                {
                                    "city": "Huntsville",
                                    "NumberOfCityCalls": "98"
                                },
                                {
                                    "city": "West Palm Beach",
                                    "NumberOfCityCalls": "94"
                                },
                                {
                                    "city": "Sioux Falls",
                                    "NumberOfCityCalls": "93"
                                },
                                {
                                    "city": "Lincoln",
                                    "NumberOfCityCalls": "93"
                                },
                                {
                                    "city": "Anchorage",
                                    "NumberOfCityCalls": "91"
                                },
                                {
                                    "city": "Long Beach",
                                    "NumberOfCityCalls": "88"
                                },
                                {
                                    "city": "Reno",
                                    "NumberOfCityCalls": "86"
                                },
                                {
                                    "city": "Syracuse",
                                    "NumberOfCityCalls": "84"
                                },
                                {
                                    "city": "Lansing",
                                    "NumberOfCityCalls": "83"
                                },
                                {
                                    "city": "New Haven",
                                    "NumberOfCityCalls": "82"
                                },
                                {
                                    "city": "Alexandria",
                                    "NumberOfCityCalls": "81"
                                },
                                {
                                    "city": "Naples",
                                    "NumberOfCityCalls": "80"
                                },
                                {
                                    "city": "South Bend",
                                    "NumberOfCityCalls": "80"
                                },
                                {
                                    "city": "Grand Rapids",
                                    "NumberOfCityCalls": "79"
                                },
                                {
                                    "city": "Glendale",
                                    "NumberOfCityCalls": "79"
                                },
                                {
                                    "city": "Harrisburg",
                                    "NumberOfCityCalls": "79"
                                },
                                {
                                    "city": "Tallahassee",
                                    "NumberOfCityCalls": "78"
                                },
                                {
                                    "city": "Winston Salem",
                                    "NumberOfCityCalls": "77"
                                },
                                {
                                    "city": "Norfolk",
                                    "NumberOfCityCalls": "73"
                                },
                                {
                                    "city": "Aurora",
                                    "NumberOfCityCalls": "73"
                                },
                                {
                                    "city": "Chattanooga",
                                    "NumberOfCityCalls": "73"
                                },
                                {
                                    "city": "Savannah",
                                    "NumberOfCityCalls": "71"
                                },
                                {
                                    "city": "Lubbock",
                                    "NumberOfCityCalls": "71"
                                },
                                {
                                    "city": "Stockton",
                                    "NumberOfCityCalls": "70"
                                },
                                {
                                    "city": "Irvine",
                                    "NumberOfCityCalls": "70"
                                },
                                {
                                    "city": "San Bernardino",
                                    "NumberOfCityCalls": "70"
                                },
                                {
                                    "city": "Durham",
                                    "NumberOfCityCalls": "68"
                                },
                                {
                                    "city": "Gainesville",
                                    "NumberOfCityCalls": "67"
                                },
                                {
                                    "city": "Mesa",
                                    "NumberOfCityCalls": "66"
                                },
                                {
                                    "city": "Young America",
                                    "NumberOfCityCalls": "65"
                                },
                                {
                                    "city": "Orange",
                                    "NumberOfCityCalls": "65"
                                },
                                {
                                    "city": "Inglewood",
                                    "NumberOfCityCalls": "64"
                                },
                                {
                                    "city": "Augusta",
                                    "NumberOfCityCalls": "64"
                                },
                                {
                                    "city": "Macon",
                                    "NumberOfCityCalls": "63"
                                },
                                {
                                    "city": "Virginia Beach",
                                    "NumberOfCityCalls": "63"
                                },
                                {
                                    "city": "Duluth",
                                    "NumberOfCityCalls": "62"
                                },
                                {
                                    "city": "Van Nuys",
                                    "NumberOfCityCalls": "61"
                                },
                                {
                                    "city": "Pueblo",
                                    "NumberOfCityCalls": "61"
                                },
                                {
                                    "city": "Tyler",
                                    "NumberOfCityCalls": "61"
                                },
                                {
                                    "city": "Flint",
                                    "NumberOfCityCalls": "61"
                                },
                                {
                                    "city": "Scottsdale",
                                    "NumberOfCityCalls": "61"
                                },
                                {
                                    "city": "Wilkes Barre",
                                    "NumberOfCityCalls": "60"
                                },
                                {
                                    "city": "Paterson",
                                    "NumberOfCityCalls": "60"
                                },
                                {
                                    "city": "Monticello",
                                    "NumberOfCityCalls": "57"
                                },
                                {
                                    "city": "Riverside",
                                    "NumberOfCityCalls": "57"
                                },
                                {
                                    "city": "Youngstown",
                                    "NumberOfCityCalls": "56"
                                },
                                {
                                    "city": "Midland",
                                    "NumberOfCityCalls": "55"
                                },
                                {
                                    "city": "Daytona Beach",
                                    "NumberOfCityCalls": "55"
                                },
                                {
                                    "city": "Boulder",
                                    "NumberOfCityCalls": "55"
                                },
                                {
                                    "city": "Santa Barbara",
                                    "NumberOfCityCalls": "54"
                                },
                                {
                                    "city": "Lancaster",
                                    "NumberOfCityCalls": "54"
                                },
                                {
                                    "city": "Boca Raton",
                                    "NumberOfCityCalls": "53"
                                },
                                {
                                    "city": "Sarasota",
                                    "NumberOfCityCalls": "53"
                                },
                                {
                                    "city": "Waco",
                                    "NumberOfCityCalls": "53"
                                },
                                {
                                    "city": "Silver Spring",
                                    "NumberOfCityCalls": "53"
                                },
                                {
                                    "city": "Canton",
                                    "NumberOfCityCalls": "52"
                                },
                                {
                                    "city": "Fort Myers",
                                    "NumberOfCityCalls": "52"
                                },
                                {
                                    "city": "Bradenton",
                                    "NumberOfCityCalls": "52"
                                },
                                {
                                    "city": "Anaheim",
                                    "NumberOfCityCalls": "52"
                                },
                                {
                                    "city": "Waterbury",
                                    "NumberOfCityCalls": "51"
                                },
                                {
                                    "city": "Stamford",
                                    "NumberOfCityCalls": "51"
                                },
                                {
                                    "city": "Decatur",
                                    "NumberOfCityCalls": "51"
                                },
                                {
                                    "city": "Worcester",
                                    "NumberOfCityCalls": "49"
                                },
                                {
                                    "city": "Davenport",
                                    "NumberOfCityCalls": "48"
                                },
                                {
                                    "city": "Littleton",
                                    "NumberOfCityCalls": "47"
                                },
                                {
                                    "city": "Lake Worth",
                                    "NumberOfCityCalls": "47"
                                },
                                {
                                    "city": "Irving",
                                    "NumberOfCityCalls": "45"
                                },
                                {
                                    "city": "Portsmouth",
                                    "NumberOfCityCalls": "45"
                                },
                                {
                                    "city": "Berkeley",
                                    "NumberOfCityCalls": "45"
                                },
                                {
                                    "city": "Billings",
                                    "NumberOfCityCalls": "45"
                                },
                                {
                                    "city": "Rockford",
                                    "NumberOfCityCalls": "44"
                                },
                                {
                                    "city": "White Plains",
                                    "NumberOfCityCalls": "44"
                                },
                                {
                                    "city": "Saint Cloud",
                                    "NumberOfCityCalls": "43"
                                },
                                {
                                    "city": "Lawrenceville",
                                    "NumberOfCityCalls": "43"
                                },
                                {
                                    "city": "Corona",
                                    "NumberOfCityCalls": "42"
                                },
                                {
                                    "city": "Vero Beach",
                                    "NumberOfCityCalls": "42"
                                },
                                {
                                    "city": "Odessa",
                                    "NumberOfCityCalls": "42"
                                },
                                {
                                    "city": "Vancouver",
                                    "NumberOfCityCalls": "42"
                                },
                                {
                                    "city": "Jefferson City",
                                    "NumberOfCityCalls": "41"
                                },
                                {
                                    "city": "Schenectady",
                                    "NumberOfCityCalls": "41"
                                },
                                {
                                    "city": "Wichita Falls",
                                    "NumberOfCityCalls": "41"
                                },
                                {
                                    "city": "Green Bay",
                                    "NumberOfCityCalls": "40"
                                },
                                {
                                    "city": "Spartanburg",
                                    "NumberOfCityCalls": "40"
                                },
                                {
                                    "city": "Newport News",
                                    "NumberOfCityCalls": "40"
                                },
                                {
                                    "city": "Pompano Beach",
                                    "NumberOfCityCalls": "40"
                                },
                                {
                                    "city": "Lakeland",
                                    "NumberOfCityCalls": "40"
                                },
                                {
                                    "city": "Cedar Rapids",
                                    "NumberOfCityCalls": "40"
                                },
                                {
                                    "city": "Staten Island",
                                    "NumberOfCityCalls": "39"
                                },
                                {
                                    "city": "Reading",
                                    "NumberOfCityCalls": "39"
                                },
                                {
                                    "city": "Beaumont",
                                    "NumberOfCityCalls": "39"
                                },
                                {
                                    "city": "Anderson",
                                    "NumberOfCityCalls": "38"
                                },
                                {
                                    "city": "Fairbanks",
                                    "NumberOfCityCalls": "38"
                                },
                                {
                                    "city": "Bethesda",
                                    "NumberOfCityCalls": "38"
                                },
                                {
                                    "city": "Olympia",
                                    "NumberOfCityCalls": "38"
                                },
                                {
                                    "city": "Flushing",
                                    "NumberOfCityCalls": "38"
                                },
                                {
                                    "city": "Ocala",
                                    "NumberOfCityCalls": "38"
                                },
                                {
                                    "city": "Lafayette",
                                    "NumberOfCityCalls": "38"
                                },
                                {
                                    "city": "Hollywood",
                                    "NumberOfCityCalls": "38"
                                },
                                {
                                    "city": "Burbank",
                                    "NumberOfCityCalls": "37"
                                },
                                {
                                    "city": "Terre Haute",
                                    "NumberOfCityCalls": "37"
                                },
                                {
                                    "city": "Greenville",
                                    "NumberOfCityCalls": "36"
                                },
                                {
                                    "city": "North Little Rock",
                                    "NumberOfCityCalls": "36"
                                },
                                {
                                    "city": "Carol Stream",
                                    "NumberOfCityCalls": "36"
                                },
                                {
                                    "city": "Santa Ana",
                                    "NumberOfCityCalls": "36"
                                },
                                {
                                    "city": "Garden Grove",
                                    "NumberOfCityCalls": "36"
                                },
                                {
                                    "city": "Largo",
                                    "NumberOfCityCalls": "36"
                                },
                                {
                                    "city": "Newton",
                                    "NumberOfCityCalls": "35"
                                },
                                {
                                    "city": "Ogden",
                                    "NumberOfCityCalls": "35"
                                },
                                {
                                    "city": "Providence",
                                    "NumberOfCityCalls": "35"
                                },
                                {
                                    "city": "Fort Smith",
                                    "NumberOfCityCalls": "35"
                                },
                                {
                                    "city": "Brockton",
                                    "NumberOfCityCalls": "35"
                                },
                                {
                                    "city": "Carson City",
                                    "NumberOfCityCalls": "34"
                                },
                                {
                                    "city": "Salem",
                                    "NumberOfCityCalls": "34"
                                },
                                {
                                    "city": "Modesto",
                                    "NumberOfCityCalls": "34"
                                },
                                {
                                    "city": "Maple Plain",
                                    "NumberOfCityCalls": "34"
                                },
                                {
                                    "city": "Spring",
                                    "NumberOfCityCalls": "33"
                                },
                                {
                                    "city": "Lake Charles",
                                    "NumberOfCityCalls": "33"
                                },
                                {
                                    "city": "Saginaw",
                                    "NumberOfCityCalls": "33"
                                },
                                {
                                    "city": "Bloomington",
                                    "NumberOfCityCalls": "33"
                                },
                                {
                                    "city": "Abilene",
                                    "NumberOfCityCalls": "33"
                                },
                                {
                                    "city": "North Hollywood",
                                    "NumberOfCityCalls": "33"
                                },
                                {
                                    "city": "Monroe",
                                    "NumberOfCityCalls": "32"
                                },
                                {
                                    "city": "Bridgeport",
                                    "NumberOfCityCalls": "32"
                                },
                                {
                                    "city": "Fargo",
                                    "NumberOfCityCalls": "32"
                                },
                                {
                                    "city": "Santa Fe",
                                    "NumberOfCityCalls": "32"
                                },
                                {
                                    "city": "Melbourne",
                                    "NumberOfCityCalls": "31"
                                },
                                {
                                    "city": "Jersey City",
                                    "NumberOfCityCalls": "31"
                                },
                                {
                                    "city": "Denton",
                                    "NumberOfCityCalls": "31"
                                },
                                {
                                    "city": "Fort Pierce",
                                    "NumberOfCityCalls": "31"
                                },
                                {
                                    "city": "Tuscaloosa",
                                    "NumberOfCityCalls": "31"
                                },
                                {
                                    "city": "Lynchburg",
                                    "NumberOfCityCalls": "31"
                                },
                                {
                                    "city": "Torrance",
                                    "NumberOfCityCalls": "31"
                                },
                                {
                                    "city": "Alhambra",
                                    "NumberOfCityCalls": "31"
                                },
                                {
                                    "city": "Charlottesville",
                                    "NumberOfCityCalls": "30"
                                },
                                {
                                    "city": "Reston",
                                    "NumberOfCityCalls": "29"
                                },
                                {
                                    "city": "Scranton",
                                    "NumberOfCityCalls": "29"
                                },
                                {
                                    "city": "Hialeah",
                                    "NumberOfCityCalls": "29"
                                },
                                {
                                    "city": "Fullerton",
                                    "NumberOfCityCalls": "29"
                                },
                                {
                                    "city": "North Las Vegas",
                                    "NumberOfCityCalls": "29"
                                },
                                {
                                    "city": "Sioux City",
                                    "NumberOfCityCalls": "29"
                                },
                                {
                                    "city": "Asheville",
                                    "NumberOfCityCalls": "28"
                                },
                                {
                                    "city": "Henderson",
                                    "NumberOfCityCalls": "28"
                                },
                                {
                                    "city": "Kalamazoo",
                                    "NumberOfCityCalls": "28"
                                },
                                {
                                    "city": "Hampton",
                                    "NumberOfCityCalls": "28"
                                },
                                {
                                    "city": "Huntington Beach",
                                    "NumberOfCityCalls": "28"
                                },
                                {
                                    "city": "Panama City",
                                    "NumberOfCityCalls": "28"
                                },
                                {
                                    "city": "Warren",
                                    "NumberOfCityCalls": "27"
                                },
                                {
                                    "city": "East Saint Louis",
                                    "NumberOfCityCalls": "27"
                                },
                                {
                                    "city": "Marietta",
                                    "NumberOfCityCalls": "26"
                                },
                                {
                                    "city": "Provo",
                                    "NumberOfCityCalls": "26"
                                },
                                {
                                    "city": "Metairie",
                                    "NumberOfCityCalls": "26"
                                },
                                {
                                    "city": "Fairfax",
                                    "NumberOfCityCalls": "26"
                                },
                                {
                                    "city": "Santa Monica",
                                    "NumberOfCityCalls": "26"
                                },
                                {
                                    "city": "Bellevue",
                                    "NumberOfCityCalls": "25"
                                },
                                {
                                    "city": "Athens",
                                    "NumberOfCityCalls": "25"
                                },
                                {
                                    "city": "San Luis Obispo",
                                    "NumberOfCityCalls": "25"
                                },
                                {
                                    "city": "Norcross",
                                    "NumberOfCityCalls": "25"
                                },
                                {
                                    "city": "Mountain View",
                                    "NumberOfCityCalls": "24"
                                },
                                {
                                    "city": "Mansfield",
                                    "NumberOfCityCalls": "24"
                                },
                                {
                                    "city": "Northridge",
                                    "NumberOfCityCalls": "24"
                                },
                                {
                                    "city": "Norwalk",
                                    "NumberOfCityCalls": "24"
                                },
                                {
                                    "city": "Delray Beach",
                                    "NumberOfCityCalls": "24"
                                },
                                {
                                    "city": "Conroe",
                                    "NumberOfCityCalls": "24"
                                },
                                {
                                    "city": "Vienna",
                                    "NumberOfCityCalls": "24"
                                },
                                {
                                    "city": "Elmira",
                                    "NumberOfCityCalls": "24"
                                },
                                {
                                    "city": "Joliet",
                                    "NumberOfCityCalls": "24"
                                },
                                {
                                    "city": "San Mateo",
                                    "NumberOfCityCalls": "23"
                                },
                                {
                                    "city": "Spring Hill",
                                    "NumberOfCityCalls": "23"
                                },
                                {
                                    "city": "Fredericksburg",
                                    "NumberOfCityCalls": "23"
                                },
                                {
                                    "city": "Chesapeake",
                                    "NumberOfCityCalls": "23"
                                },
                                {
                                    "city": "Hot Springs National Park",
                                    "NumberOfCityCalls": "23"
                                },
                                {
                                    "city": "Whittier",
                                    "NumberOfCityCalls": "23"
                                },
                                {
                                    "city": "Fayetteville",
                                    "NumberOfCityCalls": "23"
                                },
                                {
                                    "city": "Chandler",
                                    "NumberOfCityCalls": "23"
                                },
                                {
                                    "city": "Brea",
                                    "NumberOfCityCalls": "23"
                                },
                                {
                                    "city": "College Station",
                                    "NumberOfCityCalls": "23"
                                },
                                {
                                    "city": "Gary",
                                    "NumberOfCityCalls": "23"
                                },
                                {
                                    "city": "London",
                                    "NumberOfCityCalls": "23"
                                },
                                {
                                    "city": "Naperville",
                                    "NumberOfCityCalls": "22"
                                },
                                {
                                    "city": "Bryan",
                                    "NumberOfCityCalls": "22"
                                },
                                {
                                    "city": "Palo Alto",
                                    "NumberOfCityCalls": "22"
                                },
                                {
                                    "city": "Oceanside",
                                    "NumberOfCityCalls": "22"
                                },
                                {
                                    "city": "Escondido",
                                    "NumberOfCityCalls": "22"
                                },
                                {
                                    "city": "Punta Gorda",
                                    "NumberOfCityCalls": "22"
                                },
                                {
                                    "city": "Redwood City",
                                    "NumberOfCityCalls": "22"
                                },
                                {
                                    "city": "Sparks",
                                    "NumberOfCityCalls": "22"
                                },
                                {
                                    "city": "Grand Forks",
                                    "NumberOfCityCalls": "22"
                                },
                                {
                                    "city": "Bismarck",
                                    "NumberOfCityCalls": "22"
                                },
                                {
                                    "city": "Manchester",
                                    "NumberOfCityCalls": "22"
                                },
                                {
                                    "city": "Laurel",
                                    "NumberOfCityCalls": "22"
                                },
                                {
                                    "city": "Seminole",
                                    "NumberOfCityCalls": "22"
                                },
                                {
                                    "city": "Port Washington",
                                    "NumberOfCityCalls": "21"
                                },
                                {
                                    "city": "Idaho Falls",
                                    "NumberOfCityCalls": "21"
                                },
                                {
                                    "city": "New Brunswick",
                                    "NumberOfCityCalls": "21"
                                },
                                {
                                    "city": "Port Saint Lucie",
                                    "NumberOfCityCalls": "21"
                                },
                                {
                                    "city": "Everett",
                                    "NumberOfCityCalls": "21"
                                },
                                {
                                    "city": "Danbury",
                                    "NumberOfCityCalls": "21"
                                },
                                {
                                    "city": "Visalia",
                                    "NumberOfCityCalls": "21"
                                },
                                {
                                    "city": "Suffolk",
                                    "NumberOfCityCalls": "21"
                                },
                                {
                                    "city": "Bonita Springs",
                                    "NumberOfCityCalls": "21"
                                },
                                {
                                    "city": "Garland",
                                    "NumberOfCityCalls": "21"
                                },
                                {
                                    "city": "Hattiesburg",
                                    "NumberOfCityCalls": "21"
                                },
                                {
                                    "city": "Round Rock",
                                    "NumberOfCityCalls": "21"
                                },
                                {
                                    "city": "Saint Joseph",
                                    "NumberOfCityCalls": "21"
                                },
                                {
                                    "city": "Sunnyvale",
                                    "NumberOfCityCalls": "21"
                                },
                                {
                                    "city": "Pinellas Park",
                                    "NumberOfCityCalls": "21"
                                },
                                {
                                    "city": "Appleton",
                                    "NumberOfCityCalls": "21"
                                },
                                {
                                    "city": "Galveston",
                                    "NumberOfCityCalls": "21"
                                },
                                {
                                    "city": "Ventura",
                                    "NumberOfCityCalls": "20"
                                },
                                {
                                    "city": "Plano",
                                    "NumberOfCityCalls": "20"
                                },
                                {
                                    "city": "Moreno Valley",
                                    "NumberOfCityCalls": "20"
                                },
                                {
                                    "city": "Prescott",
                                    "NumberOfCityCalls": "20"
                                },
                                {
                                    "city": "Newport Beach",
                                    "NumberOfCityCalls": "20"
                                },
                                {
                                    "city": "Hyattsville",
                                    "NumberOfCityCalls": "20"
                                },
                                {
                                    "city": "Pocatello",
                                    "NumberOfCityCalls": "20"
                                },
                                {
                                    "city": "Ashburn",
                                    "NumberOfCityCalls": "20"
                                },
                                {
                                    "city": "Palatine",
                                    "NumberOfCityCalls": "20"
                                },
                                {
                                    "city": "Cape Coral",
                                    "NumberOfCityCalls": "20"
                                },
                                {
                                    "city": "Loretto",
                                    "NumberOfCityCalls": "20"
                                },
                                {
                                    "city": "Independence",
                                    "NumberOfCityCalls": "20"
                                },
                                {
                                    "city": "Morgantown",
                                    "NumberOfCityCalls": "20"
                                },
                                {
                                    "city": "Lakewood",
                                    "NumberOfCityCalls": "20"
                                },
                                {
                                    "city": "Santa Rosa",
                                    "NumberOfCityCalls": "20"
                                },
                                {
                                    "city": "Tempe",
                                    "NumberOfCityCalls": "19"
                                },
                                {
                                    "city": "Schaumburg",
                                    "NumberOfCityCalls": "19"
                                },
                                {
                                    "city": "Beaufort",
                                    "NumberOfCityCalls": "19"
                                },
                                {
                                    "city": "North Port",
                                    "NumberOfCityCalls": "19"
                                },
                                {
                                    "city": "San Angelo",
                                    "NumberOfCityCalls": "19"
                                },
                                {
                                    "city": "Kent",
                                    "NumberOfCityCalls": "19"
                                },
                                {
                                    "city": "Muncie",
                                    "NumberOfCityCalls": "19"
                                },
                                {
                                    "city": "Woburn",
                                    "NumberOfCityCalls": "19"
                                },
                                {
                                    "city": "Johnson City",
                                    "NumberOfCityCalls": "19"
                                },
                                {
                                    "city": "Meridian",
                                    "NumberOfCityCalls": "19"
                                },
                                {
                                    "city": "Bowie",
                                    "NumberOfCityCalls": "19"
                                },
                                {
                                    "city": "Florence",
                                    "NumberOfCityCalls": "19"
                                },
                                {
                                    "city": "Grand Junction",
                                    "NumberOfCityCalls": "19"
                                },
                                {
                                    "city": "Biloxi",
                                    "NumberOfCityCalls": "19"
                                },
                                {
                                    "city": "Las Cruces",
                                    "NumberOfCityCalls": "18"
                                },
                                {
                                    "city": "Santa Clara",
                                    "NumberOfCityCalls": "18"
                                },
                                {
                                    "city": "Saint Augustine",
                                    "NumberOfCityCalls": "18"
                                },
                                {
                                    "city": "Salinas",
                                    "NumberOfCityCalls": "18"
                                },
                                {
                                    "city": "Waltham",
                                    "NumberOfCityCalls": "18"
                                },
                                {
                                    "city": "Camden",
                                    "NumberOfCityCalls": "18"
                                },
                                {
                                    "city": "Carlsbad",
                                    "NumberOfCityCalls": "18"
                                },
                                {
                                    "city": "Beaverton",
                                    "NumberOfCityCalls": "18"
                                },
                                {
                                    "city": "Winter Haven",
                                    "NumberOfCityCalls": "18"
                                },
                                {
                                    "city": "Miami Beach",
                                    "NumberOfCityCalls": "18"
                                },
                                {
                                    "city": "Racine",
                                    "NumberOfCityCalls": "18"
                                },
                                {
                                    "city": "Farmington",
                                    "NumberOfCityCalls": "18"
                                },
                                {
                                    "city": "Dulles",
                                    "NumberOfCityCalls": "18"
                                },
                                {
                                    "city": "Hicksville",
                                    "NumberOfCityCalls": "18"
                                },
                                {
                                    "city": "South Lake Tahoe",
                                    "NumberOfCityCalls": "18"
                                },
                                {
                                    "city": "Norman",
                                    "NumberOfCityCalls": "18"
                                },
                                {
                                    "city": "Mount Vernon",
                                    "NumberOfCityCalls": "17"
                                },
                                {
                                    "city": "Humble",
                                    "NumberOfCityCalls": "17"
                                },
                                {
                                    "city": "Aiken",
                                    "NumberOfCityCalls": "17"
                                },
                                {
                                    "city": "Manassas",
                                    "NumberOfCityCalls": "17"
                                },
                                {
                                    "city": "Jeffersonville",
                                    "NumberOfCityCalls": "17"
                                },
                                {
                                    "city": "Frankfort",
                                    "NumberOfCityCalls": "17"
                                },
                                {
                                    "city": "Bethlehem",
                                    "NumberOfCityCalls": "17"
                                },
                                {
                                    "city": "West Hartford",
                                    "NumberOfCityCalls": "17"
                                },
                                {
                                    "city": "Palmdale",
                                    "NumberOfCityCalls": "17"
                                },
                                {
                                    "city": "Juneau",
                                    "NumberOfCityCalls": "17"
                                },
                                {
                                    "city": "Missoula",
                                    "NumberOfCityCalls": "17"
                                },
                                {
                                    "city": "Gilbert",
                                    "NumberOfCityCalls": "17"
                                },
                                {
                                    "city": "Alpharetta",
                                    "NumberOfCityCalls": "17"
                                },
                                {
                                    "city": "Greeley",
                                    "NumberOfCityCalls": "17"
                                },
                                {
                                    "city": "Yakima",
                                    "NumberOfCityCalls": "17"
                                },
                                {
                                    "city": "Bozeman",
                                    "NumberOfCityCalls": "17"
                                },
                                {
                                    "city": "Santa Cruz",
                                    "NumberOfCityCalls": "16"
                                },
                                {
                                    "city": "Lima",
                                    "NumberOfCityCalls": "16"
                                },
                                {
                                    "city": "Gulfport",
                                    "NumberOfCityCalls": "16"
                                },
                                {
                                    "city": "Gaithersburg",
                                    "NumberOfCityCalls": "16"
                                },
                                {
                                    "city": "Troy",
                                    "NumberOfCityCalls": "16"
                                },
                                {
                                    "city": "Zephyrhills",
                                    "NumberOfCityCalls": "16"
                                },
                                {
                                    "city": "Hamilton",
                                    "NumberOfCityCalls": "16"
                                },
                                {
                                    "city": "Petaluma",
                                    "NumberOfCityCalls": "16"
                                },
                                {
                                    "city": "Concord",
                                    "NumberOfCityCalls": "16"
                                },
                                {
                                    "city": "Laredo",
                                    "NumberOfCityCalls": "16"
                                },
                                {
                                    "city": "Iowa City",
                                    "NumberOfCityCalls": "16"
                                },
                                {
                                    "city": "Muskegon",
                                    "NumberOfCityCalls": "16"
                                },
                                {
                                    "city": "Herndon",
                                    "NumberOfCityCalls": "16"
                                },
                                {
                                    "city": "Mc Keesport",
                                    "NumberOfCityCalls": "16"
                                },
                                {
                                    "city": "Fairfield",
                                    "NumberOfCityCalls": "16"
                                },
                                {
                                    "city": "Pomona",
                                    "NumberOfCityCalls": "16"
                                },
                                {
                                    "city": "Apache Junction",
                                    "NumberOfCityCalls": "16"
                                },
                                {
                                    "city": "Anniston",
                                    "NumberOfCityCalls": "16"
                                },
                                {
                                    "city": "York",
                                    "NumberOfCityCalls": "16"
                                },
                                {
                                    "city": "Levittown",
                                    "NumberOfCityCalls": "15"
                                },
                                {
                                    "city": "Dearborn",
                                    "NumberOfCityCalls": "15"
                                },
                                {
                                    "city": "Valley Forge",
                                    "NumberOfCityCalls": "15"
                                },
                                {
                                    "city": "Crawfordsville",
                                    "NumberOfCityCalls": "15"
                                },
                                {
                                    "city": "New Castle",
                                    "NumberOfCityCalls": "15"
                                },
                                {
                                    "city": "Longview",
                                    "NumberOfCityCalls": "15"
                                },
                                {
                                    "city": "Helena",
                                    "NumberOfCityCalls": "15"
                                },
                                {
                                    "city": "Boynton Beach",
                                    "NumberOfCityCalls": "15"
                                },
                                {
                                    "city": "New Bedford",
                                    "NumberOfCityCalls": "15"
                                },
                                {
                                    "city": "Allentown",
                                    "NumberOfCityCalls": "15"
                                },
                                {
                                    "city": "Gatesville",
                                    "NumberOfCityCalls": "15"
                                },
                                {
                                    "city": "Temple",
                                    "NumberOfCityCalls": "15"
                                },
                                {
                                    "city": "Merrifield",
                                    "NumberOfCityCalls": "15"
                                },
                                {
                                    "city": "Johnstown",
                                    "NumberOfCityCalls": "15"
                                },
                                {
                                    "city": "Southfield",
                                    "NumberOfCityCalls": "14"
                                },
                                {
                                    "city": "Evanston",
                                    "NumberOfCityCalls": "14"
                                },
                                {
                                    "city": "Palm Bay",
                                    "NumberOfCityCalls": "14"
                                },
                                {
                                    "city": "Sandy",
                                    "NumberOfCityCalls": "14"
                                },
                                {
                                    "city": "Waterloo",
                                    "NumberOfCityCalls": "14"
                                },
                                {
                                    "city": "Lees Summit",
                                    "NumberOfCityCalls": "14"
                                },
                                {
                                    "city": "Sterling",
                                    "NumberOfCityCalls": "14"
                                },
                                {
                                    "city": "Champaign",
                                    "NumberOfCityCalls": "14"
                                },
                                {
                                    "city": "Annapolis",
                                    "NumberOfCityCalls": "14"
                                },
                                {
                                    "city": "Simi Valley",
                                    "NumberOfCityCalls": "14"
                                },
                                {
                                    "city": "Hagerstown",
                                    "NumberOfCityCalls": "14"
                                },
                                {
                                    "city": "Rockville",
                                    "NumberOfCityCalls": "14"
                                },
                                {
                                    "city": "Hayward",
                                    "NumberOfCityCalls": "14"
                                },
                                {
                                    "city": "San Rafael",
                                    "NumberOfCityCalls": "14"
                                },
                                {
                                    "city": "Brooksville",
                                    "NumberOfCityCalls": "14"
                                },
                                {
                                    "city": "Katy",
                                    "NumberOfCityCalls": "14"
                                },
                                {
                                    "city": "Murfreesboro",
                                    "NumberOfCityCalls": "14"
                                },
                                {
                                    "city": "Watertown",
                                    "NumberOfCityCalls": "14"
                                },
                                {
                                    "city": "Falls Church",
                                    "NumberOfCityCalls": "14"
                                },
                                {
                                    "city": "Cumming",
                                    "NumberOfCityCalls": "14"
                                },
                                {
                                    "city": "Frederick",
                                    "NumberOfCityCalls": "14"
                                },
                                {
                                    "city": "New Hyde Park",
                                    "NumberOfCityCalls": "14"
                                },
                                {
                                    "city": "Gadsden",
                                    "NumberOfCityCalls": "14"
                                },
                                {
                                    "city": "Montpelier",
                                    "NumberOfCityCalls": "14"
                                },
                                {
                                    "city": "Fort Collins",
                                    "NumberOfCityCalls": "14"
                                },
                                {
                                    "city": "Lynn",
                                    "NumberOfCityCalls": "13"
                                },
                                {
                                    "city": "Chico",
                                    "NumberOfCityCalls": "13"
                                },
                                {
                                    "city": "Great Neck",
                                    "NumberOfCityCalls": "13"
                                },
                                {
                                    "city": "Port Charlotte",
                                    "NumberOfCityCalls": "13"
                                },
                                {
                                    "city": "Cambridge",
                                    "NumberOfCityCalls": "13"
                                },
                                {
                                    "city": "Gastonia",
                                    "NumberOfCityCalls": "13"
                                },
                                {
                                    "city": "Lehigh Acres",
                                    "NumberOfCityCalls": "13"
                                },
                                {
                                    "city": "Elizabeth",
                                    "NumberOfCityCalls": "13"
                                },
                                {
                                    "city": "Texarkana",
                                    "NumberOfCityCalls": "13"
                                },
                                {
                                    "city": "Battle Creek",
                                    "NumberOfCityCalls": "13"
                                },
                                {
                                    "city": "Arvada",
                                    "NumberOfCityCalls": "13"
                                },
                                {
                                    "city": "Ann Arbor",
                                    "NumberOfCityCalls": "12"
                                },
                                {
                                    "city": "High Point",
                                    "NumberOfCityCalls": "12"
                                },
                                {
                                    "city": "Oxnard",
                                    "NumberOfCityCalls": "12"
                                },
                                {
                                    "city": "Valdosta",
                                    "NumberOfCityCalls": "12"
                                },
                                {
                                    "city": "Chula Vista",
                                    "NumberOfCityCalls": "12"
                                },
                                {
                                    "city": "Utica",
                                    "NumberOfCityCalls": "12"
                                },
                                {
                                    "city": "Kissimmee",
                                    "NumberOfCityCalls": "12"
                                },
                                {
                                    "city": "Killeen",
                                    "NumberOfCityCalls": "12"
                                },
                                {
                                    "city": "Edmond",
                                    "NumberOfCityCalls": "11"
                                },
                                {
                                    "city": "Homestead",
                                    "NumberOfCityCalls": "11"
                                },
                                {
                                    "city": "Cheyenne",
                                    "NumberOfCityCalls": "11"
                                },
                                {
                                    "city": "Englewood",
                                    "NumberOfCityCalls": "11"
                                },
                                {
                                    "city": "Mesquite",
                                    "NumberOfCityCalls": "10"
                                },
                                {
                                    "city": "Migrate",
                                    "NumberOfCityCalls": "10"
                                },
                                {
                                    "city": "Myrtle Beach",
                                    "NumberOfCityCalls": "10"
                                },
                                {
                                    "city": "Ridgely",
                                    "NumberOfCityCalls": "9"
                                },
                                {
                                    "city": "Kingsport",
                                    "NumberOfCityCalls": "9"
                                },
                                {
                                    "city": "Yonkers",
                                    "NumberOfCityCalls": "7"
                                },
                                {
                                    "city": "Eugene",
                                    "NumberOfCityCalls": "7"
                                }
                            ]
                        },
                        "text/html": "<table><tr><th>city</th><th>NumberOfCityCalls</th></tr><tr><td>Washington</td><td>1110</td></tr><tr><td>Houston</td><td>657</td></tr><tr><td>New York City</td><td>564</td></tr><tr><td>El Paso</td><td>528</td></tr><tr><td>Dallas</td><td>437</td></tr><tr><td>Atlanta</td><td>416</td></tr><tr><td>Miami</td><td>374</td></tr><tr><td>Sacramento</td><td>341</td></tr><tr><td>Los Angeles</td><td>331</td></tr><tr><td>Kansas City</td><td>327</td></tr><tr><td>Chicago</td><td>327</td></tr><tr><td>Springfield</td><td>304</td></tr><tr><td>San Antonio</td><td>299</td></tr><tr><td>Austin</td><td>288</td></tr><tr><td>Phoenix</td><td>286</td></tr><tr><td>Pittsburgh</td><td>277</td></tr><tr><td>Oklahoma City</td><td>277</td></tr><tr><td>Birmingham</td><td>274</td></tr><tr><td>Richmond</td><td>273</td></tr><tr><td>Philadelphia</td><td>270</td></tr><tr><td>Cincinnati</td><td>269</td></tr><tr><td>Minneapolis</td><td>263</td></tr><tr><td>Denver</td><td>260</td></tr><tr><td>Las Vegas</td><td>260</td></tr><tr><td>San Diego</td><td>258</td></tr><tr><td>Charlotte</td><td>258</td></tr><tr><td>San Francisco</td><td>255</td></tr><tr><td>Memphis</td><td>250</td></tr><tr><td>Seattle</td><td>239</td></tr><tr><td>Saint Louis</td><td>237</td></tr><tr><td>Tulsa</td><td>232</td></tr><tr><td>New Orleans</td><td>231</td></tr><tr><td>Salt Lake City</td><td>223</td></tr><tr><td>Orlando</td><td>222</td></tr><tr><td>Indianapolis</td><td>222</td></tr><tr><td>Charleston</td><td>219</td></tr><tr><td>Des Moines</td><td>219</td></tr><tr><td>Portland</td><td>218</td></tr><tr><td>Tampa</td><td>217</td></tr><tr><td>Louisville</td><td>216</td></tr><tr><td>Columbus</td><td>214</td></tr><tr><td>Fresno</td><td>212</td></tr><tr><td>Boston</td><td>198</td></tr><tr><td>Jacksonville</td><td>196</td></tr><tr><td>Arlington</td><td>195</td></tr><tr><td>Detroit</td><td>193</td></tr><tr><td>Colorado Springs</td><td>191</td></tr><tr><td>Albany</td><td>187</td></tr><tr><td>Rochester</td><td>186</td></tr><tr><td>Fort Worth</td><td>186</td></tr><tr><td>Baltimore</td><td>182</td></tr><tr><td>Saint Paul</td><td>182</td></tr><tr><td>San Jose</td><td>181</td></tr><tr><td>Tucson</td><td>173</td></tr><tr><td>Roanoke</td><td>168</td></tr><tr><td>Dayton</td><td>165</td></tr><tr><td>Mobile</td><td>163</td></tr><tr><td>Albuquerque</td><td>162</td></tr><tr><td>Topeka</td><td>161</td></tr><tr><td>Fort Lauderdale</td><td>161</td></tr><tr><td>Nashville</td><td>161</td></tr><tr><td>Montgomery</td><td>160</td></tr><tr><td>Cleveland</td><td>152</td></tr><tr><td>Pasadena</td><td>151</td></tr><tr><td>Brooklyn</td><td>151</td></tr><tr><td>Amarillo</td><td>151</td></tr><tr><td>Omaha</td><td>150</td></tr><tr><td>Honolulu</td><td>149</td></tr><tr><td>Baton Rouge</td><td>147</td></tr><tr><td>Raleigh</td><td>146</td></tr><tr><td>Fort Wayne</td><td>146</td></tr><tr><td>Lexington</td><td>145</td></tr><tr><td>Milwaukee</td><td>145</td></tr><tr><td>Peoria</td><td>139</td></tr><tr><td>Boise</td><td>133</td></tr><tr><td>Buffalo</td><td>132</td></tr><tr><td>Jamaica</td><td>132</td></tr><tr><td>Huntington</td><td>128</td></tr><tr><td>Tacoma</td><td>128</td></tr><tr><td>Evansville</td><td>127</td></tr><tr><td>Wichita</td><td>126</td></tr><tr><td>Shawnee Mission</td><td>124</td></tr><tr><td>Saint Petersburg</td><td>124</td></tr><tr><td>Corpus Christi</td><td>124</td></tr><tr><td>Wilmington</td><td>121</td></tr><tr><td>Pensacola</td><td>120</td></tr><tr><td>Knoxville</td><td>120</td></tr><tr><td>Toledo</td><td>119</td></tr><tr><td>Madison</td><td>118</td></tr><tr><td>Shreveport</td><td>118</td></tr><tr><td>Columbia</td><td>115</td></tr><tr><td>Spokane</td><td>114</td></tr><tr><td>Hartford</td><td>114</td></tr><tr><td>Greensboro</td><td>112</td></tr><tr><td>Little Rock</td><td>110</td></tr><tr><td>Trenton</td><td>105</td></tr><tr><td>Akron</td><td>105</td></tr><tr><td>Newark</td><td>104</td></tr><tr><td>Jackson</td><td>104</td></tr><tr><td>Oakland</td><td>104</td></tr><tr><td>Erie</td><td>103</td></tr><tr><td>Clearwater</td><td>101</td></tr><tr><td>Bakersfield</td><td>99</td></tr><tr><td>Bronx</td><td>98</td></tr><tr><td>Huntsville</td><td>98</td></tr><tr><td>West Palm Beach</td><td>94</td></tr><tr><td>Sioux Falls</td><td>93</td></tr><tr><td>Lincoln</td><td>93</td></tr><tr><td>Anchorage</td><td>91</td></tr><tr><td>Long Beach</td><td>88</td></tr><tr><td>Reno</td><td>86</td></tr><tr><td>Syracuse</td><td>84</td></tr><tr><td>Lansing</td><td>83</td></tr><tr><td>New Haven</td><td>82</td></tr><tr><td>Alexandria</td><td>81</td></tr><tr><td>Naples</td><td>80</td></tr><tr><td>South Bend</td><td>80</td></tr><tr><td>Grand Rapids</td><td>79</td></tr><tr><td>Glendale</td><td>79</td></tr><tr><td>Harrisburg</td><td>79</td></tr><tr><td>Tallahassee</td><td>78</td></tr><tr><td>Winston Salem</td><td>77</td></tr><tr><td>Norfolk</td><td>73</td></tr><tr><td>Aurora</td><td>73</td></tr><tr><td>Chattanooga</td><td>73</td></tr><tr><td>Savannah</td><td>71</td></tr><tr><td>Lubbock</td><td>71</td></tr><tr><td>Stockton</td><td>70</td></tr><tr><td>Irvine</td><td>70</td></tr><tr><td>San Bernardino</td><td>70</td></tr><tr><td>Durham</td><td>68</td></tr><tr><td>Gainesville</td><td>67</td></tr><tr><td>Mesa</td><td>66</td></tr><tr><td>Young America</td><td>65</td></tr><tr><td>Orange</td><td>65</td></tr><tr><td>Inglewood</td><td>64</td></tr><tr><td>Augusta</td><td>64</td></tr><tr><td>Macon</td><td>63</td></tr><tr><td>Virginia Beach</td><td>63</td></tr><tr><td>Duluth</td><td>62</td></tr><tr><td>Van Nuys</td><td>61</td></tr><tr><td>Pueblo</td><td>61</td></tr><tr><td>Tyler</td><td>61</td></tr><tr><td>Flint</td><td>61</td></tr><tr><td>Scottsdale</td><td>61</td></tr><tr><td>Wilkes Barre</td><td>60</td></tr><tr><td>Paterson</td><td>60</td></tr><tr><td>Monticello</td><td>57</td></tr><tr><td>Riverside</td><td>57</td></tr><tr><td>Youngstown</td><td>56</td></tr><tr><td>Midland</td><td>55</td></tr><tr><td>Daytona Beach</td><td>55</td></tr><tr><td>Boulder</td><td>55</td></tr><tr><td>Santa Barbara</td><td>54</td></tr><tr><td>Lancaster</td><td>54</td></tr><tr><td>Boca Raton</td><td>53</td></tr><tr><td>Sarasota</td><td>53</td></tr><tr><td>Waco</td><td>53</td></tr><tr><td>Silver Spring</td><td>53</td></tr><tr><td>Canton</td><td>52</td></tr><tr><td>Fort Myers</td><td>52</td></tr><tr><td>Bradenton</td><td>52</td></tr><tr><td>Anaheim</td><td>52</td></tr><tr><td>Waterbury</td><td>51</td></tr><tr><td>Stamford</td><td>51</td></tr><tr><td>Decatur</td><td>51</td></tr><tr><td>Worcester</td><td>49</td></tr><tr><td>Davenport</td><td>48</td></tr><tr><td>Littleton</td><td>47</td></tr><tr><td>Lake Worth</td><td>47</td></tr><tr><td>Irving</td><td>45</td></tr><tr><td>Portsmouth</td><td>45</td></tr><tr><td>Berkeley</td><td>45</td></tr><tr><td>Billings</td><td>45</td></tr><tr><td>Rockford</td><td>44</td></tr><tr><td>White Plains</td><td>44</td></tr><tr><td>Saint Cloud</td><td>43</td></tr><tr><td>Lawrenceville</td><td>43</td></tr><tr><td>Corona</td><td>42</td></tr><tr><td>Vero Beach</td><td>42</td></tr><tr><td>Odessa</td><td>42</td></tr><tr><td>Vancouver</td><td>42</td></tr><tr><td>Jefferson City</td><td>41</td></tr><tr><td>Schenectady</td><td>41</td></tr><tr><td>Wichita Falls</td><td>41</td></tr><tr><td>Green Bay</td><td>40</td></tr><tr><td>Spartanburg</td><td>40</td></tr><tr><td>Newport News</td><td>40</td></tr><tr><td>Pompano Beach</td><td>40</td></tr><tr><td>Lakeland</td><td>40</td></tr><tr><td>Cedar Rapids</td><td>40</td></tr><tr><td>Staten Island</td><td>39</td></tr><tr><td>Reading</td><td>39</td></tr><tr><td>Beaumont</td><td>39</td></tr><tr><td>Anderson</td><td>38</td></tr><tr><td>Fairbanks</td><td>38</td></tr><tr><td>Bethesda</td><td>38</td></tr><tr><td>Olympia</td><td>38</td></tr><tr><td>Flushing</td><td>38</td></tr><tr><td>Ocala</td><td>38</td></tr><tr><td>Lafayette</td><td>38</td></tr><tr><td>Hollywood</td><td>38</td></tr><tr><td>Burbank</td><td>37</td></tr><tr><td>Terre Haute</td><td>37</td></tr><tr><td>Greenville</td><td>36</td></tr><tr><td>North Little Rock</td><td>36</td></tr><tr><td>Carol Stream</td><td>36</td></tr><tr><td>Santa Ana</td><td>36</td></tr><tr><td>Garden Grove</td><td>36</td></tr><tr><td>Largo</td><td>36</td></tr><tr><td>Newton</td><td>35</td></tr><tr><td>Ogden</td><td>35</td></tr><tr><td>Providence</td><td>35</td></tr><tr><td>Fort Smith</td><td>35</td></tr><tr><td>Brockton</td><td>35</td></tr><tr><td>Carson City</td><td>34</td></tr><tr><td>Salem</td><td>34</td></tr><tr><td>Modesto</td><td>34</td></tr><tr><td>Maple Plain</td><td>34</td></tr><tr><td>Spring</td><td>33</td></tr><tr><td>Lake Charles</td><td>33</td></tr><tr><td>Saginaw</td><td>33</td></tr><tr><td>Bloomington</td><td>33</td></tr><tr><td>Abilene</td><td>33</td></tr><tr><td>North Hollywood</td><td>33</td></tr><tr><td>Monroe</td><td>32</td></tr><tr><td>Bridgeport</td><td>32</td></tr><tr><td>Fargo</td><td>32</td></tr><tr><td>Santa Fe</td><td>32</td></tr><tr><td>Melbourne</td><td>31</td></tr><tr><td>Jersey City</td><td>31</td></tr><tr><td>Denton</td><td>31</td></tr><tr><td>Fort Pierce</td><td>31</td></tr><tr><td>Tuscaloosa</td><td>31</td></tr><tr><td>Lynchburg</td><td>31</td></tr><tr><td>Torrance</td><td>31</td></tr><tr><td>Alhambra</td><td>31</td></tr><tr><td>Charlottesville</td><td>30</td></tr><tr><td>Reston</td><td>29</td></tr><tr><td>Scranton</td><td>29</td></tr><tr><td>Hialeah</td><td>29</td></tr><tr><td>Fullerton</td><td>29</td></tr><tr><td>North Las Vegas</td><td>29</td></tr><tr><td>Sioux City</td><td>29</td></tr><tr><td>Asheville</td><td>28</td></tr><tr><td>Henderson</td><td>28</td></tr><tr><td>Kalamazoo</td><td>28</td></tr><tr><td>Hampton</td><td>28</td></tr><tr><td>Huntington Beach</td><td>28</td></tr><tr><td>Panama City</td><td>28</td></tr><tr><td>Warren</td><td>27</td></tr><tr><td>East Saint Louis</td><td>27</td></tr><tr><td>Marietta</td><td>26</td></tr><tr><td>Provo</td><td>26</td></tr><tr><td>Metairie</td><td>26</td></tr><tr><td>Fairfax</td><td>26</td></tr><tr><td>Santa Monica</td><td>26</td></tr><tr><td>Bellevue</td><td>25</td></tr><tr><td>Athens</td><td>25</td></tr><tr><td>San Luis Obispo</td><td>25</td></tr><tr><td>Norcross</td><td>25</td></tr><tr><td>Mountain View</td><td>24</td></tr><tr><td>Mansfield</td><td>24</td></tr><tr><td>Northridge</td><td>24</td></tr><tr><td>Norwalk</td><td>24</td></tr><tr><td>Delray Beach</td><td>24</td></tr><tr><td>Conroe</td><td>24</td></tr><tr><td>Vienna</td><td>24</td></tr><tr><td>Elmira</td><td>24</td></tr><tr><td>Joliet</td><td>24</td></tr><tr><td>San Mateo</td><td>23</td></tr><tr><td>Spring Hill</td><td>23</td></tr><tr><td>Fredericksburg</td><td>23</td></tr><tr><td>Chesapeake</td><td>23</td></tr><tr><td>Hot Springs National Park</td><td>23</td></tr><tr><td>Whittier</td><td>23</td></tr><tr><td>Fayetteville</td><td>23</td></tr><tr><td>Chandler</td><td>23</td></tr><tr><td>Brea</td><td>23</td></tr><tr><td>College Station</td><td>23</td></tr><tr><td>Gary</td><td>23</td></tr><tr><td>London</td><td>23</td></tr><tr><td>Naperville</td><td>22</td></tr><tr><td>Bryan</td><td>22</td></tr><tr><td>Palo Alto</td><td>22</td></tr><tr><td>Oceanside</td><td>22</td></tr><tr><td>Escondido</td><td>22</td></tr><tr><td>Punta Gorda</td><td>22</td></tr><tr><td>Redwood City</td><td>22</td></tr><tr><td>Sparks</td><td>22</td></tr><tr><td>Grand Forks</td><td>22</td></tr><tr><td>Bismarck</td><td>22</td></tr><tr><td>Manchester</td><td>22</td></tr><tr><td>Laurel</td><td>22</td></tr><tr><td>Seminole</td><td>22</td></tr><tr><td>Port Washington</td><td>21</td></tr><tr><td>Idaho Falls</td><td>21</td></tr><tr><td>New Brunswick</td><td>21</td></tr><tr><td>Port Saint Lucie</td><td>21</td></tr><tr><td>Everett</td><td>21</td></tr><tr><td>Danbury</td><td>21</td></tr><tr><td>Visalia</td><td>21</td></tr><tr><td>Suffolk</td><td>21</td></tr><tr><td>Bonita Springs</td><td>21</td></tr><tr><td>Garland</td><td>21</td></tr><tr><td>Hattiesburg</td><td>21</td></tr><tr><td>Round Rock</td><td>21</td></tr><tr><td>Saint Joseph</td><td>21</td></tr><tr><td>Sunnyvale</td><td>21</td></tr><tr><td>Pinellas Park</td><td>21</td></tr><tr><td>Appleton</td><td>21</td></tr><tr><td>Galveston</td><td>21</td></tr><tr><td>Ventura</td><td>20</td></tr><tr><td>Plano</td><td>20</td></tr><tr><td>Moreno Valley</td><td>20</td></tr><tr><td>Prescott</td><td>20</td></tr><tr><td>Newport Beach</td><td>20</td></tr><tr><td>Hyattsville</td><td>20</td></tr><tr><td>Pocatello</td><td>20</td></tr><tr><td>Ashburn</td><td>20</td></tr><tr><td>Palatine</td><td>20</td></tr><tr><td>Cape Coral</td><td>20</td></tr><tr><td>Loretto</td><td>20</td></tr><tr><td>Independence</td><td>20</td></tr><tr><td>Morgantown</td><td>20</td></tr><tr><td>Lakewood</td><td>20</td></tr><tr><td>Santa Rosa</td><td>20</td></tr><tr><td>Tempe</td><td>19</td></tr><tr><td>Schaumburg</td><td>19</td></tr><tr><td>Beaufort</td><td>19</td></tr><tr><td>North Port</td><td>19</td></tr><tr><td>San Angelo</td><td>19</td></tr><tr><td>Kent</td><td>19</td></tr><tr><td>Muncie</td><td>19</td></tr><tr><td>Woburn</td><td>19</td></tr><tr><td>Johnson City</td><td>19</td></tr><tr><td>Meridian</td><td>19</td></tr><tr><td>Bowie</td><td>19</td></tr><tr><td>Florence</td><td>19</td></tr><tr><td>Grand Junction</td><td>19</td></tr><tr><td>Biloxi</td><td>19</td></tr><tr><td>Las Cruces</td><td>18</td></tr><tr><td>Santa Clara</td><td>18</td></tr><tr><td>Saint Augustine</td><td>18</td></tr><tr><td>Salinas</td><td>18</td></tr><tr><td>Waltham</td><td>18</td></tr><tr><td>Camden</td><td>18</td></tr><tr><td>Carlsbad</td><td>18</td></tr><tr><td>Beaverton</td><td>18</td></tr><tr><td>Winter Haven</td><td>18</td></tr><tr><td>Miami Beach</td><td>18</td></tr><tr><td>Racine</td><td>18</td></tr><tr><td>Farmington</td><td>18</td></tr><tr><td>Dulles</td><td>18</td></tr><tr><td>Hicksville</td><td>18</td></tr><tr><td>South Lake Tahoe</td><td>18</td></tr><tr><td>Norman</td><td>18</td></tr><tr><td>Mount Vernon</td><td>17</td></tr><tr><td>Humble</td><td>17</td></tr><tr><td>Aiken</td><td>17</td></tr><tr><td>Manassas</td><td>17</td></tr><tr><td>Jeffersonville</td><td>17</td></tr><tr><td>Frankfort</td><td>17</td></tr><tr><td>Bethlehem</td><td>17</td></tr><tr><td>West Hartford</td><td>17</td></tr><tr><td>Palmdale</td><td>17</td></tr><tr><td>Juneau</td><td>17</td></tr><tr><td>Missoula</td><td>17</td></tr><tr><td>Gilbert</td><td>17</td></tr><tr><td>Alpharetta</td><td>17</td></tr><tr><td>Greeley</td><td>17</td></tr><tr><td>Yakima</td><td>17</td></tr><tr><td>Bozeman</td><td>17</td></tr><tr><td>Santa Cruz</td><td>16</td></tr><tr><td>Lima</td><td>16</td></tr><tr><td>Gulfport</td><td>16</td></tr><tr><td>Gaithersburg</td><td>16</td></tr><tr><td>Troy</td><td>16</td></tr><tr><td>Zephyrhills</td><td>16</td></tr><tr><td>Hamilton</td><td>16</td></tr><tr><td>Petaluma</td><td>16</td></tr><tr><td>Concord</td><td>16</td></tr><tr><td>Laredo</td><td>16</td></tr><tr><td>Iowa City</td><td>16</td></tr><tr><td>Muskegon</td><td>16</td></tr><tr><td>Herndon</td><td>16</td></tr><tr><td>Mc Keesport</td><td>16</td></tr><tr><td>Fairfield</td><td>16</td></tr><tr><td>Pomona</td><td>16</td></tr><tr><td>Apache Junction</td><td>16</td></tr><tr><td>Anniston</td><td>16</td></tr><tr><td>York</td><td>16</td></tr><tr><td>Levittown</td><td>15</td></tr><tr><td>Dearborn</td><td>15</td></tr><tr><td>Valley Forge</td><td>15</td></tr><tr><td>Crawfordsville</td><td>15</td></tr><tr><td>New Castle</td><td>15</td></tr><tr><td>Longview</td><td>15</td></tr><tr><td>Helena</td><td>15</td></tr><tr><td>Boynton Beach</td><td>15</td></tr><tr><td>New Bedford</td><td>15</td></tr><tr><td>Allentown</td><td>15</td></tr><tr><td>Gatesville</td><td>15</td></tr><tr><td>Temple</td><td>15</td></tr><tr><td>Merrifield</td><td>15</td></tr><tr><td>Johnstown</td><td>15</td></tr><tr><td>Southfield</td><td>14</td></tr><tr><td>Evanston</td><td>14</td></tr><tr><td>Palm Bay</td><td>14</td></tr><tr><td>Sandy</td><td>14</td></tr><tr><td>Waterloo</td><td>14</td></tr><tr><td>Lees Summit</td><td>14</td></tr><tr><td>Sterling</td><td>14</td></tr><tr><td>Champaign</td><td>14</td></tr><tr><td>Annapolis</td><td>14</td></tr><tr><td>Simi Valley</td><td>14</td></tr><tr><td>Hagerstown</td><td>14</td></tr><tr><td>Rockville</td><td>14</td></tr><tr><td>Hayward</td><td>14</td></tr><tr><td>San Rafael</td><td>14</td></tr><tr><td>Brooksville</td><td>14</td></tr><tr><td>Katy</td><td>14</td></tr><tr><td>Murfreesboro</td><td>14</td></tr><tr><td>Watertown</td><td>14</td></tr><tr><td>Falls Church</td><td>14</td></tr><tr><td>Cumming</td><td>14</td></tr><tr><td>Frederick</td><td>14</td></tr><tr><td>New Hyde Park</td><td>14</td></tr><tr><td>Gadsden</td><td>14</td></tr><tr><td>Montpelier</td><td>14</td></tr><tr><td>Fort Collins</td><td>14</td></tr><tr><td>Lynn</td><td>13</td></tr><tr><td>Chico</td><td>13</td></tr><tr><td>Great Neck</td><td>13</td></tr><tr><td>Port Charlotte</td><td>13</td></tr><tr><td>Cambridge</td><td>13</td></tr><tr><td>Gastonia</td><td>13</td></tr><tr><td>Lehigh Acres</td><td>13</td></tr><tr><td>Elizabeth</td><td>13</td></tr><tr><td>Texarkana</td><td>13</td></tr><tr><td>Battle Creek</td><td>13</td></tr><tr><td>Arvada</td><td>13</td></tr><tr><td>Ann Arbor</td><td>12</td></tr><tr><td>High Point</td><td>12</td></tr><tr><td>Oxnard</td><td>12</td></tr><tr><td>Valdosta</td><td>12</td></tr><tr><td>Chula Vista</td><td>12</td></tr><tr><td>Utica</td><td>12</td></tr><tr><td>Kissimmee</td><td>12</td></tr><tr><td>Killeen</td><td>12</td></tr><tr><td>Edmond</td><td>11</td></tr><tr><td>Homestead</td><td>11</td></tr><tr><td>Cheyenne</td><td>11</td></tr><tr><td>Englewood</td><td>11</td></tr><tr><td>Mesquite</td><td>10</td></tr><tr><td>Migrate</td><td>10</td></tr><tr><td>Myrtle Beach</td><td>10</td></tr><tr><td>Ridgely</td><td>9</td></tr><tr><td>Kingsport</td><td>9</td></tr><tr><td>Yonkers</td><td>7</td></tr><tr><td>Eugene</td><td>7</td></tr></table>"
                    },
                    "metadata": {}
                }
            ],
            "execution_count": 59
        },
        {
            "cell_type": "code",
            "source": [
                "-- Columns DataTypes\r\n",
                "DECLARE @TableName NVARCHAR(128) = 'CallCenter';\r\n",
                "\r\n",
                "SELECT \r\n",
                "    COLUMN_NAME,\r\n",
                "    DATA_TYPE\r\n",
                "FROM \r\n",
                "    INFORMATION_SCHEMA.COLUMNS\r\n",
                "WHERE \r\n",
                "    TABLE_NAME = @TableName;\r\n",
                ""
            ],
            "metadata": {
                "azdata_cell_guid": "f2958ed5-d1a6-41c0-932c-b9f8e594caae",
                "language": "sql"
            },
            "outputs": [
                {
                    "output_type": "display_data",
                    "data": {
                        "text/html": "(12 rows affected)"
                    },
                    "metadata": {}
                },
                {
                    "output_type": "display_data",
                    "data": {
                        "text/html": "Total execution time: 00:00:00.034"
                    },
                    "metadata": {}
                },
                {
                    "output_type": "execute_result",
                    "execution_count": 60,
                    "data": {
                        "application/vnd.dataresource+json": {
                            "schema": {
                                "fields": [
                                    {
                                        "name": "COLUMN_NAME"
                                    },
                                    {
                                        "name": "DATA_TYPE"
                                    }
                                ]
                            },
                            "data": [
                                {
                                    "COLUMN_NAME": "id",
                                    "DATA_TYPE": "nvarchar"
                                },
                                {
                                    "COLUMN_NAME": "customer_name",
                                    "DATA_TYPE": "nvarchar"
                                },
                                {
                                    "COLUMN_NAME": "sentiment",
                                    "DATA_TYPE": "nvarchar"
                                },
                                {
                                    "COLUMN_NAME": "csat_score",
                                    "DATA_TYPE": "tinyint"
                                },
                                {
                                    "COLUMN_NAME": "call_timestamp",
                                    "DATA_TYPE": "date"
                                },
                                {
                                    "COLUMN_NAME": "reason",
                                    "DATA_TYPE": "nvarchar"
                                },
                                {
                                    "COLUMN_NAME": "city",
                                    "DATA_TYPE": "nvarchar"
                                },
                                {
                                    "COLUMN_NAME": "state",
                                    "DATA_TYPE": "nvarchar"
                                },
                                {
                                    "COLUMN_NAME": "channel",
                                    "DATA_TYPE": "nvarchar"
                                },
                                {
                                    "COLUMN_NAME": "response_time",
                                    "DATA_TYPE": "nvarchar"
                                },
                                {
                                    "COLUMN_NAME": "call_duration_in_minutes",
                                    "DATA_TYPE": "tinyint"
                                },
                                {
                                    "COLUMN_NAME": "call_center",
                                    "DATA_TYPE": "nvarchar"
                                }
                            ]
                        },
                        "text/html": "<table><tr><th>COLUMN_NAME</th><th>DATA_TYPE</th></tr><tr><td>id</td><td>nvarchar</td></tr><tr><td>customer_name</td><td>nvarchar</td></tr><tr><td>sentiment</td><td>nvarchar</td></tr><tr><td>csat_score</td><td>tinyint</td></tr><tr><td>call_timestamp</td><td>date</td></tr><tr><td>reason</td><td>nvarchar</td></tr><tr><td>city</td><td>nvarchar</td></tr><tr><td>state</td><td>nvarchar</td></tr><tr><td>channel</td><td>nvarchar</td></tr><tr><td>response_time</td><td>nvarchar</td></tr><tr><td>call_duration_in_minutes</td><td>tinyint</td></tr><tr><td>call_center</td><td>nvarchar</td></tr></table>"
                    },
                    "metadata": {}
                }
            ],
            "execution_count": 60
        },
        {
            "cell_type": "code",
            "source": [
                "select channel, count(channel) as 'Number of Calls'\r\n",
                "from CallCenter\r\n",
                "group by channel\r\n",
                "order by 2"
            ],
            "metadata": {
                "azdata_cell_guid": "fa9461f2-bdd9-4ba8-bcfd-bd9bacdda269",
                "language": "sql"
            },
            "outputs": [
                {
                    "output_type": "display_data",
                    "data": {
                        "text/html": "(4 rows affected)"
                    },
                    "metadata": {}
                },
                {
                    "output_type": "display_data",
                    "data": {
                        "text/html": "Total execution time: 00:00:00.101"
                    },
                    "metadata": {}
                },
                {
                    "output_type": "execute_result",
                    "execution_count": 61,
                    "data": {
                        "application/vnd.dataresource+json": {
                            "schema": {
                                "fields": [
                                    {
                                        "name": "channel"
                                    },
                                    {
                                        "name": "Number of Calls"
                                    }
                                ]
                            },
                            "data": [
                                {
                                    "channel": "Web",
                                    "Number of Calls": "6576"
                                },
                                {
                                    "channel": "Email",
                                    "Number of Calls": "7470"
                                },
                                {
                                    "channel": "Chatbot",
                                    "Number of Calls": "8256"
                                },
                                {
                                    "channel": "Call-Center",
                                    "Number of Calls": "10639"
                                }
                            ]
                        },
                        "text/html": "<table><tr><th>channel</th><th>Number of Calls</th></tr><tr><td>Web</td><td>6576</td></tr><tr><td>Email</td><td>7470</td></tr><tr><td>Chatbot</td><td>8256</td></tr><tr><td>Call-Center</td><td>10639</td></tr></table>"
                    },
                    "metadata": {}
                }
            ],
            "execution_count": 61
        },
        {
            "cell_type": "code",
            "source": [
                "select call_center, count(call_center) as 'Number of Customers called the Center'\r\n",
                "from CallCenter\r\n",
                "group by call_center\r\n",
                "order by 2 desc"
            ],
            "metadata": {
                "language": "sql",
                "azdata_cell_guid": "ebc490dc-3c51-4513-a80c-421339251e98"
            },
            "outputs": [
                {
                    "output_type": "display_data",
                    "data": {
                        "text/html": "(4 rows affected)"
                    },
                    "metadata": {}
                },
                {
                    "output_type": "display_data",
                    "data": {
                        "text/html": "Total execution time: 00:00:00.098"
                    },
                    "metadata": {}
                },
                {
                    "output_type": "execute_result",
                    "execution_count": 62,
                    "data": {
                        "application/vnd.dataresource+json": {
                            "schema": {
                                "fields": [
                                    {
                                        "name": "call_center"
                                    },
                                    {
                                        "name": "Number of Customers called the Center"
                                    }
                                ]
                            },
                            "data": [
                                {
                                    "call_center": "Los Angeles/CA",
                                    "Number of Customers called the Center": "13734"
                                },
                                {
                                    "call_center": "Baltimore/MD",
                                    "Number of Customers called the Center": "11012"
                                },
                                {
                                    "call_center": "Chicago/IL",
                                    "Number of Customers called the Center": "5419"
                                },
                                {
                                    "call_center": "Denver/CO",
                                    "Number of Customers called the Center": "2776"
                                }
                            ]
                        },
                        "text/html": "<table><tr><th>call_center</th><th>Number of Customers called the Center</th></tr><tr><td>Los Angeles/CA</td><td>13734</td></tr><tr><td>Baltimore/MD</td><td>11012</td></tr><tr><td>Chicago/IL</td><td>5419</td></tr><tr><td>Denver/CO</td><td>2776</td></tr></table>"
                    },
                    "metadata": {}
                }
            ],
            "execution_count": 62
        },
        {
            "cell_type": "code",
            "source": [
                "select count(id) as 'Number of Customers called the Center' from CallCenter\r\n",
                "\r\n",
                "/*\r\n",
                "there is no duplicated in id column\r\n",
                "*/"
            ],
            "metadata": {
                "azdata_cell_guid": "e571e0c4-77de-444f-95e8-8afd920f409d",
                "language": "sql"
            },
            "outputs": [
                {
                    "output_type": "display_data",
                    "data": {
                        "text/html": "(1 row affected)"
                    },
                    "metadata": {}
                },
                {
                    "output_type": "display_data",
                    "data": {
                        "text/html": "Total execution time: 00:00:00.011"
                    },
                    "metadata": {}
                },
                {
                    "output_type": "execute_result",
                    "execution_count": 63,
                    "data": {
                        "application/vnd.dataresource+json": {
                            "schema": {
                                "fields": [
                                    {
                                        "name": "Number of Customers called the Center"
                                    }
                                ]
                            },
                            "data": [
                                {
                                    "Number of Customers called the Center": "32941"
                                }
                            ]
                        },
                        "text/html": "<table><tr><th>Number of Customers called the Center</th></tr><tr><td>32941</td></tr></table>"
                    },
                    "metadata": {}
                }
            ],
            "execution_count": 63
        },
        {
            "cell_type": "code",
            "source": [
                "select (cs.reason) as 'Reason', count(cs.reason) as 'Number Of Calls'\r\n",
                "from CallCenter cs\r\n",
                "GROUP by reason\r\n",
                "order by 2 desc"
            ],
            "metadata": {
                "language": "sql",
                "azdata_cell_guid": "7e26e855-f26c-4ba4-8403-a9eaa62a7662"
            },
            "outputs": [
                {
                    "output_type": "display_data",
                    "data": {
                        "text/html": "(3 rows affected)"
                    },
                    "metadata": {}
                },
                {
                    "output_type": "display_data",
                    "data": {
                        "text/html": "Total execution time: 00:00:00.102"
                    },
                    "metadata": {}
                },
                {
                    "output_type": "execute_result",
                    "execution_count": 64,
                    "data": {
                        "application/vnd.dataresource+json": {
                            "schema": {
                                "fields": [
                                    {
                                        "name": "Reason"
                                    },
                                    {
                                        "name": "Number Of Calls"
                                    }
                                ]
                            },
                            "data": [
                                {
                                    "Reason": "Billing Question",
                                    "Number Of Calls": "23462"
                                },
                                {
                                    "Reason": "Payments",
                                    "Number Of Calls": "4749"
                                },
                                {
                                    "Reason": "Service Outage",
                                    "Number Of Calls": "4730"
                                }
                            ]
                        },
                        "text/html": "<table><tr><th>Reason</th><th>Number Of Calls</th></tr><tr><td>Billing Question</td><td>23462</td></tr><tr><td>Payments</td><td>4749</td></tr><tr><td>Service Outage</td><td>4730</td></tr></table>"
                    },
                    "metadata": {}
                }
            ],
            "execution_count": 64
        },
        {
            "cell_type": "code",
            "source": [
                "select (cs.sentiment), COUNT(cs.sentiment) as  'Number Of Calls'\r\n",
                "from CallCenter cs\r\n",
                "group by cs.sentiment\r\n",
                "order by 2"
            ],
            "metadata": {
                "language": "sql",
                "azdata_cell_guid": "93a243af-ee59-4431-a69b-34fcd32b2826",
                "tags": []
            },
            "outputs": [
                {
                    "output_type": "display_data",
                    "data": {
                        "text/html": "(5 rows affected)"
                    },
                    "metadata": {}
                },
                {
                    "output_type": "display_data",
                    "data": {
                        "text/html": "Total execution time: 00:00:00.106"
                    },
                    "metadata": {}
                },
                {
                    "output_type": "execute_result",
                    "execution_count": 65,
                    "data": {
                        "application/vnd.dataresource+json": {
                            "schema": {
                                "fields": [
                                    {
                                        "name": "sentiment"
                                    },
                                    {
                                        "name": "Number Of Calls"
                                    }
                                ]
                            },
                            "data": [
                                {
                                    "sentiment": "Very Positive",
                                    "Number Of Calls": "3170"
                                },
                                {
                                    "sentiment": "Positive",
                                    "Number Of Calls": "3928"
                                },
                                {
                                    "sentiment": "Very Negative",
                                    "Number Of Calls": "6026"
                                },
                                {
                                    "sentiment": "Neutral",
                                    "Number Of Calls": "8754"
                                },
                                {
                                    "sentiment": "Negative",
                                    "Number Of Calls": "11063"
                                }
                            ]
                        },
                        "text/html": "<table><tr><th>sentiment</th><th>Number Of Calls</th></tr><tr><td>Very Positive</td><td>3170</td></tr><tr><td>Positive</td><td>3928</td></tr><tr><td>Very Negative</td><td>6026</td></tr><tr><td>Neutral</td><td>8754</td></tr><tr><td>Negative</td><td>11063</td></tr></table>"
                    },
                    "metadata": {}
                }
            ],
            "execution_count": 65
        },
        {
            "cell_type": "code",
            "source": [
                "select top 1 * from CallCenter"
            ],
            "metadata": {
                "language": "sql",
                "azdata_cell_guid": "94b61209-6aed-4dab-ad44-a034336e1628"
            },
            "outputs": [
                {
                    "output_type": "display_data",
                    "data": {
                        "text/html": "(1 row affected)"
                    },
                    "metadata": {}
                },
                {
                    "output_type": "display_data",
                    "data": {
                        "text/html": "Total execution time: 00:00:00.004"
                    },
                    "metadata": {}
                },
                {
                    "output_type": "execute_result",
                    "execution_count": 66,
                    "data": {
                        "application/vnd.dataresource+json": {
                            "schema": {
                                "fields": [
                                    {
                                        "name": "id"
                                    },
                                    {
                                        "name": "customer_name"
                                    },
                                    {
                                        "name": "sentiment"
                                    },
                                    {
                                        "name": "csat_score"
                                    },
                                    {
                                        "name": "call_timestamp"
                                    },
                                    {
                                        "name": "reason"
                                    },
                                    {
                                        "name": "city"
                                    },
                                    {
                                        "name": "state"
                                    },
                                    {
                                        "name": "channel"
                                    },
                                    {
                                        "name": "response_time"
                                    },
                                    {
                                        "name": "call_duration_in_minutes"
                                    },
                                    {
                                        "name": "call_center"
                                    }
                                ]
                            },
                            "data": [
                                {
                                    "id": "DKK-57076809-w-055481-fU",
                                    "customer_name": "Analise Gairdner",
                                    "sentiment": "Neutral",
                                    "csat_score": "7",
                                    "call_timestamp": "2020-10-29",
                                    "reason": "Billing Question",
                                    "city": "Detroit",
                                    "state": "Michigan",
                                    "channel": "Call-Center",
                                    "response_time": "Within SLA",
                                    "call_duration_in_minutes": "17",
                                    "call_center": "Los Angeles/CA"
                                }
                            ]
                        },
                        "text/html": "<table><tr><th>id</th><th>customer_name</th><th>sentiment</th><th>csat_score</th><th>call_timestamp</th><th>reason</th><th>city</th><th>state</th><th>channel</th><th>response_time</th><th>call_duration_in_minutes</th><th>call_center</th></tr><tr><td>DKK-57076809-w-055481-fU</td><td>Analise Gairdner</td><td>Neutral</td><td>7</td><td>2020-10-29</td><td>Billing Question</td><td>Detroit</td><td>Michigan</td><td>Call-Center</td><td>Within SLA</td><td>17</td><td>Los Angeles/CA</td></tr></table>"
                    },
                    "metadata": {}
                }
            ],
            "execution_count": 66
        },
        {
            "cell_type": "code",
            "source": [
                "select top 10(cs.city), COUNT(cs.city) as  'Number Of Calls'\r\n",
                "from CallCenter cs\r\n",
                "group by cs.city\r\n",
                "order by 2 DESC"
            ],
            "metadata": {
                "language": "sql",
                "azdata_cell_guid": "4aef788f-8c76-4182-a9ca-494e50b3f4e4",
                "tags": []
            },
            "outputs": [
                {
                    "output_type": "display_data",
                    "data": {
                        "text/html": "(10 rows affected)"
                    },
                    "metadata": {}
                },
                {
                    "output_type": "display_data",
                    "data": {
                        "text/html": "Total execution time: 00:00:00.029"
                    },
                    "metadata": {}
                },
                {
                    "output_type": "execute_result",
                    "execution_count": 67,
                    "data": {
                        "application/vnd.dataresource+json": {
                            "schema": {
                                "fields": [
                                    {
                                        "name": "city"
                                    },
                                    {
                                        "name": "Number Of Calls"
                                    }
                                ]
                            },
                            "data": [
                                {
                                    "city": "Washington",
                                    "Number Of Calls": "1110"
                                },
                                {
                                    "city": "Houston",
                                    "Number Of Calls": "657"
                                },
                                {
                                    "city": "New York City",
                                    "Number Of Calls": "564"
                                },
                                {
                                    "city": "El Paso",
                                    "Number Of Calls": "528"
                                },
                                {
                                    "city": "Dallas",
                                    "Number Of Calls": "437"
                                },
                                {
                                    "city": "Atlanta",
                                    "Number Of Calls": "416"
                                },
                                {
                                    "city": "Miami",
                                    "Number Of Calls": "374"
                                },
                                {
                                    "city": "Sacramento",
                                    "Number Of Calls": "341"
                                },
                                {
                                    "city": "Los Angeles",
                                    "Number Of Calls": "331"
                                },
                                {
                                    "city": "Kansas City",
                                    "Number Of Calls": "327"
                                }
                            ]
                        },
                        "text/html": "<table><tr><th>city</th><th>Number Of Calls</th></tr><tr><td>Washington</td><td>1110</td></tr><tr><td>Houston</td><td>657</td></tr><tr><td>New York City</td><td>564</td></tr><tr><td>El Paso</td><td>528</td></tr><tr><td>Dallas</td><td>437</td></tr><tr><td>Atlanta</td><td>416</td></tr><tr><td>Miami</td><td>374</td></tr><tr><td>Sacramento</td><td>341</td></tr><tr><td>Los Angeles</td><td>331</td></tr><tr><td>Kansas City</td><td>327</td></tr></table>"
                    },
                    "metadata": {}
                }
            ],
            "execution_count": 67
        },
        {
            "cell_type": "code",
            "source": [
                "--Most Cites and there states with Number of Calles\r\n",
                "select top 10 cs.city, cs.[state]\r\n",
                "from CallCenter cs \r\n",
                "group by cs.city, cs.[state]\r\n",
                "order by  count(cs.call_center)"
            ],
            "metadata": {
                "language": "sql",
                "azdata_cell_guid": "b183beed-0bc6-4cee-8e64-731de630dcf8"
            },
            "outputs": [
                {
                    "output_type": "display_data",
                    "data": {
                        "text/html": "(10 rows affected)"
                    },
                    "metadata": {}
                },
                {
                    "output_type": "display_data",
                    "data": {
                        "text/html": "Total execution time: 00:00:00.114"
                    },
                    "metadata": {}
                },
                {
                    "output_type": "execute_result",
                    "execution_count": 68,
                    "data": {
                        "application/vnd.dataresource+json": {
                            "schema": {
                                "fields": [
                                    {
                                        "name": "city"
                                    },
                                    {
                                        "name": "state"
                                    }
                                ]
                            },
                            "data": [
                                {
                                    "city": "Eugene",
                                    "state": "Oregon"
                                },
                                {
                                    "city": "Yonkers",
                                    "state": "New York"
                                },
                                {
                                    "city": "Kingsport",
                                    "state": "Tennessee"
                                },
                                {
                                    "city": "Ridgely",
                                    "state": "Maryland"
                                },
                                {
                                    "city": "Migrate",
                                    "state": "Kentucky"
                                },
                                {
                                    "city": "Myrtle Beach",
                                    "state": "South Carolina"
                                },
                                {
                                    "city": "Mesquite",
                                    "state": "Texas"
                                },
                                {
                                    "city": "Homestead",
                                    "state": "Florida"
                                },
                                {
                                    "city": "Edmond",
                                    "state": "Oklahoma"
                                },
                                {
                                    "city": "Englewood",
                                    "state": "Colorado"
                                }
                            ]
                        },
                        "text/html": "<table><tr><th>city</th><th>state</th></tr><tr><td>Eugene</td><td>Oregon</td></tr><tr><td>Yonkers</td><td>New York</td></tr><tr><td>Kingsport</td><td>Tennessee</td></tr><tr><td>Ridgely</td><td>Maryland</td></tr><tr><td>Migrate</td><td>Kentucky</td></tr><tr><td>Myrtle Beach</td><td>South Carolina</td></tr><tr><td>Mesquite</td><td>Texas</td></tr><tr><td>Homestead</td><td>Florida</td></tr><tr><td>Edmond</td><td>Oklahoma</td></tr><tr><td>Englewood</td><td>Colorado</td></tr></table>"
                    },
                    "metadata": {}
                }
            ],
            "execution_count": 68
        },
        {
            "cell_type": "code",
            "source": [
                "select cs.call_center ,avg(cs.csat_score)\r\n",
                "from CallCenter cs\r\n",
                "group by call_center, csat_score\r\n",
                "\r\n",
                "order by 1"
            ],
            "metadata": {
                "language": "sql",
                "azdata_cell_guid": "92104188-d654-4d30-a6ee-999955374293"
            },
            "outputs": [
                {
                    "output_type": "display_data",
                    "data": {
                        "text/html": "(44 rows affected)"
                    },
                    "metadata": {}
                },
                {
                    "output_type": "display_data",
                    "data": {
                        "text/html": "Total execution time: 00:00:00.040"
                    },
                    "metadata": {}
                },
                {
                    "output_type": "execute_result",
                    "execution_count": 77,
                    "data": {
                        "application/vnd.dataresource+json": {
                            "schema": {
                                "fields": [
                                    {
                                        "name": "call_center"
                                    },
                                    {
                                        "name": "(No column name)"
                                    }
                                ]
                            },
                            "data": [
                                {
                                    "call_center": "Baltimore/MD",
                                    "(No column name)": "2"
                                },
                                {
                                    "call_center": "Baltimore/MD",
                                    "(No column name)": "8"
                                },
                                {
                                    "call_center": "Baltimore/MD",
                                    "(No column name)": "5"
                                },
                                {
                                    "call_center": "Baltimore/MD",
                                    "(No column name)": "11"
                                },
                                {
                                    "call_center": "Baltimore/MD",
                                    "(No column name)": "10"
                                },
                                {
                                    "call_center": "Baltimore/MD",
                                    "(No column name)": "4"
                                },
                                {
                                    "call_center": "Baltimore/MD",
                                    "(No column name)": "7"
                                },
                                {
                                    "call_center": "Baltimore/MD",
                                    "(No column name)": "1"
                                },
                                {
                                    "call_center": "Baltimore/MD",
                                    "(No column name)": "9"
                                },
                                {
                                    "call_center": "Baltimore/MD",
                                    "(No column name)": "6"
                                },
                                {
                                    "call_center": "Baltimore/MD",
                                    "(No column name)": "3"
                                },
                                {
                                    "call_center": "Chicago/IL",
                                    "(No column name)": "9"
                                },
                                {
                                    "call_center": "Chicago/IL",
                                    "(No column name)": "3"
                                },
                                {
                                    "call_center": "Chicago/IL",
                                    "(No column name)": "6"
                                },
                                {
                                    "call_center": "Chicago/IL",
                                    "(No column name)": "11"
                                },
                                {
                                    "call_center": "Chicago/IL",
                                    "(No column name)": "5"
                                },
                                {
                                    "call_center": "Chicago/IL",
                                    "(No column name)": "7"
                                },
                                {
                                    "call_center": "Chicago/IL",
                                    "(No column name)": "8"
                                },
                                {
                                    "call_center": "Chicago/IL",
                                    "(No column name)": "2"
                                },
                                {
                                    "call_center": "Chicago/IL",
                                    "(No column name)": "10"
                                },
                                {
                                    "call_center": "Chicago/IL",
                                    "(No column name)": "1"
                                },
                                {
                                    "call_center": "Chicago/IL",
                                    "(No column name)": "4"
                                },
                                {
                                    "call_center": "Denver/CO",
                                    "(No column name)": "11"
                                },
                                {
                                    "call_center": "Denver/CO",
                                    "(No column name)": "8"
                                },
                                {
                                    "call_center": "Denver/CO",
                                    "(No column name)": "6"
                                },
                                {
                                    "call_center": "Denver/CO",
                                    "(No column name)": "9"
                                },
                                {
                                    "call_center": "Denver/CO",
                                    "(No column name)": "3"
                                },
                                {
                                    "call_center": "Denver/CO",
                                    "(No column name)": "10"
                                },
                                {
                                    "call_center": "Denver/CO",
                                    "(No column name)": "4"
                                },
                                {
                                    "call_center": "Denver/CO",
                                    "(No column name)": "1"
                                },
                                {
                                    "call_center": "Denver/CO",
                                    "(No column name)": "7"
                                },
                                {
                                    "call_center": "Denver/CO",
                                    "(No column name)": "5"
                                },
                                {
                                    "call_center": "Denver/CO",
                                    "(No column name)": "2"
                                },
                                {
                                    "call_center": "Los Angeles/CA",
                                    "(No column name)": "3"
                                },
                                {
                                    "call_center": "Los Angeles/CA",
                                    "(No column name)": "5"
                                },
                                {
                                    "call_center": "Los Angeles/CA",
                                    "(No column name)": "9"
                                },
                                {
                                    "call_center": "Los Angeles/CA",
                                    "(No column name)": "6"
                                },
                                {
                                    "call_center": "Los Angeles/CA",
                                    "(No column name)": "8"
                                },
                                {
                                    "call_center": "Los Angeles/CA",
                                    "(No column name)": "2"
                                },
                                {
                                    "call_center": "Los Angeles/CA",
                                    "(No column name)": "11"
                                },
                                {
                                    "call_center": "Los Angeles/CA",
                                    "(No column name)": "7"
                                },
                                {
                                    "call_center": "Los Angeles/CA",
                                    "(No column name)": "4"
                                },
                                {
                                    "call_center": "Los Angeles/CA",
                                    "(No column name)": "10"
                                },
                                {
                                    "call_center": "Los Angeles/CA",
                                    "(No column name)": "1"
                                }
                            ]
                        },
                        "text/html": "<table><tr><th>call_center</th><th>(No column name)</th></tr><tr><td>Baltimore/MD</td><td>2</td></tr><tr><td>Baltimore/MD</td><td>8</td></tr><tr><td>Baltimore/MD</td><td>5</td></tr><tr><td>Baltimore/MD</td><td>11</td></tr><tr><td>Baltimore/MD</td><td>10</td></tr><tr><td>Baltimore/MD</td><td>4</td></tr><tr><td>Baltimore/MD</td><td>7</td></tr><tr><td>Baltimore/MD</td><td>1</td></tr><tr><td>Baltimore/MD</td><td>9</td></tr><tr><td>Baltimore/MD</td><td>6</td></tr><tr><td>Baltimore/MD</td><td>3</td></tr><tr><td>Chicago/IL</td><td>9</td></tr><tr><td>Chicago/IL</td><td>3</td></tr><tr><td>Chicago/IL</td><td>6</td></tr><tr><td>Chicago/IL</td><td>11</td></tr><tr><td>Chicago/IL</td><td>5</td></tr><tr><td>Chicago/IL</td><td>7</td></tr><tr><td>Chicago/IL</td><td>8</td></tr><tr><td>Chicago/IL</td><td>2</td></tr><tr><td>Chicago/IL</td><td>10</td></tr><tr><td>Chicago/IL</td><td>1</td></tr><tr><td>Chicago/IL</td><td>4</td></tr><tr><td>Denver/CO</td><td>11</td></tr><tr><td>Denver/CO</td><td>8</td></tr><tr><td>Denver/CO</td><td>6</td></tr><tr><td>Denver/CO</td><td>9</td></tr><tr><td>Denver/CO</td><td>3</td></tr><tr><td>Denver/CO</td><td>10</td></tr><tr><td>Denver/CO</td><td>4</td></tr><tr><td>Denver/CO</td><td>1</td></tr><tr><td>Denver/CO</td><td>7</td></tr><tr><td>Denver/CO</td><td>5</td></tr><tr><td>Denver/CO</td><td>2</td></tr><tr><td>Los Angeles/CA</td><td>3</td></tr><tr><td>Los Angeles/CA</td><td>5</td></tr><tr><td>Los Angeles/CA</td><td>9</td></tr><tr><td>Los Angeles/CA</td><td>6</td></tr><tr><td>Los Angeles/CA</td><td>8</td></tr><tr><td>Los Angeles/CA</td><td>2</td></tr><tr><td>Los Angeles/CA</td><td>11</td></tr><tr><td>Los Angeles/CA</td><td>7</td></tr><tr><td>Los Angeles/CA</td><td>4</td></tr><tr><td>Los Angeles/CA</td><td>10</td></tr><tr><td>Los Angeles/CA</td><td>1</td></tr></table>"
                    },
                    "metadata": {}
                }
            ],
            "execution_count": 77
        },
        {
            "cell_type": "code",
            "source": [
                "WITH RatedCallCenters AS (\r\n",
                "    SELECT\r\n",
                "        call_center,\r\n",
                "        csat_score,\r\n",
                "        COUNT(id) AS NumberOfCustomers\r\n",
                "    FROM\r\n",
                "        CallCenter cs -- Replace with your actual table name\r\n",
                "   where cs.csat_score <> 11\r\n",
                "    GROUP BY\r\n",
                "        call_center, csat_score\r\n",
                "    \r\n",
                ")\r\n",
                "SELECT\r\n",
                "    call_center AS Name,\r\n",
                "    csat_score AS Rate,\r\n",
                "    NumberOfCustomers\r\n",
                "FROM\r\n",
                "    RatedCallCenters\r\n",
                "--WHERE\r\n",
                "  --  RowNum = 1\r\n",
                "ORDER BY\r\n",
                "    NumberOfCustomers DESC\r\n",
                "OFFSET 0 ROWS FETCH NEXT 5 ROWS ONLY;\r\n",
                ""
            ],
            "metadata": {
                "language": "sql",
                "azdata_cell_guid": "892b0b54-5737-47cd-b6b3-02b1066e1e49"
            },
            "outputs": [
                {
                    "output_type": "display_data",
                    "data": {
                        "text/html": "(5 rows affected)"
                    },
                    "metadata": {}
                },
                {
                    "output_type": "display_data",
                    "data": {
                        "text/html": "Total execution time: 00:00:00.036"
                    },
                    "metadata": {}
                },
                {
                    "output_type": "execute_result",
                    "execution_count": 9,
                    "data": {
                        "application/vnd.dataresource+json": {
                            "schema": {
                                "fields": [
                                    {
                                        "name": "Name"
                                    },
                                    {
                                        "name": "Rate"
                                    },
                                    {
                                        "name": "NumberOfCustomers"
                                    }
                                ]
                            },
                            "data": [
                                {
                                    "Name": "Los Angeles/CA",
                                    "Rate": "5",
                                    "NumberOfCustomers": "792"
                                },
                                {
                                    "Name": "Los Angeles/CA",
                                    "Rate": "6",
                                    "NumberOfCustomers": "769"
                                },
                                {
                                    "Name": "Los Angeles/CA",
                                    "Rate": "3",
                                    "NumberOfCustomers": "663"
                                },
                                {
                                    "Name": "Baltimore/MD",
                                    "Rate": "5",
                                    "NumberOfCustomers": "626"
                                },
                                {
                                    "Name": "Baltimore/MD",
                                    "Rate": "6",
                                    "NumberOfCustomers": "619"
                                }
                            ]
                        },
                        "text/html": "<table><tr><th>Name</th><th>Rate</th><th>NumberOfCustomers</th></tr><tr><td>Los Angeles/CA</td><td>5</td><td>792</td></tr><tr><td>Los Angeles/CA</td><td>6</td><td>769</td></tr><tr><td>Los Angeles/CA</td><td>3</td><td>663</td></tr><tr><td>Baltimore/MD</td><td>5</td><td>626</td></tr><tr><td>Baltimore/MD</td><td>6</td><td>619</td></tr></table>"
                    },
                    "metadata": {}
                }
            ],
            "execution_count": 9
        },
        {
            "cell_type": "code",
            "source": [
                "select cs.call_center, avg(cs.csat_score) as 'Average of Scores'\r\n",
                "from CallCenter cs  \r\n",
                "where cs.csat_score <> 11\r\n",
                "group by cs.call_center"
            ],
            "metadata": {
                "azdata_cell_guid": "d304020d-8162-4ddd-9269-99e7610144ab",
                "language": "sql"
            },
            "outputs": [
                {
                    "output_type": "display_data",
                    "data": {
                        "text/html": "(4 rows affected)"
                    },
                    "metadata": {}
                },
                {
                    "output_type": "display_data",
                    "data": {
                        "text/html": "Total execution time: 00:00:00.107"
                    },
                    "metadata": {}
                },
                {
                    "output_type": "execute_result",
                    "metadata": {},
                    "execution_count": 1,
                    "data": {
                        "application/vnd.dataresource+json": {
                            "schema": {
                                "fields": [
                                    {
                                        "name": "call_center"
                                    },
                                    {
                                        "name": "Average of Scores"
                                    }
                                ]
                            },
                            "data": [
                                {
                                    "call_center": "Baltimore/MD",
                                    "Average of Scores": "5"
                                },
                                {
                                    "call_center": "Chicago/IL",
                                    "Average of Scores": "5"
                                },
                                {
                                    "call_center": "Denver/CO",
                                    "Average of Scores": "5"
                                },
                                {
                                    "call_center": "Los Angeles/CA",
                                    "Average of Scores": "5"
                                }
                            ]
                        },
                        "text/html": [
                            "<table>",
                            "<tr><th>call_center</th><th>Average of Scores</th></tr>",
                            "<tr><td>Baltimore/MD</td><td>5</td></tr>",
                            "<tr><td>Chicago/IL</td><td>5</td></tr>",
                            "<tr><td>Denver/CO</td><td>5</td></tr>",
                            "<tr><td>Los Angeles/CA</td><td>5</td></tr>",
                            "</table>"
                        ]
                    }
                }
            ],
            "execution_count": 1
        },
        {
            "cell_type": "code",
            "source": [
                "DECLARE @rows FLOAT \r\n",
                "select @rows = COUNT(*) FROM CallCenter\r\n",
                "select cs.sentiment, count(*), round((COUNT(*) / @rows )* 100, 1) AS 'Persent%'\r\n",
                "FROM CallCenter cs\r\n",
                "GROUP BY sentiment\r\n",
                "order by 2\r\n",
                ""
            ],
            "metadata": {
                "azdata_cell_guid": "cd98d0fe-2588-4930-8857-56f199a884cb",
                "language": "sql"
            },
            "outputs": [
                {
                    "output_type": "display_data",
                    "data": {
                        "text/html": "(5 rows affected)"
                    },
                    "metadata": {}
                },
                {
                    "output_type": "display_data",
                    "data": {
                        "text/html": "Total execution time: 00:00:00.038"
                    },
                    "metadata": {}
                },
                {
                    "output_type": "execute_result",
                    "metadata": {},
                    "execution_count": 16,
                    "data": {
                        "application/vnd.dataresource+json": {
                            "schema": {
                                "fields": [
                                    {
                                        "name": "sentiment"
                                    },
                                    {
                                        "name": "(No column name)"
                                    },
                                    {
                                        "name": "Persent%"
                                    }
                                ]
                            },
                            "data": [
                                {
                                    "sentiment": "Very Positive",
                                    "(No column name)": "3170",
                                    "Persent%": "9.6"
                                },
                                {
                                    "sentiment": "Positive",
                                    "(No column name)": "3928",
                                    "Persent%": "11.9"
                                },
                                {
                                    "sentiment": "Very Negative",
                                    "(No column name)": "6026",
                                    "Persent%": "18.3"
                                },
                                {
                                    "sentiment": "Neutral",
                                    "(No column name)": "8754",
                                    "Persent%": "26.6"
                                },
                                {
                                    "sentiment": "Negative",
                                    "(No column name)": "11063",
                                    "Persent%": "33.6"
                                }
                            ]
                        },
                        "text/html": [
                            "<table>",
                            "<tr><th>sentiment</th><th>(No column name)</th><th>Persent%</th></tr>",
                            "<tr><td>Very Positive</td><td>3170</td><td>9.6</td></tr>",
                            "<tr><td>Positive</td><td>3928</td><td>11.9</td></tr>",
                            "<tr><td>Very Negative</td><td>6026</td><td>18.3</td></tr>",
                            "<tr><td>Neutral</td><td>8754</td><td>26.6</td></tr>",
                            "<tr><td>Negative</td><td>11063</td><td>33.6</td></tr>",
                            "</table>"
                        ]
                    }
                }
            ],
            "execution_count": 16
        },
        {
            "cell_type": "code",
            "source": [
                "DECLARE @rows FLOAT \r\n",
                "select @rows = COUNT(*) FROM CallCenter\r\n",
                "select cs.reason, count(*) as 'Number of calls', round((COUNT(*) / @rows )* 100, 1) AS 'Persent%'\r\n",
                "FROM CallCenter cs\r\n",
                "GROUP BY reason\r\n",
                "order by 2\r\n",
                ""
            ],
            "metadata": {
                "azdata_cell_guid": "16584d0f-4cf3-49f0-a3d9-971e6571cda6",
                "language": "sql"
            },
            "outputs": [
                {
                    "output_type": "display_data",
                    "data": {
                        "text/html": "(3 rows affected)"
                    },
                    "metadata": {}
                },
                {
                    "output_type": "display_data",
                    "data": {
                        "text/html": "Total execution time: 00:00:00.035"
                    },
                    "metadata": {}
                },
                {
                    "output_type": "execute_result",
                    "metadata": {},
                    "execution_count": 18,
                    "data": {
                        "application/vnd.dataresource+json": {
                            "schema": {
                                "fields": [
                                    {
                                        "name": "reason"
                                    },
                                    {
                                        "name": "Number of calls"
                                    },
                                    {
                                        "name": "Persent%"
                                    }
                                ]
                            },
                            "data": [
                                {
                                    "reason": "Service Outage",
                                    "Number of calls": "4730",
                                    "Persent%": "14.4"
                                },
                                {
                                    "reason": "Payments",
                                    "Number of calls": "4749",
                                    "Persent%": "14.4"
                                },
                                {
                                    "reason": "Billing Question",
                                    "Number of calls": "23462",
                                    "Persent%": "71.2"
                                }
                            ]
                        },
                        "text/html": [
                            "<table>",
                            "<tr><th>reason</th><th>Number of calls</th><th>Persent%</th></tr>",
                            "<tr><td>Service Outage</td><td>4730</td><td>14.4</td></tr>",
                            "<tr><td>Payments</td><td>4749</td><td>14.4</td></tr>",
                            "<tr><td>Billing Question</td><td>23462</td><td>71.2</td></tr>",
                            "</table>"
                        ]
                    }
                }
            ],
            "execution_count": 18
        },
        {
            "cell_type": "code",
            "source": [
                "DECLARE @rows FLOAT \r\n",
                "select @rows = COUNT(*) FROM CallCenter\r\n",
                "select cs.channel, count(*) as 'Number of calls', round((COUNT(*) / @rows )* 100, 1) AS 'Persent%'\r\n",
                "FROM CallCenter cs\r\n",
                "GROUP BY cs.channel\r\n",
                "order by 2"
            ],
            "metadata": {
                "azdata_cell_guid": "8b4c2a85-19eb-411b-b9e6-3b08dbd75741",
                "language": "sql"
            },
            "outputs": [
                {
                    "output_type": "display_data",
                    "data": {
                        "text/html": "(4 rows affected)"
                    },
                    "metadata": {}
                },
                {
                    "output_type": "display_data",
                    "data": {
                        "text/html": "Total execution time: 00:00:00.049"
                    },
                    "metadata": {}
                },
                {
                    "output_type": "execute_result",
                    "metadata": {},
                    "execution_count": 19,
                    "data": {
                        "application/vnd.dataresource+json": {
                            "schema": {
                                "fields": [
                                    {
                                        "name": "channel"
                                    },
                                    {
                                        "name": "Number of calls"
                                    },
                                    {
                                        "name": "Persent%"
                                    }
                                ]
                            },
                            "data": [
                                {
                                    "channel": "Web",
                                    "Number of calls": "6576",
                                    "Persent%": "20"
                                },
                                {
                                    "channel": "Email",
                                    "Number of calls": "7470",
                                    "Persent%": "22.7"
                                },
                                {
                                    "channel": "Chatbot",
                                    "Number of calls": "8256",
                                    "Persent%": "25.1"
                                },
                                {
                                    "channel": "Call-Center",
                                    "Number of calls": "10639",
                                    "Persent%": "32.3"
                                }
                            ]
                        },
                        "text/html": [
                            "<table>",
                            "<tr><th>channel</th><th>Number of calls</th><th>Persent%</th></tr>",
                            "<tr><td>Web</td><td>6576</td><td>20</td></tr>",
                            "<tr><td>Email</td><td>7470</td><td>22.7</td></tr>",
                            "<tr><td>Chatbot</td><td>8256</td><td>25.1</td></tr>",
                            "<tr><td>Call-Center</td><td>10639</td><td>32.3</td></tr>",
                            "</table>"
                        ]
                    }
                }
            ],
            "execution_count": 19
        },
        {
            "cell_type": "code",
            "source": [
                "DECLARE @rows FLOAT \r\n",
                "select @rows = COUNT(*) \r\n",
                "FROM CallCenter cs \r\n",
                "where cs.csat_score <> 11\r\n",
                "\r\n",
                "\r\n",
                "select cs.csat_score, count(*) as 'Number of calls', round((COUNT(*) / @rows )* 100, 1) AS 'Persent%'\r\n",
                "FROM CallCenter cs\r\n",
                "where cs.csat_score <> 11\r\n",
                "GROUP BY cs.csat_score\r\n",
                "order by 2 desc"
            ],
            "metadata": {
                "azdata_cell_guid": "08a07d1f-1fcd-45d8-b131-42919b153150",
                "language": "sql"
            },
            "outputs": [
                {
                    "output_type": "display_data",
                    "data": {
                        "text/html": "(10 rows affected)"
                    },
                    "metadata": {}
                },
                {
                    "output_type": "display_data",
                    "data": {
                        "text/html": "Total execution time: 00:00:00.038"
                    },
                    "metadata": {}
                },
                {
                    "output_type": "execute_result",
                    "metadata": {},
                    "execution_count": 27,
                    "data": {
                        "application/vnd.dataresource+json": {
                            "schema": {
                                "fields": [
                                    {
                                        "name": "csat_score"
                                    },
                                    {
                                        "name": "Number of calls"
                                    },
                                    {
                                        "name": "Persent%"
                                    }
                                ]
                            },
                            "data": [
                                {
                                    "csat_score": "5",
                                    "Number of calls": "1899",
                                    "Persent%": "15.5"
                                },
                                {
                                    "csat_score": "6",
                                    "Number of calls": "1865",
                                    "Persent%": "15.2"
                                },
                                {
                                    "csat_score": "3",
                                    "Number of calls": "1575",
                                    "Persent%": "12.8"
                                },
                                {
                                    "csat_score": "4",
                                    "Number of calls": "1526",
                                    "Persent%": "12.4"
                                },
                                {
                                    "csat_score": "7",
                                    "Number of calls": "1314",
                                    "Persent%": "10.7"
                                },
                                {
                                    "csat_score": "8",
                                    "Number of calls": "1266",
                                    "Persent%": "10.3"
                                },
                                {
                                    "csat_score": "9",
                                    "Number of calls": "1092",
                                    "Persent%": "8.9"
                                },
                                {
                                    "csat_score": "1",
                                    "Number of calls": "595",
                                    "Persent%": "4.8"
                                },
                                {
                                    "csat_score": "2",
                                    "Number of calls": "571",
                                    "Persent%": "4.7"
                                },
                                {
                                    "csat_score": "10",
                                    "Number of calls": "568",
                                    "Persent%": "4.6"
                                }
                            ]
                        },
                        "text/html": [
                            "<table>",
                            "<tr><th>csat_score</th><th>Number of calls</th><th>Persent%</th></tr>",
                            "<tr><td>5</td><td>1899</td><td>15.5</td></tr>",
                            "<tr><td>6</td><td>1865</td><td>15.2</td></tr>",
                            "<tr><td>3</td><td>1575</td><td>12.8</td></tr>",
                            "<tr><td>4</td><td>1526</td><td>12.4</td></tr>",
                            "<tr><td>7</td><td>1314</td><td>10.7</td></tr>",
                            "<tr><td>8</td><td>1266</td><td>10.3</td></tr>",
                            "<tr><td>9</td><td>1092</td><td>8.9</td></tr>",
                            "<tr><td>1</td><td>595</td><td>4.8</td></tr>",
                            "<tr><td>2</td><td>571</td><td>4.7</td></tr>",
                            "<tr><td>10</td><td>568</td><td>4.6</td></tr>",
                            "</table>"
                        ]
                    }
                }
            ],
            "execution_count": 27
        },
        {
            "cell_type": "code",
            "source": [
                "DECLARE @rows FLOAT \r\n",
                "select @rows = COUNT(*) FROM CallCenter\r\n",
                "select cs.call_center, count(*) as 'Number of calls', round((COUNT(*) / @rows )* 100, 1) AS 'Persent%'\r\n",
                "FROM CallCenter cs\r\n",
                "GROUP BY cs.call_center\r\n",
                "order by 2\r\n",
                ""
            ],
            "metadata": {
                "azdata_cell_guid": "09ce89c6-f340-4f90-94c6-54ae8ab193fe",
                "language": "sql"
            },
            "outputs": [
                {
                    "output_type": "display_data",
                    "data": {
                        "text/html": "(4 rows affected)"
                    },
                    "metadata": {}
                },
                {
                    "output_type": "display_data",
                    "data": {
                        "text/html": "Total execution time: 00:00:00.046"
                    },
                    "metadata": {}
                },
                {
                    "output_type": "execute_result",
                    "metadata": {},
                    "execution_count": 28,
                    "data": {
                        "application/vnd.dataresource+json": {
                            "schema": {
                                "fields": [
                                    {
                                        "name": "call_center"
                                    },
                                    {
                                        "name": "Number of calls"
                                    },
                                    {
                                        "name": "Persent%"
                                    }
                                ]
                            },
                            "data": [
                                {
                                    "call_center": "Denver/CO",
                                    "Number of calls": "2776",
                                    "Persent%": "8.4"
                                },
                                {
                                    "call_center": "Chicago/IL",
                                    "Number of calls": "5419",
                                    "Persent%": "16.5"
                                },
                                {
                                    "call_center": "Baltimore/MD",
                                    "Number of calls": "11012",
                                    "Persent%": "33.4"
                                },
                                {
                                    "call_center": "Los Angeles/CA",
                                    "Number of calls": "13734",
                                    "Persent%": "41.7"
                                }
                            ]
                        },
                        "text/html": [
                            "<table>",
                            "<tr><th>call_center</th><th>Number of calls</th><th>Persent%</th></tr>",
                            "<tr><td>Denver/CO</td><td>2776</td><td>8.4</td></tr>",
                            "<tr><td>Chicago/IL</td><td>5419</td><td>16.5</td></tr>",
                            "<tr><td>Baltimore/MD</td><td>11012</td><td>33.4</td></tr>",
                            "<tr><td>Los Angeles/CA</td><td>13734</td><td>41.7</td></tr>",
                            "</table>"
                        ]
                    }
                }
            ],
            "execution_count": 28
        },
        {
            "cell_type": "code",
            "source": [
                "DECLARE @rows FLOAT \r\n",
                "select @rows = COUNT(*) FROM CallCenter\r\n",
                "select format(cs.call_timestamp, 'dddd') as 'Day Name', count(*) as 'Number of calls', round((COUNT(*) / @rows )* 100, 1) AS 'Persent%'\r\n",
                "FROM CallCenter cs\r\n",
                "GROUP BY format(cs.call_timestamp, 'dddd')\r\n",
                "order by 2\r\n",
                ""
            ],
            "metadata": {
                "azdata_cell_guid": "ea7586e9-2908-473b-ad4d-03f6d8da8095",
                "language": "sql"
            },
            "outputs": [
                {
                    "output_type": "display_data",
                    "data": {
                        "text/html": "(7 rows affected)"
                    },
                    "metadata": {}
                },
                {
                    "output_type": "display_data",
                    "data": {
                        "text/html": "Total execution time: 00:00:00.087"
                    },
                    "metadata": {}
                },
                {
                    "output_type": "execute_result",
                    "metadata": {},
                    "execution_count": 32,
                    "data": {
                        "application/vnd.dataresource+json": {
                            "schema": {
                                "fields": [
                                    {
                                        "name": "Day Name"
                                    },
                                    {
                                        "name": "Number of calls"
                                    },
                                    {
                                        "name": "Persent%"
                                    }
                                ]
                            },
                            "data": [
                                {
                                    "Day Name": "Sunday",
                                    "Number of calls": "4296",
                                    "Persent%": "13"
                                },
                                {
                                    "Day Name": "Monday",
                                    "Number of calls": "4334",
                                    "Persent%": "13.2"
                                },
                                {
                                    "Day Name": "Saturday",
                                    "Number of calls": "4403",
                                    "Persent%": "13.4"
                                },
                                {
                                    "Day Name": "Tuesday",
                                    "Number of calls": "4408",
                                    "Persent%": "13.4"
                                },
                                {
                                    "Day Name": "Wednesday",
                                    "Number of calls": "4449",
                                    "Persent%": "13.5"
                                },
                                {
                                    "Day Name": "Thursday",
                                    "Number of calls": "5481",
                                    "Persent%": "16.6"
                                },
                                {
                                    "Day Name": "Friday",
                                    "Number of calls": "5570",
                                    "Persent%": "16.9"
                                }
                            ]
                        },
                        "text/html": [
                            "<table>",
                            "<tr><th>Day Name</th><th>Number of calls</th><th>Persent%</th></tr>",
                            "<tr><td>Sunday</td><td>4296</td><td>13</td></tr>",
                            "<tr><td>Monday</td><td>4334</td><td>13.2</td></tr>",
                            "<tr><td>Saturday</td><td>4403</td><td>13.4</td></tr>",
                            "<tr><td>Tuesday</td><td>4408</td><td>13.4</td></tr>",
                            "<tr><td>Wednesday</td><td>4449</td><td>13.5</td></tr>",
                            "<tr><td>Thursday</td><td>5481</td><td>16.6</td></tr>",
                            "<tr><td>Friday</td><td>5570</td><td>16.9</td></tr>",
                            "</table>"
                        ]
                    }
                }
            ],
            "execution_count": 32
        },
        {
            "cell_type": "code",
            "source": [
                "DECLARE @rows FLOAT \r\n",
                "select @rows = COUNT(*) FROM CallCenter\r\n",
                "select day(cs.call_timestamp) as 'Day Name', count(*) as 'Number of calls', round((COUNT(*) / @rows )* 100, 4) AS 'Persent%'\r\n",
                "FROM CallCenter cs\r\n",
                "GROUP BY day(cs.call_timestamp)\r\n",
                "order by 2"
            ],
            "metadata": {
                "azdata_cell_guid": "b03ecc30-54ce-4810-a6ed-516fd2924095",
                "language": "sql"
            },
            "outputs": [
                {
                    "output_type": "display_data",
                    "data": {
                        "text/html": "(31 rows affected)"
                    },
                    "metadata": {}
                },
                {
                    "output_type": "display_data",
                    "data": {
                        "text/html": "Total execution time: 00:00:00.039"
                    },
                    "metadata": {}
                },
                {
                    "output_type": "execute_result",
                    "metadata": {},
                    "execution_count": 36,
                    "data": {
                        "application/vnd.dataresource+json": {
                            "schema": {
                                "fields": [
                                    {
                                        "name": "Day Name"
                                    },
                                    {
                                        "name": "Number of calls"
                                    },
                                    {
                                        "name": "Persent%"
                                    }
                                ]
                            },
                            "data": [
                                {
                                    "Day Name": "31",
                                    "Number of calls": "1",
                                    "Persent%": "0.003"
                                },
                                {
                                    "Day Name": "7",
                                    "Number of calls": "1045",
                                    "Persent%": "3.1723"
                                },
                                {
                                    "Day Name": "4",
                                    "Number of calls": "1049",
                                    "Persent%": "3.1845"
                                },
                                {
                                    "Day Name": "29",
                                    "Number of calls": "1053",
                                    "Persent%": "3.1966"
                                },
                                {
                                    "Day Name": "26",
                                    "Number of calls": "1054",
                                    "Persent%": "3.1997"
                                },
                                {
                                    "Day Name": "27",
                                    "Number of calls": "1062",
                                    "Persent%": "3.2239"
                                },
                                {
                                    "Day Name": "25",
                                    "Number of calls": "1063",
                                    "Persent%": "3.227"
                                },
                                {
                                    "Day Name": "8",
                                    "Number of calls": "1067",
                                    "Persent%": "3.2391"
                                },
                                {
                                    "Day Name": "20",
                                    "Number of calls": "1077",
                                    "Persent%": "3.2695"
                                },
                                {
                                    "Day Name": "2",
                                    "Number of calls": "1084",
                                    "Persent%": "3.2907"
                                },
                                {
                                    "Day Name": "11",
                                    "Number of calls": "1087",
                                    "Persent%": "3.2998"
                                },
                                {
                                    "Day Name": "12",
                                    "Number of calls": "1088",
                                    "Persent%": "3.3029"
                                },
                                {
                                    "Day Name": "3",
                                    "Number of calls": "1089",
                                    "Persent%": "3.3059"
                                },
                                {
                                    "Day Name": "1",
                                    "Number of calls": "1089",
                                    "Persent%": "3.3059"
                                },
                                {
                                    "Day Name": "14",
                                    "Number of calls": "1090",
                                    "Persent%": "3.3089"
                                },
                                {
                                    "Day Name": "5",
                                    "Number of calls": "1090",
                                    "Persent%": "3.3089"
                                },
                                {
                                    "Day Name": "10",
                                    "Number of calls": "1092",
                                    "Persent%": "3.315"
                                },
                                {
                                    "Day Name": "18",
                                    "Number of calls": "1097",
                                    "Persent%": "3.3302"
                                },
                                {
                                    "Day Name": "24",
                                    "Number of calls": "1098",
                                    "Persent%": "3.3332"
                                },
                                {
                                    "Day Name": "19",
                                    "Number of calls": "1102",
                                    "Persent%": "3.3454"
                                },
                                {
                                    "Day Name": "15",
                                    "Number of calls": "1105",
                                    "Persent%": "3.3545"
                                },
                                {
                                    "Day Name": "23",
                                    "Number of calls": "1111",
                                    "Persent%": "3.3727"
                                },
                                {
                                    "Day Name": "13",
                                    "Number of calls": "1117",
                                    "Persent%": "3.3909"
                                },
                                {
                                    "Day Name": "30",
                                    "Number of calls": "1120",
                                    "Persent%": "3.4"
                                },
                                {
                                    "Day Name": "9",
                                    "Number of calls": "1123",
                                    "Persent%": "3.4091"
                                },
                                {
                                    "Day Name": "17",
                                    "Number of calls": "1123",
                                    "Persent%": "3.4091"
                                },
                                {
                                    "Day Name": "16",
                                    "Number of calls": "1132",
                                    "Persent%": "3.4364"
                                },
                                {
                                    "Day Name": "28",
                                    "Number of calls": "1144",
                                    "Persent%": "3.4729"
                                },
                                {
                                    "Day Name": "6",
                                    "Number of calls": "1152",
                                    "Persent%": "3.4972"
                                },
                                {
                                    "Day Name": "22",
                                    "Number of calls": "1167",
                                    "Persent%": "3.5427"
                                },
                                {
                                    "Day Name": "21",
                                    "Number of calls": "1170",
                                    "Persent%": "3.5518"
                                }
                            ]
                        },
                        "text/html": [
                            "<table>",
                            "<tr><th>Day Name</th><th>Number of calls</th><th>Persent%</th></tr>",
                            "<tr><td>31</td><td>1</td><td>0.003</td></tr>",
                            "<tr><td>7</td><td>1045</td><td>3.1723</td></tr>",
                            "<tr><td>4</td><td>1049</td><td>3.1845</td></tr>",
                            "<tr><td>29</td><td>1053</td><td>3.1966</td></tr>",
                            "<tr><td>26</td><td>1054</td><td>3.1997</td></tr>",
                            "<tr><td>27</td><td>1062</td><td>3.2239</td></tr>",
                            "<tr><td>25</td><td>1063</td><td>3.227</td></tr>",
                            "<tr><td>8</td><td>1067</td><td>3.2391</td></tr>",
                            "<tr><td>20</td><td>1077</td><td>3.2695</td></tr>",
                            "<tr><td>2</td><td>1084</td><td>3.2907</td></tr>",
                            "<tr><td>11</td><td>1087</td><td>3.2998</td></tr>",
                            "<tr><td>12</td><td>1088</td><td>3.3029</td></tr>",
                            "<tr><td>3</td><td>1089</td><td>3.3059</td></tr>",
                            "<tr><td>1</td><td>1089</td><td>3.3059</td></tr>",
                            "<tr><td>14</td><td>1090</td><td>3.3089</td></tr>",
                            "<tr><td>5</td><td>1090</td><td>3.3089</td></tr>",
                            "<tr><td>10</td><td>1092</td><td>3.315</td></tr>",
                            "<tr><td>18</td><td>1097</td><td>3.3302</td></tr>",
                            "<tr><td>24</td><td>1098</td><td>3.3332</td></tr>",
                            "<tr><td>19</td><td>1102</td><td>3.3454</td></tr>",
                            "<tr><td>15</td><td>1105</td><td>3.3545</td></tr>",
                            "<tr><td>23</td><td>1111</td><td>3.3727</td></tr>",
                            "<tr><td>13</td><td>1117</td><td>3.3909</td></tr>",
                            "<tr><td>30</td><td>1120</td><td>3.4</td></tr>",
                            "<tr><td>9</td><td>1123</td><td>3.4091</td></tr>",
                            "<tr><td>17</td><td>1123</td><td>3.4091</td></tr>",
                            "<tr><td>16</td><td>1132</td><td>3.4364</td></tr>",
                            "<tr><td>28</td><td>1144</td><td>3.4729</td></tr>",
                            "<tr><td>6</td><td>1152</td><td>3.4972</td></tr>",
                            "<tr><td>22</td><td>1167</td><td>3.5427</td></tr>",
                            "<tr><td>21</td><td>1170</td><td>3.5518</td></tr>",
                            "</table>"
                        ]
                    }
                }
            ],
            "execution_count": 36
        },
        {
            "cell_type": "code",
            "source": [
                "WITH DateQuartiles AS (\r\n",
                "    SELECT\r\n",
                "        YourDateColumn,\r\n",
                "        NTILE(4) OVER (ORDER BY YourDateColumn) AS Quartile\r\n",
                "    FROM\r\n",
                "        YourTableName\r\n",
                ")\r\n",
                "SELECT\r\n",
                "    YourDateColumn,\r\n",
                "    Quartile\r\n",
                "FROM\r\n",
                "    DateQuartiles;\r\n",
                ""
            ],
            "metadata": {
                "azdata_cell_guid": "ff021250-7a91-4a18-84eb-3ed312399f55",
                "language": "sql"
            },
            "outputs": [],
            "execution_count": null
        },
        {
            "cell_type": "code",
            "source": [
                "\r\n",
                "with DateQuartiles as(\r\n",
                "    select cs.call_timestamp, NTILE(4) over(order by cs.call_timestamp) as Quartile\r\n",
                "    from CallCenter cs\r\n",
                ")\r\n",
                "\r\n",
                "SELECT Quartile, count(*) as 'Number of calls', round((COUNT(*) / cast((select COUNT(*) FROM CallCenter) as float))* 100, 2) AS 'Persent%'\r\n",
                "from DateQuartiles\r\n",
                "GROUP by Quartile"
            ],
            "metadata": {
                "language": "sql",
                "azdata_cell_guid": "68b18714-9328-46e4-bab7-3703b1fe2b95",
                "tags": []
            },
            "outputs": [
                {
                    "output_type": "display_data",
                    "data": {
                        "text/html": "(4 rows affected)"
                    },
                    "metadata": {}
                },
                {
                    "output_type": "display_data",
                    "data": {
                        "text/html": "Total execution time: 00:00:00.113"
                    },
                    "metadata": {}
                },
                {
                    "output_type": "execute_result",
                    "metadata": {},
                    "execution_count": 42,
                    "data": {
                        "application/vnd.dataresource+json": {
                            "schema": {
                                "fields": [
                                    {
                                        "name": "Quartile"
                                    },
                                    {
                                        "name": "Number of calls"
                                    },
                                    {
                                        "name": "Persent%"
                                    }
                                ]
                            },
                            "data": [
                                {
                                    "Quartile": "1",
                                    "Number of calls": "8236",
                                    "Persent%": "25"
                                },
                                {
                                    "Quartile": "2",
                                    "Number of calls": "8235",
                                    "Persent%": "25"
                                },
                                {
                                    "Quartile": "3",
                                    "Number of calls": "8235",
                                    "Persent%": "25"
                                },
                                {
                                    "Quartile": "4",
                                    "Number of calls": "8235",
                                    "Persent%": "25"
                                }
                            ]
                        },
                        "text/html": [
                            "<table>",
                            "<tr><th>Quartile</th><th>Number of calls</th><th>Persent%</th></tr>",
                            "<tr><td>1</td><td>8236</td><td>25</td></tr>",
                            "<tr><td>2</td><td>8235</td><td>25</td></tr>",
                            "<tr><td>3</td><td>8235</td><td>25</td></tr>",
                            "<tr><td>4</td><td>8235</td><td>25</td></tr>",
                            "</table>"
                        ]
                    }
                }
            ],
            "execution_count": 42
        },
        {
            "cell_type": "code",
            "source": [
                "select min(cs.csat_score) as 'Min Score', max(cs.csat_score) as 'Max Score', avg(cs.csat_score) as 'Average Score'\r\n",
                "from CallCenter cs \r\n",
                "where cs.csat_score <> 11"
            ],
            "metadata": {
                "language": "sql",
                "azdata_cell_guid": "73d69b03-d6c7-448d-908b-2c8577f9ac94"
            },
            "outputs": [
                {
                    "output_type": "display_data",
                    "data": {
                        "text/html": "(1 row affected)"
                    },
                    "metadata": {}
                },
                {
                    "output_type": "display_data",
                    "data": {
                        "text/html": "Total execution time: 00:00:00.022"
                    },
                    "metadata": {}
                },
                {
                    "output_type": "execute_result",
                    "metadata": {},
                    "execution_count": 44,
                    "data": {
                        "application/vnd.dataresource+json": {
                            "schema": {
                                "fields": [
                                    {
                                        "name": "Min Score"
                                    },
                                    {
                                        "name": "Max Score"
                                    },
                                    {
                                        "name": "Average Score"
                                    }
                                ]
                            },
                            "data": [
                                {
                                    "Min Score": "1",
                                    "Max Score": "10",
                                    "Average Score": "5"
                                }
                            ]
                        },
                        "text/html": [
                            "<table>",
                            "<tr><th>Min Score</th><th>Max Score</th><th>Average Score</th></tr>",
                            "<tr><td>1</td><td>10</td><td>5</td></tr>",
                            "</table>"
                        ]
                    }
                }
            ],
            "execution_count": 44
        },
        {
            "cell_type": "code",
            "source": [
                "SELECT call_center, response_time, COUNT(*) AS 'Number of Calls'\r\n",
                "FROM CallCenter\r\n",
                "GROUP BY call_center, response_time\r\n",
                "ORDER BY 1,3 DESC;"
            ],
            "metadata": {
                "language": "sql",
                "azdata_cell_guid": "27be2c31-d67d-489c-b434-02b7d96169e1"
            },
            "outputs": [
                {
                    "output_type": "display_data",
                    "data": {
                        "text/html": "(12 rows affected)"
                    },
                    "metadata": {}
                },
                {
                    "output_type": "display_data",
                    "data": {
                        "text/html": "Total execution time: 00:00:00.037"
                    },
                    "metadata": {}
                },
                {
                    "output_type": "execute_result",
                    "metadata": {},
                    "execution_count": 48,
                    "data": {
                        "application/vnd.dataresource+json": {
                            "schema": {
                                "fields": [
                                    {
                                        "name": "call_center"
                                    },
                                    {
                                        "name": "response_time"
                                    },
                                    {
                                        "name": "Number of Calls"
                                    }
                                ]
                            },
                            "data": [
                                {
                                    "call_center": "Baltimore/MD",
                                    "response_time": "Within SLA",
                                    "Number of Calls": "6855"
                                },
                                {
                                    "call_center": "Baltimore/MD",
                                    "response_time": "Below SLA",
                                    "Number of Calls": "2768"
                                },
                                {
                                    "call_center": "Baltimore/MD",
                                    "response_time": "Above SLA",
                                    "Number of Calls": "1389"
                                },
                                {
                                    "call_center": "Chicago/IL",
                                    "response_time": "Within SLA",
                                    "Number of Calls": "3361"
                                },
                                {
                                    "call_center": "Chicago/IL",
                                    "response_time": "Below SLA",
                                    "Number of Calls": "1361"
                                },
                                {
                                    "call_center": "Chicago/IL",
                                    "response_time": "Above SLA",
                                    "Number of Calls": "697"
                                },
                                {
                                    "call_center": "Denver/CO",
                                    "response_time": "Within SLA",
                                    "Number of Calls": "1741"
                                },
                                {
                                    "call_center": "Denver/CO",
                                    "response_time": "Below SLA",
                                    "Number of Calls": "692"
                                },
                                {
                                    "call_center": "Denver/CO",
                                    "response_time": "Above SLA",
                                    "Number of Calls": "343"
                                },
                                {
                                    "call_center": "Los Angeles/CA",
                                    "response_time": "Within SLA",
                                    "Number of Calls": "8668"
                                },
                                {
                                    "call_center": "Los Angeles/CA",
                                    "response_time": "Below SLA",
                                    "Number of Calls": "3327"
                                },
                                {
                                    "call_center": "Los Angeles/CA",
                                    "response_time": "Above SLA",
                                    "Number of Calls": "1739"
                                }
                            ]
                        },
                        "text/html": [
                            "<table>",
                            "<tr><th>call_center</th><th>response_time</th><th>Number of Calls</th></tr>",
                            "<tr><td>Baltimore/MD</td><td>Within SLA</td><td>6855</td></tr>",
                            "<tr><td>Baltimore/MD</td><td>Below SLA</td><td>2768</td></tr>",
                            "<tr><td>Baltimore/MD</td><td>Above SLA</td><td>1389</td></tr>",
                            "<tr><td>Chicago/IL</td><td>Within SLA</td><td>3361</td></tr>",
                            "<tr><td>Chicago/IL</td><td>Below SLA</td><td>1361</td></tr>",
                            "<tr><td>Chicago/IL</td><td>Above SLA</td><td>697</td></tr>",
                            "<tr><td>Denver/CO</td><td>Within SLA</td><td>1741</td></tr>",
                            "<tr><td>Denver/CO</td><td>Below SLA</td><td>692</td></tr>",
                            "<tr><td>Denver/CO</td><td>Above SLA</td><td>343</td></tr>",
                            "<tr><td>Los Angeles/CA</td><td>Within SLA</td><td>8668</td></tr>",
                            "<tr><td>Los Angeles/CA</td><td>Below SLA</td><td>3327</td></tr>",
                            "<tr><td>Los Angeles/CA</td><td>Above SLA</td><td>1739</td></tr>",
                            "</table>"
                        ]
                    }
                }
            ],
            "execution_count": 48
        },
        {
            "cell_type": "code",
            "source": [
                "SELECT sentiment, AVG(cs.call_duration_in_minutes) as 'Average of call duration in minutes' \r\n",
                "FROM CallCenter cs \r\n",
                "GROUP BY sentiment\r\n",
                "ORDER BY 2 DESC;\r\n",
                ""
            ],
            "metadata": {
                "azdata_cell_guid": "83154a45-6ff1-4731-a757-bb61908d04bb",
                "language": "sql",
                "tags": []
            },
            "outputs": [
                {
                    "output_type": "display_data",
                    "data": {
                        "text/html": "(5 rows affected)"
                    },
                    "metadata": {}
                },
                {
                    "output_type": "display_data",
                    "data": {
                        "text/html": "Total execution time: 00:00:00.036"
                    },
                    "metadata": {}
                },
                {
                    "output_type": "execute_result",
                    "metadata": {},
                    "execution_count": 51,
                    "data": {
                        "application/vnd.dataresource+json": {
                            "schema": {
                                "fields": [
                                    {
                                        "name": "sentiment"
                                    },
                                    {
                                        "name": "Average of call duration in minutes"
                                    }
                                ]
                            },
                            "data": [
                                {
                                    "sentiment": "Negative",
                                    "Average of call duration in minutes": "25"
                                },
                                {
                                    "sentiment": "Neutral",
                                    "Average of call duration in minutes": "24"
                                },
                                {
                                    "sentiment": "Very Positive",
                                    "Average of call duration in minutes": "24"
                                },
                                {
                                    "sentiment": "Positive",
                                    "Average of call duration in minutes": "24"
                                },
                                {
                                    "sentiment": "Very Negative",
                                    "Average of call duration in minutes": "24"
                                }
                            ]
                        },
                        "text/html": [
                            "<table>",
                            "<tr><th>sentiment</th><th>Average of call duration in minutes</th></tr>",
                            "<tr><td>Negative</td><td>25</td></tr>",
                            "<tr><td>Neutral</td><td>24</td></tr>",
                            "<tr><td>Very Positive</td><td>24</td></tr>",
                            "<tr><td>Positive</td><td>24</td></tr>",
                            "<tr><td>Very Negative</td><td>24</td></tr>",
                            "</table>"
                        ]
                    }
                }
            ],
            "execution_count": 51
        },
        {
            "cell_type": "code",
            "source": [
                "SELECT state, AVG(csat_score) as avg_csat_score \r\n",
                "FROM CallCenter cs \r\n",
                "WHERE csat_score != 0 and cs.csat_score <> 11\r\n",
                "GROUP BY state \r\n",
                "ORDER BY 2 DESC;\r\n",
                ""
            ],
            "metadata": {
                "azdata_cell_guid": "c8141234-c16e-4ab8-ac05-90a943d6c021",
                "language": "sql"
            },
            "outputs": [
                {
                    "output_type": "display_data",
                    "data": {
                        "text/html": "(51 rows affected)"
                    },
                    "metadata": {}
                },
                {
                    "output_type": "display_data",
                    "data": {
                        "text/html": "Total execution time: 00:00:00.029"
                    },
                    "metadata": {}
                },
                {
                    "output_type": "execute_result",
                    "metadata": {},
                    "execution_count": 52,
                    "data": {
                        "application/vnd.dataresource+json": {
                            "schema": {
                                "fields": [
                                    {
                                        "name": "state"
                                    },
                                    {
                                        "name": "avg_csat_score"
                                    }
                                ]
                            },
                            "data": [
                                {
                                    "state": "Wyoming",
                                    "avg_csat_score": "6"
                                },
                                {
                                    "state": "North Dakota",
                                    "avg_csat_score": "6"
                                },
                                {
                                    "state": "Vermont",
                                    "avg_csat_score": "6"
                                },
                                {
                                    "state": "Idaho",
                                    "avg_csat_score": "5"
                                },
                                {
                                    "state": "Georgia",
                                    "avg_csat_score": "5"
                                },
                                {
                                    "state": "Connecticut",
                                    "avg_csat_score": "5"
                                },
                                {
                                    "state": "New Jersey",
                                    "avg_csat_score": "5"
                                },
                                {
                                    "state": "Michigan",
                                    "avg_csat_score": "5"
                                },
                                {
                                    "state": "Iowa",
                                    "avg_csat_score": "5"
                                },
                                {
                                    "state": "North Carolina",
                                    "avg_csat_score": "5"
                                },
                                {
                                    "state": "Louisiana",
                                    "avg_csat_score": "5"
                                },
                                {
                                    "state": "Hawaii",
                                    "avg_csat_score": "5"
                                },
                                {
                                    "state": "Mississippi",
                                    "avg_csat_score": "5"
                                },
                                {
                                    "state": "Colorado",
                                    "avg_csat_score": "5"
                                },
                                {
                                    "state": "Texas",
                                    "avg_csat_score": "5"
                                },
                                {
                                    "state": "South Carolina",
                                    "avg_csat_score": "5"
                                },
                                {
                                    "state": "West Virginia",
                                    "avg_csat_score": "5"
                                },
                                {
                                    "state": "Montana",
                                    "avg_csat_score": "5"
                                },
                                {
                                    "state": "Utah",
                                    "avg_csat_score": "5"
                                },
                                {
                                    "state": "Alabama",
                                    "avg_csat_score": "5"
                                },
                                {
                                    "state": "Tennessee",
                                    "avg_csat_score": "5"
                                },
                                {
                                    "state": "Rhode Island",
                                    "avg_csat_score": "5"
                                },
                                {
                                    "state": "Arkansas",
                                    "avg_csat_score": "5"
                                },
                                {
                                    "state": "Nevada",
                                    "avg_csat_score": "5"
                                },
                                {
                                    "state": "Kansas",
                                    "avg_csat_score": "5"
                                },
                                {
                                    "state": "Kentucky",
                                    "avg_csat_score": "5"
                                },
                                {
                                    "state": "New Mexico",
                                    "avg_csat_score": "5"
                                },
                                {
                                    "state": "Illinois",
                                    "avg_csat_score": "5"
                                },
                                {
                                    "state": "Oklahoma",
                                    "avg_csat_score": "5"
                                },
                                {
                                    "state": "Wisconsin",
                                    "avg_csat_score": "5"
                                },
                                {
                                    "state": "Pennsylvania",
                                    "avg_csat_score": "5"
                                },
                                {
                                    "state": "Massachusetts",
                                    "avg_csat_score": "5"
                                },
                                {
                                    "state": "Ohio",
                                    "avg_csat_score": "5"
                                },
                                {
                                    "state": "Oregon",
                                    "avg_csat_score": "5"
                                },
                                {
                                    "state": "Arizona",
                                    "avg_csat_score": "5"
                                },
                                {
                                    "state": "Virginia",
                                    "avg_csat_score": "5"
                                },
                                {
                                    "state": "New York",
                                    "avg_csat_score": "5"
                                },
                                {
                                    "state": "South Dakota",
                                    "avg_csat_score": "5"
                                },
                                {
                                    "state": "Maryland",
                                    "avg_csat_score": "5"
                                },
                                {
                                    "state": "California",
                                    "avg_csat_score": "5"
                                },
                                {
                                    "state": "Missouri",
                                    "avg_csat_score": "5"
                                },
                                {
                                    "state": "Minnesota",
                                    "avg_csat_score": "5"
                                },
                                {
                                    "state": "District of Columbia",
                                    "avg_csat_score": "5"
                                },
                                {
                                    "state": "Florida",
                                    "avg_csat_score": "5"
                                },
                                {
                                    "state": "Indiana",
                                    "avg_csat_score": "5"
                                },
                                {
                                    "state": "Alaska",
                                    "avg_csat_score": "5"
                                },
                                {
                                    "state": "Washington",
                                    "avg_csat_score": "5"
                                },
                                {
                                    "state": "Delaware",
                                    "avg_csat_score": "4"
                                },
                                {
                                    "state": "New Hampshire",
                                    "avg_csat_score": "4"
                                },
                                {
                                    "state": "Nebraska",
                                    "avg_csat_score": "4"
                                },
                                {
                                    "state": "Maine",
                                    "avg_csat_score": "3"
                                }
                            ]
                        },
                        "text/html": [
                            "<table>",
                            "<tr><th>state</th><th>avg_csat_score</th></tr>",
                            "<tr><td>Wyoming</td><td>6</td></tr>",
                            "<tr><td>North Dakota</td><td>6</td></tr>",
                            "<tr><td>Vermont</td><td>6</td></tr>",
                            "<tr><td>Idaho</td><td>5</td></tr>",
                            "<tr><td>Georgia</td><td>5</td></tr>",
                            "<tr><td>Connecticut</td><td>5</td></tr>",
                            "<tr><td>New Jersey</td><td>5</td></tr>",
                            "<tr><td>Michigan</td><td>5</td></tr>",
                            "<tr><td>Iowa</td><td>5</td></tr>",
                            "<tr><td>North Carolina</td><td>5</td></tr>",
                            "<tr><td>Louisiana</td><td>5</td></tr>",
                            "<tr><td>Hawaii</td><td>5</td></tr>",
                            "<tr><td>Mississippi</td><td>5</td></tr>",
                            "<tr><td>Colorado</td><td>5</td></tr>",
                            "<tr><td>Texas</td><td>5</td></tr>",
                            "<tr><td>South Carolina</td><td>5</td></tr>",
                            "<tr><td>West Virginia</td><td>5</td></tr>",
                            "<tr><td>Montana</td><td>5</td></tr>",
                            "<tr><td>Utah</td><td>5</td></tr>",
                            "<tr><td>Alabama</td><td>5</td></tr>",
                            "<tr><td>Tennessee</td><td>5</td></tr>",
                            "<tr><td>Rhode Island</td><td>5</td></tr>",
                            "<tr><td>Arkansas</td><td>5</td></tr>",
                            "<tr><td>Nevada</td><td>5</td></tr>",
                            "<tr><td>Kansas</td><td>5</td></tr>",
                            "<tr><td>Kentucky</td><td>5</td></tr>",
                            "<tr><td>New Mexico</td><td>5</td></tr>",
                            "<tr><td>Illinois</td><td>5</td></tr>",
                            "<tr><td>Oklahoma</td><td>5</td></tr>",
                            "<tr><td>Wisconsin</td><td>5</td></tr>",
                            "<tr><td>Pennsylvania</td><td>5</td></tr>",
                            "<tr><td>Massachusetts</td><td>5</td></tr>",
                            "<tr><td>Ohio</td><td>5</td></tr>",
                            "<tr><td>Oregon</td><td>5</td></tr>",
                            "<tr><td>Arizona</td><td>5</td></tr>",
                            "<tr><td>Virginia</td><td>5</td></tr>",
                            "<tr><td>New York</td><td>5</td></tr>",
                            "<tr><td>South Dakota</td><td>5</td></tr>",
                            "<tr><td>Maryland</td><td>5</td></tr>",
                            "<tr><td>California</td><td>5</td></tr>",
                            "<tr><td>Missouri</td><td>5</td></tr>",
                            "<tr><td>Minnesota</td><td>5</td></tr>",
                            "<tr><td>District of Columbia</td><td>5</td></tr>",
                            "<tr><td>Florida</td><td>5</td></tr>",
                            "<tr><td>Indiana</td><td>5</td></tr>",
                            "<tr><td>Alaska</td><td>5</td></tr>",
                            "<tr><td>Washington</td><td>5</td></tr>",
                            "<tr><td>Delaware</td><td>4</td></tr>",
                            "<tr><td>New Hampshire</td><td>4</td></tr>",
                            "<tr><td>Nebraska</td><td>4</td></tr>",
                            "<tr><td>Maine</td><td>3</td></tr>",
                            "</table>"
                        ]
                    }
                }
            ],
            "execution_count": 52
        },
        {
            "cell_type": "code",
            "source": [
                "SELECT state, sentiment , COUNT(*) as 'Number of Calls'\r\n",
                "FROM CallCenter GROUP BY state, sentiment\r\n",
                "ORDER BY 1,3 DESC;\r\n",
                ""
            ],
            "metadata": {
                "azdata_cell_guid": "3a0788db-076d-45a4-82bf-58ee1bcb36ca",
                "language": "sql"
            },
            "outputs": [
                {
                    "output_type": "display_data",
                    "data": {
                        "text/html": "(250 rows affected)"
                    },
                    "metadata": {}
                },
                {
                    "output_type": "display_data",
                    "data": {
                        "text/html": "Total execution time: 00:00:00.060"
                    },
                    "metadata": {}
                },
                {
                    "output_type": "execute_result",
                    "metadata": {},
                    "execution_count": 54,
                    "data": {
                        "application/vnd.dataresource+json": {
                            "schema": {
                                "fields": [
                                    {
                                        "name": "state"
                                    },
                                    {
                                        "name": "sentiment"
                                    },
                                    {
                                        "name": "Number of Calls"
                                    }
                                ]
                            },
                            "data": [
                                {
                                    "state": "Alabama",
                                    "sentiment": "Negative",
                                    "Number of Calls": "265"
                                },
                                {
                                    "state": "Alabama",
                                    "sentiment": "Neutral",
                                    "Number of Calls": "200"
                                },
                                {
                                    "state": "Alabama",
                                    "sentiment": "Very Negative",
                                    "Number of Calls": "129"
                                },
                                {
                                    "state": "Alabama",
                                    "sentiment": "Positive",
                                    "Number of Calls": "74"
                                },
                                {
                                    "state": "Alabama",
                                    "sentiment": "Very Positive",
                                    "Number of Calls": "70"
                                },
                                {
                                    "state": "Alaska",
                                    "sentiment": "Negative",
                                    "Number of Calls": "45"
                                },
                                {
                                    "state": "Alaska",
                                    "sentiment": "Neutral",
                                    "Number of Calls": "32"
                                },
                                {
                                    "state": "Alaska",
                                    "sentiment": "Very Negative",
                                    "Number of Calls": "28"
                                },
                                {
                                    "state": "Alaska",
                                    "sentiment": "Positive",
                                    "Number of Calls": "25"
                                },
                                {
                                    "state": "Alaska",
                                    "sentiment": "Very Positive",
                                    "Number of Calls": "16"
                                },
                                {
                                    "state": "Arizona",
                                    "sentiment": "Negative",
                                    "Number of Calls": "235"
                                },
                                {
                                    "state": "Arizona",
                                    "sentiment": "Neutral",
                                    "Number of Calls": "204"
                                },
                                {
                                    "state": "Arizona",
                                    "sentiment": "Very Negative",
                                    "Number of Calls": "131"
                                },
                                {
                                    "state": "Arizona",
                                    "sentiment": "Positive",
                                    "Number of Calls": "94"
                                },
                                {
                                    "state": "Arizona",
                                    "sentiment": "Very Positive",
                                    "Number of Calls": "73"
                                },
                                {
                                    "state": "Arkansas",
                                    "sentiment": "Negative",
                                    "Number of Calls": "73"
                                },
                                {
                                    "state": "Arkansas",
                                    "sentiment": "Neutral",
                                    "Number of Calls": "50"
                                },
                                {
                                    "state": "Arkansas",
                                    "sentiment": "Very Negative",
                                    "Number of Calls": "39"
                                },
                                {
                                    "state": "Arkansas",
                                    "sentiment": "Very Positive",
                                    "Number of Calls": "22"
                                },
                                {
                                    "state": "Arkansas",
                                    "sentiment": "Positive",
                                    "Number of Calls": "20"
                                },
                                {
                                    "state": "California",
                                    "sentiment": "Negative",
                                    "Number of Calls": "1255"
                                },
                                {
                                    "state": "California",
                                    "sentiment": "Neutral",
                                    "Number of Calls": "963"
                                },
                                {
                                    "state": "California",
                                    "sentiment": "Very Negative",
                                    "Number of Calls": "630"
                                },
                                {
                                    "state": "California",
                                    "sentiment": "Positive",
                                    "Number of Calls": "422"
                                },
                                {
                                    "state": "California",
                                    "sentiment": "Very Positive",
                                    "Number of Calls": "361"
                                },
                                {
                                    "state": "Colorado",
                                    "sentiment": "Negative",
                                    "Number of Calls": "253"
                                },
                                {
                                    "state": "Colorado",
                                    "sentiment": "Neutral",
                                    "Number of Calls": "181"
                                },
                                {
                                    "state": "Colorado",
                                    "sentiment": "Very Negative",
                                    "Number of Calls": "158"
                                },
                                {
                                    "state": "Colorado",
                                    "sentiment": "Positive",
                                    "Number of Calls": "85"
                                },
                                {
                                    "state": "Colorado",
                                    "sentiment": "Very Positive",
                                    "Number of Calls": "65"
                                },
                                {
                                    "state": "Connecticut",
                                    "sentiment": "Negative",
                                    "Number of Calls": "138"
                                },
                                {
                                    "state": "Connecticut",
                                    "sentiment": "Neutral",
                                    "Number of Calls": "105"
                                },
                                {
                                    "state": "Connecticut",
                                    "sentiment": "Very Negative",
                                    "Number of Calls": "68"
                                },
                                {
                                    "state": "Connecticut",
                                    "sentiment": "Positive",
                                    "Number of Calls": "56"
                                },
                                {
                                    "state": "Connecticut",
                                    "sentiment": "Very Positive",
                                    "Number of Calls": "41"
                                },
                                {
                                    "state": "Delaware",
                                    "sentiment": "Negative",
                                    "Number of Calls": "46"
                                },
                                {
                                    "state": "Delaware",
                                    "sentiment": "Very Negative",
                                    "Number of Calls": "27"
                                },
                                {
                                    "state": "Delaware",
                                    "sentiment": "Neutral",
                                    "Number of Calls": "26"
                                },
                                {
                                    "state": "Delaware",
                                    "sentiment": "Very Positive",
                                    "Number of Calls": "15"
                                },
                                {
                                    "state": "Delaware",
                                    "sentiment": "Positive",
                                    "Number of Calls": "14"
                                },
                                {
                                    "state": "District of Columbia",
                                    "sentiment": "Negative",
                                    "Number of Calls": "395"
                                },
                                {
                                    "state": "District of Columbia",
                                    "sentiment": "Neutral",
                                    "Number of Calls": "290"
                                },
                                {
                                    "state": "District of Columbia",
                                    "sentiment": "Very Negative",
                                    "Number of Calls": "190"
                                },
                                {
                                    "state": "District of Columbia",
                                    "sentiment": "Positive",
                                    "Number of Calls": "133"
                                },
                                {
                                    "state": "District of Columbia",
                                    "sentiment": "Very Positive",
                                    "Number of Calls": "102"
                                },
                                {
                                    "state": "Florida",
                                    "sentiment": "Negative",
                                    "Number of Calls": "920"
                                },
                                {
                                    "state": "Florida",
                                    "sentiment": "Neutral",
                                    "Number of Calls": "750"
                                },
                                {
                                    "state": "Florida",
                                    "sentiment": "Very Negative",
                                    "Number of Calls": "541"
                                },
                                {
                                    "state": "Florida",
                                    "sentiment": "Positive",
                                    "Number of Calls": "348"
                                },
                                {
                                    "state": "Florida",
                                    "sentiment": "Very Positive",
                                    "Number of Calls": "275"
                                },
                                {
                                    "state": "Georgia",
                                    "sentiment": "Negative",
                                    "Number of Calls": "304"
                                },
                                {
                                    "state": "Georgia",
                                    "sentiment": "Neutral",
                                    "Number of Calls": "238"
                                },
                                {
                                    "state": "Georgia",
                                    "sentiment": "Very Negative",
                                    "Number of Calls": "176"
                                },
                                {
                                    "state": "Georgia",
                                    "sentiment": "Positive",
                                    "Number of Calls": "113"
                                },
                                {
                                    "state": "Georgia",
                                    "sentiment": "Very Positive",
                                    "Number of Calls": "95"
                                },
                                {
                                    "state": "Hawaii",
                                    "sentiment": "Neutral",
                                    "Number of Calls": "50"
                                },
                                {
                                    "state": "Hawaii",
                                    "sentiment": "Negative",
                                    "Number of Calls": "48"
                                },
                                {
                                    "state": "Hawaii",
                                    "sentiment": "Very Negative",
                                    "Number of Calls": "20"
                                },
                                {
                                    "state": "Hawaii",
                                    "sentiment": "Positive",
                                    "Number of Calls": "17"
                                },
                                {
                                    "state": "Hawaii",
                                    "sentiment": "Very Positive",
                                    "Number of Calls": "14"
                                },
                                {
                                    "state": "Idaho",
                                    "sentiment": "Negative",
                                    "Number of Calls": "55"
                                },
                                {
                                    "state": "Idaho",
                                    "sentiment": "Neutral",
                                    "Number of Calls": "47"
                                },
                                {
                                    "state": "Idaho",
                                    "sentiment": "Very Negative",
                                    "Number of Calls": "29"
                                },
                                {
                                    "state": "Idaho",
                                    "sentiment": "Positive",
                                    "Number of Calls": "23"
                                },
                                {
                                    "state": "Idaho",
                                    "sentiment": "Very Positive",
                                    "Number of Calls": "20"
                                },
                                {
                                    "state": "Illinois",
                                    "sentiment": "Negative",
                                    "Number of Calls": "286"
                                },
                                {
                                    "state": "Illinois",
                                    "sentiment": "Neutral",
                                    "Number of Calls": "223"
                                },
                                {
                                    "state": "Illinois",
                                    "sentiment": "Very Negative",
                                    "Number of Calls": "148"
                                },
                                {
                                    "state": "Illinois",
                                    "sentiment": "Very Positive",
                                    "Number of Calls": "97"
                                },
                                {
                                    "state": "Illinois",
                                    "sentiment": "Positive",
                                    "Number of Calls": "94"
                                },
                                {
                                    "state": "Indiana",
                                    "sentiment": "Negative",
                                    "Number of Calls": "256"
                                },
                                {
                                    "state": "Indiana",
                                    "sentiment": "Neutral",
                                    "Number of Calls": "198"
                                },
                                {
                                    "state": "Indiana",
                                    "sentiment": "Very Negative",
                                    "Number of Calls": "123"
                                },
                                {
                                    "state": "Indiana",
                                    "sentiment": "Positive",
                                    "Number of Calls": "82"
                                },
                                {
                                    "state": "Indiana",
                                    "sentiment": "Very Positive",
                                    "Number of Calls": "77"
                                },
                                {
                                    "state": "Iowa",
                                    "sentiment": "Negative",
                                    "Number of Calls": "114"
                                },
                                {
                                    "state": "Iowa",
                                    "sentiment": "Neutral",
                                    "Number of Calls": "97"
                                },
                                {
                                    "state": "Iowa",
                                    "sentiment": "Very Negative",
                                    "Number of Calls": "70"
                                },
                                {
                                    "state": "Iowa",
                                    "sentiment": "Positive",
                                    "Number of Calls": "49"
                                },
                                {
                                    "state": "Iowa",
                                    "sentiment": "Very Positive",
                                    "Number of Calls": "36"
                                },
                                {
                                    "state": "Kansas",
                                    "sentiment": "Neutral",
                                    "Number of Calls": "149"
                                },
                                {
                                    "state": "Kansas",
                                    "sentiment": "Negative",
                                    "Number of Calls": "132"
                                },
                                {
                                    "state": "Kansas",
                                    "sentiment": "Very Negative",
                                    "Number of Calls": "84"
                                },
                                {
                                    "state": "Kansas",
                                    "sentiment": "Positive",
                                    "Number of Calls": "53"
                                },
                                {
                                    "state": "Kansas",
                                    "sentiment": "Very Positive",
                                    "Number of Calls": "49"
                                },
                                {
                                    "state": "Kentucky",
                                    "sentiment": "Negative",
                                    "Number of Calls": "118"
                                },
                                {
                                    "state": "Kentucky",
                                    "sentiment": "Neutral",
                                    "Number of Calls": "112"
                                },
                                {
                                    "state": "Kentucky",
                                    "sentiment": "Very Negative",
                                    "Number of Calls": "93"
                                },
                                {
                                    "state": "Kentucky",
                                    "sentiment": "Positive",
                                    "Number of Calls": "45"
                                },
                                {
                                    "state": "Kentucky",
                                    "sentiment": "Very Positive",
                                    "Number of Calls": "43"
                                },
                                {
                                    "state": "Louisiana",
                                    "sentiment": "Negative",
                                    "Number of Calls": "199"
                                },
                                {
                                    "state": "Louisiana",
                                    "sentiment": "Neutral",
                                    "Number of Calls": "174"
                                },
                                {
                                    "state": "Louisiana",
                                    "sentiment": "Very Negative",
                                    "Number of Calls": "115"
                                },
                                {
                                    "state": "Louisiana",
                                    "sentiment": "Positive",
                                    "Number of Calls": "84"
                                },
                                {
                                    "state": "Louisiana",
                                    "sentiment": "Very Positive",
                                    "Number of Calls": "55"
                                },
                                {
                                    "state": "Maine",
                                    "sentiment": "Neutral",
                                    "Number of Calls": "8"
                                },
                                {
                                    "state": "Maine",
                                    "sentiment": "Negative",
                                    "Number of Calls": "4"
                                },
                                {
                                    "state": "Maine",
                                    "sentiment": "Very Negative",
                                    "Number of Calls": "3"
                                },
                                {
                                    "state": "Maine",
                                    "sentiment": "Very Positive",
                                    "Number of Calls": "1"
                                },
                                {
                                    "state": "Maryland",
                                    "sentiment": "Negative",
                                    "Number of Calls": "136"
                                },
                                {
                                    "state": "Maryland",
                                    "sentiment": "Neutral",
                                    "Number of Calls": "114"
                                },
                                {
                                    "state": "Maryland",
                                    "sentiment": "Very Negative",
                                    "Number of Calls": "83"
                                },
                                {
                                    "state": "Maryland",
                                    "sentiment": "Positive",
                                    "Number of Calls": "42"
                                },
                                {
                                    "state": "Maryland",
                                    "sentiment": "Very Positive",
                                    "Number of Calls": "40"
                                },
                                {
                                    "state": "Massachusetts",
                                    "sentiment": "Negative",
                                    "Number of Calls": "146"
                                },
                                {
                                    "state": "Massachusetts",
                                    "sentiment": "Neutral",
                                    "Number of Calls": "135"
                                },
                                {
                                    "state": "Massachusetts",
                                    "sentiment": "Very Negative",
                                    "Number of Calls": "85"
                                },
                                {
                                    "state": "Massachusetts",
                                    "sentiment": "Positive",
                                    "Number of Calls": "71"
                                },
                                {
                                    "state": "Massachusetts",
                                    "sentiment": "Very Positive",
                                    "Number of Calls": "56"
                                },
                                {
                                    "state": "Michigan",
                                    "sentiment": "Negative",
                                    "Number of Calls": "203"
                                },
                                {
                                    "state": "Michigan",
                                    "sentiment": "Neutral",
                                    "Number of Calls": "144"
                                },
                                {
                                    "state": "Michigan",
                                    "sentiment": "Very Negative",
                                    "Number of Calls": "129"
                                },
                                {
                                    "state": "Michigan",
                                    "sentiment": "Positive",
                                    "Number of Calls": "81"
                                },
                                {
                                    "state": "Michigan",
                                    "sentiment": "Very Positive",
                                    "Number of Calls": "55"
                                },
                                {
                                    "state": "Minnesota",
                                    "sentiment": "Negative",
                                    "Number of Calls": "269"
                                },
                                {
                                    "state": "Minnesota",
                                    "sentiment": "Neutral",
                                    "Number of Calls": "186"
                                },
                                {
                                    "state": "Minnesota",
                                    "sentiment": "Very Negative",
                                    "Number of Calls": "106"
                                },
                                {
                                    "state": "Minnesota",
                                    "sentiment": "Positive",
                                    "Number of Calls": "94"
                                },
                                {
                                    "state": "Minnesota",
                                    "sentiment": "Very Positive",
                                    "Number of Calls": "57"
                                },
                                {
                                    "state": "Mississippi",
                                    "sentiment": "Negative",
                                    "Number of Calls": "62"
                                },
                                {
                                    "state": "Mississippi",
                                    "sentiment": "Neutral",
                                    "Number of Calls": "40"
                                },
                                {
                                    "state": "Mississippi",
                                    "sentiment": "Positive",
                                    "Number of Calls": "29"
                                },
                                {
                                    "state": "Mississippi",
                                    "sentiment": "Very Negative",
                                    "Number of Calls": "28"
                                },
                                {
                                    "state": "Mississippi",
                                    "sentiment": "Very Positive",
                                    "Number of Calls": "19"
                                },
                                {
                                    "state": "Missouri",
                                    "sentiment": "Negative",
                                    "Number of Calls": "222"
                                },
                                {
                                    "state": "Missouri",
                                    "sentiment": "Neutral",
                                    "Number of Calls": "182"
                                },
                                {
                                    "state": "Missouri",
                                    "sentiment": "Very Negative",
                                    "Number of Calls": "132"
                                },
                                {
                                    "state": "Missouri",
                                    "sentiment": "Positive",
                                    "Number of Calls": "80"
                                },
                                {
                                    "state": "Missouri",
                                    "sentiment": "Very Positive",
                                    "Number of Calls": "66"
                                },
                                {
                                    "state": "Montana",
                                    "sentiment": "Negative",
                                    "Number of Calls": "28"
                                },
                                {
                                    "state": "Montana",
                                    "sentiment": "Neutral",
                                    "Number of Calls": "24"
                                },
                                {
                                    "state": "Montana",
                                    "sentiment": "Very Negative",
                                    "Number of Calls": "22"
                                },
                                {
                                    "state": "Montana",
                                    "sentiment": "Positive",
                                    "Number of Calls": "14"
                                },
                                {
                                    "state": "Montana",
                                    "sentiment": "Very Positive",
                                    "Number of Calls": "6"
                                },
                                {
                                    "state": "Nebraska",
                                    "sentiment": "Negative",
                                    "Number of Calls": "88"
                                },
                                {
                                    "state": "Nebraska",
                                    "sentiment": "Neutral",
                                    "Number of Calls": "62"
                                },
                                {
                                    "state": "Nebraska",
                                    "sentiment": "Very Negative",
                                    "Number of Calls": "51"
                                },
                                {
                                    "state": "Nebraska",
                                    "sentiment": "Positive",
                                    "Number of Calls": "23"
                                },
                                {
                                    "state": "Nebraska",
                                    "sentiment": "Very Positive",
                                    "Number of Calls": "19"
                                },
                                {
                                    "state": "Nevada",
                                    "sentiment": "Negative",
                                    "Number of Calls": "131"
                                },
                                {
                                    "state": "Nevada",
                                    "sentiment": "Neutral",
                                    "Number of Calls": "125"
                                },
                                {
                                    "state": "Nevada",
                                    "sentiment": "Very Negative",
                                    "Number of Calls": "105"
                                },
                                {
                                    "state": "Nevada",
                                    "sentiment": "Positive",
                                    "Number of Calls": "50"
                                },
                                {
                                    "state": "Nevada",
                                    "sentiment": "Very Positive",
                                    "Number of Calls": "48"
                                },
                                {
                                    "state": "New Hampshire",
                                    "sentiment": "Neutral",
                                    "Number of Calls": "19"
                                },
                                {
                                    "state": "New Hampshire",
                                    "sentiment": "Negative",
                                    "Number of Calls": "18"
                                },
                                {
                                    "state": "New Hampshire",
                                    "sentiment": "Very Negative",
                                    "Number of Calls": "7"
                                },
                                {
                                    "state": "New Hampshire",
                                    "sentiment": "Positive",
                                    "Number of Calls": "4"
                                },
                                {
                                    "state": "New Hampshire",
                                    "sentiment": "Very Positive",
                                    "Number of Calls": "3"
                                },
                                {
                                    "state": "New Jersey",
                                    "sentiment": "Negative",
                                    "Number of Calls": "99"
                                },
                                {
                                    "state": "New Jersey",
                                    "sentiment": "Neutral",
                                    "Number of Calls": "79"
                                },
                                {
                                    "state": "New Jersey",
                                    "sentiment": "Very Negative",
                                    "Number of Calls": "59"
                                },
                                {
                                    "state": "New Jersey",
                                    "sentiment": "Positive",
                                    "Number of Calls": "44"
                                },
                                {
                                    "state": "New Jersey",
                                    "sentiment": "Very Positive",
                                    "Number of Calls": "36"
                                },
                                {
                                    "state": "New Mexico",
                                    "sentiment": "Negative",
                                    "Number of Calls": "62"
                                },
                                {
                                    "state": "New Mexico",
                                    "sentiment": "Neutral",
                                    "Number of Calls": "54"
                                },
                                {
                                    "state": "New Mexico",
                                    "sentiment": "Very Negative",
                                    "Number of Calls": "47"
                                },
                                {
                                    "state": "New Mexico",
                                    "sentiment": "Positive",
                                    "Number of Calls": "26"
                                },
                                {
                                    "state": "New Mexico",
                                    "sentiment": "Very Positive",
                                    "Number of Calls": "23"
                                },
                                {
                                    "state": "New York",
                                    "sentiment": "Negative",
                                    "Number of Calls": "601"
                                },
                                {
                                    "state": "New York",
                                    "sentiment": "Neutral",
                                    "Number of Calls": "487"
                                },
                                {
                                    "state": "New York",
                                    "sentiment": "Very Negative",
                                    "Number of Calls": "339"
                                },
                                {
                                    "state": "New York",
                                    "sentiment": "Positive",
                                    "Number of Calls": "190"
                                },
                                {
                                    "state": "New York",
                                    "sentiment": "Very Positive",
                                    "Number of Calls": "169"
                                },
                                {
                                    "state": "North Carolina",
                                    "sentiment": "Negative",
                                    "Number of Calls": "267"
                                },
                                {
                                    "state": "North Carolina",
                                    "sentiment": "Neutral",
                                    "Number of Calls": "190"
                                },
                                {
                                    "state": "North Carolina",
                                    "sentiment": "Very Negative",
                                    "Number of Calls": "143"
                                },
                                {
                                    "state": "North Carolina",
                                    "sentiment": "Positive",
                                    "Number of Calls": "89"
                                },
                                {
                                    "state": "North Carolina",
                                    "sentiment": "Very Positive",
                                    "Number of Calls": "76"
                                },
                                {
                                    "state": "North Dakota",
                                    "sentiment": "Negative",
                                    "Number of Calls": "34"
                                },
                                {
                                    "state": "North Dakota",
                                    "sentiment": "Neutral",
                                    "Number of Calls": "17"
                                },
                                {
                                    "state": "North Dakota",
                                    "sentiment": "Positive",
                                    "Number of Calls": "12"
                                },
                                {
                                    "state": "North Dakota",
                                    "sentiment": "Very Negative",
                                    "Number of Calls": "9"
                                },
                                {
                                    "state": "North Dakota",
                                    "sentiment": "Very Positive",
                                    "Number of Calls": "4"
                                },
                                {
                                    "state": "Ohio",
                                    "sentiment": "Negative",
                                    "Number of Calls": "408"
                                },
                                {
                                    "state": "Ohio",
                                    "sentiment": "Neutral",
                                    "Number of Calls": "304"
                                },
                                {
                                    "state": "Ohio",
                                    "sentiment": "Very Negative",
                                    "Number of Calls": "197"
                                },
                                {
                                    "state": "Ohio",
                                    "sentiment": "Positive",
                                    "Number of Calls": "140"
                                },
                                {
                                    "state": "Ohio",
                                    "sentiment": "Very Positive",
                                    "Number of Calls": "111"
                                },
                                {
                                    "state": "Oklahoma",
                                    "sentiment": "Negative",
                                    "Number of Calls": "192"
                                },
                                {
                                    "state": "Oklahoma",
                                    "sentiment": "Neutral",
                                    "Number of Calls": "146"
                                },
                                {
                                    "state": "Oklahoma",
                                    "sentiment": "Very Negative",
                                    "Number of Calls": "76"
                                },
                                {
                                    "state": "Oklahoma",
                                    "sentiment": "Positive",
                                    "Number of Calls": "74"
                                },
                                {
                                    "state": "Oklahoma",
                                    "sentiment": "Very Positive",
                                    "Number of Calls": "50"
                                },
                                {
                                    "state": "Oregon",
                                    "sentiment": "Negative",
                                    "Number of Calls": "79"
                                },
                                {
                                    "state": "Oregon",
                                    "sentiment": "Neutral",
                                    "Number of Calls": "76"
                                },
                                {
                                    "state": "Oregon",
                                    "sentiment": "Very Negative",
                                    "Number of Calls": "54"
                                },
                                {
                                    "state": "Oregon",
                                    "sentiment": "Positive",
                                    "Number of Calls": "32"
                                },
                                {
                                    "state": "Oregon",
                                    "sentiment": "Very Positive",
                                    "Number of Calls": "20"
                                },
                                {
                                    "state": "Pennsylvania",
                                    "sentiment": "Negative",
                                    "Number of Calls": "330"
                                },
                                {
                                    "state": "Pennsylvania",
                                    "sentiment": "Neutral",
                                    "Number of Calls": "289"
                                },
                                {
                                    "state": "Pennsylvania",
                                    "sentiment": "Very Negative",
                                    "Number of Calls": "186"
                                },
                                {
                                    "state": "Pennsylvania",
                                    "sentiment": "Positive",
                                    "Number of Calls": "111"
                                },
                                {
                                    "state": "Pennsylvania",
                                    "sentiment": "Very Positive",
                                    "Number of Calls": "101"
                                },
                                {
                                    "state": "Rhode Island",
                                    "sentiment": "Neutral",
                                    "Number of Calls": "14"
                                },
                                {
                                    "state": "Rhode Island",
                                    "sentiment": "Negative",
                                    "Number of Calls": "10"
                                },
                                {
                                    "state": "Rhode Island",
                                    "sentiment": "Positive",
                                    "Number of Calls": "5"
                                },
                                {
                                    "state": "Rhode Island",
                                    "sentiment": "Very Negative",
                                    "Number of Calls": "5"
                                },
                                {
                                    "state": "Rhode Island",
                                    "sentiment": "Very Positive",
                                    "Number of Calls": "1"
                                },
                                {
                                    "state": "South Carolina",
                                    "sentiment": "Negative",
                                    "Number of Calls": "95"
                                },
                                {
                                    "state": "South Carolina",
                                    "sentiment": "Neutral",
                                    "Number of Calls": "88"
                                },
                                {
                                    "state": "South Carolina",
                                    "sentiment": "Very Negative",
                                    "Number of Calls": "73"
                                },
                                {
                                    "state": "South Carolina",
                                    "sentiment": "Very Positive",
                                    "Number of Calls": "31"
                                },
                                {
                                    "state": "South Carolina",
                                    "sentiment": "Positive",
                                    "Number of Calls": "28"
                                },
                                {
                                    "state": "South Dakota",
                                    "sentiment": "Negative",
                                    "Number of Calls": "36"
                                },
                                {
                                    "state": "South Dakota",
                                    "sentiment": "Neutral",
                                    "Number of Calls": "24"
                                },
                                {
                                    "state": "South Dakota",
                                    "sentiment": "Very Negative",
                                    "Number of Calls": "14"
                                },
                                {
                                    "state": "South Dakota",
                                    "sentiment": "Positive",
                                    "Number of Calls": "13"
                                },
                                {
                                    "state": "South Dakota",
                                    "sentiment": "Very Positive",
                                    "Number of Calls": "6"
                                },
                                {
                                    "state": "Tennessee",
                                    "sentiment": "Negative",
                                    "Number of Calls": "235"
                                },
                                {
                                    "state": "Tennessee",
                                    "sentiment": "Neutral",
                                    "Number of Calls": "190"
                                },
                                {
                                    "state": "Tennessee",
                                    "sentiment": "Very Negative",
                                    "Number of Calls": "111"
                                },
                                {
                                    "state": "Tennessee",
                                    "sentiment": "Positive",
                                    "Number of Calls": "68"
                                },
                                {
                                    "state": "Tennessee",
                                    "sentiment": "Very Positive",
                                    "Number of Calls": "60"
                                },
                                {
                                    "state": "Texas",
                                    "sentiment": "Negative",
                                    "Number of Calls": "1245"
                                },
                                {
                                    "state": "Texas",
                                    "sentiment": "Neutral",
                                    "Number of Calls": "934"
                                },
                                {
                                    "state": "Texas",
                                    "sentiment": "Very Negative",
                                    "Number of Calls": "639"
                                },
                                {
                                    "state": "Texas",
                                    "sentiment": "Positive",
                                    "Number of Calls": "417"
                                },
                                {
                                    "state": "Texas",
                                    "sentiment": "Very Positive",
                                    "Number of Calls": "337"
                                },
                                {
                                    "state": "Utah",
                                    "sentiment": "Negative",
                                    "Number of Calls": "99"
                                },
                                {
                                    "state": "Utah",
                                    "sentiment": "Neutral",
                                    "Number of Calls": "71"
                                },
                                {
                                    "state": "Utah",
                                    "sentiment": "Very Negative",
                                    "Number of Calls": "55"
                                },
                                {
                                    "state": "Utah",
                                    "sentiment": "Positive",
                                    "Number of Calls": "45"
                                },
                                {
                                    "state": "Utah",
                                    "sentiment": "Very Positive",
                                    "Number of Calls": "28"
                                },
                                {
                                    "state": "Vermont",
                                    "sentiment": "Neutral",
                                    "Number of Calls": "5"
                                },
                                {
                                    "state": "Vermont",
                                    "sentiment": "Negative",
                                    "Number of Calls": "4"
                                },
                                {
                                    "state": "Vermont",
                                    "sentiment": "Positive",
                                    "Number of Calls": "3"
                                },
                                {
                                    "state": "Vermont",
                                    "sentiment": "Very Negative",
                                    "Number of Calls": "2"
                                },
                                {
                                    "state": "Virginia",
                                    "sentiment": "Negative",
                                    "Number of Calls": "366"
                                },
                                {
                                    "state": "Virginia",
                                    "sentiment": "Neutral",
                                    "Number of Calls": "314"
                                },
                                {
                                    "state": "Virginia",
                                    "sentiment": "Very Negative",
                                    "Number of Calls": "240"
                                },
                                {
                                    "state": "Virginia",
                                    "sentiment": "Positive",
                                    "Number of Calls": "135"
                                },
                                {
                                    "state": "Virginia",
                                    "sentiment": "Very Positive",
                                    "Number of Calls": "109"
                                },
                                {
                                    "state": "Washington",
                                    "sentiment": "Negative",
                                    "Number of Calls": "245"
                                },
                                {
                                    "state": "Washington",
                                    "sentiment": "Neutral",
                                    "Number of Calls": "161"
                                },
                                {
                                    "state": "Washington",
                                    "sentiment": "Very Negative",
                                    "Number of Calls": "106"
                                },
                                {
                                    "state": "Washington",
                                    "sentiment": "Positive",
                                    "Number of Calls": "97"
                                },
                                {
                                    "state": "Washington",
                                    "sentiment": "Very Positive",
                                    "Number of Calls": "54"
                                },
                                {
                                    "state": "West Virginia",
                                    "sentiment": "Neutral",
                                    "Number of Calls": "98"
                                },
                                {
                                    "state": "West Virginia",
                                    "sentiment": "Negative",
                                    "Number of Calls": "85"
                                },
                                {
                                    "state": "West Virginia",
                                    "sentiment": "Very Negative",
                                    "Number of Calls": "52"
                                },
                                {
                                    "state": "West Virginia",
                                    "sentiment": "Positive",
                                    "Number of Calls": "39"
                                },
                                {
                                    "state": "West Virginia",
                                    "sentiment": "Very Positive",
                                    "Number of Calls": "27"
                                },
                                {
                                    "state": "Wisconsin",
                                    "sentiment": "Negative",
                                    "Number of Calls": "119"
                                },
                                {
                                    "state": "Wisconsin",
                                    "sentiment": "Neutral",
                                    "Number of Calls": "82"
                                },
                                {
                                    "state": "Wisconsin",
                                    "sentiment": "Very Negative",
                                    "Number of Calls": "69"
                                },
                                {
                                    "state": "Wisconsin",
                                    "sentiment": "Positive",
                                    "Number of Calls": "41"
                                },
                                {
                                    "state": "Wisconsin",
                                    "sentiment": "Very Positive",
                                    "Number of Calls": "31"
                                },
                                {
                                    "state": "Wyoming",
                                    "sentiment": "Negative",
                                    "Number of Calls": "8"
                                },
                                {
                                    "state": "Wyoming",
                                    "sentiment": "Neutral",
                                    "Number of Calls": "3"
                                }
                            ]
                        },
                        "text/html": [
                            "<table>",
                            "<tr><th>state</th><th>sentiment</th><th>Number of Calls</th></tr>",
                            "<tr><td>Alabama</td><td>Negative</td><td>265</td></tr>",
                            "<tr><td>Alabama</td><td>Neutral</td><td>200</td></tr>",
                            "<tr><td>Alabama</td><td>Very Negative</td><td>129</td></tr>",
                            "<tr><td>Alabama</td><td>Positive</td><td>74</td></tr>",
                            "<tr><td>Alabama</td><td>Very Positive</td><td>70</td></tr>",
                            "<tr><td>Alaska</td><td>Negative</td><td>45</td></tr>",
                            "<tr><td>Alaska</td><td>Neutral</td><td>32</td></tr>",
                            "<tr><td>Alaska</td><td>Very Negative</td><td>28</td></tr>",
                            "<tr><td>Alaska</td><td>Positive</td><td>25</td></tr>",
                            "<tr><td>Alaska</td><td>Very Positive</td><td>16</td></tr>",
                            "<tr><td>Arizona</td><td>Negative</td><td>235</td></tr>",
                            "<tr><td>Arizona</td><td>Neutral</td><td>204</td></tr>",
                            "<tr><td>Arizona</td><td>Very Negative</td><td>131</td></tr>",
                            "<tr><td>Arizona</td><td>Positive</td><td>94</td></tr>",
                            "<tr><td>Arizona</td><td>Very Positive</td><td>73</td></tr>",
                            "<tr><td>Arkansas</td><td>Negative</td><td>73</td></tr>",
                            "<tr><td>Arkansas</td><td>Neutral</td><td>50</td></tr>",
                            "<tr><td>Arkansas</td><td>Very Negative</td><td>39</td></tr>",
                            "<tr><td>Arkansas</td><td>Very Positive</td><td>22</td></tr>",
                            "<tr><td>Arkansas</td><td>Positive</td><td>20</td></tr>",
                            "<tr><td>California</td><td>Negative</td><td>1255</td></tr>",
                            "<tr><td>California</td><td>Neutral</td><td>963</td></tr>",
                            "<tr><td>California</td><td>Very Negative</td><td>630</td></tr>",
                            "<tr><td>California</td><td>Positive</td><td>422</td></tr>",
                            "<tr><td>California</td><td>Very Positive</td><td>361</td></tr>",
                            "<tr><td>Colorado</td><td>Negative</td><td>253</td></tr>",
                            "<tr><td>Colorado</td><td>Neutral</td><td>181</td></tr>",
                            "<tr><td>Colorado</td><td>Very Negative</td><td>158</td></tr>",
                            "<tr><td>Colorado</td><td>Positive</td><td>85</td></tr>",
                            "<tr><td>Colorado</td><td>Very Positive</td><td>65</td></tr>",
                            "<tr><td>Connecticut</td><td>Negative</td><td>138</td></tr>",
                            "<tr><td>Connecticut</td><td>Neutral</td><td>105</td></tr>",
                            "<tr><td>Connecticut</td><td>Very Negative</td><td>68</td></tr>",
                            "<tr><td>Connecticut</td><td>Positive</td><td>56</td></tr>",
                            "<tr><td>Connecticut</td><td>Very Positive</td><td>41</td></tr>",
                            "<tr><td>Delaware</td><td>Negative</td><td>46</td></tr>",
                            "<tr><td>Delaware</td><td>Very Negative</td><td>27</td></tr>",
                            "<tr><td>Delaware</td><td>Neutral</td><td>26</td></tr>",
                            "<tr><td>Delaware</td><td>Very Positive</td><td>15</td></tr>",
                            "<tr><td>Delaware</td><td>Positive</td><td>14</td></tr>",
                            "<tr><td>District of Columbia</td><td>Negative</td><td>395</td></tr>",
                            "<tr><td>District of Columbia</td><td>Neutral</td><td>290</td></tr>",
                            "<tr><td>District of Columbia</td><td>Very Negative</td><td>190</td></tr>",
                            "<tr><td>District of Columbia</td><td>Positive</td><td>133</td></tr>",
                            "<tr><td>District of Columbia</td><td>Very Positive</td><td>102</td></tr>",
                            "<tr><td>Florida</td><td>Negative</td><td>920</td></tr>",
                            "<tr><td>Florida</td><td>Neutral</td><td>750</td></tr>",
                            "<tr><td>Florida</td><td>Very Negative</td><td>541</td></tr>",
                            "<tr><td>Florida</td><td>Positive</td><td>348</td></tr>",
                            "<tr><td>Florida</td><td>Very Positive</td><td>275</td></tr>",
                            "<tr><td>Georgia</td><td>Negative</td><td>304</td></tr>",
                            "<tr><td>Georgia</td><td>Neutral</td><td>238</td></tr>",
                            "<tr><td>Georgia</td><td>Very Negative</td><td>176</td></tr>",
                            "<tr><td>Georgia</td><td>Positive</td><td>113</td></tr>",
                            "<tr><td>Georgia</td><td>Very Positive</td><td>95</td></tr>",
                            "<tr><td>Hawaii</td><td>Neutral</td><td>50</td></tr>",
                            "<tr><td>Hawaii</td><td>Negative</td><td>48</td></tr>",
                            "<tr><td>Hawaii</td><td>Very Negative</td><td>20</td></tr>",
                            "<tr><td>Hawaii</td><td>Positive</td><td>17</td></tr>",
                            "<tr><td>Hawaii</td><td>Very Positive</td><td>14</td></tr>",
                            "<tr><td>Idaho</td><td>Negative</td><td>55</td></tr>",
                            "<tr><td>Idaho</td><td>Neutral</td><td>47</td></tr>",
                            "<tr><td>Idaho</td><td>Very Negative</td><td>29</td></tr>",
                            "<tr><td>Idaho</td><td>Positive</td><td>23</td></tr>",
                            "<tr><td>Idaho</td><td>Very Positive</td><td>20</td></tr>",
                            "<tr><td>Illinois</td><td>Negative</td><td>286</td></tr>",
                            "<tr><td>Illinois</td><td>Neutral</td><td>223</td></tr>",
                            "<tr><td>Illinois</td><td>Very Negative</td><td>148</td></tr>",
                            "<tr><td>Illinois</td><td>Very Positive</td><td>97</td></tr>",
                            "<tr><td>Illinois</td><td>Positive</td><td>94</td></tr>",
                            "<tr><td>Indiana</td><td>Negative</td><td>256</td></tr>",
                            "<tr><td>Indiana</td><td>Neutral</td><td>198</td></tr>",
                            "<tr><td>Indiana</td><td>Very Negative</td><td>123</td></tr>",
                            "<tr><td>Indiana</td><td>Positive</td><td>82</td></tr>",
                            "<tr><td>Indiana</td><td>Very Positive</td><td>77</td></tr>",
                            "<tr><td>Iowa</td><td>Negative</td><td>114</td></tr>",
                            "<tr><td>Iowa</td><td>Neutral</td><td>97</td></tr>",
                            "<tr><td>Iowa</td><td>Very Negative</td><td>70</td></tr>",
                            "<tr><td>Iowa</td><td>Positive</td><td>49</td></tr>",
                            "<tr><td>Iowa</td><td>Very Positive</td><td>36</td></tr>",
                            "<tr><td>Kansas</td><td>Neutral</td><td>149</td></tr>",
                            "<tr><td>Kansas</td><td>Negative</td><td>132</td></tr>",
                            "<tr><td>Kansas</td><td>Very Negative</td><td>84</td></tr>",
                            "<tr><td>Kansas</td><td>Positive</td><td>53</td></tr>",
                            "<tr><td>Kansas</td><td>Very Positive</td><td>49</td></tr>",
                            "<tr><td>Kentucky</td><td>Negative</td><td>118</td></tr>",
                            "<tr><td>Kentucky</td><td>Neutral</td><td>112</td></tr>",
                            "<tr><td>Kentucky</td><td>Very Negative</td><td>93</td></tr>",
                            "<tr><td>Kentucky</td><td>Positive</td><td>45</td></tr>",
                            "<tr><td>Kentucky</td><td>Very Positive</td><td>43</td></tr>",
                            "<tr><td>Louisiana</td><td>Negative</td><td>199</td></tr>",
                            "<tr><td>Louisiana</td><td>Neutral</td><td>174</td></tr>",
                            "<tr><td>Louisiana</td><td>Very Negative</td><td>115</td></tr>",
                            "<tr><td>Louisiana</td><td>Positive</td><td>84</td></tr>",
                            "<tr><td>Louisiana</td><td>Very Positive</td><td>55</td></tr>",
                            "<tr><td>Maine</td><td>Neutral</td><td>8</td></tr>",
                            "<tr><td>Maine</td><td>Negative</td><td>4</td></tr>",
                            "<tr><td>Maine</td><td>Very Negative</td><td>3</td></tr>",
                            "<tr><td>Maine</td><td>Very Positive</td><td>1</td></tr>",
                            "<tr><td>Maryland</td><td>Negative</td><td>136</td></tr>",
                            "<tr><td>Maryland</td><td>Neutral</td><td>114</td></tr>",
                            "<tr><td>Maryland</td><td>Very Negative</td><td>83</td></tr>",
                            "<tr><td>Maryland</td><td>Positive</td><td>42</td></tr>",
                            "<tr><td>Maryland</td><td>Very Positive</td><td>40</td></tr>",
                            "<tr><td>Massachusetts</td><td>Negative</td><td>146</td></tr>",
                            "<tr><td>Massachusetts</td><td>Neutral</td><td>135</td></tr>",
                            "<tr><td>Massachusetts</td><td>Very Negative</td><td>85</td></tr>",
                            "<tr><td>Massachusetts</td><td>Positive</td><td>71</td></tr>",
                            "<tr><td>Massachusetts</td><td>Very Positive</td><td>56</td></tr>",
                            "<tr><td>Michigan</td><td>Negative</td><td>203</td></tr>",
                            "<tr><td>Michigan</td><td>Neutral</td><td>144</td></tr>",
                            "<tr><td>Michigan</td><td>Very Negative</td><td>129</td></tr>",
                            "<tr><td>Michigan</td><td>Positive</td><td>81</td></tr>",
                            "<tr><td>Michigan</td><td>Very Positive</td><td>55</td></tr>",
                            "<tr><td>Minnesota</td><td>Negative</td><td>269</td></tr>",
                            "<tr><td>Minnesota</td><td>Neutral</td><td>186</td></tr>",
                            "<tr><td>Minnesota</td><td>Very Negative</td><td>106</td></tr>",
                            "<tr><td>Minnesota</td><td>Positive</td><td>94</td></tr>",
                            "<tr><td>Minnesota</td><td>Very Positive</td><td>57</td></tr>",
                            "<tr><td>Mississippi</td><td>Negative</td><td>62</td></tr>",
                            "<tr><td>Mississippi</td><td>Neutral</td><td>40</td></tr>",
                            "<tr><td>Mississippi</td><td>Positive</td><td>29</td></tr>",
                            "<tr><td>Mississippi</td><td>Very Negative</td><td>28</td></tr>",
                            "<tr><td>Mississippi</td><td>Very Positive</td><td>19</td></tr>",
                            "<tr><td>Missouri</td><td>Negative</td><td>222</td></tr>",
                            "<tr><td>Missouri</td><td>Neutral</td><td>182</td></tr>",
                            "<tr><td>Missouri</td><td>Very Negative</td><td>132</td></tr>",
                            "<tr><td>Missouri</td><td>Positive</td><td>80</td></tr>",
                            "<tr><td>Missouri</td><td>Very Positive</td><td>66</td></tr>",
                            "<tr><td>Montana</td><td>Negative</td><td>28</td></tr>",
                            "<tr><td>Montana</td><td>Neutral</td><td>24</td></tr>",
                            "<tr><td>Montana</td><td>Very Negative</td><td>22</td></tr>",
                            "<tr><td>Montana</td><td>Positive</td><td>14</td></tr>",
                            "<tr><td>Montana</td><td>Very Positive</td><td>6</td></tr>",
                            "<tr><td>Nebraska</td><td>Negative</td><td>88</td></tr>",
                            "<tr><td>Nebraska</td><td>Neutral</td><td>62</td></tr>",
                            "<tr><td>Nebraska</td><td>Very Negative</td><td>51</td></tr>",
                            "<tr><td>Nebraska</td><td>Positive</td><td>23</td></tr>",
                            "<tr><td>Nebraska</td><td>Very Positive</td><td>19</td></tr>",
                            "<tr><td>Nevada</td><td>Negative</td><td>131</td></tr>",
                            "<tr><td>Nevada</td><td>Neutral</td><td>125</td></tr>",
                            "<tr><td>Nevada</td><td>Very Negative</td><td>105</td></tr>",
                            "<tr><td>Nevada</td><td>Positive</td><td>50</td></tr>",
                            "<tr><td>Nevada</td><td>Very Positive</td><td>48</td></tr>",
                            "<tr><td>New Hampshire</td><td>Neutral</td><td>19</td></tr>",
                            "<tr><td>New Hampshire</td><td>Negative</td><td>18</td></tr>",
                            "<tr><td>New Hampshire</td><td>Very Negative</td><td>7</td></tr>",
                            "<tr><td>New Hampshire</td><td>Positive</td><td>4</td></tr>",
                            "<tr><td>New Hampshire</td><td>Very Positive</td><td>3</td></tr>",
                            "<tr><td>New Jersey</td><td>Negative</td><td>99</td></tr>",
                            "<tr><td>New Jersey</td><td>Neutral</td><td>79</td></tr>",
                            "<tr><td>New Jersey</td><td>Very Negative</td><td>59</td></tr>",
                            "<tr><td>New Jersey</td><td>Positive</td><td>44</td></tr>",
                            "<tr><td>New Jersey</td><td>Very Positive</td><td>36</td></tr>",
                            "<tr><td>New Mexico</td><td>Negative</td><td>62</td></tr>",
                            "<tr><td>New Mexico</td><td>Neutral</td><td>54</td></tr>",
                            "<tr><td>New Mexico</td><td>Very Negative</td><td>47</td></tr>",
                            "<tr><td>New Mexico</td><td>Positive</td><td>26</td></tr>",
                            "<tr><td>New Mexico</td><td>Very Positive</td><td>23</td></tr>",
                            "<tr><td>New York</td><td>Negative</td><td>601</td></tr>",
                            "<tr><td>New York</td><td>Neutral</td><td>487</td></tr>",
                            "<tr><td>New York</td><td>Very Negative</td><td>339</td></tr>",
                            "<tr><td>New York</td><td>Positive</td><td>190</td></tr>",
                            "<tr><td>New York</td><td>Very Positive</td><td>169</td></tr>",
                            "<tr><td>North Carolina</td><td>Negative</td><td>267</td></tr>",
                            "<tr><td>North Carolina</td><td>Neutral</td><td>190</td></tr>",
                            "<tr><td>North Carolina</td><td>Very Negative</td><td>143</td></tr>",
                            "<tr><td>North Carolina</td><td>Positive</td><td>89</td></tr>",
                            "<tr><td>North Carolina</td><td>Very Positive</td><td>76</td></tr>",
                            "<tr><td>North Dakota</td><td>Negative</td><td>34</td></tr>",
                            "<tr><td>North Dakota</td><td>Neutral</td><td>17</td></tr>",
                            "<tr><td>North Dakota</td><td>Positive</td><td>12</td></tr>",
                            "<tr><td>North Dakota</td><td>Very Negative</td><td>9</td></tr>",
                            "<tr><td>North Dakota</td><td>Very Positive</td><td>4</td></tr>",
                            "<tr><td>Ohio</td><td>Negative</td><td>408</td></tr>",
                            "<tr><td>Ohio</td><td>Neutral</td><td>304</td></tr>",
                            "<tr><td>Ohio</td><td>Very Negative</td><td>197</td></tr>",
                            "<tr><td>Ohio</td><td>Positive</td><td>140</td></tr>",
                            "<tr><td>Ohio</td><td>Very Positive</td><td>111</td></tr>",
                            "<tr><td>Oklahoma</td><td>Negative</td><td>192</td></tr>",
                            "<tr><td>Oklahoma</td><td>Neutral</td><td>146</td></tr>",
                            "<tr><td>Oklahoma</td><td>Very Negative</td><td>76</td></tr>",
                            "<tr><td>Oklahoma</td><td>Positive</td><td>74</td></tr>",
                            "<tr><td>Oklahoma</td><td>Very Positive</td><td>50</td></tr>",
                            "<tr><td>Oregon</td><td>Negative</td><td>79</td></tr>",
                            "<tr><td>Oregon</td><td>Neutral</td><td>76</td></tr>",
                            "<tr><td>Oregon</td><td>Very Negative</td><td>54</td></tr>",
                            "<tr><td>Oregon</td><td>Positive</td><td>32</td></tr>",
                            "<tr><td>Oregon</td><td>Very Positive</td><td>20</td></tr>",
                            "<tr><td>Pennsylvania</td><td>Negative</td><td>330</td></tr>",
                            "<tr><td>Pennsylvania</td><td>Neutral</td><td>289</td></tr>",
                            "<tr><td>Pennsylvania</td><td>Very Negative</td><td>186</td></tr>",
                            "<tr><td>Pennsylvania</td><td>Positive</td><td>111</td></tr>",
                            "<tr><td>Pennsylvania</td><td>Very Positive</td><td>101</td></tr>",
                            "<tr><td>Rhode Island</td><td>Neutral</td><td>14</td></tr>",
                            "<tr><td>Rhode Island</td><td>Negative</td><td>10</td></tr>",
                            "<tr><td>Rhode Island</td><td>Positive</td><td>5</td></tr>",
                            "<tr><td>Rhode Island</td><td>Very Negative</td><td>5</td></tr>",
                            "<tr><td>Rhode Island</td><td>Very Positive</td><td>1</td></tr>",
                            "<tr><td>South Carolina</td><td>Negative</td><td>95</td></tr>",
                            "<tr><td>South Carolina</td><td>Neutral</td><td>88</td></tr>",
                            "<tr><td>South Carolina</td><td>Very Negative</td><td>73</td></tr>",
                            "<tr><td>South Carolina</td><td>Very Positive</td><td>31</td></tr>",
                            "<tr><td>South Carolina</td><td>Positive</td><td>28</td></tr>",
                            "<tr><td>South Dakota</td><td>Negative</td><td>36</td></tr>",
                            "<tr><td>South Dakota</td><td>Neutral</td><td>24</td></tr>",
                            "<tr><td>South Dakota</td><td>Very Negative</td><td>14</td></tr>",
                            "<tr><td>South Dakota</td><td>Positive</td><td>13</td></tr>",
                            "<tr><td>South Dakota</td><td>Very Positive</td><td>6</td></tr>",
                            "<tr><td>Tennessee</td><td>Negative</td><td>235</td></tr>",
                            "<tr><td>Tennessee</td><td>Neutral</td><td>190</td></tr>",
                            "<tr><td>Tennessee</td><td>Very Negative</td><td>111</td></tr>",
                            "<tr><td>Tennessee</td><td>Positive</td><td>68</td></tr>",
                            "<tr><td>Tennessee</td><td>Very Positive</td><td>60</td></tr>",
                            "<tr><td>Texas</td><td>Negative</td><td>1245</td></tr>",
                            "<tr><td>Texas</td><td>Neutral</td><td>934</td></tr>",
                            "<tr><td>Texas</td><td>Very Negative</td><td>639</td></tr>",
                            "<tr><td>Texas</td><td>Positive</td><td>417</td></tr>",
                            "<tr><td>Texas</td><td>Very Positive</td><td>337</td></tr>",
                            "<tr><td>Utah</td><td>Negative</td><td>99</td></tr>",
                            "<tr><td>Utah</td><td>Neutral</td><td>71</td></tr>",
                            "<tr><td>Utah</td><td>Very Negative</td><td>55</td></tr>",
                            "<tr><td>Utah</td><td>Positive</td><td>45</td></tr>",
                            "<tr><td>Utah</td><td>Very Positive</td><td>28</td></tr>",
                            "<tr><td>Vermont</td><td>Neutral</td><td>5</td></tr>",
                            "<tr><td>Vermont</td><td>Negative</td><td>4</td></tr>",
                            "<tr><td>Vermont</td><td>Positive</td><td>3</td></tr>",
                            "<tr><td>Vermont</td><td>Very Negative</td><td>2</td></tr>",
                            "<tr><td>Virginia</td><td>Negative</td><td>366</td></tr>",
                            "<tr><td>Virginia</td><td>Neutral</td><td>314</td></tr>",
                            "<tr><td>Virginia</td><td>Very Negative</td><td>240</td></tr>",
                            "<tr><td>Virginia</td><td>Positive</td><td>135</td></tr>",
                            "<tr><td>Virginia</td><td>Very Positive</td><td>109</td></tr>",
                            "<tr><td>Washington</td><td>Negative</td><td>245</td></tr>",
                            "<tr><td>Washington</td><td>Neutral</td><td>161</td></tr>",
                            "<tr><td>Washington</td><td>Very Negative</td><td>106</td></tr>",
                            "<tr><td>Washington</td><td>Positive</td><td>97</td></tr>",
                            "<tr><td>Washington</td><td>Very Positive</td><td>54</td></tr>",
                            "<tr><td>West Virginia</td><td>Neutral</td><td>98</td></tr>",
                            "<tr><td>West Virginia</td><td>Negative</td><td>85</td></tr>",
                            "<tr><td>West Virginia</td><td>Very Negative</td><td>52</td></tr>",
                            "<tr><td>West Virginia</td><td>Positive</td><td>39</td></tr>",
                            "<tr><td>West Virginia</td><td>Very Positive</td><td>27</td></tr>",
                            "<tr><td>Wisconsin</td><td>Negative</td><td>119</td></tr>",
                            "<tr><td>Wisconsin</td><td>Neutral</td><td>82</td></tr>",
                            "<tr><td>Wisconsin</td><td>Very Negative</td><td>69</td></tr>",
                            "<tr><td>Wisconsin</td><td>Positive</td><td>41</td></tr>",
                            "<tr><td>Wisconsin</td><td>Very Positive</td><td>31</td></tr>",
                            "<tr><td>Wyoming</td><td>Negative</td><td>8</td></tr>",
                            "<tr><td>Wyoming</td><td>Neutral</td><td>3</td></tr>",
                            "</table>"
                        ]
                    }
                }
            ],
            "execution_count": 54
        },
        {
            "cell_type": "code",
            "source": [
                "SELECT state, reason, COUNT(*) as 'Number of Calls' FROM CallCenter cs \r\n",
                "GROUP BY state, reason \r\n",
                "ORDER BY 1,2,3 DESC;"
            ],
            "metadata": {
                "azdata_cell_guid": "5963f45f-e758-45d9-964f-582718dc149a",
                "language": "sql"
            },
            "outputs": [
                {
                    "output_type": "display_data",
                    "data": {
                        "text/html": "(153 rows affected)"
                    },
                    "metadata": {}
                },
                {
                    "output_type": "display_data",
                    "data": {
                        "text/html": "Total execution time: 00:00:00.051"
                    },
                    "metadata": {}
                },
                {
                    "output_type": "execute_result",
                    "metadata": {},
                    "execution_count": 55,
                    "data": {
                        "application/vnd.dataresource+json": {
                            "schema": {
                                "fields": [
                                    {
                                        "name": "state"
                                    },
                                    {
                                        "name": "reason"
                                    },
                                    {
                                        "name": "Number of Calls"
                                    }
                                ]
                            },
                            "data": [
                                {
                                    "state": "Alabama",
                                    "reason": "Billing Question",
                                    "Number of Calls": "538"
                                },
                                {
                                    "state": "Alabama",
                                    "reason": "Payments",
                                    "Number of Calls": "105"
                                },
                                {
                                    "state": "Alabama",
                                    "reason": "Service Outage",
                                    "Number of Calls": "95"
                                },
                                {
                                    "state": "Alaska",
                                    "reason": "Billing Question",
                                    "Number of Calls": "93"
                                },
                                {
                                    "state": "Alaska",
                                    "reason": "Payments",
                                    "Number of Calls": "25"
                                },
                                {
                                    "state": "Alaska",
                                    "reason": "Service Outage",
                                    "Number of Calls": "28"
                                },
                                {
                                    "state": "Arizona",
                                    "reason": "Billing Question",
                                    "Number of Calls": "507"
                                },
                                {
                                    "state": "Arizona",
                                    "reason": "Payments",
                                    "Number of Calls": "119"
                                },
                                {
                                    "state": "Arizona",
                                    "reason": "Service Outage",
                                    "Number of Calls": "111"
                                },
                                {
                                    "state": "Arkansas",
                                    "reason": "Billing Question",
                                    "Number of Calls": "152"
                                },
                                {
                                    "state": "Arkansas",
                                    "reason": "Payments",
                                    "Number of Calls": "29"
                                },
                                {
                                    "state": "Arkansas",
                                    "reason": "Service Outage",
                                    "Number of Calls": "23"
                                },
                                {
                                    "state": "California",
                                    "reason": "Billing Question",
                                    "Number of Calls": "2588"
                                },
                                {
                                    "state": "California",
                                    "reason": "Payments",
                                    "Number of Calls": "501"
                                },
                                {
                                    "state": "California",
                                    "reason": "Service Outage",
                                    "Number of Calls": "542"
                                },
                                {
                                    "state": "Colorado",
                                    "reason": "Billing Question",
                                    "Number of Calls": "516"
                                },
                                {
                                    "state": "Colorado",
                                    "reason": "Payments",
                                    "Number of Calls": "132"
                                },
                                {
                                    "state": "Colorado",
                                    "reason": "Service Outage",
                                    "Number of Calls": "94"
                                },
                                {
                                    "state": "Connecticut",
                                    "reason": "Billing Question",
                                    "Number of Calls": "275"
                                },
                                {
                                    "state": "Connecticut",
                                    "reason": "Payments",
                                    "Number of Calls": "69"
                                },
                                {
                                    "state": "Connecticut",
                                    "reason": "Service Outage",
                                    "Number of Calls": "64"
                                },
                                {
                                    "state": "Delaware",
                                    "reason": "Billing Question",
                                    "Number of Calls": "90"
                                },
                                {
                                    "state": "Delaware",
                                    "reason": "Payments",
                                    "Number of Calls": "22"
                                },
                                {
                                    "state": "Delaware",
                                    "reason": "Service Outage",
                                    "Number of Calls": "16"
                                },
                                {
                                    "state": "District of Columbia",
                                    "reason": "Billing Question",
                                    "Number of Calls": "806"
                                },
                                {
                                    "state": "District of Columbia",
                                    "reason": "Payments",
                                    "Number of Calls": "164"
                                },
                                {
                                    "state": "District of Columbia",
                                    "reason": "Service Outage",
                                    "Number of Calls": "140"
                                },
                                {
                                    "state": "Florida",
                                    "reason": "Billing Question",
                                    "Number of Calls": "2015"
                                },
                                {
                                    "state": "Florida",
                                    "reason": "Payments",
                                    "Number of Calls": "418"
                                },
                                {
                                    "state": "Florida",
                                    "reason": "Service Outage",
                                    "Number of Calls": "401"
                                },
                                {
                                    "state": "Georgia",
                                    "reason": "Billing Question",
                                    "Number of Calls": "653"
                                },
                                {
                                    "state": "Georgia",
                                    "reason": "Payments",
                                    "Number of Calls": "132"
                                },
                                {
                                    "state": "Georgia",
                                    "reason": "Service Outage",
                                    "Number of Calls": "141"
                                },
                                {
                                    "state": "Hawaii",
                                    "reason": "Billing Question",
                                    "Number of Calls": "107"
                                },
                                {
                                    "state": "Hawaii",
                                    "reason": "Payments",
                                    "Number of Calls": "23"
                                },
                                {
                                    "state": "Hawaii",
                                    "reason": "Service Outage",
                                    "Number of Calls": "19"
                                },
                                {
                                    "state": "Idaho",
                                    "reason": "Billing Question",
                                    "Number of Calls": "124"
                                },
                                {
                                    "state": "Idaho",
                                    "reason": "Payments",
                                    "Number of Calls": "29"
                                },
                                {
                                    "state": "Idaho",
                                    "reason": "Service Outage",
                                    "Number of Calls": "21"
                                },
                                {
                                    "state": "Illinois",
                                    "reason": "Billing Question",
                                    "Number of Calls": "568"
                                },
                                {
                                    "state": "Illinois",
                                    "reason": "Payments",
                                    "Number of Calls": "151"
                                },
                                {
                                    "state": "Illinois",
                                    "reason": "Service Outage",
                                    "Number of Calls": "129"
                                },
                                {
                                    "state": "Indiana",
                                    "reason": "Billing Question",
                                    "Number of Calls": "517"
                                },
                                {
                                    "state": "Indiana",
                                    "reason": "Payments",
                                    "Number of Calls": "115"
                                },
                                {
                                    "state": "Indiana",
                                    "reason": "Service Outage",
                                    "Number of Calls": "104"
                                },
                                {
                                    "state": "Iowa",
                                    "reason": "Billing Question",
                                    "Number of Calls": "262"
                                },
                                {
                                    "state": "Iowa",
                                    "reason": "Payments",
                                    "Number of Calls": "54"
                                },
                                {
                                    "state": "Iowa",
                                    "reason": "Service Outage",
                                    "Number of Calls": "50"
                                },
                                {
                                    "state": "Kansas",
                                    "reason": "Billing Question",
                                    "Number of Calls": "331"
                                },
                                {
                                    "state": "Kansas",
                                    "reason": "Payments",
                                    "Number of Calls": "68"
                                },
                                {
                                    "state": "Kansas",
                                    "reason": "Service Outage",
                                    "Number of Calls": "68"
                                },
                                {
                                    "state": "Kentucky",
                                    "reason": "Billing Question",
                                    "Number of Calls": "296"
                                },
                                {
                                    "state": "Kentucky",
                                    "reason": "Payments",
                                    "Number of Calls": "65"
                                },
                                {
                                    "state": "Kentucky",
                                    "reason": "Service Outage",
                                    "Number of Calls": "50"
                                },
                                {
                                    "state": "Louisiana",
                                    "reason": "Billing Question",
                                    "Number of Calls": "460"
                                },
                                {
                                    "state": "Louisiana",
                                    "reason": "Payments",
                                    "Number of Calls": "83"
                                },
                                {
                                    "state": "Louisiana",
                                    "reason": "Service Outage",
                                    "Number of Calls": "84"
                                },
                                {
                                    "state": "Maine",
                                    "reason": "Billing Question",
                                    "Number of Calls": "12"
                                },
                                {
                                    "state": "Maine",
                                    "reason": "Payments",
                                    "Number of Calls": "3"
                                },
                                {
                                    "state": "Maine",
                                    "reason": "Service Outage",
                                    "Number of Calls": "1"
                                },
                                {
                                    "state": "Maryland",
                                    "reason": "Billing Question",
                                    "Number of Calls": "303"
                                },
                                {
                                    "state": "Maryland",
                                    "reason": "Payments",
                                    "Number of Calls": "45"
                                },
                                {
                                    "state": "Maryland",
                                    "reason": "Service Outage",
                                    "Number of Calls": "67"
                                },
                                {
                                    "state": "Massachusetts",
                                    "reason": "Billing Question",
                                    "Number of Calls": "356"
                                },
                                {
                                    "state": "Massachusetts",
                                    "reason": "Payments",
                                    "Number of Calls": "67"
                                },
                                {
                                    "state": "Massachusetts",
                                    "reason": "Service Outage",
                                    "Number of Calls": "70"
                                },
                                {
                                    "state": "Michigan",
                                    "reason": "Billing Question",
                                    "Number of Calls": "455"
                                },
                                {
                                    "state": "Michigan",
                                    "reason": "Payments",
                                    "Number of Calls": "66"
                                },
                                {
                                    "state": "Michigan",
                                    "reason": "Service Outage",
                                    "Number of Calls": "91"
                                },
                                {
                                    "state": "Minnesota",
                                    "reason": "Billing Question",
                                    "Number of Calls": "502"
                                },
                                {
                                    "state": "Minnesota",
                                    "reason": "Payments",
                                    "Number of Calls": "104"
                                },
                                {
                                    "state": "Minnesota",
                                    "reason": "Service Outage",
                                    "Number of Calls": "106"
                                },
                                {
                                    "state": "Mississippi",
                                    "reason": "Billing Question",
                                    "Number of Calls": "129"
                                },
                                {
                                    "state": "Mississippi",
                                    "reason": "Payments",
                                    "Number of Calls": "33"
                                },
                                {
                                    "state": "Mississippi",
                                    "reason": "Service Outage",
                                    "Number of Calls": "16"
                                },
                                {
                                    "state": "Missouri",
                                    "reason": "Billing Question",
                                    "Number of Calls": "492"
                                },
                                {
                                    "state": "Missouri",
                                    "reason": "Payments",
                                    "Number of Calls": "97"
                                },
                                {
                                    "state": "Missouri",
                                    "reason": "Service Outage",
                                    "Number of Calls": "93"
                                },
                                {
                                    "state": "Montana",
                                    "reason": "Billing Question",
                                    "Number of Calls": "73"
                                },
                                {
                                    "state": "Montana",
                                    "reason": "Payments",
                                    "Number of Calls": "9"
                                },
                                {
                                    "state": "Montana",
                                    "reason": "Service Outage",
                                    "Number of Calls": "12"
                                },
                                {
                                    "state": "Nebraska",
                                    "reason": "Billing Question",
                                    "Number of Calls": "175"
                                },
                                {
                                    "state": "Nebraska",
                                    "reason": "Payments",
                                    "Number of Calls": "40"
                                },
                                {
                                    "state": "Nebraska",
                                    "reason": "Service Outage",
                                    "Number of Calls": "28"
                                },
                                {
                                    "state": "Nevada",
                                    "reason": "Billing Question",
                                    "Number of Calls": "343"
                                },
                                {
                                    "state": "Nevada",
                                    "reason": "Payments",
                                    "Number of Calls": "46"
                                },
                                {
                                    "state": "Nevada",
                                    "reason": "Service Outage",
                                    "Number of Calls": "70"
                                },
                                {
                                    "state": "New Hampshire",
                                    "reason": "Billing Question",
                                    "Number of Calls": "37"
                                },
                                {
                                    "state": "New Hampshire",
                                    "reason": "Payments",
                                    "Number of Calls": "5"
                                },
                                {
                                    "state": "New Hampshire",
                                    "reason": "Service Outage",
                                    "Number of Calls": "9"
                                },
                                {
                                    "state": "New Jersey",
                                    "reason": "Billing Question",
                                    "Number of Calls": "211"
                                },
                                {
                                    "state": "New Jersey",
                                    "reason": "Payments",
                                    "Number of Calls": "49"
                                },
                                {
                                    "state": "New Jersey",
                                    "reason": "Service Outage",
                                    "Number of Calls": "57"
                                },
                                {
                                    "state": "New Mexico",
                                    "reason": "Billing Question",
                                    "Number of Calls": "158"
                                },
                                {
                                    "state": "New Mexico",
                                    "reason": "Payments",
                                    "Number of Calls": "25"
                                },
                                {
                                    "state": "New Mexico",
                                    "reason": "Service Outage",
                                    "Number of Calls": "29"
                                },
                                {
                                    "state": "New York",
                                    "reason": "Billing Question",
                                    "Number of Calls": "1267"
                                },
                                {
                                    "state": "New York",
                                    "reason": "Payments",
                                    "Number of Calls": "267"
                                },
                                {
                                    "state": "New York",
                                    "reason": "Service Outage",
                                    "Number of Calls": "252"
                                },
                                {
                                    "state": "North Carolina",
                                    "reason": "Billing Question",
                                    "Number of Calls": "559"
                                },
                                {
                                    "state": "North Carolina",
                                    "reason": "Payments",
                                    "Number of Calls": "111"
                                },
                                {
                                    "state": "North Carolina",
                                    "reason": "Service Outage",
                                    "Number of Calls": "95"
                                },
                                {
                                    "state": "North Dakota",
                                    "reason": "Billing Question",
                                    "Number of Calls": "60"
                                },
                                {
                                    "state": "North Dakota",
                                    "reason": "Payments",
                                    "Number of Calls": "7"
                                },
                                {
                                    "state": "North Dakota",
                                    "reason": "Service Outage",
                                    "Number of Calls": "9"
                                },
                                {
                                    "state": "Ohio",
                                    "reason": "Billing Question",
                                    "Number of Calls": "819"
                                },
                                {
                                    "state": "Ohio",
                                    "reason": "Payments",
                                    "Number of Calls": "166"
                                },
                                {
                                    "state": "Ohio",
                                    "reason": "Service Outage",
                                    "Number of Calls": "175"
                                },
                                {
                                    "state": "Oklahoma",
                                    "reason": "Billing Question",
                                    "Number of Calls": "382"
                                },
                                {
                                    "state": "Oklahoma",
                                    "reason": "Payments",
                                    "Number of Calls": "77"
                                },
                                {
                                    "state": "Oklahoma",
                                    "reason": "Service Outage",
                                    "Number of Calls": "79"
                                },
                                {
                                    "state": "Oregon",
                                    "reason": "Billing Question",
                                    "Number of Calls": "186"
                                },
                                {
                                    "state": "Oregon",
                                    "reason": "Payments",
                                    "Number of Calls": "34"
                                },
                                {
                                    "state": "Oregon",
                                    "reason": "Service Outage",
                                    "Number of Calls": "41"
                                },
                                {
                                    "state": "Pennsylvania",
                                    "reason": "Billing Question",
                                    "Number of Calls": "701"
                                },
                                {
                                    "state": "Pennsylvania",
                                    "reason": "Payments",
                                    "Number of Calls": "150"
                                },
                                {
                                    "state": "Pennsylvania",
                                    "reason": "Service Outage",
                                    "Number of Calls": "166"
                                },
                                {
                                    "state": "Rhode Island",
                                    "reason": "Billing Question",
                                    "Number of Calls": "27"
                                },
                                {
                                    "state": "Rhode Island",
                                    "reason": "Payments",
                                    "Number of Calls": "6"
                                },
                                {
                                    "state": "Rhode Island",
                                    "reason": "Service Outage",
                                    "Number of Calls": "2"
                                },
                                {
                                    "state": "South Carolina",
                                    "reason": "Billing Question",
                                    "Number of Calls": "225"
                                },
                                {
                                    "state": "South Carolina",
                                    "reason": "Payments",
                                    "Number of Calls": "40"
                                },
                                {
                                    "state": "South Carolina",
                                    "reason": "Service Outage",
                                    "Number of Calls": "50"
                                },
                                {
                                    "state": "South Dakota",
                                    "reason": "Billing Question",
                                    "Number of Calls": "61"
                                },
                                {
                                    "state": "South Dakota",
                                    "reason": "Payments",
                                    "Number of Calls": "18"
                                },
                                {
                                    "state": "South Dakota",
                                    "reason": "Service Outage",
                                    "Number of Calls": "14"
                                },
                                {
                                    "state": "Tennessee",
                                    "reason": "Billing Question",
                                    "Number of Calls": "478"
                                },
                                {
                                    "state": "Tennessee",
                                    "reason": "Payments",
                                    "Number of Calls": "93"
                                },
                                {
                                    "state": "Tennessee",
                                    "reason": "Service Outage",
                                    "Number of Calls": "93"
                                },
                                {
                                    "state": "Texas",
                                    "reason": "Billing Question",
                                    "Number of Calls": "2551"
                                },
                                {
                                    "state": "Texas",
                                    "reason": "Payments",
                                    "Number of Calls": "507"
                                },
                                {
                                    "state": "Texas",
                                    "reason": "Service Outage",
                                    "Number of Calls": "514"
                                },
                                {
                                    "state": "Utah",
                                    "reason": "Billing Question",
                                    "Number of Calls": "205"
                                },
                                {
                                    "state": "Utah",
                                    "reason": "Payments",
                                    "Number of Calls": "46"
                                },
                                {
                                    "state": "Utah",
                                    "reason": "Service Outage",
                                    "Number of Calls": "47"
                                },
                                {
                                    "state": "Vermont",
                                    "reason": "Billing Question",
                                    "Number of Calls": "10"
                                },
                                {
                                    "state": "Vermont",
                                    "reason": "Payments",
                                    "Number of Calls": "3"
                                },
                                {
                                    "state": "Vermont",
                                    "reason": "Service Outage",
                                    "Number of Calls": "1"
                                },
                                {
                                    "state": "Virginia",
                                    "reason": "Billing Question",
                                    "Number of Calls": "854"
                                },
                                {
                                    "state": "Virginia",
                                    "reason": "Payments",
                                    "Number of Calls": "150"
                                },
                                {
                                    "state": "Virginia",
                                    "reason": "Service Outage",
                                    "Number of Calls": "160"
                                },
                                {
                                    "state": "Washington",
                                    "reason": "Billing Question",
                                    "Number of Calls": "480"
                                },
                                {
                                    "state": "Washington",
                                    "reason": "Payments",
                                    "Number of Calls": "83"
                                },
                                {
                                    "state": "Washington",
                                    "reason": "Service Outage",
                                    "Number of Calls": "100"
                                },
                                {
                                    "state": "West Virginia",
                                    "reason": "Billing Question",
                                    "Number of Calls": "197"
                                },
                                {
                                    "state": "West Virginia",
                                    "reason": "Payments",
                                    "Number of Calls": "45"
                                },
                                {
                                    "state": "West Virginia",
                                    "reason": "Service Outage",
                                    "Number of Calls": "59"
                                },
                                {
                                    "state": "Wisconsin",
                                    "reason": "Billing Question",
                                    "Number of Calls": "250"
                                },
                                {
                                    "state": "Wisconsin",
                                    "reason": "Payments",
                                    "Number of Calls": "49"
                                },
                                {
                                    "state": "Wisconsin",
                                    "reason": "Service Outage",
                                    "Number of Calls": "43"
                                },
                                {
                                    "state": "Wyoming",
                                    "reason": "Billing Question",
                                    "Number of Calls": "6"
                                },
                                {
                                    "state": "Wyoming",
                                    "reason": "Payments",
                                    "Number of Calls": "4"
                                },
                                {
                                    "state": "Wyoming",
                                    "reason": "Service Outage",
                                    "Number of Calls": "1"
                                }
                            ]
                        },
                        "text/html": [
                            "<table>",
                            "<tr><th>state</th><th>reason</th><th>Number of Calls</th></tr>",
                            "<tr><td>Alabama</td><td>Billing Question</td><td>538</td></tr>",
                            "<tr><td>Alabama</td><td>Payments</td><td>105</td></tr>",
                            "<tr><td>Alabama</td><td>Service Outage</td><td>95</td></tr>",
                            "<tr><td>Alaska</td><td>Billing Question</td><td>93</td></tr>",
                            "<tr><td>Alaska</td><td>Payments</td><td>25</td></tr>",
                            "<tr><td>Alaska</td><td>Service Outage</td><td>28</td></tr>",
                            "<tr><td>Arizona</td><td>Billing Question</td><td>507</td></tr>",
                            "<tr><td>Arizona</td><td>Payments</td><td>119</td></tr>",
                            "<tr><td>Arizona</td><td>Service Outage</td><td>111</td></tr>",
                            "<tr><td>Arkansas</td><td>Billing Question</td><td>152</td></tr>",
                            "<tr><td>Arkansas</td><td>Payments</td><td>29</td></tr>",
                            "<tr><td>Arkansas</td><td>Service Outage</td><td>23</td></tr>",
                            "<tr><td>California</td><td>Billing Question</td><td>2588</td></tr>",
                            "<tr><td>California</td><td>Payments</td><td>501</td></tr>",
                            "<tr><td>California</td><td>Service Outage</td><td>542</td></tr>",
                            "<tr><td>Colorado</td><td>Billing Question</td><td>516</td></tr>",
                            "<tr><td>Colorado</td><td>Payments</td><td>132</td></tr>",
                            "<tr><td>Colorado</td><td>Service Outage</td><td>94</td></tr>",
                            "<tr><td>Connecticut</td><td>Billing Question</td><td>275</td></tr>",
                            "<tr><td>Connecticut</td><td>Payments</td><td>69</td></tr>",
                            "<tr><td>Connecticut</td><td>Service Outage</td><td>64</td></tr>",
                            "<tr><td>Delaware</td><td>Billing Question</td><td>90</td></tr>",
                            "<tr><td>Delaware</td><td>Payments</td><td>22</td></tr>",
                            "<tr><td>Delaware</td><td>Service Outage</td><td>16</td></tr>",
                            "<tr><td>District of Columbia</td><td>Billing Question</td><td>806</td></tr>",
                            "<tr><td>District of Columbia</td><td>Payments</td><td>164</td></tr>",
                            "<tr><td>District of Columbia</td><td>Service Outage</td><td>140</td></tr>",
                            "<tr><td>Florida</td><td>Billing Question</td><td>2015</td></tr>",
                            "<tr><td>Florida</td><td>Payments</td><td>418</td></tr>",
                            "<tr><td>Florida</td><td>Service Outage</td><td>401</td></tr>",
                            "<tr><td>Georgia</td><td>Billing Question</td><td>653</td></tr>",
                            "<tr><td>Georgia</td><td>Payments</td><td>132</td></tr>",
                            "<tr><td>Georgia</td><td>Service Outage</td><td>141</td></tr>",
                            "<tr><td>Hawaii</td><td>Billing Question</td><td>107</td></tr>",
                            "<tr><td>Hawaii</td><td>Payments</td><td>23</td></tr>",
                            "<tr><td>Hawaii</td><td>Service Outage</td><td>19</td></tr>",
                            "<tr><td>Idaho</td><td>Billing Question</td><td>124</td></tr>",
                            "<tr><td>Idaho</td><td>Payments</td><td>29</td></tr>",
                            "<tr><td>Idaho</td><td>Service Outage</td><td>21</td></tr>",
                            "<tr><td>Illinois</td><td>Billing Question</td><td>568</td></tr>",
                            "<tr><td>Illinois</td><td>Payments</td><td>151</td></tr>",
                            "<tr><td>Illinois</td><td>Service Outage</td><td>129</td></tr>",
                            "<tr><td>Indiana</td><td>Billing Question</td><td>517</td></tr>",
                            "<tr><td>Indiana</td><td>Payments</td><td>115</td></tr>",
                            "<tr><td>Indiana</td><td>Service Outage</td><td>104</td></tr>",
                            "<tr><td>Iowa</td><td>Billing Question</td><td>262</td></tr>",
                            "<tr><td>Iowa</td><td>Payments</td><td>54</td></tr>",
                            "<tr><td>Iowa</td><td>Service Outage</td><td>50</td></tr>",
                            "<tr><td>Kansas</td><td>Billing Question</td><td>331</td></tr>",
                            "<tr><td>Kansas</td><td>Payments</td><td>68</td></tr>",
                            "<tr><td>Kansas</td><td>Service Outage</td><td>68</td></tr>",
                            "<tr><td>Kentucky</td><td>Billing Question</td><td>296</td></tr>",
                            "<tr><td>Kentucky</td><td>Payments</td><td>65</td></tr>",
                            "<tr><td>Kentucky</td><td>Service Outage</td><td>50</td></tr>",
                            "<tr><td>Louisiana</td><td>Billing Question</td><td>460</td></tr>",
                            "<tr><td>Louisiana</td><td>Payments</td><td>83</td></tr>",
                            "<tr><td>Louisiana</td><td>Service Outage</td><td>84</td></tr>",
                            "<tr><td>Maine</td><td>Billing Question</td><td>12</td></tr>",
                            "<tr><td>Maine</td><td>Payments</td><td>3</td></tr>",
                            "<tr><td>Maine</td><td>Service Outage</td><td>1</td></tr>",
                            "<tr><td>Maryland</td><td>Billing Question</td><td>303</td></tr>",
                            "<tr><td>Maryland</td><td>Payments</td><td>45</td></tr>",
                            "<tr><td>Maryland</td><td>Service Outage</td><td>67</td></tr>",
                            "<tr><td>Massachusetts</td><td>Billing Question</td><td>356</td></tr>",
                            "<tr><td>Massachusetts</td><td>Payments</td><td>67</td></tr>",
                            "<tr><td>Massachusetts</td><td>Service Outage</td><td>70</td></tr>",
                            "<tr><td>Michigan</td><td>Billing Question</td><td>455</td></tr>",
                            "<tr><td>Michigan</td><td>Payments</td><td>66</td></tr>",
                            "<tr><td>Michigan</td><td>Service Outage</td><td>91</td></tr>",
                            "<tr><td>Minnesota</td><td>Billing Question</td><td>502</td></tr>",
                            "<tr><td>Minnesota</td><td>Payments</td><td>104</td></tr>",
                            "<tr><td>Minnesota</td><td>Service Outage</td><td>106</td></tr>",
                            "<tr><td>Mississippi</td><td>Billing Question</td><td>129</td></tr>",
                            "<tr><td>Mississippi</td><td>Payments</td><td>33</td></tr>",
                            "<tr><td>Mississippi</td><td>Service Outage</td><td>16</td></tr>",
                            "<tr><td>Missouri</td><td>Billing Question</td><td>492</td></tr>",
                            "<tr><td>Missouri</td><td>Payments</td><td>97</td></tr>",
                            "<tr><td>Missouri</td><td>Service Outage</td><td>93</td></tr>",
                            "<tr><td>Montana</td><td>Billing Question</td><td>73</td></tr>",
                            "<tr><td>Montana</td><td>Payments</td><td>9</td></tr>",
                            "<tr><td>Montana</td><td>Service Outage</td><td>12</td></tr>",
                            "<tr><td>Nebraska</td><td>Billing Question</td><td>175</td></tr>",
                            "<tr><td>Nebraska</td><td>Payments</td><td>40</td></tr>",
                            "<tr><td>Nebraska</td><td>Service Outage</td><td>28</td></tr>",
                            "<tr><td>Nevada</td><td>Billing Question</td><td>343</td></tr>",
                            "<tr><td>Nevada</td><td>Payments</td><td>46</td></tr>",
                            "<tr><td>Nevada</td><td>Service Outage</td><td>70</td></tr>",
                            "<tr><td>New Hampshire</td><td>Billing Question</td><td>37</td></tr>",
                            "<tr><td>New Hampshire</td><td>Payments</td><td>5</td></tr>",
                            "<tr><td>New Hampshire</td><td>Service Outage</td><td>9</td></tr>",
                            "<tr><td>New Jersey</td><td>Billing Question</td><td>211</td></tr>",
                            "<tr><td>New Jersey</td><td>Payments</td><td>49</td></tr>",
                            "<tr><td>New Jersey</td><td>Service Outage</td><td>57</td></tr>",
                            "<tr><td>New Mexico</td><td>Billing Question</td><td>158</td></tr>",
                            "<tr><td>New Mexico</td><td>Payments</td><td>25</td></tr>",
                            "<tr><td>New Mexico</td><td>Service Outage</td><td>29</td></tr>",
                            "<tr><td>New York</td><td>Billing Question</td><td>1267</td></tr>",
                            "<tr><td>New York</td><td>Payments</td><td>267</td></tr>",
                            "<tr><td>New York</td><td>Service Outage</td><td>252</td></tr>",
                            "<tr><td>North Carolina</td><td>Billing Question</td><td>559</td></tr>",
                            "<tr><td>North Carolina</td><td>Payments</td><td>111</td></tr>",
                            "<tr><td>North Carolina</td><td>Service Outage</td><td>95</td></tr>",
                            "<tr><td>North Dakota</td><td>Billing Question</td><td>60</td></tr>",
                            "<tr><td>North Dakota</td><td>Payments</td><td>7</td></tr>",
                            "<tr><td>North Dakota</td><td>Service Outage</td><td>9</td></tr>",
                            "<tr><td>Ohio</td><td>Billing Question</td><td>819</td></tr>",
                            "<tr><td>Ohio</td><td>Payments</td><td>166</td></tr>",
                            "<tr><td>Ohio</td><td>Service Outage</td><td>175</td></tr>",
                            "<tr><td>Oklahoma</td><td>Billing Question</td><td>382</td></tr>",
                            "<tr><td>Oklahoma</td><td>Payments</td><td>77</td></tr>",
                            "<tr><td>Oklahoma</td><td>Service Outage</td><td>79</td></tr>",
                            "<tr><td>Oregon</td><td>Billing Question</td><td>186</td></tr>",
                            "<tr><td>Oregon</td><td>Payments</td><td>34</td></tr>",
                            "<tr><td>Oregon</td><td>Service Outage</td><td>41</td></tr>",
                            "<tr><td>Pennsylvania</td><td>Billing Question</td><td>701</td></tr>",
                            "<tr><td>Pennsylvania</td><td>Payments</td><td>150</td></tr>",
                            "<tr><td>Pennsylvania</td><td>Service Outage</td><td>166</td></tr>",
                            "<tr><td>Rhode Island</td><td>Billing Question</td><td>27</td></tr>",
                            "<tr><td>Rhode Island</td><td>Payments</td><td>6</td></tr>",
                            "<tr><td>Rhode Island</td><td>Service Outage</td><td>2</td></tr>",
                            "<tr><td>South Carolina</td><td>Billing Question</td><td>225</td></tr>",
                            "<tr><td>South Carolina</td><td>Payments</td><td>40</td></tr>",
                            "<tr><td>South Carolina</td><td>Service Outage</td><td>50</td></tr>",
                            "<tr><td>South Dakota</td><td>Billing Question</td><td>61</td></tr>",
                            "<tr><td>South Dakota</td><td>Payments</td><td>18</td></tr>",
                            "<tr><td>South Dakota</td><td>Service Outage</td><td>14</td></tr>",
                            "<tr><td>Tennessee</td><td>Billing Question</td><td>478</td></tr>",
                            "<tr><td>Tennessee</td><td>Payments</td><td>93</td></tr>",
                            "<tr><td>Tennessee</td><td>Service Outage</td><td>93</td></tr>",
                            "<tr><td>Texas</td><td>Billing Question</td><td>2551</td></tr>",
                            "<tr><td>Texas</td><td>Payments</td><td>507</td></tr>",
                            "<tr><td>Texas</td><td>Service Outage</td><td>514</td></tr>",
                            "<tr><td>Utah</td><td>Billing Question</td><td>205</td></tr>",
                            "<tr><td>Utah</td><td>Payments</td><td>46</td></tr>",
                            "<tr><td>Utah</td><td>Service Outage</td><td>47</td></tr>",
                            "<tr><td>Vermont</td><td>Billing Question</td><td>10</td></tr>",
                            "<tr><td>Vermont</td><td>Payments</td><td>3</td></tr>",
                            "<tr><td>Vermont</td><td>Service Outage</td><td>1</td></tr>",
                            "<tr><td>Virginia</td><td>Billing Question</td><td>854</td></tr>",
                            "<tr><td>Virginia</td><td>Payments</td><td>150</td></tr>",
                            "<tr><td>Virginia</td><td>Service Outage</td><td>160</td></tr>",
                            "<tr><td>Washington</td><td>Billing Question</td><td>480</td></tr>",
                            "<tr><td>Washington</td><td>Payments</td><td>83</td></tr>",
                            "<tr><td>Washington</td><td>Service Outage</td><td>100</td></tr>",
                            "<tr><td>West Virginia</td><td>Billing Question</td><td>197</td></tr>",
                            "<tr><td>West Virginia</td><td>Payments</td><td>45</td></tr>",
                            "<tr><td>West Virginia</td><td>Service Outage</td><td>59</td></tr>",
                            "<tr><td>Wisconsin</td><td>Billing Question</td><td>250</td></tr>",
                            "<tr><td>Wisconsin</td><td>Payments</td><td>49</td></tr>",
                            "<tr><td>Wisconsin</td><td>Service Outage</td><td>43</td></tr>",
                            "<tr><td>Wyoming</td><td>Billing Question</td><td>6</td></tr>",
                            "<tr><td>Wyoming</td><td>Payments</td><td>4</td></tr>",
                            "<tr><td>Wyoming</td><td>Service Outage</td><td>1</td></tr>",
                            "</table>"
                        ]
                    }
                }
            ],
            "execution_count": 55
        },
        {
            "cell_type": "code",
            "source": [
                "SELECT state, COUNT(*) as 'Number of Calls'\r\n",
                "FROM CallCenter \r\n",
                "GROUP BY state \r\n",
                "ORDER BY 2 DESC;\r\n",
                ""
            ],
            "metadata": {
                "azdata_cell_guid": "104dda56-d7e5-43e2-a448-c5ad0c0fbc25",
                "language": "sql"
            },
            "outputs": [
                {
                    "output_type": "display_data",
                    "data": {
                        "text/html": "(51 rows affected)"
                    },
                    "metadata": {}
                },
                {
                    "output_type": "display_data",
                    "data": {
                        "text/html": "Total execution time: 00:00:00.025"
                    },
                    "metadata": {}
                },
                {
                    "output_type": "execute_result",
                    "metadata": {},
                    "execution_count": 58,
                    "data": {
                        "application/vnd.dataresource+json": {
                            "schema": {
                                "fields": [
                                    {
                                        "name": "state"
                                    },
                                    {
                                        "name": "Number of Calls"
                                    }
                                ]
                            },
                            "data": [
                                {
                                    "state": "California",
                                    "Number of Calls": "3631"
                                },
                                {
                                    "state": "Texas",
                                    "Number of Calls": "3572"
                                },
                                {
                                    "state": "Florida",
                                    "Number of Calls": "2834"
                                },
                                {
                                    "state": "New York",
                                    "Number of Calls": "1786"
                                },
                                {
                                    "state": "Virginia",
                                    "Number of Calls": "1164"
                                },
                                {
                                    "state": "Ohio",
                                    "Number of Calls": "1160"
                                },
                                {
                                    "state": "District of Columbia",
                                    "Number of Calls": "1110"
                                },
                                {
                                    "state": "Pennsylvania",
                                    "Number of Calls": "1017"
                                },
                                {
                                    "state": "Georgia",
                                    "Number of Calls": "926"
                                },
                                {
                                    "state": "Illinois",
                                    "Number of Calls": "848"
                                },
                                {
                                    "state": "North Carolina",
                                    "Number of Calls": "765"
                                },
                                {
                                    "state": "Colorado",
                                    "Number of Calls": "742"
                                },
                                {
                                    "state": "Alabama",
                                    "Number of Calls": "738"
                                },
                                {
                                    "state": "Arizona",
                                    "Number of Calls": "737"
                                },
                                {
                                    "state": "Indiana",
                                    "Number of Calls": "736"
                                },
                                {
                                    "state": "Minnesota",
                                    "Number of Calls": "712"
                                },
                                {
                                    "state": "Missouri",
                                    "Number of Calls": "682"
                                },
                                {
                                    "state": "Tennessee",
                                    "Number of Calls": "664"
                                },
                                {
                                    "state": "Washington",
                                    "Number of Calls": "663"
                                },
                                {
                                    "state": "Louisiana",
                                    "Number of Calls": "627"
                                },
                                {
                                    "state": "Michigan",
                                    "Number of Calls": "612"
                                },
                                {
                                    "state": "Oklahoma",
                                    "Number of Calls": "538"
                                },
                                {
                                    "state": "Massachusetts",
                                    "Number of Calls": "493"
                                },
                                {
                                    "state": "Kansas",
                                    "Number of Calls": "467"
                                },
                                {
                                    "state": "Nevada",
                                    "Number of Calls": "459"
                                },
                                {
                                    "state": "Maryland",
                                    "Number of Calls": "415"
                                },
                                {
                                    "state": "Kentucky",
                                    "Number of Calls": "411"
                                },
                                {
                                    "state": "Connecticut",
                                    "Number of Calls": "408"
                                },
                                {
                                    "state": "Iowa",
                                    "Number of Calls": "366"
                                },
                                {
                                    "state": "Wisconsin",
                                    "Number of Calls": "342"
                                },
                                {
                                    "state": "New Jersey",
                                    "Number of Calls": "317"
                                },
                                {
                                    "state": "South Carolina",
                                    "Number of Calls": "315"
                                },
                                {
                                    "state": "West Virginia",
                                    "Number of Calls": "301"
                                },
                                {
                                    "state": "Utah",
                                    "Number of Calls": "298"
                                },
                                {
                                    "state": "Oregon",
                                    "Number of Calls": "261"
                                },
                                {
                                    "state": "Nebraska",
                                    "Number of Calls": "243"
                                },
                                {
                                    "state": "New Mexico",
                                    "Number of Calls": "212"
                                },
                                {
                                    "state": "Arkansas",
                                    "Number of Calls": "204"
                                },
                                {
                                    "state": "Mississippi",
                                    "Number of Calls": "178"
                                },
                                {
                                    "state": "Idaho",
                                    "Number of Calls": "174"
                                },
                                {
                                    "state": "Hawaii",
                                    "Number of Calls": "149"
                                },
                                {
                                    "state": "Alaska",
                                    "Number of Calls": "146"
                                },
                                {
                                    "state": "Delaware",
                                    "Number of Calls": "128"
                                },
                                {
                                    "state": "Montana",
                                    "Number of Calls": "94"
                                },
                                {
                                    "state": "South Dakota",
                                    "Number of Calls": "93"
                                },
                                {
                                    "state": "North Dakota",
                                    "Number of Calls": "76"
                                },
                                {
                                    "state": "New Hampshire",
                                    "Number of Calls": "51"
                                },
                                {
                                    "state": "Rhode Island",
                                    "Number of Calls": "35"
                                },
                                {
                                    "state": "Maine",
                                    "Number of Calls": "16"
                                },
                                {
                                    "state": "Vermont",
                                    "Number of Calls": "14"
                                },
                                {
                                    "state": "Wyoming",
                                    "Number of Calls": "11"
                                }
                            ]
                        },
                        "text/html": [
                            "<table>",
                            "<tr><th>state</th><th>Number of Calls</th></tr>",
                            "<tr><td>California</td><td>3631</td></tr>",
                            "<tr><td>Texas</td><td>3572</td></tr>",
                            "<tr><td>Florida</td><td>2834</td></tr>",
                            "<tr><td>New York</td><td>1786</td></tr>",
                            "<tr><td>Virginia</td><td>1164</td></tr>",
                            "<tr><td>Ohio</td><td>1160</td></tr>",
                            "<tr><td>District of Columbia</td><td>1110</td></tr>",
                            "<tr><td>Pennsylvania</td><td>1017</td></tr>",
                            "<tr><td>Georgia</td><td>926</td></tr>",
                            "<tr><td>Illinois</td><td>848</td></tr>",
                            "<tr><td>North Carolina</td><td>765</td></tr>",
                            "<tr><td>Colorado</td><td>742</td></tr>",
                            "<tr><td>Alabama</td><td>738</td></tr>",
                            "<tr><td>Arizona</td><td>737</td></tr>",
                            "<tr><td>Indiana</td><td>736</td></tr>",
                            "<tr><td>Minnesota</td><td>712</td></tr>",
                            "<tr><td>Missouri</td><td>682</td></tr>",
                            "<tr><td>Tennessee</td><td>664</td></tr>",
                            "<tr><td>Washington</td><td>663</td></tr>",
                            "<tr><td>Louisiana</td><td>627</td></tr>",
                            "<tr><td>Michigan</td><td>612</td></tr>",
                            "<tr><td>Oklahoma</td><td>538</td></tr>",
                            "<tr><td>Massachusetts</td><td>493</td></tr>",
                            "<tr><td>Kansas</td><td>467</td></tr>",
                            "<tr><td>Nevada</td><td>459</td></tr>",
                            "<tr><td>Maryland</td><td>415</td></tr>",
                            "<tr><td>Kentucky</td><td>411</td></tr>",
                            "<tr><td>Connecticut</td><td>408</td></tr>",
                            "<tr><td>Iowa</td><td>366</td></tr>",
                            "<tr><td>Wisconsin</td><td>342</td></tr>",
                            "<tr><td>New Jersey</td><td>317</td></tr>",
                            "<tr><td>South Carolina</td><td>315</td></tr>",
                            "<tr><td>West Virginia</td><td>301</td></tr>",
                            "<tr><td>Utah</td><td>298</td></tr>",
                            "<tr><td>Oregon</td><td>261</td></tr>",
                            "<tr><td>Nebraska</td><td>243</td></tr>",
                            "<tr><td>New Mexico</td><td>212</td></tr>",
                            "<tr><td>Arkansas</td><td>204</td></tr>",
                            "<tr><td>Mississippi</td><td>178</td></tr>",
                            "<tr><td>Idaho</td><td>174</td></tr>",
                            "<tr><td>Hawaii</td><td>149</td></tr>",
                            "<tr><td>Alaska</td><td>146</td></tr>",
                            "<tr><td>Delaware</td><td>128</td></tr>",
                            "<tr><td>Montana</td><td>94</td></tr>",
                            "<tr><td>South Dakota</td><td>93</td></tr>",
                            "<tr><td>North Dakota</td><td>76</td></tr>",
                            "<tr><td>New Hampshire</td><td>51</td></tr>",
                            "<tr><td>Rhode Island</td><td>35</td></tr>",
                            "<tr><td>Maine</td><td>16</td></tr>",
                            "<tr><td>Vermont</td><td>14</td></tr>",
                            "<tr><td>Wyoming</td><td>11</td></tr>",
                            "</table>"
                        ]
                    }
                }
            ],
            "execution_count": 58
        }
    ]
}